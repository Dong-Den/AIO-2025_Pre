





<!DOCTYPE html>
<html
  lang="en"
  
  data-color-mode="auto" data-light-theme="light" data-dark-theme="dark"
  data-a11y-animated-images="system" data-a11y-link-underlines="true"
  
  >



  <head>
    <meta charset="utf-8">
  <link rel="dns-prefetch" href="https://github.githubassets.com">
  <link rel="dns-prefetch" href="https://avatars.githubusercontent.com">
  <link rel="dns-prefetch" href="https://github-cloud.s3.amazonaws.com">
  <link rel="dns-prefetch" href="https://user-images.githubusercontent.com/">
  <link rel="preconnect" href="https://github.githubassets.com" crossorigin>
  <link rel="preconnect" href="https://avatars.githubusercontent.com">

  


  <link crossorigin="anonymous" media="all" rel="stylesheet" href="https://github.githubassets.com/assets/light-c59dc71e3a4c.css" /><link crossorigin="anonymous" media="all" rel="stylesheet" href="https://github.githubassets.com/assets/dark-89751e879f8b.css" /><link data-color-theme="light_high_contrast" crossorigin="anonymous" media="all" rel="stylesheet" data-href="https://github.githubassets.com/assets/light_high_contrast-4bf0cb726930.css" /><link data-color-theme="light_colorblind" crossorigin="anonymous" media="all" rel="stylesheet" data-href="https://github.githubassets.com/assets/light_colorblind-6060e905eb78.css" /><link data-color-theme="light_colorblind_high_contrast" crossorigin="anonymous" media="all" rel="stylesheet" data-href="https://github.githubassets.com/assets/light_colorblind_high_contrast-04e818620b9c.css" /><link data-color-theme="light_tritanopia" crossorigin="anonymous" media="all" rel="stylesheet" data-href="https://github.githubassets.com/assets/light_tritanopia-ae65df249e0f.css" /><link data-color-theme="light_tritanopia_high_contrast" crossorigin="anonymous" media="all" rel="stylesheet" data-href="https://github.githubassets.com/assets/light_tritanopia_high_contrast-fdadc12a1ec2.css" /><link data-color-theme="dark_high_contrast" crossorigin="anonymous" media="all" rel="stylesheet" data-href="https://github.githubassets.com/assets/dark_high_contrast-67c7180a598a.css" /><link data-color-theme="dark_colorblind" crossorigin="anonymous" media="all" rel="stylesheet" data-href="https://github.githubassets.com/assets/dark_colorblind-4277e18a7c75.css" /><link data-color-theme="dark_colorblind_high_contrast" crossorigin="anonymous" media="all" rel="stylesheet" data-href="https://github.githubassets.com/assets/dark_colorblind_high_contrast-2e33ed61bc8c.css" /><link data-color-theme="dark_tritanopia" crossorigin="anonymous" media="all" rel="stylesheet" data-href="https://github.githubassets.com/assets/dark_tritanopia-48d44d87614d.css" /><link data-color-theme="dark_tritanopia_high_contrast" crossorigin="anonymous" media="all" rel="stylesheet" data-href="https://github.githubassets.com/assets/dark_tritanopia_high_contrast-6adcb5080302.css" /><link data-color-theme="dark_dimmed" crossorigin="anonymous" media="all" rel="stylesheet" data-href="https://github.githubassets.com/assets/dark_dimmed-250cee4c1ea8.css" /><link data-color-theme="dark_dimmed_high_contrast" crossorigin="anonymous" media="all" rel="stylesheet" data-href="https://github.githubassets.com/assets/dark_dimmed_high_contrast-e3802beb8c06.css" />

    <link crossorigin="anonymous" media="all" rel="stylesheet" href="https://github.githubassets.com/assets/primer-primitives-225433424a87.css" />
    <link crossorigin="anonymous" media="all" rel="stylesheet" href="https://github.githubassets.com/assets/primer-b8b91660c29d.css" />
    <link crossorigin="anonymous" media="all" rel="stylesheet" href="https://github.githubassets.com/assets/global-86fb66cfa45a.css" />
    <link crossorigin="anonymous" media="all" rel="stylesheet" href="https://github.githubassets.com/assets/github-685f3d1c0424.css" />
  <link crossorigin="anonymous" media="all" rel="stylesheet" href="https://github.githubassets.com/assets/repository-197a21528ff0.css" />
<link crossorigin="anonymous" media="all" rel="stylesheet" href="https://github.githubassets.com/assets/code-177d21388df8.css" />

  


  <script type="application/json" id="client-env">{"locale":"en","featureFlags":["alternate_user_config_repo","api_insights_show_missing_data_banner","billing_sku_level_budgets","client_version_header","codespaces_prebuild_region_target_update","contentful_lp_flex_features_actions","contentful_lp_flex_features_code_review","contentful_lp_flex_features_code_search","contentful_lp_flex_features_codespaces","contentful_lp_flex_features_discussions","contentful_lp_flex_features_issues","contentful_lp_footnotes","copilot_chat_attach_images","copilot_chat_attach_multiple_images","copilot_chat_attachments","copilot_chat_custom_instructions","copilot_chat_opening_thread_switch","copilot_chat_repo_custom_instructions_preview","copilot_chat_vision_in_claude","copilot_chat_wholearea_dd","copilot_custom_copilots_org_owned","copilot_custom_copilots_redesign","copilot_custom_copilots_starred","copilot_custom_copilots_visibility","copilot_dotcom_chat_file_upload","copilot_duplicate_thread","copilot_free_to_paid_telem","copilot_header_button_to_immersive","copilot_immersive_draft_issue_metadata_location","copilot_immersive_draft_issue_template_picker","copilot_immersive_draft_issue_template_required","copilot_immersive_issue_preview","copilot_new_immersive_references_ui","copilot_no_floating_button","copilot_read_shared_conversation","copilot_share_active_subthread","copilot_share_forbidden_error","copilot_showcase_icebreakers","copilot_task_oriented_assistive_prompts","copilot_topics_as_references","copilot_ui_refs","direct_to_salesforce","dotcom_chat_client_side_skills","ghost_pilot_confidence_truncation_25","ghost_pilot_confidence_truncation_40","insert_before_patch","issues_dashboard_increased_filter_options","issues_dashboard_no_redirects","issues_react_blur_item_picker_on_close","issues_react_create_milestone","issues_react_include_bots_in_pickers","issues_react_prohibit_title_fallback","issues_react_remove_placeholders","issues_react_use_new_milestone_connection_wrapper","lifecycle_label_name_updates","link_contact_sales_swp_marketo","marketing_pages_search_explore_provider","memex_mwl_filter_field_delimiter","memex_roadmap_drag_style","nonreporting_relay_graphql_status_codes","primer_react_css_modules_ga","primer_react_select_panel_with_modern_action_list","remove_child_patch","repository_suggester_elastic_search","sample_network_conn_type","send_app_type_header","site_msbuild_hide_integrations","site_msbuild_launch","site_msbuild_webgl_hero","swp_enterprise_contact_form","use_copilot_avatar","use_paginated_org_picker_cost_center_form","use_paginated_repo_picker_cost_center_form","viewscreen_sandbox"],"login":"Dong-Den"}</script>
<script crossorigin="anonymous" defer="defer" type="application/javascript" src="https://github.githubassets.com/assets/wp-runtime-3a044cc28b71.js"></script>
<script crossorigin="anonymous" defer="defer" type="application/javascript" src="https://github.githubassets.com/assets/vendors-node_modules_oddbird_popover-polyfill_dist_popover-fn_js-81211bd82278.js"></script>
<script crossorigin="anonymous" defer="defer" type="application/javascript" src="https://github.githubassets.com/assets/vendors-node_modules_github_mini-throttle_dist_index_js-node_modules_stacktrace-parser_dist_s-1d3d52-4be8ffe9a34a.js"></script>
<script crossorigin="anonymous" defer="defer" type="application/javascript" src="https://github.githubassets.com/assets/ui_packages_failbot_failbot_ts-3f3eb0fe798c.js"></script>
<script crossorigin="anonymous" defer="defer" type="application/javascript" src="https://github.githubassets.com/assets/environment-d607485791a5.js"></script>
<script crossorigin="anonymous" defer="defer" type="application/javascript" src="https://github.githubassets.com/assets/vendors-node_modules_primer_behaviors_dist_esm_index_mjs-0dbb79f97f8f.js"></script>
<script crossorigin="anonymous" defer="defer" type="application/javascript" src="https://github.githubassets.com/assets/vendors-node_modules_github_selector-observer_dist_index_esm_js-f690fd9ae3d5.js"></script>
<script crossorigin="anonymous" defer="defer" type="application/javascript" src="https://github.githubassets.com/assets/vendors-node_modules_github_relative-time-element_dist_index_js-fd884d19bf73.js"></script>
<script crossorigin="anonymous" defer="defer" type="application/javascript" src="https://github.githubassets.com/assets/vendors-node_modules_github_text-expander-element_dist_index_js-b4ed7224d804.js"></script>
<script crossorigin="anonymous" defer="defer" type="application/javascript" src="https://github.githubassets.com/assets/vendors-node_modules_github_auto-complete-element_dist_index_js-node_modules_github_catalyst_-8e9f78-a90ac05d2469.js"></script>
<script crossorigin="anonymous" defer="defer" type="application/javascript" src="https://github.githubassets.com/assets/vendors-node_modules_github_filter-input-element_dist_index_js-node_modules_github_remote-inp-d8c643-f5192902810f.js"></script>
<script crossorigin="anonymous" defer="defer" type="application/javascript" src="https://github.githubassets.com/assets/vendors-node_modules_github_markdown-toolbar-element_dist_index_js-ceef33f593fa.js"></script>
<script crossorigin="anonymous" defer="defer" type="application/javascript" src="https://github.githubassets.com/assets/vendors-node_modules_github_mini-throttle_dist_index_js-node_modules_github_combobox-nav_dist-97536f-0a0158d4c78e.js"></script>
<script crossorigin="anonymous" defer="defer" type="application/javascript" src="https://github.githubassets.com/assets/vendors-node_modules_github_file-attachment-element_dist_index_js-node_modules_primer_view-co-63644b-8389d8c5493d.js"></script>
<script crossorigin="anonymous" defer="defer" type="application/javascript" src="https://github.githubassets.com/assets/github-elements-2c6b561fd398.js"></script>
<script crossorigin="anonymous" defer="defer" type="application/javascript" src="https://github.githubassets.com/assets/element-registry-759bd527e556.js"></script>
<script crossorigin="anonymous" defer="defer" type="application/javascript" src="https://github.githubassets.com/assets/vendors-node_modules_braintree_browser-detection_dist_browser-detection_js-node_modules_githu-bb80ec-72267f4e3ff9.js"></script>
<script crossorigin="anonymous" defer="defer" type="application/javascript" src="https://github.githubassets.com/assets/vendors-node_modules_lit-html_lit-html_js-be8cb88f481b.js"></script>
<script crossorigin="anonymous" defer="defer" type="application/javascript" src="https://github.githubassets.com/assets/vendors-node_modules_morphdom_dist_morphdom-esm_js-0c08218c7d5f.js"></script>
<script crossorigin="anonymous" defer="defer" type="application/javascript" src="https://github.githubassets.com/assets/vendors-node_modules_fzy_js_index_js-node_modules_github_paste-markdown_dist_index_js-6c00013a3dc4.js"></script>
<script crossorigin="anonymous" defer="defer" type="application/javascript" src="https://github.githubassets.com/assets/vendors-node_modules_github_turbo_dist_turbo_es2017-esm_js-a03ee12d659a.js"></script>
<script crossorigin="anonymous" defer="defer" type="application/javascript" src="https://github.githubassets.com/assets/vendors-node_modules_github_remote-form_dist_index_js-node_modules_delegated-events_dist_inde-893f9f-b6294cf703b7.js"></script>
<script crossorigin="anonymous" defer="defer" type="application/javascript" src="https://github.githubassets.com/assets/vendors-node_modules_color-convert_index_js-e3180fe3bcb3.js"></script>
<script crossorigin="anonymous" defer="defer" type="application/javascript" src="https://github.githubassets.com/assets/vendors-node_modules_github_quote-selection_dist_index_js-node_modules_github_session-resume_-c1aa61-97c8ff49bc41.js"></script>
<script crossorigin="anonymous" defer="defer" type="application/javascript" src="https://github.githubassets.com/assets/ui_packages_updatable-content_updatable-content_ts-f4e60782b52d.js"></script>
<script crossorigin="anonymous" defer="defer" type="application/javascript" src="https://github.githubassets.com/assets/app_assets_modules_github_behaviors_task-list_ts-app_assets_modules_github_sso_ts-ui_packages-900dde-c84fbefd392e.js"></script>
<script crossorigin="anonymous" defer="defer" type="application/javascript" src="https://github.githubassets.com/assets/app_assets_modules_github_sticky-scroll-into-view_ts-3e000c5d31a9.js"></script>
<script crossorigin="anonymous" defer="defer" type="application/javascript" src="https://github.githubassets.com/assets/app_assets_modules_github_behaviors_ajax-error_ts-app_assets_modules_github_behaviors_include-d0d0a6-9dc4ed803189.js"></script>
<script crossorigin="anonymous" defer="defer" type="application/javascript" src="https://github.githubassets.com/assets/app_assets_modules_github_behaviors_commenting_edit_ts-app_assets_modules_github_behaviors_ht-83c235-ce8979e4f922.js"></script>
<script crossorigin="anonymous" defer="defer" type="application/javascript" src="https://github.githubassets.com/assets/behaviors-a4b59f1126fc.js"></script>
<script crossorigin="anonymous" defer="defer" type="application/javascript" src="https://github.githubassets.com/assets/vendors-node_modules_delegated-events_dist_index_js-node_modules_github_catalyst_lib_index_js-ea8eaa-ae0dbe787ad8.js"></script>
<script crossorigin="anonymous" defer="defer" type="application/javascript" src="https://github.githubassets.com/assets/notifications-global-7f3748c0d76b.js"></script>
<script crossorigin="anonymous" defer="defer" type="application/javascript" src="https://github.githubassets.com/assets/vendors-node_modules_github_mini-throttle_dist_index_js-node_modules_github_catalyst_lib_inde-dbbea9-4adcaf6c1c40.js"></script>
<script crossorigin="anonymous" defer="defer" type="application/javascript" src="https://github.githubassets.com/assets/code-menu-7cd84ed05e00.js"></script>
  
  <script crossorigin="anonymous" defer="defer" type="application/javascript" src="https://github.githubassets.com/assets/primer-react-93a37a6984ad.js"></script>
<script crossorigin="anonymous" defer="defer" type="application/javascript" src="https://github.githubassets.com/assets/react-core-40a3b44e237d.js"></script>
<script crossorigin="anonymous" defer="defer" type="application/javascript" src="https://github.githubassets.com/assets/react-lib-80430c87778a.js"></script>
<script crossorigin="anonymous" defer="defer" type="application/javascript" src="https://github.githubassets.com/assets/octicons-react-cf2f2ab8dab4.js"></script>
<script crossorigin="anonymous" defer="defer" type="application/javascript" src="https://github.githubassets.com/assets/vendors-node_modules_emotion_is-prop-valid_dist_emotion-is-prop-valid_esm_js-node_modules_emo-b1c483-30bc59af3a76.js"></script>
<script crossorigin="anonymous" defer="defer" type="application/javascript" src="https://github.githubassets.com/assets/vendors-node_modules_github_catalyst_lib_index_js-node_modules_primer_live-region-element_dis-b2aea6-22827f205bdc.js"></script>
<script crossorigin="anonymous" defer="defer" type="application/javascript" src="https://github.githubassets.com/assets/vendors-node_modules_dompurify_dist_purify_es_mjs-dd1d3ea6a436.js"></script>
<script crossorigin="anonymous" defer="defer" type="application/javascript" src="https://github.githubassets.com/assets/vendors-node_modules_lodash-es__Stack_js-node_modules_lodash-es__Uint8Array_js-node_modules_l-4faaa6-4a736fde5c2f.js"></script>
<script crossorigin="anonymous" defer="defer" type="application/javascript" src="https://github.githubassets.com/assets/vendors-node_modules_lodash-es_isEqual_js-92a85ab8c568.js"></script>
<script crossorigin="anonymous" defer="defer" type="application/javascript" src="https://github.githubassets.com/assets/vendors-node_modules_tanstack_react-virtual_dist_esm_index_js-0b672975e32f.js"></script>
<script crossorigin="anonymous" defer="defer" type="application/javascript" src="https://github.githubassets.com/assets/vendors-node_modules_focus-visible_dist_focus-visible_js-node_modules_github_hydro-analytics--425d03-b9853647b422.js"></script>
<script crossorigin="anonymous" defer="defer" type="application/javascript" src="https://github.githubassets.com/assets/vendors-node_modules_fzy_js_index_js-node_modules_react-reverse-portal_dist_web_index_js-node-4477e7-05f372153a84.js"></script>
<script crossorigin="anonymous" defer="defer" type="application/javascript" src="https://github.githubassets.com/assets/ui_packages_document-metadata_document-metadata_ts-ui_packages_history_history_ts-ui_packages-417c81-50b9bb07478c.js"></script>
<script crossorigin="anonymous" defer="defer" type="application/javascript" src="https://github.githubassets.com/assets/ui_packages_paths_index_ts-3838bbeac639.js"></script>
<script crossorigin="anonymous" defer="defer" type="application/javascript" src="https://github.githubassets.com/assets/ui_packages_ref-selector_RefSelector_tsx-de5e05cf88ec.js"></script>
<script crossorigin="anonymous" defer="defer" type="application/javascript" src="https://github.githubassets.com/assets/ui_packages_commit-attribution_index_ts-ui_packages_commit-checks-status_index_ts-ui_packages-762eaa-b9321ed019f0.js"></script>
<script crossorigin="anonymous" defer="defer" type="application/javascript" src="https://github.githubassets.com/assets/ui_packages_app-uuid_app-uuid_ts-ui_packages_repos-file-tree-view_repos-file-tree-view_ts-261272feafb7.js"></script>
<script crossorigin="anonymous" defer="defer" type="application/javascript" src="https://github.githubassets.com/assets/ui_packages_diffs_diff-parts_ts-868394b3d6dc.js"></script>
<script crossorigin="anonymous" defer="defer" type="application/javascript" src="https://github.githubassets.com/assets/ui_packages_hydro-analytics_hydro-analytics_ts-ui_packages_use-client-value_use-client-value_-6f712e-d59b35038b54.js"></script>
<script crossorigin="anonymous" defer="defer" type="application/javascript" src="https://github.githubassets.com/assets/ui_packages_code-view-shared_hooks_use-canonical-object_ts-ui_packages_code-view-shared_hooks-7b64b1-87f7a99810ed.js"></script>
<script crossorigin="anonymous" defer="defer" type="application/javascript" src="https://github.githubassets.com/assets/app_assets_modules_github_blob-anchor_ts-ui_packages_code-nav_code-nav_ts-ui_packages_filter--8253c1-91468a3354f9.js"></script>
<script crossorigin="anonymous" defer="defer" type="application/javascript" src="https://github.githubassets.com/assets/react-code-view-afbfc31cee4d.js"></script>
<link crossorigin="anonymous" media="all" rel="stylesheet" href="https://github.githubassets.com/assets/primer-react.247007205a629ae606a1.module.css" />
<link crossorigin="anonymous" media="all" rel="stylesheet" href="https://github.githubassets.com/assets/react-code-view.dbb65fc03567484939f4.module.css" />


  <title>AIO-2025_Pre/WEEK 16_2025.5.20_KNN_Basic, Advanced Concepts and Its Applications/PRE_WEEK_16_DAY_80_Thuật_Toán_K_Nearest_Neighbors_(KNN)_Nâng_cao.ipynb at main · Dong-Den/AIO-2025_Pre</title>



  <meta name="route-pattern" content="/:user_id/:repository/blob/*name(/*path)" data-turbo-transient>
  <meta name="route-controller" content="blob" data-turbo-transient>
  <meta name="route-action" content="show" data-turbo-transient>
  <meta name="fetch-nonce" content="v2:1f95878f-43c2-9d77-3a54-4860bf2e081a">

    
  <meta name="current-catalog-service-hash" content="f3abb0cc802f3d7b95fc8762b94bdcb13bf39634c40c357301c4aa1d67a256fb">


  <meta name="request-id" content="BD5A:32CCE1:396FC6:47ED4B:683798D2" data-turbo-transient="true" /><meta name="html-safe-nonce" content="1ee0422e5039053a5766f098a4434ffb4e98a0437b5ccc229ae12de0d783d508" data-turbo-transient="true" /><meta name="visitor-payload" content="eyJyZWZlcnJlciI6Imh0dHBzOi8vZ2l0aHViLmNvbS9Eb25nLURlbi9BSU8tMjAyNV9QcmUvdHJlZS9tYWluL1dFRUslMjAxNl8yMDI1LjUuMjBfS05OX0Jhc2ljJTJDJTIwQWR2YW5jZWQlMjBDb25jZXB0cyUyMGFuZCUyMEl0cyUyMEFwcGxpY2F0aW9ucyIsInJlcXVlc3RfaWQiOiJCRDVBOjMyQ0NFMTozOTZGQzY6NDdFRDRCOjY4Mzc5OEQyIiwidmlzaXRvcl9pZCI6IjU0MDg0NDI0NzQwODIyNzQ4NzciLCJyZWdpb25fZWRnZSI6InNvdXRoZWFzdGFzaWEiLCJyZWdpb25fcmVuZGVyIjoiaWFkIn0=" data-turbo-transient="true" /><meta name="visitor-hmac" content="13f79186e9368d49d65593f73a1c33fe5a9b4493f28f826d7e67389fb90a881f" data-turbo-transient="true" />


    <meta name="hovercard-subject-tag" content="repository:976489619" data-turbo-transient>


  <meta name="github-keyboard-shortcuts" content="repository,source-code,file-tree,copilot" data-turbo-transient="true" />
  

  <meta name="selected-link" value="repo_source" data-turbo-transient>
  <link rel="assets" href="https://github.githubassets.com/">

    <meta name="google-site-verification" content="Apib7-x98H0j5cPqHWwSMm6dNU4GmODRoqxLiDzdx9I">

<meta name="octolytics-url" content="https://collector.github.com/github/collect" /><meta name="octolytics-actor-id" content="193381862" /><meta name="octolytics-actor-login" content="Dong-Den" /><meta name="octolytics-actor-hash" content="8aaa9abcce8887b2d96d24760913625978562b17fbf58d931b3ea2a6a6802bda" />

  <meta name="analytics-location" content="/&lt;user-name&gt;/&lt;repo-name&gt;/blob/show" data-turbo-transient="true" />

  




    <meta name="user-login" content="Dong-Den">

  <link rel="sudo-modal" href="/sessions/sudo_modal">

    <meta name="viewport" content="width=device-width">

    

      <meta name="description" content="Contribute to Dong-Den/AIO-2025_Pre development by creating an account on GitHub.">

      <link rel="search" type="application/opensearchdescription+xml" href="/opensearch.xml" title="GitHub">

    <link rel="fluid-icon" href="https://github.com/fluidicon.png" title="GitHub">
    <meta property="fb:app_id" content="1401488693436528">
    <meta name="apple-itunes-app" content="app-id=1477376905, app-argument=https://github.com/Dong-Den/AIO-2025_Pre/blob/main/WEEK%2016_2025.5.20_KNN_Basic%2C%20Advanced%20Concepts%20and%20Its%20Applications/PRE_WEEK_16_DAY_80_Thu%E1%BA%ADt_To%C3%A1n_K_Nearest_Neighbors_(KNN)_N%C3%A2ng_cao.ipynb" />

      <meta name="twitter:image" content="https://opengraph.githubassets.com/8cc06f6747aaddb4e50a3328b9043a430d342defce46d504fd9003d48f976eb3/Dong-Den/AIO-2025_Pre" /><meta name="twitter:site" content="@github" /><meta name="twitter:card" content="summary_large_image" /><meta name="twitter:title" content="AIO-2025_Pre/WEEK 16_2025.5.20_KNN_Basic, Advanced Concepts and Its Applications/PRE_WEEK_16_DAY_80_Thuật_Toán_K_Nearest_Neighbors_(KNN)_Nâng_cao.ipynb at main · Dong-Den/AIO-2025_Pre" /><meta name="twitter:description" content="Contribute to Dong-Den/AIO-2025_Pre development by creating an account on GitHub." />
  <meta property="og:image" content="https://opengraph.githubassets.com/8cc06f6747aaddb4e50a3328b9043a430d342defce46d504fd9003d48f976eb3/Dong-Den/AIO-2025_Pre" /><meta property="og:image:alt" content="Contribute to Dong-Den/AIO-2025_Pre development by creating an account on GitHub." /><meta property="og:image:width" content="1200" /><meta property="og:image:height" content="600" /><meta property="og:site_name" content="GitHub" /><meta property="og:type" content="object" /><meta property="og:title" content="AIO-2025_Pre/WEEK 16_2025.5.20_KNN_Basic, Advanced Concepts and Its Applications/PRE_WEEK_16_DAY_80_Thuật_Toán_K_Nearest_Neighbors_(KNN)_Nâng_cao.ipynb at main · Dong-Den/AIO-2025_Pre" /><meta property="og:url" content="https://github.com/Dong-Den/AIO-2025_Pre/blob/main/WEEK%2016_2025.5.20_KNN_Basic%2C%20Advanced%20Concepts%20and%20Its%20Applications/PRE_WEEK_16_DAY_80_Thu%E1%BA%ADt_To%C3%A1n_K_Nearest_Neighbors_(KNN)_N%C3%A2ng_cao.ipynb" /><meta property="og:description" content="Contribute to Dong-Den/AIO-2025_Pre development by creating an account on GitHub." />
  


      <link rel="shared-web-socket" href="wss://alive.github.com/_sockets/u/193381862/ws?session=eyJ2IjoiVjMiLCJ1IjoxOTMzODE4NjIsInMiOjE2NTg5OTg3MzEsImMiOjEyOTM1MjA0OTAsInQiOjE3NDg0NzQwNjZ9--0c822b350bb2f2e302f670a23c0711a70d5ff9b9536d28dcb66e8f06f512f397" data-refresh-url="/_alive" data-session-id="7028924f4a6293def217d73941f92d27325b1e723fc3ee3e4b35c092690c9881">
      <link rel="shared-web-socket-src" href="/assets-cdn/worker/socket-worker-eff89a71ae86.js">


      <meta name="hostname" content="github.com">


      <meta name="keyboard-shortcuts-preference" content="all">
      <meta name="hovercards-preference" content="true">
      <meta name="announcement-preference-hovercard" content="true">

        <meta name="expected-hostname" content="github.com">


  <meta http-equiv="x-pjax-version" content="6ffafa4e129620f614b70524b0a7c4666672120865698c910c2eb1c94e6f8a0f" data-turbo-track="reload">
  <meta http-equiv="x-pjax-csp-version" content="352e51c42d5f5727a7c545752bf34d1f83f40219e7036c6959817149a51651bc" data-turbo-track="reload">
  <meta http-equiv="x-pjax-css-version" content="ee84fa10cb7e36cae6e9f53cb342e1b208ed62875f38eb2355b39e91d12812fc" data-turbo-track="reload">
  <meta http-equiv="x-pjax-js-version" content="3d9a4d82a0b3c4909df52d72f9c4b3e6e872b55b63dccd12f2f5ac8dff06ab22" data-turbo-track="reload">

  <meta name="turbo-cache-control" content="no-preview" data-turbo-transient="">

      <meta name="turbo-cache-control" content="no-cache" data-turbo-transient>

    <meta data-hydrostats="publish">
  <meta name="go-import" content="github.com/Dong-Den/AIO-2025_Pre git https://github.com/Dong-Den/AIO-2025_Pre.git">

  <meta name="octolytics-dimension-user_id" content="193381862" /><meta name="octolytics-dimension-user_login" content="Dong-Den" /><meta name="octolytics-dimension-repository_id" content="976489619" /><meta name="octolytics-dimension-repository_nwo" content="Dong-Den/AIO-2025_Pre" /><meta name="octolytics-dimension-repository_public" content="true" /><meta name="octolytics-dimension-repository_is_fork" content="false" /><meta name="octolytics-dimension-repository_network_root_id" content="976489619" /><meta name="octolytics-dimension-repository_network_root_nwo" content="Dong-Den/AIO-2025_Pre" />



    

    <meta name="turbo-body-classes" content="logged-in env-production page-responsive">


  <meta name="browser-stats-url" content="https://api.github.com/_private/browser/stats">

  <meta name="browser-errors-url" content="https://api.github.com/_private/browser/errors">

  <meta name="release" content="8e26a47a0fa95bd072b9e82d3a5fb59cea35807e">

  <link rel="mask-icon" href="https://github.githubassets.com/assets/pinned-octocat-093da3e6fa40.svg" color="#000000">
  <link rel="alternate icon" class="js-site-favicon" type="image/png" href="https://github.githubassets.com/favicons/favicon.png">
  <link rel="icon" class="js-site-favicon" type="image/svg+xml" href="https://github.githubassets.com/favicons/favicon.svg" data-base-href="https://github.githubassets.com/favicons/favicon">

<meta name="theme-color" content="#1e2327">
<meta name="color-scheme" content="light dark" />


  <link rel="manifest" href="/manifest.json" crossOrigin="use-credentials">

  </head>

  <body class="logged-in env-production page-responsive" style="word-wrap: break-word;">
    <div data-turbo-body class="logged-in env-production page-responsive" style="word-wrap: break-word;">
      



    <div class="position-relative header-wrapper js-header-wrapper ">
      <a href="#start-of-content" data-skip-target-assigned="false" class="p-3 color-bg-accent-emphasis color-fg-on-emphasis show-on-focus js-skip-to-content">Skip to content</a>

      <span data-view-component="true" class="progress-pjax-loader Progress position-fixed width-full">
    <span style="width: 0%;" data-view-component="true" class="Progress-item progress-pjax-loader-bar left-0 top-0 color-bg-accent-emphasis"></span>
</span>      
      
      <script crossorigin="anonymous" defer="defer" type="application/javascript" src="https://github.githubassets.com/assets/ui_packages_ui-commands_ui-commands_ts-392f523dd6f6.js"></script>
<script crossorigin="anonymous" defer="defer" type="application/javascript" src="https://github.githubassets.com/assets/keyboard-shortcuts-dialog-481f18f97e80.js"></script>
<link crossorigin="anonymous" media="all" rel="stylesheet" href="https://github.githubassets.com/assets/primer-react.247007205a629ae606a1.module.css" />
<link crossorigin="anonymous" media="all" rel="stylesheet" href="https://github.githubassets.com/assets/keyboard-shortcuts-dialog.47de85e2c17af43cefd5.module.css" />

<react-partial
  partial-name="keyboard-shortcuts-dialog"
  data-ssr="false"
  data-attempted-ssr="false"
>
  
  <script type="application/json" data-target="react-partial.embeddedData">{"props":{"docsUrl":"https://docs.github.com/get-started/accessibility/keyboard-shortcuts"}}</script>
  <div data-target="react-partial.reactRoot"></div>
</react-partial>




      

          

              <header class="AppHeader" role="banner">
  <h2 class="sr-only">Navigation Menu</h2>


    

    <div class="AppHeader-globalBar pb-2 js-global-bar">
      <div class="AppHeader-globalBar-start">
        <div class="">
            <deferred-side-panel data-url="/_side-panels/global">
  <include-fragment data-target="deferred-side-panel.fragment" data-nonce="v2:1f95878f-43c2-9d77-3a54-4860bf2e081a" data-view-component="true">
  
      <button aria-label="Open global navigation menu" data-action="click:deferred-side-panel#loadPanel click:deferred-side-panel#panelOpened" data-show-dialog-id="dialog-1ab1e005-64bb-4015-bd20-f405a1ef4808" id="dialog-show-dialog-1ab1e005-64bb-4015-bd20-f405a1ef4808" type="button" data-view-component="true" class="Button Button--iconOnly Button--secondary Button--medium AppHeader-button p-0 color-fg-muted">  <svg aria-hidden="true" height="16" viewBox="0 0 16 16" version="1.1" width="16" data-view-component="true" class="octicon octicon-three-bars Button-visual">
    <path d="M1 2.75A.75.75 0 0 1 1.75 2h12.5a.75.75 0 0 1 0 1.5H1.75A.75.75 0 0 1 1 2.75Zm0 5A.75.75 0 0 1 1.75 7h12.5a.75.75 0 0 1 0 1.5H1.75A.75.75 0 0 1 1 7.75ZM1.75 12h12.5a.75.75 0 0 1 0 1.5H1.75a.75.75 0 0 1 0-1.5Z"></path>
</svg>
</button>

<dialog-helper>
  <dialog data-target="deferred-side-panel.panel" id="dialog-1ab1e005-64bb-4015-bd20-f405a1ef4808" aria-modal="true" aria-labelledby="dialog-1ab1e005-64bb-4015-bd20-f405a1ef4808-title" aria-describedby="dialog-1ab1e005-64bb-4015-bd20-f405a1ef4808-description" data-view-component="true" class="Overlay Overlay-whenNarrow Overlay--size-small-portrait Overlay--motion-scaleFade Overlay--placement-left SidePanel Overlay--disableScroll">
    <div styles="flex-direction: row;" data-view-component="true" class="Overlay-header">
  <div class="Overlay-headerContentWrap">
    <div class="Overlay-titleWrap">
      <h1 class="Overlay-title sr-only" id="dialog-1ab1e005-64bb-4015-bd20-f405a1ef4808-title">
        Global navigation
      </h1>
            <div data-view-component="true" class="d-flex">
      <div data-view-component="true" class="AppHeader-logo position-relative">
        <svg aria-hidden="true" height="24" viewBox="0 0 24 24" version="1.1" width="24" data-view-component="true" class="octicon octicon-mark-github">
    <path d="M12 1C5.9225 1 1 5.9225 1 12C1 16.8675 4.14875 20.9787 8.52125 22.4362C9.07125 22.5325 9.2775 22.2025 9.2775 21.9137C9.2775 21.6525 9.26375 20.7862 9.26375 19.865C6.5 20.3737 5.785 19.1912 5.565 18.5725C5.44125 18.2562 4.905 17.28 4.4375 17.0187C4.0525 16.8125 3.5025 16.3037 4.42375 16.29C5.29 16.2762 5.90875 17.0875 6.115 17.4175C7.105 19.0812 8.68625 18.6137 9.31875 18.325C9.415 17.61 9.70375 17.1287 10.02 16.8537C7.5725 16.5787 5.015 15.63 5.015 11.4225C5.015 10.2262 5.44125 9.23625 6.1425 8.46625C6.0325 8.19125 5.6475 7.06375 6.2525 5.55125C6.2525 5.55125 7.17375 5.2625 9.2775 6.67875C10.1575 6.43125 11.0925 6.3075 12.0275 6.3075C12.9625 6.3075 13.8975 6.43125 14.7775 6.67875C16.8813 5.24875 17.8025 5.55125 17.8025 5.55125C18.4075 7.06375 18.0225 8.19125 17.9125 8.46625C18.6138 9.23625 19.04 10.2125 19.04 11.4225C19.04 15.6437 16.4688 16.5787 14.0213 16.8537C14.42 17.1975 14.7638 17.8575 14.7638 18.8887C14.7638 20.36 14.75 21.5425 14.75 21.9137C14.75 22.2025 14.9563 22.5462 15.5063 22.4362C19.8513 20.9787 23 16.8537 23 12C23 5.9225 18.0775 1 12 1Z"></path>
</svg>
</div></div>
    </div>
    <div class="Overlay-actionWrap">
      <button data-close-dialog-id="dialog-1ab1e005-64bb-4015-bd20-f405a1ef4808" aria-label="Close" aria-label="Close" type="button" data-view-component="true" class="close-button Overlay-closeButton"><svg aria-hidden="true" height="16" viewBox="0 0 16 16" version="1.1" width="16" data-view-component="true" class="octicon octicon-x">
    <path d="M3.72 3.72a.75.75 0 0 1 1.06 0L8 6.94l3.22-3.22a.749.749 0 0 1 1.275.326.749.749 0 0 1-.215.734L9.06 8l3.22 3.22a.749.749 0 0 1-.326 1.275.749.749 0 0 1-.734-.215L8 9.06l-3.22 3.22a.751.751 0 0 1-1.042-.018.751.751 0 0 1-.018-1.042L6.94 8 3.72 4.78a.75.75 0 0 1 0-1.06Z"></path>
</svg></button>
    </div>
  </div>
  
</div>
      <scrollable-region data-labelled-by="dialog-1ab1e005-64bb-4015-bd20-f405a1ef4808-title">
        <div data-view-component="true" class="Overlay-body d-flex flex-column px-2">    <div data-view-component="true" class="d-flex flex-column mb-3">
        <nav aria-label="Site navigation" data-view-component="true" class="ActionList">
  
  <nav-list>
    <ul data-target="nav-list.topLevelList" data-view-component="true" class="ActionListWrap">
        
          
<li data-item-id="" data-targets="nav-list.items" data-view-component="true" class="ActionListItem">
    
    
    <a data-hotkey="g d" data-analytics-event="{&quot;category&quot;:&quot;Global navigation&quot;,&quot;action&quot;:&quot;HOME&quot;,&quot;label&quot;:null}" id="item-d4d546e0-4c69-4b8a-a423-3eede8c5ca64" href="/dashboard" data-view-component="true" class="ActionListContent ActionListContent--visual16">
        <span class="ActionListItem-visual ActionListItem-visual--leading">
          <svg aria-hidden="true" height="16" viewBox="0 0 16 16" version="1.1" width="16" data-view-component="true" class="octicon octicon-home">
    <path d="M6.906.664a1.749 1.749 0 0 1 2.187 0l5.25 4.2c.415.332.657.835.657 1.367v7.019A1.75 1.75 0 0 1 13.25 15h-3.5a.75.75 0 0 1-.75-.75V9H7v5.25a.75.75 0 0 1-.75.75h-3.5A1.75 1.75 0 0 1 1 13.25V6.23c0-.531.242-1.034.657-1.366l5.25-4.2Zm1.25 1.171a.25.25 0 0 0-.312 0l-5.25 4.2a.25.25 0 0 0-.094.196v7.019c0 .138.112.25.25.25H5.5V8.25a.75.75 0 0 1 .75-.75h3.5a.75.75 0 0 1 .75.75v5.25h2.75a.25.25 0 0 0 .25-.25V6.23a.25.25 0 0 0-.094-.195Z"></path>
</svg>
        </span>
      
        <span data-view-component="true" class="ActionListItem-label">
          Home
</span>      
</a>
  
</li>

        
          
<li data-item-id="" data-targets="nav-list.items" data-view-component="true" class="ActionListItem">
    
    
    <a data-hotkey="g i" data-analytics-event="{&quot;category&quot;:&quot;Global navigation&quot;,&quot;action&quot;:&quot;ISSUES&quot;,&quot;label&quot;:null}" id="item-1ab55990-4475-4217-907c-4fcfa28eccba" href="/issues" data-view-component="true" class="ActionListContent ActionListContent--visual16">
        <span class="ActionListItem-visual ActionListItem-visual--leading">
          <svg aria-hidden="true" height="16" viewBox="0 0 16 16" version="1.1" width="16" data-view-component="true" class="octicon octicon-issue-opened">
    <path d="M8 9.5a1.5 1.5 0 1 0 0-3 1.5 1.5 0 0 0 0 3Z"></path><path d="M8 0a8 8 0 1 1 0 16A8 8 0 0 1 8 0ZM1.5 8a6.5 6.5 0 1 0 13 0 6.5 6.5 0 0 0-13 0Z"></path>
</svg>
        </span>
      
        <span data-view-component="true" class="ActionListItem-label">
          Issues
</span>      
</a>
  
</li>

        
          
<li data-item-id="" data-targets="nav-list.items" data-view-component="true" class="ActionListItem">
    
    
    <a data-hotkey="g p" data-analytics-event="{&quot;category&quot;:&quot;Global navigation&quot;,&quot;action&quot;:&quot;PULL_REQUESTS&quot;,&quot;label&quot;:null}" id="item-9fe8bee9-7f8e-48c6-8673-4ed09f7ca6bd" href="/pulls" data-view-component="true" class="ActionListContent ActionListContent--visual16">
        <span class="ActionListItem-visual ActionListItem-visual--leading">
          <svg aria-hidden="true" height="16" viewBox="0 0 16 16" version="1.1" width="16" data-view-component="true" class="octicon octicon-git-pull-request">
    <path d="M1.5 3.25a2.25 2.25 0 1 1 3 2.122v5.256a2.251 2.251 0 1 1-1.5 0V5.372A2.25 2.25 0 0 1 1.5 3.25Zm5.677-.177L9.573.677A.25.25 0 0 1 10 .854V2.5h1A2.5 2.5 0 0 1 13.5 5v5.628a2.251 2.251 0 1 1-1.5 0V5a1 1 0 0 0-1-1h-1v1.646a.25.25 0 0 1-.427.177L7.177 3.427a.25.25 0 0 1 0-.354ZM3.75 2.5a.75.75 0 1 0 0 1.5.75.75 0 0 0 0-1.5Zm0 9.5a.75.75 0 1 0 0 1.5.75.75 0 0 0 0-1.5Zm8.25.75a.75.75 0 1 0 1.5 0 .75.75 0 0 0-1.5 0Z"></path>
</svg>
        </span>
      
        <span data-view-component="true" class="ActionListItem-label">
          Pull requests
</span>      
</a>
  
</li>

        
          
<li data-item-id="" data-targets="nav-list.items" data-item-id="projects" data-view-component="true" class="ActionListItem">
    
    
    <a data-analytics-event="{&quot;category&quot;:&quot;Global navigation&quot;,&quot;action&quot;:&quot;PROJECTS&quot;,&quot;label&quot;:null}" id="item-c844d7f1-ff63-4d48-9ebb-defbfb9888fc" href="/projects" data-view-component="true" class="ActionListContent ActionListContent--visual16">
        <span class="ActionListItem-visual ActionListItem-visual--leading">
          <svg aria-hidden="true" height="16" viewBox="0 0 16 16" version="1.1" width="16" data-view-component="true" class="octicon octicon-table">
    <path d="M0 1.75C0 .784.784 0 1.75 0h12.5C15.216 0 16 .784 16 1.75v12.5A1.75 1.75 0 0 1 14.25 16H1.75A1.75 1.75 0 0 1 0 14.25ZM6.5 6.5v8h7.75a.25.25 0 0 0 .25-.25V6.5Zm8-1.5V1.75a.25.25 0 0 0-.25-.25H6.5V5Zm-13 1.5v7.75c0 .138.112.25.25.25H5v-8ZM5 5V1.5H1.75a.25.25 0 0 0-.25.25V5Z"></path>
</svg>
        </span>
      
        <span data-view-component="true" class="ActionListItem-label">
          Projects
</span>      
</a>
  
</li>

        
          
<li data-item-id="" data-targets="nav-list.items" data-view-component="true" class="ActionListItem">
    
    
    <a data-analytics-event="{&quot;category&quot;:&quot;Global navigation&quot;,&quot;action&quot;:&quot;DISCUSSIONS&quot;,&quot;label&quot;:null}" id="item-5d9caece-bb8e-4abb-90b1-f1b99e25df75" href="/discussions" data-view-component="true" class="ActionListContent ActionListContent--visual16">
        <span class="ActionListItem-visual ActionListItem-visual--leading">
          <svg aria-hidden="true" height="16" viewBox="0 0 16 16" version="1.1" width="16" data-view-component="true" class="octicon octicon-comment-discussion">
    <path d="M1.75 1h8.5c.966 0 1.75.784 1.75 1.75v5.5A1.75 1.75 0 0 1 10.25 10H7.061l-2.574 2.573A1.458 1.458 0 0 1 2 11.543V10h-.25A1.75 1.75 0 0 1 0 8.25v-5.5C0 1.784.784 1 1.75 1ZM1.5 2.75v5.5c0 .138.112.25.25.25h1a.75.75 0 0 1 .75.75v2.19l2.72-2.72a.749.749 0 0 1 .53-.22h3.5a.25.25 0 0 0 .25-.25v-5.5a.25.25 0 0 0-.25-.25h-8.5a.25.25 0 0 0-.25.25Zm13 2a.25.25 0 0 0-.25-.25h-.5a.75.75 0 0 1 0-1.5h.5c.966 0 1.75.784 1.75 1.75v5.5A1.75 1.75 0 0 1 14.25 12H14v1.543a1.458 1.458 0 0 1-2.487 1.03L9.22 12.28a.749.749 0 0 1 .326-1.275.749.749 0 0 1 .734.215l2.22 2.22v-2.19a.75.75 0 0 1 .75-.75h1a.25.25 0 0 0 .25-.25Z"></path>
</svg>
        </span>
      
        <span data-view-component="true" class="ActionListItem-label">
          Discussions
</span>      
</a>
  
</li>

        
          
<li data-item-id="" data-targets="nav-list.items" data-view-component="true" class="ActionListItem">
    
    
    <a data-analytics-event="{&quot;category&quot;:&quot;Global navigation&quot;,&quot;action&quot;:&quot;CODESPACES&quot;,&quot;label&quot;:null}" id="item-8d30f8b9-4f58-4b8b-9f08-ee5c1f1618d9" href="https://github.com/codespaces" data-view-component="true" class="ActionListContent ActionListContent--visual16">
        <span class="ActionListItem-visual ActionListItem-visual--leading">
          <svg aria-hidden="true" height="16" viewBox="0 0 16 16" version="1.1" width="16" data-view-component="true" class="octicon octicon-codespaces">
    <path d="M0 11.25c0-.966.784-1.75 1.75-1.75h12.5c.966 0 1.75.784 1.75 1.75v3A1.75 1.75 0 0 1 14.25 16H1.75A1.75 1.75 0 0 1 0 14.25Zm2-9.5C2 .784 2.784 0 3.75 0h8.5C13.216 0 14 .784 14 1.75v5a1.75 1.75 0 0 1-1.75 1.75h-8.5A1.75 1.75 0 0 1 2 6.75Zm1.75-.25a.25.25 0 0 0-.25.25v5c0 .138.112.25.25.25h8.5a.25.25 0 0 0 .25-.25v-5a.25.25 0 0 0-.25-.25Zm-2 9.5a.25.25 0 0 0-.25.25v3c0 .138.112.25.25.25h12.5a.25.25 0 0 0 .25-.25v-3a.25.25 0 0 0-.25-.25Z"></path><path d="M7 12.75a.75.75 0 0 1 .75-.75h4.5a.75.75 0 0 1 0 1.5h-4.5a.75.75 0 0 1-.75-.75Zm-4 0a.75.75 0 0 1 .75-.75h.5a.75.75 0 0 1 0 1.5h-.5a.75.75 0 0 1-.75-.75Z"></path>
</svg>
        </span>
      
        <span data-view-component="true" class="ActionListItem-label">
          Codespaces
</span>      
</a>
  
</li>

        
          
<li data-item-id="" data-targets="nav-list.items" data-view-component="true" class="ActionListItem">
    
    
    <a data-analytics-event="{&quot;category&quot;:&quot;Global navigation&quot;,&quot;action&quot;:&quot;COPILOT&quot;,&quot;label&quot;:null}" id="item-c418f70c-2205-4481-8a38-c132ca4ac14c" href="/copilot" data-view-component="true" class="ActionListContent ActionListContent--visual16">
        <span class="ActionListItem-visual ActionListItem-visual--leading">
          <svg aria-hidden="true" height="16" viewBox="0 0 16 16" version="1.1" width="16" data-view-component="true" class="octicon octicon-copilot">
    <path d="M7.998 15.035c-4.562 0-7.873-2.914-7.998-3.749V9.338c.085-.628.677-1.686 1.588-2.065.013-.07.024-.143.036-.218.029-.183.06-.384.126-.612-.201-.508-.254-1.084-.254-1.656 0-.87.128-1.769.693-2.484.579-.733 1.494-1.124 2.724-1.261 1.206-.134 2.262.034 2.944.765.05.053.096.108.139.165.044-.057.094-.112.143-.165.682-.731 1.738-.899 2.944-.765 1.23.137 2.145.528 2.724 1.261.566.715.693 1.614.693 2.484 0 .572-.053 1.148-.254 1.656.066.228.098.429.126.612.012.076.024.148.037.218.924.385 1.522 1.471 1.591 2.095v1.872c0 .766-3.351 3.795-8.002 3.795Zm0-1.485c2.28 0 4.584-1.11 5.002-1.433V7.862l-.023-.116c-.49.21-1.075.291-1.727.291-1.146 0-2.059-.327-2.71-.991A3.222 3.222 0 0 1 8 6.303a3.24 3.24 0 0 1-.544.743c-.65.664-1.563.991-2.71.991-.652 0-1.236-.081-1.727-.291l-.023.116v4.255c.419.323 2.722 1.433 5.002 1.433ZM6.762 2.83c-.193-.206-.637-.413-1.682-.297-1.019.113-1.479.404-1.713.7-.247.312-.369.789-.369 1.554 0 .793.129 1.171.308 1.371.162.181.519.379 1.442.379.853 0 1.339-.235 1.638-.54.315-.322.527-.827.617-1.553.117-.935-.037-1.395-.241-1.614Zm4.155-.297c-1.044-.116-1.488.091-1.681.297-.204.219-.359.679-.242 1.614.091.726.303 1.231.618 1.553.299.305.784.54 1.638.54.922 0 1.28-.198 1.442-.379.179-.2.308-.578.308-1.371 0-.765-.123-1.242-.37-1.554-.233-.296-.693-.587-1.713-.7Z"></path><path d="M6.25 9.037a.75.75 0 0 1 .75.75v1.501a.75.75 0 0 1-1.5 0V9.787a.75.75 0 0 1 .75-.75Zm4.25.75v1.501a.75.75 0 0 1-1.5 0V9.787a.75.75 0 0 1 1.5 0Z"></path>
</svg>
        </span>
      
        <span data-view-component="true" class="ActionListItem-label">
          Copilot
</span>      
</a>
  
</li>

        
          <li role="presentation" aria-hidden="true" data-view-component="true" class="ActionList-sectionDivider"></li>
        
          
<li data-item-id="" data-targets="nav-list.items" data-view-component="true" class="ActionListItem">
    
    
    <a data-analytics-event="{&quot;category&quot;:&quot;Global navigation&quot;,&quot;action&quot;:&quot;EXPLORE&quot;,&quot;label&quot;:null}" id="item-1259eedc-89d4-4e47-b41b-a9c746a3e805" href="/explore" data-view-component="true" class="ActionListContent ActionListContent--visual16">
        <span class="ActionListItem-visual ActionListItem-visual--leading">
          <svg aria-hidden="true" height="16" viewBox="0 0 16 16" version="1.1" width="16" data-view-component="true" class="octicon octicon-telescope">
    <path d="M14.184 1.143v-.001l1.422 2.464a1.75 1.75 0 0 1-.757 2.451L3.104 11.713a1.75 1.75 0 0 1-2.275-.702l-.447-.775a1.75 1.75 0 0 1 .53-2.32L11.682.573a1.748 1.748 0 0 1 2.502.57Zm-4.709 9.32h-.001l2.644 3.863a.75.75 0 1 1-1.238.848l-1.881-2.75v2.826a.75.75 0 0 1-1.5 0v-2.826l-1.881 2.75a.75.75 0 1 1-1.238-.848l2.049-2.992a.746.746 0 0 1 .293-.253l1.809-.87a.749.749 0 0 1 .944.252ZM9.436 3.92h-.001l-4.97 3.39.942 1.63 5.42-2.61Zm3.091-2.108h.001l-1.85 1.26 1.505 2.605 2.016-.97a.247.247 0 0 0 .13-.151.247.247 0 0 0-.022-.199l-1.422-2.464a.253.253 0 0 0-.161-.119.254.254 0 0 0-.197.038ZM1.756 9.157a.25.25 0 0 0-.075.33l.447.775a.25.25 0 0 0 .325.1l1.598-.769-.83-1.436-1.465 1Z"></path>
</svg>
        </span>
      
        <span data-view-component="true" class="ActionListItem-label">
          Explore
</span>      
</a>
  
</li>

        
          
<li data-item-id="" data-targets="nav-list.items" data-view-component="true" class="ActionListItem">
    
    
    <a data-analytics-event="{&quot;category&quot;:&quot;Global navigation&quot;,&quot;action&quot;:&quot;MARKETPLACE&quot;,&quot;label&quot;:null}" id="item-815a4d4c-2bc4-4a3c-8f5a-c7967565ee25" href="/marketplace" data-view-component="true" class="ActionListContent ActionListContent--visual16">
        <span class="ActionListItem-visual ActionListItem-visual--leading">
          <svg aria-hidden="true" height="16" viewBox="0 0 16 16" version="1.1" width="16" data-view-component="true" class="octicon octicon-gift">
    <path d="M2 2.75A2.75 2.75 0 0 1 4.75 0c.983 0 1.873.42 2.57 1.232.268.318.497.668.68 1.042.183-.375.411-.725.68-1.044C9.376.42 10.266 0 11.25 0a2.75 2.75 0 0 1 2.45 4h.55c.966 0 1.75.784 1.75 1.75v2c0 .698-.409 1.301-1 1.582v4.918A1.75 1.75 0 0 1 13.25 16H2.75A1.75 1.75 0 0 1 1 14.25V9.332C.409 9.05 0 8.448 0 7.75v-2C0 4.784.784 4 1.75 4h.55c-.192-.375-.3-.8-.3-1.25ZM7.25 9.5H2.5v4.75c0 .138.112.25.25.25h4.5Zm1.5 0v5h4.5a.25.25 0 0 0 .25-.25V9.5Zm0-4V8h5.5a.25.25 0 0 0 .25-.25v-2a.25.25 0 0 0-.25-.25Zm-7 0a.25.25 0 0 0-.25.25v2c0 .138.112.25.25.25h5.5V5.5h-5.5Zm3-4a1.25 1.25 0 0 0 0 2.5h2.309c-.233-.818-.542-1.401-.878-1.793-.43-.502-.915-.707-1.431-.707ZM8.941 4h2.309a1.25 1.25 0 0 0 0-2.5c-.516 0-1 .205-1.43.707-.337.392-.646.975-.879 1.793Z"></path>
</svg>
        </span>
      
        <span data-view-component="true" class="ActionListItem-label">
          Marketplace
</span>      
</a>
  
</li>

</ul>  </nav-list>
</nav>

        <div data-view-component="true" class="my-3 d-flex flex-justify-center height-full">
          <span data-view-component="true">
  <svg style="box-sizing: content-box; color: var(--color-icon-primary);" width="16" height="16" viewBox="0 0 16 16" fill="none" aria-hidden="true" data-view-component="true" class="anim-rotate">
    <circle cx="8" cy="8" r="7" stroke="currentColor" stroke-opacity="0.25" stroke-width="2" vector-effect="non-scaling-stroke" fill="none" />
    <path d="M15 8a7.002 7.002 0 00-7-7" stroke="currentColor" stroke-width="2" stroke-linecap="round" vector-effect="non-scaling-stroke" />
</svg>    <span class="sr-only">Loading</span>
</span>
</div>
</div>
      <div data-view-component="true" class="flex-1"></div>


      <div data-view-component="true" class="px-2">      <p class="color-fg-subtle text-small text-light">&copy; 2025 GitHub, Inc.</p>

      <div data-view-component="true" class="d-flex flex-wrap text-small text-light">
          <a target="_blank" href="https://github.com/about" data-view-component="true" class="Link mr-2">About</a>
          <a target="_blank" href="https://github.blog" data-view-component="true" class="Link mr-2">Blog</a>
          <a target="_blank" href="https://docs.github.com/site-policy/github-terms/github-terms-of-service" data-view-component="true" class="Link mr-2">Terms</a>
          <a target="_blank" href="https://docs.github.com/site-policy/privacy-policies/github-privacy-statement" data-view-component="true" class="Link mr-2">Privacy</a>
          <a target="_blank" href="https://github.com/security" data-view-component="true" class="Link mr-2">Security</a>
          <a target="_blank" href="https://www.githubstatus.com/" data-view-component="true" class="Link mr-3">Status</a>

</div></div>
</div>
      </scrollable-region>
      
</dialog></dialog-helper>


  <div data-show-on-forbidden-error hidden>
    <div class="Box">
  <div class="blankslate-container">
    <div data-view-component="true" class="blankslate blankslate-spacious color-bg-default rounded-2">
      

      <h3 data-view-component="true" class="blankslate-heading">        Uh oh!
</h3>
      <p data-view-component="true">        <p class="color-fg-muted my-2 mb-2 ws-normal">There was an error while loading. <a class="Link--inTextBlock" data-turbo="false" href="" aria-label="Please reload this page">Please reload this page</a>.</p>
</p>

</div>  </div>
</div>  </div>
</include-fragment></deferred-side-panel>
        </div>

        <a class="AppHeader-logo ml-1 "
          href="https://github.com/"
          data-hotkey="g d"
          aria-label="Homepage "
          data-turbo="false"
          data-analytics-event="{&quot;category&quot;:&quot;Header&quot;,&quot;action&quot;:&quot;go to dashboard&quot;,&quot;label&quot;:&quot;icon:logo&quot;}"
        >
          <svg height="32" aria-hidden="true" viewBox="0 0 24 24" version="1.1" width="32" data-view-component="true" class="octicon octicon-mark-github v-align-middle">
    <path d="M12 1C5.9225 1 1 5.9225 1 12C1 16.8675 4.14875 20.9787 8.52125 22.4362C9.07125 22.5325 9.2775 22.2025 9.2775 21.9137C9.2775 21.6525 9.26375 20.7862 9.26375 19.865C6.5 20.3737 5.785 19.1912 5.565 18.5725C5.44125 18.2562 4.905 17.28 4.4375 17.0187C4.0525 16.8125 3.5025 16.3037 4.42375 16.29C5.29 16.2762 5.90875 17.0875 6.115 17.4175C7.105 19.0812 8.68625 18.6137 9.31875 18.325C9.415 17.61 9.70375 17.1287 10.02 16.8537C7.5725 16.5787 5.015 15.63 5.015 11.4225C5.015 10.2262 5.44125 9.23625 6.1425 8.46625C6.0325 8.19125 5.6475 7.06375 6.2525 5.55125C6.2525 5.55125 7.17375 5.2625 9.2775 6.67875C10.1575 6.43125 11.0925 6.3075 12.0275 6.3075C12.9625 6.3075 13.8975 6.43125 14.7775 6.67875C16.8813 5.24875 17.8025 5.55125 17.8025 5.55125C18.4075 7.06375 18.0225 8.19125 17.9125 8.46625C18.6138 9.23625 19.04 10.2125 19.04 11.4225C19.04 15.6437 16.4688 16.5787 14.0213 16.8537C14.42 17.1975 14.7638 17.8575 14.7638 18.8887C14.7638 20.36 14.75 21.5425 14.75 21.9137C14.75 22.2025 14.9563 22.5462 15.5063 22.4362C19.8513 20.9787 23 16.8537 23 12C23 5.9225 18.0775 1 12 1Z"></path>
</svg>
        </a>

          <context-region-controller
  class="AppHeader-context "
  
  
  
>
    <div class="AppHeader-context-compact" data-target="context-region-controller.compactContainer">
        <button aria-expanded="false" aria-haspopup="dialog" aria-label="Page context: Dong-Den / AIO-2025_Pre" data-target="context-region-controller.compactContextRegion" data-show-dialog-id="context-region-dialog" id="dialog-show-context-region-dialog" type="button" data-view-component="true" class="AppHeader-context-compact-trigger Truncate Button--secondary Button--medium Button box-shadow-none">  <span class="Button-content">
    <span class="Button-label"><span class="AppHeader-context-compact-lead">
            <span class="AppHeader-context-compact-parentItem">Dong-Den</span>

            <span class="no-wrap">&nbsp;/</span>

        </span>

        <strong class="AppHeader-context-compact-mainItem d-flex flex-items-center Truncate" >
  <span class="Truncate-text ">AIO-2025_Pre</span>

</strong></span>
  </span>
</button>

<dialog-helper>
  <dialog id="context-region-dialog" aria-modal="true" aria-labelledby="context-region-dialog-title" aria-describedby="context-region-dialog-description" data-view-component="true" class="Overlay Overlay-whenNarrow Overlay--size-medium Overlay--motion-scaleFade Overlay--disableScroll">
    <div data-view-component="true" class="Overlay-header">
  <div class="Overlay-headerContentWrap">
    <div class="Overlay-titleWrap">
      <h1 class="Overlay-title " id="context-region-dialog-title">
        Navigate back to
      </h1>
        
    </div>
    <div class="Overlay-actionWrap">
      <button data-close-dialog-id="context-region-dialog" aria-label="Close" aria-label="Close" type="button" data-view-component="true" class="close-button Overlay-closeButton"><svg aria-hidden="true" height="16" viewBox="0 0 16 16" version="1.1" width="16" data-view-component="true" class="octicon octicon-x">
    <path d="M3.72 3.72a.75.75 0 0 1 1.06 0L8 6.94l3.22-3.22a.749.749 0 0 1 1.275.326.749.749 0 0 1-.215.734L9.06 8l3.22 3.22a.749.749 0 0 1-.326 1.275.749.749 0 0 1-.734-.215L8 9.06l-3.22 3.22a.751.751 0 0 1-1.042-.018.751.751 0 0 1-.018-1.042L6.94 8 3.72 4.78a.75.75 0 0 1 0-1.06Z"></path>
</svg></button>
    </div>
  </div>
  
</div>
      <scrollable-region data-labelled-by="context-region-dialog-title">
        <div data-view-component="true" class="Overlay-body">      <ul role="list" class="list-style-none" >
    <li>
      <a data-analytics-event="{&quot;category&quot;:&quot;SiteHeaderComponent&quot;,&quot;action&quot;:&quot;context_region_crumb&quot;,&quot;label&quot;:&quot;Dong-Den&quot;,&quot;screen_size&quot;:&quot;compact&quot;}" href="/Dong-Den" data-view-component="true" class="Link--primary Truncate d-flex flex-items-center py-1">
        <span class="AppHeader-context-item-label Truncate-text ">
            <svg aria-hidden="true" height="12" viewBox="0 0 16 16" version="1.1" width="12" data-view-component="true" class="octicon octicon-person mr-1">
    <path d="M10.561 8.073a6.005 6.005 0 0 1 3.432 5.142.75.75 0 1 1-1.498.07 4.5 4.5 0 0 0-8.99 0 .75.75 0 0 1-1.498-.07 6.004 6.004 0 0 1 3.431-5.142 3.999 3.999 0 1 1 5.123 0ZM10.5 5a2.5 2.5 0 1 0-5 0 2.5 2.5 0 0 0 5 0Z"></path>
</svg>

          Dong-Den
        </span>

</a>
    </li>
    <li>
      <a data-analytics-event="{&quot;category&quot;:&quot;SiteHeaderComponent&quot;,&quot;action&quot;:&quot;context_region_crumb&quot;,&quot;label&quot;:&quot;AIO-2025_Pre&quot;,&quot;screen_size&quot;:&quot;compact&quot;}" href="/Dong-Den/AIO-2025_Pre" data-view-component="true" class="Link--primary Truncate d-flex flex-items-center py-1">
        <span class="AppHeader-context-item-label Truncate-text ">
            <svg aria-hidden="true" height="12" viewBox="0 0 16 16" version="1.1" width="12" data-view-component="true" class="octicon octicon-repo mr-1">
    <path d="M2 2.5A2.5 2.5 0 0 1 4.5 0h8.75a.75.75 0 0 1 .75.75v12.5a.75.75 0 0 1-.75.75h-2.5a.75.75 0 0 1 0-1.5h1.75v-2h-8a1 1 0 0 0-.714 1.7.75.75 0 1 1-1.072 1.05A2.495 2.495 0 0 1 2 11.5Zm10.5-1h-8a1 1 0 0 0-1 1v6.708A2.486 2.486 0 0 1 4.5 9h8ZM5 12.25a.25.25 0 0 1 .25-.25h3.5a.25.25 0 0 1 .25.25v3.25a.25.25 0 0 1-.4.2l-1.45-1.087a.249.249 0 0 0-.3 0L5.4 15.7a.25.25 0 0 1-.4-.2Z"></path>
</svg>

          AIO-2025_Pre
        </span>

</a>
    </li>
</ul>

</div>
      </scrollable-region>
      
</dialog></dialog-helper>

    </div>

  <div class="AppHeader-context-full">
    <nav role="navigation" aria-label="Page context">
        
<context-region role="list"  data-action="context-region-changed:context-region-controller#crumbsChanged">
    <context-region-crumb
      data-targets="context-region.crumbs"
      data-label="Dong-Den"
      data-href="/Dong-Den"
      data-pre-rendered
      role="listitem"
      
    >
      <a data-analytics-event="{&quot;category&quot;:&quot;SiteHeaderComponent&quot;,&quot;action&quot;:&quot;context_region_crumb&quot;,&quot;label&quot;:&quot;Dong-Den&quot;,&quot;screen_size&quot;:&quot;full&quot;}" data-hovercard-type="user" data-hovercard-url="/users/Dong-Den/hovercard" data-octo-click="hovercard-link-click" data-octo-dimensions="link_type:self" data-target="context-region-crumb.linkElement" href="/Dong-Den" data-view-component="true" class="AppHeader-context-item">
        <span data-target="context-region-crumb.labelElement" class="AppHeader-context-item-label  ">

          Dong-Den
        </span>

</a>
        <context-region-divider data-target="context-region-crumb.dividerElement" data-pre-rendered >
  <span class="AppHeader-context-item-separator">
    <span class="sr-only">/</span>
    <svg width="16" height="16" viewBox="0 0 16 16" xmlns="http://www.w3.org/2000/svg" aria-hidden="true">
      <path d="M10.956 1.27994L6.06418 14.7201L5 14.7201L9.89181 1.27994L10.956 1.27994Z" fill="currentcolor" />
    </svg>
  </span>
</context-region-divider>

    </context-region-crumb>
    <context-region-crumb
      data-targets="context-region.crumbs"
      data-label="AIO-2025_Pre"
      data-href="/Dong-Den/AIO-2025_Pre"
      data-pre-rendered
      role="listitem"
      
    >
      <a data-analytics-event="{&quot;category&quot;:&quot;SiteHeaderComponent&quot;,&quot;action&quot;:&quot;context_region_crumb&quot;,&quot;label&quot;:&quot;AIO-2025_Pre&quot;,&quot;screen_size&quot;:&quot;full&quot;}" data-target="context-region-crumb.linkElement" href="/Dong-Den/AIO-2025_Pre" data-view-component="true" class="AppHeader-context-item">
        <span data-target="context-region-crumb.labelElement" class="AppHeader-context-item-label  ">

          AIO-2025_Pre
        </span>

</a>
        <context-region-divider data-target="context-region-crumb.dividerElement" data-pre-rendered >
  <span class="AppHeader-context-item-separator">
    <span class="sr-only">/</span>
    <svg width="16" height="16" viewBox="0 0 16 16" xmlns="http://www.w3.org/2000/svg" aria-hidden="true">
      <path d="M10.956 1.27994L6.06418 14.7201L5 14.7201L9.89181 1.27994L10.956 1.27994Z" fill="currentcolor" />
    </svg>
  </span>
</context-region-divider>

    </context-region-crumb>
</context-region>

    </nav>
  </div>
</context-region-controller>

      </div>
      <div class="AppHeader-globalBar-end">
          <div class="AppHeader-search" >
              


<qbsearch-input class="search-input" data-scope="repo:Dong-Den/AIO-2025_Pre" data-custom-scopes-path="/search/custom_scopes" data-delete-custom-scopes-csrf="LMs_MYZDaAAVq7fYvLPYO4brOiundx-bRE380WDladcLQ9uKoDvqoxSHfeNYFvxEIVxZRT59bTOsRqS9A-dIxQ" data-max-custom-scopes="10" data-header-redesign-enabled="true" data-initial-value="" data-blackbird-suggestions-path="/search/suggestions" data-jump-to-suggestions-path="/_graphql/GetSuggestedNavigationDestinations" data-current-repository="Dong-Den/AIO-2025_Pre" data-current-org="" data-current-owner="Dong-Den" data-logged-in="true" data-copilot-chat-enabled="true" data-nl-search-enabled="false">
  <div
    class="search-input-container search-with-dialog position-relative d-flex flex-row flex-items-center height-auto color-bg-transparent border-0 color-fg-subtle mx-0"
    data-action="click:qbsearch-input#searchInputContainerClicked"
  >
      
            <button type="button" data-action="click:qbsearch-input#handleExpand" class="AppHeader-button AppHeader-search-whenNarrow" aria-label="Search or jump to…" aria-expanded="false" aria-haspopup="dialog">
            <svg aria-hidden="true" height="16" viewBox="0 0 16 16" version="1.1" width="16" data-view-component="true" class="octicon octicon-search">
    <path d="M10.68 11.74a6 6 0 0 1-7.922-8.982 6 6 0 0 1 8.982 7.922l3.04 3.04a.749.749 0 0 1-.326 1.275.749.749 0 0 1-.734-.215ZM11.5 7a4.499 4.499 0 1 0-8.997 0A4.499 4.499 0 0 0 11.5 7Z"></path>
</svg>
          </button>


<div class="AppHeader-search-whenRegular">
  <div class="AppHeader-search-wrap AppHeader-search-wrap--hasTrailing">
    <div class="AppHeader-search-control AppHeader-search-control-overflow">
      <label
        for="AppHeader-searchInput"
        aria-label="Search or jump to…"
        class="AppHeader-search-visual--leading"
      >
        <svg aria-hidden="true" height="16" viewBox="0 0 16 16" version="1.1" width="16" data-view-component="true" class="octicon octicon-search">
    <path d="M10.68 11.74a6 6 0 0 1-7.922-8.982 6 6 0 0 1 8.982 7.922l3.04 3.04a.749.749 0 0 1-.326 1.275.749.749 0 0 1-.734-.215ZM11.5 7a4.499 4.499 0 1 0-8.997 0A4.499 4.499 0 0 0 11.5 7Z"></path>
</svg>
      </label>

                <button
            type="button"
            data-target="qbsearch-input.inputButton"
            data-action="click:qbsearch-input#handleExpand"
            class="AppHeader-searchButton form-control input-contrast text-left color-fg-subtle no-wrap"
            data-hotkey="s,/"
            data-analytics-event="{&quot;location&quot;:&quot;navbar&quot;,&quot;action&quot;:&quot;searchbar&quot;,&quot;context&quot;:&quot;global&quot;,&quot;tag&quot;:&quot;input&quot;,&quot;label&quot;:&quot;searchbar_input_global_navbar&quot;}"
            aria-describedby="search-error-message-flash"
          >
            <div class="overflow-hidden">
              <span id="qb-input-query" data-target="qbsearch-input.inputButtonText">
                  Type <kbd class="AppHeader-search-kbd">/</kbd> to search
              </span>
            </div>
          </button>

    </div>


  </div>
</div>

    <input type="hidden" name="type" class="js-site-search-type-field">

    
<div class="Overlay--hidden " data-modal-dialog-overlay>
  <modal-dialog data-action="close:qbsearch-input#handleClose cancel:qbsearch-input#handleClose" data-target="qbsearch-input.searchSuggestionsDialog" role="dialog" id="search-suggestions-dialog" aria-modal="true" aria-labelledby="search-suggestions-dialog-header" data-view-component="true" class="Overlay Overlay--width-medium Overlay--height-auto">
      <h1 id="search-suggestions-dialog-header" class="sr-only">Search code, repositories, users, issues, pull requests...</h1>
    <div class="Overlay-body Overlay-body--paddingNone">
      
          <div data-view-component="true">        <div class="search-suggestions position-absolute width-full color-shadow-large border color-fg-default color-bg-default overflow-hidden d-flex flex-column query-builder-container"
          style="border-radius: 12px;"
          data-target="qbsearch-input.queryBuilderContainer"
          hidden
        >
          <!-- '"` --><!-- </textarea></xmp> --></option></form><form id="query-builder-test-form" action="" accept-charset="UTF-8" method="get">
  <query-builder data-target="qbsearch-input.queryBuilder" id="query-builder-query-builder-test" data-filter-key=":" data-view-component="true" class="QueryBuilder search-query-builder">
    <div class="FormControl FormControl--fullWidth">
      <label id="query-builder-test-label" for="query-builder-test" class="FormControl-label sr-only">
        Search
      </label>
      <div
        class="QueryBuilder-StyledInput width-fit "
        data-target="query-builder.styledInput"
      >
          <span id="query-builder-test-leadingvisual-wrap" class="FormControl-input-leadingVisualWrap QueryBuilder-leadingVisualWrap">
            <svg aria-hidden="true" height="16" viewBox="0 0 16 16" version="1.1" width="16" data-view-component="true" class="octicon octicon-search FormControl-input-leadingVisual">
    <path d="M10.68 11.74a6 6 0 0 1-7.922-8.982 6 6 0 0 1 8.982 7.922l3.04 3.04a.749.749 0 0 1-.326 1.275.749.749 0 0 1-.734-.215ZM11.5 7a4.499 4.499 0 1 0-8.997 0A4.499 4.499 0 0 0 11.5 7Z"></path>
</svg>
          </span>
        <div data-target="query-builder.styledInputContainer" class="QueryBuilder-StyledInputContainer">
          <div
            aria-hidden="true"
            class="QueryBuilder-StyledInputContent"
            data-target="query-builder.styledInputContent"
          ></div>
          <div class="QueryBuilder-InputWrapper">
            <div aria-hidden="true" class="QueryBuilder-Sizer" data-target="query-builder.sizer"></div>
            <input id="query-builder-test" name="query-builder-test" value="" autocomplete="off" type="text" role="combobox" spellcheck="false" aria-expanded="false" aria-describedby="validation-375c431e-5d69-4290-a047-00d11ba993e9" data-target="query-builder.input" data-action="
          input:query-builder#inputChange
          blur:query-builder#inputBlur
          keydown:query-builder#inputKeydown
          focus:query-builder#inputFocus
        " data-view-component="true" class="FormControl-input QueryBuilder-Input FormControl-medium" />
          </div>
        </div>
          <span class="sr-only" id="query-builder-test-clear">Clear</span>
          <button role="button" id="query-builder-test-clear-button" aria-labelledby="query-builder-test-clear query-builder-test-label" data-target="query-builder.clearButton" data-action="
                click:query-builder#clear
                focus:query-builder#clearButtonFocus
                blur:query-builder#clearButtonBlur
              " variant="small" hidden="hidden" type="button" data-view-component="true" class="Button Button--iconOnly Button--invisible Button--medium mr-1 px-2 py-0 d-flex flex-items-center rounded-1 color-fg-muted">  <svg aria-hidden="true" height="16" viewBox="0 0 16 16" version="1.1" width="16" data-view-component="true" class="octicon octicon-x-circle-fill Button-visual">
    <path d="M2.343 13.657A8 8 0 1 1 13.658 2.343 8 8 0 0 1 2.343 13.657ZM6.03 4.97a.751.751 0 0 0-1.042.018.751.751 0 0 0-.018 1.042L6.94 8 4.97 9.97a.749.749 0 0 0 .326 1.275.749.749 0 0 0 .734-.215L8 9.06l1.97 1.97a.749.749 0 0 0 1.275-.326.749.749 0 0 0-.215-.734L9.06 8l1.97-1.97a.749.749 0 0 0-.326-1.275.749.749 0 0 0-.734.215L8 6.94Z"></path>
</svg>
</button>

      </div>
      <template id="search-icon">
  <svg aria-hidden="true" height="16" viewBox="0 0 16 16" version="1.1" width="16" data-view-component="true" class="octicon octicon-search">
    <path d="M10.68 11.74a6 6 0 0 1-7.922-8.982 6 6 0 0 1 8.982 7.922l3.04 3.04a.749.749 0 0 1-.326 1.275.749.749 0 0 1-.734-.215ZM11.5 7a4.499 4.499 0 1 0-8.997 0A4.499 4.499 0 0 0 11.5 7Z"></path>
</svg>
</template>

<template id="code-icon">
  <svg aria-hidden="true" height="16" viewBox="0 0 16 16" version="1.1" width="16" data-view-component="true" class="octicon octicon-code">
    <path d="m11.28 3.22 4.25 4.25a.75.75 0 0 1 0 1.06l-4.25 4.25a.749.749 0 0 1-1.275-.326.749.749 0 0 1 .215-.734L13.94 8l-3.72-3.72a.749.749 0 0 1 .326-1.275.749.749 0 0 1 .734.215Zm-6.56 0a.751.751 0 0 1 1.042.018.751.751 0 0 1 .018 1.042L2.06 8l3.72 3.72a.749.749 0 0 1-.326 1.275.749.749 0 0 1-.734-.215L.47 8.53a.75.75 0 0 1 0-1.06Z"></path>
</svg>
</template>

<template id="file-code-icon">
  <svg aria-hidden="true" height="16" viewBox="0 0 16 16" version="1.1" width="16" data-view-component="true" class="octicon octicon-file-code">
    <path d="M4 1.75C4 .784 4.784 0 5.75 0h5.586c.464 0 .909.184 1.237.513l2.914 2.914c.329.328.513.773.513 1.237v8.586A1.75 1.75 0 0 1 14.25 15h-9a.75.75 0 0 1 0-1.5h9a.25.25 0 0 0 .25-.25V6h-2.75A1.75 1.75 0 0 1 10 4.25V1.5H5.75a.25.25 0 0 0-.25.25v2.5a.75.75 0 0 1-1.5 0Zm1.72 4.97a.75.75 0 0 1 1.06 0l2 2a.75.75 0 0 1 0 1.06l-2 2a.749.749 0 0 1-1.275-.326.749.749 0 0 1 .215-.734l1.47-1.47-1.47-1.47a.75.75 0 0 1 0-1.06ZM3.28 7.78 1.81 9.25l1.47 1.47a.751.751 0 0 1-.018 1.042.751.751 0 0 1-1.042.018l-2-2a.75.75 0 0 1 0-1.06l2-2a.751.751 0 0 1 1.042.018.751.751 0 0 1 .018 1.042Zm8.22-6.218V4.25c0 .138.112.25.25.25h2.688l-.011-.013-2.914-2.914-.013-.011Z"></path>
</svg>
</template>

<template id="history-icon">
  <svg aria-hidden="true" height="16" viewBox="0 0 16 16" version="1.1" width="16" data-view-component="true" class="octicon octicon-history">
    <path d="m.427 1.927 1.215 1.215a8.002 8.002 0 1 1-1.6 5.685.75.75 0 1 1 1.493-.154 6.5 6.5 0 1 0 1.18-4.458l1.358 1.358A.25.25 0 0 1 3.896 6H.25A.25.25 0 0 1 0 5.75V2.104a.25.25 0 0 1 .427-.177ZM7.75 4a.75.75 0 0 1 .75.75v2.992l2.028.812a.75.75 0 0 1-.557 1.392l-2.5-1A.751.751 0 0 1 7 8.25v-3.5A.75.75 0 0 1 7.75 4Z"></path>
</svg>
</template>

<template id="repo-icon">
  <svg aria-hidden="true" height="16" viewBox="0 0 16 16" version="1.1" width="16" data-view-component="true" class="octicon octicon-repo">
    <path d="M2 2.5A2.5 2.5 0 0 1 4.5 0h8.75a.75.75 0 0 1 .75.75v12.5a.75.75 0 0 1-.75.75h-2.5a.75.75 0 0 1 0-1.5h1.75v-2h-8a1 1 0 0 0-.714 1.7.75.75 0 1 1-1.072 1.05A2.495 2.495 0 0 1 2 11.5Zm10.5-1h-8a1 1 0 0 0-1 1v6.708A2.486 2.486 0 0 1 4.5 9h8ZM5 12.25a.25.25 0 0 1 .25-.25h3.5a.25.25 0 0 1 .25.25v3.25a.25.25 0 0 1-.4.2l-1.45-1.087a.249.249 0 0 0-.3 0L5.4 15.7a.25.25 0 0 1-.4-.2Z"></path>
</svg>
</template>

<template id="bookmark-icon">
  <svg aria-hidden="true" height="16" viewBox="0 0 16 16" version="1.1" width="16" data-view-component="true" class="octicon octicon-bookmark">
    <path d="M3 2.75C3 1.784 3.784 1 4.75 1h6.5c.966 0 1.75.784 1.75 1.75v11.5a.75.75 0 0 1-1.227.579L8 11.722l-3.773 3.107A.751.751 0 0 1 3 14.25Zm1.75-.25a.25.25 0 0 0-.25.25v9.91l3.023-2.489a.75.75 0 0 1 .954 0l3.023 2.49V2.75a.25.25 0 0 0-.25-.25Z"></path>
</svg>
</template>

<template id="plus-circle-icon">
  <svg aria-hidden="true" height="16" viewBox="0 0 16 16" version="1.1" width="16" data-view-component="true" class="octicon octicon-plus-circle">
    <path d="M8 0a8 8 0 1 1 0 16A8 8 0 0 1 8 0ZM1.5 8a6.5 6.5 0 1 0 13 0 6.5 6.5 0 0 0-13 0Zm7.25-3.25v2.5h2.5a.75.75 0 0 1 0 1.5h-2.5v2.5a.75.75 0 0 1-1.5 0v-2.5h-2.5a.75.75 0 0 1 0-1.5h2.5v-2.5a.75.75 0 0 1 1.5 0Z"></path>
</svg>
</template>

<template id="circle-icon">
  <svg aria-hidden="true" height="16" viewBox="0 0 16 16" version="1.1" width="16" data-view-component="true" class="octicon octicon-dot-fill">
    <path d="M8 4a4 4 0 1 1 0 8 4 4 0 0 1 0-8Z"></path>
</svg>
</template>

<template id="trash-icon">
  <svg aria-hidden="true" height="16" viewBox="0 0 16 16" version="1.1" width="16" data-view-component="true" class="octicon octicon-trash">
    <path d="M11 1.75V3h2.25a.75.75 0 0 1 0 1.5H2.75a.75.75 0 0 1 0-1.5H5V1.75C5 .784 5.784 0 6.75 0h2.5C10.216 0 11 .784 11 1.75ZM4.496 6.675l.66 6.6a.25.25 0 0 0 .249.225h5.19a.25.25 0 0 0 .249-.225l.66-6.6a.75.75 0 0 1 1.492.149l-.66 6.6A1.748 1.748 0 0 1 10.595 15h-5.19a1.75 1.75 0 0 1-1.741-1.575l-.66-6.6a.75.75 0 1 1 1.492-.15ZM6.5 1.75V3h3V1.75a.25.25 0 0 0-.25-.25h-2.5a.25.25 0 0 0-.25.25Z"></path>
</svg>
</template>

<template id="team-icon">
  <svg aria-hidden="true" height="16" viewBox="0 0 16 16" version="1.1" width="16" data-view-component="true" class="octicon octicon-people">
    <path d="M2 5.5a3.5 3.5 0 1 1 5.898 2.549 5.508 5.508 0 0 1 3.034 4.084.75.75 0 1 1-1.482.235 4 4 0 0 0-7.9 0 .75.75 0 0 1-1.482-.236A5.507 5.507 0 0 1 3.102 8.05 3.493 3.493 0 0 1 2 5.5ZM11 4a3.001 3.001 0 0 1 2.22 5.018 5.01 5.01 0 0 1 2.56 3.012.749.749 0 0 1-.885.954.752.752 0 0 1-.549-.514 3.507 3.507 0 0 0-2.522-2.372.75.75 0 0 1-.574-.73v-.352a.75.75 0 0 1 .416-.672A1.5 1.5 0 0 0 11 5.5.75.75 0 0 1 11 4Zm-5.5-.5a2 2 0 1 0-.001 3.999A2 2 0 0 0 5.5 3.5Z"></path>
</svg>
</template>

<template id="project-icon">
  <svg aria-hidden="true" height="16" viewBox="0 0 16 16" version="1.1" width="16" data-view-component="true" class="octicon octicon-project">
    <path d="M1.75 0h12.5C15.216 0 16 .784 16 1.75v12.5A1.75 1.75 0 0 1 14.25 16H1.75A1.75 1.75 0 0 1 0 14.25V1.75C0 .784.784 0 1.75 0ZM1.5 1.75v12.5c0 .138.112.25.25.25h12.5a.25.25 0 0 0 .25-.25V1.75a.25.25 0 0 0-.25-.25H1.75a.25.25 0 0 0-.25.25ZM11.75 3a.75.75 0 0 1 .75.75v7.5a.75.75 0 0 1-1.5 0v-7.5a.75.75 0 0 1 .75-.75Zm-8.25.75a.75.75 0 0 1 1.5 0v5.5a.75.75 0 0 1-1.5 0ZM8 3a.75.75 0 0 1 .75.75v3.5a.75.75 0 0 1-1.5 0v-3.5A.75.75 0 0 1 8 3Z"></path>
</svg>
</template>

<template id="pencil-icon">
  <svg aria-hidden="true" height="16" viewBox="0 0 16 16" version="1.1" width="16" data-view-component="true" class="octicon octicon-pencil">
    <path d="M11.013 1.427a1.75 1.75 0 0 1 2.474 0l1.086 1.086a1.75 1.75 0 0 1 0 2.474l-8.61 8.61c-.21.21-.47.364-.756.445l-3.251.93a.75.75 0 0 1-.927-.928l.929-3.25c.081-.286.235-.547.445-.758l8.61-8.61Zm.176 4.823L9.75 4.81l-6.286 6.287a.253.253 0 0 0-.064.108l-.558 1.953 1.953-.558a.253.253 0 0 0 .108-.064Zm1.238-3.763a.25.25 0 0 0-.354 0L10.811 3.75l1.439 1.44 1.263-1.263a.25.25 0 0 0 0-.354Z"></path>
</svg>
</template>

<template id="copilot-icon">
  <svg aria-hidden="true" height="16" viewBox="0 0 16 16" version="1.1" width="16" data-view-component="true" class="octicon octicon-copilot">
    <path d="M7.998 15.035c-4.562 0-7.873-2.914-7.998-3.749V9.338c.085-.628.677-1.686 1.588-2.065.013-.07.024-.143.036-.218.029-.183.06-.384.126-.612-.201-.508-.254-1.084-.254-1.656 0-.87.128-1.769.693-2.484.579-.733 1.494-1.124 2.724-1.261 1.206-.134 2.262.034 2.944.765.05.053.096.108.139.165.044-.057.094-.112.143-.165.682-.731 1.738-.899 2.944-.765 1.23.137 2.145.528 2.724 1.261.566.715.693 1.614.693 2.484 0 .572-.053 1.148-.254 1.656.066.228.098.429.126.612.012.076.024.148.037.218.924.385 1.522 1.471 1.591 2.095v1.872c0 .766-3.351 3.795-8.002 3.795Zm0-1.485c2.28 0 4.584-1.11 5.002-1.433V7.862l-.023-.116c-.49.21-1.075.291-1.727.291-1.146 0-2.059-.327-2.71-.991A3.222 3.222 0 0 1 8 6.303a3.24 3.24 0 0 1-.544.743c-.65.664-1.563.991-2.71.991-.652 0-1.236-.081-1.727-.291l-.023.116v4.255c.419.323 2.722 1.433 5.002 1.433ZM6.762 2.83c-.193-.206-.637-.413-1.682-.297-1.019.113-1.479.404-1.713.7-.247.312-.369.789-.369 1.554 0 .793.129 1.171.308 1.371.162.181.519.379 1.442.379.853 0 1.339-.235 1.638-.54.315-.322.527-.827.617-1.553.117-.935-.037-1.395-.241-1.614Zm4.155-.297c-1.044-.116-1.488.091-1.681.297-.204.219-.359.679-.242 1.614.091.726.303 1.231.618 1.553.299.305.784.54 1.638.54.922 0 1.28-.198 1.442-.379.179-.2.308-.578.308-1.371 0-.765-.123-1.242-.37-1.554-.233-.296-.693-.587-1.713-.7Z"></path><path d="M6.25 9.037a.75.75 0 0 1 .75.75v1.501a.75.75 0 0 1-1.5 0V9.787a.75.75 0 0 1 .75-.75Zm4.25.75v1.501a.75.75 0 0 1-1.5 0V9.787a.75.75 0 0 1 1.5 0Z"></path>
</svg>
</template>

<template id="copilot-error-icon">
  <svg aria-hidden="true" height="16" viewBox="0 0 16 16" version="1.1" width="16" data-view-component="true" class="octicon octicon-copilot-error">
    <path d="M16 11.24c0 .112-.072.274-.21.467L13 9.688V7.862l-.023-.116c-.49.21-1.075.291-1.727.291-.198 0-.388-.009-.571-.029L6.833 5.226a4.01 4.01 0 0 0 .17-.782c.117-.935-.037-1.395-.241-1.614-.193-.206-.637-.413-1.682-.297-.683.076-1.115.231-1.395.415l-1.257-.91c.579-.564 1.413-.877 2.485-.996 1.206-.134 2.262.034 2.944.765.05.053.096.108.139.165.044-.057.094-.112.143-.165.682-.731 1.738-.899 2.944-.765 1.23.137 2.145.528 2.724 1.261.566.715.693 1.614.693 2.484 0 .572-.053 1.148-.254 1.656.066.228.098.429.126.612.012.076.024.148.037.218.924.385 1.522 1.471 1.591 2.095Zm-5.083-8.707c-1.044-.116-1.488.091-1.681.297-.204.219-.359.679-.242 1.614.091.726.303 1.231.618 1.553.299.305.784.54 1.638.54.922 0 1.28-.198 1.442-.379.179-.2.308-.578.308-1.371 0-.765-.123-1.242-.37-1.554-.233-.296-.693-.587-1.713-.7Zm2.511 11.074c-1.393.776-3.272 1.428-5.43 1.428-4.562 0-7.873-2.914-7.998-3.749V9.338c.085-.628.677-1.686 1.588-2.065.013-.07.024-.143.036-.218.029-.183.06-.384.126-.612-.18-.455-.241-.963-.252-1.475L.31 4.107A.747.747 0 0 1 0 3.509V3.49a.748.748 0 0 1 .625-.73c.156-.026.306.047.435.139l14.667 10.578a.592.592 0 0 1 .227.264.752.752 0 0 1 .046.249v.022a.75.75 0 0 1-1.19.596Zm-1.367-.991L5.635 7.964a5.128 5.128 0 0 1-.889.073c-.652 0-1.236-.081-1.727-.291l-.023.116v4.255c.419.323 2.722 1.433 5.002 1.433 1.539 0 3.089-.505 4.063-.934Z"></path>
</svg>
</template>

<template id="workflow-icon">
  <svg aria-hidden="true" height="16" viewBox="0 0 16 16" version="1.1" width="16" data-view-component="true" class="octicon octicon-workflow">
    <path d="M0 1.75C0 .784.784 0 1.75 0h3.5C6.216 0 7 .784 7 1.75v3.5A1.75 1.75 0 0 1 5.25 7H4v4a1 1 0 0 0 1 1h4v-1.25C9 9.784 9.784 9 10.75 9h3.5c.966 0 1.75.784 1.75 1.75v3.5A1.75 1.75 0 0 1 14.25 16h-3.5A1.75 1.75 0 0 1 9 14.25v-.75H5A2.5 2.5 0 0 1 2.5 11V7h-.75A1.75 1.75 0 0 1 0 5.25Zm1.75-.25a.25.25 0 0 0-.25.25v3.5c0 .138.112.25.25.25h3.5a.25.25 0 0 0 .25-.25v-3.5a.25.25 0 0 0-.25-.25Zm9 9a.25.25 0 0 0-.25.25v3.5c0 .138.112.25.25.25h3.5a.25.25 0 0 0 .25-.25v-3.5a.25.25 0 0 0-.25-.25Z"></path>
</svg>
</template>

<template id="book-icon">
  <svg aria-hidden="true" height="16" viewBox="0 0 16 16" version="1.1" width="16" data-view-component="true" class="octicon octicon-book">
    <path d="M0 1.75A.75.75 0 0 1 .75 1h4.253c1.227 0 2.317.59 3 1.501A3.743 3.743 0 0 1 11.006 1h4.245a.75.75 0 0 1 .75.75v10.5a.75.75 0 0 1-.75.75h-4.507a2.25 2.25 0 0 0-1.591.659l-.622.621a.75.75 0 0 1-1.06 0l-.622-.621A2.25 2.25 0 0 0 5.258 13H.75a.75.75 0 0 1-.75-.75Zm7.251 10.324.004-5.073-.002-2.253A2.25 2.25 0 0 0 5.003 2.5H1.5v9h3.757a3.75 3.75 0 0 1 1.994.574ZM8.755 4.75l-.004 7.322a3.752 3.752 0 0 1 1.992-.572H14.5v-9h-3.495a2.25 2.25 0 0 0-2.25 2.25Z"></path>
</svg>
</template>

<template id="code-review-icon">
  <svg aria-hidden="true" height="16" viewBox="0 0 16 16" version="1.1" width="16" data-view-component="true" class="octicon octicon-code-review">
    <path d="M1.75 1h12.5c.966 0 1.75.784 1.75 1.75v8.5A1.75 1.75 0 0 1 14.25 13H8.061l-2.574 2.573A1.458 1.458 0 0 1 3 14.543V13H1.75A1.75 1.75 0 0 1 0 11.25v-8.5C0 1.784.784 1 1.75 1ZM1.5 2.75v8.5c0 .138.112.25.25.25h2a.75.75 0 0 1 .75.75v2.19l2.72-2.72a.749.749 0 0 1 .53-.22h6.5a.25.25 0 0 0 .25-.25v-8.5a.25.25 0 0 0-.25-.25H1.75a.25.25 0 0 0-.25.25Zm5.28 1.72a.75.75 0 0 1 0 1.06L5.31 7l1.47 1.47a.751.751 0 0 1-.018 1.042.751.751 0 0 1-1.042.018l-2-2a.75.75 0 0 1 0-1.06l2-2a.75.75 0 0 1 1.06 0Zm2.44 0a.75.75 0 0 1 1.06 0l2 2a.75.75 0 0 1 0 1.06l-2 2a.751.751 0 0 1-1.042-.018.751.751 0 0 1-.018-1.042L10.69 7 9.22 5.53a.75.75 0 0 1 0-1.06Z"></path>
</svg>
</template>

<template id="codespaces-icon">
  <svg aria-hidden="true" height="16" viewBox="0 0 16 16" version="1.1" width="16" data-view-component="true" class="octicon octicon-codespaces">
    <path d="M0 11.25c0-.966.784-1.75 1.75-1.75h12.5c.966 0 1.75.784 1.75 1.75v3A1.75 1.75 0 0 1 14.25 16H1.75A1.75 1.75 0 0 1 0 14.25Zm2-9.5C2 .784 2.784 0 3.75 0h8.5C13.216 0 14 .784 14 1.75v5a1.75 1.75 0 0 1-1.75 1.75h-8.5A1.75 1.75 0 0 1 2 6.75Zm1.75-.25a.25.25 0 0 0-.25.25v5c0 .138.112.25.25.25h8.5a.25.25 0 0 0 .25-.25v-5a.25.25 0 0 0-.25-.25Zm-2 9.5a.25.25 0 0 0-.25.25v3c0 .138.112.25.25.25h12.5a.25.25 0 0 0 .25-.25v-3a.25.25 0 0 0-.25-.25Z"></path><path d="M7 12.75a.75.75 0 0 1 .75-.75h4.5a.75.75 0 0 1 0 1.5h-4.5a.75.75 0 0 1-.75-.75Zm-4 0a.75.75 0 0 1 .75-.75h.5a.75.75 0 0 1 0 1.5h-.5a.75.75 0 0 1-.75-.75Z"></path>
</svg>
</template>

<template id="comment-icon">
  <svg aria-hidden="true" height="16" viewBox="0 0 16 16" version="1.1" width="16" data-view-component="true" class="octicon octicon-comment">
    <path d="M1 2.75C1 1.784 1.784 1 2.75 1h10.5c.966 0 1.75.784 1.75 1.75v7.5A1.75 1.75 0 0 1 13.25 12H9.06l-2.573 2.573A1.458 1.458 0 0 1 4 13.543V12H2.75A1.75 1.75 0 0 1 1 10.25Zm1.75-.25a.25.25 0 0 0-.25.25v7.5c0 .138.112.25.25.25h2a.75.75 0 0 1 .75.75v2.19l2.72-2.72a.749.749 0 0 1 .53-.22h4.5a.25.25 0 0 0 .25-.25v-7.5a.25.25 0 0 0-.25-.25Z"></path>
</svg>
</template>

<template id="comment-discussion-icon">
  <svg aria-hidden="true" height="16" viewBox="0 0 16 16" version="1.1" width="16" data-view-component="true" class="octicon octicon-comment-discussion">
    <path d="M1.75 1h8.5c.966 0 1.75.784 1.75 1.75v5.5A1.75 1.75 0 0 1 10.25 10H7.061l-2.574 2.573A1.458 1.458 0 0 1 2 11.543V10h-.25A1.75 1.75 0 0 1 0 8.25v-5.5C0 1.784.784 1 1.75 1ZM1.5 2.75v5.5c0 .138.112.25.25.25h1a.75.75 0 0 1 .75.75v2.19l2.72-2.72a.749.749 0 0 1 .53-.22h3.5a.25.25 0 0 0 .25-.25v-5.5a.25.25 0 0 0-.25-.25h-8.5a.25.25 0 0 0-.25.25Zm13 2a.25.25 0 0 0-.25-.25h-.5a.75.75 0 0 1 0-1.5h.5c.966 0 1.75.784 1.75 1.75v5.5A1.75 1.75 0 0 1 14.25 12H14v1.543a1.458 1.458 0 0 1-2.487 1.03L9.22 12.28a.749.749 0 0 1 .326-1.275.749.749 0 0 1 .734.215l2.22 2.22v-2.19a.75.75 0 0 1 .75-.75h1a.25.25 0 0 0 .25-.25Z"></path>
</svg>
</template>

<template id="organization-icon">
  <svg aria-hidden="true" height="16" viewBox="0 0 16 16" version="1.1" width="16" data-view-component="true" class="octicon octicon-organization">
    <path d="M1.75 16A1.75 1.75 0 0 1 0 14.25V1.75C0 .784.784 0 1.75 0h8.5C11.216 0 12 .784 12 1.75v12.5c0 .085-.006.168-.018.25h2.268a.25.25 0 0 0 .25-.25V8.285a.25.25 0 0 0-.111-.208l-1.055-.703a.749.749 0 1 1 .832-1.248l1.055.703c.487.325.779.871.779 1.456v5.965A1.75 1.75 0 0 1 14.25 16h-3.5a.766.766 0 0 1-.197-.026c-.099.017-.2.026-.303.026h-3a.75.75 0 0 1-.75-.75V14h-1v1.25a.75.75 0 0 1-.75.75Zm-.25-1.75c0 .138.112.25.25.25H4v-1.25a.75.75 0 0 1 .75-.75h2.5a.75.75 0 0 1 .75.75v1.25h2.25a.25.25 0 0 0 .25-.25V1.75a.25.25 0 0 0-.25-.25h-8.5a.25.25 0 0 0-.25.25ZM3.75 6h.5a.75.75 0 0 1 0 1.5h-.5a.75.75 0 0 1 0-1.5ZM3 3.75A.75.75 0 0 1 3.75 3h.5a.75.75 0 0 1 0 1.5h-.5A.75.75 0 0 1 3 3.75Zm4 3A.75.75 0 0 1 7.75 6h.5a.75.75 0 0 1 0 1.5h-.5A.75.75 0 0 1 7 6.75ZM7.75 3h.5a.75.75 0 0 1 0 1.5h-.5a.75.75 0 0 1 0-1.5ZM3 9.75A.75.75 0 0 1 3.75 9h.5a.75.75 0 0 1 0 1.5h-.5A.75.75 0 0 1 3 9.75ZM7.75 9h.5a.75.75 0 0 1 0 1.5h-.5a.75.75 0 0 1 0-1.5Z"></path>
</svg>
</template>

<template id="rocket-icon">
  <svg aria-hidden="true" height="16" viewBox="0 0 16 16" version="1.1" width="16" data-view-component="true" class="octicon octicon-rocket">
    <path d="M14.064 0h.186C15.216 0 16 .784 16 1.75v.186a8.752 8.752 0 0 1-2.564 6.186l-.458.459c-.314.314-.641.616-.979.904v3.207c0 .608-.315 1.172-.833 1.49l-2.774 1.707a.749.749 0 0 1-1.11-.418l-.954-3.102a1.214 1.214 0 0 1-.145-.125L3.754 9.816a1.218 1.218 0 0 1-.124-.145L.528 8.717a.749.749 0 0 1-.418-1.11l1.71-2.774A1.748 1.748 0 0 1 3.31 4h3.204c.288-.338.59-.665.904-.979l.459-.458A8.749 8.749 0 0 1 14.064 0ZM8.938 3.623h-.002l-.458.458c-.76.76-1.437 1.598-2.02 2.5l-1.5 2.317 2.143 2.143 2.317-1.5c.902-.583 1.74-1.26 2.499-2.02l.459-.458a7.25 7.25 0 0 0 2.123-5.127V1.75a.25.25 0 0 0-.25-.25h-.186a7.249 7.249 0 0 0-5.125 2.123ZM3.56 14.56c-.732.732-2.334 1.045-3.005 1.148a.234.234 0 0 1-.201-.064.234.234 0 0 1-.064-.201c.103-.671.416-2.273 1.15-3.003a1.502 1.502 0 1 1 2.12 2.12Zm6.94-3.935c-.088.06-.177.118-.266.175l-2.35 1.521.548 1.783 1.949-1.2a.25.25 0 0 0 .119-.213ZM3.678 8.116 5.2 5.766c.058-.09.117-.178.176-.266H3.309a.25.25 0 0 0-.213.119l-1.2 1.95ZM12 5a1 1 0 1 1-2 0 1 1 0 0 1 2 0Z"></path>
</svg>
</template>

<template id="shield-check-icon">
  <svg aria-hidden="true" height="16" viewBox="0 0 16 16" version="1.1" width="16" data-view-component="true" class="octicon octicon-shield-check">
    <path d="m8.533.133 5.25 1.68A1.75 1.75 0 0 1 15 3.48V7c0 1.566-.32 3.182-1.303 4.682-.983 1.498-2.585 2.813-5.032 3.855a1.697 1.697 0 0 1-1.33 0c-2.447-1.042-4.049-2.357-5.032-3.855C1.32 10.182 1 8.566 1 7V3.48a1.75 1.75 0 0 1 1.217-1.667l5.25-1.68a1.748 1.748 0 0 1 1.066 0Zm-.61 1.429.001.001-5.25 1.68a.251.251 0 0 0-.174.237V7c0 1.36.275 2.666 1.057 3.859.784 1.194 2.121 2.342 4.366 3.298a.196.196 0 0 0 .154 0c2.245-.957 3.582-2.103 4.366-3.297C13.225 9.666 13.5 8.358 13.5 7V3.48a.25.25 0 0 0-.174-.238l-5.25-1.68a.25.25 0 0 0-.153 0ZM11.28 6.28l-3.5 3.5a.75.75 0 0 1-1.06 0l-1.5-1.5a.749.749 0 0 1 .326-1.275.749.749 0 0 1 .734.215l.97.97 2.97-2.97a.751.751 0 0 1 1.042.018.751.751 0 0 1 .018 1.042Z"></path>
</svg>
</template>

<template id="heart-icon">
  <svg aria-hidden="true" height="16" viewBox="0 0 16 16" version="1.1" width="16" data-view-component="true" class="octicon octicon-heart">
    <path d="m8 14.25.345.666a.75.75 0 0 1-.69 0l-.008-.004-.018-.01a7.152 7.152 0 0 1-.31-.17 22.055 22.055 0 0 1-3.434-2.414C2.045 10.731 0 8.35 0 5.5 0 2.836 2.086 1 4.25 1 5.797 1 7.153 1.802 8 3.02 8.847 1.802 10.203 1 11.75 1 13.914 1 16 2.836 16 5.5c0 2.85-2.045 5.231-3.885 6.818a22.066 22.066 0 0 1-3.744 2.584l-.018.01-.006.003h-.002ZM4.25 2.5c-1.336 0-2.75 1.164-2.75 3 0 2.15 1.58 4.144 3.365 5.682A20.58 20.58 0 0 0 8 13.393a20.58 20.58 0 0 0 3.135-2.211C12.92 9.644 14.5 7.65 14.5 5.5c0-1.836-1.414-3-2.75-3-1.373 0-2.609.986-3.029 2.456a.749.749 0 0 1-1.442 0C6.859 3.486 5.623 2.5 4.25 2.5Z"></path>
</svg>
</template>

<template id="server-icon">
  <svg aria-hidden="true" height="16" viewBox="0 0 16 16" version="1.1" width="16" data-view-component="true" class="octicon octicon-server">
    <path d="M1.75 1h12.5c.966 0 1.75.784 1.75 1.75v4c0 .372-.116.717-.314 1 .198.283.314.628.314 1v4a1.75 1.75 0 0 1-1.75 1.75H1.75A1.75 1.75 0 0 1 0 12.75v-4c0-.358.109-.707.314-1a1.739 1.739 0 0 1-.314-1v-4C0 1.784.784 1 1.75 1ZM1.5 2.75v4c0 .138.112.25.25.25h12.5a.25.25 0 0 0 .25-.25v-4a.25.25 0 0 0-.25-.25H1.75a.25.25 0 0 0-.25.25Zm.25 5.75a.25.25 0 0 0-.25.25v4c0 .138.112.25.25.25h12.5a.25.25 0 0 0 .25-.25v-4a.25.25 0 0 0-.25-.25ZM7 4.75A.75.75 0 0 1 7.75 4h4.5a.75.75 0 0 1 0 1.5h-4.5A.75.75 0 0 1 7 4.75ZM7.75 10h4.5a.75.75 0 0 1 0 1.5h-4.5a.75.75 0 0 1 0-1.5ZM3 4.75A.75.75 0 0 1 3.75 4h.5a.75.75 0 0 1 0 1.5h-.5A.75.75 0 0 1 3 4.75ZM3.75 10h.5a.75.75 0 0 1 0 1.5h-.5a.75.75 0 0 1 0-1.5Z"></path>
</svg>
</template>

<template id="globe-icon">
  <svg aria-hidden="true" height="16" viewBox="0 0 16 16" version="1.1" width="16" data-view-component="true" class="octicon octicon-globe">
    <path d="M8 0a8 8 0 1 1 0 16A8 8 0 0 1 8 0ZM5.78 8.75a9.64 9.64 0 0 0 1.363 4.177c.255.426.542.832.857 1.215.245-.296.551-.705.857-1.215A9.64 9.64 0 0 0 10.22 8.75Zm4.44-1.5a9.64 9.64 0 0 0-1.363-4.177c-.307-.51-.612-.919-.857-1.215a9.927 9.927 0 0 0-.857 1.215A9.64 9.64 0 0 0 5.78 7.25Zm-5.944 1.5H1.543a6.507 6.507 0 0 0 4.666 5.5c-.123-.181-.24-.365-.352-.552-.715-1.192-1.437-2.874-1.581-4.948Zm-2.733-1.5h2.733c.144-2.074.866-3.756 1.58-4.948.12-.197.237-.381.353-.552a6.507 6.507 0 0 0-4.666 5.5Zm10.181 1.5c-.144 2.074-.866 3.756-1.58 4.948-.12.197-.237.381-.353.552a6.507 6.507 0 0 0 4.666-5.5Zm2.733-1.5a6.507 6.507 0 0 0-4.666-5.5c.123.181.24.365.353.552.714 1.192 1.436 2.874 1.58 4.948Z"></path>
</svg>
</template>

<template id="issue-opened-icon">
  <svg aria-hidden="true" height="16" viewBox="0 0 16 16" version="1.1" width="16" data-view-component="true" class="octicon octicon-issue-opened">
    <path d="M8 9.5a1.5 1.5 0 1 0 0-3 1.5 1.5 0 0 0 0 3Z"></path><path d="M8 0a8 8 0 1 1 0 16A8 8 0 0 1 8 0ZM1.5 8a6.5 6.5 0 1 0 13 0 6.5 6.5 0 0 0-13 0Z"></path>
</svg>
</template>

<template id="device-mobile-icon">
  <svg aria-hidden="true" height="16" viewBox="0 0 16 16" version="1.1" width="16" data-view-component="true" class="octicon octicon-device-mobile">
    <path d="M3.75 0h8.5C13.216 0 14 .784 14 1.75v12.5A1.75 1.75 0 0 1 12.25 16h-8.5A1.75 1.75 0 0 1 2 14.25V1.75C2 .784 2.784 0 3.75 0ZM3.5 1.75v12.5c0 .138.112.25.25.25h8.5a.25.25 0 0 0 .25-.25V1.75a.25.25 0 0 0-.25-.25h-8.5a.25.25 0 0 0-.25.25ZM8 13a1 1 0 1 1 0-2 1 1 0 0 1 0 2Z"></path>
</svg>
</template>

<template id="package-icon">
  <svg aria-hidden="true" height="16" viewBox="0 0 16 16" version="1.1" width="16" data-view-component="true" class="octicon octicon-package">
    <path d="m8.878.392 5.25 3.045c.54.314.872.89.872 1.514v6.098a1.75 1.75 0 0 1-.872 1.514l-5.25 3.045a1.75 1.75 0 0 1-1.756 0l-5.25-3.045A1.75 1.75 0 0 1 1 11.049V4.951c0-.624.332-1.201.872-1.514L7.122.392a1.75 1.75 0 0 1 1.756 0ZM7.875 1.69l-4.63 2.685L8 7.133l4.755-2.758-4.63-2.685a.248.248 0 0 0-.25 0ZM2.5 5.677v5.372c0 .09.047.171.125.216l4.625 2.683V8.432Zm6.25 8.271 4.625-2.683a.25.25 0 0 0 .125-.216V5.677L8.75 8.432Z"></path>
</svg>
</template>

<template id="credit-card-icon">
  <svg aria-hidden="true" height="16" viewBox="0 0 16 16" version="1.1" width="16" data-view-component="true" class="octicon octicon-credit-card">
    <path d="M10.75 9a.75.75 0 0 0 0 1.5h1.5a.75.75 0 0 0 0-1.5h-1.5Z"></path><path d="M0 3.75C0 2.784.784 2 1.75 2h12.5c.966 0 1.75.784 1.75 1.75v8.5A1.75 1.75 0 0 1 14.25 14H1.75A1.75 1.75 0 0 1 0 12.25ZM14.5 6.5h-13v5.75c0 .138.112.25.25.25h12.5a.25.25 0 0 0 .25-.25Zm0-2.75a.25.25 0 0 0-.25-.25H1.75a.25.25 0 0 0-.25.25V5h13Z"></path>
</svg>
</template>

<template id="play-icon">
  <svg aria-hidden="true" height="16" viewBox="0 0 16 16" version="1.1" width="16" data-view-component="true" class="octicon octicon-play">
    <path d="M8 0a8 8 0 1 1 0 16A8 8 0 0 1 8 0ZM1.5 8a6.5 6.5 0 1 0 13 0 6.5 6.5 0 0 0-13 0Zm4.879-2.773 4.264 2.559a.25.25 0 0 1 0 .428l-4.264 2.559A.25.25 0 0 1 6 10.559V5.442a.25.25 0 0 1 .379-.215Z"></path>
</svg>
</template>

<template id="gift-icon">
  <svg aria-hidden="true" height="16" viewBox="0 0 16 16" version="1.1" width="16" data-view-component="true" class="octicon octicon-gift">
    <path d="M2 2.75A2.75 2.75 0 0 1 4.75 0c.983 0 1.873.42 2.57 1.232.268.318.497.668.68 1.042.183-.375.411-.725.68-1.044C9.376.42 10.266 0 11.25 0a2.75 2.75 0 0 1 2.45 4h.55c.966 0 1.75.784 1.75 1.75v2c0 .698-.409 1.301-1 1.582v4.918A1.75 1.75 0 0 1 13.25 16H2.75A1.75 1.75 0 0 1 1 14.25V9.332C.409 9.05 0 8.448 0 7.75v-2C0 4.784.784 4 1.75 4h.55c-.192-.375-.3-.8-.3-1.25ZM7.25 9.5H2.5v4.75c0 .138.112.25.25.25h4.5Zm1.5 0v5h4.5a.25.25 0 0 0 .25-.25V9.5Zm0-4V8h5.5a.25.25 0 0 0 .25-.25v-2a.25.25 0 0 0-.25-.25Zm-7 0a.25.25 0 0 0-.25.25v2c0 .138.112.25.25.25h5.5V5.5h-5.5Zm3-4a1.25 1.25 0 0 0 0 2.5h2.309c-.233-.818-.542-1.401-.878-1.793-.43-.502-.915-.707-1.431-.707ZM8.941 4h2.309a1.25 1.25 0 0 0 0-2.5c-.516 0-1 .205-1.43.707-.337.392-.646.975-.879 1.793Z"></path>
</svg>
</template>

<template id="code-square-icon">
  <svg aria-hidden="true" height="16" viewBox="0 0 16 16" version="1.1" width="16" data-view-component="true" class="octicon octicon-code-square">
    <path d="M0 1.75C0 .784.784 0 1.75 0h12.5C15.216 0 16 .784 16 1.75v12.5A1.75 1.75 0 0 1 14.25 16H1.75A1.75 1.75 0 0 1 0 14.25Zm1.75-.25a.25.25 0 0 0-.25.25v12.5c0 .138.112.25.25.25h12.5a.25.25 0 0 0 .25-.25V1.75a.25.25 0 0 0-.25-.25Zm7.47 3.97a.75.75 0 0 1 1.06 0l2 2a.75.75 0 0 1 0 1.06l-2 2a.749.749 0 0 1-1.275-.326.749.749 0 0 1 .215-.734L10.69 8 9.22 6.53a.75.75 0 0 1 0-1.06ZM6.78 6.53 5.31 8l1.47 1.47a.749.749 0 0 1-.326 1.275.749.749 0 0 1-.734-.215l-2-2a.75.75 0 0 1 0-1.06l2-2a.751.751 0 0 1 1.042.018.751.751 0 0 1 .018 1.042Z"></path>
</svg>
</template>

<template id="device-desktop-icon">
  <svg aria-hidden="true" height="16" viewBox="0 0 16 16" version="1.1" width="16" data-view-component="true" class="octicon octicon-device-desktop">
    <path d="M14.25 1c.966 0 1.75.784 1.75 1.75v7.5A1.75 1.75 0 0 1 14.25 12h-3.727c.099 1.041.52 1.872 1.292 2.757A.752.752 0 0 1 11.25 16h-6.5a.75.75 0 0 1-.565-1.243c.772-.885 1.192-1.716 1.292-2.757H1.75A1.75 1.75 0 0 1 0 10.25v-7.5C0 1.784.784 1 1.75 1ZM1.75 2.5a.25.25 0 0 0-.25.25v7.5c0 .138.112.25.25.25h12.5a.25.25 0 0 0 .25-.25v-7.5a.25.25 0 0 0-.25-.25ZM9.018 12H6.982a5.72 5.72 0 0 1-.765 2.5h3.566a5.72 5.72 0 0 1-.765-2.5Z"></path>
</svg>
</template>

        <div class="position-relative">
                <ul
                  role="listbox"
                  class="ActionListWrap QueryBuilder-ListWrap"
                  aria-label="Suggestions"
                  data-action="
                    combobox-commit:query-builder#comboboxCommit
                    mousedown:query-builder#resultsMousedown
                  "
                  data-target="query-builder.resultsList"
                  data-persist-list=false
                  id="query-builder-test-results"
                ></ul>
        </div>
      <div class="FormControl-inlineValidation" id="validation-375c431e-5d69-4290-a047-00d11ba993e9" hidden="hidden">
        <span class="FormControl-inlineValidation--visual">
          <svg aria-hidden="true" height="12" viewBox="0 0 12 12" version="1.1" width="12" data-view-component="true" class="octicon octicon-alert-fill">
    <path d="M4.855.708c.5-.896 1.79-.896 2.29 0l4.675 8.351a1.312 1.312 0 0 1-1.146 1.954H1.33A1.313 1.313 0 0 1 .183 9.058ZM7 7V3H5v4Zm-1 3a1 1 0 1 0 0-2 1 1 0 0 0 0 2Z"></path>
</svg>
        </span>
        <span></span>
</div>    </div>
    <div data-target="query-builder.screenReaderFeedback" aria-live="polite" aria-atomic="true" class="sr-only"></div>
</query-builder></form>
          <div class="d-flex flex-row color-fg-muted px-3 text-small color-bg-default search-feedback-prompt">
            <a target="_blank" href="https://docs.github.com/search-github/github-code-search/understanding-github-code-search-syntax" data-view-component="true" class="Link color-fg-accent text-normal ml-2">Search syntax tips</a>            <div class="d-flex flex-1"></div>
              <button data-action="click:qbsearch-input#showFeedbackDialog" type="button" data-view-component="true" class="Button--link Button--medium Button color-fg-accent text-normal ml-2">  <span class="Button-content">
    <span class="Button-label">Give feedback</span>
  </span>
</button>
          </div>
        </div>
</div>

    </div>
</modal-dialog></div>
  </div>
  <div data-action="click:qbsearch-input#retract" class="dark-backdrop position-fixed" hidden data-target="qbsearch-input.darkBackdrop"></div>
  <div class="color-fg-default">
    
<dialog-helper>
  <dialog data-target="qbsearch-input.feedbackDialog" data-action="close:qbsearch-input#handleDialogClose cancel:qbsearch-input#handleDialogClose" id="feedback-dialog" aria-modal="true" aria-labelledby="feedback-dialog-title" aria-describedby="feedback-dialog-description" data-view-component="true" class="Overlay Overlay-whenNarrow Overlay--size-medium Overlay--motion-scaleFade Overlay--disableScroll">
    <div data-view-component="true" class="Overlay-header">
  <div class="Overlay-headerContentWrap">
    <div class="Overlay-titleWrap">
      <h1 class="Overlay-title " id="feedback-dialog-title">
        Provide feedback
      </h1>
        
    </div>
    <div class="Overlay-actionWrap">
      <button data-close-dialog-id="feedback-dialog" aria-label="Close" aria-label="Close" type="button" data-view-component="true" class="close-button Overlay-closeButton"><svg aria-hidden="true" height="16" viewBox="0 0 16 16" version="1.1" width="16" data-view-component="true" class="octicon octicon-x">
    <path d="M3.72 3.72a.75.75 0 0 1 1.06 0L8 6.94l3.22-3.22a.749.749 0 0 1 1.275.326.749.749 0 0 1-.215.734L9.06 8l3.22 3.22a.749.749 0 0 1-.326 1.275.749.749 0 0 1-.734-.215L8 9.06l-3.22 3.22a.751.751 0 0 1-1.042-.018.751.751 0 0 1-.018-1.042L6.94 8 3.72 4.78a.75.75 0 0 1 0-1.06Z"></path>
</svg></button>
    </div>
  </div>
  
</div>
      <scrollable-region data-labelled-by="feedback-dialog-title">
        <div data-view-component="true" class="Overlay-body">        <!-- '"` --><!-- </textarea></xmp> --></option></form><form id="code-search-feedback-form" data-turbo="false" action="/search/feedback" accept-charset="UTF-8" method="post"><input type="hidden" name="authenticity_token" value="LFSmcCcEGVCHBobZspLk-erifP8zQ5-u975gfCg-6st5nn8Q9PhHA8GEJixNj2hFxgEowKDx_EkvheqjvqtRJQ" />
          <p>We read every piece of feedback, and take your input very seriously.</p>
          <textarea name="feedback" class="form-control width-full mb-2" style="height: 120px" id="feedback"></textarea>
          <input name="include_email" id="include_email" aria-label="Include my email address so I can be contacted" class="form-control mr-2" type="checkbox">
          <label for="include_email" style="font-weight: normal">Include my email address so I can be contacted</label>
</form></div>
      </scrollable-region>
      <div data-view-component="true" class="Overlay-footer Overlay-footer--alignEnd">          <button data-close-dialog-id="feedback-dialog" type="button" data-view-component="true" class="btn">    Cancel
</button>
          <button form="code-search-feedback-form" data-action="click:qbsearch-input#submitFeedback" type="submit" data-view-component="true" class="btn-primary btn">    Submit feedback
</button>
</div>
</dialog></dialog-helper>

    <custom-scopes data-target="qbsearch-input.customScopesManager">
    
<dialog-helper>
  <dialog data-target="custom-scopes.customScopesModalDialog" data-action="close:qbsearch-input#handleDialogClose cancel:qbsearch-input#handleDialogClose" id="custom-scopes-dialog" aria-modal="true" aria-labelledby="custom-scopes-dialog-title" aria-describedby="custom-scopes-dialog-description" data-view-component="true" class="Overlay Overlay-whenNarrow Overlay--size-medium Overlay--motion-scaleFade Overlay--disableScroll">
    <div data-view-component="true" class="Overlay-header Overlay-header--divided">
  <div class="Overlay-headerContentWrap">
    <div class="Overlay-titleWrap">
      <h1 class="Overlay-title " id="custom-scopes-dialog-title">
        Saved searches
      </h1>
        <h2 id="custom-scopes-dialog-description" class="Overlay-description">Use saved searches to filter your results more quickly</h2>
    </div>
    <div class="Overlay-actionWrap">
      <button data-close-dialog-id="custom-scopes-dialog" aria-label="Close" aria-label="Close" type="button" data-view-component="true" class="close-button Overlay-closeButton"><svg aria-hidden="true" height="16" viewBox="0 0 16 16" version="1.1" width="16" data-view-component="true" class="octicon octicon-x">
    <path d="M3.72 3.72a.75.75 0 0 1 1.06 0L8 6.94l3.22-3.22a.749.749 0 0 1 1.275.326.749.749 0 0 1-.215.734L9.06 8l3.22 3.22a.749.749 0 0 1-.326 1.275.749.749 0 0 1-.734-.215L8 9.06l-3.22 3.22a.751.751 0 0 1-1.042-.018.751.751 0 0 1-.018-1.042L6.94 8 3.72 4.78a.75.75 0 0 1 0-1.06Z"></path>
</svg></button>
    </div>
  </div>
  
</div>
      <scrollable-region data-labelled-by="custom-scopes-dialog-title">
        <div data-view-component="true" class="Overlay-body">        <div data-target="custom-scopes.customScopesModalDialogFlash"></div>

        <div hidden class="create-custom-scope-form" data-target="custom-scopes.createCustomScopeForm">
        <!-- '"` --><!-- </textarea></xmp> --></option></form><form id="custom-scopes-dialog-form" data-turbo="false" action="/search/custom_scopes" accept-charset="UTF-8" method="post"><input type="hidden" name="authenticity_token" value="cT7qolo6VowAvxNAOSCEAnZk8um7i9h33kNr1WGcdcCuCXHSqPaJsfh4ET6Z7vrRlZ2hR8z0Cb6ooObu1AhP7A" />
          <div data-target="custom-scopes.customScopesModalDialogFlash"></div>

          <input type="hidden" id="custom_scope_id" name="custom_scope_id" data-target="custom-scopes.customScopesIdField">

          <div class="form-group">
            <label for="custom_scope_name">Name</label>
            <auto-check src="/search/custom_scopes/check_name" required>
              <input
                type="text"
                name="custom_scope_name"
                id="custom_scope_name"
                data-target="custom-scopes.customScopesNameField"
                class="form-control"
                autocomplete="off"
                placeholder="github-ruby"
                required
                maxlength="50">
              <input type="hidden" value="NpcvDh7KTGwBdz9xR4z2qxp7n8OM4OfCpZ8A0PUJ9sbufWtE878wm2Iy9kMndDgF2OMLWAZlrqiiHP3mDaHO4w" data-csrf="true" />
            </auto-check>
          </div>

          <div class="form-group">
            <label for="custom_scope_query">Query</label>
            <input
              type="text"
              name="custom_scope_query"
              id="custom_scope_query"
              data-target="custom-scopes.customScopesQueryField"
              class="form-control"
              autocomplete="off"
              placeholder="(repo:mona/a OR repo:mona/b) AND lang:python"
              required
              maxlength="500">
          </div>

          <p class="text-small color-fg-muted">
            To see all available qualifiers, see our <a class="Link--inTextBlock" href="https://docs.github.com/search-github/github-code-search/understanding-github-code-search-syntax">documentation</a>.
          </p>
</form>        </div>

        <div data-target="custom-scopes.manageCustomScopesForm">
          <div data-target="custom-scopes.list"></div>
        </div>

</div>
      </scrollable-region>
      <div data-view-component="true" class="Overlay-footer Overlay-footer--alignEnd Overlay-footer--divided">          <button data-action="click:custom-scopes#customScopesCancel" type="button" data-view-component="true" class="btn">    Cancel
</button>
          <button form="custom-scopes-dialog-form" data-action="click:custom-scopes#customScopesSubmit" data-target="custom-scopes.customScopesSubmitButton" type="submit" data-view-component="true" class="btn-primary btn">    Create saved search
</button>
</div>
</dialog></dialog-helper>
    </custom-scopes>
  </div>
</qbsearch-input>  <input type="hidden" value="T0X9CXFEmN9bjTPeNA5jcUg0S7nuC_Z9IlPOgRafIy9hBK6OI8GOFXVPUWKbyDoHwYPt6vBnqHWYYvjEJJDusg" data-csrf="true" class="js-data-jump-to-suggestions-path-csrf" />


          </div>

        
          <div class="AppHeader-CopilotChat hide-sm hide-md">
  <react-partial-anchor>
      <a href="/copilot" data-target="react-partial-anchor.anchor" id="copilot-chat-header-button" aria-labelledby="tooltip-6bad0dde-03b7-4206-bc07-c36fc74a3adb" data-view-component="true" class="Button Button--iconOnly Button--secondary Button--medium AppHeader-button AppHeader-buttonLeft cursor-wait">  <svg aria-hidden="true" height="16" viewBox="0 0 16 16" version="1.1" width="16" data-view-component="true" class="octicon octicon-copilot Button-visual">
    <path d="M7.998 15.035c-4.562 0-7.873-2.914-7.998-3.749V9.338c.085-.628.677-1.686 1.588-2.065.013-.07.024-.143.036-.218.029-.183.06-.384.126-.612-.201-.508-.254-1.084-.254-1.656 0-.87.128-1.769.693-2.484.579-.733 1.494-1.124 2.724-1.261 1.206-.134 2.262.034 2.944.765.05.053.096.108.139.165.044-.057.094-.112.143-.165.682-.731 1.738-.899 2.944-.765 1.23.137 2.145.528 2.724 1.261.566.715.693 1.614.693 2.484 0 .572-.053 1.148-.254 1.656.066.228.098.429.126.612.012.076.024.148.037.218.924.385 1.522 1.471 1.591 2.095v1.872c0 .766-3.351 3.795-8.002 3.795Zm0-1.485c2.28 0 4.584-1.11 5.002-1.433V7.862l-.023-.116c-.49.21-1.075.291-1.727.291-1.146 0-2.059-.327-2.71-.991A3.222 3.222 0 0 1 8 6.303a3.24 3.24 0 0 1-.544.743c-.65.664-1.563.991-2.71.991-.652 0-1.236-.081-1.727-.291l-.023.116v4.255c.419.323 2.722 1.433 5.002 1.433ZM6.762 2.83c-.193-.206-.637-.413-1.682-.297-1.019.113-1.479.404-1.713.7-.247.312-.369.789-.369 1.554 0 .793.129 1.171.308 1.371.162.181.519.379 1.442.379.853 0 1.339-.235 1.638-.54.315-.322.527-.827.617-1.553.117-.935-.037-1.395-.241-1.614Zm4.155-.297c-1.044-.116-1.488.091-1.681.297-.204.219-.359.679-.242 1.614.091.726.303 1.231.618 1.553.299.305.784.54 1.638.54.922 0 1.28-.198 1.442-.379.179-.2.308-.578.308-1.371 0-.765-.123-1.242-.37-1.554-.233-.296-.693-.587-1.713-.7Z"></path><path d="M6.25 9.037a.75.75 0 0 1 .75.75v1.501a.75.75 0 0 1-1.5 0V9.787a.75.75 0 0 1 .75-.75Zm4.25.75v1.501a.75.75 0 0 1-1.5 0V9.787a.75.75 0 0 1 1.5 0Z"></path>
</svg>
</a><tool-tip id="tooltip-6bad0dde-03b7-4206-bc07-c36fc74a3adb" for="copilot-chat-header-button" popover="manual" data-direction="s" data-type="label" data-view-component="true" class="sr-only position-absolute">Chat with Copilot</tool-tip>

    <template data-target="react-partial-anchor.template">
      <script crossorigin="anonymous" defer="defer" type="application/javascript" src="https://github.githubassets.com/assets/vendors-node_modules_tanstack_query-core_build_modern_queryObserver_js-node_modules_tanstack_-defd52-9743ca933872.js"></script>
<script crossorigin="anonymous" defer="defer" type="application/javascript" src="https://github.githubassets.com/assets/vendors-node_modules_react-relay_index_js-807c0f12a723.js"></script>
<script crossorigin="anonymous" defer="defer" type="application/javascript" src="https://github.githubassets.com/assets/vendors-node_modules_github_combobox-nav_dist_index_js-node_modules_lit-labs_react_index_js-n-dddfa0-0125dcccf00e.js"></script>
<script crossorigin="anonymous" defer="defer" type="application/javascript" src="https://github.githubassets.com/assets/vendors-node_modules_remark-gfm_lib_index_js-node_modules_remark-parse_lib_index_js-node_modu-44d0fc-3771aaaad894.js"></script>
<script crossorigin="anonymous" defer="defer" type="application/javascript" src="https://github.githubassets.com/assets/vendors-node_modules_hastscript_lib_index_js-node_modules_lowlight_lib_all_js-node_modules_re-713cc1-87a5f2c143a1.js"></script>
<script crossorigin="anonymous" defer="defer" type="application/javascript" src="https://github.githubassets.com/assets/vendors-node_modules_github_mini-throttle_dist_decorators_js-node_modules_accname_dist_access-690142-cc5d4d11394c.js"></script>
<script crossorigin="anonymous" defer="defer" type="application/javascript" src="https://github.githubassets.com/assets/vendors-node_modules_github_hotkey_dist_index_js-node_modules_tanstack_react-query_build_mode-dbf980-9688e53971a6.js"></script>
<script crossorigin="anonymous" defer="defer" type="application/javascript" src="https://github.githubassets.com/assets/ui_packages_item-picker_components_RepositoryPicker_tsx-d90fb9ae932d.js"></script>
<script crossorigin="anonymous" defer="defer" type="application/javascript" src="https://github.githubassets.com/assets/ui_packages_copilot-chat_utils_copilot-chat-helpers_ts-d6b52f4d82b2.js"></script>
<script crossorigin="anonymous" defer="defer" type="application/javascript" src="https://github.githubassets.com/assets/ui_packages_copilot-markdown_MarkdownRenderer_tsx-c4d1eecf483c.js"></script>
<script crossorigin="anonymous" defer="defer" type="application/javascript" src="https://github.githubassets.com/assets/ui_packages_copilot-chat_utils_CopilotChatContext_tsx-ui_packages_safe-html_SafeHTML_tsx-50683879757b.js"></script>
<script crossorigin="anonymous" defer="defer" type="application/javascript" src="https://github.githubassets.com/assets/ui_packages_copilot-chat_components_CopilotIconAnimation_tsx-ui_packages_copilot-chat_compone-8be2e4-50945575771d.js"></script>
<script crossorigin="anonymous" defer="defer" type="application/javascript" src="https://github.githubassets.com/assets/copilot-chat-63af13cab388.js"></script>
<link crossorigin="anonymous" media="all" rel="stylesheet" href="https://github.githubassets.com/assets/primer-react.247007205a629ae606a1.module.css" />
<link crossorigin="anonymous" media="all" rel="stylesheet" href="https://github.githubassets.com/assets/copilot-chat.733729e1dcbf5987bf31.module.css" />
      <link crossorigin="anonymous" media="all" rel="stylesheet" href="https://github.githubassets.com/assets/copilot-markdown-rendering-f6845e8f5d6b.css" />
      <include-fragment src="/github-copilot/chat?skip_anchor=true" data-nonce="v2:1f95878f-43c2-9d77-3a54-4860bf2e081a" data-view-component="true">
  
  <div data-show-on-forbidden-error hidden>
    <div class="Box">
  <div class="blankslate-container">
    <div data-view-component="true" class="blankslate blankslate-spacious color-bg-default rounded-2">
      

      <h3 data-view-component="true" class="blankslate-heading">        Uh oh!
</h3>
      <p data-view-component="true">        <p class="color-fg-muted my-2 mb-2 ws-normal">There was an error while loading. <a class="Link--inTextBlock" data-turbo="false" href="" aria-label="Please reload this page">Please reload this page</a>.</p>
</p>

</div>  </div>
</div>  </div>
</include-fragment>
    </template>
  </react-partial-anchor>
  <react-partial-anchor>
    <button id="global-copilot-menu-button" data-target="react-partial-anchor.anchor" aria-expanded="false" aria-labelledby="tooltip-f6b393e6-ac13-43c5-80e0-cf62ab044998" type="button" data-view-component="true" class="Button Button--iconOnly Button--secondary Button--medium AppHeader-button AppHeader-buttonRight">  <svg aria-hidden="true" height="16" viewBox="0 0 16 16" version="1.1" width="16" data-view-component="true" class="octicon octicon-triangle-down Button-visual">
    <path d="m4.427 7.427 3.396 3.396a.25.25 0 0 0 .354 0l3.396-3.396A.25.25 0 0 0 11.396 7H4.604a.25.25 0 0 0-.177.427Z"></path>
</svg>
</button><tool-tip id="tooltip-f6b393e6-ac13-43c5-80e0-cf62ab044998" for="global-copilot-menu-button" popover="manual" data-direction="s" data-type="label" data-view-component="true" class="sr-only position-absolute">Open Copilot…</tool-tip>

    <template data-target="react-partial-anchor.template">
      <script crossorigin="anonymous" defer="defer" type="application/javascript" src="https://github.githubassets.com/assets/global-copilot-menu-563b646f60f5.js"></script>
<link crossorigin="anonymous" media="all" rel="stylesheet" href="https://github.githubassets.com/assets/primer-react.247007205a629ae606a1.module.css" />
<link crossorigin="anonymous" media="all" rel="stylesheet" href="https://github.githubassets.com/assets/global-copilot-menu.972c8de5acbdcb17b799.module.css" />

<react-partial
  partial-name="global-copilot-menu"
  data-ssr="false"
  data-attempted-ssr="false"
>
  
  <script type="application/json" data-target="react-partial.embeddedData">{"props":{}}</script>
  <div data-target="react-partial.reactRoot"></div>
</react-partial>

    </template>
  </react-partial-anchor>
</div>


        <div class="AppHeader-actions position-relative">
             <react-partial-anchor>
      <button id="global-create-menu-anchor" aria-label="Create something new" data-target="react-partial-anchor.anchor" type="button" disabled="disabled" data-view-component="true" class="AppHeader-button global-create-button cursor-wait Button--secondary Button--medium Button width-auto color-fg-muted">  <span class="Button-content">
      <span class="Button-visual Button-leadingVisual">
        <svg aria-hidden="true" height="16" viewBox="0 0 16 16" version="1.1" width="16" data-view-component="true" class="octicon octicon-plus">
    <path d="M7.75 2a.75.75 0 0 1 .75.75V7h4.25a.75.75 0 0 1 0 1.5H8.5v4.25a.75.75 0 0 1-1.5 0V8.5H2.75a.75.75 0 0 1 0-1.5H7V2.75A.75.75 0 0 1 7.75 2Z"></path>
</svg>
      </span>
    <span class="Button-label"><svg aria-hidden="true" height="16" viewBox="0 0 16 16" version="1.1" width="16" data-view-component="true" class="octicon octicon-triangle-down">
    <path d="m4.427 7.427 3.396 3.396a.25.25 0 0 0 .354 0l3.396-3.396A.25.25 0 0 0 11.396 7H4.604a.25.25 0 0 0-.177.427Z"></path>
</svg></span>
  </span>
</button><tool-tip id="tooltip-b47b38cd-a1bb-4af8-b555-090477c3d5c9" for="global-create-menu-anchor" popover="manual" data-direction="s" data-type="description" data-view-component="true" class="sr-only position-absolute">Create new...</tool-tip>

      <template data-target="react-partial-anchor.template">
        <script crossorigin="anonymous" defer="defer" type="application/javascript" src="https://github.githubassets.com/assets/ui_packages_document-metadata_document-metadata_ts-ui_packages_promise-with-resolvers-polyfil-b81d9e-6e2e6d28bfb2.js"></script>
<script crossorigin="anonymous" defer="defer" type="application/javascript" src="https://github.githubassets.com/assets/global-create-menu-c0e8b2269991.js"></script>
<link crossorigin="anonymous" media="all" rel="stylesheet" href="https://github.githubassets.com/assets/primer-react.247007205a629ae606a1.module.css" />
<link crossorigin="anonymous" media="all" rel="stylesheet" href="https://github.githubassets.com/assets/global-create-menu.b1ee6a6bae56a89148b1.module.css" />

<react-partial
  partial-name="global-create-menu"
  data-ssr="false"
  data-attempted-ssr="false"
>
  
  <script type="application/json" data-target="react-partial.embeddedData">{"props":{"createRepo":true,"importRepo":true,"codespaces":true,"spark":false,"gist":true,"createOrg":true,"createProject":false,"createProjectUrl":"/Dong-Den?tab=projects","createLegacyProject":false,"createIssue":false,"org":null,"owner":"Dong-Den","repo":"AIO-2025_Pre"}}</script>
  <div data-target="react-partial.reactRoot"></div>
</react-partial>

      </template>
    </react-partial-anchor>


            <a href="/issues" data-analytics-event="{&quot;category&quot;:&quot;Global navigation&quot;,&quot;action&quot;:&quot;ISSUES_HEADER&quot;,&quot;label&quot;:null}" id="icon-button-63f9c7a3-95e9-4126-8b6b-3c74189b8402" aria-labelledby="tooltip-33a51545-c642-4a85-9e11-e1a373e2e2b0" data-view-component="true" class="Button Button--iconOnly Button--secondary Button--medium AppHeader-button color-fg-muted">  <svg aria-hidden="true" height="16" viewBox="0 0 16 16" version="1.1" width="16" data-view-component="true" class="octicon octicon-issue-opened Button-visual">
    <path d="M8 9.5a1.5 1.5 0 1 0 0-3 1.5 1.5 0 0 0 0 3Z"></path><path d="M8 0a8 8 0 1 1 0 16A8 8 0 0 1 8 0ZM1.5 8a6.5 6.5 0 1 0 13 0 6.5 6.5 0 0 0-13 0Z"></path>
</svg>
</a><tool-tip id="tooltip-33a51545-c642-4a85-9e11-e1a373e2e2b0" for="icon-button-63f9c7a3-95e9-4126-8b6b-3c74189b8402" popover="manual" data-direction="s" data-type="label" data-view-component="true" class="sr-only position-absolute">Your issues</tool-tip>

            <a href="/pulls" data-analytics-event="{&quot;category&quot;:&quot;Global navigation&quot;,&quot;action&quot;:&quot;PULL_REQUESTS_HEADER&quot;,&quot;label&quot;:null}" id="icon-button-9e47cbc0-cb00-4414-ac45-de1cde695dc8" aria-labelledby="tooltip-a9ba7e17-566d-4949-ab16-ea8d9dc54952" data-view-component="true" class="Button Button--iconOnly Button--secondary Button--medium AppHeader-button color-fg-muted">  <svg aria-hidden="true" height="16" viewBox="0 0 16 16" version="1.1" width="16" data-view-component="true" class="octicon octicon-git-pull-request Button-visual">
    <path d="M1.5 3.25a2.25 2.25 0 1 1 3 2.122v5.256a2.251 2.251 0 1 1-1.5 0V5.372A2.25 2.25 0 0 1 1.5 3.25Zm5.677-.177L9.573.677A.25.25 0 0 1 10 .854V2.5h1A2.5 2.5 0 0 1 13.5 5v5.628a2.251 2.251 0 1 1-1.5 0V5a1 1 0 0 0-1-1h-1v1.646a.25.25 0 0 1-.427.177L7.177 3.427a.25.25 0 0 1 0-.354ZM3.75 2.5a.75.75 0 1 0 0 1.5.75.75 0 0 0 0-1.5Zm0 9.5a.75.75 0 1 0 0 1.5.75.75 0 0 0 0-1.5Zm8.25.75a.75.75 0 1 0 1.5 0 .75.75 0 0 0-1.5 0Z"></path>
</svg>
</a><tool-tip id="tooltip-a9ba7e17-566d-4949-ab16-ea8d9dc54952" for="icon-button-9e47cbc0-cb00-4414-ac45-de1cde695dc8" popover="manual" data-direction="s" data-type="label" data-view-component="true" class="sr-only position-absolute">Your pull requests</tool-tip>

        </div>

          <notification-indicator data-channel="eyJjIjoibm90aWZpY2F0aW9uLWNoYW5nZWQ6MTkzMzgxODYyIiwidCI6MTc0ODQ3NDA2Nn0=--fc0050de3b3ebfd068ef13bbbf33339b7a52d3f97d805994f6ebfb96480e798b" data-indicator-mode="none" data-tooltip-global="You have unread notifications" data-tooltip-unavailable="Notifications are unavailable at the moment." data-tooltip-none="You have no unread notifications" data-header-redesign-enabled="true" data-fetch-indicator-src="/notifications/indicator" data-fetch-indicator-enabled="true" data-view-component="true" class="js-socket-channel">
    <a id="AppHeader-notifications-button" href="/notifications" aria-labelledby="notification-indicator-tooltip" data-hotkey="g n" data-target="notification-indicator.link" data-analytics-event="{&quot;category&quot;:&quot;Global navigation&quot;,&quot;action&quot;:&quot;NOTIFICATIONS_HEADER&quot;,&quot;label&quot;:null}" data-view-component="true" class="Button Button--iconOnly Button--secondary Button--medium AppHeader-button  color-fg-muted">  <svg aria-hidden="true" height="16" viewBox="0 0 16 16" version="1.1" width="16" data-view-component="true" class="octicon octicon-inbox Button-visual">
    <path d="M2.8 2.06A1.75 1.75 0 0 1 4.41 1h7.18c.7 0 1.333.417 1.61 1.06l2.74 6.395c.04.093.06.194.06.295v4.5A1.75 1.75 0 0 1 14.25 15H1.75A1.75 1.75 0 0 1 0 13.25v-4.5c0-.101.02-.202.06-.295Zm1.61.44a.25.25 0 0 0-.23.152L1.887 8H4.75a.75.75 0 0 1 .6.3L6.625 10h2.75l1.275-1.7a.75.75 0 0 1 .6-.3h2.863L11.82 2.652a.25.25 0 0 0-.23-.152Zm10.09 7h-2.875l-1.275 1.7a.75.75 0 0 1-.6.3h-3.5a.75.75 0 0 1-.6-.3L4.375 9.5H1.5v3.75c0 .138.112.25.25.25h12.5a.25.25 0 0 0 .25-.25Z"></path>
</svg>
</a>

    <tool-tip id="notification-indicator-tooltip" data-target="notification-indicator.tooltip" for="AppHeader-notifications-button" popover="manual" data-direction="s" data-type="label" data-view-component="true" class="sr-only position-absolute">Notifications</tool-tip>
</notification-indicator>

        <div class="AppHeader-user">
          <deferred-side-panel data-url="/_side-panels/user?repository_id=976489619">
  <include-fragment data-target="deferred-side-panel.fragment" data-nonce="v2:1f95878f-43c2-9d77-3a54-4860bf2e081a" data-view-component="true">
  
    <react-partial-anchor
  
>
  <button data-target="react-partial-anchor.anchor" data-login="Dong-Den" aria-label="Open user navigation menu" type="button" data-view-component="true" class="cursor-wait Button--invisible Button--medium Button Button--invisible-noVisuals color-bg-transparent p-0">  <span class="Button-content">
    <span class="Button-label"><img src="https://avatars.githubusercontent.com/u/193381862?v=4" alt="" size="32" height="32" width="32" data-view-component="true" class="avatar circle" /></span>
  </span>
</button>
  <template data-target="react-partial-anchor.template">
    <script crossorigin="anonymous" defer="defer" type="application/javascript" src="https://github.githubassets.com/assets/global-user-nav-drawer-35668158f2a2.js"></script>
<link crossorigin="anonymous" media="all" rel="stylesheet" href="https://github.githubassets.com/assets/primer-react.247007205a629ae606a1.module.css" />
<link crossorigin="anonymous" media="all" rel="stylesheet" href="https://github.githubassets.com/assets/global-user-nav-drawer.eeb7d39a21c5b49acbe0.module.css" />

<react-partial
  partial-name="global-user-nav-drawer"
  data-ssr="false"
  data-attempted-ssr="false"
>
  
  <script type="application/json" data-target="react-partial.embeddedData">{"props":{"owner":{"login":"Dong-Den","name":"DONG","avatarUrl":"https://avatars.githubusercontent.com/u/193381862?v=4"},"drawerId":"global-user-nav-drawer","lazyLoadItemDataFetchUrl":"/_side-panels/user.json","canAddAccount":true,"addAccountPath":"/login?add_account=1\u0026return_to=https%3A%2F%2Fgithub.com%2FDong-Den%2FAIO-2025_Pre%2Fblob%2Fmain%2FWEEK%252016_2025.5.20_KNN_Basic%252C%2520Advanced%2520Concepts%2520and%2520Its%2520Applications%2FPRE_WEEK_16_DAY_80_Thu%25E1%25BA%25ADt_To%25C3%25A1n_K_Nearest_Neighbors_%28KNN%29_N%25C3%25A2ng_cao.ipynb","switchAccountPath":"/switch_account","loginAccountPath":"/login?add_account=1","projectsPath":"/Dong-Den?tab=projects","gistsUrl":"https://gist.github.com/mine","docsUrl":"https://docs.github.com","yourEnterpriseUrl":null,"enterpriseSettingsUrl":null,"supportUrl":"https://support.github.com","showAccountSwitcher":true,"showCopilot":true,"showEnterprises":true,"showEnterprise":false,"showGists":true,"showOrganizations":true,"showSponsors":true,"showUpgrade":true,"showFeaturesPreviews":true,"showEnterpriseSettings":false,"createMenuProps":{"createRepo":true,"importRepo":true,"codespaces":true,"spark":false,"gist":true,"createOrg":true,"createProject":false,"createProjectUrl":"/Dong-Den?tab=projects","createLegacyProject":false,"createIssue":false,"org":null,"owner":"Dong-Den","repo":"AIO-2025_Pre"}}}</script>
  <div data-target="react-partial.reactRoot"></div>
</react-partial>

  </template>
</react-partial-anchor>


  <div data-show-on-forbidden-error hidden>
    <div class="Box">
  <div class="blankslate-container">
    <div data-view-component="true" class="blankslate blankslate-spacious color-bg-default rounded-2">
      

      <h3 data-view-component="true" class="blankslate-heading">        Uh oh!
</h3>
      <p data-view-component="true">        <p class="color-fg-muted my-2 mb-2 ws-normal">There was an error while loading. <a class="Link--inTextBlock" data-turbo="false" href="" aria-label="Please reload this page">Please reload this page</a>.</p>
</p>

</div>  </div>
</div>  </div>
</include-fragment></deferred-side-panel>
        </div>

        <div class="position-absolute mt-2">
            
<site-header-logged-in-user-menu>

</site-header-logged-in-user-menu>

        </div>
      </div>
    </div>


    
        <div class="AppHeader-localBar" >
          <nav data-pjax="#js-repo-pjax-container" aria-label="Repository" data-view-component="true" class="js-repo-nav js-sidenav-container-pjax js-responsive-underlinenav overflow-hidden UnderlineNav">

  <ul data-view-component="true" class="UnderlineNav-body list-style-none">
      <li data-view-component="true" class="d-inline-flex">
  <a id="code-tab" href="/Dong-Den/AIO-2025_Pre" data-tab-item="i0code-tab" data-selected-links="repo_source repo_downloads repo_commits repo_releases repo_tags repo_branches repo_packages repo_deployments repo_attestations /Dong-Den/AIO-2025_Pre" data-pjax="#repo-content-pjax-container" data-turbo-frame="repo-content-turbo-frame" data-hotkey="g c" data-analytics-event="{&quot;category&quot;:&quot;Underline navbar&quot;,&quot;action&quot;:&quot;Click tab&quot;,&quot;label&quot;:&quot;Code&quot;,&quot;target&quot;:&quot;UNDERLINE_NAV.TAB&quot;}" data-view-component="true" class="UnderlineNav-item no-wrap js-responsive-underlinenav-item js-selected-navigation-item">
    
              <svg aria-hidden="true" height="16" viewBox="0 0 16 16" version="1.1" width="16" data-view-component="true" class="octicon octicon-code UnderlineNav-octicon d-none d-sm-inline">
    <path d="m11.28 3.22 4.25 4.25a.75.75 0 0 1 0 1.06l-4.25 4.25a.749.749 0 0 1-1.275-.326.749.749 0 0 1 .215-.734L13.94 8l-3.72-3.72a.749.749 0 0 1 .326-1.275.749.749 0 0 1 .734.215Zm-6.56 0a.751.751 0 0 1 1.042.018.751.751 0 0 1 .018 1.042L2.06 8l3.72 3.72a.749.749 0 0 1-.326 1.275.749.749 0 0 1-.734-.215L.47 8.53a.75.75 0 0 1 0-1.06Z"></path>
</svg>
        <span data-content="Code">Code</span>
          <span id="code-repo-tab-count" data-pjax-replace="" data-turbo-replace="" title="Not available" data-view-component="true" class="Counter"></span>


    
</a></li>
      <li data-view-component="true" class="d-inline-flex">
  <a id="issues-tab" href="/Dong-Den/AIO-2025_Pre/issues" data-tab-item="i1issues-tab" data-selected-links="repo_issues repo_labels repo_milestones /Dong-Den/AIO-2025_Pre/issues" data-pjax="#repo-content-pjax-container" data-turbo-frame="repo-content-turbo-frame" data-hotkey="g i" data-analytics-event="{&quot;category&quot;:&quot;Underline navbar&quot;,&quot;action&quot;:&quot;Click tab&quot;,&quot;label&quot;:&quot;Issues&quot;,&quot;target&quot;:&quot;UNDERLINE_NAV.TAB&quot;}" data-view-component="true" class="UnderlineNav-item no-wrap js-responsive-underlinenav-item js-selected-navigation-item">
    
              <svg aria-hidden="true" height="16" viewBox="0 0 16 16" version="1.1" width="16" data-view-component="true" class="octicon octicon-issue-opened UnderlineNav-octicon d-none d-sm-inline">
    <path d="M8 9.5a1.5 1.5 0 1 0 0-3 1.5 1.5 0 0 0 0 3Z"></path><path d="M8 0a8 8 0 1 1 0 16A8 8 0 0 1 8 0ZM1.5 8a6.5 6.5 0 1 0 13 0 6.5 6.5 0 0 0-13 0Z"></path>
</svg>
        <span data-content="Issues">Issues</span>
          <span id="issues-repo-tab-count" data-pjax-replace="" data-turbo-replace="" title="0" hidden="hidden" data-view-component="true" class="Counter">0</span>


    
</a></li>
      <li data-view-component="true" class="d-inline-flex">
  <a id="pull-requests-tab" href="/Dong-Den/AIO-2025_Pre/pulls" data-tab-item="i2pull-requests-tab" data-selected-links="repo_pulls checks /Dong-Den/AIO-2025_Pre/pulls" data-pjax="#repo-content-pjax-container" data-turbo-frame="repo-content-turbo-frame" data-hotkey="g p" data-analytics-event="{&quot;category&quot;:&quot;Underline navbar&quot;,&quot;action&quot;:&quot;Click tab&quot;,&quot;label&quot;:&quot;Pull requests&quot;,&quot;target&quot;:&quot;UNDERLINE_NAV.TAB&quot;}" data-view-component="true" class="UnderlineNav-item no-wrap js-responsive-underlinenav-item js-selected-navigation-item">
    
              <svg aria-hidden="true" height="16" viewBox="0 0 16 16" version="1.1" width="16" data-view-component="true" class="octicon octicon-git-pull-request UnderlineNav-octicon d-none d-sm-inline">
    <path d="M1.5 3.25a2.25 2.25 0 1 1 3 2.122v5.256a2.251 2.251 0 1 1-1.5 0V5.372A2.25 2.25 0 0 1 1.5 3.25Zm5.677-.177L9.573.677A.25.25 0 0 1 10 .854V2.5h1A2.5 2.5 0 0 1 13.5 5v5.628a2.251 2.251 0 1 1-1.5 0V5a1 1 0 0 0-1-1h-1v1.646a.25.25 0 0 1-.427.177L7.177 3.427a.25.25 0 0 1 0-.354ZM3.75 2.5a.75.75 0 1 0 0 1.5.75.75 0 0 0 0-1.5Zm0 9.5a.75.75 0 1 0 0 1.5.75.75 0 0 0 0-1.5Zm8.25.75a.75.75 0 1 0 1.5 0 .75.75 0 0 0-1.5 0Z"></path>
</svg>
        <span data-content="Pull requests">Pull requests</span>
          <span id="pull-requests-repo-tab-count" data-pjax-replace="" data-turbo-replace="" title="0" hidden="hidden" data-view-component="true" class="Counter">0</span>


    
</a></li>
      <li data-view-component="true" class="d-inline-flex">
  <a id="actions-tab" href="/Dong-Den/AIO-2025_Pre/actions" data-tab-item="i3actions-tab" data-selected-links="repo_actions /Dong-Den/AIO-2025_Pre/actions" data-pjax="#repo-content-pjax-container" data-turbo-frame="repo-content-turbo-frame" data-hotkey="g a" data-analytics-event="{&quot;category&quot;:&quot;Underline navbar&quot;,&quot;action&quot;:&quot;Click tab&quot;,&quot;label&quot;:&quot;Actions&quot;,&quot;target&quot;:&quot;UNDERLINE_NAV.TAB&quot;}" data-view-component="true" class="UnderlineNav-item no-wrap js-responsive-underlinenav-item js-selected-navigation-item">
    
              <svg aria-hidden="true" height="16" viewBox="0 0 16 16" version="1.1" width="16" data-view-component="true" class="octicon octicon-play UnderlineNav-octicon d-none d-sm-inline">
    <path d="M8 0a8 8 0 1 1 0 16A8 8 0 0 1 8 0ZM1.5 8a6.5 6.5 0 1 0 13 0 6.5 6.5 0 0 0-13 0Zm4.879-2.773 4.264 2.559a.25.25 0 0 1 0 .428l-4.264 2.559A.25.25 0 0 1 6 10.559V5.442a.25.25 0 0 1 .379-.215Z"></path>
</svg>
        <span data-content="Actions">Actions</span>
          <span id="actions-repo-tab-count" data-pjax-replace="" data-turbo-replace="" title="Not available" data-view-component="true" class="Counter"></span>


    
</a></li>
      <li data-view-component="true" class="d-inline-flex">
  <a id="projects-tab" href="/Dong-Den/AIO-2025_Pre/projects" data-tab-item="i4projects-tab" data-selected-links="repo_projects new_repo_project repo_project /Dong-Den/AIO-2025_Pre/projects" data-pjax="#repo-content-pjax-container" data-turbo-frame="repo-content-turbo-frame" data-hotkey="g b" data-analytics-event="{&quot;category&quot;:&quot;Underline navbar&quot;,&quot;action&quot;:&quot;Click tab&quot;,&quot;label&quot;:&quot;Projects&quot;,&quot;target&quot;:&quot;UNDERLINE_NAV.TAB&quot;}" data-view-component="true" class="UnderlineNav-item no-wrap js-responsive-underlinenav-item js-selected-navigation-item">
    
              <svg aria-hidden="true" height="16" viewBox="0 0 16 16" version="1.1" width="16" data-view-component="true" class="octicon octicon-table UnderlineNav-octicon d-none d-sm-inline">
    <path d="M0 1.75C0 .784.784 0 1.75 0h12.5C15.216 0 16 .784 16 1.75v12.5A1.75 1.75 0 0 1 14.25 16H1.75A1.75 1.75 0 0 1 0 14.25ZM6.5 6.5v8h7.75a.25.25 0 0 0 .25-.25V6.5Zm8-1.5V1.75a.25.25 0 0 0-.25-.25H6.5V5Zm-13 1.5v7.75c0 .138.112.25.25.25H5v-8ZM5 5V1.5H1.75a.25.25 0 0 0-.25.25V5Z"></path>
</svg>
        <span data-content="Projects">Projects</span>
          <span id="projects-repo-tab-count" data-pjax-replace="" data-turbo-replace="" title="0" hidden="hidden" data-view-component="true" class="Counter">0</span>


    
</a></li>
      <li data-view-component="true" class="d-inline-flex">
  <a id="wiki-tab" href="/Dong-Den/AIO-2025_Pre/wiki" data-tab-item="i5wiki-tab" data-selected-links="repo_wiki /Dong-Den/AIO-2025_Pre/wiki" data-pjax="#repo-content-pjax-container" data-turbo-frame="repo-content-turbo-frame" data-hotkey="g w" data-analytics-event="{&quot;category&quot;:&quot;Underline navbar&quot;,&quot;action&quot;:&quot;Click tab&quot;,&quot;label&quot;:&quot;Wiki&quot;,&quot;target&quot;:&quot;UNDERLINE_NAV.TAB&quot;}" data-view-component="true" class="UnderlineNav-item no-wrap js-responsive-underlinenav-item js-selected-navigation-item">
    
              <svg aria-hidden="true" height="16" viewBox="0 0 16 16" version="1.1" width="16" data-view-component="true" class="octicon octicon-book UnderlineNav-octicon d-none d-sm-inline">
    <path d="M0 1.75A.75.75 0 0 1 .75 1h4.253c1.227 0 2.317.59 3 1.501A3.743 3.743 0 0 1 11.006 1h4.245a.75.75 0 0 1 .75.75v10.5a.75.75 0 0 1-.75.75h-4.507a2.25 2.25 0 0 0-1.591.659l-.622.621a.75.75 0 0 1-1.06 0l-.622-.621A2.25 2.25 0 0 0 5.258 13H.75a.75.75 0 0 1-.75-.75Zm7.251 10.324.004-5.073-.002-2.253A2.25 2.25 0 0 0 5.003 2.5H1.5v9h3.757a3.75 3.75 0 0 1 1.994.574ZM8.755 4.75l-.004 7.322a3.752 3.752 0 0 1 1.992-.572H14.5v-9h-3.495a2.25 2.25 0 0 0-2.25 2.25Z"></path>
</svg>
        <span data-content="Wiki">Wiki</span>
          <span id="wiki-repo-tab-count" data-pjax-replace="" data-turbo-replace="" title="Not available" data-view-component="true" class="Counter"></span>


    
</a></li>
      <li data-view-component="true" class="d-inline-flex">
  <a id="security-tab" href="/Dong-Den/AIO-2025_Pre/security" data-tab-item="i6security-tab" data-selected-links="security overview alerts policy token_scanning code_scanning /Dong-Den/AIO-2025_Pre/security" data-pjax="#repo-content-pjax-container" data-turbo-frame="repo-content-turbo-frame" data-hotkey="g s" data-analytics-event="{&quot;category&quot;:&quot;Underline navbar&quot;,&quot;action&quot;:&quot;Click tab&quot;,&quot;label&quot;:&quot;Security&quot;,&quot;target&quot;:&quot;UNDERLINE_NAV.TAB&quot;}" data-view-component="true" class="UnderlineNav-item no-wrap js-responsive-underlinenav-item js-selected-navigation-item">
    
              <svg aria-hidden="true" height="16" viewBox="0 0 16 16" version="1.1" width="16" data-view-component="true" class="octicon octicon-shield UnderlineNav-octicon d-none d-sm-inline">
    <path d="M7.467.133a1.748 1.748 0 0 1 1.066 0l5.25 1.68A1.75 1.75 0 0 1 15 3.48V7c0 1.566-.32 3.182-1.303 4.682-.983 1.498-2.585 2.813-5.032 3.855a1.697 1.697 0 0 1-1.33 0c-2.447-1.042-4.049-2.357-5.032-3.855C1.32 10.182 1 8.566 1 7V3.48a1.75 1.75 0 0 1 1.217-1.667Zm.61 1.429a.25.25 0 0 0-.153 0l-5.25 1.68a.25.25 0 0 0-.174.238V7c0 1.358.275 2.666 1.057 3.86.784 1.194 2.121 2.34 4.366 3.297a.196.196 0 0 0 .154 0c2.245-.956 3.582-2.104 4.366-3.298C13.225 9.666 13.5 8.36 13.5 7V3.48a.251.251 0 0 0-.174-.237l-5.25-1.68ZM8.75 4.75v3a.75.75 0 0 1-1.5 0v-3a.75.75 0 0 1 1.5 0ZM9 10.5a1 1 0 1 1-2 0 1 1 0 0 1 2 0Z"></path>
</svg>
        <span data-content="Security">Security</span>
          <include-fragment src="/Dong-Den/AIO-2025_Pre/security/overall-count" accept="text/fragment+html" data-nonce="v2:1f95878f-43c2-9d77-3a54-4860bf2e081a" data-view-component="true">
  
  <div data-show-on-forbidden-error hidden>
    <div class="Box">
  <div class="blankslate-container">
    <div data-view-component="true" class="blankslate blankslate-spacious color-bg-default rounded-2">
      

      <h3 data-view-component="true" class="blankslate-heading">        Uh oh!
</h3>
      <p data-view-component="true">        <p class="color-fg-muted my-2 mb-2 ws-normal">There was an error while loading. <a class="Link--inTextBlock" data-turbo="false" href="" aria-label="Please reload this page">Please reload this page</a>.</p>
</p>

</div>  </div>
</div>  </div>
</include-fragment>

    
</a></li>
      <li data-view-component="true" class="d-inline-flex">
  <a id="insights-tab" href="/Dong-Den/AIO-2025_Pre/pulse" data-tab-item="i7insights-tab" data-selected-links="repo_graphs repo_contributors dependency_graph dependabot_updates pulse people community /Dong-Den/AIO-2025_Pre/pulse" data-pjax="#repo-content-pjax-container" data-turbo-frame="repo-content-turbo-frame" data-analytics-event="{&quot;category&quot;:&quot;Underline navbar&quot;,&quot;action&quot;:&quot;Click tab&quot;,&quot;label&quot;:&quot;Insights&quot;,&quot;target&quot;:&quot;UNDERLINE_NAV.TAB&quot;}" data-view-component="true" class="UnderlineNav-item no-wrap js-responsive-underlinenav-item js-selected-navigation-item">
    
              <svg aria-hidden="true" height="16" viewBox="0 0 16 16" version="1.1" width="16" data-view-component="true" class="octicon octicon-graph UnderlineNav-octicon d-none d-sm-inline">
    <path d="M1.5 1.75V13.5h13.75a.75.75 0 0 1 0 1.5H.75a.75.75 0 0 1-.75-.75V1.75a.75.75 0 0 1 1.5 0Zm14.28 2.53-5.25 5.25a.75.75 0 0 1-1.06 0L7 7.06 4.28 9.78a.751.751 0 0 1-1.042-.018.751.751 0 0 1-.018-1.042l3.25-3.25a.75.75 0 0 1 1.06 0L10 7.94l4.72-4.72a.751.751 0 0 1 1.042.018.751.751 0 0 1 .018 1.042Z"></path>
</svg>
        <span data-content="Insights">Insights</span>
          <span id="insights-repo-tab-count" data-pjax-replace="" data-turbo-replace="" title="Not available" data-view-component="true" class="Counter"></span>


    
</a></li>
      <li data-view-component="true" class="d-inline-flex">
  <a id="settings-tab" href="/Dong-Den/AIO-2025_Pre/settings" data-tab-item="i8settings-tab" data-selected-links="code_review_limits codespaces_repository_settings collaborators custom_tabs github_models_repo_settings hooks integration_installations interaction_limits issue_template_editor key_links_settings notifications repo_announcements repo_branch_settings repo_custom_properties repo_keys_settings repo_pages_settings repo_protected_tags_settings repo_rule_insights repo_rules_bypass_requests repo_rulesets repo_settings_copilot_coding_guidelines repo_settings_copilot_content_exclusion repo_settings_copilot_swe_agent repo_settings reported_content repository_actions_settings_add_new_runner repository_actions_settings_general repository_actions_settings_runner_details repository_actions_settings_runners repository_actions_settings repository_environments role_details secrets_settings_actions secrets_settings_codespaces secrets_settings_dependabot secrets security_analysis security_products /Dong-Den/AIO-2025_Pre/settings" data-pjax="#repo-content-pjax-container" data-turbo-frame="repo-content-turbo-frame" data-analytics-event="{&quot;category&quot;:&quot;Underline navbar&quot;,&quot;action&quot;:&quot;Click tab&quot;,&quot;label&quot;:&quot;Settings&quot;,&quot;target&quot;:&quot;UNDERLINE_NAV.TAB&quot;}" data-view-component="true" class="UnderlineNav-item no-wrap js-responsive-underlinenav-item js-selected-navigation-item">
    
              <svg aria-hidden="true" height="16" viewBox="0 0 16 16" version="1.1" width="16" data-view-component="true" class="octicon octicon-gear UnderlineNav-octicon d-none d-sm-inline">
    <path d="M8 0a8.2 8.2 0 0 1 .701.031C9.444.095 9.99.645 10.16 1.29l.288 1.107c.018.066.079.158.212.224.231.114.454.243.668.386.123.082.233.09.299.071l1.103-.303c.644-.176 1.392.021 1.82.63.27.385.506.792.704 1.218.315.675.111 1.422-.364 1.891l-.814.806c-.049.048-.098.147-.088.294.016.257.016.515 0 .772-.01.147.038.246.088.294l.814.806c.475.469.679 1.216.364 1.891a7.977 7.977 0 0 1-.704 1.217c-.428.61-1.176.807-1.82.63l-1.102-.302c-.067-.019-.177-.011-.3.071a5.909 5.909 0 0 1-.668.386c-.133.066-.194.158-.211.224l-.29 1.106c-.168.646-.715 1.196-1.458 1.26a8.006 8.006 0 0 1-1.402 0c-.743-.064-1.289-.614-1.458-1.26l-.289-1.106c-.018-.066-.079-.158-.212-.224a5.738 5.738 0 0 1-.668-.386c-.123-.082-.233-.09-.299-.071l-1.103.303c-.644.176-1.392-.021-1.82-.63a8.12 8.12 0 0 1-.704-1.218c-.315-.675-.111-1.422.363-1.891l.815-.806c.05-.048.098-.147.088-.294a6.214 6.214 0 0 1 0-.772c.01-.147-.038-.246-.088-.294l-.815-.806C.635 6.045.431 5.298.746 4.623a7.92 7.92 0 0 1 .704-1.217c.428-.61 1.176-.807 1.82-.63l1.102.302c.067.019.177.011.3-.071.214-.143.437-.272.668-.386.133-.066.194-.158.211-.224l.29-1.106C6.009.645 6.556.095 7.299.03 7.53.01 7.764 0 8 0Zm-.571 1.525c-.036.003-.108.036-.137.146l-.289 1.105c-.147.561-.549.967-.998 1.189-.173.086-.34.183-.5.29-.417.278-.97.423-1.529.27l-1.103-.303c-.109-.03-.175.016-.195.045-.22.312-.412.644-.573.99-.014.031-.021.11.059.19l.815.806c.411.406.562.957.53 1.456a4.709 4.709 0 0 0 0 .582c.032.499-.119 1.05-.53 1.456l-.815.806c-.081.08-.073.159-.059.19.162.346.353.677.573.989.02.03.085.076.195.046l1.102-.303c.56-.153 1.113-.008 1.53.27.161.107.328.204.501.29.447.222.85.629.997 1.189l.289 1.105c.029.109.101.143.137.146a6.6 6.6 0 0 0 1.142 0c.036-.003.108-.036.137-.146l.289-1.105c.147-.561.549-.967.998-1.189.173-.086.34-.183.5-.29.417-.278.97-.423 1.529-.27l1.103.303c.109.029.175-.016.195-.045.22-.313.411-.644.573-.99.014-.031.021-.11-.059-.19l-.815-.806c-.411-.406-.562-.957-.53-1.456a4.709 4.709 0 0 0 0-.582c-.032-.499.119-1.05.53-1.456l.815-.806c.081-.08.073-.159.059-.19a6.464 6.464 0 0 0-.573-.989c-.02-.03-.085-.076-.195-.046l-1.102.303c-.56.153-1.113.008-1.53-.27a4.44 4.44 0 0 0-.501-.29c-.447-.222-.85-.629-.997-1.189l-.289-1.105c-.029-.11-.101-.143-.137-.146a6.6 6.6 0 0 0-1.142 0ZM11 8a3 3 0 1 1-6 0 3 3 0 0 1 6 0ZM9.5 8a1.5 1.5 0 1 0-3.001.001A1.5 1.5 0 0 0 9.5 8Z"></path>
</svg>
        <span data-content="Settings">Settings</span>
          <span id="settings-repo-tab-count" data-pjax-replace="" data-turbo-replace="" title="Not available" data-view-component="true" class="Counter"></span>


    
</a></li>
</ul>
    <div style="visibility:hidden;" data-view-component="true" class="UnderlineNav-actions js-responsive-underlinenav-overflow position-absolute pr-3 pr-md-4 pr-lg-5 right-0">      <action-menu data-select-variant="none" data-view-component="true">
  <focus-group direction="vertical" mnemonics retain>
    <button id="action-menu-9966ba91-9a96-45ee-a0cd-2f05a0936a8a-button" popovertarget="action-menu-9966ba91-9a96-45ee-a0cd-2f05a0936a8a-overlay" aria-controls="action-menu-9966ba91-9a96-45ee-a0cd-2f05a0936a8a-list" aria-haspopup="true" aria-labelledby="tooltip-06ac6a72-d57f-4fd9-9fe0-cbd1a45c763c" type="button" data-view-component="true" class="Button Button--iconOnly Button--secondary Button--medium UnderlineNav-item">  <svg aria-hidden="true" height="16" viewBox="0 0 16 16" version="1.1" width="16" data-view-component="true" class="octicon octicon-kebab-horizontal Button-visual">
    <path d="M8 9a1.5 1.5 0 1 0 0-3 1.5 1.5 0 0 0 0 3ZM1.5 9a1.5 1.5 0 1 0 0-3 1.5 1.5 0 0 0 0 3Zm13 0a1.5 1.5 0 1 0 0-3 1.5 1.5 0 0 0 0 3Z"></path>
</svg>
</button><tool-tip id="tooltip-06ac6a72-d57f-4fd9-9fe0-cbd1a45c763c" for="action-menu-9966ba91-9a96-45ee-a0cd-2f05a0936a8a-button" popover="manual" data-direction="s" data-type="label" data-view-component="true" class="sr-only position-absolute">Additional navigation options</tool-tip>


<anchored-position data-target="action-menu.overlay" id="action-menu-9966ba91-9a96-45ee-a0cd-2f05a0936a8a-overlay" anchor="action-menu-9966ba91-9a96-45ee-a0cd-2f05a0936a8a-button" align="start" side="outside-bottom" anchor-offset="normal" popover="auto" data-view-component="true">
  <div data-view-component="true" class="Overlay Overlay--size-auto">
    
      <div data-view-component="true" class="Overlay-body Overlay-body--paddingNone">          <action-list>
  <div data-view-component="true">
    <ul aria-labelledby="action-menu-9966ba91-9a96-45ee-a0cd-2f05a0936a8a-button" id="action-menu-9966ba91-9a96-45ee-a0cd-2f05a0936a8a-list" role="menu" data-view-component="true" class="ActionListWrap--inset ActionListWrap">
        <li hidden="hidden" data-menu-item="i0code-tab" data-targets="action-list.items" role="none" data-view-component="true" class="ActionListItem">
    
    
    <a tabindex="-1" id="item-c6af4727-bf79-4c03-8dd1-d5d516309398" href="/Dong-Den/AIO-2025_Pre" role="menuitem" data-view-component="true" class="ActionListContent ActionListContent--visual16">
        <span class="ActionListItem-visual ActionListItem-visual--leading">
          <svg aria-hidden="true" height="16" viewBox="0 0 16 16" version="1.1" width="16" data-view-component="true" class="octicon octicon-code">
    <path d="m11.28 3.22 4.25 4.25a.75.75 0 0 1 0 1.06l-4.25 4.25a.749.749 0 0 1-1.275-.326.749.749 0 0 1 .215-.734L13.94 8l-3.72-3.72a.749.749 0 0 1 .326-1.275.749.749 0 0 1 .734.215Zm-6.56 0a.751.751 0 0 1 1.042.018.751.751 0 0 1 .018 1.042L2.06 8l3.72 3.72a.749.749 0 0 1-.326 1.275.749.749 0 0 1-.734-.215L.47 8.53a.75.75 0 0 1 0-1.06Z"></path>
</svg>
        </span>
      
        <span data-view-component="true" class="ActionListItem-label">
          Code
</span>      
</a>
  
</li>
        <li hidden="hidden" data-menu-item="i1issues-tab" data-targets="action-list.items" role="none" data-view-component="true" class="ActionListItem">
    
    
    <a tabindex="-1" id="item-a730a7e4-1804-445a-90d1-bb664c4b2964" href="/Dong-Den/AIO-2025_Pre/issues" role="menuitem" data-view-component="true" class="ActionListContent ActionListContent--visual16">
        <span class="ActionListItem-visual ActionListItem-visual--leading">
          <svg aria-hidden="true" height="16" viewBox="0 0 16 16" version="1.1" width="16" data-view-component="true" class="octicon octicon-issue-opened">
    <path d="M8 9.5a1.5 1.5 0 1 0 0-3 1.5 1.5 0 0 0 0 3Z"></path><path d="M8 0a8 8 0 1 1 0 16A8 8 0 0 1 8 0ZM1.5 8a6.5 6.5 0 1 0 13 0 6.5 6.5 0 0 0-13 0Z"></path>
</svg>
        </span>
      
        <span data-view-component="true" class="ActionListItem-label">
          Issues
</span>      
</a>
  
</li>
        <li hidden="hidden" data-menu-item="i2pull-requests-tab" data-targets="action-list.items" role="none" data-view-component="true" class="ActionListItem">
    
    
    <a tabindex="-1" id="item-a52d3834-fc04-4212-817f-e81baefe1966" href="/Dong-Den/AIO-2025_Pre/pulls" role="menuitem" data-view-component="true" class="ActionListContent ActionListContent--visual16">
        <span class="ActionListItem-visual ActionListItem-visual--leading">
          <svg aria-hidden="true" height="16" viewBox="0 0 16 16" version="1.1" width="16" data-view-component="true" class="octicon octicon-git-pull-request">
    <path d="M1.5 3.25a2.25 2.25 0 1 1 3 2.122v5.256a2.251 2.251 0 1 1-1.5 0V5.372A2.25 2.25 0 0 1 1.5 3.25Zm5.677-.177L9.573.677A.25.25 0 0 1 10 .854V2.5h1A2.5 2.5 0 0 1 13.5 5v5.628a2.251 2.251 0 1 1-1.5 0V5a1 1 0 0 0-1-1h-1v1.646a.25.25 0 0 1-.427.177L7.177 3.427a.25.25 0 0 1 0-.354ZM3.75 2.5a.75.75 0 1 0 0 1.5.75.75 0 0 0 0-1.5Zm0 9.5a.75.75 0 1 0 0 1.5.75.75 0 0 0 0-1.5Zm8.25.75a.75.75 0 1 0 1.5 0 .75.75 0 0 0-1.5 0Z"></path>
</svg>
        </span>
      
        <span data-view-component="true" class="ActionListItem-label">
          Pull requests
</span>      
</a>
  
</li>
        <li hidden="hidden" data-menu-item="i3actions-tab" data-targets="action-list.items" role="none" data-view-component="true" class="ActionListItem">
    
    
    <a tabindex="-1" id="item-739870cf-31b3-470d-bf08-b6a8f406d984" href="/Dong-Den/AIO-2025_Pre/actions" role="menuitem" data-view-component="true" class="ActionListContent ActionListContent--visual16">
        <span class="ActionListItem-visual ActionListItem-visual--leading">
          <svg aria-hidden="true" height="16" viewBox="0 0 16 16" version="1.1" width="16" data-view-component="true" class="octicon octicon-play">
    <path d="M8 0a8 8 0 1 1 0 16A8 8 0 0 1 8 0ZM1.5 8a6.5 6.5 0 1 0 13 0 6.5 6.5 0 0 0-13 0Zm4.879-2.773 4.264 2.559a.25.25 0 0 1 0 .428l-4.264 2.559A.25.25 0 0 1 6 10.559V5.442a.25.25 0 0 1 .379-.215Z"></path>
</svg>
        </span>
      
        <span data-view-component="true" class="ActionListItem-label">
          Actions
</span>      
</a>
  
</li>
        <li hidden="hidden" data-menu-item="i4projects-tab" data-targets="action-list.items" role="none" data-view-component="true" class="ActionListItem">
    
    
    <a tabindex="-1" id="item-28756c4e-d63b-4e7c-8dd1-2ab5197a3498" href="/Dong-Den/AIO-2025_Pre/projects" role="menuitem" data-view-component="true" class="ActionListContent ActionListContent--visual16">
        <span class="ActionListItem-visual ActionListItem-visual--leading">
          <svg aria-hidden="true" height="16" viewBox="0 0 16 16" version="1.1" width="16" data-view-component="true" class="octicon octicon-table">
    <path d="M0 1.75C0 .784.784 0 1.75 0h12.5C15.216 0 16 .784 16 1.75v12.5A1.75 1.75 0 0 1 14.25 16H1.75A1.75 1.75 0 0 1 0 14.25ZM6.5 6.5v8h7.75a.25.25 0 0 0 .25-.25V6.5Zm8-1.5V1.75a.25.25 0 0 0-.25-.25H6.5V5Zm-13 1.5v7.75c0 .138.112.25.25.25H5v-8ZM5 5V1.5H1.75a.25.25 0 0 0-.25.25V5Z"></path>
</svg>
        </span>
      
        <span data-view-component="true" class="ActionListItem-label">
          Projects
</span>      
</a>
  
</li>
        <li hidden="hidden" data-menu-item="i5wiki-tab" data-targets="action-list.items" role="none" data-view-component="true" class="ActionListItem">
    
    
    <a tabindex="-1" id="item-898c24b4-ba2a-4f43-8fed-d7fcf4a6f7be" href="/Dong-Den/AIO-2025_Pre/wiki" role="menuitem" data-view-component="true" class="ActionListContent ActionListContent--visual16">
        <span class="ActionListItem-visual ActionListItem-visual--leading">
          <svg aria-hidden="true" height="16" viewBox="0 0 16 16" version="1.1" width="16" data-view-component="true" class="octicon octicon-book">
    <path d="M0 1.75A.75.75 0 0 1 .75 1h4.253c1.227 0 2.317.59 3 1.501A3.743 3.743 0 0 1 11.006 1h4.245a.75.75 0 0 1 .75.75v10.5a.75.75 0 0 1-.75.75h-4.507a2.25 2.25 0 0 0-1.591.659l-.622.621a.75.75 0 0 1-1.06 0l-.622-.621A2.25 2.25 0 0 0 5.258 13H.75a.75.75 0 0 1-.75-.75Zm7.251 10.324.004-5.073-.002-2.253A2.25 2.25 0 0 0 5.003 2.5H1.5v9h3.757a3.75 3.75 0 0 1 1.994.574ZM8.755 4.75l-.004 7.322a3.752 3.752 0 0 1 1.992-.572H14.5v-9h-3.495a2.25 2.25 0 0 0-2.25 2.25Z"></path>
</svg>
        </span>
      
        <span data-view-component="true" class="ActionListItem-label">
          Wiki
</span>      
</a>
  
</li>
        <li hidden="hidden" data-menu-item="i6security-tab" data-targets="action-list.items" role="none" data-view-component="true" class="ActionListItem">
    
    
    <a tabindex="-1" id="item-e8f42097-6706-49d2-ac3e-dfd4e9394480" href="/Dong-Den/AIO-2025_Pre/security" role="menuitem" data-view-component="true" class="ActionListContent ActionListContent--visual16">
        <span class="ActionListItem-visual ActionListItem-visual--leading">
          <svg aria-hidden="true" height="16" viewBox="0 0 16 16" version="1.1" width="16" data-view-component="true" class="octicon octicon-shield">
    <path d="M7.467.133a1.748 1.748 0 0 1 1.066 0l5.25 1.68A1.75 1.75 0 0 1 15 3.48V7c0 1.566-.32 3.182-1.303 4.682-.983 1.498-2.585 2.813-5.032 3.855a1.697 1.697 0 0 1-1.33 0c-2.447-1.042-4.049-2.357-5.032-3.855C1.32 10.182 1 8.566 1 7V3.48a1.75 1.75 0 0 1 1.217-1.667Zm.61 1.429a.25.25 0 0 0-.153 0l-5.25 1.68a.25.25 0 0 0-.174.238V7c0 1.358.275 2.666 1.057 3.86.784 1.194 2.121 2.34 4.366 3.297a.196.196 0 0 0 .154 0c2.245-.956 3.582-2.104 4.366-3.298C13.225 9.666 13.5 8.36 13.5 7V3.48a.251.251 0 0 0-.174-.237l-5.25-1.68ZM8.75 4.75v3a.75.75 0 0 1-1.5 0v-3a.75.75 0 0 1 1.5 0ZM9 10.5a1 1 0 1 1-2 0 1 1 0 0 1 2 0Z"></path>
</svg>
        </span>
      
        <span data-view-component="true" class="ActionListItem-label">
          Security
</span>      
</a>
  
</li>
        <li hidden="hidden" data-menu-item="i7insights-tab" data-targets="action-list.items" role="none" data-view-component="true" class="ActionListItem">
    
    
    <a tabindex="-1" id="item-b96e80e0-42e8-44ef-80be-8a8f6c6299b0" href="/Dong-Den/AIO-2025_Pre/pulse" role="menuitem" data-view-component="true" class="ActionListContent ActionListContent--visual16">
        <span class="ActionListItem-visual ActionListItem-visual--leading">
          <svg aria-hidden="true" height="16" viewBox="0 0 16 16" version="1.1" width="16" data-view-component="true" class="octicon octicon-graph">
    <path d="M1.5 1.75V13.5h13.75a.75.75 0 0 1 0 1.5H.75a.75.75 0 0 1-.75-.75V1.75a.75.75 0 0 1 1.5 0Zm14.28 2.53-5.25 5.25a.75.75 0 0 1-1.06 0L7 7.06 4.28 9.78a.751.751 0 0 1-1.042-.018.751.751 0 0 1-.018-1.042l3.25-3.25a.75.75 0 0 1 1.06 0L10 7.94l4.72-4.72a.751.751 0 0 1 1.042.018.751.751 0 0 1 .018 1.042Z"></path>
</svg>
        </span>
      
        <span data-view-component="true" class="ActionListItem-label">
          Insights
</span>      
</a>
  
</li>
        <li hidden="hidden" data-menu-item="i8settings-tab" data-targets="action-list.items" role="none" data-view-component="true" class="ActionListItem">
    
    
    <a tabindex="-1" id="item-39f94c66-73d5-41f6-b942-8814f34ff9a3" href="/Dong-Den/AIO-2025_Pre/settings" role="menuitem" data-view-component="true" class="ActionListContent ActionListContent--visual16">
        <span class="ActionListItem-visual ActionListItem-visual--leading">
          <svg aria-hidden="true" height="16" viewBox="0 0 16 16" version="1.1" width="16" data-view-component="true" class="octicon octicon-gear">
    <path d="M8 0a8.2 8.2 0 0 1 .701.031C9.444.095 9.99.645 10.16 1.29l.288 1.107c.018.066.079.158.212.224.231.114.454.243.668.386.123.082.233.09.299.071l1.103-.303c.644-.176 1.392.021 1.82.63.27.385.506.792.704 1.218.315.675.111 1.422-.364 1.891l-.814.806c-.049.048-.098.147-.088.294.016.257.016.515 0 .772-.01.147.038.246.088.294l.814.806c.475.469.679 1.216.364 1.891a7.977 7.977 0 0 1-.704 1.217c-.428.61-1.176.807-1.82.63l-1.102-.302c-.067-.019-.177-.011-.3.071a5.909 5.909 0 0 1-.668.386c-.133.066-.194.158-.211.224l-.29 1.106c-.168.646-.715 1.196-1.458 1.26a8.006 8.006 0 0 1-1.402 0c-.743-.064-1.289-.614-1.458-1.26l-.289-1.106c-.018-.066-.079-.158-.212-.224a5.738 5.738 0 0 1-.668-.386c-.123-.082-.233-.09-.299-.071l-1.103.303c-.644.176-1.392-.021-1.82-.63a8.12 8.12 0 0 1-.704-1.218c-.315-.675-.111-1.422.363-1.891l.815-.806c.05-.048.098-.147.088-.294a6.214 6.214 0 0 1 0-.772c.01-.147-.038-.246-.088-.294l-.815-.806C.635 6.045.431 5.298.746 4.623a7.92 7.92 0 0 1 .704-1.217c.428-.61 1.176-.807 1.82-.63l1.102.302c.067.019.177.011.3-.071.214-.143.437-.272.668-.386.133-.066.194-.158.211-.224l.29-1.106C6.009.645 6.556.095 7.299.03 7.53.01 7.764 0 8 0Zm-.571 1.525c-.036.003-.108.036-.137.146l-.289 1.105c-.147.561-.549.967-.998 1.189-.173.086-.34.183-.5.29-.417.278-.97.423-1.529.27l-1.103-.303c-.109-.03-.175.016-.195.045-.22.312-.412.644-.573.99-.014.031-.021.11.059.19l.815.806c.411.406.562.957.53 1.456a4.709 4.709 0 0 0 0 .582c.032.499-.119 1.05-.53 1.456l-.815.806c-.081.08-.073.159-.059.19.162.346.353.677.573.989.02.03.085.076.195.046l1.102-.303c.56-.153 1.113-.008 1.53.27.161.107.328.204.501.29.447.222.85.629.997 1.189l.289 1.105c.029.109.101.143.137.146a6.6 6.6 0 0 0 1.142 0c.036-.003.108-.036.137-.146l.289-1.105c.147-.561.549-.967.998-1.189.173-.086.34-.183.5-.29.417-.278.97-.423 1.529-.27l1.103.303c.109.029.175-.016.195-.045.22-.313.411-.644.573-.99.014-.031.021-.11-.059-.19l-.815-.806c-.411-.406-.562-.957-.53-1.456a4.709 4.709 0 0 0 0-.582c-.032-.499.119-1.05.53-1.456l.815-.806c.081-.08.073-.159.059-.19a6.464 6.464 0 0 0-.573-.989c-.02-.03-.085-.076-.195-.046l-1.102.303c-.56.153-1.113.008-1.53-.27a4.44 4.44 0 0 0-.501-.29c-.447-.222-.85-.629-.997-1.189l-.289-1.105c-.029-.11-.101-.143-.137-.146a6.6 6.6 0 0 0-1.142 0ZM11 8a3 3 0 1 1-6 0 3 3 0 0 1 6 0ZM9.5 8a1.5 1.5 0 1 0-3.001.001A1.5 1.5 0 0 0 9.5 8Z"></path>
</svg>
        </span>
      
        <span data-view-component="true" class="ActionListItem-label">
          Settings
</span>      
</a>
  
</li>
</ul>    
</div></action-list>


</div>
      
</div></anchored-position>  </focus-group>
</action-menu></div>
</nav>
          
        </div>
</header>


      <div hidden="hidden" data-view-component="true" class="js-stale-session-flash stale-session-flash flash flash-warn flash-full">
  
        <svg aria-hidden="true" height="16" viewBox="0 0 16 16" version="1.1" width="16" data-view-component="true" class="octicon octicon-alert">
    <path d="M6.457 1.047c.659-1.234 2.427-1.234 3.086 0l6.082 11.378A1.75 1.75 0 0 1 14.082 15H1.918a1.75 1.75 0 0 1-1.543-2.575Zm1.763.707a.25.25 0 0 0-.44 0L1.698 13.132a.25.25 0 0 0 .22.368h12.164a.25.25 0 0 0 .22-.368Zm.53 3.996v2.5a.75.75 0 0 1-1.5 0v-2.5a.75.75 0 0 1 1.5 0ZM9 11a1 1 0 1 1-2 0 1 1 0 0 1 2 0Z"></path>
</svg>
        <span class="js-stale-session-flash-signed-in" hidden>You signed in with another tab or window. <a class="Link--inTextBlock" href="">Reload</a> to refresh your session.</span>
        <span class="js-stale-session-flash-signed-out" hidden>You signed out in another tab or window. <a class="Link--inTextBlock" href="">Reload</a> to refresh your session.</span>
        <span class="js-stale-session-flash-switched" hidden>You switched accounts on another tab or window. <a class="Link--inTextBlock" href="">Reload</a> to refresh your session.</span>

    <button id="icon-button-9c38b868-f314-4e71-87c1-d336d06c1c10" aria-labelledby="tooltip-ab2b253c-e016-4c7e-b833-881196dda9a9" type="button" data-view-component="true" class="Button Button--iconOnly Button--invisible Button--medium flash-close js-flash-close">  <svg aria-hidden="true" height="16" viewBox="0 0 16 16" version="1.1" width="16" data-view-component="true" class="octicon octicon-x Button-visual">
    <path d="M3.72 3.72a.75.75 0 0 1 1.06 0L8 6.94l3.22-3.22a.749.749 0 0 1 1.275.326.749.749 0 0 1-.215.734L9.06 8l3.22 3.22a.749.749 0 0 1-.326 1.275.749.749 0 0 1-.734-.215L8 9.06l-3.22 3.22a.751.751 0 0 1-1.042-.018.751.751 0 0 1-.018-1.042L6.94 8 3.72 4.78a.75.75 0 0 1 0-1.06Z"></path>
</svg>
</button><tool-tip id="tooltip-ab2b253c-e016-4c7e-b833-881196dda9a9" for="icon-button-9c38b868-f314-4e71-87c1-d336d06c1c10" popover="manual" data-direction="s" data-type="label" data-view-component="true" class="sr-only position-absolute">Dismiss alert</tool-tip>


  
</div>
          
    </div>

  <div id="start-of-content" class="show-on-focus"></div>








    <div id="js-flash-container" class="flash-container" data-turbo-replace>




  <template class="js-flash-template">
    
<div class="flash flash-full   {{ className }}">
  <div >
    <button autofocus class="flash-close js-flash-close" type="button" aria-label="Dismiss this message">
      <svg aria-hidden="true" height="16" viewBox="0 0 16 16" version="1.1" width="16" data-view-component="true" class="octicon octicon-x">
    <path d="M3.72 3.72a.75.75 0 0 1 1.06 0L8 6.94l3.22-3.22a.749.749 0 0 1 1.275.326.749.749 0 0 1-.215.734L9.06 8l3.22 3.22a.749.749 0 0 1-.326 1.275.749.749 0 0 1-.734-.215L8 9.06l-3.22 3.22a.751.751 0 0 1-1.042-.018.751.751 0 0 1-.018-1.042L6.94 8 3.72 4.78a.75.75 0 0 1 0-1.06Z"></path>
</svg>
    </button>
    <div aria-atomic="true" role="alert" class="js-flash-alert">
      
      <div>{{ message }}</div>

    </div>
  </div>
</div>
  </template>
</div>


    
  <notification-shelf-watcher data-base-url="https://github.com/notifications/beta/shelf" data-channel="eyJjIjoibm90aWZpY2F0aW9uLWNoYW5nZWQ6MTkzMzgxODYyIiwidCI6MTc0ODQ3NDA2Nn0=--fc0050de3b3ebfd068ef13bbbf33339b7a52d3f97d805994f6ebfb96480e798b" data-view-component="true" class="js-socket-channel"></notification-shelf-watcher>
  <div hidden data-initial data-target="notification-shelf-watcher.placeholder"></div>






  <div
    class="application-main "
    data-commit-hovercards-enabled
    data-discussion-hovercards-enabled
    data-issue-and-pr-hovercards-enabled
    data-project-hovercards-enabled
  >
        <div itemscope itemtype="http://schema.org/SoftwareSourceCode" class="">
    <main id="js-repo-pjax-container" >
      
      






    
  <div id="repository-container-header" data-turbo-replace hidden ></div>




<turbo-frame id="repo-content-turbo-frame" target="_top" data-turbo-action="advance" class="">
    <div id="repo-content-pjax-container" class="repository-content " >
      <a href="https://github.dev/" class="d-none js-github-dev-shortcut" data-hotkey=".,Mod+Alt+.">Open in github.dev</a>
  <a href="https://github.dev/" class="d-none js-github-dev-new-tab-shortcut" data-hotkey="Shift+.,Shift+&gt;,&gt;" target="_blank" rel="noopener noreferrer">Open in a new github.dev tab</a>
    <a class="d-none" data-hotkey=",,Mod+Alt+," target="_blank" href="/codespaces/new/Dong-Den/AIO-2025_Pre/tree/main?resume=1">Open in codespace</a>




    
      
    








<react-app
  app-name="react-code-view"
  initial-path="/Dong-Den/AIO-2025_Pre/blob/main/WEEK%2016_2025.5.20_KNN_Basic%2C%20Advanced%20Concepts%20and%20Its%20Applications/PRE_WEEK_16_DAY_80_Thu%E1%BA%ADt_To%C3%A1n_K_Nearest_Neighbors_(KNN)_N%C3%A2ng_cao.ipynb"
    style="display: block; min-height: calc(100vh - 64px);"
  data-attempted-ssr="true"
  data-ssr="true"
  data-lazy="false"
  data-alternate="false"
  data-data-router-enabled="false"
>
  
  <script type="application/json" data-target="react-app.embeddedData">{"payload":{"allShortcutsEnabled":true,"fileTree":{"WEEK 16_2025.5.20_KNN_Basic, Advanced Concepts and Its Applications":{"items":[{"name":"PRE_WEEK_16_DAY_78_Các_Phương_Pháp_Tính_Khoảng_Cách_Giữa_Vector.ipynb","path":"WEEK 16_2025.5.20_KNN_Basic, Advanced Concepts and Its Applications/PRE_WEEK_16_DAY_78_Các_Phương_Pháp_Tính_Khoảng_Cách_Giữa_Vector.ipynb","contentType":"file"},{"name":"PRE_WEEK_16_DAY_79_Thuật_Toán_K_Nearest_Neighbors_(KNN)_update.ipynb","path":"WEEK 16_2025.5.20_KNN_Basic, Advanced Concepts and Its Applications/PRE_WEEK_16_DAY_79_Thuật_Toán_K_Nearest_Neighbors_(KNN)_update.ipynb","contentType":"file"},{"name":"PRE_WEEK_16_DAY_80_Thuật_Toán_K_Nearest_Neighbors_(KNN)_Nâng_cao.ipynb","path":"WEEK 16_2025.5.20_KNN_Basic, Advanced Concepts and Its Applications/PRE_WEEK_16_DAY_80_Thuật_Toán_K_Nearest_Neighbors_(KNN)_Nâng_cao.ipynb","contentType":"file"},{"name":"WEEK 16_2025.5.20_KNN_Basic, Advanced Concepts and Its Applications.TXT","path":"WEEK 16_2025.5.20_KNN_Basic, Advanced Concepts and Its Applications/WEEK 16_2025.5.20_KNN_Basic, Advanced Concepts and Its Applications.TXT","contentType":"file"},{"name":"pre_week_16_day_81_dự_án_y_tế_dự_đoán_bệnh_dựa_trên_triệu_chứng_sử_dụng_knn.py","path":"WEEK 16_2025.5.20_KNN_Basic, Advanced Concepts and Its Applications/pre_week_16_day_81_dự_án_y_tế_dự_đoán_bệnh_dựa_trên_triệu_chứng_sử_dụng_knn.py","contentType":"file"},{"name":"requirements.txt","path":"WEEK 16_2025.5.20_KNN_Basic, Advanced Concepts and Its Applications/requirements.txt","contentType":"file"}],"totalCount":6},"":{"items":[{"name":"MySQL Pre","path":"MySQL Pre","contentType":"directory"},{"name":"W11_BASIC STATISTIC","path":"W11_BASIC STATISTIC","contentType":"directory"},{"name":"WEEK 13_2025.4.28_BAsic Linear Algebra and its Applications to Image Data","path":"WEEK 13_2025.4.28_BAsic Linear Algebra and its Applications to Image Data","contentType":"directory"},{"name":"WEEK 14_2025.5.5_Algorithms_Sort and Search","path":"WEEK 14_2025.5.5_Algorithms_Sort and Search","contentType":"directory"},{"name":"WEEK 15_2025.5.12_Intelligent Health Records: FastAPI Meets LLM for Seamless Patient Retrieval","path":"WEEK 15_2025.5.12_Intelligent Health Records: FastAPI Meets LLM for Seamless Patient Retrieval","contentType":"directory"},{"name":"WEEK 16_2025.5.20_KNN_Basic, Advanced Concepts and Its Applications","path":"WEEK 16_2025.5.20_KNN_Basic, Advanced Concepts and Its Applications","contentType":"directory"},{"name":"Week 10 Advance SQL in Data Analysis","path":"Week 10 Advance SQL in Data Analysis","contentType":"directory"},{"name":"Week 12_Streamlit","path":"Week 12_Streamlit","contentType":"directory"},{"name":"Week 1_Basic Python","path":"Week 1_Basic Python","contentType":"directory"},{"name":"Week 2_Data Structure","path":"Week 2_Data Structure","contentType":"directory"},{"name":"Week 3_Linear Algebra","path":"Week 3_Linear Algebra","contentType":"directory"},{"name":"Week 4_Object Oriented Programming","path":"Week 4_Object Oriented Programming","contentType":"directory"},{"name":"Week 5_Probability","path":"Week 5_Probability","contentType":"directory"},{"name":"Week 6_Basic Calculus","path":"Week 6_Basic Calculus","contentType":"directory"},{"name":"Week 7_Structured Query Language_Introduction Database","path":"Week 7_Structured Query Language_Introduction Database","contentType":"directory"},{"name":"Week 8_Advance Data Visualization","path":"Week 8_Advance Data Visualization","contentType":"directory"},{"name":"Week 9_SQL in Tata Analysis","path":"Week 9_SQL in Tata Analysis","contentType":"directory"}],"totalCount":17}},"fileTreeProcessingTime":16.329521,"foldersToFetch":[],"incompleteFileTree":false,"repo":{"id":976489619,"defaultBranch":"main","name":"AIO-2025_Pre","ownerLogin":"Dong-Den","currentUserCanPush":true,"isFork":false,"isEmpty":false,"createdAt":"2025-05-02T14:41:43.000+07:00","ownerAvatar":"https://avatars.githubusercontent.com/u/193381862?v=4","public":true,"private":false,"isOrgOwned":false},"codeLineWrapEnabled":false,"symbolsExpanded":true,"treeExpanded":true,"refInfo":{"name":"main","listCacheKey":"v0:1746171795.0","canEdit":true,"refType":"branch","currentOid":"8b1879ace22833d53587f1793a83cd0634bc9e28"},"path":"WEEK 16_2025.5.20_KNN_Basic, Advanced Concepts and Its Applications/PRE_WEEK_16_DAY_80_Thuật_Toán_K_Nearest_Neighbors_(KNN)_Nâng_cao.ipynb","currentUser":{"id":193381862,"login":"Dong-Den","userEmail":"dongthikimchi1987@gmail.com"},"blob":{"rawLines":["{","  \"nbformat\": 4,","  \"nbformat_minor\": 0,","  \"metadata\": {","    \"colab\": {","      \"provenance\": []","    },","    \"kernelspec\": {","      \"name\": \"python3\",","      \"display_name\": \"Python 3\"","    },","    \"language_info\": {","      \"name\": \"python\"","    }","  },","  \"cells\": [","    {","      \"cell_type\": \"markdown\",","      \"source\": [","        \"#### **Bài tập và Code Python Không Dùng Thư Viện**\"","      ],","      \"metadata\": {","        \"id\": \"1P44fQ56meWK\"","      }","    },","    {","      \"cell_type\": \"markdown\",","      \"source\": [","        \"#### **Bài 1: Viết tay KNN phân loại nhị phân**\\n\",","        \"#### Yêu cầu: Viết hàm dự đoán nhãn nhị phân dựa trên khoảng cách Euclidean\"","      ],","      \"metadata\": {","        \"id\": \"S8NO_G8TmpBD\"","      }","    },","    {","      \"cell_type\": \"code\",","      \"execution_count\": 1,","      \"metadata\": {","        \"colab\": {","          \"base_uri\": \"https://localhost:8080/\"","        },","        \"id\": \"aEz61TRHkTlp\",","        \"outputId\": \"7657ef74-218c-455b-9312-4b2d76e879a5\"","      },","      \"outputs\": [","        {","          \"output_type\": \"stream\",","          \"name\": \"stdout\",","          \"text\": [","            \" Predicted label : 0\\n\"","          ]","        }","      ],","      \"source\": [","        \"import math\\n\",","        \"from collections import Counter\\n\",","        \"\\n\",","        \"def euclidean_distance(x1, x2):\\n\",","        \"    return math.sqrt(sum((t1 - t2)**2 for t1, t2 in zip(x1, x2)))\\n\",","        \"\\n\",","        \"def knn_predict(X_train, y_train, x_test, k=3):\\n\",","        \"    distances = []\\n\",","        \"    for i, x_train in enumerate(X_train):\\n\",","        \"        distance = euclidean_distance(x_test, x_train)\\n\",","        \"        distances.append((distance, y_train[i]))\\n\",","        \"    sorted_distances = sorted(distances, key = lambda x: x[0])\\n\",","        \"    k_nearest_labels = [label for _, label in sorted_distances[:k]]\\n\",","        \"    vote_counts = Counter(k_nearest_labels)    # đếm số lần mỗi nhãn xuất hiện\\n\",","        \"    predicted_label = vote_counts.most_common(1) [0][0]  # trả về nhãn phổ biến nhất (danh sách có 1 phần tử). # [0][0]: lấy chính nhãn đó\\n\",","        \"    return predicted_label\\n\",","        \"\\n\",","        \"# Test\\n\",","        \"X_train = [[1 , 2], [2, 3], [3, 1], [6, 5]]\\n\",","        \"y_train = [0, 0, 1, 1]\\n\",","        \"x_test = [2, 2]\\n\",","        \"print (\\\" Predicted label :\\\", knn_predict ( X_train , y_train , x_test , k=3))\"","      ]","    },","    {","      \"cell_type\": \"markdown\",","      \"source\": [","        \"#### **Bài 2: Viết KNN hồi quy (Regression)**\\n\",","        \"##### Thay vì bỏ phiếu nhãn (classification), hồi quy dùng trung bình giá trị (giá trị liên tục) của k láng giềng gần nhất để dự đoán giá trị đầu ra.\\n\"","      ],","      \"metadata\": {","        \"id\": \"4JZxH_ft8pmO\"","      }","    },","    {","      \"cell_type\": \"code\",","      \"source\": [","        \"import math\\n\",","        \"def euclidean_distance(x1, x2):\\n\",","        \"    return math.sqrt(sum((t1 - t2)**2 for t1, t2 in zip(x1, x2)))\\n\",","        \"\\n\",","        \"def knn_regression(X_train, y_train, x_test, k):\\n\",","        \"    distances = []\\n\",","        \"    for i, x_train in enumerate(X_train):\\n\",","        \"        distance = euclidean_distance(x_test, x_train)\\n\",","        \"        distances.append((distance, y_train[i]))\\n\",","        \"\\n\",","        \"    sorted_distances = sorted(distances, key=lambda x: x[0])\\n\",","        \"    k_nearest_values = [value for _, value in sorted_distances[:k]]\\n\",","        \"    predicted_value = sum(k_nearest_values) / k\\n\",","        \"    return predicted_value\\n\",","        \"\\n\",","        \"# TEST: Dự đoán giá nhà\\n\",","        \"X_train = [[100] , [150] , [200] , [250] , [300]]\\n\",","        \"y_train = [1.0 , 1.5 , 2.0 , 2.5 , 3.0]\\n\",","        \"x_test = [220]\\n\",","        \"print (\\\" Predicted price :\\\", knn_regression ( X_train , y_train , x_test , k =2))\"","      ],","      \"metadata\": {","        \"colab\": {","          \"base_uri\": \"https://localhost:8080/\"","        },","        \"id\": \"foAjBW5S8wFs\",","        \"outputId\": \"6393ec08-6342-4eda-da59-b231a018a656\"","      },","      \"execution_count\": 5,","      \"outputs\": [","        {","          \"output_type\": \"stream\",","          \"name\": \"stdout\",","          \"text\": [","            \" Predicted price : 2.25\\n\"","          ]","        }","      ]","    },","    {","      \"cell_type\": \"markdown\",","      \"source\": [","        \"### **Bài 3: Weighted Voting (có trọng số) KNN Hồi quy có trọng số**\"","      ],","      \"metadata\": {","        \"id\": \"Cv7CcJ4VwHdk\"","      }","    },","    {","      \"cell_type\": \"markdown\",","      \"source\": [","        \"#### Khoảng cách nhỏ → trọng số lớn → ảnh hưởng lớn hơn đến kết quả\\n\",","        \"\\n\",","        \"#### Nếu có khoảng cách bằng 0, ta trả về luôn giá trị đó để tránh chia cho 0\\n\",","        \"\\n\",","        \"#### Kỹ thuật này đặc biệt tốt nếu dữ liệu có nhiễu\"","      ],","      \"metadata\": {","        \"id\": \"LwT7yO4twNbB\"","      }","    },","    {","      \"cell_type\": \"markdown\",","      \"source\": [","        \"##### ![image.png](data:image/png;base64,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)\"","      ],","      \"metadata\": {","        \"id\": \"9EYHvyMMwVxM\"","      }","    },","    {","      \"cell_type\": \"code\",","      \"source\": [","        \"import math\\n\",","        \"def euclidean_distance(p1, p2):\\n\",","        \"    return math.sqrt(sum((a-b)**2 for a,b in zip(p1, p2)))\\n\",","        \"\\n\",","        \"def knn_weighted_regression(X_train, y_train, x_test, k):\\n\",","        \"    distances = []\\n\",","        \"    for i, x_train in enumerate(X_train):\\n\",","        \"        dist = euclidean_distance(x_test, x_train)\\n\",","        \"        distances.append((dist, y_train[i]))\\n\",","        \"\\n\",","        \"    sorted_distances = sorted(distances, key=lambda x: x[0])\\n\",","        \"    k_nearest = distances[:k]\\n\",","        \"\\n\",","        \"    weighted_total = 0\\n\",","        \"    weight_total = 0\\n\",","        \"\\n\",","        \"    for dist, value in k_nearest:\\n\",","        \"        if dist == 0:\\n\",","        \"            return value\\n\",","        \"        weight = 1/dist\\n\",","        \"        weighted_total += weight * value\\n\",","        \"        weight_total += weight\\n\",","        \"    return weighted_total / weight_total\\n\",","        \"\\n\",","        \"# TEST\\n\",","        \"X_train = [[1], [2], [3], [4], [5]]\\n\",","        \"y_train = [100, 150, 200, 250, 300]\\n\",","        \"\\n\",","        \"x_test = [2.5]\\n\",","        \"k = 3\\n\",","        \"\\n\",","        \"predicted = knn_weighted_regression(X_train, y_train, x_test, k)\\n\",","        \"\\n\",","        \"print(f\\\"Dự đoán có trọng số cho {x_test} là: {predicted}\\\")\"","      ],","      \"metadata\": {","        \"colab\": {","          \"base_uri\": \"https://localhost:8080/\"","        },","        \"id\": \"RqvlhtXswnZu\",","        \"outputId\": \"a7ec51c6-3a99-4794-89e8-db9cc1248315\"","      },","      \"execution_count\": 7,","      \"outputs\": [","        {","          \"output_type\": \"stream\",","          \"name\": \"stdout\",","          \"text\": [","            \"Dự đoán có trọng số cho [2.5] là: 164.2857142857143\\n\"","          ]","        }","      ]","    },","    {","      \"cell_type\": \"code\",","      \"source\": [],","      \"metadata\": {","        \"id\": \"qaP9ULFNSruP\"","      },","      \"execution_count\": null,","      \"outputs\": []","    },","    {","      \"cell_type\": \"code\",","      \"source\": [],","      \"metadata\": {","        \"id\": \"IVMqG_JBSrfN\"","      },","      \"execution_count\": null,","      \"outputs\": []","    }","  ]","}"],"stylingDirectives":null,"colorizedLines":null,"csv":null,"csvError":null,"dependabotInfo":{"showConfigurationBanner":false,"configFilePath":null,"networkDependabotPath":"/Dong-Den/AIO-2025_Pre/network/updates","dismissConfigurationNoticePath":"/settings/dismiss-notice/dependabot_configuration_notice","configurationNoticeDismissed":false},"displayName":"PRE_WEEK_16_DAY_80_Thuật_Toán_K_Nearest_Neighbors_(KNN)_Nâng_cao.ipynb","displayUrl":"https://notebooks.githubusercontent.com/view/ipynb?browser=chrome\u0026bypass_fastly=true\u0026color_mode=auto\u0026commit=8b1879ace22833d53587f1793a83cd0634bc9e28\u0026device=unknown_device\u0026docs_host=https%3A%2F%2Fdocs.github.com\u0026enc_url=68747470733a2f2f7261772e67697468756275736572636f6e74656e742e636f6d2f446f6e672d44656e2f41494f2d323032355f5072652f386231383739616365323238333364353335383766313739336138336364303633346263396532382f5745454b25323031365f323032352e352e32305f4b4e4e5f4261736963253243253230416476616e636564253230436f6e6365707473253230616e642532304974732532304170706c69636174696f6e732f5052455f5745454b5f31365f4441595f38305f546875e1baad745f546fc3a16e5f4b5f4e6561726573745f4e65696768626f72735f284b4e4e295f4ec3a26e675f63616f2e6970796e62\u0026logged_in=true\u0026nwo=Dong-Den%2FAIO-2025_Pre\u0026path=WEEK+16_2025.5.20_KNN_Basic%2C+Advanced+Concepts+and+Its+Applications%2FPRE_WEEK_16_DAY_80_Thu%E1%BA%ADt_To%C3%A1n_K_Nearest_Neighbors_%28KNN%29_N%C3%A2ng_cao.ipynb\u0026platform=windows\u0026repository_id=976489619\u0026repository_type=Repository\u0026version=136","headerInfo":{"blobSize":"74.7 KB","deleteTooltip":"Delete this file","editTooltip":"Edit this file","ghDesktopPath":"https://desktop.github.com","isGitLfs":false,"onBranch":true,"shortPath":"80a29cc","siteNavLoginPath":"/login?return_to=https%3A%2F%2Fgithub.com%2FDong-Den%2FAIO-2025_Pre%2Fblob%2Fmain%2FWEEK%252016_2025.5.20_KNN_Basic%252C%2520Advanced%2520Concepts%2520and%2520Its%2520Applications%2FPRE_WEEK_16_DAY_80_Thu%25E1%25BA%25ADt_To%25C3%25A1n_K_Nearest_Neighbors_%28KNN%29_N%25C3%25A2ng_cao.ipynb","isCSV":false,"isRichtext":false,"toc":null,"lineInfo":{"truncatedLoc":"238","truncatedSloc":"238"},"mode":"file"},"image":false,"isCodeownersFile":null,"isPlain":false,"isValidLegacyIssueTemplate":false,"issueTemplate":null,"discussionTemplate":null,"language":"Jupyter Notebook","languageID":185,"large":false,"planSupportInfo":{"repoIsFork":null,"repoOwnedByCurrentUser":null,"requestFullPath":"/Dong-Den/AIO-2025_Pre/blob/main/WEEK%2016_2025.5.20_KNN_Basic%2C%20Advanced%20Concepts%20and%20Its%20Applications/PRE_WEEK_16_DAY_80_Thu%E1%BA%ADt_To%C3%A1n_K_Nearest_Neighbors_(KNN)_N%C3%A2ng_cao.ipynb","showFreeOrgGatedFeatureMessage":null,"showPlanSupportBanner":null,"upgradeDataAttributes":null,"upgradePath":null},"publishBannersInfo":{"dismissActionNoticePath":"/settings/dismiss-notice/publish_action_from_dockerfile","releasePath":"/Dong-Den/AIO-2025_Pre/releases/new?marketplace=true","showPublishActionBanner":false},"rawBlobUrl":"https://github.com/Dong-Den/AIO-2025_Pre/raw/refs/heads/main/WEEK%2016_2025.5.20_KNN_Basic,%20Advanced%20Concepts%20and%20Its%20Applications/PRE_WEEK_16_DAY_80_Thu%E1%BA%ADt_To%C3%A1n_K_Nearest_Neighbors_(KNN)_N%C3%A2ng_cao.ipynb","renderImageOrRaw":false,"richText":null,"renderedFileInfo":{"identityUUID":"9efd6340-f03f-4fa0-8038-cfcafdf0cac7","renderFileType":"ipynb","size":76501},"shortPath":null,"symbolsEnabled":true,"tabSize":8,"topBannersInfo":{"overridingGlobalFundingFile":false,"globalPreferredFundingPath":null,"showInvalidCitationWarning":false,"citationHelpUrl":"https://docs.github.com/github/creating-cloning-and-archiving-repositories/creating-a-repository-on-github/about-citation-files","actionsOnboardingTip":null},"truncated":false,"viewable":true,"workflowRedirectUrl":null,"symbols":{"timed_out":false,"not_analyzed":true,"symbols":[]}},"copilotInfo":null,"copilotAccessAllowed":true,"modelsAccessAllowed":false,"modelsRepoIntegrationEnabled":false,"csrf_tokens":{"/Dong-Den/AIO-2025_Pre/branches":{"post":"T0JAHktU9eE-OR1i41jkRxMhYa0Y8xo_qgbl2RQGr7qEES3Q17VBTyMGJzzKe_eVss2o4GTf-WX1D6DLNpMpIw"},"/repos/preferences":{"post":"2L7EgNPlzOkJouXwHe3DPQqQanIwNvBQ9mU1R52yjLV9JW5Pn0kUorAlVKOAg0oB1WvvgbEAM7fulrXmicM32w"}}},"title":"AIO-2025_Pre/WEEK 16_2025.5.20_KNN_Basic, Advanced Concepts and Its Applications/PRE_WEEK_16_DAY_80_Thuật_Toán_K_Nearest_Neighbors_(KNN)_Nâng_cao.ipynb at main · Dong-Den/AIO-2025_Pre","appPayload":{"helpUrl":"https://docs.github.com","findFileWorkerPath":"/assets-cdn/worker/find-file-worker-7d7eb7c71814.js","findInFileWorkerPath":"/assets-cdn/worker/find-in-file-worker-1ae9fa256942.js","githubDevUrl":"https://github.dev/","enabled_features":{"code_nav_ui_events":false,"react_blob_overlay":true,"accessible_code_button":true,"github_models_repo_integration":false}}}</script>
  <div data-target="react-app.reactRoot"><style data-styled="true" data-styled-version="5.3.11">.gISSDQ{width:100%;}/*!sc*/
@media screen and (min-width:544px){.gISSDQ{width:100%;}}/*!sc*/
@media screen and (min-width:768px){.gISSDQ{width:auto;}}/*!sc*/
.birIjn{max-height:100%;height:100%;display:-webkit-box;display:-webkit-flex;display:-ms-flexbox;display:flex;-webkit-flex-direction:column;-ms-flex-direction:column;flex-direction:column;}/*!sc*/
@media screen and (max-width:768px){.birIjn{display:none;}}/*!sc*/
@media screen and (min-width:768px){.birIjn{max-height:100vh;height:100vh;}}/*!sc*/
.jfIeyl{display:-webkit-box;display:-webkit-flex;display:-ms-flexbox;display:flex;width:100%;margin-bottom:16px;-webkit-align-items:center;-webkit-box-align:center;-ms-flex-align:center;align-items:center;}/*!sc*/
.kOkWgo{font-size:16px;margin-left:8px;}/*!sc*/
.gMOVLe[data-size="medium"]{display:-webkit-box;display:-webkit-flex;display:-ms-flexbox;display:flex;min-width:0;}/*!sc*/
.gMOVLe[data-size="medium"] svg{color:var(--fgColor-muted,var(--color-fg-muted,#656d76));}/*!sc*/
.gMOVLe[data-size="medium"] > span{width:inherit;}/*!sc*/
.gUkoLg{-webkit-box-pack:center;-webkit-justify-content:center;-ms-flex-pack:center;justify-content:center;}/*!sc*/
.bZBlpz{display:-webkit-box;display:-webkit-flex;display:-ms-flexbox;display:flex;width:100%;}/*!sc*/
.lhTYNA{margin-right:4px;color:var(--fgColor-muted,var(--color-fg-muted,#656d76));}/*!sc*/
.ffLUq{font-size:14px;min-width:0;overflow:hidden;text-overflow:ellipsis;white-space:nowrap;}/*!sc*/
.bmcJak{min-width:0;}/*!sc*/
.dPUXSa[data-size="medium"][data-no-visuals]{border-top-left-radius:0;border-bottom-left-radius:0;}/*!sc*/
@media screen and (max-width:768px){.jLLPHh{display:none;}}/*!sc*/
.bHLmSv{position:absolute;inset:0 -2px;cursor:col-resize;background-color:transparent;-webkit-transition-delay:0.1s;transition-delay:0.1s;}/*!sc*/
.bHLmSv:hover{background-color:var(--bgColor-neutral-muted,var(--color-neutral-muted,rgba(175,184,193,0.2)));}/*!sc*/
.leYMvG{margin-left:auto;margin-right:auto;-webkit-flex-direction:column;-ms-flex-direction:column;flex-direction:column;padding-bottom:40px;max-width:100%;margin-top:0;}/*!sc*/
.KMPzq{display:inherit;}/*!sc*/
.cEytCf{display:-webkit-box;display:-webkit-flex;display:-ms-flexbox;display:flex;-webkit-flex-direction:row;-ms-flex-direction:row;flex-direction:row;font-size:16px;min-width:0;-webkit-flex-shrink:1;-ms-flex-negative:1;flex-shrink:1;-webkit-flex-wrap:wrap;-ms-flex-wrap:wrap;flex-wrap:wrap;max-width:100%;-webkit-align-items:center;-webkit-box-align:center;-ms-flex-align:center;align-items:center;}/*!sc*/
.fzFXnm{max-width:100%;}/*!sc*/
.iMnkmv{max-width:100%;list-style:none;display:inline-block;}/*!sc*/
.ghzDag{display:inline-block;max-width:100%;}/*!sc*/
.kHuKdh{font-weight:600;}/*!sc*/
.hzJBof{padding-left:4px;padding-right:4px;font-weight:400;color:var(--fgColor-muted,var(--color-fg-muted,#656d76));font-size:16px;}/*!sc*/
.kgiVEz{font-weight:400;}/*!sc*/
.jGhzSQ{font-weight:600;display:inline-block;max-width:100%;font-size:16px;}/*!sc*/
.fjrFuv[data-size="medium"][data-no-visuals]{display:none;}/*!sc*/
.dJxjrT{margin-left:16px;margin-right:16px;}/*!sc*/
.ldRxiI{display:-webkit-box;display:-webkit-flex;display:-ms-flexbox;display:flex;-webkit-flex-direction:row;-ms-flex-direction:row;flex-direction:row;}/*!sc*/
.fVkfyA{width:100%;height:-webkit-fit-content;height:-moz-fit-content;height:fit-content;min-width:0;margin-right:0;}/*!sc*/
.gNAmSV{height:40px;padding-left:4px;padding-bottom:16px;}/*!sc*/
.jdLMhu{top:0px;z-index:4;background:var(--bgColor-default,var(--color-canvas-default));position:-webkit-sticky;position:sticky;}/*!sc*/
.hqwSEx{display:none;min-width:0;padding-top:8px;padding-bottom:8px;}/*!sc*/
.fHind{display:-webkit-box;display:-webkit-flex;display:-ms-flexbox;display:flex;-webkit-flex-direction:row;-ms-flex-direction:row;flex-direction:row;font-size:14px;min-width:0;-webkit-flex-shrink:1;-ms-flex-negative:1;flex-shrink:1;-webkit-flex-wrap:wrap;-ms-flex-wrap:wrap;flex-wrap:wrap;max-width:100%;-webkit-align-items:center;-webkit-box-align:center;-ms-flex-align:center;align-items:center;}/*!sc*/
.oDtgN{padding-left:4px;padding-right:4px;font-weight:400;color:var(--fgColor-muted,var(--color-fg-muted,#656d76));font-size:14px;}/*!sc*/
.dnZoUW{font-weight:600;display:inline-block;max-width:100%;font-size:14px;}/*!sc*/
.gFKFyc{border-radius:6px 6px 0px 0px;}/*!sc*/
.lefpaC linkButtonSx:hover:not([disabled]){-webkit-text-decoration:none;text-decoration:none;}/*!sc*/
.lefpaC linkButtonSx:focus:not([disabled]){-webkit-text-decoration:none;text-decoration:none;}/*!sc*/
.lefpaC linkButtonSx:active:not([disabled]){-webkit-text-decoration:none;text-decoration:none;}/*!sc*/
.ivobqY[data-size="small"][data-no-visuals]{border-top-left-radius:0;border-bottom-left-radius:0;}/*!sc*/
.iCOsHh[data-size="small"][data-no-visuals]:hover:not([disabled]){-webkit-text-decoration:none;text-decoration:none;}/*!sc*/
.iCOsHh[data-size="small"][data-no-visuals]:focus:not([disabled]){-webkit-text-decoration:none;text-decoration:none;}/*!sc*/
.iCOsHh[data-size="small"][data-no-visuals]:active:not([disabled]){-webkit-text-decoration:none;text-decoration:none;}/*!sc*/
.hGyMdv{border:1px solid;border-top:none;border-color:var(--borderColor-default,var(--color-border-default,#d0d7de));border-radius:0px 0px 6px 6px;min-width:273px;}/*!sc*/
.iWAocR{background-color:var(--bgColor-default,var(--color-canvas-default));border:0px;border-width:0;border-radius:0px 0px 6px 6px;padding:0;min-width:0;margin-top:46px;overflow:auto;}/*!sc*/
.cCoXib{position:fixed;top:0;right:0;height:100%;width:15px;-webkit-transition:-webkit-transform 0.3s;-webkit-transition:transform 0.3s;transition:transform 0.3s;z-index:1;}/*!sc*/
.cCoXib:hover{-webkit-transform:scaleX(1.5);-ms-transform:scaleX(1.5);transform:scaleX(1.5);}/*!sc*/
.fgsa-DI{display:-webkit-box;display:-webkit-flex;display:-ms-flexbox;display:flex;-webkit-flex-direction:column;-ms-flex-direction:column;flex-direction:column;-webkit-align-items:center;-webkit-box-align:center;-ms-flex-align:center;align-items:center;padding-top:16px;padding-bottom:16px;}/*!sc*/
data-styled.g1[id="Box-sc-g0xbh4-0"]{content:"gISSDQ,birIjn,jfIeyl,kOkWgo,gMOVLe,gUkoLg,bZBlpz,lhTYNA,ffLUq,bmcJak,dPUXSa,jLLPHh,bHLmSv,leYMvG,KMPzq,cEytCf,fzFXnm,iMnkmv,ghzDag,kHuKdh,hzJBof,kgiVEz,jGhzSQ,fjrFuv,dJxjrT,ldRxiI,fVkfyA,gNAmSV,jdLMhu,hqwSEx,fHind,oDtgN,dnZoUW,gFKFyc,lefpaC,ivobqY,iCOsHh,hGyMdv,iWAocR,cCoXib,fgsa-DI,"}/*!sc*/
.brGdpi{position:absolute;width:1px;height:1px;padding:0;margin:-1px;overflow:hidden;-webkit-clip:rect(0,0,0,0);clip:rect(0,0,0,0);white-space:nowrap;border-width:0;}/*!sc*/
data-styled.g4[id="_VisuallyHidden__VisuallyHidden-sc-11jhm7a-0"]{content:"brGdpi,"}/*!sc*/
.hWlpPn{position:relative;display:inline-block;}/*!sc*/
.hWlpPn::after{position:absolute;z-index:1000000;display:none;padding:0.5em 0.75em;font:normal normal 11px/1.5 -apple-system,BlinkMacSystemFont,"Segoe UI","Noto Sans",Helvetica,Arial,sans-serif,"Apple Color Emoji","Segoe UI Emoji";-webkit-font-smoothing:subpixel-antialiased;color:var(--tooltip-fgColor,var(--fgColor-onEmphasis,var(--color-fg-on-emphasis,#ffffff)));text-align:center;-webkit-text-decoration:none;text-decoration:none;text-shadow:none;text-transform:none;-webkit-letter-spacing:normal;-moz-letter-spacing:normal;-ms-letter-spacing:normal;letter-spacing:normal;word-wrap:break-word;white-space:pre;pointer-events:none;content:attr(aria-label);background:var(--tooltip-bgColor,var(--bgColor-emphasis,var(--color-neutral-emphasis-plus,#24292f)));border-radius:6px;opacity:0;}/*!sc*/
@-webkit-keyframes tooltip-appear{from{opacity:0;}to{opacity:1;}}/*!sc*/
@keyframes tooltip-appear{from{opacity:0;}to{opacity:1;}}/*!sc*/
.hWlpPn:hover::after,.hWlpPn:active::after,.hWlpPn:focus::after,.hWlpPn:focus-within::after{display:inline-block;-webkit-text-decoration:none;text-decoration:none;-webkit-animation-name:tooltip-appear;animation-name:tooltip-appear;-webkit-animation-duration:0.1s;animation-duration:0.1s;-webkit-animation-fill-mode:forwards;animation-fill-mode:forwards;-webkit-animation-timing-function:ease-in;animation-timing-function:ease-in;-webkit-animation-delay:0s;animation-delay:0s;}/*!sc*/
.hWlpPn.tooltipped-no-delay:hover::after,.hWlpPn.tooltipped-no-delay:active::after,.hWlpPn.tooltipped-no-delay:focus::after,.hWlpPn.tooltipped-no-delay:focus-within::after{-webkit-animation-delay:0s;animation-delay:0s;}/*!sc*/
.hWlpPn.tooltipped-multiline:hover::after,.hWlpPn.tooltipped-multiline:active::after,.hWlpPn.tooltipped-multiline:focus::after,.hWlpPn.tooltipped-multiline:focus-within::after{display:table-cell;}/*!sc*/
.hWlpPn.tooltipped-s::after,.hWlpPn.tooltipped-se::after,.hWlpPn.tooltipped-sw::after{top:100%;right:50%;margin-top:6px;}/*!sc*/
.hWlpPn.tooltipped-se::after{right:auto;left:50%;margin-left:-16px;}/*!sc*/
.hWlpPn.tooltipped-sw::after{margin-right:-16px;}/*!sc*/
.hWlpPn.tooltipped-n::after,.hWlpPn.tooltipped-ne::after,.hWlpPn.tooltipped-nw::after{right:50%;bottom:100%;margin-bottom:6px;}/*!sc*/
.hWlpPn.tooltipped-ne::after{right:auto;left:50%;margin-left:-16px;}/*!sc*/
.hWlpPn.tooltipped-nw::after{margin-right:-16px;}/*!sc*/
.hWlpPn.tooltipped-s::after,.hWlpPn.tooltipped-n::after{-webkit-transform:translateX(50%);-ms-transform:translateX(50%);transform:translateX(50%);}/*!sc*/
.hWlpPn.tooltipped-w::after{right:100%;bottom:50%;margin-right:6px;-webkit-transform:translateY(50%);-ms-transform:translateY(50%);transform:translateY(50%);}/*!sc*/
.hWlpPn.tooltipped-e::after{bottom:50%;left:100%;margin-left:6px;-webkit-transform:translateY(50%);-ms-transform:translateY(50%);transform:translateY(50%);}/*!sc*/
.hWlpPn.tooltipped-multiline::after{width:-webkit-max-content;width:-moz-max-content;width:max-content;max-width:250px;word-wrap:break-word;white-space:pre-line;border-collapse:separate;}/*!sc*/
.hWlpPn.tooltipped-multiline.tooltipped-s::after,.hWlpPn.tooltipped-multiline.tooltipped-n::after{right:auto;left:50%;-webkit-transform:translateX(-50%);-ms-transform:translateX(-50%);transform:translateX(-50%);}/*!sc*/
.hWlpPn.tooltipped-multiline.tooltipped-w::after,.hWlpPn.tooltipped-multiline.tooltipped-e::after{right:100%;}/*!sc*/
.hWlpPn.tooltipped-align-right-2::after{right:0;margin-right:0;}/*!sc*/
.hWlpPn.tooltipped-align-left-2::after{left:0;margin-left:0;}/*!sc*/
data-styled.g5[id="Tooltip__TooltipBase-sc-17tf59c-0"]{content:"hWlpPn,"}/*!sc*/
.bgsFir{display:inline-block;overflow:hidden;text-overflow:ellipsis;vertical-align:top;white-space:nowrap;max-width:100%;}/*!sc*/
data-styled.g6[id="Truncate__StyledTruncate-sc-23o1d2-0"]{content:"bgsFir,"}/*!sc*/
</style><meta data-hydrostats="publish"/> <!-- --> <!-- --> <button hidden="" data-testid="header-permalink-button" data-hotkey-scope="read-only-cursor-text-area"></button><button hidden=""></button><div><div style="--spacing:var(--spacing-none)" class="Box-sc-g0xbh4-0 prc-PageLayout-PageLayoutRoot-1zlEO"><div class="prc-PageLayout-PageLayoutWrapper-s2ao4" data-width="full"><div class="prc-PageLayout-PageLayoutContent-jzDMn"><div tabindex="0" class="Box-sc-g0xbh4-0 gISSDQ"><div class="Box-sc-g0xbh4-0 prc-PageLayout-PaneWrapper-nGO0U ReposFileTreePane-module__Pane--wS7IV ReposFileTreePane-module__HidePaneWithTreeOverlay--fHI8k" style="--offset-header:0px;--spacing-row:var(--spacing-none);--spacing-column:var(--spacing-none)" data-is-hidden="false" data-position="start" data-sticky="true"><div class="Box-sc-g0xbh4-0 prc-PageLayout-HorizontalDivider-CYLp5 prc-PageLayout-PaneHorizontalDivider-4exOb" data-variant="none" data-position="start" style="--spacing-divider:var(--spacing-none);--spacing:var(--spacing-none)"></div><div class="prc-PageLayout-Pane-Vl5LI" data-resizable="true" style="--spacing:var(--spacing-none);--pane-min-width:256px;--pane-max-width:calc(100vw - var(--pane-max-width-diff));--pane-width-size:var(--pane-width-large);--pane-width:320px"><div class="react-tree-pane-contents-3-panel"><div id="repos-file-tree" class="Box-sc-g0xbh4-0 birIjn"><div class="ReposFileTreePane-module__Box_1--Bz4Aw"><div class="Box-sc-g0xbh4-0 jfIeyl"><h2 class="use-tree-pane-module__Heading--DlnQ2 prc-Heading-Heading-6CmGO"><button type="button" aria-label="Expand file tree" data-testid="expand-file-tree-button-mobile" class="prc-Button-ButtonBase-c50BI ExpandFileTreeButton-module__Button_1--M2dXF" data-loading="false" data-size="medium" data-variant="invisible" aria-describedby=":Rl6mplab:-loading-announcement"><span data-component="buttonContent" data-align="center" class="prc-Button-ButtonContent-HKbr-"><span data-component="leadingVisual" class="prc-Button-Visual-2epfX prc-Button-VisualWrap-Db-eB"><svg aria-hidden="true" focusable="false" class="octicon octicon-arrow-left" viewBox="0 0 16 16" width="16" height="16" fill="currentColor" display="inline-block" overflow="visible" style="vertical-align:text-bottom"><path d="M7.78 12.53a.75.75 0 0 1-1.06 0L2.47 8.28a.75.75 0 0 1 0-1.06l4.25-4.25a.751.751 0 0 1 1.042.018.751.751 0 0 1 .018 1.042L4.81 7h7.44a.75.75 0 0 1 0 1.5H4.81l2.97 2.97a.75.75 0 0 1 0 1.06Z"></path></svg></span><span data-component="text" class="prc-Button-Label-pTQ3x">Files</span></span></button><span role="tooltip" aria-label="Collapse file tree" id="expand-button-file-tree-button" class="Tooltip__TooltipBase-sc-17tf59c-0 hWlpPn tooltipped-se"><button data-component="IconButton" type="button" data-testid="collapse-file-tree-button" aria-expanded="true" aria-controls="repos-file-tree" data-analytics-opt-out="true" class="prc-Button-ButtonBase-c50BI position-relative ExpandFileTreeButton-module__expandButton--gL4is ExpandFileTreeButton-module__filesButtonBreakpoint--WfX9t fgColor-muted prc-Button-IconButton-szpyj" data-loading="false" data-no-visuals="true" data-size="medium" data-variant="invisible" aria-describedby=":R356mplab:-loading-announcement" aria-labelledby="expand-button-file-tree-button"><svg aria-hidden="true" focusable="false" class="octicon octicon-sidebar-expand" viewBox="0 0 16 16" width="16" height="16" fill="currentColor" display="inline-block" overflow="visible" style="vertical-align:text-bottom"><path d="m4.177 7.823 2.396-2.396A.25.25 0 0 1 7 5.604v4.792a.25.25 0 0 1-.427.177L4.177 8.177a.25.25 0 0 1 0-.354Z"></path><path d="M0 1.75C0 .784.784 0 1.75 0h12.5C15.216 0 16 .784 16 1.75v12.5A1.75 1.75 0 0 1 14.25 16H1.75A1.75 1.75 0 0 1 0 14.25Zm1.75-.25a.25.25 0 0 0-.25.25v12.5c0 .138.112.25.25.25H9.5v-13Zm12.5 13a.25.25 0 0 0 .25-.25V1.75a.25.25 0 0 0-.25-.25H11v13Z"></path></svg></button></span><button hidden="" data-testid="" data-hotkey-scope="read-only-cursor-text-area"></button></h2><h2 class="Box-sc-g0xbh4-0 kOkWgo prc-Heading-Heading-6CmGO">Files</h2></div><div class="ReposFileTreePane-module__Box_2--uC_pl"><div class="ReposFileTreePane-module__Box_3--Tgoja"><button type="button" aria-haspopup="true" aria-expanded="false" tabindex="0" aria-label="main branch" data-testid="anchor-button" class="Box-sc-g0xbh4-0 gMOVLe prc-Button-ButtonBase-c50BI react-repos-tree-pane-ref-selector width-full ref-selector-class" data-loading="false" data-size="medium" data-variant="default" aria-describedby="branch-picker-repos-header-ref-selector-loading-announcement" id="branch-picker-repos-header-ref-selector"><span data-component="buttonContent" class="Box-sc-g0xbh4-0 gUkoLg prc-Button-ButtonContent-HKbr-"><span data-component="text" class="prc-Button-Label-pTQ3x"><div class="Box-sc-g0xbh4-0 bZBlpz"><div class="Box-sc-g0xbh4-0 lhTYNA"><svg aria-hidden="true" focusable="false" class="octicon octicon-git-branch" viewBox="0 0 16 16" width="16" height="16" fill="currentColor" display="inline-block" overflow="visible" style="vertical-align:text-bottom"><path d="M9.5 3.25a2.25 2.25 0 1 1 3 2.122V6A2.5 2.5 0 0 1 10 8.5H6a1 1 0 0 0-1 1v1.128a2.251 2.251 0 1 1-1.5 0V5.372a2.25 2.25 0 1 1 1.5 0v1.836A2.493 2.493 0 0 1 6 7h4a1 1 0 0 0 1-1v-.628A2.25 2.25 0 0 1 9.5 3.25Zm-6 0a.75.75 0 1 0 1.5 0 .75.75 0 0 0-1.5 0Zm8.25-.75a.75.75 0 1 0 0 1.5.75.75 0 0 0 0-1.5ZM4.25 12a.75.75 0 1 0 0 1.5.75.75 0 0 0 0-1.5Z"></path></svg></div><div class="Box-sc-g0xbh4-0 ffLUq ref-selector-button-text-container"><span class="Box-sc-g0xbh4-0 bmcJak prc-Text-Text-0ima0"> <!-- -->main</span></div></div></span><span data-component="trailingVisual" class="prc-Button-Visual-2epfX prc-Button-VisualWrap-Db-eB"><svg aria-hidden="true" focusable="false" class="octicon octicon-triangle-down" viewBox="0 0 16 16" width="16" height="16" fill="currentColor" display="inline-block" overflow="visible" style="vertical-align:text-bottom"><path d="m4.427 7.427 3.396 3.396a.25.25 0 0 0 .354 0l3.396-3.396A.25.25 0 0 0 11.396 7H4.604a.25.25 0 0 0-.177.427Z"></path></svg></span></span></button><button hidden="" data-hotkey-scope="read-only-cursor-text-area"></button></div><div class="ReposFileTreePane-module__Box_4--brBpx"><a data-component="IconButton" type="button" aria-label="Add file" class="prc-Button-ButtonBase-c50BI ReposFileTreePane-module__IconButton--tNSTv prc-Button-IconButton-szpyj" data-loading="false" data-no-visuals="true" data-size="medium" data-variant="default" aria-describedby=":R6q6mplab:-loading-announcement :Rq6mplab:" href="/Dong-Den/AIO-2025_Pre/new/main/WEEK%2016_2025.5.20_KNN_Basic%2C%20Advanced%20Concepts%20and%20Its%20Applications"><svg aria-hidden="true" focusable="false" class="octicon octicon-plus" viewBox="0 0 16 16" width="16" height="16" fill="currentColor" display="inline-block" overflow="visible" style="vertical-align:text-bottom"><path d="M7.75 2a.75.75 0 0 1 .75.75V7h4.25a.75.75 0 0 1 0 1.5H8.5v4.25a.75.75 0 0 1-1.5 0V8.5H2.75a.75.75 0 0 1 0-1.5H7V2.75A.75.75 0 0 1 7.75 2Z"></path></svg></a><span class="prc-TooltipV2-Tooltip-cYMVY" data-direction="s" aria-label="Add file" role="tooltip" aria-hidden="true" id=":Rq6mplab:">Add file</span><button data-component="IconButton" type="button" aria-label="Search this repository" class="Box-sc-g0xbh4-0 dPUXSa prc-Button-ButtonBase-c50BI SearchButton-module__IconButton--LGy8b prc-Button-IconButton-szpyj" data-loading="false" data-no-visuals="true" data-size="medium" data-variant="default" aria-describedby=":R3a6mplab:-loading-announcement"><svg aria-hidden="true" focusable="false" class="octicon octicon-search" viewBox="0 0 16 16" width="16" height="16" fill="currentColor" display="inline-block" overflow="visible" style="vertical-align:text-bottom"><path d="M10.68 11.74a6 6 0 0 1-7.922-8.982 6 6 0 0 1 8.982 7.922l3.04 3.04a.749.749 0 0 1-.326 1.275.749.749 0 0 1-.734-.215ZM11.5 7a4.499 4.499 0 1 0-8.997 0A4.499 4.499 0 0 0 11.5 7Z"></path></svg></button><button hidden="" data-testid="" data-hotkey-scope="read-only-cursor-text-area"></button></div></div></div><div class="Box-sc-g0xbh4-0 jLLPHh ReposFileTreePane-module__FileResultsList--t38MI FileResultsList-module__Box_1--ZnWjQ"><span class="FileResultsList-module__FilesSearchBox--J5FtW FilesSearchBox-module__TextInput--LKpMn TextInput-wrapper prc-components-TextInputWrapper-i1ofR prc-components-TextInputBaseWrapper-ueK9q" data-leading-visual="true" data-trailing-visual="true" aria-busy="false"><span class="TextInput-icon" id=":R5amplab:" aria-hidden="true"><svg aria-hidden="true" focusable="false" class="octicon octicon-search" viewBox="0 0 16 16" width="16" height="16" fill="currentColor" display="inline-block" overflow="visible" style="vertical-align:text-bottom"><path d="M10.68 11.74a6 6 0 0 1-7.922-8.982 6 6 0 0 1 8.982 7.922l3.04 3.04a.749.749 0 0 1-.326 1.275.749.749 0 0 1-.734-.215ZM11.5 7a4.499 4.499 0 1 0-8.997 0A4.499 4.499 0 0 0 11.5 7Z"></path></svg></span><input type="text" aria-label="Go to file" role="combobox" aria-controls="file-results-list" aria-expanded="false" aria-haspopup="dialog" autoCorrect="off" spellcheck="false" placeholder="Go to file" aria-describedby=":R5amplab: :R5amplabH1:" data-component="input" class="prc-components-Input-Ic-y8" value=""/><span class="TextInput-icon" id=":R5amplabH1:" aria-hidden="true"><div class="FilesSearchBox-module__Box--Ye6rL"><kbd>t</kbd></div></span></span></div><button hidden="" data-testid="" data-hotkey-scope="read-only-cursor-text-area"></button><button hidden=""></button><div class="Box-sc-g0xbh4-0 jLLPHh ReposFileTreePane-module__Box_5--tQNH_"><div class="react-tree-show-tree-items"><div class="ReposFileTreeView-module__Box--V2jWA" data-testid="repos-file-tree-container"><nav aria-label="File Tree Navigation"><span role="status" aria-live="polite" aria-atomic="true" class="_VisuallyHidden__VisuallyHidden-sc-11jhm7a-0 brGdpi"></span><ul role="tree" aria-label="Files" data-truncate-text="true" class="prc-TreeView-TreeViewRootUlStyles-eZtxW"><li class="PRIVATE_TreeView-item prc-TreeView-TreeViewItem-ShJr0" tabindex="0" id="MySQL Pre-item" role="treeitem" aria-labelledby=":R3pimplab:" aria-describedby=":R3pimplabH1:" aria-level="1" aria-expanded="false" aria-selected="false"><div class="PRIVATE_TreeView-item-container prc-TreeView-TreeViewItemContainer--2Rkn" style="--level:1;content-visibility:auto;contain-intrinsic-size:auto 2rem"><div style="grid-area:spacer;display:flex"><div style="width:100%;display:flex"></div></div><div class="PRIVATE_TreeView-item-toggle PRIVATE_TreeView-item-toggle--hover PRIVATE_TreeView-item-toggle--end prc-TreeView-TreeViewItemToggle-gWUdE prc-TreeView-TreeViewItemToggleHover-nEgP- prc-TreeView-TreeViewItemToggleEnd-t-AEB"><svg aria-hidden="true" focusable="false" class="octicon octicon-chevron-right" viewBox="0 0 12 12" width="12" height="12" fill="currentColor" display="inline-block" overflow="visible" style="vertical-align:text-bottom"><path d="M4.7 10c-.2 0-.4-.1-.5-.2-.3-.3-.3-.8 0-1.1L6.9 6 4.2 3.3c-.3-.3-.3-.8 0-1.1.3-.3.8-.3 1.1 0l3.3 3.2c.3.3.3.8 0 1.1L5.3 9.7c-.2.2-.4.3-.6.3Z"></path></svg></div><div id=":R3pimplab:" class="PRIVATE_TreeView-item-content prc-TreeView-TreeViewItemContent-f0r0b"><div class="PRIVATE_VisuallyHidden prc-TreeView-TreeViewVisuallyHidden-4-mPv" aria-hidden="true" id=":R3pimplabH1:"></div><div class="PRIVATE_TreeView-item-visual prc-TreeView-TreeViewItemVisual-dRlGq" aria-hidden="true"><div class="PRIVATE_TreeView-directory-icon prc-TreeView-TreeViewDirectoryIcon-PHbeP"><svg aria-hidden="true" focusable="false" class="octicon octicon-file-directory-fill" viewBox="0 0 16 16" width="16" height="16" fill="currentColor" display="inline-block" overflow="visible" style="vertical-align:text-bottom"><path d="M1.75 1A1.75 1.75 0 0 0 0 2.75v10.5C0 14.216.784 15 1.75 15h12.5A1.75 1.75 0 0 0 16 13.25v-8.5A1.75 1.75 0 0 0 14.25 3H7.5a.25.25 0 0 1-.2-.1l-.9-1.2C6.07 1.26 5.55 1 5 1H1.75Z"></path></svg></div></div><span class="PRIVATE_TreeView-item-content-text prc-TreeView-TreeViewItemContentText-smZM-"><span>MySQL Pre</span></span></div></div></li><li class="PRIVATE_TreeView-item prc-TreeView-TreeViewItem-ShJr0" tabindex="0" id="W11_BASIC STATISTIC-item" role="treeitem" aria-labelledby=":R5pimplab:" aria-describedby=":R5pimplabH1:" aria-level="1" aria-expanded="false" aria-selected="false"><div class="PRIVATE_TreeView-item-container prc-TreeView-TreeViewItemContainer--2Rkn" style="--level:1;content-visibility:auto;contain-intrinsic-size:auto 2rem"><div style="grid-area:spacer;display:flex"><div style="width:100%;display:flex"></div></div><div class="PRIVATE_TreeView-item-toggle PRIVATE_TreeView-item-toggle--hover PRIVATE_TreeView-item-toggle--end prc-TreeView-TreeViewItemToggle-gWUdE prc-TreeView-TreeViewItemToggleHover-nEgP- prc-TreeView-TreeViewItemToggleEnd-t-AEB"><svg aria-hidden="true" focusable="false" class="octicon octicon-chevron-right" viewBox="0 0 12 12" width="12" height="12" fill="currentColor" display="inline-block" overflow="visible" style="vertical-align:text-bottom"><path d="M4.7 10c-.2 0-.4-.1-.5-.2-.3-.3-.3-.8 0-1.1L6.9 6 4.2 3.3c-.3-.3-.3-.8 0-1.1.3-.3.8-.3 1.1 0l3.3 3.2c.3.3.3.8 0 1.1L5.3 9.7c-.2.2-.4.3-.6.3Z"></path></svg></div><div id=":R5pimplab:" class="PRIVATE_TreeView-item-content prc-TreeView-TreeViewItemContent-f0r0b"><div class="PRIVATE_VisuallyHidden prc-TreeView-TreeViewVisuallyHidden-4-mPv" aria-hidden="true" id=":R5pimplabH1:"></div><div class="PRIVATE_TreeView-item-visual prc-TreeView-TreeViewItemVisual-dRlGq" aria-hidden="true"><div class="PRIVATE_TreeView-directory-icon prc-TreeView-TreeViewDirectoryIcon-PHbeP"><svg aria-hidden="true" focusable="false" class="octicon octicon-file-directory-fill" viewBox="0 0 16 16" width="16" height="16" fill="currentColor" display="inline-block" overflow="visible" style="vertical-align:text-bottom"><path d="M1.75 1A1.75 1.75 0 0 0 0 2.75v10.5C0 14.216.784 15 1.75 15h12.5A1.75 1.75 0 0 0 16 13.25v-8.5A1.75 1.75 0 0 0 14.25 3H7.5a.25.25 0 0 1-.2-.1l-.9-1.2C6.07 1.26 5.55 1 5 1H1.75Z"></path></svg></div></div><span class="PRIVATE_TreeView-item-content-text prc-TreeView-TreeViewItemContentText-smZM-"><span>W11_BASIC STATISTIC</span></span></div></div></li><li class="PRIVATE_TreeView-item prc-TreeView-TreeViewItem-ShJr0" tabindex="0" id="WEEK 13_2025.4.28_BAsic Linear Algebra and its Applications to Image Data-item" role="treeitem" aria-labelledby=":R7pimplab:" aria-describedby=":R7pimplabH1:" aria-level="1" aria-expanded="false" aria-selected="false"><div class="PRIVATE_TreeView-item-container prc-TreeView-TreeViewItemContainer--2Rkn" style="--level:1;content-visibility:auto;contain-intrinsic-size:auto 2rem"><div style="grid-area:spacer;display:flex"><div style="width:100%;display:flex"></div></div><div class="PRIVATE_TreeView-item-toggle PRIVATE_TreeView-item-toggle--hover PRIVATE_TreeView-item-toggle--end prc-TreeView-TreeViewItemToggle-gWUdE prc-TreeView-TreeViewItemToggleHover-nEgP- prc-TreeView-TreeViewItemToggleEnd-t-AEB"><svg aria-hidden="true" focusable="false" class="octicon octicon-chevron-right" viewBox="0 0 12 12" width="12" height="12" fill="currentColor" display="inline-block" overflow="visible" style="vertical-align:text-bottom"><path d="M4.7 10c-.2 0-.4-.1-.5-.2-.3-.3-.3-.8 0-1.1L6.9 6 4.2 3.3c-.3-.3-.3-.8 0-1.1.3-.3.8-.3 1.1 0l3.3 3.2c.3.3.3.8 0 1.1L5.3 9.7c-.2.2-.4.3-.6.3Z"></path></svg></div><div id=":R7pimplab:" class="PRIVATE_TreeView-item-content prc-TreeView-TreeViewItemContent-f0r0b"><div class="PRIVATE_VisuallyHidden prc-TreeView-TreeViewVisuallyHidden-4-mPv" aria-hidden="true" id=":R7pimplabH1:"></div><div class="PRIVATE_TreeView-item-visual prc-TreeView-TreeViewItemVisual-dRlGq" aria-hidden="true"><div class="PRIVATE_TreeView-directory-icon prc-TreeView-TreeViewDirectoryIcon-PHbeP"><svg aria-hidden="true" focusable="false" class="octicon octicon-file-directory-fill" viewBox="0 0 16 16" width="16" height="16" fill="currentColor" display="inline-block" overflow="visible" style="vertical-align:text-bottom"><path d="M1.75 1A1.75 1.75 0 0 0 0 2.75v10.5C0 14.216.784 15 1.75 15h12.5A1.75 1.75 0 0 0 16 13.25v-8.5A1.75 1.75 0 0 0 14.25 3H7.5a.25.25 0 0 1-.2-.1l-.9-1.2C6.07 1.26 5.55 1 5 1H1.75Z"></path></svg></div></div><span class="PRIVATE_TreeView-item-content-text prc-TreeView-TreeViewItemContentText-smZM-"><span>WEEK 13_2025.4.28_BAsic Linear Algebra and its Applications to Image Data</span></span></div></div></li><li class="PRIVATE_TreeView-item prc-TreeView-TreeViewItem-ShJr0" tabindex="0" id="WEEK 14_2025.5.5_Algorithms_Sort and Search-item" role="treeitem" aria-labelledby=":R9pimplab:" aria-describedby=":R9pimplabH1:" aria-level="1" aria-expanded="false" aria-selected="false"><div class="PRIVATE_TreeView-item-container prc-TreeView-TreeViewItemContainer--2Rkn" style="--level:1;content-visibility:auto;contain-intrinsic-size:auto 2rem"><div style="grid-area:spacer;display:flex"><div style="width:100%;display:flex"></div></div><div class="PRIVATE_TreeView-item-toggle PRIVATE_TreeView-item-toggle--hover PRIVATE_TreeView-item-toggle--end prc-TreeView-TreeViewItemToggle-gWUdE prc-TreeView-TreeViewItemToggleHover-nEgP- prc-TreeView-TreeViewItemToggleEnd-t-AEB"><svg aria-hidden="true" focusable="false" class="octicon octicon-chevron-right" viewBox="0 0 12 12" width="12" height="12" fill="currentColor" display="inline-block" overflow="visible" style="vertical-align:text-bottom"><path d="M4.7 10c-.2 0-.4-.1-.5-.2-.3-.3-.3-.8 0-1.1L6.9 6 4.2 3.3c-.3-.3-.3-.8 0-1.1.3-.3.8-.3 1.1 0l3.3 3.2c.3.3.3.8 0 1.1L5.3 9.7c-.2.2-.4.3-.6.3Z"></path></svg></div><div id=":R9pimplab:" class="PRIVATE_TreeView-item-content prc-TreeView-TreeViewItemContent-f0r0b"><div class="PRIVATE_VisuallyHidden prc-TreeView-TreeViewVisuallyHidden-4-mPv" aria-hidden="true" id=":R9pimplabH1:"></div><div class="PRIVATE_TreeView-item-visual prc-TreeView-TreeViewItemVisual-dRlGq" aria-hidden="true"><div class="PRIVATE_TreeView-directory-icon prc-TreeView-TreeViewDirectoryIcon-PHbeP"><svg aria-hidden="true" focusable="false" class="octicon octicon-file-directory-fill" viewBox="0 0 16 16" width="16" height="16" fill="currentColor" display="inline-block" overflow="visible" style="vertical-align:text-bottom"><path d="M1.75 1A1.75 1.75 0 0 0 0 2.75v10.5C0 14.216.784 15 1.75 15h12.5A1.75 1.75 0 0 0 16 13.25v-8.5A1.75 1.75 0 0 0 14.25 3H7.5a.25.25 0 0 1-.2-.1l-.9-1.2C6.07 1.26 5.55 1 5 1H1.75Z"></path></svg></div></div><span class="PRIVATE_TreeView-item-content-text prc-TreeView-TreeViewItemContentText-smZM-"><span>WEEK 14_2025.5.5_Algorithms_Sort and Search</span></span></div></div></li><li class="PRIVATE_TreeView-item prc-TreeView-TreeViewItem-ShJr0" tabindex="0" id="WEEK 15_2025.5.12_Intelligent Health Records: FastAPI Meets LLM for Seamless Patient Retrieval-item" role="treeitem" aria-labelledby=":Rbpimplab:" aria-describedby=":RbpimplabH1:" aria-level="1" aria-expanded="false" aria-selected="false"><div class="PRIVATE_TreeView-item-container prc-TreeView-TreeViewItemContainer--2Rkn" style="--level:1;content-visibility:auto;contain-intrinsic-size:auto 2rem"><div style="grid-area:spacer;display:flex"><div style="width:100%;display:flex"></div></div><div class="PRIVATE_TreeView-item-toggle PRIVATE_TreeView-item-toggle--hover PRIVATE_TreeView-item-toggle--end prc-TreeView-TreeViewItemToggle-gWUdE prc-TreeView-TreeViewItemToggleHover-nEgP- prc-TreeView-TreeViewItemToggleEnd-t-AEB"><svg aria-hidden="true" focusable="false" class="octicon octicon-chevron-right" viewBox="0 0 12 12" width="12" height="12" fill="currentColor" display="inline-block" overflow="visible" style="vertical-align:text-bottom"><path d="M4.7 10c-.2 0-.4-.1-.5-.2-.3-.3-.3-.8 0-1.1L6.9 6 4.2 3.3c-.3-.3-.3-.8 0-1.1.3-.3.8-.3 1.1 0l3.3 3.2c.3.3.3.8 0 1.1L5.3 9.7c-.2.2-.4.3-.6.3Z"></path></svg></div><div id=":Rbpimplab:" class="PRIVATE_TreeView-item-content prc-TreeView-TreeViewItemContent-f0r0b"><div class="PRIVATE_VisuallyHidden prc-TreeView-TreeViewVisuallyHidden-4-mPv" aria-hidden="true" id=":RbpimplabH1:"></div><div class="PRIVATE_TreeView-item-visual prc-TreeView-TreeViewItemVisual-dRlGq" aria-hidden="true"><div class="PRIVATE_TreeView-directory-icon prc-TreeView-TreeViewDirectoryIcon-PHbeP"><svg aria-hidden="true" focusable="false" class="octicon octicon-file-directory-fill" viewBox="0 0 16 16" width="16" height="16" fill="currentColor" display="inline-block" overflow="visible" style="vertical-align:text-bottom"><path d="M1.75 1A1.75 1.75 0 0 0 0 2.75v10.5C0 14.216.784 15 1.75 15h12.5A1.75 1.75 0 0 0 16 13.25v-8.5A1.75 1.75 0 0 0 14.25 3H7.5a.25.25 0 0 1-.2-.1l-.9-1.2C6.07 1.26 5.55 1 5 1H1.75Z"></path></svg></div></div><span class="PRIVATE_TreeView-item-content-text prc-TreeView-TreeViewItemContentText-smZM-"><span>WEEK 15_2025.5.12_Intelligent Health Records: FastAPI Meets LLM for Seamless Patient Retrieval</span></span></div></div></li><li class="PRIVATE_TreeView-item prc-TreeView-TreeViewItem-ShJr0" tabindex="0" id="WEEK 16_2025.5.20_KNN_Basic, Advanced Concepts and Its Applications-item" role="treeitem" aria-labelledby=":Rdpimplab:" aria-describedby=":RdpimplabH1:" aria-level="1" aria-expanded="true" aria-selected="false"><div class="PRIVATE_TreeView-item-container prc-TreeView-TreeViewItemContainer--2Rkn" style="--level:1;content-visibility:auto;contain-intrinsic-size:auto 2rem"><div style="grid-area:spacer;display:flex"><div style="width:100%;display:flex"></div></div><div class="PRIVATE_TreeView-item-toggle PRIVATE_TreeView-item-toggle--hover PRIVATE_TreeView-item-toggle--end prc-TreeView-TreeViewItemToggle-gWUdE prc-TreeView-TreeViewItemToggleHover-nEgP- prc-TreeView-TreeViewItemToggleEnd-t-AEB"><svg aria-hidden="true" focusable="false" class="octicon octicon-chevron-down" viewBox="0 0 12 12" width="12" height="12" fill="currentColor" display="inline-block" overflow="visible" style="vertical-align:text-bottom"><path d="M6 8.825c-.2 0-.4-.1-.5-.2l-3.3-3.3c-.3-.3-.3-.8 0-1.1.3-.3.8-.3 1.1 0l2.7 2.7 2.7-2.7c.3-.3.8-.3 1.1 0 .3.3.3.8 0 1.1l-3.2 3.2c-.2.2-.4.3-.6.3Z"></path></svg></div><div id=":Rdpimplab:" class="PRIVATE_TreeView-item-content prc-TreeView-TreeViewItemContent-f0r0b"><div class="PRIVATE_VisuallyHidden prc-TreeView-TreeViewVisuallyHidden-4-mPv" aria-hidden="true" id=":RdpimplabH1:"></div><div class="PRIVATE_TreeView-item-visual prc-TreeView-TreeViewItemVisual-dRlGq" aria-hidden="true"><div class="PRIVATE_TreeView-directory-icon prc-TreeView-TreeViewDirectoryIcon-PHbeP"><svg aria-hidden="true" focusable="false" class="octicon octicon-file-directory-open-fill" viewBox="0 0 16 16" width="16" height="16" fill="currentColor" display="inline-block" overflow="visible" style="vertical-align:text-bottom"><path d="M.513 1.513A1.75 1.75 0 0 1 1.75 1h3.5c.55 0 1.07.26 1.4.7l.9 1.2a.25.25 0 0 0 .2.1H13a1 1 0 0 1 1 1v.5H2.75a.75.75 0 0 0 0 1.5h11.978a1 1 0 0 1 .994 1.117L15 13.25A1.75 1.75 0 0 1 13.25 15H1.75A1.75 1.75 0 0 1 0 13.25V2.75c0-.464.184-.91.513-1.237Z"></path></svg></div></div><span class="PRIVATE_TreeView-item-content-text prc-TreeView-TreeViewItemContentText-smZM-"><span>WEEK 16_2025.5.20_KNN_Basic, Advanced Concepts and Its Applications</span></span></div></div><ul role="group" style="list-style:none;padding:0;margin:0" aria-label=""><li class="PRIVATE_TreeView-item prc-TreeView-TreeViewItem-ShJr0" tabindex="0" id="WEEK 16_2025.5.20_KNN_Basic, Advanced Concepts and Its Applications/PRE_WEEK_16_DAY_78_Các_Phương_Pháp_Tính_Khoảng_Cách_Giữa_Vector.ipynb-item" role="treeitem" aria-labelledby=":Raqdpimplab:" aria-describedby=":RaqdpimplabH1:" aria-level="2" aria-selected="false"><div class="PRIVATE_TreeView-item-container prc-TreeView-TreeViewItemContainer--2Rkn" style="--level:2;content-visibility:auto;contain-intrinsic-size:auto 2rem"><div style="grid-area:spacer;display:flex"><div style="width:100%;display:flex"><div class="PRIVATE_TreeView-item-level-line prc-TreeView-TreeViewItemLevelLine-KPSSL"></div></div></div><div id=":Raqdpimplab:" class="PRIVATE_TreeView-item-content prc-TreeView-TreeViewItemContent-f0r0b"><div class="PRIVATE_VisuallyHidden prc-TreeView-TreeViewVisuallyHidden-4-mPv" aria-hidden="true" id=":RaqdpimplabH1:"></div><div class="PRIVATE_TreeView-item-visual prc-TreeView-TreeViewItemVisual-dRlGq" aria-hidden="true"><svg aria-hidden="true" focusable="false" class="octicon octicon-file" viewBox="0 0 16 16" width="16" height="16" fill="currentColor" display="inline-block" overflow="visible" style="vertical-align:text-bottom"><path d="M2 1.75C2 .784 2.784 0 3.75 0h6.586c.464 0 .909.184 1.237.513l2.914 2.914c.329.328.513.773.513 1.237v9.586A1.75 1.75 0 0 1 13.25 16h-9.5A1.75 1.75 0 0 1 2 14.25Zm1.75-.25a.25.25 0 0 0-.25.25v12.5c0 .138.112.25.25.25h9.5a.25.25 0 0 0 .25-.25V6h-2.75A1.75 1.75 0 0 1 9 4.25V1.5Zm6.75.062V4.25c0 .138.112.25.25.25h2.688l-.011-.013-2.914-2.914-.013-.011Z"></path></svg></div><span class="PRIVATE_TreeView-item-content-text prc-TreeView-TreeViewItemContentText-smZM-"><span>PRE_WEEK_16_DAY_78_Các_Phương_Pháp_Tính_Khoảng_Cách_Giữa_Vector.ipynb</span></span></div></div></li><li class="PRIVATE_TreeView-item prc-TreeView-TreeViewItem-ShJr0" tabindex="0" id="WEEK 16_2025.5.20_KNN_Basic, Advanced Concepts and Its Applications/PRE_WEEK_16_DAY_79_Thuật_Toán_K_Nearest_Neighbors_(KNN)_update.ipynb-item" role="treeitem" aria-labelledby=":Riqdpimplab:" aria-describedby=":RiqdpimplabH1:" aria-level="2" aria-selected="false"><div class="PRIVATE_TreeView-item-container prc-TreeView-TreeViewItemContainer--2Rkn" style="--level:2;content-visibility:auto;contain-intrinsic-size:auto 2rem"><div style="grid-area:spacer;display:flex"><div style="width:100%;display:flex"><div class="PRIVATE_TreeView-item-level-line prc-TreeView-TreeViewItemLevelLine-KPSSL"></div></div></div><div id=":Riqdpimplab:" class="PRIVATE_TreeView-item-content prc-TreeView-TreeViewItemContent-f0r0b"><div class="PRIVATE_VisuallyHidden prc-TreeView-TreeViewVisuallyHidden-4-mPv" aria-hidden="true" id=":RiqdpimplabH1:"></div><div class="PRIVATE_TreeView-item-visual prc-TreeView-TreeViewItemVisual-dRlGq" aria-hidden="true"><svg aria-hidden="true" focusable="false" class="octicon octicon-file" viewBox="0 0 16 16" width="16" height="16" fill="currentColor" display="inline-block" overflow="visible" style="vertical-align:text-bottom"><path d="M2 1.75C2 .784 2.784 0 3.75 0h6.586c.464 0 .909.184 1.237.513l2.914 2.914c.329.328.513.773.513 1.237v9.586A1.75 1.75 0 0 1 13.25 16h-9.5A1.75 1.75 0 0 1 2 14.25Zm1.75-.25a.25.25 0 0 0-.25.25v12.5c0 .138.112.25.25.25h9.5a.25.25 0 0 0 .25-.25V6h-2.75A1.75 1.75 0 0 1 9 4.25V1.5Zm6.75.062V4.25c0 .138.112.25.25.25h2.688l-.011-.013-2.914-2.914-.013-.011Z"></path></svg></div><span class="PRIVATE_TreeView-item-content-text prc-TreeView-TreeViewItemContentText-smZM-"><span>PRE_WEEK_16_DAY_79_Thuật_Toán_K_Nearest_Neighbors_(KNN)_update.ipynb</span></span></div></div></li><li class="PRIVATE_TreeView-item prc-TreeView-TreeViewItem-ShJr0" tabindex="0" id="WEEK 16_2025.5.20_KNN_Basic, Advanced Concepts and Its Applications/PRE_WEEK_16_DAY_80_Thuật_Toán_K_Nearest_Neighbors_(KNN)_Nâng_cao.ipynb-item" role="treeitem" aria-labelledby=":Rqqdpimplab:" aria-describedby=":RqqdpimplabH1:" aria-level="2" aria-current="true" aria-selected="false"><div class="PRIVATE_TreeView-item-container prc-TreeView-TreeViewItemContainer--2Rkn" style="--level:2"><div style="grid-area:spacer;display:flex"><div style="width:100%;display:flex"><div class="PRIVATE_TreeView-item-level-line prc-TreeView-TreeViewItemLevelLine-KPSSL"></div></div></div><div id=":Rqqdpimplab:" class="PRIVATE_TreeView-item-content prc-TreeView-TreeViewItemContent-f0r0b"><div class="PRIVATE_VisuallyHidden prc-TreeView-TreeViewVisuallyHidden-4-mPv" aria-hidden="true" id=":RqqdpimplabH1:"></div><div class="PRIVATE_TreeView-item-visual prc-TreeView-TreeViewItemVisual-dRlGq" aria-hidden="true"><svg aria-hidden="true" focusable="false" class="octicon octicon-file" viewBox="0 0 16 16" width="16" height="16" fill="currentColor" display="inline-block" overflow="visible" style="vertical-align:text-bottom"><path d="M2 1.75C2 .784 2.784 0 3.75 0h6.586c.464 0 .909.184 1.237.513l2.914 2.914c.329.328.513.773.513 1.237v9.586A1.75 1.75 0 0 1 13.25 16h-9.5A1.75 1.75 0 0 1 2 14.25Zm1.75-.25a.25.25 0 0 0-.25.25v12.5c0 .138.112.25.25.25h9.5a.25.25 0 0 0 .25-.25V6h-2.75A1.75 1.75 0 0 1 9 4.25V1.5Zm6.75.062V4.25c0 .138.112.25.25.25h2.688l-.011-.013-2.914-2.914-.013-.011Z"></path></svg></div><span class="PRIVATE_TreeView-item-content-text prc-TreeView-TreeViewItemContentText-smZM-"><span>PRE_WEEK_16_DAY_80_Thuật_Toán_K_Nearest_Neighbors_(KNN)_Nâng_cao.ipynb</span></span></div></div></li><li class="PRIVATE_TreeView-item prc-TreeView-TreeViewItem-ShJr0" tabindex="0" id="WEEK 16_2025.5.20_KNN_Basic, Advanced Concepts and Its Applications/WEEK 16_2025.5.20_KNN_Basic, Advanced Concepts and Its Applications.TXT-item" role="treeitem" aria-labelledby=":R12qdpimplab:" aria-describedby=":R12qdpimplabH1:" aria-level="2" aria-selected="false"><div class="PRIVATE_TreeView-item-container prc-TreeView-TreeViewItemContainer--2Rkn" style="--level:2;content-visibility:auto;contain-intrinsic-size:auto 2rem"><div style="grid-area:spacer;display:flex"><div style="width:100%;display:flex"><div class="PRIVATE_TreeView-item-level-line prc-TreeView-TreeViewItemLevelLine-KPSSL"></div></div></div><div id=":R12qdpimplab:" class="PRIVATE_TreeView-item-content prc-TreeView-TreeViewItemContent-f0r0b"><div class="PRIVATE_VisuallyHidden prc-TreeView-TreeViewVisuallyHidden-4-mPv" aria-hidden="true" id=":R12qdpimplabH1:"></div><div class="PRIVATE_TreeView-item-visual prc-TreeView-TreeViewItemVisual-dRlGq" aria-hidden="true"><svg aria-hidden="true" focusable="false" class="octicon octicon-file" viewBox="0 0 16 16" width="16" height="16" fill="currentColor" display="inline-block" overflow="visible" style="vertical-align:text-bottom"><path d="M2 1.75C2 .784 2.784 0 3.75 0h6.586c.464 0 .909.184 1.237.513l2.914 2.914c.329.328.513.773.513 1.237v9.586A1.75 1.75 0 0 1 13.25 16h-9.5A1.75 1.75 0 0 1 2 14.25Zm1.75-.25a.25.25 0 0 0-.25.25v12.5c0 .138.112.25.25.25h9.5a.25.25 0 0 0 .25-.25V6h-2.75A1.75 1.75 0 0 1 9 4.25V1.5Zm6.75.062V4.25c0 .138.112.25.25.25h2.688l-.011-.013-2.914-2.914-.013-.011Z"></path></svg></div><span class="PRIVATE_TreeView-item-content-text prc-TreeView-TreeViewItemContentText-smZM-"><span>WEEK 16_2025.5.20_KNN_Basic, Advanced Concepts and Its Applications.TXT</span></span></div></div></li><li class="PRIVATE_TreeView-item prc-TreeView-TreeViewItem-ShJr0" tabindex="0" id="WEEK 16_2025.5.20_KNN_Basic, Advanced Concepts and Its Applications/pre_week_16_day_81_dự_án_y_tế_dự_đoán_bệnh_dựa_trên_triệu_chứng_sử_dụng_knn.py-item" role="treeitem" aria-labelledby=":R1aqdpimplab:" aria-describedby=":R1aqdpimplabH1:" aria-level="2" aria-selected="false"><div class="PRIVATE_TreeView-item-container prc-TreeView-TreeViewItemContainer--2Rkn" style="--level:2;content-visibility:auto;contain-intrinsic-size:auto 2rem"><div style="grid-area:spacer;display:flex"><div style="width:100%;display:flex"><div class="PRIVATE_TreeView-item-level-line prc-TreeView-TreeViewItemLevelLine-KPSSL"></div></div></div><div id=":R1aqdpimplab:" class="PRIVATE_TreeView-item-content prc-TreeView-TreeViewItemContent-f0r0b"><div class="PRIVATE_VisuallyHidden prc-TreeView-TreeViewVisuallyHidden-4-mPv" aria-hidden="true" id=":R1aqdpimplabH1:"></div><div class="PRIVATE_TreeView-item-visual prc-TreeView-TreeViewItemVisual-dRlGq" aria-hidden="true"><svg aria-hidden="true" focusable="false" class="octicon octicon-file" viewBox="0 0 16 16" width="16" height="16" fill="currentColor" display="inline-block" overflow="visible" style="vertical-align:text-bottom"><path d="M2 1.75C2 .784 2.784 0 3.75 0h6.586c.464 0 .909.184 1.237.513l2.914 2.914c.329.328.513.773.513 1.237v9.586A1.75 1.75 0 0 1 13.25 16h-9.5A1.75 1.75 0 0 1 2 14.25Zm1.75-.25a.25.25 0 0 0-.25.25v12.5c0 .138.112.25.25.25h9.5a.25.25 0 0 0 .25-.25V6h-2.75A1.75 1.75 0 0 1 9 4.25V1.5Zm6.75.062V4.25c0 .138.112.25.25.25h2.688l-.011-.013-2.914-2.914-.013-.011Z"></path></svg></div><span class="PRIVATE_TreeView-item-content-text prc-TreeView-TreeViewItemContentText-smZM-"><span>pre_week_16_day_81_dự_án_y_tế_dự_đoán_bệnh_dựa_trên_triệu_chứng_sử_dụng_knn.py</span></span></div></div></li><li class="PRIVATE_TreeView-item prc-TreeView-TreeViewItem-ShJr0" tabindex="0" id="WEEK 16_2025.5.20_KNN_Basic, Advanced Concepts and Its Applications/requirements.txt-item" role="treeitem" aria-labelledby=":R1iqdpimplab:" aria-describedby=":R1iqdpimplabH1:" aria-level="2" aria-selected="false"><div class="PRIVATE_TreeView-item-container prc-TreeView-TreeViewItemContainer--2Rkn" style="--level:2;content-visibility:auto;contain-intrinsic-size:auto 2rem"><div style="grid-area:spacer;display:flex"><div style="width:100%;display:flex"><div class="PRIVATE_TreeView-item-level-line prc-TreeView-TreeViewItemLevelLine-KPSSL"></div></div></div><div id=":R1iqdpimplab:" class="PRIVATE_TreeView-item-content prc-TreeView-TreeViewItemContent-f0r0b"><div class="PRIVATE_VisuallyHidden prc-TreeView-TreeViewVisuallyHidden-4-mPv" aria-hidden="true" id=":R1iqdpimplabH1:"></div><div class="PRIVATE_TreeView-item-visual prc-TreeView-TreeViewItemVisual-dRlGq" aria-hidden="true"><svg aria-hidden="true" focusable="false" class="octicon octicon-file" viewBox="0 0 16 16" width="16" height="16" fill="currentColor" display="inline-block" overflow="visible" style="vertical-align:text-bottom"><path d="M2 1.75C2 .784 2.784 0 3.75 0h6.586c.464 0 .909.184 1.237.513l2.914 2.914c.329.328.513.773.513 1.237v9.586A1.75 1.75 0 0 1 13.25 16h-9.5A1.75 1.75 0 0 1 2 14.25Zm1.75-.25a.25.25 0 0 0-.25.25v12.5c0 .138.112.25.25.25h9.5a.25.25 0 0 0 .25-.25V6h-2.75A1.75 1.75 0 0 1 9 4.25V1.5Zm6.75.062V4.25c0 .138.112.25.25.25h2.688l-.011-.013-2.914-2.914-.013-.011Z"></path></svg></div><span class="PRIVATE_TreeView-item-content-text prc-TreeView-TreeViewItemContentText-smZM-"><span>requirements.txt</span></span></div></div></li></ul></li><li class="PRIVATE_TreeView-item prc-TreeView-TreeViewItem-ShJr0" tabindex="0" id="Week 10 Advance SQL in Data Analysis-item" role="treeitem" aria-labelledby=":Rfpimplab:" aria-describedby=":RfpimplabH1:" aria-level="1" aria-expanded="false" aria-selected="false"><div class="PRIVATE_TreeView-item-container prc-TreeView-TreeViewItemContainer--2Rkn" style="--level:1;content-visibility:auto;contain-intrinsic-size:auto 2rem"><div style="grid-area:spacer;display:flex"><div style="width:100%;display:flex"></div></div><div class="PRIVATE_TreeView-item-toggle PRIVATE_TreeView-item-toggle--hover PRIVATE_TreeView-item-toggle--end prc-TreeView-TreeViewItemToggle-gWUdE prc-TreeView-TreeViewItemToggleHover-nEgP- prc-TreeView-TreeViewItemToggleEnd-t-AEB"><svg aria-hidden="true" focusable="false" class="octicon octicon-chevron-right" viewBox="0 0 12 12" width="12" height="12" fill="currentColor" display="inline-block" overflow="visible" style="vertical-align:text-bottom"><path d="M4.7 10c-.2 0-.4-.1-.5-.2-.3-.3-.3-.8 0-1.1L6.9 6 4.2 3.3c-.3-.3-.3-.8 0-1.1.3-.3.8-.3 1.1 0l3.3 3.2c.3.3.3.8 0 1.1L5.3 9.7c-.2.2-.4.3-.6.3Z"></path></svg></div><div id=":Rfpimplab:" class="PRIVATE_TreeView-item-content prc-TreeView-TreeViewItemContent-f0r0b"><div class="PRIVATE_VisuallyHidden prc-TreeView-TreeViewVisuallyHidden-4-mPv" aria-hidden="true" id=":RfpimplabH1:"></div><div class="PRIVATE_TreeView-item-visual prc-TreeView-TreeViewItemVisual-dRlGq" aria-hidden="true"><div class="PRIVATE_TreeView-directory-icon prc-TreeView-TreeViewDirectoryIcon-PHbeP"><svg aria-hidden="true" focusable="false" class="octicon octicon-file-directory-fill" viewBox="0 0 16 16" width="16" height="16" fill="currentColor" display="inline-block" overflow="visible" style="vertical-align:text-bottom"><path d="M1.75 1A1.75 1.75 0 0 0 0 2.75v10.5C0 14.216.784 15 1.75 15h12.5A1.75 1.75 0 0 0 16 13.25v-8.5A1.75 1.75 0 0 0 14.25 3H7.5a.25.25 0 0 1-.2-.1l-.9-1.2C6.07 1.26 5.55 1 5 1H1.75Z"></path></svg></div></div><span class="PRIVATE_TreeView-item-content-text prc-TreeView-TreeViewItemContentText-smZM-"><span>Week 10 Advance SQL in Data Analysis</span></span></div></div></li><li class="PRIVATE_TreeView-item prc-TreeView-TreeViewItem-ShJr0" tabindex="0" id="Week 12_Streamlit-item" role="treeitem" aria-labelledby=":Rhpimplab:" aria-describedby=":RhpimplabH1:" aria-level="1" aria-expanded="false" aria-selected="false"><div class="PRIVATE_TreeView-item-container prc-TreeView-TreeViewItemContainer--2Rkn" style="--level:1;content-visibility:auto;contain-intrinsic-size:auto 2rem"><div style="grid-area:spacer;display:flex"><div style="width:100%;display:flex"></div></div><div class="PRIVATE_TreeView-item-toggle PRIVATE_TreeView-item-toggle--hover PRIVATE_TreeView-item-toggle--end prc-TreeView-TreeViewItemToggle-gWUdE prc-TreeView-TreeViewItemToggleHover-nEgP- prc-TreeView-TreeViewItemToggleEnd-t-AEB"><svg aria-hidden="true" focusable="false" class="octicon octicon-chevron-right" viewBox="0 0 12 12" width="12" height="12" fill="currentColor" display="inline-block" overflow="visible" style="vertical-align:text-bottom"><path d="M4.7 10c-.2 0-.4-.1-.5-.2-.3-.3-.3-.8 0-1.1L6.9 6 4.2 3.3c-.3-.3-.3-.8 0-1.1.3-.3.8-.3 1.1 0l3.3 3.2c.3.3.3.8 0 1.1L5.3 9.7c-.2.2-.4.3-.6.3Z"></path></svg></div><div id=":Rhpimplab:" class="PRIVATE_TreeView-item-content prc-TreeView-TreeViewItemContent-f0r0b"><div class="PRIVATE_VisuallyHidden prc-TreeView-TreeViewVisuallyHidden-4-mPv" aria-hidden="true" id=":RhpimplabH1:"></div><div class="PRIVATE_TreeView-item-visual prc-TreeView-TreeViewItemVisual-dRlGq" aria-hidden="true"><div class="PRIVATE_TreeView-directory-icon prc-TreeView-TreeViewDirectoryIcon-PHbeP"><svg aria-hidden="true" focusable="false" class="octicon octicon-file-directory-fill" viewBox="0 0 16 16" width="16" height="16" fill="currentColor" display="inline-block" overflow="visible" style="vertical-align:text-bottom"><path d="M1.75 1A1.75 1.75 0 0 0 0 2.75v10.5C0 14.216.784 15 1.75 15h12.5A1.75 1.75 0 0 0 16 13.25v-8.5A1.75 1.75 0 0 0 14.25 3H7.5a.25.25 0 0 1-.2-.1l-.9-1.2C6.07 1.26 5.55 1 5 1H1.75Z"></path></svg></div></div><span class="PRIVATE_TreeView-item-content-text prc-TreeView-TreeViewItemContentText-smZM-"><span>Week 12_Streamlit</span></span></div></div></li><li class="PRIVATE_TreeView-item prc-TreeView-TreeViewItem-ShJr0" tabindex="0" id="Week 1_Basic Python-item" role="treeitem" aria-labelledby=":Rjpimplab:" aria-describedby=":RjpimplabH1:" aria-level="1" aria-expanded="false" aria-selected="false"><div class="PRIVATE_TreeView-item-container prc-TreeView-TreeViewItemContainer--2Rkn" style="--level:1;content-visibility:auto;contain-intrinsic-size:auto 2rem"><div style="grid-area:spacer;display:flex"><div style="width:100%;display:flex"></div></div><div class="PRIVATE_TreeView-item-toggle PRIVATE_TreeView-item-toggle--hover PRIVATE_TreeView-item-toggle--end prc-TreeView-TreeViewItemToggle-gWUdE prc-TreeView-TreeViewItemToggleHover-nEgP- prc-TreeView-TreeViewItemToggleEnd-t-AEB"><svg aria-hidden="true" focusable="false" class="octicon octicon-chevron-right" viewBox="0 0 12 12" width="12" height="12" fill="currentColor" display="inline-block" overflow="visible" style="vertical-align:text-bottom"><path d="M4.7 10c-.2 0-.4-.1-.5-.2-.3-.3-.3-.8 0-1.1L6.9 6 4.2 3.3c-.3-.3-.3-.8 0-1.1.3-.3.8-.3 1.1 0l3.3 3.2c.3.3.3.8 0 1.1L5.3 9.7c-.2.2-.4.3-.6.3Z"></path></svg></div><div id=":Rjpimplab:" class="PRIVATE_TreeView-item-content prc-TreeView-TreeViewItemContent-f0r0b"><div class="PRIVATE_VisuallyHidden prc-TreeView-TreeViewVisuallyHidden-4-mPv" aria-hidden="true" id=":RjpimplabH1:"></div><div class="PRIVATE_TreeView-item-visual prc-TreeView-TreeViewItemVisual-dRlGq" aria-hidden="true"><div class="PRIVATE_TreeView-directory-icon prc-TreeView-TreeViewDirectoryIcon-PHbeP"><svg aria-hidden="true" focusable="false" class="octicon octicon-file-directory-fill" viewBox="0 0 16 16" width="16" height="16" fill="currentColor" display="inline-block" overflow="visible" style="vertical-align:text-bottom"><path d="M1.75 1A1.75 1.75 0 0 0 0 2.75v10.5C0 14.216.784 15 1.75 15h12.5A1.75 1.75 0 0 0 16 13.25v-8.5A1.75 1.75 0 0 0 14.25 3H7.5a.25.25 0 0 1-.2-.1l-.9-1.2C6.07 1.26 5.55 1 5 1H1.75Z"></path></svg></div></div><span class="PRIVATE_TreeView-item-content-text prc-TreeView-TreeViewItemContentText-smZM-"><span>Week 1_Basic Python</span></span></div></div></li><li class="PRIVATE_TreeView-item prc-TreeView-TreeViewItem-ShJr0" tabindex="0" id="Week 2_Data Structure-item" role="treeitem" aria-labelledby=":Rlpimplab:" aria-describedby=":RlpimplabH1:" aria-level="1" aria-expanded="false" aria-selected="false"><div class="PRIVATE_TreeView-item-container prc-TreeView-TreeViewItemContainer--2Rkn" style="--level:1;content-visibility:auto;contain-intrinsic-size:auto 2rem"><div style="grid-area:spacer;display:flex"><div style="width:100%;display:flex"></div></div><div class="PRIVATE_TreeView-item-toggle PRIVATE_TreeView-item-toggle--hover PRIVATE_TreeView-item-toggle--end prc-TreeView-TreeViewItemToggle-gWUdE prc-TreeView-TreeViewItemToggleHover-nEgP- prc-TreeView-TreeViewItemToggleEnd-t-AEB"><svg aria-hidden="true" focusable="false" class="octicon octicon-chevron-right" viewBox="0 0 12 12" width="12" height="12" fill="currentColor" display="inline-block" overflow="visible" style="vertical-align:text-bottom"><path d="M4.7 10c-.2 0-.4-.1-.5-.2-.3-.3-.3-.8 0-1.1L6.9 6 4.2 3.3c-.3-.3-.3-.8 0-1.1.3-.3.8-.3 1.1 0l3.3 3.2c.3.3.3.8 0 1.1L5.3 9.7c-.2.2-.4.3-.6.3Z"></path></svg></div><div id=":Rlpimplab:" class="PRIVATE_TreeView-item-content prc-TreeView-TreeViewItemContent-f0r0b"><div class="PRIVATE_VisuallyHidden prc-TreeView-TreeViewVisuallyHidden-4-mPv" aria-hidden="true" id=":RlpimplabH1:"></div><div class="PRIVATE_TreeView-item-visual prc-TreeView-TreeViewItemVisual-dRlGq" aria-hidden="true"><div class="PRIVATE_TreeView-directory-icon prc-TreeView-TreeViewDirectoryIcon-PHbeP"><svg aria-hidden="true" focusable="false" class="octicon octicon-file-directory-fill" viewBox="0 0 16 16" width="16" height="16" fill="currentColor" display="inline-block" overflow="visible" style="vertical-align:text-bottom"><path d="M1.75 1A1.75 1.75 0 0 0 0 2.75v10.5C0 14.216.784 15 1.75 15h12.5A1.75 1.75 0 0 0 16 13.25v-8.5A1.75 1.75 0 0 0 14.25 3H7.5a.25.25 0 0 1-.2-.1l-.9-1.2C6.07 1.26 5.55 1 5 1H1.75Z"></path></svg></div></div><span class="PRIVATE_TreeView-item-content-text prc-TreeView-TreeViewItemContentText-smZM-"><span>Week 2_Data Structure</span></span></div></div></li><li class="PRIVATE_TreeView-item prc-TreeView-TreeViewItem-ShJr0" tabindex="0" id="Week 3_Linear Algebra-item" role="treeitem" aria-labelledby=":Rnpimplab:" aria-describedby=":RnpimplabH1:" aria-level="1" aria-expanded="false" aria-selected="false"><div class="PRIVATE_TreeView-item-container prc-TreeView-TreeViewItemContainer--2Rkn" style="--level:1;content-visibility:auto;contain-intrinsic-size:auto 2rem"><div style="grid-area:spacer;display:flex"><div style="width:100%;display:flex"></div></div><div class="PRIVATE_TreeView-item-toggle PRIVATE_TreeView-item-toggle--hover PRIVATE_TreeView-item-toggle--end prc-TreeView-TreeViewItemToggle-gWUdE prc-TreeView-TreeViewItemToggleHover-nEgP- prc-TreeView-TreeViewItemToggleEnd-t-AEB"><svg aria-hidden="true" focusable="false" class="octicon octicon-chevron-right" viewBox="0 0 12 12" width="12" height="12" fill="currentColor" display="inline-block" overflow="visible" style="vertical-align:text-bottom"><path d="M4.7 10c-.2 0-.4-.1-.5-.2-.3-.3-.3-.8 0-1.1L6.9 6 4.2 3.3c-.3-.3-.3-.8 0-1.1.3-.3.8-.3 1.1 0l3.3 3.2c.3.3.3.8 0 1.1L5.3 9.7c-.2.2-.4.3-.6.3Z"></path></svg></div><div id=":Rnpimplab:" class="PRIVATE_TreeView-item-content prc-TreeView-TreeViewItemContent-f0r0b"><div class="PRIVATE_VisuallyHidden prc-TreeView-TreeViewVisuallyHidden-4-mPv" aria-hidden="true" id=":RnpimplabH1:"></div><div class="PRIVATE_TreeView-item-visual prc-TreeView-TreeViewItemVisual-dRlGq" aria-hidden="true"><div class="PRIVATE_TreeView-directory-icon prc-TreeView-TreeViewDirectoryIcon-PHbeP"><svg aria-hidden="true" focusable="false" class="octicon octicon-file-directory-fill" viewBox="0 0 16 16" width="16" height="16" fill="currentColor" display="inline-block" overflow="visible" style="vertical-align:text-bottom"><path d="M1.75 1A1.75 1.75 0 0 0 0 2.75v10.5C0 14.216.784 15 1.75 15h12.5A1.75 1.75 0 0 0 16 13.25v-8.5A1.75 1.75 0 0 0 14.25 3H7.5a.25.25 0 0 1-.2-.1l-.9-1.2C6.07 1.26 5.55 1 5 1H1.75Z"></path></svg></div></div><span class="PRIVATE_TreeView-item-content-text prc-TreeView-TreeViewItemContentText-smZM-"><span>Week 3_Linear Algebra</span></span></div></div></li><li class="PRIVATE_TreeView-item prc-TreeView-TreeViewItem-ShJr0" tabindex="0" id="Week 4_Object Oriented Programming-item" role="treeitem" aria-labelledby=":Rppimplab:" aria-describedby=":RppimplabH1:" aria-level="1" aria-expanded="false" aria-selected="false"><div class="PRIVATE_TreeView-item-container prc-TreeView-TreeViewItemContainer--2Rkn" style="--level:1;content-visibility:auto;contain-intrinsic-size:auto 2rem"><div style="grid-area:spacer;display:flex"><div style="width:100%;display:flex"></div></div><div class="PRIVATE_TreeView-item-toggle PRIVATE_TreeView-item-toggle--hover PRIVATE_TreeView-item-toggle--end prc-TreeView-TreeViewItemToggle-gWUdE prc-TreeView-TreeViewItemToggleHover-nEgP- prc-TreeView-TreeViewItemToggleEnd-t-AEB"><svg aria-hidden="true" focusable="false" class="octicon octicon-chevron-right" viewBox="0 0 12 12" width="12" height="12" fill="currentColor" display="inline-block" overflow="visible" style="vertical-align:text-bottom"><path d="M4.7 10c-.2 0-.4-.1-.5-.2-.3-.3-.3-.8 0-1.1L6.9 6 4.2 3.3c-.3-.3-.3-.8 0-1.1.3-.3.8-.3 1.1 0l3.3 3.2c.3.3.3.8 0 1.1L5.3 9.7c-.2.2-.4.3-.6.3Z"></path></svg></div><div id=":Rppimplab:" class="PRIVATE_TreeView-item-content prc-TreeView-TreeViewItemContent-f0r0b"><div class="PRIVATE_VisuallyHidden prc-TreeView-TreeViewVisuallyHidden-4-mPv" aria-hidden="true" id=":RppimplabH1:"></div><div class="PRIVATE_TreeView-item-visual prc-TreeView-TreeViewItemVisual-dRlGq" aria-hidden="true"><div class="PRIVATE_TreeView-directory-icon prc-TreeView-TreeViewDirectoryIcon-PHbeP"><svg aria-hidden="true" focusable="false" class="octicon octicon-file-directory-fill" viewBox="0 0 16 16" width="16" height="16" fill="currentColor" display="inline-block" overflow="visible" style="vertical-align:text-bottom"><path d="M1.75 1A1.75 1.75 0 0 0 0 2.75v10.5C0 14.216.784 15 1.75 15h12.5A1.75 1.75 0 0 0 16 13.25v-8.5A1.75 1.75 0 0 0 14.25 3H7.5a.25.25 0 0 1-.2-.1l-.9-1.2C6.07 1.26 5.55 1 5 1H1.75Z"></path></svg></div></div><span class="PRIVATE_TreeView-item-content-text prc-TreeView-TreeViewItemContentText-smZM-"><span>Week 4_Object Oriented Programming</span></span></div></div></li><li class="PRIVATE_TreeView-item prc-TreeView-TreeViewItem-ShJr0" tabindex="0" id="Week 5_Probability-item" role="treeitem" aria-labelledby=":Rrpimplab:" aria-describedby=":RrpimplabH1:" aria-level="1" aria-expanded="false" aria-selected="false"><div class="PRIVATE_TreeView-item-container prc-TreeView-TreeViewItemContainer--2Rkn" style="--level:1;content-visibility:auto;contain-intrinsic-size:auto 2rem"><div style="grid-area:spacer;display:flex"><div style="width:100%;display:flex"></div></div><div class="PRIVATE_TreeView-item-toggle PRIVATE_TreeView-item-toggle--hover PRIVATE_TreeView-item-toggle--end prc-TreeView-TreeViewItemToggle-gWUdE prc-TreeView-TreeViewItemToggleHover-nEgP- prc-TreeView-TreeViewItemToggleEnd-t-AEB"><svg aria-hidden="true" focusable="false" class="octicon octicon-chevron-right" viewBox="0 0 12 12" width="12" height="12" fill="currentColor" display="inline-block" overflow="visible" style="vertical-align:text-bottom"><path d="M4.7 10c-.2 0-.4-.1-.5-.2-.3-.3-.3-.8 0-1.1L6.9 6 4.2 3.3c-.3-.3-.3-.8 0-1.1.3-.3.8-.3 1.1 0l3.3 3.2c.3.3.3.8 0 1.1L5.3 9.7c-.2.2-.4.3-.6.3Z"></path></svg></div><div id=":Rrpimplab:" class="PRIVATE_TreeView-item-content prc-TreeView-TreeViewItemContent-f0r0b"><div class="PRIVATE_VisuallyHidden prc-TreeView-TreeViewVisuallyHidden-4-mPv" aria-hidden="true" id=":RrpimplabH1:"></div><div class="PRIVATE_TreeView-item-visual prc-TreeView-TreeViewItemVisual-dRlGq" aria-hidden="true"><div class="PRIVATE_TreeView-directory-icon prc-TreeView-TreeViewDirectoryIcon-PHbeP"><svg aria-hidden="true" focusable="false" class="octicon octicon-file-directory-fill" viewBox="0 0 16 16" width="16" height="16" fill="currentColor" display="inline-block" overflow="visible" style="vertical-align:text-bottom"><path d="M1.75 1A1.75 1.75 0 0 0 0 2.75v10.5C0 14.216.784 15 1.75 15h12.5A1.75 1.75 0 0 0 16 13.25v-8.5A1.75 1.75 0 0 0 14.25 3H7.5a.25.25 0 0 1-.2-.1l-.9-1.2C6.07 1.26 5.55 1 5 1H1.75Z"></path></svg></div></div><span class="PRIVATE_TreeView-item-content-text prc-TreeView-TreeViewItemContentText-smZM-"><span>Week 5_Probability</span></span></div></div></li><li class="PRIVATE_TreeView-item prc-TreeView-TreeViewItem-ShJr0" tabindex="0" id="Week 6_Basic Calculus-item" role="treeitem" aria-labelledby=":Rtpimplab:" aria-describedby=":RtpimplabH1:" aria-level="1" aria-expanded="false" aria-selected="false"><div class="PRIVATE_TreeView-item-container prc-TreeView-TreeViewItemContainer--2Rkn" style="--level:1;content-visibility:auto;contain-intrinsic-size:auto 2rem"><div style="grid-area:spacer;display:flex"><div style="width:100%;display:flex"></div></div><div class="PRIVATE_TreeView-item-toggle PRIVATE_TreeView-item-toggle--hover PRIVATE_TreeView-item-toggle--end prc-TreeView-TreeViewItemToggle-gWUdE prc-TreeView-TreeViewItemToggleHover-nEgP- prc-TreeView-TreeViewItemToggleEnd-t-AEB"><svg aria-hidden="true" focusable="false" class="octicon octicon-chevron-right" viewBox="0 0 12 12" width="12" height="12" fill="currentColor" display="inline-block" overflow="visible" style="vertical-align:text-bottom"><path d="M4.7 10c-.2 0-.4-.1-.5-.2-.3-.3-.3-.8 0-1.1L6.9 6 4.2 3.3c-.3-.3-.3-.8 0-1.1.3-.3.8-.3 1.1 0l3.3 3.2c.3.3.3.8 0 1.1L5.3 9.7c-.2.2-.4.3-.6.3Z"></path></svg></div><div id=":Rtpimplab:" class="PRIVATE_TreeView-item-content prc-TreeView-TreeViewItemContent-f0r0b"><div class="PRIVATE_VisuallyHidden prc-TreeView-TreeViewVisuallyHidden-4-mPv" aria-hidden="true" id=":RtpimplabH1:"></div><div class="PRIVATE_TreeView-item-visual prc-TreeView-TreeViewItemVisual-dRlGq" aria-hidden="true"><div class="PRIVATE_TreeView-directory-icon prc-TreeView-TreeViewDirectoryIcon-PHbeP"><svg aria-hidden="true" focusable="false" class="octicon octicon-file-directory-fill" viewBox="0 0 16 16" width="16" height="16" fill="currentColor" display="inline-block" overflow="visible" style="vertical-align:text-bottom"><path d="M1.75 1A1.75 1.75 0 0 0 0 2.75v10.5C0 14.216.784 15 1.75 15h12.5A1.75 1.75 0 0 0 16 13.25v-8.5A1.75 1.75 0 0 0 14.25 3H7.5a.25.25 0 0 1-.2-.1l-.9-1.2C6.07 1.26 5.55 1 5 1H1.75Z"></path></svg></div></div><span class="PRIVATE_TreeView-item-content-text prc-TreeView-TreeViewItemContentText-smZM-"><span>Week 6_Basic Calculus</span></span></div></div></li><li class="PRIVATE_TreeView-item prc-TreeView-TreeViewItem-ShJr0" tabindex="0" id="Week 7_Structured Query Language_Introduction Database-item" role="treeitem" aria-labelledby=":Rvpimplab:" aria-describedby=":RvpimplabH1:" aria-level="1" aria-expanded="false" aria-selected="false"><div class="PRIVATE_TreeView-item-container prc-TreeView-TreeViewItemContainer--2Rkn" style="--level:1;content-visibility:auto;contain-intrinsic-size:auto 2rem"><div style="grid-area:spacer;display:flex"><div style="width:100%;display:flex"></div></div><div class="PRIVATE_TreeView-item-toggle PRIVATE_TreeView-item-toggle--hover PRIVATE_TreeView-item-toggle--end prc-TreeView-TreeViewItemToggle-gWUdE prc-TreeView-TreeViewItemToggleHover-nEgP- prc-TreeView-TreeViewItemToggleEnd-t-AEB"><svg aria-hidden="true" focusable="false" class="octicon octicon-chevron-right" viewBox="0 0 12 12" width="12" height="12" fill="currentColor" display="inline-block" overflow="visible" style="vertical-align:text-bottom"><path d="M4.7 10c-.2 0-.4-.1-.5-.2-.3-.3-.3-.8 0-1.1L6.9 6 4.2 3.3c-.3-.3-.3-.8 0-1.1.3-.3.8-.3 1.1 0l3.3 3.2c.3.3.3.8 0 1.1L5.3 9.7c-.2.2-.4.3-.6.3Z"></path></svg></div><div id=":Rvpimplab:" class="PRIVATE_TreeView-item-content prc-TreeView-TreeViewItemContent-f0r0b"><div class="PRIVATE_VisuallyHidden prc-TreeView-TreeViewVisuallyHidden-4-mPv" aria-hidden="true" id=":RvpimplabH1:"></div><div class="PRIVATE_TreeView-item-visual prc-TreeView-TreeViewItemVisual-dRlGq" aria-hidden="true"><div class="PRIVATE_TreeView-directory-icon prc-TreeView-TreeViewDirectoryIcon-PHbeP"><svg aria-hidden="true" focusable="false" class="octicon octicon-file-directory-fill" viewBox="0 0 16 16" width="16" height="16" fill="currentColor" display="inline-block" overflow="visible" style="vertical-align:text-bottom"><path d="M1.75 1A1.75 1.75 0 0 0 0 2.75v10.5C0 14.216.784 15 1.75 15h12.5A1.75 1.75 0 0 0 16 13.25v-8.5A1.75 1.75 0 0 0 14.25 3H7.5a.25.25 0 0 1-.2-.1l-.9-1.2C6.07 1.26 5.55 1 5 1H1.75Z"></path></svg></div></div><span class="PRIVATE_TreeView-item-content-text prc-TreeView-TreeViewItemContentText-smZM-"><span>Week 7_Structured Query Language_Introduction Database</span></span></div></div></li><li class="PRIVATE_TreeView-item prc-TreeView-TreeViewItem-ShJr0" tabindex="0" id="Week 8_Advance Data Visualization-item" role="treeitem" aria-labelledby=":R11pimplab:" aria-describedby=":R11pimplabH1:" aria-level="1" aria-expanded="false" aria-selected="false"><div class="PRIVATE_TreeView-item-container prc-TreeView-TreeViewItemContainer--2Rkn" style="--level:1;content-visibility:auto;contain-intrinsic-size:auto 2rem"><div style="grid-area:spacer;display:flex"><div style="width:100%;display:flex"></div></div><div class="PRIVATE_TreeView-item-toggle PRIVATE_TreeView-item-toggle--hover PRIVATE_TreeView-item-toggle--end prc-TreeView-TreeViewItemToggle-gWUdE prc-TreeView-TreeViewItemToggleHover-nEgP- prc-TreeView-TreeViewItemToggleEnd-t-AEB"><svg aria-hidden="true" focusable="false" class="octicon octicon-chevron-right" viewBox="0 0 12 12" width="12" height="12" fill="currentColor" display="inline-block" overflow="visible" style="vertical-align:text-bottom"><path d="M4.7 10c-.2 0-.4-.1-.5-.2-.3-.3-.3-.8 0-1.1L6.9 6 4.2 3.3c-.3-.3-.3-.8 0-1.1.3-.3.8-.3 1.1 0l3.3 3.2c.3.3.3.8 0 1.1L5.3 9.7c-.2.2-.4.3-.6.3Z"></path></svg></div><div id=":R11pimplab:" class="PRIVATE_TreeView-item-content prc-TreeView-TreeViewItemContent-f0r0b"><div class="PRIVATE_VisuallyHidden prc-TreeView-TreeViewVisuallyHidden-4-mPv" aria-hidden="true" id=":R11pimplabH1:"></div><div class="PRIVATE_TreeView-item-visual prc-TreeView-TreeViewItemVisual-dRlGq" aria-hidden="true"><div class="PRIVATE_TreeView-directory-icon prc-TreeView-TreeViewDirectoryIcon-PHbeP"><svg aria-hidden="true" focusable="false" class="octicon octicon-file-directory-fill" viewBox="0 0 16 16" width="16" height="16" fill="currentColor" display="inline-block" overflow="visible" style="vertical-align:text-bottom"><path d="M1.75 1A1.75 1.75 0 0 0 0 2.75v10.5C0 14.216.784 15 1.75 15h12.5A1.75 1.75 0 0 0 16 13.25v-8.5A1.75 1.75 0 0 0 14.25 3H7.5a.25.25 0 0 1-.2-.1l-.9-1.2C6.07 1.26 5.55 1 5 1H1.75Z"></path></svg></div></div><span class="PRIVATE_TreeView-item-content-text prc-TreeView-TreeViewItemContentText-smZM-"><span>Week 8_Advance Data Visualization</span></span></div></div></li><li class="PRIVATE_TreeView-item prc-TreeView-TreeViewItem-ShJr0" tabindex="0" id="Week 9_SQL in Tata Analysis-item" role="treeitem" aria-labelledby=":R13pimplab:" aria-describedby=":R13pimplabH1:" aria-level="1" aria-expanded="false" aria-selected="false"><div class="PRIVATE_TreeView-item-container prc-TreeView-TreeViewItemContainer--2Rkn" style="--level:1;content-visibility:auto;contain-intrinsic-size:auto 2rem"><div style="grid-area:spacer;display:flex"><div style="width:100%;display:flex"></div></div><div class="PRIVATE_TreeView-item-toggle PRIVATE_TreeView-item-toggle--hover PRIVATE_TreeView-item-toggle--end prc-TreeView-TreeViewItemToggle-gWUdE prc-TreeView-TreeViewItemToggleHover-nEgP- prc-TreeView-TreeViewItemToggleEnd-t-AEB"><svg aria-hidden="true" focusable="false" class="octicon octicon-chevron-right" viewBox="0 0 12 12" width="12" height="12" fill="currentColor" display="inline-block" overflow="visible" style="vertical-align:text-bottom"><path d="M4.7 10c-.2 0-.4-.1-.5-.2-.3-.3-.3-.8 0-1.1L6.9 6 4.2 3.3c-.3-.3-.3-.8 0-1.1.3-.3.8-.3 1.1 0l3.3 3.2c.3.3.3.8 0 1.1L5.3 9.7c-.2.2-.4.3-.6.3Z"></path></svg></div><div id=":R13pimplab:" class="PRIVATE_TreeView-item-content prc-TreeView-TreeViewItemContent-f0r0b"><div class="PRIVATE_VisuallyHidden prc-TreeView-TreeViewVisuallyHidden-4-mPv" aria-hidden="true" id=":R13pimplabH1:"></div><div class="PRIVATE_TreeView-item-visual prc-TreeView-TreeViewItemVisual-dRlGq" aria-hidden="true"><div class="PRIVATE_TreeView-directory-icon prc-TreeView-TreeViewDirectoryIcon-PHbeP"><svg aria-hidden="true" focusable="false" class="octicon octicon-file-directory-fill" viewBox="0 0 16 16" width="16" height="16" fill="currentColor" display="inline-block" overflow="visible" style="vertical-align:text-bottom"><path d="M1.75 1A1.75 1.75 0 0 0 0 2.75v10.5C0 14.216.784 15 1.75 15h12.5A1.75 1.75 0 0 0 16 13.25v-8.5A1.75 1.75 0 0 0 14.25 3H7.5a.25.25 0 0 1-.2-.1l-.9-1.2C6.07 1.26 5.55 1 5 1H1.75Z"></path></svg></div></div><span class="PRIVATE_TreeView-item-content-text prc-TreeView-TreeViewItemContentText-smZM-"><span>Week 9_SQL in Tata Analysis</span></span></div></div></li></ul></nav></div></div></div></div></div></div><div class="Box-sc-g0xbh4-0 prc-PageLayout-VerticalDivider-4A4Qm prc-PageLayout-PaneVerticalDivider-1c9vy" data-variant="none" data-position="start" style="--spacing:var(--spacing-none)"><div role="slider" aria-label="Draggable pane splitter" aria-valuemin="0" aria-valuemax="0" aria-valuenow="0" aria-valuetext="Pane width 0 pixels" tabindex="0" class="Box-sc-g0xbh4-0 bHLmSv"></div></div></div></div><div class="Box-sc-g0xbh4-0 prc-PageLayout-ContentWrapper-b-QRo CodeView-module__SplitPageLayout_Content--qxR1C" data-is-hidden="false"><div class="prc-PageLayout-Content--F7-I" data-width="full" style="--spacing:var(--spacing-none)"><div data-selector="repos-split-pane-content" tabindex="0" class="Box-sc-g0xbh4-0 leYMvG"><div class="Box-sc-g0xbh4-0 KMPzq"><div class="container CodeViewHeader-module__Box--PofRM"><div class="px-3 pt-3 pb-0" id="StickyHeader"><div class="CodeViewHeader-module__Box_1--KpLzV"><div class="CodeViewHeader-module__Box_2--xzDOt"><div class="CodeViewHeader-module__Box_6--iStzT"><div class="Box-sc-g0xbh4-0 cEytCf"><nav data-testid="breadcrumbs" aria-labelledby="repos-header-breadcrumb--wide-heading" id="repos-header-breadcrumb--wide" class="Box-sc-g0xbh4-0 fzFXnm"><h2 class="sr-only ScreenReaderHeading-module__userSelectNone--vW4Cq prc-Heading-Heading-6CmGO" data-testid="screen-reader-heading" id="repos-header-breadcrumb--wide-heading">Breadcrumbs</h2><ol class="Box-sc-g0xbh4-0 iMnkmv"><li class="Box-sc-g0xbh4-0 ghzDag"><a class="Box-sc-g0xbh4-0 kHuKdh prc-Link-Link-85e08" sx="[object Object]" data-testid="breadcrumbs-repo-link" href="/Dong-Den/AIO-2025_Pre/tree/main">AIO-2025_Pre</a></li><li class="Box-sc-g0xbh4-0 ghzDag"><span class="Box-sc-g0xbh4-0 hzJBof prc-Text-Text-0ima0" aria-hidden="true">/</span><a class="Box-sc-g0xbh4-0 kgiVEz prc-Link-Link-85e08" sx="[object Object]" href="/Dong-Den/AIO-2025_Pre/tree/main/WEEK%2016_2025.5.20_KNN_Basic%2C%20Advanced%20Concepts%20and%20Its%20Applications">WEEK 16_2025.5.20_KNN_Basic, Advanced Concepts and Its Applications</a></li></ol></nav><div data-testid="breadcrumbs-filename" class="Box-sc-g0xbh4-0 ghzDag"><span class="Box-sc-g0xbh4-0 hzJBof prc-Text-Text-0ima0" aria-hidden="true">/</span><h1 class="Box-sc-g0xbh4-0 jGhzSQ prc-Heading-Heading-6CmGO" tabindex="-1" id="file-name-id-wide">PRE_WEEK_16_DAY_80_Thuật_Toán_K_Nearest_Neighbors_(KNN)_Nâng_cao.ipynb</h1></div><button data-component="IconButton" type="button" class="prc-Button-ButtonBase-c50BI ml-2 prc-Button-IconButton-szpyj" data-loading="false" data-no-visuals="true" data-size="small" data-variant="invisible" aria-describedby=":Rvb9lab:-loading-announcement" aria-labelledby=":R3b9lab:"><svg aria-hidden="true" focusable="false" class="octicon octicon-copy" viewBox="0 0 16 16" width="16" height="16" fill="currentColor" display="inline-block" overflow="visible" style="vertical-align:text-bottom"><path d="M0 6.75C0 5.784.784 5 1.75 5h1.5a.75.75 0 0 1 0 1.5h-1.5a.25.25 0 0 0-.25.25v7.5c0 .138.112.25.25.25h7.5a.25.25 0 0 0 .25-.25v-1.5a.75.75 0 0 1 1.5 0v1.5A1.75 1.75 0 0 1 9.25 16h-7.5A1.75 1.75 0 0 1 0 14.25Z"></path><path d="M5 1.75C5 .784 5.784 0 6.75 0h7.5C15.216 0 16 .784 16 1.75v7.5A1.75 1.75 0 0 1 14.25 11h-7.5A1.75 1.75 0 0 1 5 9.25Zm1.75-.25a.25.25 0 0 0-.25.25v7.5c0 .138.112.25.25.25h7.5a.25.25 0 0 0 .25-.25v-7.5a.25.25 0 0 0-.25-.25Z"></path></svg></button><span class="CopyToClipboardButton-module__tooltip--Dq1IB prc-TooltipV2-Tooltip-cYMVY" data-direction="nw" aria-label="Copy path" aria-hidden="true" id=":R3b9lab:">Copy path</span></div></div><div class="react-code-view-header-element--wide"><div class="CodeViewHeader-module__Box_7--FZfkg"><div class="d-flex gap-2"> <button type="button" class="Box-sc-g0xbh4-0 fjrFuv prc-Button-ButtonBase-c50BI NavigationMenu-module__Button--SJihq" data-loading="false" data-no-visuals="true" data-size="medium" data-variant="default" aria-describedby=":R1ahj9lab:-loading-announcement"><span data-component="buttonContent" class="Box-sc-g0xbh4-0 gUkoLg prc-Button-ButtonContent-HKbr-"><span data-component="text" class="prc-Button-Label-pTQ3x">Blame</span></span></button><button hidden="" data-testid="" data-hotkey-scope="read-only-cursor-text-area"></button><button data-component="IconButton" type="button" aria-label="More file actions" title="More file actions" data-testid="more-file-actions-button-nav-menu-wide" aria-haspopup="true" aria-expanded="false" tabindex="0" class="prc-Button-ButtonBase-c50BI js-blob-dropdown-click NavigationMenu-module__IconButton--NqJ_L prc-Button-IconButton-szpyj" data-loading="false" data-no-visuals="true" data-size="medium" data-variant="default" aria-describedby=":Rihj9lab:-loading-announcement" id=":Rihj9lab:"><svg aria-hidden="true" focusable="false" class="octicon octicon-kebab-horizontal" viewBox="0 0 16 16" width="16" height="16" fill="currentColor" display="inline-block" overflow="visible" style="vertical-align:text-bottom"><path d="M8 9a1.5 1.5 0 1 0 0-3 1.5 1.5 0 0 0 0 3ZM1.5 9a1.5 1.5 0 1 0 0-3 1.5 1.5 0 0 0 0 3Zm13 0a1.5 1.5 0 1 0 0-3 1.5 1.5 0 0 0 0 3Z"></path></svg></button> </div></div></div><div class="react-code-view-header-element--narrow"><div class="CodeViewHeader-module__Box_7--FZfkg"><div class="d-flex gap-2"> <button type="button" class="Box-sc-g0xbh4-0 fjrFuv prc-Button-ButtonBase-c50BI NavigationMenu-module__Button--SJihq" data-loading="false" data-no-visuals="true" data-size="medium" data-variant="default" aria-describedby=":R1ahr9lab:-loading-announcement"><span data-component="buttonContent" class="Box-sc-g0xbh4-0 gUkoLg prc-Button-ButtonContent-HKbr-"><span data-component="text" class="prc-Button-Label-pTQ3x">Blame</span></span></button><button hidden="" data-testid="" data-hotkey-scope="read-only-cursor-text-area"></button><button data-component="IconButton" type="button" aria-label="More file actions" title="More file actions" data-testid="more-file-actions-button-nav-menu-narrow" aria-haspopup="true" aria-expanded="false" tabindex="0" class="prc-Button-ButtonBase-c50BI js-blob-dropdown-click NavigationMenu-module__IconButton--NqJ_L prc-Button-IconButton-szpyj" data-loading="false" data-no-visuals="true" data-size="medium" data-variant="default" aria-describedby=":Rihr9lab:-loading-announcement" id=":Rihr9lab:"><svg aria-hidden="true" focusable="false" class="octicon octicon-kebab-horizontal" viewBox="0 0 16 16" width="16" height="16" fill="currentColor" display="inline-block" overflow="visible" style="vertical-align:text-bottom"><path d="M8 9a1.5 1.5 0 1 0 0-3 1.5 1.5 0 0 0 0 3ZM1.5 9a1.5 1.5 0 1 0 0-3 1.5 1.5 0 0 0 0 3Zm13 0a1.5 1.5 0 1 0 0-3 1.5 1.5 0 0 0 0 3Z"></path></svg></button> </div></div></div></div></div></div></div></div><div class="Box-sc-g0xbh4-0 dJxjrT react-code-view-bottom-padding"> <div class="BlobTopBanners-module__Box--g_bGk"></div> <!-- --> <!-- --> </div><div class="Box-sc-g0xbh4-0 dJxjrT"> <!-- --> <!-- --> <div class="d-flex flex-column border rounded-2 mb-3 pl-1"><div class="LatestCommit-module__Box--En0AE"><h2 class="sr-only ScreenReaderHeading-module__userSelectNone--vW4Cq prc-Heading-Heading-6CmGO" data-testid="screen-reader-heading">Latest commit</h2><div style="width:120px" class="Skeleton Skeleton--text" data-testid="loading"> </div><div class="d-flex flex-shrink-0 gap-2"><div data-testid="latest-commit-details" class="d-none d-sm-flex flex-items-center"></div><div class="d-flex gap-2"><h2 class="sr-only ScreenReaderHeading-module__userSelectNone--vW4Cq prc-Heading-Heading-6CmGO" data-testid="screen-reader-heading">History</h2><a href="/Dong-Den/AIO-2025_Pre/commits/main/WEEK%2016_2025.5.20_KNN_Basic%2C%20Advanced%20Concepts%20and%20Its%20Applications/PRE_WEEK_16_DAY_80_Thu%E1%BA%ADt_To%C3%A1n_K_Nearest_Neighbors_(KNN)_N%C3%A2ng_cao.ipynb" class="prc-Button-ButtonBase-c50BI d-none d-lg-flex LinkButton-module__code-view-link-button--xvCGA flex-items-center fgColor-default" data-loading="false" data-size="small" data-variant="invisible" aria-describedby=":R1bdal9lab:-loading-announcement"><span data-component="buttonContent" data-align="center" class="prc-Button-ButtonContent-HKbr-"><span data-component="leadingVisual" class="prc-Button-Visual-2epfX prc-Button-VisualWrap-Db-eB"><svg aria-hidden="true" focusable="false" class="octicon octicon-history" viewBox="0 0 16 16" width="16" height="16" fill="currentColor" display="inline-block" overflow="visible" style="vertical-align:text-bottom"><path d="m.427 1.927 1.215 1.215a8.002 8.002 0 1 1-1.6 5.685.75.75 0 1 1 1.493-.154 6.5 6.5 0 1 0 1.18-4.458l1.358 1.358A.25.25 0 0 1 3.896 6H.25A.25.25 0 0 1 0 5.75V2.104a.25.25 0 0 1 .427-.177ZM7.75 4a.75.75 0 0 1 .75.75v2.992l2.028.812a.75.75 0 0 1-.557 1.392l-2.5-1A.751.751 0 0 1 7 8.25v-3.5A.75.75 0 0 1 7.75 4Z"></path></svg></span><span data-component="text" class="prc-Button-Label-pTQ3x"><span class="fgColor-default">History</span></span></span></a><div class="d-sm-none"></div><div class="d-flex d-lg-none"><span role="tooltip" aria-label="History" id="history-icon-button-tooltip" class="Tooltip__TooltipBase-sc-17tf59c-0 hWlpPn tooltipped-n"><a href="/Dong-Den/AIO-2025_Pre/commits/main/WEEK%2016_2025.5.20_KNN_Basic%2C%20Advanced%20Concepts%20and%20Its%20Applications/PRE_WEEK_16_DAY_80_Thu%E1%BA%ADt_To%C3%A1n_K_Nearest_Neighbors_(KNN)_N%C3%A2ng_cao.ipynb" class="prc-Button-ButtonBase-c50BI LinkButton-module__code-view-link-button--xvCGA flex-items-center fgColor-default" data-loading="false" data-size="small" data-variant="invisible" aria-describedby=":R6bdal9lab:-loading-announcement history-icon-button-tooltip"><span data-component="buttonContent" data-align="center" class="prc-Button-ButtonContent-HKbr-"><span data-component="leadingVisual" class="prc-Button-Visual-2epfX prc-Button-VisualWrap-Db-eB"><svg aria-hidden="true" focusable="false" class="octicon octicon-history" viewBox="0 0 16 16" width="16" height="16" fill="currentColor" display="inline-block" overflow="visible" style="vertical-align:text-bottom"><path d="m.427 1.927 1.215 1.215a8.002 8.002 0 1 1-1.6 5.685.75.75 0 1 1 1.493-.154 6.5 6.5 0 1 0 1.18-4.458l1.358 1.358A.25.25 0 0 1 3.896 6H.25A.25.25 0 0 1 0 5.75V2.104a.25.25 0 0 1 .427-.177ZM7.75 4a.75.75 0 0 1 .75.75v2.992l2.028.812a.75.75 0 0 1-.557 1.392l-2.5-1A.751.751 0 0 1 7 8.25v-3.5A.75.75 0 0 1 7.75 4Z"></path></svg></span></span></a></span></div></div></div></div></div><div class="Box-sc-g0xbh4-0 ldRxiI"><div class="Box-sc-g0xbh4-0 fVkfyA container"><div class="Box-sc-g0xbh4-0 gNAmSV react-code-size-details-banner"><div class="react-code-size-details-banner CodeSizeDetails-module__Box--QdxnQ"><div class="text-mono CodeSizeDetails-module__Box_1--_uFDs"><div title="74.7 KB" data-testid="blob-size" class="Truncate__StyledTruncate-sc-23o1d2-0 bgsFir CodeSizeDetails-module__Truncate_1--er0Uk"><span>238 lines (238 loc) · 74.7 KB</span></div></div></div></div><div class="Box-sc-g0xbh4-0 jdLMhu react-blob-view-header-sticky" id="repos-sticky-header"><div class="BlobViewHeader-module__Box--pvsIA"><div class="react-blob-sticky-header"><div class="Box-sc-g0xbh4-0 hqwSEx"><div class="FileNameStickyHeader-module__Box_5--xBJ2J"><div class="Box-sc-g0xbh4-0 fHind"><nav data-testid="breadcrumbs" aria-labelledby="sticky-breadcrumb-heading" id="sticky-breadcrumb" class="Box-sc-g0xbh4-0 fzFXnm"><h2 class="sr-only ScreenReaderHeading-module__userSelectNone--vW4Cq prc-Heading-Heading-6CmGO" data-testid="screen-reader-heading" id="sticky-breadcrumb-heading">Breadcrumbs</h2><ol class="Box-sc-g0xbh4-0 iMnkmv"><li class="Box-sc-g0xbh4-0 ghzDag"><a class="Box-sc-g0xbh4-0 kHuKdh prc-Link-Link-85e08" sx="[object Object]" data-testid="breadcrumbs-repo-link" href="/Dong-Den/AIO-2025_Pre/tree/main">AIO-2025_Pre</a></li><li class="Box-sc-g0xbh4-0 ghzDag"><span class="Box-sc-g0xbh4-0 oDtgN prc-Text-Text-0ima0" aria-hidden="true">/</span><a class="Box-sc-g0xbh4-0 kgiVEz prc-Link-Link-85e08" sx="[object Object]" href="/Dong-Den/AIO-2025_Pre/tree/main/WEEK%2016_2025.5.20_KNN_Basic%2C%20Advanced%20Concepts%20and%20Its%20Applications">WEEK 16_2025.5.20_KNN_Basic, Advanced Concepts and Its Applications</a></li></ol></nav><div data-testid="breadcrumbs-filename" class="Box-sc-g0xbh4-0 ghzDag"><span class="Box-sc-g0xbh4-0 oDtgN prc-Text-Text-0ima0" aria-hidden="true">/</span><h1 class="Box-sc-g0xbh4-0 dnZoUW prc-Heading-Heading-6CmGO" tabindex="-1" id="sticky-file-name-id">PRE_WEEK_16_DAY_80_Thuật_Toán_K_Nearest_Neighbors_(KNN)_Nâng_cao.ipynb</h1></div></div><button type="button" class="prc-Button-ButtonBase-c50BI FileNameStickyHeader-module__Button--SaiiH FileNameStickyHeader-module__GoToTopButton--9lB4x" data-loading="false" data-size="small" data-variant="invisible" aria-describedby=":R4mfal9lab:-loading-announcement"><span data-component="buttonContent" data-align="center" class="prc-Button-ButtonContent-HKbr-"><span data-component="leadingVisual" class="prc-Button-Visual-2epfX prc-Button-VisualWrap-Db-eB"><svg aria-hidden="true" focusable="false" class="octicon octicon-arrow-up" viewBox="0 0 16 16" width="16" height="16" fill="currentColor" display="inline-block" overflow="visible" style="vertical-align:text-bottom"><path d="M3.47 7.78a.75.75 0 0 1 0-1.06l4.25-4.25a.75.75 0 0 1 1.06 0l4.25 4.25a.751.751 0 0 1-.018 1.042.751.751 0 0 1-1.042.018L9 4.81v7.44a.75.75 0 0 1-1.5 0V4.81L4.53 7.78a.75.75 0 0 1-1.06 0Z"></path></svg></span><span data-component="text" class="prc-Button-Label-pTQ3x">Top</span></span></button></div></div></div><div class="Box-sc-g0xbh4-0 gFKFyc BlobViewHeader-module__Box_1--PPihg"><h2 class="sr-only ScreenReaderHeading-module__userSelectNone--vW4Cq prc-Heading-Heading-6CmGO" data-testid="screen-reader-heading">File metadata and controls</h2><div class="BlobViewHeader-module__Box_2--G_jCG"><ul aria-label="File view" class="prc-SegmentedControl-SegmentedControl-e7570 BlobTabButtons-module__SegmentedControl--JMGov" data-size="small"><li class="prc-SegmentedControl-Item-7Aq6h" data-selected=""><button aria-current="true" class="prc-SegmentedControl-Button-ojWXD" type="button" style="--separator-color:transparent"><span class="prc-SegmentedControl-Content-gnQ4n segmentedControl-content"><div class="prc-SegmentedControl-Text-c5gSh segmentedControl-text" data-text="Preview">Preview</div></span></button></li><li class="prc-SegmentedControl-Item-7Aq6h"><button aria-current="false" class="prc-SegmentedControl-Button-ojWXD" type="button" style="--separator-color:var(--borderColor-default, var(--color-border-default, #d0d7de))"><span class="prc-SegmentedControl-Content-gnQ4n segmentedControl-content"><div class="prc-SegmentedControl-Text-c5gSh segmentedControl-text" data-text="Code">Code</div></span></button></li><li class="prc-SegmentedControl-Item-7Aq6h"><button aria-current="false" class="prc-SegmentedControl-Button-ojWXD" type="button" style="--separator-color:var(--borderColor-default, var(--color-border-default, #d0d7de))"><span class="prc-SegmentedControl-Content-gnQ4n segmentedControl-content"><div class="prc-SegmentedControl-Text-c5gSh segmentedControl-text" data-text="Blame">Blame</div></span></button></li></ul><button hidden="" data-testid="" data-hotkey-scope="read-only-cursor-text-area"></button><button hidden="" data-testid="" data-hotkey-scope="read-only-cursor-text-area"></button><button hidden="" data-testid="" data-hotkey-scope="read-only-cursor-text-area"></button><div class="react-code-size-details-in-header CodeSizeDetails-module__Box--QdxnQ"><div class="text-mono CodeSizeDetails-module__Box_1--_uFDs"><div title="74.7 KB" data-testid="blob-size" class="Truncate__StyledTruncate-sc-23o1d2-0 bgsFir CodeSizeDetails-module__Truncate_1--er0Uk"><span>238 lines (238 loc) · 74.7 KB</span></div></div></div></div><div class="BlobViewHeader-module__Box_3--Kvpex"><div class="Box-sc-g0xbh4-0 pr-0 prc-ButtonGroup-ButtonGroup-vcMeG"><div><button data-component="IconButton" type="button" data-testid="copilot-ask-menu" class="prc-Button-ButtonBase-c50BI AskCopilotButton-module__square--o8kDO prc-Button-IconButton-szpyj" data-loading="false" data-no-visuals="true" data-size="small" data-variant="default" aria-describedby="blob-view-header-copilot-icon-loading-announcement" aria-labelledby=":R2v6fal9lab:" id="blob-view-header-copilot-icon"><svg aria-hidden="true" focusable="false" class="octicon octicon-copilot" viewBox="0 0 16 16" width="16" height="16" fill="currentColor" display="inline-block" overflow="visible" style="vertical-align:text-bottom"><path d="M7.998 15.035c-4.562 0-7.873-2.914-7.998-3.749V9.338c.085-.628.677-1.686 1.588-2.065.013-.07.024-.143.036-.218.029-.183.06-.384.126-.612-.201-.508-.254-1.084-.254-1.656 0-.87.128-1.769.693-2.484.579-.733 1.494-1.124 2.724-1.261 1.206-.134 2.262.034 2.944.765.05.053.096.108.139.165.044-.057.094-.112.143-.165.682-.731 1.738-.899 2.944-.765 1.23.137 2.145.528 2.724 1.261.566.715.693 1.614.693 2.484 0 .572-.053 1.148-.254 1.656.066.228.098.429.126.612.012.076.024.148.037.218.924.385 1.522 1.471 1.591 2.095v1.872c0 .766-3.351 3.795-8.002 3.795Zm0-1.485c2.28 0 4.584-1.11 5.002-1.433V7.862l-.023-.116c-.49.21-1.075.291-1.727.291-1.146 0-2.059-.327-2.71-.991A3.222 3.222 0 0 1 8 6.303a3.24 3.24 0 0 1-.544.743c-.65.664-1.563.991-2.71.991-.652 0-1.236-.081-1.727-.291l-.023.116v4.255c.419.323 2.722 1.433 5.002 1.433ZM6.762 2.83c-.193-.206-.637-.413-1.682-.297-1.019.113-1.479.404-1.713.7-.247.312-.369.789-.369 1.554 0 .793.129 1.171.308 1.371.162.181.519.379 1.442.379.853 0 1.339-.235 1.638-.54.315-.322.527-.827.617-1.553.117-.935-.037-1.395-.241-1.614Zm4.155-.297c-1.044-.116-1.488.091-1.681.297-.204.219-.359.679-.242 1.614.091.726.303 1.231.618 1.553.299.305.784.54 1.638.54.922 0 1.28-.198 1.442-.379.179-.2.308-.578.308-1.371 0-.765-.123-1.242-.37-1.554-.233-.296-.693-.587-1.713-.7Z"></path><path d="M6.25 9.037a.75.75 0 0 1 .75.75v1.501a.75.75 0 0 1-1.5 0V9.787a.75.75 0 0 1 .75-.75Zm4.25.75v1.501a.75.75 0 0 1-1.5 0V9.787a.75.75 0 0 1 1.5 0Z"></path></svg></button><span class="prc-TooltipV2-Tooltip-cYMVY" data-direction="s" aria-hidden="true" id=":R2v6fal9lab:">Ask Copilot about this file</span></div><div></div></div><div class="react-blob-header-edit-and-raw-actions BlobViewHeader-module__Box_4--vFP89"><div class="Box-sc-g0xbh4-0 prc-ButtonGroup-ButtonGroup-vcMeG"><div><a href="https://github.com/Dong-Den/AIO-2025_Pre/raw/refs/heads/main/WEEK%2016_2025.5.20_KNN_Basic,%20Advanced%20Concepts%20and%20Its%20Applications/PRE_WEEK_16_DAY_80_Thu%E1%BA%ADt_To%C3%A1n_K_Nearest_Neighbors_(KNN)_N%C3%A2ng_cao.ipynb" data-testid="raw-button" class="Box-sc-g0xbh4-0 lefpaC prc-Button-ButtonBase-c50BI BlobViewHeader-module__LinkButton--DMph4" data-loading="false" data-no-visuals="true" data-size="small" data-variant="default" aria-describedby=":R1b76fal9lab:-loading-announcement"><span data-component="buttonContent" class="Box-sc-g0xbh4-0 gUkoLg prc-Button-ButtonContent-HKbr-"><span data-component="text" class="prc-Button-Label-pTQ3x">Raw</span></span></a></div><div><button data-component="IconButton" type="button" aria-label="Copy raw content" data-testid="copy-raw-button" class="prc-Button-ButtonBase-c50BI prc-Button-IconButton-szpyj" data-loading="false" data-no-visuals="true" data-size="small" data-variant="default" aria-describedby=":R6b76fal9lab:-loading-announcement"><svg aria-hidden="true" focusable="false" class="octicon octicon-copy" viewBox="0 0 16 16" width="16" height="16" fill="currentColor" display="inline-block" overflow="visible" style="vertical-align:text-bottom"><path d="M0 6.75C0 5.784.784 5 1.75 5h1.5a.75.75 0 0 1 0 1.5h-1.5a.25.25 0 0 0-.25.25v7.5c0 .138.112.25.25.25h7.5a.25.25 0 0 0 .25-.25v-1.5a.75.75 0 0 1 1.5 0v1.5A1.75 1.75 0 0 1 9.25 16h-7.5A1.75 1.75 0 0 1 0 14.25Z"></path><path d="M5 1.75C5 .784 5.784 0 6.75 0h7.5C15.216 0 16 .784 16 1.75v7.5A1.75 1.75 0 0 1 14.25 11h-7.5A1.75 1.75 0 0 1 5 9.25Zm1.75-.25a.25.25 0 0 0-.25.25v7.5c0 .138.112.25.25.25h7.5a.25.25 0 0 0 .25-.25v-7.5a.25.25 0 0 0-.25-.25Z"></path></svg></button></div><div><span role="tooltip" aria-label="Download raw file" id=":R3b76fal9lab:" class="Tooltip__TooltipBase-sc-17tf59c-0 hWlpPn tooltipped-n"><button data-component="IconButton" type="button" aria-label="Download raw content" data-testid="download-raw-button" class="Box-sc-g0xbh4-0 ivobqY prc-Button-ButtonBase-c50BI prc-Button-IconButton-szpyj" data-loading="false" data-no-visuals="true" data-size="small" data-variant="default" aria-describedby=":R7b76fal9lab:-loading-announcement"><svg aria-hidden="true" focusable="false" class="octicon octicon-download" viewBox="0 0 16 16" width="16" height="16" fill="currentColor" display="inline-block" overflow="visible" style="vertical-align:text-bottom"><path d="M2.75 14A1.75 1.75 0 0 1 1 12.25v-2.5a.75.75 0 0 1 1.5 0v2.5c0 .138.112.25.25.25h10.5a.25.25 0 0 0 .25-.25v-2.5a.75.75 0 0 1 1.5 0v2.5A1.75 1.75 0 0 1 13.25 14Z"></path><path d="M7.25 7.689V2a.75.75 0 0 1 1.5 0v5.689l1.97-1.969a.749.749 0 1 1 1.06 1.06l-3.25 3.25a.749.749 0 0 1-1.06 0L4.22 6.78a.749.749 0 1 1 1.06-1.06l1.97 1.969Z"></path></svg></button></span></div></div><button hidden="" data-testid="raw-button-shortcut" data-hotkey-scope="read-only-cursor-text-area"></button><button hidden="" data-testid="copy-raw-button-shortcut" data-hotkey-scope="read-only-cursor-text-area"></button><button hidden="" data-testid="download-raw-button-shortcut" data-hotkey-scope="read-only-cursor-text-area"></button><a class="js-github-dev-shortcut d-none prc-Link-Link-85e08" href="https://github.dev/"></a><button hidden="" data-testid="" data-hotkey-scope="read-only-cursor-text-area"></button><a class="js-github-dev-new-tab-shortcut d-none prc-Link-Link-85e08" href="https://github.dev/" target="_blank"></a><button hidden="" data-testid="" data-hotkey-scope="read-only-cursor-text-area"></button><div class="Box-sc-g0xbh4-0 prc-ButtonGroup-ButtonGroup-vcMeG"><div><span role="tooltip" aria-label="Edit this file" id=":R1l76fal9lab:" class="Tooltip__TooltipBase-sc-17tf59c-0 hWlpPn tooltipped-nw"><a sx="[object Object]" data-component="IconButton" type="button" aria-label="Edit file" data-testid="edit-button" class="Box-sc-g0xbh4-0 iCOsHh prc-Button-ButtonBase-c50BI BlobViewHeader-module__IconButton_1--MzNlL prc-Button-IconButton-szpyj" data-loading="false" data-no-visuals="true" data-size="small" data-variant="default" aria-describedby=":R5l76fal9lab:-loading-announcement" href="/Dong-Den/AIO-2025_Pre/edit/main/WEEK%2016_2025.5.20_KNN_Basic%2C%20Advanced%20Concepts%20and%20Its%20Applications/PRE_WEEK_16_DAY_80_Thu%E1%BA%ADt_To%C3%A1n_K_Nearest_Neighbors_(KNN)_N%C3%A2ng_cao.ipynb"><svg aria-hidden="true" focusable="false" class="octicon octicon-pencil" viewBox="0 0 16 16" width="16" height="16" fill="currentColor" display="inline-block" overflow="visible" style="vertical-align:text-bottom"><path d="M11.013 1.427a1.75 1.75 0 0 1 2.474 0l1.086 1.086a1.75 1.75 0 0 1 0 2.474l-8.61 8.61c-.21.21-.47.364-.756.445l-3.251.93a.75.75 0 0 1-.927-.928l.929-3.25c.081-.286.235-.547.445-.758l8.61-8.61Zm.176 4.823L9.75 4.81l-6.286 6.287a.253.253 0 0 0-.064.108l-.558 1.953 1.953-.558a.253.253 0 0 0 .108-.064Zm1.238-3.763a.25.25 0 0 0-.354 0L10.811 3.75l1.439 1.44 1.263-1.263a.25.25 0 0 0 0-.354Z"></path></svg></a></span></div><div><button data-component="IconButton" type="button" aria-label="More edit options" data-testid="more-edit-button" aria-haspopup="true" aria-expanded="false" tabindex="0" class="prc-Button-ButtonBase-c50BI prc-Button-IconButton-szpyj" data-loading="false" data-no-visuals="true" data-size="small" data-variant="default" aria-describedby=":R2l76fal9lab:-loading-announcement" id=":R2l76fal9lab:"><svg aria-hidden="true" focusable="false" class="octicon octicon-triangle-down" viewBox="0 0 16 16" width="16" height="16" fill="currentColor" display="inline-block" overflow="visible" style="vertical-align:text-bottom"><path d="m4.427 7.427 3.396 3.396a.25.25 0 0 0 .354 0l3.396-3.396A.25.25 0 0 0 11.396 7H4.604a.25.25 0 0 0-.177.427Z"></path></svg></button></div></div><button hidden="" data-testid="" data-hotkey="e,Shift+E" data-hotkey-scope="read-only-cursor-text-area"></button></div><div class="react-blob-header-edit-and-raw-actions-combined"><button data-component="IconButton" type="button" aria-label="Edit and raw actions" title="More file actions" data-testid="more-file-actions-button" aria-haspopup="true" aria-expanded="false" tabindex="0" class="prc-Button-ButtonBase-c50BI js-blob-dropdown-click BlobViewHeader-module__IconButton--uO1fA prc-Button-IconButton-szpyj" data-loading="false" data-no-visuals="true" data-size="small" data-variant="invisible" aria-describedby=":R5v6fal9lab:-loading-announcement" id=":R5v6fal9lab:"><svg aria-hidden="true" focusable="false" class="octicon octicon-kebab-horizontal" viewBox="0 0 16 16" width="16" height="16" fill="currentColor" display="inline-block" overflow="visible" style="vertical-align:text-bottom"><path d="M8 9a1.5 1.5 0 1 0 0-3 1.5 1.5 0 0 0 0 3ZM1.5 9a1.5 1.5 0 1 0 0-3 1.5 1.5 0 0 0 0 3Zm13 0a1.5 1.5 0 1 0 0-3 1.5 1.5 0 0 0 0 3Z"></path></svg></button></div></div></div></div><div></div></div><div class="Box-sc-g0xbh4-0 hGyMdv"><section aria-labelledby="file-name-id-wide file-name-id-mobile" class="Box-sc-g0xbh4-0 iWAocR"><!--$!--><template></template><div class="Box-sc-g0xbh4-0 fgsa-DI"><span class="prc-Spinner-Box-qNUI9"><svg height="32px" width="32px" viewBox="0 0 16 16" fill="none" aria-hidden="true" aria-label="Loading" class="prc-Spinner-SpinnerAnimation-e7Gf-"><circle cx="8" cy="8" r="7" stroke="currentColor" stroke-opacity="0.25" stroke-width="2" vector-effect="non-scaling-stroke"></circle><path d="M15 8a7.002 7.002 0 00-7-7" stroke="currentColor" stroke-width="2" stroke-linecap="round" vector-effect="non-scaling-stroke"></path></svg></span></div><!--/$--></section></div></div></div> <!-- --> <!-- --> </div></div></div></div></div></div></div><div id="find-result-marks-container" class="Box-sc-g0xbh4-0 cCoXib"></div><button hidden="" data-testid="" data-hotkey-scope="read-only-cursor-text-area"></button><button hidden=""></button></div> <!-- --> <!-- --> <script type="application/json" id="__PRIMER_DATA_:R0:__">{"resolvedServerColorMode":"day"}</script></div>
</react-app>
</turbo-frame>



  </div>

</turbo-frame>

    </main>
  </div>

  </div>

          <footer class="footer pt-8 pb-6 f6 color-fg-muted p-responsive" role="contentinfo" >
  <h2 class='sr-only'>Footer</h2>

  


  <div class="d-flex flex-justify-center flex-items-center flex-column-reverse flex-lg-row flex-wrap flex-lg-nowrap">
    <div class="d-flex flex-items-center flex-shrink-0 mx-2">
      <a aria-label="GitHub Homepage" class="footer-octicon mr-2" href="https://github.com">
        <svg aria-hidden="true" height="24" viewBox="0 0 24 24" version="1.1" width="24" data-view-component="true" class="octicon octicon-mark-github">
    <path d="M12 1C5.9225 1 1 5.9225 1 12C1 16.8675 4.14875 20.9787 8.52125 22.4362C9.07125 22.5325 9.2775 22.2025 9.2775 21.9137C9.2775 21.6525 9.26375 20.7862 9.26375 19.865C6.5 20.3737 5.785 19.1912 5.565 18.5725C5.44125 18.2562 4.905 17.28 4.4375 17.0187C4.0525 16.8125 3.5025 16.3037 4.42375 16.29C5.29 16.2762 5.90875 17.0875 6.115 17.4175C7.105 19.0812 8.68625 18.6137 9.31875 18.325C9.415 17.61 9.70375 17.1287 10.02 16.8537C7.5725 16.5787 5.015 15.63 5.015 11.4225C5.015 10.2262 5.44125 9.23625 6.1425 8.46625C6.0325 8.19125 5.6475 7.06375 6.2525 5.55125C6.2525 5.55125 7.17375 5.2625 9.2775 6.67875C10.1575 6.43125 11.0925 6.3075 12.0275 6.3075C12.9625 6.3075 13.8975 6.43125 14.7775 6.67875C16.8813 5.24875 17.8025 5.55125 17.8025 5.55125C18.4075 7.06375 18.0225 8.19125 17.9125 8.46625C18.6138 9.23625 19.04 10.2125 19.04 11.4225C19.04 15.6437 16.4688 16.5787 14.0213 16.8537C14.42 17.1975 14.7638 17.8575 14.7638 18.8887C14.7638 20.36 14.75 21.5425 14.75 21.9137C14.75 22.2025 14.9563 22.5462 15.5063 22.4362C19.8513 20.9787 23 16.8537 23 12C23 5.9225 18.0775 1 12 1Z"></path>
</svg>
</a>
      <span>
        &copy; 2025 GitHub,&nbsp;Inc.
      </span>
    </div>

    <nav aria-label="Footer">
      <h3 class="sr-only" id="sr-footer-heading">Footer navigation</h3>

      <ul class="list-style-none d-flex flex-justify-center flex-wrap mb-2 mb-lg-0" aria-labelledby="sr-footer-heading">

          <li class="mx-2">
            <a data-analytics-event="{&quot;category&quot;:&quot;Footer&quot;,&quot;action&quot;:&quot;go to Terms&quot;,&quot;label&quot;:&quot;text:terms&quot;}" href="https://docs.github.com/site-policy/github-terms/github-terms-of-service" data-view-component="true" class="Link--secondary Link">Terms</a>
          </li>

          <li class="mx-2">
            <a data-analytics-event="{&quot;category&quot;:&quot;Footer&quot;,&quot;action&quot;:&quot;go to privacy&quot;,&quot;label&quot;:&quot;text:privacy&quot;}" href="https://docs.github.com/site-policy/privacy-policies/github-privacy-statement" data-view-component="true" class="Link--secondary Link">Privacy</a>
          </li>

          <li class="mx-2">
            <a data-analytics-event="{&quot;category&quot;:&quot;Footer&quot;,&quot;action&quot;:&quot;go to security&quot;,&quot;label&quot;:&quot;text:security&quot;}" href="https://github.com/security" data-view-component="true" class="Link--secondary Link">Security</a>
          </li>

          <li class="mx-2">
            <a data-analytics-event="{&quot;category&quot;:&quot;Footer&quot;,&quot;action&quot;:&quot;go to status&quot;,&quot;label&quot;:&quot;text:status&quot;}" href="https://www.githubstatus.com/" data-view-component="true" class="Link--secondary Link">Status</a>
          </li>

          <li class="mx-2">
            <a data-analytics-event="{&quot;category&quot;:&quot;Footer&quot;,&quot;action&quot;:&quot;go to docs&quot;,&quot;label&quot;:&quot;text:docs&quot;}" href="https://docs.github.com/" data-view-component="true" class="Link--secondary Link">Docs</a>
          </li>

          <li class="mx-2">
            <a data-analytics-event="{&quot;category&quot;:&quot;Footer&quot;,&quot;action&quot;:&quot;go to contact&quot;,&quot;label&quot;:&quot;text:contact&quot;}" href="https://support.github.com?tags=dotcom-footer" data-view-component="true" class="Link--secondary Link">Contact</a>
          </li>

          <li class="mx-2" >
  <cookie-consent-link>
    <button
      type="button"
      class="Link--secondary underline-on-hover border-0 p-0 color-bg-transparent"
      data-action="click:cookie-consent-link#showConsentManagement"
      data-analytics-event="{&quot;location&quot;:&quot;footer&quot;,&quot;action&quot;:&quot;cookies&quot;,&quot;context&quot;:&quot;subfooter&quot;,&quot;tag&quot;:&quot;link&quot;,&quot;label&quot;:&quot;cookies_link_subfooter_footer&quot;}"
    >
      Manage cookies
    </button>
  </cookie-consent-link>
</li>

<li class="mx-2">
  <cookie-consent-link>
    <button
      type="button"
      class="Link--secondary underline-on-hover border-0 p-0 color-bg-transparent"
      data-action="click:cookie-consent-link#showConsentManagement"
      data-analytics-event="{&quot;location&quot;:&quot;footer&quot;,&quot;action&quot;:&quot;dont_share_info&quot;,&quot;context&quot;:&quot;subfooter&quot;,&quot;tag&quot;:&quot;link&quot;,&quot;label&quot;:&quot;dont_share_info_link_subfooter_footer&quot;}"
    >
      Do not share my personal information
    </button>
  </cookie-consent-link>
</li>

      </ul>
    </nav>
  </div>
</footer>



    <ghcc-consent id="ghcc" class="position-fixed bottom-0 left-0" style="z-index: 999999" data-initial-cookie-consent-allowed="" data-cookie-consent-required="false"></ghcc-consent>



  <div id="ajax-error-message" class="ajax-error-message flash flash-error" hidden>
    <svg aria-hidden="true" height="16" viewBox="0 0 16 16" version="1.1" width="16" data-view-component="true" class="octicon octicon-alert">
    <path d="M6.457 1.047c.659-1.234 2.427-1.234 3.086 0l6.082 11.378A1.75 1.75 0 0 1 14.082 15H1.918a1.75 1.75 0 0 1-1.543-2.575Zm1.763.707a.25.25 0 0 0-.44 0L1.698 13.132a.25.25 0 0 0 .22.368h12.164a.25.25 0 0 0 .22-.368Zm.53 3.996v2.5a.75.75 0 0 1-1.5 0v-2.5a.75.75 0 0 1 1.5 0ZM9 11a1 1 0 1 1-2 0 1 1 0 0 1 2 0Z"></path>
</svg>
    <button type="button" class="flash-close js-ajax-error-dismiss" aria-label="Dismiss error">
      <svg aria-hidden="true" height="16" viewBox="0 0 16 16" version="1.1" width="16" data-view-component="true" class="octicon octicon-x">
    <path d="M3.72 3.72a.75.75 0 0 1 1.06 0L8 6.94l3.22-3.22a.749.749 0 0 1 1.275.326.749.749 0 0 1-.215.734L9.06 8l3.22 3.22a.749.749 0 0 1-.326 1.275.749.749 0 0 1-.734-.215L8 9.06l-3.22 3.22a.751.751 0 0 1-1.042-.018.751.751 0 0 1-.018-1.042L6.94 8 3.72 4.78a.75.75 0 0 1 0-1.06Z"></path>
</svg>
    </button>
    You can’t perform that action at this time.
  </div>

    <template id="site-details-dialog">
  <details class="details-reset details-overlay details-overlay-dark lh-default color-fg-default hx_rsm" open>
    <summary role="button" aria-label="Close dialog"></summary>
    <details-dialog class="Box Box--overlay d-flex flex-column anim-fade-in fast hx_rsm-dialog hx_rsm-modal">
      <button class="Box-btn-octicon m-0 btn-octicon position-absolute right-0 top-0" type="button" aria-label="Close dialog" data-close-dialog>
        <svg aria-hidden="true" height="16" viewBox="0 0 16 16" version="1.1" width="16" data-view-component="true" class="octicon octicon-x">
    <path d="M3.72 3.72a.75.75 0 0 1 1.06 0L8 6.94l3.22-3.22a.749.749 0 0 1 1.275.326.749.749 0 0 1-.215.734L9.06 8l3.22 3.22a.749.749 0 0 1-.326 1.275.749.749 0 0 1-.734-.215L8 9.06l-3.22 3.22a.751.751 0 0 1-1.042-.018.751.751 0 0 1-.018-1.042L6.94 8 3.72 4.78a.75.75 0 0 1 0-1.06Z"></path>
</svg>
      </button>
      <div class="octocat-spinner my-6 js-details-dialog-spinner"></div>
    </details-dialog>
  </details>
</template>

    <div class="Popover js-hovercard-content position-absolute" style="display: none; outline: none;">
  <div class="Popover-message Popover-message--bottom-left Popover-message--large Box color-shadow-large" style="width:360px;">
  </div>
</div>

    <template id="snippet-clipboard-copy-button">
  <div class="zeroclipboard-container position-absolute right-0 top-0">
    <clipboard-copy aria-label="Copy" class="ClipboardButton btn js-clipboard-copy m-2 p-0" data-copy-feedback="Copied!" data-tooltip-direction="w">
      <svg aria-hidden="true" height="16" viewBox="0 0 16 16" version="1.1" width="16" data-view-component="true" class="octicon octicon-copy js-clipboard-copy-icon m-2">
    <path d="M0 6.75C0 5.784.784 5 1.75 5h1.5a.75.75 0 0 1 0 1.5h-1.5a.25.25 0 0 0-.25.25v7.5c0 .138.112.25.25.25h7.5a.25.25 0 0 0 .25-.25v-1.5a.75.75 0 0 1 1.5 0v1.5A1.75 1.75 0 0 1 9.25 16h-7.5A1.75 1.75 0 0 1 0 14.25Z"></path><path d="M5 1.75C5 .784 5.784 0 6.75 0h7.5C15.216 0 16 .784 16 1.75v7.5A1.75 1.75 0 0 1 14.25 11h-7.5A1.75 1.75 0 0 1 5 9.25Zm1.75-.25a.25.25 0 0 0-.25.25v7.5c0 .138.112.25.25.25h7.5a.25.25 0 0 0 .25-.25v-7.5a.25.25 0 0 0-.25-.25Z"></path>
</svg>
      <svg aria-hidden="true" height="16" viewBox="0 0 16 16" version="1.1" width="16" data-view-component="true" class="octicon octicon-check js-clipboard-check-icon color-fg-success d-none m-2">
    <path d="M13.78 4.22a.75.75 0 0 1 0 1.06l-7.25 7.25a.75.75 0 0 1-1.06 0L2.22 9.28a.751.751 0 0 1 .018-1.042.751.751 0 0 1 1.042-.018L6 10.94l6.72-6.72a.75.75 0 0 1 1.06 0Z"></path>
</svg>
    </clipboard-copy>
  </div>
</template>
<template id="snippet-clipboard-copy-button-unpositioned">
  <div class="zeroclipboard-container">
    <clipboard-copy aria-label="Copy" class="ClipboardButton btn btn-invisible js-clipboard-copy m-2 p-0 d-flex flex-justify-center flex-items-center" data-copy-feedback="Copied!" data-tooltip-direction="w">
      <svg aria-hidden="true" height="16" viewBox="0 0 16 16" version="1.1" width="16" data-view-component="true" class="octicon octicon-copy js-clipboard-copy-icon">
    <path d="M0 6.75C0 5.784.784 5 1.75 5h1.5a.75.75 0 0 1 0 1.5h-1.5a.25.25 0 0 0-.25.25v7.5c0 .138.112.25.25.25h7.5a.25.25 0 0 0 .25-.25v-1.5a.75.75 0 0 1 1.5 0v1.5A1.75 1.75 0 0 1 9.25 16h-7.5A1.75 1.75 0 0 1 0 14.25Z"></path><path d="M5 1.75C5 .784 5.784 0 6.75 0h7.5C15.216 0 16 .784 16 1.75v7.5A1.75 1.75 0 0 1 14.25 11h-7.5A1.75 1.75 0 0 1 5 9.25Zm1.75-.25a.25.25 0 0 0-.25.25v7.5c0 .138.112.25.25.25h7.5a.25.25 0 0 0 .25-.25v-7.5a.25.25 0 0 0-.25-.25Z"></path>
</svg>
      <svg aria-hidden="true" height="16" viewBox="0 0 16 16" version="1.1" width="16" data-view-component="true" class="octicon octicon-check js-clipboard-check-icon color-fg-success d-none">
    <path d="M13.78 4.22a.75.75 0 0 1 0 1.06l-7.25 7.25a.75.75 0 0 1-1.06 0L2.22 9.28a.751.751 0 0 1 .018-1.042.751.751 0 0 1 1.042-.018L6 10.94l6.72-6.72a.75.75 0 0 1 1.06 0Z"></path>
</svg>
    </clipboard-copy>
  </div>
</template>


    <style>
      .user-mention[href$="/Dong-Den"] {
        color: var(--color-user-mention-fg);
        background-color: var(--bgColor-attention-muted, var(--color-attention-subtle));
        border-radius: 2px;
        margin-left: -2px;
        margin-right: -2px;
      }
      .user-mention[href$="/Dong-Den"]:before,
      .user-mention[href$="/Dong-Den"]:after {
        content: '';
        display: inline-block;
        width: 2px;
      }
    </style>


    </div>

    <div id="js-global-screen-reader-notice" class="sr-only mt-n1" aria-live="polite" aria-atomic="true" ></div>
    <div id="js-global-screen-reader-notice-assertive" class="sr-only mt-n1" aria-live="assertive" aria-atomic="true"></div>
  </body>
</html>

