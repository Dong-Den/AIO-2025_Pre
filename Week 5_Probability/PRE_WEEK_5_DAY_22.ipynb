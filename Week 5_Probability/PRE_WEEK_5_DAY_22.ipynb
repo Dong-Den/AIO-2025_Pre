{
  "nbformat": 4,
  "nbformat_minor": 0,
  "metadata": {
    "colab": {
      "provenance": []
    },
    "kernelspec": {
      "name": "python3",
      "display_name": "Python 3"
    },
    "language_info": {
      "name": "python"
    }
  },
  "cells": [
    {
      "cell_type": "markdown",
      "source": [
        "# **Cài đặt cây quyết định sử dụng Gini**"
      ],
      "metadata": {
        "id": "uc2tgFsT5kHs"
      }
    },
    {
      "cell_type": "code",
      "execution_count": null,
      "metadata": {
        "id": "y4-Bv5fm1XzA"
      },
      "outputs": [],
      "source": [
        "import numpy as np\n",
        "def gini_index(groups, classes):\n",
        "    total_samples= float(sum([len(group) for group in groups]))\n",
        "    gini=0.0\n",
        "    for group in groups:\n",
        "        size=float(len(group))\n",
        "        if size==0:\n",
        "            continue\n",
        "        score = 0\n",
        "        for class_val in classes:\n",
        "            proportion= [row[-1] for row in group].count(class_val)/size\n",
        "            score+=proportion**2\n",
        "        gini+=(1-score)*(size/total_samples)\n",
        "    return gini\n",
        "\n",
        "def split_data(dataset,feature_index, threshold):\n",
        "    left=[row for row in dataset if row[feature_index]<threshold]\n",
        "    right=[row for row in dataset if row[feature_index] >= threshold]\n",
        "    return left,right"
      ]
    },
    {
      "cell_type": "code",
      "source": [
        "\n",
        "# Test case\n",
        "\n",
        "dataset=[\n",
        "    [2.8,'Yes'],\n",
        "    [1.2,'No'],\n",
        "    [3.6,'Yes'],\n",
        "    [4.5,'No'],\n",
        "    [5.1, 'Yes']\n",
        "]\n",
        "\n",
        "\n",
        "\n",
        "groups=split_data(dataset,0,3.0)\n",
        "classes=['Yes', 'No']\n",
        "gini=gini_index(groups, classes)\n",
        "print(f\"Gini Index: {gini:.4f}\")"
      ],
      "metadata": {
        "colab": {
          "base_uri": "https://localhost:8080/"
        },
        "id": "O-ixCkhJAFjk",
        "outputId": "41610c1f-c279-4ae6-affc-9b3ba20c39b8"
      },
      "execution_count": null,
      "outputs": [
        {
          "output_type": "stream",
          "name": "stdout",
          "text": [
            "Gini Index: 0.4667\n"
          ]
        }
      ]
    },
    {
      "cell_type": "markdown",
      "source": [
        "# Xây dựng cây quyết định sử dụng OOP"
      ],
      "metadata": {
        "id": "fD8TzFHkYI83"
      }
    },
    {
      "cell_type": "markdown",
      "source": [
        "##Lớp TreeNode - Biểu diễn một nút trong cây"
      ],
      "metadata": {
        "id": "H3H3jymtYNOf"
      }
    },
    {
      "cell_type": "code",
      "source": [
        "class TreeNode:\n",
        "    def __init__(self, feature_index=None, threshold=None, left=None, right=None, label=None):\n",
        "        self.feature_index=feature_index\n",
        "        self.threshold=threshold\n",
        "        self.left=left\n",
        "        self.right=right\n",
        "        self.label=label"
      ],
      "metadata": {
        "id": "FizzQoHEYIjo"
      },
      "execution_count": null,
      "outputs": []
    },
    {
      "cell_type": "markdown",
      "source": [
        "## Lớp DecisionTree - Xây dựng cây quyết định"
      ],
      "metadata": {
        "id": "LdAq9IBYYlGg"
      }
    },
    {
      "cell_type": "code",
      "source": [
        "import numpy as np\n",
        "class DecisionTree:\n",
        "    def __init__(self, max_depth=3):\n",
        "        self.max_depth=max_depth\n",
        "        self.root = None\n",
        "    def gini_index(self, groups, classes):\n",
        "        total_samples= float(sum([len(group) for group in groups]))\n",
        "        gini=0.0\n",
        "        for group in groups:\n",
        "            size = len(group)\n",
        "            if size==0:\n",
        "                continue\n",
        "            score = 0\n",
        "            for class_val in classes:\n",
        "                proportion= [row[-1] for row in group].count(class_val)/size\n",
        "                score+=proportion**2\n",
        "            gini+=(1-score)*(size/total_samples)\n",
        "        return gini\n",
        "\n",
        "    def spilit_data(self, dataset, feature_index, threshold):\n",
        "        left=[row for row in dataset if row[feature_index]<threshold]\n",
        "        right=[row for row in dataset if row[feature_index] >= threshold]\n",
        "        return left,right\n",
        "\n",
        "    def best_split(self, dataset):\n",
        "        class_values=list(set(row[-1] for row in dataset))\n",
        "        best_index, best_threshold, best_score, best_groups = None, None, float('inf'), None\n",
        "        for index in range(len(dataset[0])-1):\n",
        "            for row in dataset:\n",
        "                groups=self.spilit_data(dataset, index, row[index])\n",
        "                gini=self.gini_index(groups, class_values)\n",
        "                if gini<best_score:\n",
        "                    best_index, best_threshold, best_score, best_groups= index, row[index], gini, groups\n",
        "        return best_index, best_threshold, best_groups\n",
        "\n",
        "    def build_tree(self, dataset, depth=0):\n",
        "        class_values=[row[-1] for row in dataset]\n",
        "        if len(set(class_values))==1 or depth >= self.max_depth:\n",
        "            return TreeNode(label=max(set(class_values), key=class_values.count))\n",
        "        feature_index, threshold, (left, right)=self.best_split(dataset)\n",
        "        if not left or not right:\n",
        "            return TreeNode(label=max(set(class_values), key=class_values.count))\n",
        "        left_node=self.build_tree(left, depth+1)\n",
        "        right_node=self.build_tree(right, depth+1)\n",
        "        return TreeNode(feature_index, threshold, left_node, right_node)\n",
        "\n",
        "    def fit(self, dataset):\n",
        "        self.root=self.build_tree(dataset)\n",
        "    def print_tree(self, node=None, depth=0):\n",
        "        if node is None:\n",
        "            node=self.root\n",
        "        if node.label is not None:\n",
        "            print(f\"{' ' * depth} [Leaf] Label: {node.label}\")\n",
        "        else:\n",
        "            print(f\"{' ' * depth} [Node] Feature: {node.feature_index} <= {node.threshold}\")\n",
        "            self.print_tree(node.left, depth+1)\n",
        "            self.print_tree(node.right, depth+1)\n"
      ],
      "metadata": {
        "id": "pXtqlhfDYmQ7"
      },
      "execution_count": null,
      "outputs": []
    },
    {
      "cell_type": "code",
      "source": [
        "#Test\n",
        "\n",
        "dataset = [\n",
        " [2.8, 'Yes'],\n",
        " [1.2, 'No'],\n",
        " [3.6, 'Yes'],\n",
        " [4.5, 'No'],\n",
        " [5.1, 'Yes']\n",
        " ]\n",
        "\n",
        "tree = DecisionTree(max_depth=3)\n",
        "tree.fit(dataset)\n",
        "\n",
        "print(\"Cây quyết định được xây dựng:\")\n",
        "tree.print_tree ()\n"
      ],
      "metadata": {
        "colab": {
          "base_uri": "https://localhost:8080/"
        },
        "id": "VJrTa3ZChcp2",
        "outputId": "7c4c3911-06c9-41b9-c213-87d0ebce1a25"
      },
      "execution_count": null,
      "outputs": [
        {
          "output_type": "stream",
          "name": "stdout",
          "text": [
            "Cây quyết định được xây dựng:\n",
            " [Node] Feature: 0 <= 2.8\n",
            "  [Leaf] Label: No\n",
            "  [Node] Feature: 0 <= 4.5\n",
            "   [Leaf] Label: Yes\n",
            "   [Node] Feature: 0 <= 5.1\n",
            "    [Leaf] Label: No\n",
            "    [Leaf] Label: Yes\n"
          ]
        }
      ]
    },
    {
      "cell_type": "code",
      "source": [],
      "metadata": {
        "id": "oLJwCxf8jt28"
      },
      "execution_count": null,
      "outputs": []
    },
    {
      "cell_type": "markdown",
      "source": [
        "# **Tính chỉ số Gini cho một tập dữ liệu**"
      ],
      "metadata": {
        "id": "-WNlBetaj4Zy"
      }
    },
    {
      "cell_type": "code",
      "source": [
        "import numpy as np\n",
        "def gini_index(groups, classes):\n",
        "    total_samples= float(sum([len(group) for group in groups]))\n",
        "    gini=0.0\n",
        "    for group in groups:\n",
        "        size=float(len(group))\n",
        "        if size==0:\n",
        "            continue\n",
        "        score=0\n",
        "        for c in classes:\n",
        "            proportion= [row[-1] for row in group].count(c)/size\n",
        "            score+=proportion**2\n",
        "        gini+=(1.0-score)*(size/total_samples)\n",
        "    return gini\n",
        "\n",
        "\n",
        "def split_data(dataset,feature_index, threshold):\n",
        "    left=[row for row in dataset if row[feature_index]<threshold]\n",
        "    right=[row for row in dataset if row[feature_index] >= threshold]\n",
        "    return left,right"
      ],
      "metadata": {
        "id": "Q9fs31o8j7ee"
      },
      "execution_count": null,
      "outputs": []
    },
    {
      "cell_type": "code",
      "source": [
        "dataset=[\n",
        "    [50, 'Yes'],\n",
        "    [20, 'No'],\n",
        "    [30, 'No'],\n",
        "    [70, 'Yes'],\n",
        "    [40, 'No'],\n",
        "    [60, 'Yes'],\n",
        "\n",
        "]\n",
        "\n",
        "groups=split_data(dataset,0,0)   #Gini cho toàn bộ tập dữ liệu\n",
        "classes=['Yes', 'No']\n",
        "gini=gini_index(groups, classes)\n",
        "print(f\"Gini Index: {gini:.4f}\")"
      ],
      "metadata": {
        "colab": {
          "base_uri": "https://localhost:8080/"
        },
        "id": "mC1h6uo_kC2K",
        "outputId": "8e04723f-b736-4f91-ac3d-291a2acaf952"
      },
      "execution_count": null,
      "outputs": [
        {
          "output_type": "stream",
          "name": "stdout",
          "text": [
            "Gini Index: 0.5000\n"
          ]
        }
      ]
    },
    {
      "cell_type": "code",
      "source": [
        "dataset=[\n",
        "    [50, 'Yes'],\n",
        "    [20, 'No'],\n",
        "    [30, 'No'],\n",
        "    [70, 'Yes'],\n",
        "    [40, 'No'],\n",
        "    [60, 'Yes'],\n",
        "\n",
        "]\n",
        "\n",
        "groups=split_data(dataset,0,30)   #Gini có chia nhóm theo ngưỡng\n",
        "classes=['Yes', 'No']\n",
        "gini=gini_index(groups, classes)\n",
        "print(f\"Gini Index: {gini:.4f}\")"
      ],
      "metadata": {
        "colab": {
          "base_uri": "https://localhost:8080/"
        },
        "id": "259GSi0O7cO5",
        "outputId": "a2a02dee-256b-4f9c-a094-04612cc90b8b"
      },
      "execution_count": null,
      "outputs": [
        {
          "output_type": "stream",
          "name": "stdout",
          "text": [
            "Gini Index: 0.4000\n"
          ]
        }
      ]
    },
    {
      "cell_type": "markdown",
      "source": [
        "# Mở rộng cây quyết định"
      ],
      "metadata": {
        "id": "sIHr5mEi-fCx"
      }
    },
    {
      "cell_type": "code",
      "source": [
        "import numpy as np\n",
        "\n",
        "class TreeNode:\n",
        "  def __init__(self, feature_index=None, threshold=None, left=None, right=None, label=None):\n",
        "    self.feature_index = feature_index\n",
        "    self.threshold = threshold\n",
        "    self.left = left\n",
        "    self.right = right\n",
        "    self.label = label\n",
        "\n",
        "class DecisionTree:\n",
        "  def __init__(self, max_depth=3):\n",
        "    self.max_depth = max_depth\n",
        "    self.root = None\n",
        "\n",
        "\n",
        "  def gini_index(self, groups, classes):\n",
        "    total_samples = sum([len(group) for group in groups])\n",
        "    gini = 0.0\n",
        "    for group in groups:\n",
        "      size = len(group)\n",
        "      if size == 0:\n",
        "        continue\n",
        "      score = 0.0\n",
        "      for class_val in classes:\n",
        "        proportion = [row[-1] for row in group].count(class_val) / size\n",
        "        score += proportion ** 2\n",
        "      gini += (1.0- score) * (size / total_samples)\n",
        "    return gini\n",
        "\n",
        "  def split_data(self, dataset, feature_index, threshold):\n",
        "    left = [row for row in dataset if row[feature_index] < threshold]\n",
        "    right = [row for row in dataset if row[feature_index] >= threshold]\n",
        "    return left, right\n",
        "\n",
        "  def best_split(self, dataset):\n",
        "    class_values = list(set(row[-1] for row in dataset))\n",
        "    best_index, best_threshold, best_score, best_groups = None, None,float('inf'), None\n",
        "\n",
        "    for index in range(len(dataset[0])- 1):\n",
        "      for row in dataset:\n",
        "        groups = self.split_data(dataset, index, row[index])\n",
        "        gini = self.gini_index(groups, class_values)\n",
        "        if gini < best_score:\n",
        "          best_index, best_threshold, best_score, best_groups = index, row[index], gini, groups\n",
        "    return best_index, best_threshold, best_groups\n",
        "\n",
        "  def build_tree(self, dataset, depth=0):\n",
        "    class_values = [row[-1] for row in dataset]\n",
        "    if len(set(class_values)) == 1 or depth >= self.max_depth:\n",
        "      return TreeNode(label=max(set(class_values), key=class_values.count))\n",
        "    feature_index, threshold, (left, right) = self.best_split(dataset)\n",
        "    if not left or not right:\n",
        "      return TreeNode(label=max(set(class_values), key=class_values.count))\n",
        "    left_node = self.build_tree(left, depth + 1)\n",
        "    right_node = self.build_tree(right, depth + 1)\n",
        "    return TreeNode(feature_index, threshold, left_node, right_node)\n",
        "\n",
        "  def fit(self, dataset):\n",
        "    self.root = self.build_tree(dataset)\n",
        "\n",
        "  def print_tree(self, node=None, depth=0, prefix=\"\"):\n",
        "    if node is None:\n",
        "        node = self.root\n",
        "    if node.label is not None:\n",
        "        print(f\"{prefix}└── [Leaf] Label: {node.label}\")\n",
        "    else:\n",
        "        print(f\"{prefix}├── [Node] Feature {node.feature_index} <= {node.threshold}\")\n",
        "        new_prefix = prefix + \"│   \"\n",
        "        self.print_tree(node.left, depth + 1, new_prefix)\n",
        "        self.print_tree(node.right, depth + 1, new_prefix)\n"
      ],
      "metadata": {
        "id": "fWXPgvBm-jIO"
      },
      "execution_count": null,
      "outputs": []
    },
    {
      "cell_type": "code",
      "source": [
        "dataset2 = [[50, 30, 2.8, 'Yes'],\n",
        "           [40, 70, 1.2, 'No'],\n",
        "           [30, 50, 3.6, 'Yes'],\n",
        "           [24, 10, 4.5, 'No'],\n",
        "           [70, 25, 5.1, 'Yes']]\n",
        "\n",
        "tree = DecisionTree()\n",
        "tree.fit(dataset2)\n",
        "tree.print_tree()"
      ],
      "metadata": {
        "colab": {
          "base_uri": "https://localhost:8080/"
        },
        "id": "1IlOuoelAhqA",
        "outputId": "46fd381c-1103-4e23-982e-0ea97ac86976"
      },
      "execution_count": null,
      "outputs": [
        {
          "output_type": "stream",
          "name": "stdout",
          "text": [
            "├── [Node] Feature 0 <= 50\n",
            "│   ├── [Node] Feature 0 <= 40\n",
            "│   │   ├── [Node] Feature 0 <= 30\n",
            "│   │   │   └── [Leaf] Label: No\n",
            "│   │   │   └── [Leaf] Label: Yes\n",
            "│   │   └── [Leaf] Label: No\n",
            "│   └── [Leaf] Label: Yes\n"
          ]
        }
      ]
    },
    {
      "cell_type": "code",
      "source": [
        "dataset = [[2.8, 'Yes'],\n",
        "           [1.2, 'No'],\n",
        "           [3.6, 'Yes'],\n",
        "           [4.5, 'No'],\n",
        "           [5.1, 'Yes']]\n",
        "\n",
        "tree = DecisionTree()\n",
        "tree.fit(dataset)\n",
        "tree.print_tree()"
      ],
      "metadata": {
        "colab": {
          "base_uri": "https://localhost:8080/"
        },
        "id": "XAKcQ8QPA9LR",
        "outputId": "e7c8444a-c4eb-4199-a2e9-88c6a9cee196"
      },
      "execution_count": null,
      "outputs": [
        {
          "output_type": "stream",
          "name": "stdout",
          "text": [
            "├── [Node] Feature 0 <= 2.8\n",
            "│   └── [Leaf] Label: No\n",
            "│   ├── [Node] Feature 0 <= 4.5\n",
            "│   │   └── [Leaf] Label: Yes\n",
            "│   │   ├── [Node] Feature 0 <= 5.1\n",
            "│   │   │   └── [Leaf] Label: No\n",
            "│   │   │   └── [Leaf] Label: Yes\n"
          ]
        }
      ]
    }
  ]
}