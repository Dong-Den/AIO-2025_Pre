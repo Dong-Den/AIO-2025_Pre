{
  "nbformat": 4,
  "nbformat_minor": 0,
  "metadata": {
    "colab": {
      "provenance": []
    },
    "kernelspec": {
      "name": "python3",
      "display_name": "Python 3"
    },
    "language_info": {
      "name": "python"
    }
  },
  "cells": [
    {
      "cell_type": "markdown",
      "source": [
        "# **Tree data structure**"
      ],
      "metadata": {
        "id": "rrUhwJJKn0G7"
      }
    },
    {
      "cell_type": "code",
      "execution_count": null,
      "metadata": {
        "id": "044lBIkZnoae"
      },
      "outputs": [],
      "source": [
        "# Cài đặt lớp TreeNode\n",
        "## Lớp TreeNode đại diện cho một nút trong cây\n",
        "\n",
        "class TreeNode:\n",
        "    def __init__(self, value):\n",
        "        self.value= value\n",
        "        self.children=[]\n",
        "    def add_child(self, child):\n",
        "        self.children.append(child)\n",
        "    def remove_child(self, child):\n",
        "        self.children= [ c for c in self.children if c !=child]\n",
        "    def print_tree(self, level=0):\n",
        "        print(\" \" * (level*4)+ \"|--\" + self.value)\n",
        "        for child in self.children:\n",
        "            child.print_tree(level+1)"
      ]
    },
    {
      "cell_type": "code",
      "source": [
        "#Test\n",
        "root = TreeNode(\"Root\")\n",
        "child1 = TreeNode(\"Child1\")\n",
        "child2 = TreeNode(\"Child2\")\n",
        "child1_1 = TreeNode(\"Child1_1\")\n",
        "\n",
        "root.add_child(child1)\n",
        "root.add_child(child2)\n",
        "child1.add_child(child1_1)\n",
        "\n",
        "root.print_tree()"
      ],
      "metadata": {
        "colab": {
          "base_uri": "https://localhost:8080/"
        },
        "id": "cQKb3uQstRmU",
        "outputId": "cd256e27-2f5f-4040-d2b9-1cf316e55e99"
      },
      "execution_count": null,
      "outputs": [
        {
          "output_type": "stream",
          "name": "stdout",
          "text": [
            "|--Root\n",
            "    |--Child1\n",
            "        |--Child1_1\n",
            "    |--Child2\n"
          ]
        }
      ]
    },
    {
      "cell_type": "code",
      "source": [
        "|--Root\n",
        "    |--Child1\n",
        "        |--Child1_1\n",
        "    |--Child2"
      ],
      "metadata": {
        "id": "Z7Wy2wCvuzmi"
      },
      "execution_count": null,
      "outputs": []
    },
    {
      "cell_type": "code",
      "source": [
        "# Cài đặt lớp Tree\n",
        "## Lớp Tree giúp quản lý toàn bộ cây\n",
        "\n",
        "class Tree:\n",
        "    def __init__(self, root_value):\n",
        "        self.root= TreeNode(root_value)\n",
        "    def find(self, value, node=None):\n",
        "        if node is None:\n",
        "            node=self.root\n",
        "        if node.value==value:\n",
        "            return node\n",
        "        for child in node.children:\n",
        "            found= self.find(value, child)\n",
        "            if found:\n",
        "                return found\n",
        "        return None\n",
        "    def insert(self, parent_value, child_value):\n",
        "        parent_node=self.find(parent_value)\n",
        "        if parent_node:\n",
        "            parent_node.add_child(TreeNode(child_value))\n",
        "        else:\n",
        "            print(f\"Nút cha'{parent_value}' không tồn tại.\")\n",
        "    def print_tree(self):\n",
        "        self.root.print_tree()\n"
      ],
      "metadata": {
        "id": "yyMtK3PiMfn1"
      },
      "execution_count": null,
      "outputs": []
    },
    {
      "cell_type": "code",
      "source": [
        "# Test\n",
        "\n",
        "tree = Tree(\"Root\")\n",
        "tree.insert(\"Root\", \"Child1\")\n",
        "tree.insert(\"Root\", \"Child2\")\n",
        "tree.insert(\"Child1\", \"Child1_1\")\n",
        "\n",
        "tree.print_tree()\n"
      ],
      "metadata": {
        "colab": {
          "base_uri": "https://localhost:8080/"
        },
        "id": "S5l_jV5WaT5g",
        "outputId": "5499f8fc-958a-44d6-86a9-35ebf00ca7a8"
      },
      "execution_count": null,
      "outputs": [
        {
          "output_type": "stream",
          "name": "stdout",
          "text": [
            "|--Root\n",
            "    |--Child1\n",
            "        |--Child1_1\n",
            "    |--Child2\n"
          ]
        }
      ]
    },
    {
      "cell_type": "code",
      "source": [
        "# Duyệt cây theo BFS (Breadth-First Search)\n",
        "\n",
        "## Cài đặt thuật toán BFS\n",
        "\n",
        "from collections import deque\n",
        "class Tree:\n",
        "    def __init__(self, root_value):\n",
        "        self.root= TreeNode(root_value)\n",
        "    def traverse_bfs(self):\n",
        "        if not self.root:\n",
        "            return\n",
        "        queue = deque([self.root])\n",
        "        while queue:\n",
        "            node= queue.popleft()\n",
        "            print(node.value, end=\" \")\n",
        "            for child in node.children:\n",
        "                queue.append(child)\n",
        "        print()\n"
      ],
      "metadata": {
        "id": "vzOohNWjtT5L"
      },
      "execution_count": null,
      "outputs": []
    },
    {
      "cell_type": "code",
      "source": [
        "# Test\n",
        "\n",
        "tree= Tree(\"A\")\n",
        "tree.root.add_child(TreeNode(\"B\"))\n",
        "tree.root.add_child(TreeNode(\"C\"))\n",
        "\n",
        "tree.root.children[0].add_child(TreeNode(\"D\"))\n",
        "tree.root.children[0].add_child(TreeNode(\"E\"))\n",
        "tree.root.children[1].add_child(TreeNode(\"F\"))\n",
        "\n",
        "print(\"Cây ban đầu:\")\n",
        "tree.root.print_tree()\n"
      ],
      "metadata": {
        "colab": {
          "base_uri": "https://localhost:8080/"
        },
        "id": "pPNW4Sp9zyY5",
        "outputId": "85e11bc0-6e18-4199-c44e-66ceb154a875"
      },
      "execution_count": null,
      "outputs": [
        {
          "output_type": "stream",
          "name": "stdout",
          "text": [
            "Cây ban đầu:\n",
            "|--A\n",
            "    |--B\n",
            "        |--D\n",
            "        |--E\n",
            "    |--C\n",
            "        |--F\n"
          ]
        }
      ]
    },
    {
      "cell_type": "code",
      "source": [
        "print(\"\\n Duyệt cây theo BFS:\")\n",
        "tree.traverse_bfs()"
      ],
      "metadata": {
        "colab": {
          "base_uri": "https://localhost:8080/"
        },
        "id": "_9nzqCrK1q7Z",
        "outputId": "c43ba795-5b76-4f19-d79e-6aaf38e11ac1"
      },
      "execution_count": null,
      "outputs": [
        {
          "output_type": "stream",
          "name": "stdout",
          "text": [
            "\n",
            " Duyệt cây theo BFS:\n",
            "A B C D E F \n"
          ]
        }
      ]
    },
    {
      "cell_type": "markdown",
      "source": [
        "# Cài đặt và kiểm thử\n",
        "Viết code để tạo một cây có gốc \"Company\", ...."
      ],
      "metadata": {
        "id": "Gfa_CxvE2rz2"
      }
    },
    {
      "cell_type": "code",
      "source": [
        "class TreeNode:\n",
        "    def __init__(self,value=0):\n",
        "        self.value= value\n",
        "        self.children=[]\n",
        "    def add_child(self, child):\n",
        "        self.children.append(child)\n",
        "    def print_tree(self, level=0):\n",
        "        print(\" \" * (level*4)+ \"|--\" + self.value)\n",
        "        for child in self.children:\n",
        "            child.print_tree(level+1)\n",
        "\n",
        "class Tree:\n",
        "    def __init__(self, root_value):\n",
        "        self.root= TreeNode(root_value)\n",
        "    def print_tree(self):\n",
        "        self.root.print_tree()\n",
        "\n"
      ],
      "metadata": {
        "id": "-ScR0gId2uau"
      },
      "execution_count": null,
      "outputs": []
    },
    {
      "cell_type": "code",
      "source": [
        "tree=Tree(\"Company\")\n",
        "tree.root.add_child(TreeNode(\"HR\"))\n",
        "tree.root.add_child(TreeNode(\"IT\"))\n",
        "tree.root.add_child(TreeNode(\"Finance\"))\n",
        "\n",
        "tree.root.children[0].add_child(TreeNode(\"Alice\"))\n",
        "tree.root.children[0].add_child(TreeNode(\"Bob\"))\n",
        "tree.root.children[1].add_child(TreeNode(\"Charlie\"))\n",
        "tree.root.children[1].add_child(TreeNode(\"David\"))\n",
        "\n",
        "tree.root.print_tree()"
      ],
      "metadata": {
        "colab": {
          "base_uri": "https://localhost:8080/"
        },
        "id": "Xe9dlrSD5mYt",
        "outputId": "a08a67d4-1592-4cfc-ded7-8f5d757901e1"
      },
      "execution_count": null,
      "outputs": [
        {
          "output_type": "stream",
          "name": "stdout",
          "text": [
            "|--Company\n",
            "    |--HR\n",
            "        |--Alice\n",
            "        |--Bob\n",
            "    |--IT\n",
            "        |--Charlie\n",
            "        |--David\n",
            "    |--Finance\n"
          ]
        }
      ]
    },
    {
      "cell_type": "code",
      "source": [
        "# Viết phương thức search_bfs( )trong lớp Tree và kiểm tra kết quả\n",
        "\n",
        "from collections import deque\n",
        "\n",
        "class TreeNode:\n",
        "    def __init__(self,value=0):\n",
        "        self.value= value\n",
        "        self.children=[]\n",
        "    def add_child(self, child):\n",
        "        self.children.append(child)\n",
        "    def print_tree(self, level=0):\n",
        "        print(\" \" * (level*4)+ \"|--\" + self.value)\n",
        "        for child in self.children:\n",
        "            child.print_tree(level+1)\n",
        "\n",
        "class Tree:\n",
        "    def __init__(self, root_value):\n",
        "        self.root= TreeNode(root_value)\n",
        "    def print_tree(self):\n",
        "        self.root.print_tree()\n",
        "\n",
        "    def traverse_bfs(self):\n",
        "        if not self.root:\n",
        "            return\n",
        "        queue = deque([self.root])\n",
        "        while queue:\n",
        "            node= queue.popleft()\n",
        "            print(node.value, end=\" \")\n",
        "            for child in node.children:\n",
        "                queue.append(child)\n",
        "        print()\n",
        "\n",
        "    def search_bfs(self, value):\n",
        "        queue=deque([self.root])\n",
        "        while queue:\n",
        "            node= queue.popleft()\n",
        "            if node.value==value:\n",
        "                return print(f\"Tìm thấy '{value}' trong cây.\")\n",
        "            for child in node.children:\n",
        "                queue.append(child)\n",
        "        return print(f\"Không tìm thấy '{value}' trong cây.\")\n",
        "\n",
        "    def tree_height(self):\n",
        "        if not self.root:\n",
        "            return 0\n",
        "        queue = deque([self.root])\n",
        "        height=0\n",
        "        while queue:\n",
        "            level_size= len(queue)\n",
        "            for _ in range(level_size):\n",
        "                node= queue.popleft()\n",
        "                for child in node.children:\n",
        "                    queue.append(child)\n",
        "            height +=1\n",
        "        return print(f\"Cây có chiều cao: {height}\")\n",
        "\n"
      ],
      "metadata": {
        "id": "4mikTeTY7Lag"
      },
      "execution_count": null,
      "outputs": []
    },
    {
      "cell_type": "code",
      "source": [
        "tree=Tree(\"Company\")\n",
        "tree.root.add_child(TreeNode(\"HR\"))\n",
        "tree.root.add_child(TreeNode(\"IT\"))\n",
        "tree.root.add_child(TreeNode(\"Finance\"))\n",
        "\n",
        "tree.root.children[0].add_child(TreeNode(\"Alice\"))\n",
        "tree.root.children[0].add_child(TreeNode(\"Bob\"))\n",
        "tree.root.children[1].add_child(TreeNode(\"Charlie\"))\n",
        "tree.root.children[1].add_child(TreeNode(\"David\"))\n",
        "\n",
        "tree.root.print_tree()\n",
        "\n",
        "\n",
        "\n",
        "tree.traverse_bfs()\n",
        "tree.search_bfs(\"Ha\")\n",
        "tree.tree_height()\n",
        "\n",
        "\n",
        "tree.search_bfs(\"Alice\")"
      ],
      "metadata": {
        "colab": {
          "base_uri": "https://localhost:8080/"
        },
        "id": "tLtxXYg_II_A",
        "outputId": "6ddb3b13-8ff8-4ee4-e93a-3a649205a57e"
      },
      "execution_count": null,
      "outputs": [
        {
          "output_type": "stream",
          "name": "stdout",
          "text": [
            "|--Company\n",
            "    |--HR\n",
            "        |--Alice\n",
            "        |--Bob\n",
            "    |--IT\n",
            "        |--Charlie\n",
            "        |--David\n",
            "    |--Finance\n",
            "Company HR IT Finance Alice Bob Charlie David \n",
            "Không tìm thấy 'Ha' trong cây.\n",
            "Cây có chiều cao: 3\n",
            "Tìm thấy 'Alice' trong cây.\n"
          ]
        }
      ]
    },
    {
      "cell_type": "code",
      "source": [
        "tree.search_bfs(\"Bob\")"
      ],
      "metadata": {
        "colab": {
          "base_uri": "https://localhost:8080/"
        },
        "id": "N_YpxoOaLUiR",
        "outputId": "a23e6f82-0e4d-4549-a310-78421eda3558"
      },
      "execution_count": null,
      "outputs": [
        {
          "output_type": "stream",
          "name": "stdout",
          "text": [
            "Tìm thấy 'Bob' trong cây.\n"
          ]
        }
      ]
    },
    {
      "cell_type": "code",
      "source": [
        "tree.search_bfs(\"Dong\")"
      ],
      "metadata": {
        "colab": {
          "base_uri": "https://localhost:8080/"
        },
        "id": "7hKclkk9Lb-A",
        "outputId": "46a682ef-5d28-4a97-ef9b-cb352998f671"
      },
      "execution_count": null,
      "outputs": [
        {
          "output_type": "stream",
          "name": "stdout",
          "text": [
            "Không tìm thấy 'Dong' trong cây.\n"
          ]
        }
      ]
    },
    {
      "cell_type": "code",
      "source": [
        "from collections import deque\n",
        "\n",
        "class TreeNode:\n",
        "    def __init__(self, value):\n",
        "        self.value = value\n",
        "        self.children = []\n",
        "\n",
        "    def add_child(self, child):\n",
        "        self.children.append(child)\n",
        "    def print_tree(self, level=0):\n",
        "        print(\" \" * (level*4)+ \"|--\" + self.value)\n",
        "        for child in self.children:\n",
        "            child.print_tree(level+1)\n",
        "\n",
        "class Tree:\n",
        "    def __init__(self, root_value):\n",
        "        self.root = TreeNode(root_value)\n",
        "\n",
        "    def traverse_bfs(self):\n",
        "        queue = deque([self.root])\n",
        "        while queue:\n",
        "            node = queue.popleft()\n",
        "            print(node.value)\n",
        "            queue.extend(node.children)\n",
        "\n",
        "    def search_bfs(self, value):\n",
        "        queue = deque([self.root])\n",
        "        while queue:\n",
        "            node = queue.popleft()\n",
        "            if node.value == value:\n",
        "                return True\n",
        "            queue.extend(node.children)\n",
        "        return False\n",
        "\n",
        "    def tree_height(self, node=None):\n",
        "        if node is None:\n",
        "            node = self.root\n",
        "        if not node.children:\n",
        "            return 0\n",
        "        return 1 + max(self.tree_height(child) for child in node.children)"
      ],
      "metadata": {
        "id": "we-tgc3-MVxH"
      },
      "execution_count": null,
      "outputs": []
    },
    {
      "cell_type": "code",
      "source": [
        "tree=Tree(\"Company\")\n",
        "tree.root.add_child(TreeNode(\"HR\"))\n",
        "tree.root.add_child(TreeNode(\"IT\"))\n",
        "tree.root.add_child(TreeNode(\"Finance\"))\n",
        "\n",
        "tree.root.children[0].add_child(TreeNode(\"Alice\"))\n",
        "tree.root.children[0].add_child(TreeNode(\"Bob\"))\n",
        "tree.root.children[1].add_child(TreeNode(\"Charlie\"))\n",
        "tree.root.children[1].add_child(TreeNode(\"David\"))\n",
        "\n",
        "tree.root.print_tree()\n",
        "\n",
        "\n",
        "\n",
        "tree.traverse_bfs()\n",
        "tree.search_bfs(\"Ha\")\n",
        "tree.tree_height()\n",
        "\n",
        "\n",
        "tree.search_bfs(\"Alice\")"
      ],
      "metadata": {
        "colab": {
          "base_uri": "https://localhost:8080/"
        },
        "id": "TN88tnJtMZDr",
        "outputId": "6f855f50-8284-4b58-ca03-bb8141bb855d"
      },
      "execution_count": null,
      "outputs": [
        {
          "output_type": "stream",
          "name": "stdout",
          "text": [
            "|--Company\n",
            "    |--HR\n",
            "        |--Alice\n",
            "        |--Bob\n",
            "    |--IT\n",
            "        |--Charlie\n",
            "        |--David\n",
            "    |--Finance\n",
            "Company\n",
            "HR\n",
            "IT\n",
            "Finance\n",
            "Alice\n",
            "Bob\n",
            "Charlie\n",
            "David\n"
          ]
        },
        {
          "output_type": "execute_result",
          "data": {
            "text/plain": [
              "True"
            ]
          },
          "metadata": {},
          "execution_count": 60
        }
      ]
    }
  ]
}