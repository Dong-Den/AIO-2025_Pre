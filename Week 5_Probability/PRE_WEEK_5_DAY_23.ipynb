{
  "nbformat": 4,
  "nbformat_minor": 0,
  "metadata": {
    "colab": {
      "provenance": []
    },
    "kernelspec": {
      "name": "python3",
      "display_name": "Python 3"
    },
    "language_info": {
      "name": "python"
    }
  },
  "cells": [
    {
      "cell_type": "markdown",
      "source": [
        "# P= không gian nghiệm/ không gian mẫu"
      ],
      "metadata": {
        "id": "fz9y3c_26bQi"
      }
    },
    {
      "cell_type": "code",
      "execution_count": null,
      "metadata": {
        "id": "8tp5NZhH3Y4r"
      },
      "outputs": [],
      "source": [
        "# 1. Một túi có 3 quả bóng đỏ và 5 quả bóng xanh. Xác suất rút được một quả bóng đỏ là bao nhiêu?\n",
        "3/8"
      ]
    },
    {
      "cell_type": "code",
      "source": [
        "# 2. Một con súc sắc sáu mặt được tung. Xác suất để số điểm là số chẵn?\n",
        "3/6 = 1/2"
      ],
      "metadata": {
        "id": "nsM9aOgP4NJr"
      },
      "execution_count": null,
      "outputs": []
    },
    {
      "cell_type": "code",
      "source": [
        "#3. Từ bộ bài 52 lá, xác suất để rút được một lá bài là quân bích?\n",
        "13/52 = 1/4"
      ],
      "metadata": {
        "id": "9o6quAJm4YUK"
      },
      "execution_count": null,
      "outputs": []
    },
    {
      "cell_type": "code",
      "source": [
        "# 4. Một hộp chứa 10 viên kẹo, trong đó có 7 viên kẹo vị dâu và 3 viên kẹo vị nho. Xác suất để lấy được viên kẹo vị nho?\n",
        "3/10\n"
      ],
      "metadata": {
        "id": "-2VlLX8m6BjB"
      },
      "execution_count": null,
      "outputs": []
    },
    {
      "cell_type": "code",
      "source": [
        "# 5. Xác suất để một người chọn ngẫu nhiên sinh vào tháng 5?\n",
        "1/12"
      ],
      "metadata": {
        "id": "tauedhLj6YiK"
      },
      "execution_count": null,
      "outputs": []
    },
    {
      "cell_type": "markdown",
      "source": [
        "# 𝑃 (𝐴| 𝐵)  = 𝑃(𝐴 ∩ 𝐵) / 𝑃(𝐵)"
      ],
      "metadata": {
        "id": "0UEfCtJY8lgF"
      }
    },
    {
      "cell_type": "code",
      "source": [
        "# Xác suất để một học sinh học giỏi toán (A) là 0.7. Xác suất để học sinh đó cũng học giỏi lý (B) là 0.6. Xác suất để học sinh học giỏi cả hai môn (A và B) là 0.5. Tìm xác suất để học sinh học giỏi lý biết rằng học sinh đó học giỏi toán.\n",
        "P (L|T) = P(L∩T)/P(T) = 0.5/0.7 = 0.714 =5/7\n"
      ],
      "metadata": {
        "id": "oqKrI_PB6g53"
      },
      "execution_count": null,
      "outputs": []
    },
    {
      "cell_type": "code",
      "source": [
        "# Xác suất để một học sinh học giỏi toán (A) là 0.7. Xác suất để học sinh đó cũng học giỏi lý (B) là 0.6. Xác suất để học sinh học giỏi cả hai môn (A và B) là 0.5. Tìm xác suất để học sinh học giỏi lý biết rằng học sinh đó học giỏi toán.\n",
        "P (T|L) = P(T∩L)/P(L) = 0.2/0.4=1/2 =0.5"
      ],
      "metadata": {
        "id": "dUjPYTW79A0U"
      },
      "execution_count": null,
      "outputs": []
    },
    {
      "cell_type": "markdown",
      "source": [
        "# Phần bù: P(Ac) = 1 – P(A)"
      ],
      "metadata": {
        "id": "6_s9r_8o-PIj"
      }
    },
    {
      "cell_type": "code",
      "source": [
        "# 8. Một túi có 5 quả táo và 3 quả cam. Rút ngẫu nhiên một quả và biết rằng quả đó là\n",
        "quả cam, xác suất để rút được một quả táo?\n",
        "\n",
        "P(cam) = 1\n",
        "P(táo) =1 - P(cam) = 1-1 = 0"
      ],
      "metadata": {
        "id": "qHoMDgV79pNX"
      },
      "execution_count": null,
      "outputs": []
    },
    {
      "cell_type": "code",
      "source": [
        "# 9. Một công ty có 60% nhân viên nam và 40% nhân viên nữ. Xác suất để một nhân viên\n",
        "nữ được thăng chức là 30%, và xác suất để một nhân viên nam được thăng chức là\n",
        "20%. Tìm xác suất để một nhân viên được thăng chức biết rằng đó là nhân viên nữ.\n",
        "P(nữ thăng chức) = P(thăng chức|nữ)= 0.3"
      ],
      "metadata": {
        "id": "nV5GUjTk_RT8"
      },
      "execution_count": null,
      "outputs": []
    },
    {
      "cell_type": "code",
      "source": [
        "# 10. Xác suất để một sinh viên đậu một môn thi là 0.8. Xác suất để sinh viên đó đậu cả\n",
        "hai môn thi là 0.6. Tìm xác suất để sinh viên đậu môn thứ hai biết rằng đã đậu môn\n",
        "thứ nhất\n",
        "\n",
        "P(đậu môn 2|đậu môn 1) = P(đậu môn 2∩đậu môn 1)/P(đậu môn 1) = 0.6/0.8 = 0.75"
      ],
      "metadata": {
        "id": "LH286xNcAyAx"
      },
      "execution_count": null,
      "outputs": []
    },
    {
      "cell_type": "code",
      "source": [
        "# 11. Có một túi gồm 4 viên kẹo đỏ và 6 viên kẹo xanh. Một viên kẹo được chọn ngẫu nhiên\n",
        "và thấy là kẹo đỏ. Tìm xác suất túi còn lại có 5 viên kẹo đỏ và 5 viên kẹo xanh\n",
        "\n",
        "Chưa biết túi còn lại là túi nào"
      ],
      "metadata": {
        "id": "g54tD-1VBAFj"
      },
      "execution_count": null,
      "outputs": []
    },
    {
      "cell_type": "markdown",
      "source": [
        "# Bayes’ Rule\n",
        "P Ai|H = P(Ai) * P(H|Ai) / P(H) = P (Ai)* P(H|Ai) / ∑ P(Aj) * P(H|Aj)"
      ],
      "metadata": {
        "id": "X4HD2sBCH6A7"
      }
    },
    {
      "cell_type": "code",
      "source": [
        "# 12. Một bác sĩ cho biết có xác suất 5% để một bệnh nhân có bệnh (khi kết quả xét nghiệm\n",
        "là dương tính : vế này nên bỏ ). Xác suất để xét nghiệm dương tính khi bệnh nhân thực sự có bệnh là\n",
        "95%, và xác suất để xét nghiệm dương tính khi bệnh nhân không có bệnh là 1%. Tìm\n",
        "xác suất thực sự có bệnh khi xét nghiệm dương tính.\n",
        "\n",
        "P(B) = 0.05  ; P(k)= 0.95\n",
        "P(+|B) = 0.95; P(+|k) = 0.01\n",
        "\n",
        "P(+) = P(B) * P(+|B) + P(k) * P(+|k) = 0.05 * 0.95 + 0.95 * 0.01 = 0.057\n",
        "\n",
        "P(B|+) = P(B) * P(+|B) / P(+) = 0.05 * 0.95 / 0.057 = 0.833\n"
      ],
      "metadata": {
        "id": "jVnSdATOBfNQ"
      },
      "execution_count": null,
      "outputs": []
    },
    {
      "cell_type": "code",
      "source": [
        "# 13. Một người bạn của bạn có 60% khả năng xuất hiện tại một buổi tiệc nếu trời mưa và\n",
        "30% nếu trời không mưa. Biết rằng xác suất trời mưa là 20%, xác suất người đó sẽ\n",
        "đến tiệc là bao nhiêu?\n",
        "\n",
        "P(m) = 0.2;  P(k)= 0.8\n",
        "P(xh|m)= 0.6; P(xh|k)= 0.3\n",
        "\n",
        "P(xh)= P(m) * P(xh|m) + P(k) * P(xk|k) = 0.2 * 0.6 + 0.8* 0.3 = 0.36"
      ],
      "metadata": {
        "id": "BQeFJSokJrB3"
      },
      "execution_count": null,
      "outputs": []
    },
    {
      "cell_type": "code",
      "source": [
        "# 14. Trong một lớp học, 30% học sinh sử dụng máy tính xách tay, và trong số những học\n",
        "sinh này, 70% là nữ. Trong số những học sinh không sử dụng máy tính xách tay, 50%\n",
        "là nữ. Tìm xác suất để một học sinh sử dụng máy tính xách tay biết rằng học sinh đó\n",
        "là nữ.\n",
        "\n",
        "P(m)= 0.3;  P(k)= 0.7\n",
        "P(n|m)= 0.7; P(n|k)= 0.5\n",
        "\n",
        "P(n)= P(m) * P(n|m) + P(k) * P(n|k) = 0.3* 0.7 + 0.7* 0.5 = 0.56\n",
        "P(m|n) = P(m) * P(n|m) / P(n) = 0.3 * 0.7 / 0.56 = 0.375"
      ],
      "metadata": {
        "id": "a2OK9lU1LnG3"
      },
      "execution_count": null,
      "outputs": []
    },
    {
      "cell_type": "code",
      "source": [
        "# 15. Một bài kiểm tra y tế có độ nhạy (sensitivity) là 99% và độ đặc hiệu (specificity) là\n",
        "95%. Xác suất mắc bệnh là 1%. Tìm xác suất để một người có kết quả dương tính\n",
        "thực sự mắc bệnh.\n",
        "\n",
        "Độ nhạy(sensitivity):Là xác suất để một người thực sự mắc bệnh và có kết quả xét nghiệm dương tính: P(+|B) Xác suất xét nghiệm dương tính khi bệnh nhân thực sự có bệnh\n",
        "\n",
        "Độ đặc hiệu (specificity): Là xác suất để một người không mắc bệnh và có kết quả xét nghiệm âm tính. P(-|-B) Xác suất xét nghiệm âm tính khi bệnh nhân không có bệnh\n",
        "\n",
        "Xác suất mắc bệnh (prevalence): Xác suất một người trong tổng thể có bệnh: P(B) Xác suất một người có bệnh\n",
        "\n",
        "Xác suất không mắc bệnh là P(-B) = 1 - P(B)\n",
        "\n",
        "Tính xác suất để một người có kết quả dương tính thực sự mắc bệnh, tức là P(B|+) (xác suất một người có bệnh khi xét nghiệm dương tính)\n",
        "\n",
        "P(B|+)= P(+|B) * P(B) / P(T) = P(+|B) * P(B)  /  (P(B) * P(+|B) + P(-B) * P(+|-B))\n",
        "\n",
        "\n",
        "\n",
        "P(B)= 0.01;  P(-B)= 0.99\n",
        "P(+|B)= 0.99; P(-|-B)= 0.95 => P(+|-B)= 1- P(-|-B) = 0.05\n",
        "\n",
        "P(B|+)= P(B) * P(+|B) / P(+)\n",
        "P(+) = P(B) * P(+|B) + P(-B) * P(+|-B) = 0.01 * 0.99 + 0.99 * 0.05 = 0.0594\n",
        "=> P(B|+)= 0.01 * 0.99 / 0.0594 = 0.1667\n"
      ],
      "metadata": {
        "id": "Um1ZL2vJNNCE"
      },
      "execution_count": null,
      "outputs": []
    },
    {
      "cell_type": "code",
      "source": [
        "# 16. Cho biết phân phối chuẩn có trung bình là 0 và độ lệch chuẩn là 1. Tính xác suất để một biến ngẫu nhiên chuẩn nhận giá trị lớn hơn 1\n",
        "\n",
        "import scipy.stats as stats\n",
        "\n",
        "# Xác suất P(Z > 1) đối với phân phối chuẩn chuẩn hóa\n",
        "p_z_greater_than_1 = 1 - stats.norm.cdf(1)\n",
        "\n",
        "print(p_z_greater_than_1)"
      ],
      "metadata": {
        "colab": {
          "base_uri": "https://localhost:8080/"
        },
        "id": "XaexwRvVYdZK",
        "outputId": "712154f3-3850-4772-942e-dc1c336fd9fe"
      },
      "execution_count": null,
      "outputs": [
        {
          "output_type": "stream",
          "name": "stdout",
          "text": [
            "0.15865525393145707\n"
          ]
        }
      ]
    },
    {
      "cell_type": "code",
      "source": [
        "# 17. Một biến ngẫu nhiên X có phân phối chuẩn với trung bình 100 và độ lệch chuẩn 15. Tính xác suất để X nằm trong khoảng từ 85 đến 115.\n",
        "\n",
        "import scipy.stats as stats\n",
        "\n",
        "# Thông số của phân phối chuẩn\n",
        "mu = 100  # Trung bình\n",
        "sigma = 15  # Độ lệch chuẩn\n",
        "\n",
        "# Chuẩn hóa các giá trị X = 85 và X = 115\n",
        "z1 = (85 - mu) / sigma\n",
        "z2 = (115 - mu) / sigma\n",
        "\n",
        "# Tính xác suất P(85 <= X <= 115)\n",
        "p = stats.norm.cdf(z2) - stats.norm.cdf(z1)\n",
        "\n",
        "print(p)  # Kết quả xác suất P(85 <= X <= 115)"
      ],
      "metadata": {
        "colab": {
          "base_uri": "https://localhost:8080/"
        },
        "id": "c_P56Hw4Zyg3",
        "outputId": "63d6ffbf-bfa3-47c6-a7aa-590086f08141"
      },
      "execution_count": null,
      "outputs": [
        {
          "output_type": "stream",
          "name": "stdout",
          "text": [
            "0.6826894921370859\n"
          ]
        }
      ]
    },
    {
      "cell_type": "code",
      "source": [
        "# 18. Xác suất để một biến ngẫu nhiên chuẩn nhận giá trị nhỏ hơn -2?\n",
        "\n",
        "# Phân phối chuẩn chuẩn hóa có trung bình bằng 0 và độ lệch chuẩn bằng 1, Ký hiệu của biến ngẫu nhiên này là Z ~ N(0, 1).\n",
        "# Hàm trả về xác suất một giá trị ngẫu nhiên Z từ phân phối chuẩn đã được chuẩn hóa sẽ nhỏ hơn hoặc bằng giá trị được chỉ định.\n",
        "# Cumulative Distribution Function (Hàm phân phối tích lũy).\n",
        "\n",
        "import scipy.stats as stats\n",
        "\n",
        "# Xác suất P(Z < -2) đối với phân phối chuẩn chuẩn hóa\n",
        "p_z_less_than_minus_2 = stats.norm.cdf(-2)\n",
        "\n",
        "print(p_z_less_than_minus_2)"
      ],
      "metadata": {
        "colab": {
          "base_uri": "https://localhost:8080/"
        },
        "id": "UrJr4ghab5l1",
        "outputId": "6f2b116b-8c18-4ff0-8a64-a074522045f5"
      },
      "execution_count": null,
      "outputs": [
        {
          "output_type": "stream",
          "name": "stdout",
          "text": [
            "0.022750131948179195\n"
          ]
        }
      ]
    },
    {
      "cell_type": "code",
      "source": [
        "# 19. Một bài kiểm tra có điểm trung bình là 75 và độ lệch chuẩn là 10. Tính xác suất để một học sinh đạt điểm trên 90.\n",
        "\n",
        "import scipy.stats as stats\n",
        "\n",
        "# Thông số của phân phối chuẩn\n",
        "mu = 75  # Trung bình\n",
        "sigma = 10  # Độ lệch chuẩn\n",
        "\n",
        "# Chuẩn hóa giá trị X = 90\n",
        "z = (90 - mu) / sigma\n",
        "\n",
        "# Tính xác suất P(X > 90)\n",
        "p = 1 - stats.norm.cdf(z)\n",
        "\n",
        "print(p)  # Kết quả xác suất P(X > 90)"
      ],
      "metadata": {
        "colab": {
          "base_uri": "https://localhost:8080/"
        },
        "id": "rbaJPPELctm1",
        "outputId": "b3239ba3-5637-4930-a373-6c55c8587e12"
      },
      "execution_count": null,
      "outputs": [
        {
          "output_type": "stream",
          "name": "stdout",
          "text": [
            "0.06680720126885809\n"
          ]
        }
      ]
    },
    {
      "cell_type": "code",
      "source": [
        "# 20. Trong một kỳ thi, điểm của các sinh viên tuân theo phân phối chuẩn với trung bình 70 và độ lệch chuẩn 8. Tính xác suất để điểm số của một sinh viên nằm giữa 65 và 75\n",
        "\n",
        "import scipy.stats as stats\n",
        "mu=70\n",
        "sigma=8\n",
        "z1=(65-mu)/sigma\n",
        "z2=(75-mu)/sigma\n",
        "p=stats.norm.cdf(z2)-stats.norm.cdf(z1)\n",
        "print(p)"
      ],
      "metadata": {
        "colab": {
          "base_uri": "https://localhost:8080/"
        },
        "id": "xG9ztOXvd5A6",
        "outputId": "7db5108e-78c6-4f75-b167-fec830144e68"
      },
      "execution_count": null,
      "outputs": [
        {
          "output_type": "stream",
          "name": "stdout",
          "text": [
            "0.4680289419025989\n"
          ]
        }
      ]
    }
  ]
}