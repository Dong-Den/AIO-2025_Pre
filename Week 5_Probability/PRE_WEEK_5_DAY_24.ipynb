{
  "nbformat": 4,
  "nbformat_minor": 0,
  "metadata": {
    "colab": {
      "provenance": []
    },
    "kernelspec": {
      "name": "python3",
      "display_name": "Python 3"
    },
    "language_info": {
      "name": "python"
    }
  },
  "cells": [
    {
      "cell_type": "markdown",
      "source": [
        "# Xác Suất Cơ Bản:\n",
        "Viết một hàm Python để tính xác suất của một sự kiện dựa trên số lần sự kiện xảy ra và tổng số lần thử nghiệm."
      ],
      "metadata": {
        "id": "_IDrgybxmg0w"
      }
    },
    {
      "cell_type": "code",
      "execution_count": null,
      "metadata": {
        "colab": {
          "base_uri": "https://localhost:8080/"
        },
        "id": "IFD4MT8JltcE",
        "outputId": "ee76ce02-59bb-4878-924b-992e18d241ad"
      },
      "outputs": [
        {
          "output_type": "stream",
          "name": "stdout",
          "text": [
            "Xác suất của sự kiện là: 0.25\n"
          ]
        }
      ],
      "source": [
        "def calculate_probability(event_occurrences, total_trials):\n",
        "    return event_occurrences / total_trials\n",
        "\n",
        "#Test\n",
        "event_occurrences = 5\n",
        "total_trials = 20\n",
        "probability = calculate_probability(event_occurrences, total_trials)\n",
        "print(f\"Xác suất của sự kiện là: {probability}\")"
      ]
    },
    {
      "cell_type": "markdown",
      "source": [
        "# Xác Suất Có Điều Kiện\n",
        "Viết một hàm Python để tính xác suất có điều kiện P(B|A)"
      ],
      "metadata": {
        "id": "6FbmTsj0nrh3"
      }
    },
    {
      "cell_type": "code",
      "source": [
        "def calculate_conditional_probability(P_A_and_B, P_A):\n",
        "    if P_A == 0:\n",
        "        raise ValueError(\"P(A) không thể bằng 0\")\n",
        "    return P_A_and_B / P_A\n",
        "\n",
        "#Test\n",
        "P_A_and_B = 0.2\n",
        "P_A = 0.5\n",
        "P_B_given_A = calculate_conditional_probability(P_A_and_B, P_A)\n",
        "print(f\"Xác suất có điều kiện P(B|A) là: {P_B_given_A}\")"
      ],
      "metadata": {
        "colab": {
          "base_uri": "https://localhost:8080/"
        },
        "id": "s__BBWfSnxiW",
        "outputId": "28edfa4f-ac11-4e0b-9741-3e089a8bcf77"
      },
      "execution_count": null,
      "outputs": [
        {
          "output_type": "stream",
          "name": "stdout",
          "text": [
            "Xác suất có điều kiện P(B|A) là: 0.4\n"
          ]
        }
      ]
    },
    {
      "cell_type": "code",
      "source": [
        "P_A_and_B = 0.2\n",
        "P_A = 0\n",
        "P_B_given_A = calculate_conditional_probability(P_A_and_B, P_A)\n",
        "print(f\"Xác suất có điều kiện P(B|A) là: {P_B_given_A}\")"
      ],
      "metadata": {
        "colab": {
          "base_uri": "https://localhost:8080/",
          "height": 315
        },
        "id": "eCmVnTp2pVot",
        "outputId": "d9394a0a-bb04-4436-b43a-558dbe8174ef"
      },
      "execution_count": null,
      "outputs": [
        {
          "output_type": "error",
          "ename": "ValueError",
          "evalue": "P(A) không thể bằng 0",
          "traceback": [
            "\u001b[0;31m---------------------------------------------------------------------------\u001b[0m",
            "\u001b[0;31mValueError\u001b[0m                                Traceback (most recent call last)",
            "\u001b[0;32m<ipython-input-9-db3b17d4e0f5>\u001b[0m in \u001b[0;36m<cell line: 0>\u001b[0;34m()\u001b[0m\n\u001b[1;32m      1\u001b[0m \u001b[0mP_A_and_B\u001b[0m \u001b[0;34m=\u001b[0m \u001b[0;36m0.2\u001b[0m\u001b[0;34m\u001b[0m\u001b[0;34m\u001b[0m\u001b[0m\n\u001b[1;32m      2\u001b[0m \u001b[0mP_A\u001b[0m \u001b[0;34m=\u001b[0m \u001b[0;36m0\u001b[0m\u001b[0;34m\u001b[0m\u001b[0;34m\u001b[0m\u001b[0m\n\u001b[0;32m----> 3\u001b[0;31m \u001b[0mP_B_given_A\u001b[0m \u001b[0;34m=\u001b[0m \u001b[0mcalculate_conditional_probability\u001b[0m\u001b[0;34m(\u001b[0m\u001b[0mP_A_and_B\u001b[0m\u001b[0;34m,\u001b[0m \u001b[0mP_A\u001b[0m\u001b[0;34m)\u001b[0m\u001b[0;34m\u001b[0m\u001b[0;34m\u001b[0m\u001b[0m\n\u001b[0m\u001b[1;32m      4\u001b[0m \u001b[0mprint\u001b[0m\u001b[0;34m(\u001b[0m\u001b[0;34mf\"Xác suất có điều kiện P(B|A) là: {P_B_given_A}\"\u001b[0m\u001b[0;34m)\u001b[0m\u001b[0;34m\u001b[0m\u001b[0;34m\u001b[0m\u001b[0m\n",
            "\u001b[0;32m<ipython-input-8-a30b054e757c>\u001b[0m in \u001b[0;36mcalculate_conditional_probability\u001b[0;34m(P_A_and_B, P_A)\u001b[0m\n\u001b[1;32m      1\u001b[0m \u001b[0;32mdef\u001b[0m \u001b[0mcalculate_conditional_probability\u001b[0m\u001b[0;34m(\u001b[0m\u001b[0mP_A_and_B\u001b[0m\u001b[0;34m,\u001b[0m \u001b[0mP_A\u001b[0m\u001b[0;34m)\u001b[0m\u001b[0;34m:\u001b[0m\u001b[0;34m\u001b[0m\u001b[0;34m\u001b[0m\u001b[0m\n\u001b[1;32m      2\u001b[0m     \u001b[0;32mif\u001b[0m \u001b[0mP_A\u001b[0m \u001b[0;34m==\u001b[0m \u001b[0;36m0\u001b[0m\u001b[0;34m:\u001b[0m\u001b[0;34m\u001b[0m\u001b[0;34m\u001b[0m\u001b[0m\n\u001b[0;32m----> 3\u001b[0;31m         \u001b[0;32mraise\u001b[0m \u001b[0mValueError\u001b[0m\u001b[0;34m(\u001b[0m\u001b[0;34m\"P(A) không thể bằng 0\"\u001b[0m\u001b[0;34m)\u001b[0m\u001b[0;34m\u001b[0m\u001b[0;34m\u001b[0m\u001b[0m\n\u001b[0m\u001b[1;32m      4\u001b[0m     \u001b[0;32mreturn\u001b[0m \u001b[0mP_A_and_B\u001b[0m \u001b[0;34m/\u001b[0m \u001b[0mP_A\u001b[0m\u001b[0;34m\u001b[0m\u001b[0;34m\u001b[0m\u001b[0m\n\u001b[1;32m      5\u001b[0m \u001b[0;34m\u001b[0m\u001b[0m\n",
            "\u001b[0;31mValueError\u001b[0m: P(A) không thể bằng 0"
          ]
        }
      ]
    },
    {
      "cell_type": "markdown",
      "source": [
        "# Covariance và Correlation\n",
        "Viết một hàm Python để tính covariance và correlation giữa hai biến số."
      ],
      "metadata": {
        "id": "BQIsUblippfu"
      }
    },
    {
      "cell_type": "code",
      "source": [
        "import numpy as np\n",
        "\n",
        "def calculate_covariance(x, y):\n",
        "    if len(x) != len(y):\n",
        "        raise ValueError(\"Hai danh sách phải có cùng độ dài\")\n",
        "    n = len(x)\n",
        "    mean_x = np.mean(x)\n",
        "    mean_y = np.mean(y)\n",
        "    covariance = np.sum((x - mean_x) * (y - mean_y)) / (n - 1)\n",
        "    return covariance\n",
        "\n",
        "def calculate_correlation(x, y):\n",
        "    if len(x) != len(y):\n",
        "        raise ValueError(\"Hai danh sách phải có cùng độ dài\")\n",
        "    covariance = calculate_covariance(x, y)\n",
        "    std_dev_x = np.std(x, ddof=1)  # Sử dụng ddof=1 cho mẫu chuẩn\n",
        "    std_dev_y = np.std(y, ddof=1)\n",
        "    if std_dev_x == 0 or std_dev_y == 0:\n",
        "        return 0  # Tránh lỗi chia cho 0 nếu độ lệch chuẩn là 0\n",
        "    correlation = covariance / (std_dev_x * std_dev_y)\n",
        "    return correlation\n",
        "\n",
        "# Ví dụ sử dụng\n",
        "x = [2,4,6,8,10]\n",
        "y = [1,3,5,7,9]\n",
        "\n",
        "covariance = calculate_covariance(x, y)\n",
        "correlation = calculate_correlation(x, y)\n",
        "\n",
        "print(f\"Covariance giữa x và y là: {covariance}\")\n",
        "print(f\"Correlation giữa x và y là: {correlation}\")\n"
      ],
      "metadata": {
        "colab": {
          "base_uri": "https://localhost:8080/"
        },
        "id": "7vykdhQ-reL5",
        "outputId": "4ee547b8-732f-4bd0-9c58-cc5d711cc429"
      },
      "execution_count": null,
      "outputs": [
        {
          "output_type": "stream",
          "name": "stdout",
          "text": [
            "Covariance giữa x và y là: 10.0\n",
            "Correlation giữa x và y là: 0.9999999999999998\n"
          ]
        }
      ]
    }
  ]
}