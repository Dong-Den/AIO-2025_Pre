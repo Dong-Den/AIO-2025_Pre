{
  "nbformat": 4,
  "nbformat_minor": 0,
  "metadata": {
    "colab": {
      "provenance": []
    },
    "kernelspec": {
      "name": "python3",
      "display_name": "Python 3"
    },
    "language_info": {
      "name": "python"
    }
  },
  "cells": [
    {
      "cell_type": "markdown",
      "source": [
        "## **Viết các function trong Python, cài đặt các phương pháp tính khoảng cách** ##"
      ],
      "metadata": {
        "id": "r6s_xSuwFkBw"
      }
    },
    {
      "cell_type": "markdown",
      "source": [
        "#### Bài 1: Euclidean và Manhattan Distance"
      ],
      "metadata": {
        "id": "azlLCFAVFwSj"
      }
    },
    {
      "cell_type": "code",
      "execution_count": 6,
      "metadata": {
        "colab": {
          "base_uri": "https://localhost:8080/"
        },
        "id": "KLLn5h_6BRw5",
        "outputId": "4fec893f-7ec3-4045-a841-c37bdfeafd99"
      },
      "outputs": [
        {
          "output_type": "stream",
          "name": "stdout",
          "text": [
            "5.196152422706632\n",
            "5.196152422706632 \n",
            "\n",
            "9\n",
            "9\n"
          ]
        }
      ],
      "source": [
        "import numpy as np\n",
        "def euclidean_distance(x1, x2):\n",
        "    x1= np.array(x1)\n",
        "    x2=np.array(x2)\n",
        "    return np.sqrt(np.sum((x1-x2)**2))\n",
        "\n",
        "def euclidean_distance_for(point1, point2):\n",
        "    distance_euc = 0\n",
        "    for i in range(len(point1)):\n",
        "        distance_euc += (point1[i] - point2[i]) ** 2\n",
        "    return distance_euc ** 0.5\n",
        "\n",
        "def manhattan_distance(x1, x2):\n",
        "    x1= np.array(x1)\n",
        "    x2= np.array(x2)\n",
        "    return np.sum(np.abs(x1-x2))\n",
        "\n",
        "def manhattan_distance_for(point11, point22):\n",
        "    distance_man = 0\n",
        "    for i in range(len(point11)):\n",
        "        distance_man += abs(point11[i] - point22[i])\n",
        "    return distance_man\n",
        "\n",
        "\n",
        "#Test\n",
        "x1=[1,2,3]\n",
        "x2=[4,5,6]\n",
        "print(euclidean_distance(x1,x2))\n",
        "print(euclidean_distance_for(x1,x2),'\\n')\n",
        "\n",
        "print(manhattan_distance(x1, x2))\n",
        "print(manhattan_distance_for(x1, x2))\n"
      ]
    },
    {
      "cell_type": "markdown",
      "source": [
        "### Bài 2: Cosine Similarity và Distance ##"
      ],
      "metadata": {
        "id": "m00oxbsMPZrl"
      }
    },
    {
      "cell_type": "code",
      "source": [
        "import numpy as np\n",
        "\n",
        "def cosine_similarity(x1, x2):\n",
        "    x1 = np.array(x1)\n",
        "    x2 = np.array(x2)\n",
        "\n",
        "    dot_product = np.dot(x1, x2)\n",
        "    magnitude1 = np.sqrt(np.sum(x1**2))\n",
        "    magnitude2 = np.sqrt(np.sum(x2**2))\n",
        "\n",
        "    if magnitude1 == 0 or magnitude2 == 0:\n",
        "        return 0\n",
        "    return dot_product / (magnitude1 * magnitude2)\n",
        "\n",
        "def cosine_distance(x1, x2):\n",
        "    return 1 - cosine_similarity(x1, x2)\n",
        "\n",
        "# Test\n",
        "x1 = [1, 2, 3]\n",
        "x2 = [4, 5, 6]\n",
        "print(cosine_similarity(x1, x2))\n",
        "print(cosine_distance(x1, x2))\n",
        "\n",
        "cos_sim = cosine_similarity(x1, x2)\n",
        "cos_dist = cosine_distance(x1, x2)\n",
        "\n",
        "print(f\"Cosine Similarity:, {cos_sim:.4f}\")\n",
        "print(f\"Cosine Distance:, {cos_dist:.4f}\")"
      ],
      "metadata": {
        "colab": {
          "base_uri": "https://localhost:8080/"
        },
        "id": "6siLuMBOH94o",
        "outputId": "7e62927a-e12b-464a-87d1-1109e908d65a"
      },
      "execution_count": 4,
      "outputs": [
        {
          "output_type": "stream",
          "name": "stdout",
          "text": [
            "0.9746318461970762\n",
            "0.025368153802923787\n",
            "Cosine Similarity:, 0.9746\n",
            "Cosine Distance:, 0.0254\n"
          ]
        }
      ]
    },
    {
      "cell_type": "markdown",
      "source": [
        "### Bài 3: So sánh các loại khoảng cách"
      ],
      "metadata": {
        "id": "eK6SPl85Lc-K"
      }
    },
    {
      "cell_type": "code",
      "source": [
        "import numpy as np\n",
        "x = np.array([5,8,2])\n",
        "y = np.array([3,5,4])\n",
        "euclidean_dist = np.sqrt(np.sum((x-y)**2))\n",
        "manhattan_dist = np.sum(np.abs(x-y))\n",
        "chebyshev_dist = np.max(np.abs(x-y))\n",
        "\n",
        "print(\"Vector x:\", x)\n",
        "print(\"Vector y:\", y)\n",
        "print(f\"\\nEuclidean disrance: {euclidean_dist:.4f}\")\n",
        "print(f\"Manhattan distance: {manhattan_dist:.4f}\")\n",
        "print(f\"Chebyshev distance: {chebyshev_dist:.4f}\")"
      ],
      "metadata": {
        "colab": {
          "base_uri": "https://localhost:8080/"
        },
        "id": "Orx4d98fLglH",
        "outputId": "6a10e0e9-6f88-4786-bc89-f74c05a9fe40"
      },
      "execution_count": 8,
      "outputs": [
        {
          "output_type": "stream",
          "name": "stdout",
          "text": [
            "Vector x: [5 8 2]\n",
            "Vector y: [3 5 4]\n",
            "\n",
            "Euclidean disrance: 4.1231\n",
            "Manhattan distance: 7.0000\n",
            "Chebyshev distance: 3.0000\n"
          ]
        }
      ]
    }
  ]
}