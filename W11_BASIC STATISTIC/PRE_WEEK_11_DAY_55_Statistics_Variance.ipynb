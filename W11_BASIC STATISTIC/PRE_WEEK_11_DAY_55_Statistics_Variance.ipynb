{
  "nbformat": 4,
  "nbformat_minor": 0,
  "metadata": {
    "colab": {
      "provenance": []
    },
    "kernelspec": {
      "name": "python3",
      "display_name": "Python 3"
    },
    "language_info": {
      "name": "python"
    }
  },
  "cells": [
    {
      "cell_type": "markdown",
      "source": [
        "# Bài 1: Tính phương sai rời rạc\n",
        "#### Cho biến ngẫu nhiên X = [1, 3, 5] với xác suất tương ứng P = [0.2, 0.5, 0.3].\n",
        "#### Yêu cầu: Tính kỳ vọng E[X] và phương sai Var(X) bằng công thức rời rạc.  "
      ],
      "metadata": {
        "id": "5aQV3OshZ7m9"
      }
    },
    {
      "cell_type": "code",
      "execution_count": null,
      "metadata": {
        "colab": {
          "base_uri": "https://localhost:8080/"
        },
        "id": "ufj0iMc0U966",
        "outputId": "1e7913fb-aadd-49ee-9498-c6f875d1ef5b"
      },
      "outputs": [
        {
          "output_type": "stream",
          "name": "stdout",
          "text": [
            "E[x] = 3.2\n",
            "Var(x) = 1.96\n"
          ]
        }
      ],
      "source": [
        "import numpy as np\n",
        "x= np.array([1,3,5])\n",
        "p= np.array([0.2,0.5,0.3])\n",
        "expect= np.sum(x*p)\n",
        "print(\"E[x] =\", expect)\n",
        "\n",
        "variance = np.sum(((x - expect)**2) * p)  #công thức rời rac\n",
        "print(\"Var(x) =\", variance)"
      ]
    },
    {
      "cell_type": "markdown",
      "source": [
        "# Bài 2: Phân tích phương sai mẫu dữ liệu thực\n",
        "#### Sinh ra dữ liệu gồm 1000 số thực từ phân phối chuẩn N(0, 2^2).\n",
        "#### Tính phương sai mẫu và phương sai tổng thể. So sánh với giá trị lý thuyết."
      ],
      "metadata": {
        "id": "Im2luv6UeiRi"
      }
    },
    {
      "cell_type": "code",
      "source": [
        "import numpy as np\n",
        "data = np.random.normal(loc=0, scale=2, size = 1000)\n",
        "sample_variance = np.var(data, ddof=1)\n",
        "population_variance = np.var(data, ddof=0)\n",
        "print(\"Phương sai mẫu:\", sample_variance)\n",
        "print(\"Phương sai tổng thể:\", population_variance)\n",
        "print(\"Phương sai lý thuyết σ²:\", 4)"
      ],
      "metadata": {
        "colab": {
          "base_uri": "https://localhost:8080/"
        },
        "id": "UW5dBveqepTa",
        "outputId": "a488d2d9-a4e1-4112-942c-15cb6941f6be"
      },
      "execution_count": null,
      "outputs": [
        {
          "output_type": "stream",
          "name": "stdout",
          "text": [
            "Phương sai mẫu: 3.913419327784505\n",
            "Phương sai tổng thể: 3.9095059084567207\n",
            "Phương sai lý thuyết σ²: 4\n"
          ]
        }
      ]
    },
    {
      "cell_type": "code",
      "source": [
        "# Phương sai mẫu và tổng thể đều hội tụ về σ2=4 khi kích thước mẫu đủ lớn.\n",
        "# Sai số nhỏ (<1%) là do ngẫu nhiên, không phải do phương pháp tính"
      ],
      "metadata": {
        "id": "RL_JFDSJftZD"
      },
      "execution_count": null,
      "outputs": []
    },
    {
      "cell_type": "markdown",
      "source": [
        "# Bài 3: So sánh độ ổn định giữa hai mô hình AI\n",
        "##### model_a_scores = np. array ([0.8 , 0.7 , 0.9 , 0.75 , 0.85])\n",
        "#### model_b_scores = np. array ([0.6 , 0.4 , 0.9 , 0.3 , 0.8])\n",
        "#### Tính phương sai và xác định mô hình nào ổn định hơn."
      ],
      "metadata": {
        "id": "dpzGN5IVf4Qd"
      }
    },
    {
      "cell_type": "code",
      "source": [
        "import numpy as np\n",
        "model_a_scores = np. array ([0.8 , 0.7 , 0.9 , 0.75 , 0.85])\n",
        "model_b_scores = np. array ([0.6 , 0.4 , 0.9 , 0.3 , 0.8])\n",
        "variance_a = np.var(model_a_scores, ddof=1)  # phương sai mẫu với 5 điểm đánh giá\n",
        "variance_b = np.var(model_b_scores, ddof=1)\n",
        "print(\"Phương sai mô hình A:\", variance_a)\n",
        "print(\"Phương sai mô hình B:\", variance_b)\n",
        "\n",
        "if variance_a < variance_b:\n",
        "    print(\"Mô hình A ổn định hơn.\")\n",
        "elif variance_a > variance_b:\n",
        "    print(\"Mô hình B ổn định hơn.\")\n",
        "else:\n",
        "    print(\"Hai mô hình đều ổn định.\")"
      ],
      "metadata": {
        "colab": {
          "base_uri": "https://localhost:8080/"
        },
        "id": "qSK8E_VwetM3",
        "outputId": "27ea9906-89ee-48c6-cbdc-a5d9e54608e6"
      },
      "execution_count": null,
      "outputs": [
        {
          "output_type": "stream",
          "name": "stdout",
          "text": [
            "Phương sai mô hình A: 0.006250000000000002\n",
            "Phương sai mô hình B: 0.065\n",
            "Mô hình A ổn định hơn.\n"
          ]
        }
      ]
    },
    {
      "cell_type": "markdown",
      "source": [
        "# Bài 4: Phân tích phân tán ảnh đầu vào\n",
        "#### Giả sử bạn có trung bình pixel của 5 ảnh:\n",
        "#### pixel_means = np. array ([122 , 120 , 119 , 123 , 121])\n",
        "#### Tính phương sai để đánh giá mức độ phân tán dữ liệu\n"
      ],
      "metadata": {
        "id": "LyjbpZXaPVum"
      }
    },
    {
      "cell_type": "code",
      "source": [
        "import numpy as np\n",
        "pixel_means = np. array ([122 , 120 , 119 , 123 , 121])\n",
        "variance = np.var(pixel_means, ddof=1)\n",
        "print(\"Phương sai:\", variance)"
      ],
      "metadata": {
        "colab": {
          "base_uri": "https://localhost:8080/"
        },
        "id": "3A5758UretHX",
        "outputId": "3a3c0265-0596-4a10-edb1-656fdad819c5"
      },
      "execution_count": null,
      "outputs": [
        {
          "output_type": "stream",
          "name": "stdout",
          "text": [
            "Phương sai: 2.5\n"
          ]
        }
      ]
    },
    {
      "cell_type": "markdown",
      "source": [
        "# Bài 5: Variance trong Reinforcement Learning\n",
        "#### Một tác nhân nhận phần thưởng trong 10 lần thử nghiệm:\n",
        "#### rewards = np. array ([10 , 9, 8, 10, 7, 6, 9, 10, 5, 8])\n",
        "#### Tính phương sai phần thưởng để đánh giá độ ổn định của chiến lược."
      ],
      "metadata": {
        "id": "yD2unE-8VSRY"
      }
    },
    {
      "cell_type": "code",
      "source": [
        "import numpy as np\n",
        "rewards = np. array ([10 , 9, 8, 10, 7, 6, 9, 10, 5, 8])\n",
        "reward_variance = np.var(rewards, ddof=1)\n",
        "print(\"Phương sai:\", reward_variance)\n",
        "#Phương sai càng nhỏ, chiến lược càng ổn định\n",
        "# Phân tích nguyên nhân các lần thử nghiệm có phần thưởng thấp để cải thiện chiến lược"
      ],
      "metadata": {
        "colab": {
          "base_uri": "https://localhost:8080/"
        },
        "id": "X9vXXPDqWD-E",
        "outputId": "9acf20ad-2edc-4fdc-97a3-361601b9823c"
      },
      "execution_count": null,
      "outputs": [
        {
          "output_type": "stream",
          "name": "stdout",
          "text": [
            "Phương sai: 3.066666666666667\n"
          ]
        }
      ]
    },
    {
      "cell_type": "code",
      "source": [],
      "metadata": {
        "id": "6ToOYQaBXAKM"
      },
      "execution_count": null,
      "outputs": []
    }
  ]
}