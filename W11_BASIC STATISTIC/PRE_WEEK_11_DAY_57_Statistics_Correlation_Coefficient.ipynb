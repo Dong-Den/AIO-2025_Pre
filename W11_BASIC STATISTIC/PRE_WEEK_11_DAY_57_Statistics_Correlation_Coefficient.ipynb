{
  "nbformat": 4,
  "nbformat_minor": 0,
  "metadata": {
    "colab": {
      "provenance": []
    },
    "kernelspec": {
      "name": "python3",
      "display_name": "Python 3"
    },
    "language_info": {
      "name": "python"
    }
  },
  "cells": [
    {
      "cell_type": "markdown",
      "source": [
        "#### Bài 1. Tương quan tuyến tính hoàn hảo Cho x = [1, 2, 3, 4, 5], y = [2, 4, 6, 8, 10]. Tính hệ số tương quan Pearson giữa x và y."
      ],
      "metadata": {
        "id": "bO9xh82DIz2f"
      }
    },
    {
      "cell_type": "code",
      "execution_count": null,
      "metadata": {
        "colab": {
          "base_uri": "https://localhost:8080/"
        },
        "id": "xvuGj1BlC7EU",
        "outputId": "72be99ef-9ca0-49b7-f40a-d4851a753110"
      },
      "outputs": [
        {
          "output_type": "stream",
          "name": "stdout",
          "text": [
            "Hệ số tương quan Pearson giữa x và y: [[1. 1.]\n",
            " [1. 1.]]\n"
          ]
        }
      ],
      "source": [
        "import numpy as np\n",
        "x= np.array([1, 2, 3, 4, 5])\n",
        "y= np.array([2, 4, 6, 8, 10])\n",
        "r_pearson= np.corrcoef(x,y)\n",
        "print(\"Hệ số tương quan Pearson giữa x và y:\", r_pearson)"
      ]
    },
    {
      "cell_type": "markdown",
      "source": [
        "#### Bài 2. Tương quan âm hoàn hảo Cho x = [1, 2, 3, 4, 5], y = [10, 8, 6, 4, 2]. Tính hệ số tương quan và giải thích kết quả."
      ],
      "metadata": {
        "id": "8j7259djJ7c5"
      }
    },
    {
      "cell_type": "code",
      "source": [
        "import numpy as np\n",
        "x= np.array([1, 2, 3, 4, 5])\n",
        "y= np.array([10, 8, 6, 4, 2])\n",
        "r_pearson= np.corrcoef(x,y)\n",
        "print(\"Ma trận Hệ số tương quan Pearson giữa x và y:\", r_pearson)\n",
        "r_pearson1= np.corrcoef(x,y) [0,1]\n",
        "print(\"Hệ số tương quan Pearson giữa x và y:\", r_pearson1)"
      ],
      "metadata": {
        "colab": {
          "base_uri": "https://localhost:8080/"
        },
        "id": "n_3jhXPbI3J3",
        "outputId": "a610a816-56a1-4e6e-d6ab-d6f0631dfcf0"
      },
      "execution_count": null,
      "outputs": [
        {
          "output_type": "stream",
          "name": "stdout",
          "text": [
            "Ma trận Hệ số tương quan Pearson giữa x và y: [[ 1. -1.]\n",
            " [-1.  1.]]\n",
            "Hệ số tương quan Pearson giữa x và y: -0.9999999999999999\n"
          ]
        }
      ]
    },
    {
      "cell_type": "markdown",
      "source": [
        "#### Hệ số tương quan r=−1 cho thấy mối quan hệ nghịch biến hoàn hảo giữa x và y. Điều này có nghĩa là khi x tăng, y giảm theo một tỷ lệ tuyến tính chính xác, và tất cả các điểm dữ liệu nằm trên một đường thẳng dốc xuống. Đây là trường hợp lý tưởng của tương quan âm hoàn hảo"
      ],
      "metadata": {
        "id": "8EDhhWYILENZ"
      }
    },
    {
      "cell_type": "markdown",
      "source": [
        "#### Bài 3. Không tương quan tuyến tính Tạo x ∈ [0, 10], y = sin(x) với 100 điểm. Tính Pearson correlation giữa x và y."
      ],
      "metadata": {
        "id": "4KtF1gK5Lv_l"
      }
    },
    {
      "cell_type": "code",
      "source": [
        "import numpy as np\n",
        "x= np.linspace(0,10, 100)\n",
        "y= np.sin(x)\n",
        "r= np.corrcoef(x,y)\n",
        "print(\"Ma trận hệ số tương quan:\",r)\n",
        "r1= np.corrcoef(x,y) [0,1]\n",
        "print(\"Hệ số tương quan giữa x-y:\", r1)"
      ],
      "metadata": {
        "colab": {
          "base_uri": "https://localhost:8080/"
        },
        "id": "FK_9mMa6LO3k",
        "outputId": "ce396c74-9394-4e46-be07-63502468acf6"
      },
      "execution_count": null,
      "outputs": [
        {
          "output_type": "stream",
          "name": "stdout",
          "text": [
            "Ma trận hệ số tương quan: [[ 1.         -0.07589467]\n",
            " [-0.07589467  1.        ]]\n",
            "Hệ số tương quan giữa x-y: -0.07589466694797199\n"
          ]
        }
      ]
    },
    {
      "cell_type": "markdown",
      "source": [
        "#### Bài 4. Tương quan giữa đặc trưng và nhãn Cho feature = [1.1, 1.9, 3.2, 4.5, 5.1], label = [1.0, 2.0, 3.0, 4.1, 5.3]. Tính tương quan giữa feature và label."
      ],
      "metadata": {
        "id": "blIpkik_M7vG"
      }
    },
    {
      "cell_type": "code",
      "source": [
        "import numpy as np\n",
        "feature = np.array([1.1, 1.9, 3.2, 4.5, 5.1])\n",
        "label= np.array([1.0, 2.0, 3.0, 4.1, 5.3])\n",
        "r_pearson = np.corrcoef(feature, label) [0,1]\n",
        "print(\"Bài 4: r=\", r_pearson)"
      ],
      "metadata": {
        "colab": {
          "base_uri": "https://localhost:8080/"
        },
        "id": "dmAw-qJNLJeU",
        "outputId": "ad7c43fe-1250-45f2-c057-f53d6408a5d0"
      },
      "execution_count": null,
      "outputs": [
        {
          "output_type": "stream",
          "name": "stdout",
          "text": [
            "Bài 4: r= 0.9900317180760644\n"
          ]
        }
      ]
    },
    {
      "cell_type": "markdown",
      "source": [
        "#### Bài 5. Tương quan trong bảng dữ liệu Cho height = [150, 160, 170, 180, 190], weight = [50, 60, 70, 80, 90]. Tính tương quan giữa chiều cao và cân nặng"
      ],
      "metadata": {
        "id": "UG6nKr1LNnU4"
      }
    },
    {
      "cell_type": "code",
      "source": [
        "import numpy as np\n",
        "height= np.array([150, 160, 170, 180, 190])\n",
        "weight = np.array([50, 60, 70, 80, 90])\n",
        "r_pearson = np.corrcoef(height, weight) [0,1]\n",
        "print(\"Bài 5: r=\", r_pearson)"
      ],
      "metadata": {
        "colab": {
          "base_uri": "https://localhost:8080/"
        },
        "id": "Yc51NpcuLCnd",
        "outputId": "a1e55384-a7d2-431e-9d11-303c5d959657"
      },
      "execution_count": null,
      "outputs": [
        {
          "output_type": "stream",
          "name": "stdout",
          "text": [
            "Bài 5: r= 1.0\n"
          ]
        }
      ]
    },
    {
      "cell_type": "markdown",
      "source": [
        "#### Bài 6. Embedding similarity Cho embedA = [0.3, 0.5, 0.7, 0.8], embedB = [0.9, 1.4, 2.1, 2.4]. Tính tương quan giữa hai vectors."
      ],
      "metadata": {
        "id": "qQbDviulON9f"
      }
    },
    {
      "cell_type": "code",
      "source": [
        "import numpy as  np\n",
        "embedA= np.array([0.3, 0.5, 0.7, 0.8])\n",
        "embedB= np.array([0.9, 1.4, 2.1, 2.4])\n",
        "r_pearson = np.corrcoef(embedA, embedB) [0,1]\n",
        "print(\"Bài 6: r=\", r_pearson)\n"
      ],
      "metadata": {
        "colab": {
          "base_uri": "https://localhost:8080/"
        },
        "id": "6UyjZU29I3GG",
        "outputId": "b7d49384-923d-4e7f-87a2-98535ca4ce3d"
      },
      "execution_count": null,
      "outputs": [
        {
          "output_type": "stream",
          "name": "stdout",
          "text": [
            "Bài 6: r= 0.9974174463431612\n"
          ]
        }
      ]
    },
    {
      "cell_type": "markdown",
      "source": [
        "#### Bài 7. Tương quan ngẫu nhiên Sinh hai vector ngẫu nhiên x, y ∈ [0, 1] gồm 100 giá trị. Tính Pearson correlation và nhận xét.\n",
        "#### Hệ số tương quan gần 0, phản ánh đúng tính chất độc lập của hai vector ngẫu nhiên."
      ],
      "metadata": {
        "id": "5wmB4L56VnYv"
      }
    },
    {
      "cell_type": "code",
      "source": [
        "import numpy as np\n",
        "np.random.seed(40)\n",
        "x=np.random.rand(100)\n",
        "y= np.random.rand(100)\n",
        "r_pearson = np.corrcoef(x,y) [0,1]\n",
        "print(\"Bài 7: r =\", r_pearson)\n",
        "# Hệ số tương quan gần 0, phản ánh đúng tính chất độc lập của hai vector ngẫu nhiên."
      ],
      "metadata": {
        "colab": {
          "base_uri": "https://localhost:8080/"
        },
        "id": "sFhI71NZI3Ce",
        "outputId": "355569ef-ede4-4793-b343-15f448b6c824"
      },
      "execution_count": null,
      "outputs": [
        {
          "output_type": "stream",
          "name": "stdout",
          "text": [
            "Bài 7: r = -0.04863494934474467\n"
          ]
        }
      ]
    },
    {
      "cell_type": "markdown",
      "source": [
        "#### Bài 8. Tương quan với nhiễu (noise) Cho x = [0, 1, 2, ..., 99], yclean = x, ynoisy = x+noise. So sánh tương quan giữa x và hai biến y."
      ],
      "metadata": {
        "id": "Q7DTCLzGehjJ"
      }
    },
    {
      "cell_type": "code",
      "source": [
        "import numpy as np\n",
        "x = np.arange(100)\n",
        "y_clean = x\n",
        "noise = np.random.normal(0,10, 100)  # sinh dữ liệu ngẫu nhiên theo phân phối chuẩn (normal distribution)\n",
        "y_noisy = x + noise\n",
        "\n",
        "r_clean = np.corrcoef(x,y_clean) [0,1]\n",
        "r_noisy= np.corrcoef(x, y_noisy) [0,1]\n",
        "\n",
        "print(\"Bài 8: r_clean =\", r_clean)\n",
        "print(\"Bài 8: r_noisy=\", r_noisy)"
      ],
      "metadata": {
        "colab": {
          "base_uri": "https://localhost:8080/"
        },
        "id": "lGF61-jjefdR",
        "outputId": "82f7ed8f-d0f4-4ead-e8de-5828d4609f6f"
      },
      "execution_count": null,
      "outputs": [
        {
          "output_type": "stream",
          "name": "stdout",
          "text": [
            "Bài 8: r_clean = 0.9999999999999999\n",
            "Bài 8: r_noisy= 0.9282640524179303\n"
          ]
        }
      ]
    },
    {
      "cell_type": "markdown",
      "source": [
        "#### Bài 9. Dữ liệu thời gian: nhiệt độ và doanh số Cho temperature = [22, 24, 23, 25, 26], sales = [100, 110, 105, 115, 120]. Tính tương quan giữa nhiệt độ và doanh số."
      ],
      "metadata": {
        "id": "kwma1iJ6gVrm"
      }
    },
    {
      "cell_type": "code",
      "source": [
        "import numpy as np\n",
        "\n",
        "temperature = np.array([22, 24, 23, 25, 26])\n",
        "sales = np.array([100, 110, 105, 115, 120])\n",
        "r_pearson = np.corrcoef(temperature, sales) [0,1]\n",
        "print(\"Bài 9: r= \", r_pearson)"
      ],
      "metadata": {
        "colab": {
          "base_uri": "https://localhost:8080/"
        },
        "id": "wUtPkM-CgZzz",
        "outputId": "a0851bf3-f8ef-4cfc-81ac-f26002d6f08a"
      },
      "execution_count": null,
      "outputs": [
        {
          "output_type": "stream",
          "name": "stdout",
          "text": [
            "Bài 9: r=  1.0\n"
          ]
        }
      ]
    },
    {
      "cell_type": "markdown",
      "source": [
        "#### Bài 10: Retrieval văn bản với TF-IDF + Pearson (không dùng thư viện) Cho các văn bản:\n",
        "#### doc1 = \" deep learning for natural language processing \"\n",
        "#### doc2 = \" transformer models improve language understanding \"\n",
        "#### doc3 = \" convolutional neural networks for image classification \"\n",
        "#### query = \" language models for text understanding \"\n",
        "#### Tính TF-IDF, sau đó tính hệ số tương quan Pearson giữa truy vấn và từng văn bản.\n",
        "#### Xếp hạng các văn bản theo mức độ liên quan."
      ],
      "metadata": {
        "id": "cBRaFAT3g6BF"
      }
    },
    {
      "cell_type": "code",
      "source": [
        "import numpy as np\n",
        "import math\n",
        "from collections import Counter\n",
        "\n",
        "doc1 = \"deep learning for natural language processing\"\n",
        "doc2 = \"transformer models improve language understanding\"\n",
        "doc3 = \"convolutional neural networks for image classification\"\n",
        "query = \"language models for text understanding\"\n",
        "\n",
        "# Tiền xử lý vb:\n",
        "def tokenize(text):\n",
        "    return text.lower().split()\n",
        "\n",
        "docs = [doc1,doc2, doc3]\n",
        "all_docs = docs + [query]\n",
        "tokenized_docs = [tokenize(doc) for doc in all_docs]\n",
        "\n",
        "vocab = sorted(set(word for doc in tokenized_docs for word in doc))\n",
        "\n",
        "#Tính toán\n",
        "def compute_tf(doc_tokenize):\n",
        "    counts = Counter(doc_tokenize)\n",
        "    tf = [counts[word]/ len(doc_tokenize) for word in vocab]\n",
        "    return tf\n",
        "\n",
        "def compute_idf(docs_tokenize):\n",
        "    N= len(docs_tokenize)\n",
        "    idf = []\n",
        "    for word in vocab:\n",
        "        df=sum(1 for doc in docs_tokenize if word in doc) # sum(word in doc for doc in docs_tokenize)  #\n",
        "        idf.append((math.log(N/(1+df)))+1)\n",
        "    return idf\n",
        "# +1: Được thêm vào để tránh IDF = 0 khi từ xuất hiện ở tất cả tài liệu, và để giữ cho IDF luôn dương\n",
        "# +1 cuối cùng giúp điều chỉnh IDF > 0 cho dễ xử lý trong mô hình\n",
        "\n",
        "def compute_tfidf(tf, idf):\n",
        "    return [t*i for t, i in zip(tf, idf)]\n",
        "\n",
        "# TF cho toàn bộ tài liệu:\n",
        "tf_vectors= [compute_tf(doc) for doc in tokenized_docs]\n",
        "idf_vector = compute_idf(tokenized_docs)\n",
        "tfidf_vectors = [compute_tfidf(tf, idf_vector) for tf in tf_vectors]\n",
        "\n",
        "#Trích xuất vector để tính toán hệ số tương quan\n",
        "query_vector = np.array(tfidf_vectors[-1])\n",
        "docs_vectors= [np.array(vec) for vec in tfidf_vectors[0:-1]]\n",
        "\n",
        "def pearson_corrcoef(x,y):\n",
        "    if np.std(x)==0 or np.std(y)==0:\n",
        "        return 0\n",
        "    return np.corrcoef(x,y) [0,1]\n",
        "\n",
        "correlations = [pearson_corrcoef(query_vector , doc_vector) for doc_vector in docs_vectors]\n",
        "print(correlations)\n",
        "\n",
        "documents = [doc1, doc2, doc3]\n",
        "results = sorted(zip(documents, correlations), key=lambda x: x[1], reverse= True)\n",
        "\n",
        "for i, (doc,r) in enumerate(results, 1):\n",
        "    print(f\"{i}. Score: {r:.4f} -> \\\"{doc}\\\" \")\n"
      ],
      "metadata": {
        "colab": {
          "base_uri": "https://localhost:8080/"
        },
        "id": "dJL36Q53hIko",
        "outputId": "1f8df115-bf47-40f5-d351-67037c12ee09"
      },
      "execution_count": null,
      "outputs": [
        {
          "output_type": "stream",
          "name": "stdout",
          "text": [
            "[np.float64(-0.20407295750188434), np.float64(0.2505594244315758), np.float64(-0.36276242780950263)]\n",
            "1. Score: 0.2506 -> \"transformer models improve language understanding\" \n",
            "2. Score: -0.2041 -> \"deep learning for natural language processing\" \n",
            "3. Score: -0.3628 -> \"convolutional neural networks for image classification\" \n"
          ]
        }
      ]
    },
    {
      "cell_type": "markdown",
      "source": [
        "# ![image.png](data:image/png;base64,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)"
      ],
      "metadata": {
        "id": "eQtDzN6BznL2"
      }
    },
    {
      "cell_type": "code",
      "source": [],
      "metadata": {
        "id": "6PlbMqB7hHtn"
      },
      "execution_count": null,
      "outputs": []
    }
  ]
}