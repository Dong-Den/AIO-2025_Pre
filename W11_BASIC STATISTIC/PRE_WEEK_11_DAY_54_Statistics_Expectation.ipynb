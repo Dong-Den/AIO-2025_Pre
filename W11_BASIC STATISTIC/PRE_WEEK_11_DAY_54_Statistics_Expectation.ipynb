{
  "nbformat": 4,
  "nbformat_minor": 0,
  "metadata": {
    "colab": {
      "provenance": []
    },
    "kernelspec": {
      "name": "python3",
      "display_name": "Python 3"
    },
    "language_info": {
      "name": "python"
    }
  },
  "cells": [
    {
      "cell_type": "markdown",
      "source": [
        "## Bài 1: Tính kỳ vọng của biến rời rạc\n",
        "#### Cho biến ngẫu nhiên X = [2, 4, 6, 8] với xác suất P = [0.1, 0.3, 0.4, 0.2]. tính E[X]"
      ],
      "metadata": {
        "id": "kjOgq-WP20sa"
      }
    },
    {
      "cell_type": "code",
      "execution_count": null,
      "metadata": {
        "colab": {
          "base_uri": "https://localhost:8080/"
        },
        "id": "pElVKmup2Drm",
        "outputId": "1fa034a6-355e-4b3a-f1ef-d00e89c318c6"
      },
      "outputs": [
        {
          "output_type": "stream",
          "name": "stdout",
          "text": [
            "E[X] 5.4\n"
          ]
        }
      ],
      "source": [
        "import numpy as np\n",
        "X= np.array([2, 4, 6, 8])\n",
        "P= np.array([0.1, 0.3, 0.4, 0.2])\n",
        "expectation= np.sum(X*P)\n",
        "print(\"E[X]\",expectation)"
      ]
    },
    {
      "cell_type": "markdown",
      "source": [
        "# Bài 2: Expectation từ phân phối chuẩn\n",
        "#### Tạo dữ liệu gồm 10,000 mẫu tuân theo phân phối chuẩn µ = 5, σ = 2. Tính giá trị kỳ vọng gần đúng từ dữ liệu"
      ],
      "metadata": {
        "id": "uzWJ4dQf3gvr"
      }
    },
    {
      "cell_type": "code",
      "source": [
        "import numpy as np\n",
        "data = np.random.normal(loc=5, scale=2, size=10000)\n",
        "expectation= np.mean(data)\n",
        "print(\"E[X]\",expectation)"
      ],
      "metadata": {
        "colab": {
          "base_uri": "https://localhost:8080/"
        },
        "id": "5QJk9Lnr3rot",
        "outputId": "0d3116f1-6856-4073-c868-3c8fae18a6a6"
      },
      "execution_count": null,
      "outputs": [
        {
          "output_type": "stream",
          "name": "stdout",
          "text": [
            "E[X] 4.984411384998809\n"
          ]
        }
      ]
    },
    {
      "cell_type": "markdown",
      "source": [
        "# Bài 3: Kỳ vọng của loss function trong AI\n",
        "#### y_pred = np. array ([0.1 , 0.4 , 0.6 , 0.9])\n",
        "#### y_true = np. array ([0 , 0, 1, 1])\n",
        "#### Tính kỳ vọng của Binary Cross-Entropy Loss\n"
      ],
      "metadata": {
        "id": "PUZpLixaHGl5"
      }
    },
    {
      "cell_type": "code",
      "source": [
        "import numpy as np\n",
        "y_pred = np.array([0.1, 0.4, 0.6, 0.9])\n",
        "y_true = np.array([0, 0, 1, 1])\n",
        "loss = -np.mean(y_true * np.log(y_pred) + (1 - y_true) * np.log(1 - y_pred))\n",
        "print(\"E[loss]\",loss)"
      ],
      "metadata": {
        "colab": {
          "base_uri": "https://localhost:8080/"
        },
        "id": "A2Di6xE1HwqH",
        "outputId": "d47e6aa1-5421-4ec2-aa47-34385dffe34d"
      },
      "execution_count": null,
      "outputs": [
        {
          "output_type": "stream",
          "name": "stdout",
          "text": [
            "E[loss] 0.30809306971190853\n"
          ]
        }
      ]
    },
    {
      "cell_type": "code",
      "source": [
        "# Để chống lỗi chia cho 0 (log0)\n",
        "import numpy as np\n",
        "y_pred = np.array([0.1, 0.4, 0.6, 0.9])\n",
        "y_true = np.array([0, 0, 1, 1])\n",
        "\n",
        "eps=1e-15\n",
        "y_pred=np.clip(y_pred,eps,1-eps)  #(mảng đầu vào, a_min, a_max)\n",
        "\n",
        "loss = -np.mean(y_true * np.log(y_pred) + (1 - y_true) * np.log(1 - y_pred))\n",
        "print(\"E[loss]\",loss)"
      ],
      "metadata": {
        "colab": {
          "base_uri": "https://localhost:8080/"
        },
        "id": "UvvJY2TkK6pF",
        "outputId": "09f12eb5-f933-4d39-9753-b2b79bcabab3"
      },
      "execution_count": null,
      "outputs": [
        {
          "output_type": "stream",
          "name": "stdout",
          "text": [
            "E[loss] 0.30809306971190853\n"
          ]
        }
      ]
    },
    {
      "cell_type": "markdown",
      "source": [
        "# Bài 4: Kỳ vọng phần thưởng trong Reinforcement Learning\n",
        "#### Giả sử phần thưởng từ 0 đến 10, phân phối:\n",
        "#### rewards = np. random . choice (np. arange (0, 11) , size =100 , p =[0.05 , 0.1 , 0.1 , 0.15 , 0.1 , 0.1 , 0.1 , 0.1 , 0.05 , 0.1 , 0.05])\n",
        "#### Tính kỳ vọng của phần thưởng."
      ],
      "metadata": {
        "id": "azyocV3PLvVC"
      }
    },
    {
      "cell_type": "code",
      "source": [
        "import numpy as np\n",
        "rewards = np. random . choice (np. arange (0, 11) , size =100 , p =[0.05 , 0.1 , 0.1 , 0.15 , 0.1 , 0.1 , 0.1 , 0.1 , 0.05 , 0.1 , 0.05])\n",
        "expected_reward= np.mean(rewards)\n",
        "print(\"E[reward] =\",expected_reward)\n"
      ],
      "metadata": {
        "colab": {
          "base_uri": "https://localhost:8080/"
        },
        "id": "MWHcJyGGK2xt",
        "outputId": "8edf509a-db42-4b55-d105-85437026b663"
      },
      "execution_count": null,
      "outputs": [
        {
          "output_type": "stream",
          "name": "stdout",
          "text": [
            "E[reward] = 4.36\n"
          ]
        }
      ]
    },
    {
      "cell_type": "markdown",
      "source": [
        "# Bài 5: So sánh kỳ vọng của hai mô hình AI\n",
        "#### Dự đoán xác suất:\n",
        "#### Tính kỳ vọng cross-entropy loss cho từng mô hình và chọn mô hình tốt hơn"
      ],
      "metadata": {
        "id": "LYVF0zIvOc8n"
      }
    },
    {
      "cell_type": "code",
      "source": [
        "import numpy as np\n",
        "# from numpy import log\n",
        "\n",
        "model1 = np. array ([[0.2 , 0.5 , 0.3] ,\n",
        "                    [0.1 , 0.7 , 0.2]])\n",
        "model2 = np. array ([[0.3 , 0.4 , 0.3] ,\n",
        "                     [0.2 , 0.6 , 0.2]])\n",
        "labels = np. array ([1 , 1]) # ground truth: class 1\n",
        "\n",
        "def expectation_cross_entropy_loss(preds, labels):\n",
        "    eps=1e-15\n",
        "    safe_preds = np.clip(preds, eps, 1 - eps)\n",
        "                                      # chuẩn hóa dữ iệu, tránh lỗi tính toán khi làm việc với log và xác suất\n",
        "                                      # Giới hạn (clip) giá trị của preds trong khoảng [eps, 1 - eps], nhằm tránh các giá trị bằng 0 hoặc 1 tuyệt đối khi tính log loss như cross-entropy.\n",
        "    probs = safe_preds[np.arange(len(labels)), labels]\n",
        "                                      # lấy xác suất dự đoán đúng class cho mỗi mẫu\n",
        "    loss = -np.log(probs)\n",
        "    expectation = np.mean(loss)\n",
        "    return expectation\n",
        "\n",
        "loss_model1 = expectation_cross_entropy_loss(model1, labels)\n",
        "loss_model2 = expectation_cross_entropy_loss(model2, labels)\n",
        "\n",
        "print(\"Cross-entropy loss for model 1:\", loss_model1)\n",
        "print(\"Cross-entropy loss for model 2:\", loss_model2)"
      ],
      "metadata": {
        "colab": {
          "base_uri": "https://localhost:8080/"
        },
        "id": "LpSE7ItUOooc",
        "outputId": "925125ee-e28e-45b1-f235-2a375d2ce7d4"
      },
      "execution_count": null,
      "outputs": [
        {
          "output_type": "stream",
          "name": "stdout",
          "text": [
            "Cross-entropy loss for model 1: 0.5249110622493389\n",
            "Cross-entropy loss for model 2: 0.7135581778200728\n"
          ]
        }
      ]
    }
  ]
}