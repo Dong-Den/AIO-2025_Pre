{
  "nbformat": 4,
  "nbformat_minor": 0,
  "metadata": {
    "colab": {
      "provenance": []
    },
    "kernelspec": {
      "name": "python3",
      "display_name": "Python 3"
    },
    "language_info": {
      "name": "python"
    }
  },
  "cells": [
    {
      "cell_type": "markdown",
      "source": [
        "# Bài 1: Tính độ lệch chuẩn của biến rời rạc\n",
        "#### Cho biến ngẫu nhiên X = [2, 4, 6] với xác suất P = [0.3, 0.4, 0.3].\n",
        "#### Tính kỳ vọng E[X], phương sai và độ lệch chuẩn của X"
      ],
      "metadata": {
        "id": "twjr5b8x4f_u"
      }
    },
    {
      "cell_type": "code",
      "execution_count": null,
      "metadata": {
        "colab": {
          "base_uri": "https://localhost:8080/"
        },
        "id": "n_DyN4trXhHg",
        "outputId": "a2d01f9b-88a4-4171-f590-8615d2e90037"
      },
      "outputs": [
        {
          "output_type": "stream",
          "name": "stdout",
          "text": [
            "Expectation E[x]= 4.0\n",
            "Variance Var (x)= 2.4\n",
            "Standard deviation= 1.5491933384829668\n"
          ]
        }
      ],
      "source": [
        "import numpy as np\n",
        "x= np.array([2,4,6])\n",
        "p= np.array([0.3,0.4,0.3])\n",
        "expectation = np.sum(x*p)\n",
        "variance = np.sum(p*(x-expectation)**2)\n",
        "std = np.sqrt(variance)\n",
        "print(\"Expectation E[x]=\", expectation)\n",
        "print(\"Variance Var (x)=\", variance)\n",
        "print(\"Standard deviation=\", std)"
      ]
    },
    {
      "cell_type": "markdown",
      "source": [
        "# Bài 2: Độ lệch chuẩn từ phân phối chuẩn\n",
        "#### Sinh 1000 số thực từ phân phối chuẩn N(10, 32)\n",
        "#### Tính độ lệch chuẩn mẫu và tổng thể. So sánh với giá trị lý thuyết σ = 3"
      ],
      "metadata": {
        "id": "4ljTuJHn56BO"
      }
    },
    {
      "cell_type": "code",
      "source": [
        "import numpy as np\n",
        "np.random.seed(42)  # cố định kết quả random\n",
        "\n",
        "data = np.random.normal(10, 3, 1000)\n",
        "std_population = np.std(data)\n",
        "std_sample = np.std(data, ddof=1)\n",
        "print(\"Sample Std Dev:\", std_sample)\n",
        "print(\"Population Std Dev:\", std_population)\n"
      ],
      "metadata": {
        "colab": {
          "base_uri": "https://localhost:8080/"
        },
        "id": "dpY32RLB6DrW",
        "outputId": "b7d57bcf-0131-451f-878d-555d3736e57b"
      },
      "execution_count": null,
      "outputs": [
        {
          "output_type": "stream",
          "name": "stdout",
          "text": [
            "Sample Std Dev: 2.9376478145390275\n",
            "Population Std Dev: 2.9361786232420632\n"
          ]
        }
      ]
    },
    {
      "cell_type": "markdown",
      "source": [
        "# Bài 3: So sánh sự ổn định giữa hai mô hình AI\n",
        "#### Cho dự đoán đầu ra: model1 = np. array ([0.85 , 0.86 , 0.84 , 0.87])\n",
        "#### model2 = np. array ([0.9 , 0.6 , 0.95 , 0.5])\n",
        "#### Tính độ lệch chuẩn của mỗi mô hình và xác định mô hình nào ổn định hơn"
      ],
      "metadata": {
        "id": "mc9rKN8F7J3a"
      }
    },
    {
      "cell_type": "code",
      "source": [
        "import numpy as np\n",
        "model1 = np.array([0.85, 0.86, 0.84, 0.87])\n",
        "model2 = np.array([0.9, 0.6, 0.95, 0.5])\n",
        "\n",
        "std_model1 = np.std(model1, ddof=1)\n",
        "std_model2 = np.std(model2, ddof=1)\n",
        "\n",
        "print(\"Standard Deviation of Model 1:\", std_model1)\n",
        "print(\"Standard Deviation of Model 2:\", std_model2)\n",
        "\n",
        "if std_model1 < std_model2:\n",
        "    print(\"Model 1 is more stable.\")\n",
        "elif std_model1 > std_model2:\n",
        "    print(\"Model 2 is more stable.\")\n",
        "else:\n",
        "    print(\"Hai mô hình đều ổn định.\")"
      ],
      "metadata": {
        "colab": {
          "base_uri": "https://localhost:8080/"
        },
        "id": "4IKxfT7h7XiI",
        "outputId": "fd6a6c27-9a30-422f-ed8a-8ea18cf99b60"
      },
      "execution_count": null,
      "outputs": [
        {
          "output_type": "stream",
          "name": "stdout",
          "text": [
            "Standard Deviation of Model 1: 0.012909944487358068\n",
            "Standard Deviation of Model 2: 0.22126530078919587\n",
            "Model 1 is more stable.\n"
          ]
        }
      ]
    },
    {
      "cell_type": "markdown",
      "source": [
        "# Bài 4: Độ lệch chuẩn của ảnh trung bình (trong preprocessing)\n",
        "#### Giả sử bạn có giá trị trung bình điểm ảnh của 10 ảnh huấn luyện:\n",
        "#### pixel_values = np. array ([123 , 124 , 122 , 121 , 125 , 123 , 124 , 122 , 120 ,\n",
        "123])\n",
        "#### Tính độ lệch chuẩn và đánh giá mức độ thay đổi."
      ],
      "metadata": {
        "id": "q6ohrm3t8MQF"
      }
    },
    {
      "cell_type": "code",
      "source": [
        "import numpy as np\n",
        "pixel_values = np. array ([123 , 124 , 122 , 121 , 125 , 123 , 124 , 122 , 120 ,\n",
        "123])\n",
        "expectation = np.mean(pixel_values)\n",
        "print(\"Expectation:\", expectation)\n",
        "std_dev = np.std(pixel_values, ddof=1)\n",
        "print(\"Standard Deviation:\", std_dev)\n",
        "# Mức độ biến động tương đối nhỏ, quanh giá trị trung bình.\n"
      ],
      "metadata": {
        "colab": {
          "base_uri": "https://localhost:8080/"
        },
        "id": "TGDzjdr18Vvt",
        "outputId": "e877c162-7f49-4a84-8dbd-395deace6bc6"
      },
      "execution_count": null,
      "outputs": [
        {
          "output_type": "stream",
          "name": "stdout",
          "text": [
            "Expectation: 122.7\n",
            "Standard Deviation: 1.4944341180973262\n"
          ]
        }
      ]
    },
    {
      "cell_type": "markdown",
      "source": [
        "# Bài 5: Độ lệch chuẩn phần thưởng trong Reinforcement Learning\n",
        "#### Trong 20 lần thử nghiệm, agent nhận phần thưởng:\n",
        "#### rewards = np. array ([8 , 7, 8, 9, 7, 8, 9, 8, 7, 8, 6, 8, 7, 8, 8, 7, 8, 9, 7, 8])\n",
        "#### Tính độ lệch chuẩn để đánh giá độ ổn định của chiến lược học"
      ],
      "metadata": {
        "id": "vtS6s7WQAIMi"
      }
    },
    {
      "cell_type": "code",
      "source": [
        "import numpy as  np\n",
        "rewards = np.array([8 , 7, 8, 9, 7, 8, 9, 8, 7, 8, 6, 8, 7, 8, 8, 7, 8, 9, 7, 8])\n",
        "expectation = np.mean(rewards)\n",
        "print(\"Expectation:\", expectation)\n",
        "std_dev = np.std(rewards, ddof=1)\n",
        "print(\"Standard Deviation of rewards:\", std_dev)\n",
        "\n",
        "if std_dev < 1:\n",
        "    print(\"Agent has a stable strategy.\")\n",
        "else:\n",
        "    print(\"Agent reward is highly variable.\")\n",
        "\n",
        "# phần thưởng dao động rất nhỏ xung quanh giá trị trung bình 7.75"
      ],
      "metadata": {
        "colab": {
          "base_uri": "https://localhost:8080/"
        },
        "id": "J5VF-5U38WNx",
        "outputId": "813a2522-2bea-4011-dd4a-a7cf9036a75d"
      },
      "execution_count": null,
      "outputs": [
        {
          "output_type": "stream",
          "name": "stdout",
          "text": [
            "Expectation: 7.75\n",
            "Standard Deviation of rewards: 0.7863975156570492\n",
            "Agent has a stable strategy.\n"
          ]
        }
      ]
    }
  ]
}