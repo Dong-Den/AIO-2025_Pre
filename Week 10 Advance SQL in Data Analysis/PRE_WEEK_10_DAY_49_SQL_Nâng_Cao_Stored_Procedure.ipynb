{
  "nbformat": 4,
  "nbformat_minor": 0,
  "metadata": {
    "colab": {
      "provenance": []
    },
    "kernelspec": {
      "name": "python3",
      "display_name": "Python 3"
    },
    "language_info": {
      "name": "python"
    }
  },
  "cells": [
    {
      "cell_type": "code",
      "execution_count": null,
      "metadata": {
        "id": "x-1TK6yOPTq3"
      },
      "outputs": [],
      "source": [
        "!pip install mysql-connector-python"
      ]
    },
    {
      "cell_type": "code",
      "source": [
        "import mysql.connector\n",
        "\n",
        "connection = mysql.connector.connect(\n",
        "    host=\"127.0.0.1\",\n",
        "    user=\"root\",\n",
        "    password=\"     \",\n",
        "    database=\"preday49\")\n",
        "cursor = connection.cursor()"
      ],
      "metadata": {
        "id": "NkH82upYsInc"
      },
      "execution_count": null,
      "outputs": []
    },
    {
      "cell_type": "code",
      "source": [
        "import pandas as pd"
      ],
      "metadata": {
        "id": "vyGSPq2jsLQa"
      },
      "execution_count": null,
      "outputs": []
    },
    {
      "cell_type": "code",
      "source": [
        "cursor.execute(\"\"\"\n",
        "CREATE TABLE IF NOT EXISTS customers(\n",
        "    id INT PRIMARY KEY,\n",
        "    name VARCHAR(100),\n",
        "    city VARCHAR(100)\n",
        ") ENGINE=InnoDB;\n",
        "\"\"\")\n",
        "\n",
        "cursor.execute(\"\"\"\n",
        "INSERT INTO customers VALUES\n",
        "    (1, 'Alice', 'Hanoi'),\n",
        "    (2, 'Bob', 'Ho Chi Minh'),\n",
        "    (3, 'Charlie', 'Hanoi')\n",
        ";\n",
        "\"\"\")\n",
        "connection.commit()\n",
        "\n",
        "cursor.execute(\"\"\"\n",
        "CREATE TABLE IF NOT EXISTS orders(\n",
        "    id INT PRIMARY KEY,\n",
        "    customer_id INT,\n",
        "    order_date DATE,\n",
        "    total INT\n",
        ")ENGINE=InnoDB;\n",
        "\"\"\")\n",
        "\n",
        "cursor.execute(\"\"\"\n",
        "INSERT INTO orders VALUES\n",
        "    (1, 1, '2024-01-10', 500),\n",
        "    (2, 1, '2024-03-01', 800),\n",
        "    (3, 2, '2024-02-20', 1200),\n",
        "    (4, 3, '2024-01-15', 200)\n",
        ";\n",
        "\"\"\")\n",
        "connection.commit()\n",
        "\n",
        "cursor.execute(\"\"\"\n",
        "CREATE TABLE IF NOT EXISTS products(\n",
        "    id INT PRIMARY KEY,\n",
        "    name VARCHAR(100),\n",
        "    price INT\n",
        ")ENGINE=InnoDB;\n",
        "\"\"\")\n",
        "\n",
        "cursor.execute(\"\"\"\n",
        "INSERT INTO products VALUES\n",
        "    (1, 'Laptop', 1500),\n",
        "    (2, 'Mouse', 50),\n",
        "    (3, 'Keyboard', 100),\n",
        "    (4, 'Monitor', 300)\n",
        ";\n",
        "\"\"\")\n",
        "connection.commit()\n",
        "\n",
        "cursor.execute(\"\"\"\n",
        "CREATE TABLE IF NOT EXISTS order_items(\n",
        "    id INT PRIMARY KEY,\n",
        "    order_id INT,\n",
        "    product_id INT,\n",
        "    quantity INT\n",
        ")ENGINE=InnoDB;\n",
        "\"\"\")\n",
        "\n",
        "cursor.execute(\"\"\"\n",
        "INSERT INTO order_items VALUES\n",
        "    (1, 1, 2, 2),\n",
        "    (2, 1, 3, 1),\n",
        "    (3, 2, 1, 1),\n",
        "    (4, 2, 4, 1),\n",
        "    (5, 3, 1, 1)\n",
        ";\n",
        "\"\"\")\n",
        "connection.commit()\n",
        "\n",
        "cursor.execute(\"\"\"\n",
        "CREATE TABLE IF NOT EXISTS employees(\n",
        "    id INT PRIMARY KEY,\n",
        "    name VARCHAR(100),\n",
        "    department VARCHAR(100)\n",
        ")ENGINE=InnoDB;\n",
        "\"\"\")\n",
        "\n",
        "cursor.execute(\"\"\"\n",
        "INSERT INTO employees VALUES\n",
        "    (1, 'David', 'Sales'),\n",
        "    (2, 'Emma', 'Support'),\n",
        "    (3, 'Frank', 'Sales')\n",
        ";\n",
        "\"\"\")\n",
        "connection.commit()\n",
        "\n",
        "cursor.execute(\"\"\"\n",
        "CREATE TABLE IF NOT EXISTS order_assignments(\n",
        "    id INT PRIMARY KEY,\n",
        "    order_id INT,\n",
        "    employee_id INT\n",
        ")ENGINE=InnoDB;\n",
        "\"\"\")\n",
        "\n",
        "cursor.execute(\"\"\"\n",
        "INSERT INTO order_assignments VALUES\n",
        "    (1, 1, 1),\n",
        "    (2, 2, 3),\n",
        "    (3, 3, 2)\n",
        ";\n",
        "\"\"\")\n",
        "connection.commit()"
      ],
      "metadata": {
        "id": "6q18jZXasNhd"
      },
      "execution_count": null,
      "outputs": []
    },
    {
      "cell_type": "code",
      "source": [
        "# Tạo procedure lấy tổng số đơn hàng của 1 khách hàng\n",
        "# Đầu vào: customer_id (INT)\n",
        "# Đầu ra: order_count (INT)\n",
        "\n",
        "query = \"\"\"\n",
        "        CREATE PROCEDURE IF NOT EXISTS getordercount(\n",
        "            IN p_customer_id INT,\n",
        "            OUT p_order_count INT\n",
        "        )\n",
        "        BEGIN\n",
        "            SELECT COUNT(*) INTO p_order_count\n",
        "            FROM orders\n",
        "            WHERE customer_id = p_customer_id;\n",
        "        END;\n",
        "\"\"\"\n",
        "cursor.execute(query)\n",
        "connection.commit()\n",
        "\n",
        "# Gọi procedure\n",
        "customer_id = 1\n",
        "cursor.execute(\"SET @order_count = 0\")\n",
        "query = \"CALL getordercount (%s, @order_count)\"\n",
        "cursor.execute(query, (customer_id,))\n",
        "\n",
        "# Lấy kết quả\n",
        "query = \"SELECT @order_count\"\n",
        "cursor.execute(query)\n",
        "result = cursor.fetchone()\n",
        "\n",
        "# Hiển thị kết quả\n",
        "order_count = result[0]\n",
        "print(f\"Tổng số đơn hàng của khách hàng {customer_id}: {order_count}\")"
      ],
      "metadata": {
        "id": "dnbfMMlssST7"
      },
      "execution_count": null,
      "outputs": []
    },
    {
      "cell_type": "markdown",
      "source": [
        "# ![image.png](data:image/png;base64,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)"
      ],
      "metadata": {
        "id": "KI1Yf8hlsWmi"
      }
    },
    {
      "cell_type": "code",
      "source": [
        "# Tạo procedure lấy tên nhân viên theo mã ID\n",
        "# Đầu vào: employee_id (INT)\n",
        "# Đầu ra: employee_name (VARCHAR)\n",
        "\n",
        "query=\"\"\"\n",
        "CREATE PROCEDURE IF NOT EXISTS getemployeename(\n",
        "    IN p_employee_id INT,\n",
        "    OUT p_employee_name VARCHAR(50)\n",
        ")\n",
        "BEGIN\n",
        "    SELECT name INTO p_employee_name\n",
        "    FROM employees\n",
        "    WHERE id= p_employee_id;\n",
        "END\n",
        ";\"\"\"\n",
        "\n",
        "cursor.execute(query)\n",
        "connection.commit()\n",
        "\n",
        "employee_id = 1\n",
        "cursor.execute(\"SET @employee_name = '\\n' \") # gán giá trị ban đầu\n",
        "cursor.execute(\"CALL getemployeename (%s, @employee_name)\", (employee_id,))   #gọi procedure\n",
        "cursor.execute(\"SELECT @employee_name\") #lấy kết quả\n",
        "ename= cursor.fetchone() [0]  # hiển thị kết quả\n",
        "print(f\"Tên nhân viên có mã {employee_id}: {ename}\")"
      ],
      "metadata": {
        "id": "i-Bosqv1saP_"
      },
      "execution_count": null,
      "outputs": []
    },
    {
      "cell_type": "markdown",
      "source": [
        "#![image.png](data:image/png;base64,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)"
      ],
      "metadata": {
        "id": "otgHk1635jtq"
      }
    },
    {
      "cell_type": "code",
      "source": [
        "# Tạo procedure cập nhật thành phố của khách hàng\n",
        "# Đầu vào: customer_id (INT), new_city (VARCHAR)\n",
        "\n",
        "query=\"\"\"\n",
        "CREATE PROCEDURE IF NOT EXISTS updatecity(\n",
        "    IN p_customer_id INT,\n",
        "    IN p_new_city VARCHAR(50)\n",
        ")\n",
        "BEGIN\n",
        "    UPDATE customers\n",
        "    SET city = p_new_city\n",
        "    WHERE id = p_customer_id;\n",
        "END\n",
        ";\"\"\"\n",
        "\n",
        "cursor.execute(query)\n",
        "connection.commit()\n",
        "\n",
        "p_customer_id = 1\n",
        "p_new_city = \"Ho Chi Minh\"\n",
        "cursor.execute(\"CALL updatecity(%s, %s)\", (p_customer_id, p_new_city))\n",
        "connection.commit()\n",
        "\n",
        "query= \"SELECT name, city FROM customers WHERE id = 1\"\n",
        "data=pd.read_sql_query(query, connection)\n",
        "data\n"
      ],
      "metadata": {
        "id": "YU6NvHBx5nj2"
      },
      "execution_count": null,
      "outputs": []
    },
    {
      "cell_type": "markdown",
      "source": [
        "![image.png](data:image/png;base64,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)"
      ],
      "metadata": {
        "id": "jROlU0c1C1u2"
      }
    },
    {
      "cell_type": "code",
      "source": [
        "# Tạo procedure in ra các sản phẩm có giá từ X trở lên\n",
        "# Đầu vào: min_price (INT)\n",
        "\n",
        "query=\"\"\"\n",
        "CREATE PROCEDURE IF NOT EXISTS listproducts(\n",
        "    IN min_price INT)\n",
        "BEGIN\n",
        "    SELECT name\n",
        "    FROM products\n",
        "    WHERE price > min_price\n",
        ";END\n",
        ";\"\"\"\n",
        "\n",
        "cursor.execute(query)\n",
        "connection.commit()\n",
        "\n",
        "min_price = 100\n",
        "cursor.execute(\"CALL listproducts(%s)\", (min_price,))\n",
        "results= cursor.fetchall()\n",
        "\n",
        "for product in results:\n",
        "    print(product[0])"
      ],
      "metadata": {
        "id": "hk3oJiX9M0xy"
      },
      "execution_count": null,
      "outputs": []
    },
    {
      "cell_type": "code",
      "source": [
        "# Tạo procedure xoá đơn hàng có tổng < X\n",
        "# Đầu vào: min_total (INT)\n",
        "\n",
        "query=\"\"\"\n",
        "CREATE PROCEDURE deleteorder(\n",
        "    IN min_total INT\n",
        ")\n",
        "BEGIN\n",
        "    DELETE FROM orders\n",
        "    WHERE total < min_total;\n",
        "END\n",
        ";\"\"\"\n",
        "cursor.execute(query)\n",
        "connection.commit()\n",
        "\n",
        "min_total= 50\n",
        "cursor.execute(\"CALL deleteorder(%s)\", (min_total,))\n",
        "query=\" SELECT * FROM orders\"\n",
        "data=pd.read_sql_query(query, connection)\n",
        "data"
      ],
      "metadata": {
        "id": "mEVKAKTFC6P-"
      },
      "execution_count": null,
      "outputs": []
    }
  ]
}