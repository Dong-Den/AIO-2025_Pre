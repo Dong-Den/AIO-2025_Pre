{
  "nbformat": 4,
  "nbformat_minor": 0,
  "metadata": {
    "colab": {
      "provenance": []
    },
    "kernelspec": {
      "name": "python3",
      "display_name": "Python 3"
    },
    "language_info": {
      "name": "python"
    }
  },
  "cells": [
    {
      "cell_type": "code",
      "execution_count": null,
      "metadata": {
        "id": "04Y1O_o1HcRv"
      },
      "outputs": [],
      "source": [
        "!pip install mysql-connector-python"
      ]
    },
    {
      "cell_type": "code",
      "source": [
        "import mysql.connector\n",
        "\n",
        "connection = mysql.connector.connect(\n",
        "    host=\"127.0.0.1\",\n",
        "    user=\"root\",\n",
        "    password=\"      \",\n",
        "    database=\"preday48\")\n",
        "cursor = connection.cursor()"
      ],
      "metadata": {
        "id": "0lduKmhsejlA"
      },
      "execution_count": null,
      "outputs": []
    },
    {
      "cell_type": "code",
      "source": [
        "import pandas as pd"
      ],
      "metadata": {
        "id": "DG2TwkAFeoeJ"
      },
      "execution_count": null,
      "outputs": []
    },
    {
      "cell_type": "code",
      "source": [
        "cursor.execute(\"\"\"\n",
        "CREATE TABLE IF NOT EXISTS customers(\n",
        "    id INT PRIMARY KEY,\n",
        "    name VARCHAR(100),\n",
        "    city VARCHAR(100)\n",
        ") ENGINE=InnoDB;\n",
        "\"\"\")"
      ],
      "metadata": {
        "id": "-dc5-n5Rer7P"
      },
      "execution_count": null,
      "outputs": []
    },
    {
      "cell_type": "code",
      "source": [
        "cursor.execute(\"\"\"\n",
        "INSERT INTO customers VALUES\n",
        "    (1, 'Alice', 'Hanoi'),\n",
        "    (2, 'Bob', 'Ho Chi Minh'),\n",
        "    (3, 'Charlie', 'Hanoi')\n",
        ";\n",
        "\"\"\")\n",
        "connection.commit()"
      ],
      "metadata": {
        "id": "0cscRTmler2u"
      },
      "execution_count": null,
      "outputs": []
    },
    {
      "cell_type": "code",
      "source": [
        "cursor.execute(\"\"\"\n",
        "CREATE TABLE IF NOT EXISTS orders(\n",
        "    id INT PRIMARY KEY,\n",
        "    customer_id INT,\n",
        "    order_date DATE,\n",
        "    total INT\n",
        ")ENGINE=InnoDB;\n",
        "\"\"\")"
      ],
      "metadata": {
        "id": "6NHTjJ7Yer0G"
      },
      "execution_count": null,
      "outputs": []
    },
    {
      "cell_type": "code",
      "source": [
        "cursor.execute(\"\"\"\n",
        "INSERT INTO orders VALUES\n",
        "    (1, 1, '2024-01-10', 500),\n",
        "    (2, 1, '2024-03-01', 800),\n",
        "    (3, 2, '2024-02-20', 1200),\n",
        "    (4, 3, '2024-01-15', 200)\n",
        ";\n",
        "\"\"\")\n",
        "connection.commit()"
      ],
      "metadata": {
        "id": "w1YlFBW9erk3"
      },
      "execution_count": null,
      "outputs": []
    },
    {
      "cell_type": "code",
      "source": [
        "cursor.execute(\"\"\"\n",
        "CREATE TABLE IF NOT EXISTS products(\n",
        "    id INT PRIMARY KEY,\n",
        "    name VARCHAR(100),\n",
        "    price INT\n",
        ")ENGINE=InnoDB;\n",
        "\"\"\")"
      ],
      "metadata": {
        "id": "46srJGcIeypF"
      },
      "execution_count": null,
      "outputs": []
    },
    {
      "cell_type": "code",
      "source": [
        "cursor.execute(\"\"\"\n",
        "INSERT INTO products VALUES\n",
        "    (1, 'Laptop', 1500),\n",
        "    (2, 'Mouse', 50),\n",
        "    (3, 'Keyboard', 100),\n",
        "    (4, 'Monitor', 300)\n",
        ";\n",
        "\"\"\")\n",
        "connection.commit()"
      ],
      "metadata": {
        "id": "mOk1LDpHeymN"
      },
      "execution_count": null,
      "outputs": []
    },
    {
      "cell_type": "code",
      "source": [
        "cursor.execute(\"\"\"\n",
        "CREATE TABLE IF NOT EXISTS order_items(\n",
        "    id INT PRIMARY KEY,\n",
        "    order_id INT,\n",
        "    product_id INT,\n",
        "    quantity INT\n",
        ")ENGINE=InnoDB;\n",
        "\"\"\")"
      ],
      "metadata": {
        "id": "Y06znO3OeykB"
      },
      "execution_count": null,
      "outputs": []
    },
    {
      "cell_type": "code",
      "source": [
        "cursor.execute(\"\"\"\n",
        "INSERT INTO order_items VALUES\n",
        "    (1, 1, 2, 2),\n",
        "    (2, 1, 3, 1),\n",
        "    (3, 2, 1, 1),\n",
        "    (4, 2, 4, 1),\n",
        "    (5, 3, 1, 1)\n",
        ";\n",
        "\"\"\")\n",
        "connection.commit()"
      ],
      "metadata": {
        "id": "deXK6fuEeyhv"
      },
      "execution_count": null,
      "outputs": []
    },
    {
      "cell_type": "code",
      "source": [
        "cursor.execute(\"\"\"\n",
        "CREATE TABLE IF NOT EXISTS employees(\n",
        "    id INT PRIMARY KEY,\n",
        "    name VARCHAR(100),\n",
        "    department VARCHAR(100)\n",
        ")ENGINE=InnoDB;\n",
        "\"\"\")"
      ],
      "metadata": {
        "id": "_EkDVORMeyfu"
      },
      "execution_count": null,
      "outputs": []
    },
    {
      "cell_type": "code",
      "source": [
        "cursor.execute(\"\"\"\n",
        "INSERT INTO employees VALUES\n",
        "    (1, 'David', 'Sales'),\n",
        "    (2, 'Emma', 'Support'),\n",
        "    (3, 'Frank', 'Sales')\n",
        ";\n",
        "\"\"\")\n",
        "connection.commit()"
      ],
      "metadata": {
        "id": "D1XmnWGJeyb_"
      },
      "execution_count": null,
      "outputs": []
    },
    {
      "cell_type": "code",
      "source": [
        "cursor.execute(\"\"\"\n",
        "CREATE TABLE IF NOT EXISTS order_assignments(\n",
        "    id INT PRIMARY KEY,\n",
        "    order_id INT,\n",
        "    employee_id INT\n",
        ")ENGINE=InnoDB;\n",
        "\"\"\")"
      ],
      "metadata": {
        "id": "okze0hfaeyTY"
      },
      "execution_count": null,
      "outputs": []
    },
    {
      "cell_type": "code",
      "source": [
        "cursor.execute(\"\"\"\n",
        "INSERT INTO order_assignments VALUES\n",
        "    (1, 1, 1),\n",
        "    (2, 2, 3),\n",
        "    (3, 3, 2)\n",
        ";\n",
        "\"\"\")\n",
        "connection.commit()"
      ],
      "metadata": {
        "id": "LrFHkUX9eyQ_"
      },
      "execution_count": null,
      "outputs": []
    },
    {
      "cell_type": "code",
      "source": [
        "# Tìm tất cả khách hàng đã từng mua đơn hàng chứa sản phẩm có giá lớn hơn 1000\n",
        "query=\"\"\"\n",
        "SELECT DISTINCT c.name\n",
        "FROM customers c\n",
        "JOIN orders o ON c.id= o.customer_id\n",
        "WHERE o.id IN(\n",
        "    SELECT oi.order_id\n",
        "    FROM order_items oi\n",
        "    JOIN products p ON oi.product_id = p.id\n",
        "    WHERE p.price > 1000)\n",
        ";\n",
        "\"\"\"\n",
        "connection.commit()\n",
        "data=pd.read_sql_query(query,connection)\n",
        "data"
      ],
      "metadata": {
        "id": "sJaP0qh-fAaz"
      },
      "execution_count": null,
      "outputs": []
    },
    {
      "cell_type": "code",
      "source": [
        "# Liệt kê tên từng khách hàng và tổng giá trị tất cả đơn hàng mà họ đã đặt\n",
        "query=\"\"\"\n",
        "SELECT c.name,\n",
        "    (SELECT SUM(total)\n",
        "    FROM orders o\n",
        "    WHERE o.customer_id= c.id) AS total_spent\n",
        "FROM customers c\n",
        ";\n",
        "\"\"\"\n",
        "connection.commit()\n",
        "data=pd.read_sql_query(query,connection)\n",
        "data"
      ],
      "metadata": {
        "id": "uzSzonKqfAAi"
      },
      "execution_count": null,
      "outputs": []
    },
    {
      "cell_type": "code",
      "source": [
        "# Hiển thị top 2 khách hàng có tổng chi tiêu cao nhất (dựa trên cột total của đơn hàng)\n",
        "query=\"\"\"\n",
        "SELECT name, total_spent\n",
        "FROM (\n",
        "    SELECT c.name, sum(o.total) AS total_spent\n",
        "    FROM customers c\n",
        "    JOIN orders o ON c.id = o.customer_id\n",
        "    GROUP BY c.name\n",
        ") AS spending\n",
        "ORDER BY total_spent DESC\n",
        "LIMIT 2\n",
        ";\n",
        "\"\"\"\n",
        "connection.commit()\n",
        "data=pd.read_sql_query(query,connection)\n",
        "data"
      ],
      "metadata": {
        "id": "-WW9QDuNe_5N"
      },
      "execution_count": null,
      "outputs": []
    },
    {
      "cell_type": "code",
      "source": [
        "# Tìm tên nhân viên thuộc phòng Sales đã từng xử lý đơn hàng có chứa sản phẩm tên \"Monitor\"\n",
        "query=\"\"\"\n",
        "SELECT DISTINCT e.name\n",
        "FROM employees e\n",
        "WHERE e.department = 'Sales'\n",
        "AND EXISTS(\n",
        "    SELECT 1\n",
        "    FROM order_assignments oa\n",
        "    JOIN order_items oi ON oi.order_id = oa.order_id\n",
        "    JOIN products p ON p.id = oi.product_id\n",
        "    WHERE p.name = 'Monitor'\n",
        "    AND oa.employee_id = e.id )\n",
        ";\n",
        "\"\"\"\n",
        "connection.commit()\n",
        "data=pd.read_sql_query(query,connection)\n",
        "data"
      ],
      "metadata": {
        "id": "cZ_OaN0fe_in"
      },
      "execution_count": null,
      "outputs": []
    },
    {
      "cell_type": "code",
      "source": [
        "# Tìm các khách hàng có tổng chi tiêu cao hơn mức trung bình của tất cả khách hàng\n",
        "query=\"\"\"\n",
        "SELECT c.name, SUM(o.total) AS total_spent\n",
        "FROM customers c\n",
        "JOIN orders o ON c.id = o.customer_id\n",
        "GROUP BY c.name\n",
        "HAVING SUM(o.total) > (\n",
        "    SELECT AVG(customer_total)\n",
        "    FROM (\n",
        "        SELECT customer_id, SUM(total) AS customer_total\n",
        "        FROM orders\n",
        "        GROUP BY customer_id\n",
        "    ) AS avg_spent\n",
        ");\n",
        "\"\"\"\n",
        "connection.commit()\n",
        "data=pd.read_sql_query(query,connection)\n",
        "data"
      ],
      "metadata": {
        "id": "X6JrFhF2e_ft"
      },
      "execution_count": null,
      "outputs": []
    },
    {
      "cell_type": "code",
      "source": [
        "# Tạo bảng tạm vip_customers gồm những khách hàng có tổng giá trị đơn hàng lớn hơn 1000.\n",
        "# Sau đó, hiển thị tên và tổng chi tiêu của các khách hàng trong bảng tạm này.\n",
        "\n",
        "query=\"\"\"\n",
        "CREATE TEMPORARY TABLE IF NOT EXISTS vip_customers AS\n",
        "SELECT customer_id, SUM(total) AS total_spent\n",
        "FROM orders\n",
        "GROUP BY customer_id\n",
        "HAVING SUM(total) > 1000\n",
        ";\n",
        "\"\"\"\n",
        "cursor.execute(query)"
      ],
      "metadata": {
        "id": "T7qlEJiYe_db"
      },
      "execution_count": null,
      "outputs": []
    },
    {
      "cell_type": "code",
      "source": [
        "query=\"\"\"\n",
        "SELECT c.name, v.total_spent\n",
        "FROM customers c\n",
        "JOIN vip_customers v ON c.id = v.customer_id\n",
        ";\"\"\"\n",
        "connection.commit()\n",
        "data=pd.read_sql_query(query,connection)\n",
        "data"
      ],
      "metadata": {
        "id": "b5l2KVMpe_aj"
      },
      "execution_count": null,
      "outputs": []
    },
    {
      "cell_type": "code",
      "source": [
        "# Tạo bảng tạm popular_products gồm những sản phẩm được bán ra với tổng số lượng từ 2 trở lên\n",
        "# Hiển thị tên và tổng số lượng bán ra của các sản phẩm này\n",
        "query=\"\"\"\n",
        "CREATE TEMPORARY TABLE IF NOT EXISTS popular_products AS\n",
        "SELECT product_id, SUM(quantity) AS total_quantity\n",
        "FROM order_items\n",
        "GROUP BY product_id\n",
        "HAVING SUM(quantity) >=2\n",
        ";\"\"\"\n",
        "cursor.execute(query)"
      ],
      "metadata": {
        "id": "lcuYI3A1e_XZ"
      },
      "execution_count": null,
      "outputs": []
    },
    {
      "cell_type": "code",
      "source": [
        "query=\"\"\"\n",
        "SELECT p.name, pp.total_quantity\n",
        "FROM products p\n",
        "JOIN popular_products pp ON pp.product_id = p.id\n",
        ";\"\"\"\n",
        "connection.commit()\n",
        "data=pd.read_sql_query(query,connection)\n",
        "data"
      ],
      "metadata": {
        "id": "zmiIzU06e-oo"
      },
      "execution_count": null,
      "outputs": []
    },
    {
      "cell_type": "code",
      "source": [
        "# Liệt kê tên các khách hàng có đơn hàng được xử lý bởi nhân viên có tổng doanh số lớn hơn 1000\n",
        "query=\"\"\"SELECT c.name\n",
        "FROM customers c\n",
        "WHERE EXISTS (\n",
        "    SELECT 1\n",
        "    FROM orders o\n",
        "    JOIN order_assignments oa ON o.id = oa.order_id\n",
        "    WHERE o.customer_id = c.id\n",
        "    AND oa.employee_id IN (\n",
        "        SELECT oa.employee_id\n",
        "        FROM order_assignments oa\n",
        "        JOIN orders o ON oa.order_id = o.id\n",
        "        GROUP BY oa.employee_id\n",
        "        HAVING SUM(o.total) > 1000\n",
        ")\n",
        ");\"\"\"\n",
        "connection.commit()\n",
        "data=pd.read_sql_query(query,connection)\n",
        "data"
      ],
      "metadata": {
        "id": "UAiEOg_4e-k_"
      },
      "execution_count": null,
      "outputs": []
    },
    {
      "cell_type": "code",
      "source": [
        "query=\"\"\"\n",
        "SELECT DISTINCT c.name\n",
        "FROM customers c\n",
        "JOIN orders o ON o.customer_id = c.id\n",
        "JOIN order_assignments oa ON oa.order_id = o.id\n",
        "WHERE oa.employee_id IN (\n",
        "    SELECT employee_id\n",
        "    FROM (\n",
        "        SELECT e.id AS employee_id, SUM(o.total) AS total_sales\n",
        "        FROM employees e\n",
        "        JOIN order_assignments oa ON e.id = oa.employee_id\n",
        "        JOIN orders o ON o.id = oa.order_id\n",
        "        GROUP BY e.id\n",
        "        HAVING SUM(o.total) > 1000\n",
        "    ) AS top_sellers\n",
        ");\"\"\"\n",
        "connection.commit()\n",
        "data=pd.read_sql_query(query,connection)\n",
        "data"
      ],
      "metadata": {
        "id": "jVcvnhnYftpV"
      },
      "execution_count": null,
      "outputs": []
    },
    {
      "cell_type": "code",
      "source": [
        "query=\"\"\"\n",
        "SELECT DISTINCT c.name\n",
        "FROM customers c\n",
        "JOIN orders o ON c.id = o.customer_id\n",
        "JOIN order_assignments oa ON o.id = oa.order_id\n",
        "WHERE oa.employee_id IN(\n",
        "    SELECT employee_id\n",
        "    FROM (\n",
        "        SELECT e.id AS employee_id, SUM(o.total) AS total_sales\n",
        "        FROM employees e\n",
        "        JOIN order_assignments oa ON oa.employee_id = e.id\n",
        "        JOIN orders o ON o.id = oa.order_id\n",
        "        GROUP BY e.id\n",
        "        HAVING SUM(o.total) > 1000\n",
        "    ) AS top_sellers\n",
        "\n",
        "\n",
        ");\"\"\"\n",
        "connection.commit()\n",
        "data=pd.read_sql_query(query,connection)\n",
        "data"
      ],
      "metadata": {
        "id": "hJP0_0cbfxFo"
      },
      "execution_count": null,
      "outputs": []
    },
    {
      "cell_type": "code",
      "source": [
        "# Tạo bảng tạm high_value_orders gồm những đơn hàng có tổng tiền > 800\n",
        "query=\"\"\"\n",
        "CREATE TEMPORARY TABLE IF NOT EXISTS high_value_orders AS\n",
        "SELECT *\n",
        "FROM orders\n",
        "WHERE total >800\n",
        ";\"\"\"\n",
        "cursor.execute(query)\n",
        "\n",
        "#Hiển thị tên khách hàng của các đơn hàng đó\n",
        "query=\"\"\"\n",
        "SELECT c.name, hvo.total\n",
        "FROM high_value_orders hvo\n",
        "JOIN customers c ON c.id = hvo.customer_id\n",
        "; \"\"\"\n",
        "connection.commit()\n",
        "data=pd.read_sql_query(query,connection)\n",
        "data"
      ],
      "metadata": {
        "id": "MtwkGJ_sf0bf"
      },
      "execution_count": null,
      "outputs": []
    },
    {
      "cell_type": "code",
      "source": [
        "# Tính tổng giá trị thực tế của từng đơn hàng bằng cách lấy price × quantity theo từng dòng sản phẩm\n",
        "query=\"\"\"\n",
        "SELECT oi.order_id, SUM(p.price*oi.quantity) AS total_value_oi\n",
        "FROM order_items oi\n",
        "JOIN products p ON p.id = oi.product_id\n",
        "GROUP BY oi.order_id\n",
        "; \"\"\"\n",
        "connection.commit()\n",
        "data=pd.read_sql_query(query,connection)\n",
        "data"
      ],
      "metadata": {
        "id": "B09SaC_Ef7v1"
      },
      "execution_count": null,
      "outputs": []
    }
  ]
}