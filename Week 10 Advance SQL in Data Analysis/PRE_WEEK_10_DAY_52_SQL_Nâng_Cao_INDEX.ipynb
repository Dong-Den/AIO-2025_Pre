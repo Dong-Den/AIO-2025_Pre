{
  "nbformat": 4,
  "nbformat_minor": 0,
  "metadata": {
    "colab": {
      "provenance": []
    },
    "kernelspec": {
      "name": "python3",
      "display_name": "Python 3"
    },
    "language_info": {
      "name": "python"
    }
  },
  "cells": [
    {
      "cell_type": "code",
      "execution_count": null,
      "metadata": {
        "id": "JvalLHOVreEg"
      },
      "outputs": [],
      "source": [
        "CREATE INDEX idx_customers_city\n",
        "ON customers(city);\n",
        "\n",
        "-- C2\n",
        "CREATE INDEX idx_orders_customer\n",
        "ON orders(customer_id);\n",
        "\n",
        "\n",
        "-- C3\n",
        "CREATE UNIQUE INDEX idx_products_name\n",
        "ON products(name);\n",
        "\n",
        "-- C4\n",
        "CREATE INDEX idx_order_items_product_order\n",
        "ON order_items(product_id, order_id);\n",
        "\n",
        "-- C5\n",
        "EXPLAIN SELECT * FROM customers WHERE city = 'Hanoi';\n",
        "\n",
        "-- C6\n",
        "DROP INDEX idx_customers_city ON customers;\n",
        "\n",
        "-- C7\n",
        "CREATE INDEX idx_orders_total\n",
        "ON orders(total);\n",
        "\n",
        "-- C8\n",
        "CREATE INDEX idx_employees_department\n",
        "ON employees(department);\n",
        "\n",
        "SELECT * FROM employees WHERE department = 'Sales';\n",
        "\n",
        "-- C9\n",
        "EXPLAIN SELECT * FROM products WHERE price > 1000;\n",
        "\n",
        "-- C10\n",
        "CREATE INDEX idx_orders_date\n",
        "ON orders(order_date);"
      ]
    },
    {
      "cell_type": "markdown",
      "source": [
        "####\n",
        "\n",
        "\n",
        "CREATE INDEX idx_customers_city\n",
        "ON customers(city);\n",
        "\n",
        "-- C2\n",
        "CREATE INDEX idx_orders_customer\n",
        "ON orders(customer_id);\n",
        "\n",
        "\n",
        "-- C3\n",
        "CREATE UNIQUE INDEX idx_products_name\n",
        "ON products(name);\n",
        "\n",
        "-- C4\n",
        "CREATE INDEX idx_order_items_product_order\n",
        "ON order_items(product_id, order_id);\n",
        "\n",
        "-- C5\n",
        "EXPLAIN SELECT * FROM customers WHERE city = 'Hanoi';\n",
        "\n",
        "-- C6\n",
        "DROP INDEX idx_customers_city ON customers;\n",
        "\n",
        "-- C7\n",
        "CREATE INDEX idx_orders_total\n",
        "ON orders(total);\n",
        "\n",
        "-- C8\n",
        "CREATE INDEX idx_employees_department\n",
        "ON employees(department);\n",
        "\n",
        "SELECT * FROM employees WHERE department = 'Sales';\n",
        "\n",
        "-- C9\n",
        "EXPLAIN SELECT * FROM products WHERE price > 1000;\n",
        "\n",
        "-- C10\n",
        "CREATE INDEX idx_orders_date\n",
        "ON orders(order_date);"
      ],
      "metadata": {
        "id": "y0mJHa1Ar54h"
      }
    }
  ]
}