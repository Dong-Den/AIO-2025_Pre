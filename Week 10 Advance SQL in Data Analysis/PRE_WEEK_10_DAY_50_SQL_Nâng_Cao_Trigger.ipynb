{
  "nbformat": 4,
  "nbformat_minor": 0,
  "metadata": {
    "colab": {
      "provenance": []
    },
    "kernelspec": {
      "name": "python3",
      "display_name": "Python 3"
    },
    "language_info": {
      "name": "python"
    }
  },
  "cells": [
    {
      "cell_type": "code",
      "execution_count": null,
      "metadata": {
        "id": "hZZD-9HwRH3R"
      },
      "outputs": [],
      "source": [
        "!pip install mysql-connector-python"
      ]
    },
    {
      "cell_type": "code",
      "source": [
        "import mysql.connector\n",
        "\n",
        "connection = mysql.connector.connect(\n",
        "    host=\"127.0.0.1\",\n",
        "    user=\"root\",\n",
        "    password=\"     \",\n",
        "    database=\"preday50\")\n",
        "cursor = connection.cursor()"
      ],
      "metadata": {
        "id": "5s5fMqmntkuL"
      },
      "execution_count": null,
      "outputs": []
    },
    {
      "cell_type": "code",
      "source": [
        "import pandas as pd"
      ],
      "metadata": {
        "id": "2XceQjfptnEy"
      },
      "execution_count": null,
      "outputs": []
    },
    {
      "cell_type": "code",
      "source": [
        "cursor.execute(\"\"\"\n",
        "CREATE TABLE IF NOT EXISTS customers(\n",
        "    id INT PRIMARY KEY,\n",
        "    name VARCHAR(100),\n",
        "    city VARCHAR(100)\n",
        ") ENGINE=InnoDB;\n",
        "\"\"\")\n",
        "\n",
        "cursor.execute(\"\"\"\n",
        "INSERT INTO customers VALUES\n",
        "    (1, 'Alice', 'Hanoi'),\n",
        "    (2, 'Bob', 'Ho Chi Minh'),\n",
        "    (3, 'Charlie', 'Hanoi')\n",
        ";\n",
        "\"\"\")\n",
        "connection.commit()\n",
        "\n",
        "cursor.execute(\"\"\"\n",
        "CREATE TABLE IF NOT EXISTS orders(\n",
        "    id INT PRIMARY KEY,\n",
        "    customer_id INT,\n",
        "    order_date DATE,\n",
        "    total INT\n",
        ")ENGINE=InnoDB;\n",
        "\"\"\")\n",
        "\n",
        "cursor.execute(\"\"\"\n",
        "INSERT INTO orders VALUES\n",
        "    (1, 1, '2024-01-10', 500),\n",
        "    (2, 1, '2024-03-01', 800),\n",
        "    (3, 2, '2024-02-20', 1200),\n",
        "    (4, 3, '2024-01-15', 200)\n",
        ";\n",
        "\"\"\")\n",
        "connection.commit()\n",
        "\n",
        "cursor.execute(\"\"\"\n",
        "CREATE TABLE IF NOT EXISTS products(\n",
        "    id INT PRIMARY KEY,\n",
        "    name VARCHAR(100),\n",
        "    price INT\n",
        ")ENGINE=InnoDB;\n",
        "\"\"\")\n",
        "\n",
        "cursor.execute(\"\"\"\n",
        "INSERT INTO products VALUES\n",
        "    (1, 'Laptop', 1500),\n",
        "    (2, 'Mouse', 50),\n",
        "    (3, 'Keyboard', 100),\n",
        "    (4, 'Monitor', 300)\n",
        ";\n",
        "\"\"\")\n",
        "connection.commit()\n",
        "\n",
        "cursor.execute(\"\"\"\n",
        "CREATE TABLE IF NOT EXISTS order_items(\n",
        "    id INT PRIMARY KEY,\n",
        "    order_id INT,\n",
        "    product_id INT,\n",
        "    quantity INT\n",
        ")ENGINE=InnoDB;\n",
        "\"\"\")\n",
        "\n",
        "cursor.execute(\"\"\"\n",
        "INSERT INTO order_items VALUES\n",
        "    (1, 1, 2, 2),\n",
        "    (2, 1, 3, 1),\n",
        "    (3, 2, 1, 1),\n",
        "    (4, 2, 4, 1),\n",
        "    (5, 3, 1, 1)\n",
        ";\n",
        "\"\"\")\n",
        "connection.commit()\n",
        "\n",
        "cursor.execute(\"\"\"\n",
        "CREATE TABLE IF NOT EXISTS employees(\n",
        "    id INT PRIMARY KEY,\n",
        "    name VARCHAR(100),\n",
        "    department VARCHAR(100)\n",
        ")ENGINE=InnoDB;\n",
        "\"\"\")\n",
        "\n",
        "cursor.execute(\"\"\"\n",
        "INSERT INTO employees VALUES\n",
        "    (1, 'David', 'Sales'),\n",
        "    (2, 'Emma', 'Support'),\n",
        "    (3, 'Frank', 'Sales')\n",
        ";\n",
        "\"\"\")\n",
        "connection.commit()\n",
        "\n",
        "cursor.execute(\"\"\"\n",
        "CREATE TABLE IF NOT EXISTS order_assignments(\n",
        "    id INT PRIMARY KEY,\n",
        "    order_id INT,\n",
        "    employee_id INT\n",
        ")ENGINE=InnoDB;\n",
        "\"\"\")\n",
        "\n",
        "cursor.execute(\"\"\"\n",
        "INSERT INTO order_assignments VALUES\n",
        "    (1, 1, 1),\n",
        "    (2, 2, 3),\n",
        "    (3, 3, 2)\n",
        ";\n",
        "\"\"\")\n",
        "connection.commit()"
      ],
      "metadata": {
        "id": "61320F6Otohw"
      },
      "execution_count": null,
      "outputs": []
    },
    {
      "cell_type": "code",
      "source": [
        "# Tạo trigger để ghi log vào bảng order_logs mỗi khi đơn hàng bị xoá khỏi bảng orders\n",
        "\n",
        "query= \"\"\"\n",
        "CREATE TABLE IF NOT EXISTS order_logs (\n",
        "    id INT AUTO_INCREMENT PRIMARY KEY,\n",
        "    log_message TEXT,\n",
        "    created_at TIMESTAMP DEFAULT CURRENT_TIMESTAMP\n",
        ")\n",
        ";\"\"\"\n",
        "cursor.execute(query)"
      ],
      "metadata": {
        "id": "X6CX6qiqtrFt"
      },
      "execution_count": null,
      "outputs": []
    },
    {
      "cell_type": "code",
      "source": [
        "query=\"\"\"\n",
        "CREATE TRIGGER log_order_delete\n",
        "AFTER DELETE ON orders\n",
        "FOR EACH ROW\n",
        "BEGIN\n",
        "    INSERT INTO order_logs(log_message)\n",
        "    VALUES (CONCAT('Delete order ID:', OLD.id, '-total:', OLD.total));\n",
        "END\n",
        ";\"\"\"\n",
        "\n",
        "cursor.execute(query)\n",
        "connection.commit()"
      ],
      "metadata": {
        "id": "JDBbI-NFttET"
      },
      "execution_count": null,
      "outputs": []
    },
    {
      "cell_type": "code",
      "source": [
        "# TEST TRIGGER\n",
        "query=\"\"\"\n",
        "DELETE FROM orders\n",
        "WHERE id=1;\"\"\"\n",
        "cursor.execute(query)"
      ],
      "metadata": {
        "id": "3PevQlm9tvac"
      },
      "execution_count": null,
      "outputs": []
    },
    {
      "cell_type": "code",
      "source": [
        "query=\"\"\" SELECT * FROM order_logs\"\"\"\n",
        "cursor.execute(query)\n",
        "result = cursor.fetchall()\n",
        "for row in result:\n",
        "    print(row)"
      ],
      "metadata": {
        "id": "CUGydlH1t5Ku"
      },
      "execution_count": null,
      "outputs": []
    },
    {
      "cell_type": "code",
      "source": [
        "# Tạo trigger trên bảng order_items để tự động cập nhật tổng tiền của đơn hàng trong bảng orders khi thêm dòng sản phẩm mới\n",
        "\n",
        "query=\"\"\"\n",
        "CREATE TABLE update_product_logs(\n",
        "    id INT AUTO_INCREMENT PRIMARY KEY,\n",
        "    log_message TEXT,\n",
        "    created_at TIMESTAMP DEFAULT CURRENT_TIMESTAMP\n",
        ")\n",
        ";\"\"\"\n",
        "cursor.execute(query)\n"
      ],
      "metadata": {
        "id": "VP8fVF-dtxLz"
      },
      "execution_count": null,
      "outputs": []
    },
    {
      "cell_type": "code",
      "source": [
        "query= \"\"\"\n",
        "CREATE TRIGGER update_order_total2\n",
        "AFTER INSERT ON order_items\n",
        "FOR EACH ROW\n",
        "BEGIN\n",
        "    UPDATE orders\n",
        "    SET total = total + NEW.quantity * (SELECT price FROM products WHERE id= NEW.product_id)\n",
        "    WHERE order_id = NEW.order_id;\n",
        "\n",
        "    INSERT INTO update_product_logs(log_message)\n",
        "    VALUES (CONCAT('NEW order_id:', NEW.order_id, '-product_id:', NEW.product_id, '-quantity:', NEW.quantity)) ;\n",
        "END\n",
        ";\"\"\"\n",
        "\n",
        "cursor.execute(query)\n",
        "connection.commit()"
      ],
      "metadata": {
        "id": "fofE2GDqtzvo"
      },
      "execution_count": null,
      "outputs": []
    },
    {
      "cell_type": "code",
      "source": [
        "# TEST TRIGGER\n",
        "query= \"\"\"\n",
        "INSERT INTO order_items VALUES\n",
        "    (6,2,5,1)\n",
        ";\"\"\"\n",
        "cursor.execute(query)\n",
        "connection.commit()"
      ],
      "metadata": {
        "id": "tAYlulovuABH"
      },
      "execution_count": null,
      "outputs": []
    },
    {
      "cell_type": "code",
      "source": [
        "# TEST TRIGGER\n",
        "query=\"\"\"\n",
        "INSERT INTO products VALUES\n",
        "    (5,'Main', 200)\n",
        ";\"\"\"\n",
        "cursor.execute(query)\n",
        "connection.commit()"
      ],
      "metadata": {
        "id": "spA8cItAuFhZ"
      },
      "execution_count": null,
      "outputs": []
    },
    {
      "cell_type": "code",
      "source": [
        "query=\"\"\"\n",
        "SELECT * FROM update_product_logs\n",
        ";\"\"\"\n",
        "\n",
        "cursor.execute(query)\n",
        "result= cursor.fetchall()\n",
        "for row in result:\n",
        "    print(row)"
      ],
      "metadata": {
        "id": "an4wJT5HuPq2"
      },
      "execution_count": null,
      "outputs": []
    },
    {
      "cell_type": "code",
      "source": [
        "# Tạo trigger BEFORE UPDATE trên bảng products để huỷ cập nhật nếu giá mới vượt quá 1000\n",
        "query = \"\"\"\n",
        "CREATE TABLE prevent_price_products_logs(\n",
        "    id INT AUTO_INCREMENT PRIMARY KEY,\n",
        "    log_message TEXT,\n",
        "    created_at TIMESTAMP DEFAULT CURRENT_TIMESTAMP)\n",
        ";\"\"\"\n",
        "cursor.execute(query)"
      ],
      "metadata": {
        "id": "S8Q4_sYVuTr0"
      },
      "execution_count": null,
      "outputs": []
    },
    {
      "cell_type": "code",
      "source": [
        "query=\"\"\"\n",
        "CREATE TRIGGER prevent_price_products\n",
        "BEFORE UPDATE ON products\n",
        "FOR EACH ROW\n",
        "BEGIN\n",
        "   IF NEW.price >1000 THEN\n",
        "       SIGNAL SQLSTATE '45000'\n",
        "       SET MESSAGE_TEXT= 'Price too hight';\n",
        "    END IF;\n",
        "\n",
        "    INSERT INTO prevent_price_products_logs(log_message) VALUES\n",
        "        (CONCAT('Product ID:', NEW.id, '- Old Price:', OLD.price, '- New Price:', NEW.price));\n",
        "END\n",
        ";\"\"\"\n",
        "cursor.execute(query)\n",
        "connection.commit()"
      ],
      "metadata": {
        "id": "if0ggN3iuaYg"
      },
      "execution_count": null,
      "outputs": []
    },
    {
      "cell_type": "code",
      "source": [
        "# TEST TRIGGER\n",
        "\n",
        "query=\"\"\"\n",
        "UPDATE products\n",
        "SET price = 55\n",
        "WHERE id = 2;\"\"\"\n",
        "cursor.execute(query)\n",
        "connection.commit()"
      ],
      "metadata": {
        "id": "VBwzGvwdua7t"
      },
      "execution_count": null,
      "outputs": []
    },
    {
      "cell_type": "code",
      "source": [
        "query = \"SELECT * FROM prevent_price_products_logs\"\n",
        "cursor.execute(query)\n",
        "result= cursor.fetchall()\n",
        "for row in result:\n",
        "    print(row)"
      ],
      "metadata": {
        "id": "_2Uyfn4VucWm"
      },
      "execution_count": null,
      "outputs": []
    },
    {
      "cell_type": "code",
      "source": [
        "# Mỗi khi xoá khách hàng, ghi lại thông tin vào bảng customers_deleted để lưu trữ\n",
        "\n",
        "query= \"\"\"\n",
        "CREATE TABLE customers_deleted_logs(\n",
        "    id INT,\n",
        "    name VARCHAR(50),\n",
        "    city VARCHAR(50),\n",
        "    deleted_at TIMESTAMP DEFAULT CURRENT_TIMESTAMP)\n",
        ";\"\"\"\n",
        "cursor.execute(query)"
      ],
      "metadata": {
        "id": "mtn61LWyueWk"
      },
      "execution_count": null,
      "outputs": []
    },
    {
      "cell_type": "code",
      "source": [
        "query=\"\"\"\n",
        "CREATE TRIGGER customers_deleted\n",
        "BEFORE DELETE ON customers\n",
        "FOR EACH ROW\n",
        "BEGIN\n",
        "    INSERT INTO customers_deleted_logs(id, name, city)\n",
        "    VALUES(OLD.id, OLD.name, OLD.city);\n",
        "END\n",
        ";\"\"\"\n",
        "cursor.execute(query)\n",
        "connection.commit()"
      ],
      "metadata": {
        "id": "lhC5vL1X0LHi"
      },
      "execution_count": null,
      "outputs": []
    },
    {
      "cell_type": "code",
      "source": [
        "# TEST TRIGGER\n",
        "query=\"DELETE FROM orders WHERE customer_id = 1;\"\"\"\n",
        "cursor.execute(query)"
      ],
      "metadata": {
        "id": "rivuDLa_0MoC"
      },
      "execution_count": null,
      "outputs": []
    },
    {
      "cell_type": "code",
      "source": [
        "query=\"DELETE FROM customers WHERE id = 1;\"\"\"\n",
        "cursor.execute(query)"
      ],
      "metadata": {
        "id": "qvP_PP840OTc"
      },
      "execution_count": null,
      "outputs": []
    },
    {
      "cell_type": "code",
      "source": [
        "query=\"SELECT * FROM customers_deleted_logs;\"\"\"\n",
        "cursor.execute(query)\n",
        "result=cursor.fetchall()\n",
        "for row in result:\n",
        "    print(row)"
      ],
      "metadata": {
        "id": "a8G9TDr00P3O"
      },
      "execution_count": null,
      "outputs": []
    },
    {
      "cell_type": "markdown",
      "source": [
        "![image.png](data:image/png;base64,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)"
      ],
      "metadata": {
        "id": "CCXhQ8gf-NRX"
      }
    },
    {
      "cell_type": "code",
      "source": [
        "# Ghi log vào bảng order_alerts khi khách hàng từ “Hanoi” đặt đơn hàng có tổng lớn hơn 1000\n",
        "query=\"\"\"\n",
        "CREATE TABLE IF NOT EXISTS order_alerts_logs(\n",
        "    id INT AUTO_INCREMENT PRIMARY KEY,\n",
        "    alert_message TEXT,\n",
        "    created_at TIMESTAMP DEFAULT CURRENT_TIMESTAMP)\n",
        ";\"\"\"\n",
        "cursor.execute(query)"
      ],
      "metadata": {
        "id": "1232QMAC-OHe"
      },
      "execution_count": null,
      "outputs": []
    },
    {
      "cell_type": "code",
      "source": [
        "query= \"\"\"\n",
        "CREATE TRIGGER order_alerts\n",
        "AFTER INSERT ON orders\n",
        "FOR EACH ROW\n",
        "BEGIN\n",
        "    IF NEW.total>1000 AND\n",
        "        (SELECT city FROM customers WHERE id= NEW.customer_id) = \"Hanoi\"\n",
        "        THEN\n",
        "        INSERT INTO order_alerts_logs(alert_message) VALUES\n",
        "        (CONCAT('Alert: High value order by Hanoi customer ID:', NEW.customer_id, 'Total:', NEW.total));\n",
        "    END IF;\n",
        "END\n",
        ";\"\"\"\n",
        "\n",
        "cursor.execute(query)\n"
      ],
      "metadata": {
        "id": "CvsQcfrA-IG3"
      },
      "execution_count": null,
      "outputs": []
    },
    {
      "cell_type": "code",
      "source": [
        "# TEST TRIGGER\n",
        "query= \"\"\"\n",
        "INSERT INTO orders(id, customer_id, order_date, total) VALUES\n",
        "    (8,3,'2024-10-30', 1300)\n",
        ";\"\"\"\n",
        "cursor.execute(query)"
      ],
      "metadata": {
        "id": "h42wy5sB-UP3"
      },
      "execution_count": null,
      "outputs": []
    },
    {
      "cell_type": "code",
      "source": [
        "query=\"SELECT * FROM order_alerts_logs;\"\n",
        "cursor.execute(query)\n",
        "result=cursor.fetchall()\n",
        "for row in result:\n",
        "    print(row)"
      ],
      "metadata": {
        "id": "wWSEmhQr-U2f"
      },
      "execution_count": null,
      "outputs": []
    },
    {
      "cell_type": "markdown",
      "source": [
        "![image.png](data:image/png;base64,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)"
      ],
      "metadata": {
        "id": "3h6csrpK-bw_"
      }
    },
    {
      "cell_type": "code",
      "source": [],
      "metadata": {
        "id": "RA7HAfFG-cR7"
      },
      "execution_count": null,
      "outputs": []
    }
  ]
}