{
  "nbformat": 4,
  "nbformat_minor": 0,
  "metadata": {
    "colab": {
      "provenance": []
    },
    "kernelspec": {
      "name": "python3",
      "display_name": "Python 3"
    },
    "language_info": {
      "name": "python"
    }
  },
  "cells": [
    {
      "cell_type": "markdown",
      "source": [
        "# **Numpy - Term frequency and Invert Document Frequency**"
      ],
      "metadata": {
        "id": "eYYgvIe5sQ1t"
      }
    },
    {
      "cell_type": "code",
      "execution_count": null,
      "metadata": {
        "colab": {
          "base_uri": "https://localhost:8080/",
          "height": 332
        },
        "id": "D0IzWBjEsORw",
        "outputId": "0361f54e-6853-438f-9285-8db899a4b9ca"
      },
      "outputs": [
        {
          "output_type": "error",
          "ename": "TypeError",
          "evalue": "'builtin_function_or_method' object is not iterable",
          "traceback": [
            "\u001b[0;31m---------------------------------------------------------------------------\u001b[0m",
            "\u001b[0;31mTypeError\u001b[0m                                 Traceback (most recent call last)",
            "\u001b[0;32m<ipython-input-25-debac4794d40>\u001b[0m in \u001b[0;36m<cell line: 0>\u001b[0;34m()\u001b[0m\n\u001b[1;32m     30\u001b[0m     \u001b[0;32mreturn\u001b[0m \u001b[0mtf_idf\u001b[0m\u001b[0;34m\u001b[0m\u001b[0;34m\u001b[0m\u001b[0m\n\u001b[1;32m     31\u001b[0m \u001b[0;34m\u001b[0m\u001b[0m\n\u001b[0;32m---> 32\u001b[0;31m \u001b[0mtf_idf\u001b[0m \u001b[0;34m=\u001b[0m \u001b[0mcompute_tf_idf\u001b[0m\u001b[0;34m(\u001b[0m\u001b[0mcompute_tf\u001b[0m\u001b[0;34m,\u001b[0m \u001b[0mcompute_idf\u001b[0m\u001b[0;34m)\u001b[0m\u001b[0;34m\u001b[0m\u001b[0;34m\u001b[0m\u001b[0m\n\u001b[0m\u001b[1;32m     33\u001b[0m \u001b[0mprint\u001b[0m\u001b[0;34m(\u001b[0m\u001b[0;34m\"\\n Kết qủa TF-IDF cho từng tài liêu:\"\u001b[0m\u001b[0;34m)\u001b[0m\u001b[0;34m\u001b[0m\u001b[0;34m\u001b[0m\u001b[0m\n\u001b[1;32m     34\u001b[0m \u001b[0;34m\u001b[0m\u001b[0m\n",
            "\u001b[0;32m<ipython-input-25-debac4794d40>\u001b[0m in \u001b[0;36mcompute_tf_idf\u001b[0;34m(tf, idf)\u001b[0m\n\u001b[1;32m     24\u001b[0m         \u001b[0mdoc_tf_idf\u001b[0m\u001b[0;34m=\u001b[0m\u001b[0;34m{\u001b[0m\u001b[0;34m}\u001b[0m\u001b[0;34m\u001b[0m\u001b[0;34m\u001b[0m\u001b[0m\n\u001b[1;32m     25\u001b[0m         \u001b[0mtf_values\u001b[0m\u001b[0;34m=\u001b[0m\u001b[0mnp\u001b[0m\u001b[0;34m.\u001b[0m\u001b[0marray\u001b[0m\u001b[0;34m(\u001b[0m\u001b[0mlist\u001b[0m\u001b[0;34m(\u001b[0m\u001b[0mdoc_tf\u001b[0m\u001b[0;34m.\u001b[0m\u001b[0mvalues\u001b[0m\u001b[0;34m(\u001b[0m\u001b[0;34m)\u001b[0m\u001b[0;34m)\u001b[0m\u001b[0;34m)\u001b[0m\u001b[0;34m\u001b[0m\u001b[0;34m\u001b[0m\u001b[0m\n\u001b[0;32m---> 26\u001b[0;31m         \u001b[0midf_values\u001b[0m\u001b[0;34m=\u001b[0m\u001b[0mnp\u001b[0m\u001b[0;34m.\u001b[0m\u001b[0marray\u001b[0m\u001b[0;34m(\u001b[0m\u001b[0;34m[\u001b[0m\u001b[0mcompute_idf\u001b[0m\u001b[0;34m(\u001b[0m\u001b[0mword\u001b[0m\u001b[0;34m)\u001b[0m \u001b[0;32mfor\u001b[0m \u001b[0mword\u001b[0m \u001b[0;32min\u001b[0m \u001b[0mwords\u001b[0m\u001b[0;34m]\u001b[0m\u001b[0;34m)\u001b[0m\u001b[0;34m\u001b[0m\u001b[0;34m\u001b[0m\u001b[0m\n\u001b[0m\u001b[1;32m     27\u001b[0m         \u001b[0mtfidf_values\u001b[0m\u001b[0;34m=\u001b[0m\u001b[0mtf_values\u001b[0m\u001b[0;34m*\u001b[0m\u001b[0midf_values\u001b[0m\u001b[0;34m\u001b[0m\u001b[0;34m\u001b[0m\u001b[0m\n\u001b[1;32m     28\u001b[0m         \u001b[0mdoc_tfidf\u001b[0m\u001b[0;34m=\u001b[0m\u001b[0mdict\u001b[0m\u001b[0;34m(\u001b[0m\u001b[0mzip\u001b[0m\u001b[0;34m(\u001b[0m\u001b[0mwords\u001b[0m\u001b[0;34m,\u001b[0m \u001b[0mtfidf_values\u001b[0m\u001b[0;34m)\u001b[0m\u001b[0;34m)\u001b[0m\u001b[0;34m\u001b[0m\u001b[0;34m\u001b[0m\u001b[0m\n",
            "\u001b[0;31mTypeError\u001b[0m: 'builtin_function_or_method' object is not iterable"
          ]
        }
      ],
      "source": [
        "import numpy as np\n",
        "import math\n",
        "\n",
        "documents=[\"Tôi thích học AI\", \"AI là trí tuệ nhân tạo\", \"AGI là siêu trí tuệ nhân tạo\"]\n",
        "words=set()\n",
        "for doc in documents:\n",
        "    words.update(doc.split())\n",
        "words=list(words)\n",
        "words=words.sort\n",
        "\n",
        "def compute_tf(doc):\n",
        "    doc_words=doc.split()\n",
        "    word_count=np.array([doc_words.count(word) for word in doc_words])\n",
        "    return dict(zip(doc_words, word_count/len(doc_words)))\n",
        "\n",
        "def compute_idf(word):\n",
        "    doc_count=np.sum([1 for doc in documents if word in doc.split()])\n",
        "    return np.log(len(documents)/doc_count) if doc_count!=0 else 0\n",
        "\n",
        "def compute_tf_idf(tf, idf):\n",
        "    tf_idf=[]\n",
        "    for doc in documents:\n",
        "        doc_tf=compute_tf(doc)\n",
        "        doc_tf_idf={}\n",
        "        tf_values=np.array(list(doc_tf.values()))\n",
        "        idf_values=np.array([compute_idf(word) for word in words])\n",
        "        tfidf_values=tf_values*idf_values\n",
        "        doc_tfidf=dict(zip(words, tfidf_values))\n",
        "        tf_idf.append(doc_tfidf)\n",
        "    return tf_idf\n",
        "\n",
        "tf_idf = compute_tf_idf(compute_tf, compute_idf)\n",
        "print(\"\\n Kết qủa TF-IDF cho từng tài liêu:\")\n",
        "\n",
        "for i, doc in enumerate(documents):\n",
        "      tf=compute_tf(doc)\n",
        "      idf=compute_idf(words)\n",
        "      doc_tfidf=compute_tf_idf(tf, idf)\n",
        "      print(f\"\\n Tài liệu {i+1}:\")\n",
        "      for word, score in doc_tfidf.items():\n",
        "          print(f\"{word}: : {score:,4f}\")\n"
      ]
    },
    {
      "cell_type": "code",
      "source": [
        "import numpy as np\n",
        "import math\n",
        "documents=[\"Tôi thích học AI\", \"AI là trí tuệ nhân tạo\", \"AGI là siêu trí tuệ nhân tạo\"]\n",
        "\n",
        "words=set()\n",
        "for doc in documents:\n",
        "    words.update(doc.split())\n",
        "words=list(words)\n",
        "\n",
        "def compute_tf(doc):\n",
        "    tf={}\n",
        "    doc_words=doc.split()\n",
        "    for word in words:\n",
        "        tf[word]=doc_words.count(word)/len(doc_words)\n",
        "    return tf\n",
        "\n",
        "def compute_idf(word):\n",
        "    doc_count=sum(1 for doc in documents if word in doc.split())\n",
        "    return math.log(len(documents)/(1+doc_count))\n",
        "\n",
        "tf_idf=[]\n",
        "for doc in documents:\n",
        "    doc_tf=compute_tf(doc)\n",
        "    doc_tfidf={}\n",
        "    for word in words:  #duyệt qua tất cả các từ trong copus ứng với mỗi doc.\n",
        "        doc_tfidf[word]=doc_tf[word]* compute_idf(word)\n",
        "    tf_idf.append(doc_tfidf)\n",
        "\n",
        "print(\"Kết quả:\")\n",
        "for i, doc in enumerate(documents):\n",
        "    tf=compute_tf(doc)\n",
        "    idf=compute_idf(word)\n",
        "    print(f\"\\n Tài liệu {i+1}:\")\n",
        "    for word, score in doc_tfidf.items():\n",
        "        print(f\"{word}: {score:.4f}\")\n"
      ],
      "metadata": {
        "colab": {
          "base_uri": "https://localhost:8080/"
        },
        "id": "N4s9m0SIDbMN",
        "outputId": "af818845-c397-4168-bfe4-2efef09ea9cd"
      },
      "execution_count": null,
      "outputs": [
        {
          "output_type": "stream",
          "name": "stdout",
          "text": [
            "Kết quả:\n",
            "\n",
            " Tài liệu 1:\n",
            "Tôi: 0.0000\n",
            "siêu: 0.0579\n",
            "nhân: 0.0000\n",
            "tạo: 0.0000\n",
            "tuệ: 0.0000\n",
            "học: 0.0000\n",
            "trí: 0.0000\n",
            "AGI: 0.0579\n",
            "là: 0.0000\n",
            "AI: 0.0000\n",
            "thích: 0.0000\n",
            "\n",
            " Tài liệu 2:\n",
            "Tôi: 0.0000\n",
            "siêu: 0.0579\n",
            "nhân: 0.0000\n",
            "tạo: 0.0000\n",
            "tuệ: 0.0000\n",
            "học: 0.0000\n",
            "trí: 0.0000\n",
            "AGI: 0.0579\n",
            "là: 0.0000\n",
            "AI: 0.0000\n",
            "thích: 0.0000\n",
            "\n",
            " Tài liệu 3:\n",
            "Tôi: 0.0000\n",
            "siêu: 0.0579\n",
            "nhân: 0.0000\n",
            "tạo: 0.0000\n",
            "tuệ: 0.0000\n",
            "học: 0.0000\n",
            "trí: 0.0000\n",
            "AGI: 0.0579\n",
            "là: 0.0000\n",
            "AI: 0.0000\n",
            "thích: 0.0000\n"
          ]
        }
      ]
    },
    {
      "cell_type": "markdown",
      "source": [],
      "metadata": {
        "id": "K-ux2fuLQQgv"
      }
    },
    {
      "cell_type": "markdown",
      "source": [
        "# BÀI SỬA"
      ],
      "metadata": {
        "id": "YSnhzbEN_aF3"
      }
    },
    {
      "cell_type": "code",
      "source": [
        "import numpy as np\n",
        "import math\n",
        "documents=[\"Tôi thích học AI\", \"AI là trí tuệ nhân tạo\", \"AGI là siêu trí tuệ nhân tạo\"]\n",
        "\n",
        "word_set=set()\n",
        "for doc in documents:\n",
        "    word_set.update(doc.split())\n",
        "word_list=list(word_set)\n",
        "word_list=sorted(word_list)\n",
        "print(word_list)\n",
        "\n",
        "def compute_tf(doc):\n",
        "    words=doc.split(' ')\n",
        "    word_dict={word: 0 for word in words}\n",
        "    for word in words:\n",
        "        word_dict[word]=words.count(word)/len(words)\n",
        "    return word_dict\n",
        "\n",
        "def compute_idf(documents):\n",
        "    numerator=len(documents)\n",
        "    result={word: 0 for word in word_list}\n",
        "    for word in word_list:\n",
        "        denominator=1+ sum(1 for doc in documents if word in doc.split())\n",
        "        result[word]=np.log(numerator/denominator)\n",
        "    return result\n",
        "\n",
        "def compute_tf_idf(tf, idf):\n",
        "    tf_idf={word: tf[word]*idf[word] for word in tf if word in idf} # Chỉ tính TF-IDF cho các từ có trong cả tf và idf, trong mỗi doc\n",
        "    return tf_idf\n",
        "\n",
        "for i, doc in enumerate(documents):  #duyệt qua tất cả các tài liệu trong bộ sưu tập\n",
        "    tf = compute_tf(doc)\n",
        "    idf= compute_idf(documents)\n",
        "    tf_idf=compute_tf_idf(tf, idf)\n",
        "    print(f\"\\n Tài liệu {i+1}:\")\n",
        "    for word, value in tf_idf.items():\n",
        "        print(f\"{word}: {value:.4f}\")\n",
        "\n"
      ],
      "metadata": {
        "colab": {
          "base_uri": "https://localhost:8080/"
        },
        "id": "xlMwJzIgQSJQ",
        "outputId": "a9d14ceb-7660-44d2-95a4-5cabed96f985"
      },
      "execution_count": null,
      "outputs": [
        {
          "output_type": "stream",
          "name": "stdout",
          "text": [
            "['AGI', 'AI', 'Tôi', 'học', 'là', 'nhân', 'siêu', 'thích', 'trí', 'tuệ', 'tạo']\n",
            "\n",
            " Tài liệu 1:\n",
            "Tôi: 0.1014\n",
            "thích: 0.1014\n",
            "học: 0.1014\n",
            "AI: 0.0000\n",
            "\n",
            " Tài liệu 2:\n",
            "AI: 0.0000\n",
            "là: 0.0000\n",
            "trí: 0.0000\n",
            "tuệ: 0.0000\n",
            "nhân: 0.0000\n",
            "tạo: 0.0000\n",
            "\n",
            " Tài liệu 3:\n",
            "AGI: 0.0579\n",
            "là: 0.0000\n",
            "siêu: 0.0579\n",
            "trí: 0.0000\n",
            "tuệ: 0.0000\n",
            "nhân: 0.0000\n",
            "tạo: 0.0000\n"
          ]
        }
      ]
    },
    {
      "cell_type": "code",
      "source": [],
      "metadata": {
        "id": "oJiUyZedRGpi"
      },
      "execution_count": null,
      "outputs": []
    }
  ]
}