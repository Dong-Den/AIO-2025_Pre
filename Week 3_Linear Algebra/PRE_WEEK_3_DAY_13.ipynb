{
  "nbformat": 4,
  "nbformat_minor": 0,
  "metadata": {
    "colab": {
      "provenance": []
    },
    "kernelspec": {
      "name": "python3",
      "display_name": "Python 3"
    },
    "language_info": {
      "name": "python"
    }
  },
  "cells": [
    {
      "cell_type": "markdown",
      "source": [
        "# **Basic Linear Algebra with Numpy**"
      ],
      "metadata": {
        "id": "u-BLySQ4FtV1"
      }
    },
    {
      "cell_type": "code",
      "source": [
        "import numpy as np"
      ],
      "metadata": {
        "id": "xi8ydOUdQkQv"
      },
      "execution_count": null,
      "outputs": []
    },
    {
      "cell_type": "markdown",
      "source": [
        "##Phép cộng và trừ ma trận"
      ],
      "metadata": {
        "id": "8cUbWN51VfXb"
      }
    },
    {
      "cell_type": "code",
      "source": [
        "#Phép cộng và trừ ma trận\n",
        "\n",
        "A=np.array([[1,2], [3,4]])\n",
        "B=np.array([[5,6], [7,8]])\n",
        "C=A+B\n",
        "D=A-B\n",
        "print(f\"{C} \\n\")\n",
        "print(D)"
      ],
      "metadata": {
        "colab": {
          "base_uri": "https://localhost:8080/"
        },
        "id": "CsvVgFTKMoGY",
        "outputId": "fe004921-addb-4764-8409-519a80527a71"
      },
      "execution_count": null,
      "outputs": [
        {
          "output_type": "stream",
          "name": "stdout",
          "text": [
            "[[ 6  8]\n",
            " [10 12]] \n",
            "\n",
            "[[-4 -4]\n",
            " [-4 -4]]\n"
          ]
        }
      ]
    },
    {
      "cell_type": "markdown",
      "source": [
        "##Tính tổng và hiệu"
      ],
      "metadata": {
        "id": "pKHjcQIoVc7x"
      }
    },
    {
      "cell_type": "code",
      "source": [
        "#Tính tổng và hiệu\n",
        "c=np.array([[2,-3],[4,-5]])\n",
        "d=np.array([[1,4],[-2,6]])\n",
        "print(f\"{c+d} \\n\")\n",
        "print(c-d)"
      ],
      "metadata": {
        "colab": {
          "base_uri": "https://localhost:8080/"
        },
        "id": "GOIRrhI5Mnlc",
        "outputId": "9dfe74a2-c740-417d-84b4-b1fb04ddf919"
      },
      "execution_count": null,
      "outputs": [
        {
          "output_type": "stream",
          "name": "stdout",
          "text": [
            "[[3 1]\n",
            " [2 1]] \n",
            "\n",
            "[[  1  -7]\n",
            " [  6 -11]]\n"
          ]
        }
      ]
    },
    {
      "cell_type": "markdown",
      "source": [
        "###Phép nhân Hadamard hai ma trận"
      ],
      "metadata": {
        "id": "_qu7jVnTVWjV"
      }
    },
    {
      "cell_type": "code",
      "source": [
        "#Phép nhân HAdamard hai ma trận\n",
        "\n",
        "a= np.array([[1,2],[3,4]])\n",
        "b= np.array([[5,6],[7,8]])\n",
        "c=a*b\n",
        "print(c)"
      ],
      "metadata": {
        "colab": {
          "base_uri": "https://localhost:8080/"
        },
        "id": "dtMDO_53RmXz",
        "outputId": "3224e0f0-d58d-42f8-9761-34c000399fca"
      },
      "execution_count": null,
      "outputs": [
        {
          "output_type": "stream",
          "name": "stdout",
          "text": [
            "[[ 5 12]\n",
            " [21 32]]\n"
          ]
        }
      ]
    },
    {
      "cell_type": "code",
      "source": [
        "e=np.array([[0,1,2],[3,4,5]])\n",
        "f=np.array([[5,4,3],[2,1,0]])\n",
        "print(e*f)"
      ],
      "metadata": {
        "colab": {
          "base_uri": "https://localhost:8080/"
        },
        "id": "3pbblXPxRmSH",
        "outputId": "b0502e5a-12be-4708-dc59-55bdc17771b6"
      },
      "execution_count": null,
      "outputs": [
        {
          "output_type": "stream",
          "name": "stdout",
          "text": [
            "[[0 4 6]\n",
            " [6 4 0]]\n"
          ]
        }
      ]
    },
    {
      "cell_type": "markdown",
      "source": [
        "##Tích vô hướng"
      ],
      "metadata": {
        "id": "MPJbdsQiVv1G"
      }
    },
    {
      "cell_type": "code",
      "source": [
        "v1=np.array([1,2,3])\n",
        "v2=np.array([4,5,6])\n",
        "print(\"Tích vô hường hai vector:\", np.dot(v1,v2))\n"
      ],
      "metadata": {
        "colab": {
          "base_uri": "https://localhost:8080/"
        },
        "id": "5ZqgjO00RmLT",
        "outputId": "8675e233-5af0-480e-f117-3e14d404945c"
      },
      "execution_count": null,
      "outputs": [
        {
          "output_type": "stream",
          "name": "stdout",
          "text": [
            "Tích vô hường hai vector: 32\n"
          ]
        }
      ]
    },
    {
      "cell_type": "code",
      "source": [
        "import numpy as np\n",
        "v1=np.array([1,2,3])\n",
        "v2=np.array([4,5,6])\n",
        "print(v1.dot(v2))"
      ],
      "metadata": {
        "colab": {
          "base_uri": "https://localhost:8080/"
        },
        "id": "eUgYTyf8JW5O",
        "outputId": "692a6d38-17fa-4891-92a2-b49e4922b4cc"
      },
      "execution_count": null,
      "outputs": [
        {
          "output_type": "stream",
          "name": "stdout",
          "text": [
            "32\n"
          ]
        }
      ]
    },
    {
      "cell_type": "markdown",
      "source": [
        "##Tích chập (Convolution)"
      ],
      "metadata": {
        "id": "uwlctcAGW7fO"
      }
    },
    {
      "cell_type": "code",
      "source": [
        "import numpy as np\n",
        "a=np.array([[1,2,3],[4,5,6],[7,8,9]])\n",
        "k=np.array([[1,0],[0,-1]])\n",
        "\n",
        "def matrix_convolution(a,k):\n",
        "    n,m=a.shape\n",
        "    p,q=k.shape\n",
        "    result_shape=(n-p+1,m-q+1)\n",
        "    result=np.zeros(result_shape)\n",
        "    for i in range(n-p+1):\n",
        "        for j in range(m-q+1):\n",
        "            result[i,j]=np.sum(a[i:i+p,j:j+q]*k)\n",
        "    return result"
      ],
      "metadata": {
        "id": "rw-ZbnGWRmCD"
      },
      "execution_count": null,
      "outputs": []
    },
    {
      "cell_type": "code",
      "source": [
        "result=matrix_convolution(a,k)\n",
        "print(result)"
      ],
      "metadata": {
        "colab": {
          "base_uri": "https://localhost:8080/"
        },
        "id": "V5iF1pTwaxeF",
        "outputId": "745c1e88-28e6-4f34-fb73-ee57c9dee7d8"
      },
      "execution_count": null,
      "outputs": [
        {
          "output_type": "stream",
          "name": "stdout",
          "text": [
            "[[-4. -4.]\n",
            " [-4. -4.]]\n"
          ]
        }
      ]
    },
    {
      "cell_type": "code",
      "source": [
        "import numpy as np\n",
        "a=np.array([[1,2,0,1],[0,4,1,6],[7,8,9,0]])\n",
        "k=np.array([[1,0],[0,-1]])\n",
        "\n",
        "def matrix_convolution(a,k):\n",
        "    n,m=a.shape\n",
        "    p,q=k.shape\n",
        "    result_shape=(n-p+1,m-q+1)  # print(result_shape)= (2,3)\n",
        "    result=np.zeros(result_shape)  #  print(result)= [[0. 0. 0.], [0. 0. 0.]]\n",
        "    for i in range(n-p+1):\n",
        "        for j in range(m-q+1):\n",
        "            result[i,j]=np.sum(a[i:i+p,j:j+q]*k)\n",
        "    return result"
      ],
      "metadata": {
        "id": "w1BxzGTa8A_s"
      },
      "execution_count": null,
      "outputs": []
    },
    {
      "cell_type": "code",
      "source": [],
      "metadata": {
        "id": "0qvE3Dbo9KXi"
      },
      "execution_count": null,
      "outputs": []
    },
    {
      "cell_type": "code",
      "source": [
        "result=matrix_convolution(a,k)\n",
        "print(result)"
      ],
      "metadata": {
        "colab": {
          "base_uri": "https://localhost:8080/"
        },
        "id": "htu38uFa8ylK",
        "outputId": "06ee5c5c-a749-4065-de25-03aa36a1df70"
      },
      "execution_count": null,
      "outputs": [
        {
          "output_type": "stream",
          "name": "stdout",
          "text": [
            "[[-3.  1. -6.]\n",
            " [-8. -5.  1.]]\n"
          ]
        }
      ]
    },
    {
      "cell_type": "code",
      "source": [
        "np.zeros((2,3))"
      ],
      "metadata": {
        "colab": {
          "base_uri": "https://localhost:8080/"
        },
        "id": "GXnFCndS91tj",
        "outputId": "30fc610e-f251-4668-afbe-55951b58266a"
      },
      "execution_count": null,
      "outputs": [
        {
          "output_type": "execute_result",
          "data": {
            "text/plain": [
              "array([[0., 0., 0.],\n",
              "       [0., 0., 0.]])"
            ]
          },
          "metadata": {},
          "execution_count": 15
        }
      ]
    },
    {
      "cell_type": "code",
      "source": [
        "import numpy as np\n",
        "a=np.array([[1,2],[4,5]])\n",
        "k=np.array([[1,0],[0,-1]])\n",
        "z=a*k\n",
        "np.sum(z)"
      ],
      "metadata": {
        "colab": {
          "base_uri": "https://localhost:8080/"
        },
        "id": "6KCATj_nPZEv",
        "outputId": "a079df24-6a73-4e65-ea3f-4071e3669bb4"
      },
      "execution_count": null,
      "outputs": [
        {
          "output_type": "execute_result",
          "data": {
            "text/plain": [
              "-4"
            ]
          },
          "metadata": {},
          "execution_count": 23
        }
      ]
    },
    {
      "cell_type": "code",
      "source": [
        "np.zeros(3*2)"
      ],
      "metadata": {
        "colab": {
          "base_uri": "https://localhost:8080/"
        },
        "id": "agzpqfJVQCqQ",
        "outputId": "abed3431-d092-4cc6-f61c-1c3c0e1befa6"
      },
      "execution_count": null,
      "outputs": [
        {
          "output_type": "execute_result",
          "data": {
            "text/plain": [
              "array([0., 0., 0., 0., 0., 0.])"
            ]
          },
          "metadata": {},
          "execution_count": 25
        }
      ]
    },
    {
      "cell_type": "markdown",
      "source": [
        "## Xoay vector một góc theta (degree/rad)"
      ],
      "metadata": {
        "id": "zH4rruDmcjrL"
      }
    },
    {
      "cell_type": "markdown",
      "source": [
        "#### numpy hỗ trợ tự động broadcasting. Tuy nhiên nếu thực hiện các phép toán phức tạp hoặc không rõ ràng về cách các mảng được phát sóng, bạn có thể cần phải sử dụng reshape để đảm bảo kích thước các mảng tương thích với nhau"
      ],
      "metadata": {
        "id": "UVYFPXrcI91r"
      }
    },
    {
      "cell_type": "code",
      "source": [
        "import numpy as np\n",
        "v=np.array([1,0])\n",
        "theta=-45\n",
        "theta_rad=np.radians(theta)\n",
        "rotation_matrix=np.array([\n",
        "    [np.cos(theta_rad), -np.sin(theta_rad)],\n",
        "    [np.sin(theta_rad), np.cos(theta_rad)]\n",
        "])\n",
        "v_new=np.dot(rotation_matrix,v)\n",
        "print(v_new)"
      ],
      "metadata": {
        "colab": {
          "base_uri": "https://localhost:8080/"
        },
        "id": "SMyvPJTIRl1D",
        "outputId": "3e997625-2869-4201-da50-c2132a1fbf1c"
      },
      "execution_count": null,
      "outputs": [
        {
          "output_type": "stream",
          "name": "stdout",
          "text": [
            "[ 0.70710678 -0.70710678]\n"
          ]
        }
      ]
    },
    {
      "cell_type": "code",
      "source": [
        "import numpy as np\n",
        "def rotate_vector(vector, degree):\n",
        "    rad=np.radians(degree)\n",
        "    rotation_matrix=np.array([\n",
        "    [np.cos(rad), -np.sin(rad)],\n",
        "    [np.sin(rad), np.cos(rad)]\n",
        "])\n",
        "    return np.dot(rotation_matrix,vector)"
      ],
      "metadata": {
        "id": "7O4ilpmH_twu"
      },
      "execution_count": null,
      "outputs": []
    },
    {
      "cell_type": "code",
      "source": [
        "vector= np.array([1,0])\n",
        "degree=45\n",
        "print(rotate_vector(vector, degree))"
      ],
      "metadata": {
        "colab": {
          "base_uri": "https://localhost:8080/"
        },
        "id": "-tcUI257cpy2",
        "outputId": "0cd900ee-d3a4-4c5b-8952-d4c6bebaba29"
      },
      "execution_count": null,
      "outputs": [
        {
          "output_type": "stream",
          "name": "stdout",
          "text": [
            "[0.70710678 0.70710678]\n"
          ]
        }
      ]
    },
    {
      "cell_type": "code",
      "source": [
        "import numpy as np\n",
        "v=np.array([1,0])\n",
        "r=np.array([[np.cos(np.radians(45)),-np.sin(np.radians(45))], [np.sin(np.radians(45)), np.cos(np.radians(45))]])\n",
        "print(r.dot(v))"
      ],
      "metadata": {
        "colab": {
          "base_uri": "https://localhost:8080/"
        },
        "id": "ZPYkb_UCGXeQ",
        "outputId": "258b4df5-813e-4573-b087-3580bf5f54ff"
      },
      "execution_count": null,
      "outputs": [
        {
          "output_type": "stream",
          "name": "stdout",
          "text": [
            "[0.70710678 0.70710678]\n"
          ]
        }
      ]
    },
    {
      "cell_type": "code",
      "source": [
        "import numpy as np\n",
        "v=np.array([1,0])\n",
        "r=np.array([[np.cos(np.radians(45)),-np.sin(np.radians(45))], [np.sin(np.radians(45)), np.cos(np.radians(45))]])\n",
        "print(v.dot(r))"
      ],
      "metadata": {
        "colab": {
          "base_uri": "https://localhost:8080/"
        },
        "id": "YCrNIeIKIx8_",
        "outputId": "5cfeacbc-cb9a-4312-b824-59a26435a336"
      },
      "execution_count": null,
      "outputs": [
        {
          "output_type": "stream",
          "name": "stdout",
          "text": [
            "[ 0.70710678 -0.70710678]\n"
          ]
        }
      ]
    },
    {
      "cell_type": "code",
      "source": [
        "import numpy as np\n",
        "\n",
        "vector = [1, 2, 3]\n",
        "np.array(vector).shape"
      ],
      "metadata": {
        "colab": {
          "base_uri": "https://localhost:8080/"
        },
        "id": "4AoEJUQucpjK",
        "outputId": "3e23e760-af76-463c-c207-3a40080585b0"
      },
      "execution_count": null,
      "outputs": [
        {
          "output_type": "execute_result",
          "data": {
            "text/plain": [
              "(3,)"
            ]
          },
          "metadata": {},
          "execution_count": 14
        }
      ]
    },
    {
      "cell_type": "code",
      "source": [
        "theta=45\n",
        "theta_rad = np.pi/180*45\n",
        "print(theta_rad)"
      ],
      "metadata": {
        "colab": {
          "base_uri": "https://localhost:8080/"
        },
        "id": "iFWzkYC8HaDp",
        "outputId": "4b6208c5-0dc1-47d1-854c-af35a7696de1"
      },
      "execution_count": null,
      "outputs": [
        {
          "output_type": "stream",
          "name": "stdout",
          "text": [
            "0.7853981633974483\n"
          ]
        }
      ]
    },
    {
      "cell_type": "code",
      "source": [
        "pip install numpy"
      ],
      "metadata": {
        "id": "CD_o_L15GC5f"
      },
      "execution_count": null,
      "outputs": []
    },
    {
      "cell_type": "code",
      "execution_count": null,
      "metadata": {
        "colab": {
          "base_uri": "https://localhost:8080/"
        },
        "id": "qXF2tGBCFsH7",
        "outputId": "be272460-0211-429a-d54f-13f12f66dbd0"
      },
      "outputs": [
        {
          "output_type": "stream",
          "name": "stdout",
          "text": [
            "[[0. 0. 0.]\n",
            " [0. 0. 0.]\n",
            " [0. 0. 0.]]\n"
          ]
        }
      ],
      "source": [
        "import numpy as np\n",
        "zero_matrix=np.zeros((3,3))\n",
        "print(zero_matrix)"
      ]
    },
    {
      "cell_type": "code",
      "source": [
        "ones_matrix=np.ones((2,2))\n",
        "print(ones_matrix)"
      ],
      "metadata": {
        "colab": {
          "base_uri": "https://localhost:8080/"
        },
        "id": "SOf8Lb7aGGww",
        "outputId": "901e56a4-475f-4dc4-bf6c-108fd0019dac"
      },
      "execution_count": null,
      "outputs": [
        {
          "output_type": "stream",
          "name": "stdout",
          "text": [
            "[[1. 1.]\n",
            " [1. 1.]]\n"
          ]
        }
      ]
    },
    {
      "cell_type": "code",
      "source": [
        "rand_matrix=np.random.rand(3,3)\n",
        "print(rand_matrix)"
      ],
      "metadata": {
        "colab": {
          "base_uri": "https://localhost:8080/"
        },
        "id": "6TLquXU_GNd2",
        "outputId": "58529fdf-fa3c-40a5-9ac5-2f4d70f4ad99"
      },
      "execution_count": null,
      "outputs": [
        {
          "output_type": "stream",
          "name": "stdout",
          "text": [
            "[[0.6830931  0.75186439 0.345326  ]\n",
            " [0.05485909 0.30731292 0.51981654]\n",
            " [0.22071823 0.2180787  0.56429845]]\n"
          ]
        }
      ]
    },
    {
      "cell_type": "code",
      "source": [
        "import numpy as np\n",
        "identity_matrix= np.eye(3)\n",
        "print(identity_matrix)"
      ],
      "metadata": {
        "colab": {
          "base_uri": "https://localhost:8080/"
        },
        "id": "5uQEaTdKMndM",
        "outputId": "36977b3b-27c4-4195-c382-0b34677c51ab"
      },
      "execution_count": null,
      "outputs": [
        {
          "output_type": "stream",
          "name": "stdout",
          "text": [
            "[[1. 0. 0.]\n",
            " [0. 1. 0.]\n",
            " [0. 0. 1.]]\n"
          ]
        }
      ]
    },
    {
      "cell_type": "code",
      "source": [
        "A = np. array ([[1 , 2], [3, 4]])"
      ],
      "metadata": {
        "id": "PsGVsP8jNEw9"
      },
      "execution_count": null,
      "outputs": []
    },
    {
      "cell_type": "code",
      "source": [
        "det_A=np.linalg.det(A)\n",
        "print(det_A)"
      ],
      "metadata": {
        "colab": {
          "base_uri": "https://localhost:8080/"
        },
        "id": "ui3p1xGON6TA",
        "outputId": "fb7981a3-c8e7-4844-bc21-adfcf9c597ec"
      },
      "execution_count": null,
      "outputs": [
        {
          "output_type": "stream",
          "name": "stdout",
          "text": [
            "-2.0000000000000004\n"
          ]
        }
      ]
    },
    {
      "cell_type": "code",
      "source": [
        "A_inv=np.linalg.inv(A)\n",
        "print(A_inv)"
      ],
      "metadata": {
        "colab": {
          "base_uri": "https://localhost:8080/"
        },
        "id": "mAf9I9LeRHDw",
        "outputId": "05779afa-c28b-4a3f-abda-d6d170a2572b"
      },
      "execution_count": null,
      "outputs": [
        {
          "output_type": "stream",
          "name": "stdout",
          "text": [
            "[[-2.   1. ]\n",
            " [ 1.5 -0.5]]\n"
          ]
        }
      ]
    },
    {
      "cell_type": "code",
      "source": [
        "c=A*A_inv\n",
        "print(c)"
      ],
      "metadata": {
        "colab": {
          "base_uri": "https://localhost:8080/"
        },
        "id": "3F2vgQhUR9d9",
        "outputId": "9d70bc38-eeee-4ddd-c39b-31b36a09991e"
      },
      "execution_count": null,
      "outputs": [
        {
          "output_type": "stream",
          "name": "stdout",
          "text": [
            "[[-2.   2. ]\n",
            " [ 4.5 -2. ]]\n"
          ]
        }
      ]
    },
    {
      "cell_type": "code",
      "source": [
        "i=np.dot(A,A_inv)\n",
        "print(i)"
      ],
      "metadata": {
        "colab": {
          "base_uri": "https://localhost:8080/"
        },
        "id": "tXWjOCcLSJek",
        "outputId": "9085dbeb-e410-41fc-91b2-ae976a1d4caf"
      },
      "execution_count": null,
      "outputs": [
        {
          "output_type": "stream",
          "name": "stdout",
          "text": [
            "[[1.0000000e+00 0.0000000e+00]\n",
            " [8.8817842e-16 1.0000000e+00]]\n"
          ]
        }
      ]
    },
    {
      "cell_type": "code",
      "source": [
        "b = np.array([[4, 7], [2, 6]])\n",
        "d=np.linalg.inv(b)\n",
        "print(d)"
      ],
      "metadata": {
        "colab": {
          "base_uri": "https://localhost:8080/"
        },
        "id": "8xT3HR6BTBDI",
        "outputId": "cc2ea03d-8ecf-4043-bda6-8090e2448352"
      },
      "execution_count": null,
      "outputs": [
        {
          "output_type": "stream",
          "name": "stdout",
          "text": [
            "[[ 0.6 -0.7]\n",
            " [-0.2  0.4]]\n"
          ]
        }
      ]
    },
    {
      "cell_type": "code",
      "source": [
        "print(np.dot(b,d))"
      ],
      "metadata": {
        "colab": {
          "base_uri": "https://localhost:8080/"
        },
        "id": "95jUUYOoTVil",
        "outputId": "c44b78f7-fb0b-4868-e1f8-2a4d08361898"
      },
      "execution_count": null,
      "outputs": [
        {
          "output_type": "stream",
          "name": "stdout",
          "text": [
            "[[ 1.00000000e+00 -1.11022302e-16]\n",
            " [ 1.11022302e-16  1.00000000e+00]]\n"
          ]
        }
      ]
    },
    {
      "cell_type": "code",
      "source": [
        "rank_A=np.linalg.matrix_rank(A)\n",
        "print(rank_A)"
      ],
      "metadata": {
        "colab": {
          "base_uri": "https://localhost:8080/"
        },
        "id": "QYCg-DnLiTnL",
        "outputId": "b9b89a4e-1809-44bc-ca33-5a645f6923b9"
      },
      "execution_count": null,
      "outputs": [
        {
          "output_type": "stream",
          "name": "stdout",
          "text": [
            "2\n"
          ]
        }
      ]
    },
    {
      "cell_type": "code",
      "source": [
        "import numpy as np\n",
        "A = np.array([[1, 2],[3, 4]])\n",
        "B=np.array([[0,2],[1,1]])\n",
        "x=np.linalg.solve(A,B)\n",
        "print(x)"
      ],
      "metadata": {
        "colab": {
          "base_uri": "https://localhost:8080/"
        },
        "id": "6Om9nrHAjAdJ",
        "outputId": "0cdf4dce-d1e1-4911-afba-0e94a3ed11f1"
      },
      "execution_count": null,
      "outputs": [
        {
          "output_type": "stream",
          "name": "stdout",
          "text": [
            "[[ 1.  -3. ]\n",
            " [-0.5  2.5]]\n"
          ]
        }
      ]
    },
    {
      "cell_type": "code",
      "source": [
        "np.linalg.eig(A)\n"
      ],
      "metadata": {
        "colab": {
          "base_uri": "https://localhost:8080/"
        },
        "id": "h8ZSFiYEAZFX",
        "outputId": "cae7b326-6c7e-4226-8fb2-5c89b4591a2b"
      },
      "execution_count": null,
      "outputs": [
        {
          "output_type": "execute_result",
          "data": {
            "text/plain": [
              "EigResult(eigenvalues=array([-0.37228132,  5.37228132]), eigenvectors=array([[-0.82456484, -0.41597356],\n",
              "       [ 0.56576746, -0.90937671]]))"
            ]
          },
          "metadata": {},
          "execution_count": 5
        }
      ]
    },
    {
      "cell_type": "code",
      "source": [
        "s=[9.52551809, 0.51428572]\n",
        "np.diag(s)"
      ],
      "metadata": {
        "colab": {
          "base_uri": "https://localhost:8080/"
        },
        "id": "2a9V2fqyCgu3",
        "outputId": "4188bd15-76dc-49c7-b4fe-72c39b6a6d81"
      },
      "execution_count": null,
      "outputs": [
        {
          "output_type": "execute_result",
          "data": {
            "text/plain": [
              "array([[9.52551809, 0.        ],\n",
              "       [0.        , 0.51428572]])"
            ]
          },
          "metadata": {},
          "execution_count": 7
        }
      ]
    }
  ]
}