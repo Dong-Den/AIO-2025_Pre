{
  "nbformat": 4,
  "nbformat_minor": 0,
  "metadata": {
    "colab": {
      "provenance": []
    },
    "kernelspec": {
      "name": "python3",
      "display_name": "Python 3"
    },
    "language_info": {
      "name": "python"
    }
  },
  "cells": [
    {
      "cell_type": "markdown",
      "source": [
        "# **2D List - Convolutional calculation**"
      ],
      "metadata": {
        "id": "0g9Rsrb3Sw7B"
      }
    },
    {
      "cell_type": "markdown",
      "source": [
        "## Convolutional\n",
        "(Tích chập)"
      ],
      "metadata": {
        "id": "slbcYLO8TG-0"
      }
    },
    {
      "cell_type": "code",
      "execution_count": null,
      "metadata": {
        "id": "ESXGgjy1SeUe"
      },
      "outputs": [],
      "source": [
        "A=[\n",
        "    [1,2,3],\n",
        "    [4,5,6],\n",
        "    [7,8,9]\n",
        "]\n",
        "B=[\n",
        "    [2,4],\n",
        "    [1,3]\n",
        "]\n"
      ]
    },
    {
      "cell_type": "code",
      "source": [
        "def convolution(mat_a, kernal):\n",
        "    if not mat_a or not kernal:  #kiểm tra tính toàn vẹn của dữ liệu đầu vào có phải là ma trận hay không\n",
        "        return []\n",
        "    n_rows=len(mat_a)-len(kernal) + 1\n",
        "    n_cols=len(mat_a[0])-len(kernal[0]) + 1\n",
        "\n",
        "    if n_rows<=0 or n_cols<= 0:   #Kiểm tra tính đúng sai của ma trận, số hàng và số cột phải >0\n",
        "        return []\n",
        "\n",
        "    result=[]\n",
        "    for i in range(n_rows):\n",
        "        row=[]\n",
        "        for j in range(n_cols):\n",
        "            sum=0\n",
        "            for k in range(len(kernal)):\n",
        "                for l in range(len(kernal[0])):\n",
        "                    sum+=mat_a[i+k][j+l] * kernal[k][l]\n",
        "            row.append(sum)\n",
        "        result.append(row)\n",
        "    return result"
      ],
      "metadata": {
        "id": "t8U6WJQdY-aC"
      },
      "execution_count": null,
      "outputs": []
    },
    {
      "cell_type": "code",
      "source": [
        "result=convolution(A, B)\n",
        "print(f\"Convolution result: \\n {result}\")"
      ],
      "metadata": {
        "colab": {
          "base_uri": "https://localhost:8080/"
        },
        "id": "H750H4m_ZeYI",
        "outputId": "9dfb8963-2423-4170-b716-2e4e9088d3f6"
      },
      "execution_count": null,
      "outputs": [
        {
          "output_type": "stream",
          "name": "stdout",
          "text": [
            "Convolution result: \n",
            " [[29, 39], [59, 69]]\n"
          ]
        }
      ]
    },
    {
      "cell_type": "code",
      "source": [
        "C=[\n",
        "    [1,1,1],\n",
        "    [0,0,0],\n",
        "    [1,1,1]\n",
        "]\n",
        "\n",
        "result=convolution(A, C)\n",
        "print(f\"Convolution result: \\n {result[0]}\")"
      ],
      "metadata": {
        "colab": {
          "base_uri": "https://localhost:8080/"
        },
        "id": "fFkGaUKAZ0bM",
        "outputId": "ccc9da83-18bb-4753-ed31-c2045497f208"
      },
      "execution_count": null,
      "outputs": [
        {
          "output_type": "stream",
          "name": "stdout",
          "text": [
            "Convolution result: \n",
            " [30]\n"
          ]
        }
      ]
    },
    {
      "cell_type": "markdown",
      "source": [
        "##Padding"
      ],
      "metadata": {
        "id": "CW3lO9dwbDD1"
      }
    },
    {
      "cell_type": "markdown",
      "source": [
        "###Câu 1: Tính Convolutional khi áp dụng Kernal B vào A có sử dụng zero padding"
      ],
      "metadata": {
        "id": "f6q6d_lzlNts"
      }
    },
    {
      "cell_type": "markdown",
      "source": [
        "### pad_size=2-1=1\n",
        "\n"
      ],
      "metadata": {
        "id": "yEW_rtv3laUa"
      }
    },
    {
      "cell_type": "code",
      "source": [
        "mat_a=[\n",
        "    [0,0,0],\n",
        "    [0,4,0],\n",
        "    [0,1,0]\n",
        "]\n",
        "\n",
        "kernal=[\n",
        "    [1,1],\n",
        "    [1,1]\n",
        "]"
      ],
      "metadata": {
        "id": "IRpKA0dSbCR9"
      },
      "execution_count": null,
      "outputs": []
    },
    {
      "cell_type": "code",
      "source": [
        "def zero_padding(mat, pad_size):\n",
        "    if not mat:\n",
        "        return []\n",
        "    n_rows=len(mat)\n",
        "    n_cols=len(mat[0])\n",
        "\n",
        "    padded_rows=n_rows+ 2*pad_size\n",
        "    padded_cols=n_cols+ 2*pad_size\n",
        "    padded= [[0]*padded_cols for _ in range(padded_rows)]\n",
        "\n",
        "    for i in range(n_rows):\n",
        "        for j in range(n_cols):\n",
        "            padded[i+pad_size][j+pad_size] = mat[i][j]\n",
        "    return padded"
      ],
      "metadata": {
        "id": "NycMt0I0b4-f"
      },
      "execution_count": null,
      "outputs": []
    },
    {
      "cell_type": "code",
      "source": [
        "padded= zero_padding(mat_a,1)   #kernel= 2x2, pad_size=1 (nhỏ hơn 1)\n",
        "result=convolution(padded, kernal)\n",
        "print(f\"Convolution có sử dụng padding: \\n {result}\")"
      ],
      "metadata": {
        "colab": {
          "base_uri": "https://localhost:8080/"
        },
        "id": "Ai-2d8Q-lIF9",
        "outputId": "42cb72d8-c67e-469a-c340-059c82fc41b5"
      },
      "execution_count": null,
      "outputs": [
        {
          "output_type": "stream",
          "name": "stdout",
          "text": [
            "Convolution có sử dụng padding: \n",
            " [[0, 0, 0, 0], [0, 4, 4, 0], [0, 5, 5, 0], [0, 1, 1, 0]]\n"
          ]
        }
      ]
    },
    {
      "cell_type": "markdown",
      "source": [
        "### Câu 2: Tính Convolutional khi áp kernal C vào A, có sử dụng padding"
      ],
      "metadata": {
        "id": "XjKS5TC0moWl"
      }
    },
    {
      "cell_type": "code",
      "source": [
        "kernal_c=[\n",
        "    [0,1,0],\n",
        "    [0,1,0],\n",
        "    [0,1,0]\n",
        "]\n",
        "\n",
        "padded_c= zero_padding(mat_a,1)   #kernel= 3x3, pad_size=2 (nhỏ hơn 1)\n",
        "result_c=convolution(padded_c, kernal_c)\n",
        "print(f\"Convolution khi áp kernal C có sử dụng padding: \\n {result_c}\")"
      ],
      "metadata": {
        "colab": {
          "base_uri": "https://localhost:8080/"
        },
        "id": "WQxFTAnMmzl4",
        "outputId": "cd4e0a2d-4de2-4698-86ca-346ce2a9588f"
      },
      "execution_count": null,
      "outputs": [
        {
          "output_type": "stream",
          "name": "stdout",
          "text": [
            "Convolution khi áp kernal C có sử dụng padding: \n",
            " [[0, 4, 0], [0, 5, 0], [0, 5, 0]]\n"
          ]
        }
      ]
    },
    {
      "cell_type": "markdown",
      "source": [
        "# **Max Pooling và Average Pooling**"
      ],
      "metadata": {
        "id": "Qxsr0weoo12v"
      }
    },
    {
      "cell_type": "markdown",
      "source": [
        "## Câu 1: Max Pooling, với bước nhảy là 2 cho cả chiều ngang và chiều dọc"
      ],
      "metadata": {
        "id": "cQxFMUAvo7t0"
      }
    },
    {
      "cell_type": "code",
      "source": [
        "mat_a=[\n",
        "    [0,0,0,4],\n",
        "    [0,4,0,2],\n",
        "    [0,1,0,2],\n",
        "    [0,3,0,2]\n",
        "]"
      ],
      "metadata": {
        "id": "FZwTyhO1pL_o"
      },
      "execution_count": null,
      "outputs": []
    },
    {
      "cell_type": "code",
      "source": [
        "def max_pooling(mat, pool_size):\n",
        "    n_rows=len(mat)\n",
        "    n_cols=len(mat[0])\n",
        "\n",
        "    out_rows=n_rows//pool_size\n",
        "    out_cols=n_cols//pool_size\n",
        "\n",
        "    result= [[0 for _ in range(out_cols)] for _ in range(out_rows)]\n",
        "\n",
        "    for i in range(0, n_rows, pool_size):\n",
        "        for j in range(0, n_cols, pool_size):\n",
        "            pool=[]\n",
        "            for pi in range(pool_size):\n",
        "                for pj in range(pool_size):\n",
        "                    if i+pi<n_rows and j+pj<n_cols:\n",
        "                        pool.append(mat[i+pi][j+pj])\n",
        "\n",
        "            if pool:\n",
        "                result[i//pool_size][j//pool_size]= max(pool)\n",
        "    return result"
      ],
      "metadata": {
        "id": "-2Nh9W3dprUC"
      },
      "execution_count": null,
      "outputs": []
    },
    {
      "cell_type": "code",
      "source": [
        "pool_size = 2\n",
        "max_result= max_pooling(mat_a, pool_size)\n",
        "print(f\"Max pooling result: \\n {max_result}\")"
      ],
      "metadata": {
        "colab": {
          "base_uri": "https://localhost:8080/"
        },
        "id": "XyRFPFtZsG12",
        "outputId": "c31b8674-145e-45ec-dd2e-440a1b3e8d87"
      },
      "execution_count": null,
      "outputs": [
        {
          "output_type": "stream",
          "name": "stdout",
          "text": [
            "Max pooling result: \n",
            " [[4, 4], [3, 2]]\n"
          ]
        }
      ]
    },
    {
      "cell_type": "markdown",
      "source": [
        "## Câu 2: Average Pooling, với bước nhảy là 2 cho cả chiều ngang và chiều dọc"
      ],
      "metadata": {
        "id": "AUe_dM89sqVw"
      }
    },
    {
      "cell_type": "code",
      "source": [
        "def average_pooling(mat, pool_size):\n",
        "    n_rows=len(mat)\n",
        "    n_cols=len(mat[0])\n",
        "\n",
        "    out_rows=n_rows//pool_size\n",
        "    out_cols=n_cols//pool_size\n",
        "\n",
        "    result=[[0 for _ in range(out_cols)] for _ in range(out_rows)]\n",
        "\n",
        "    for i in range(0,n_rows, pool_size):\n",
        "        for j in range(0, n_cols, pool_size):\n",
        "            pool=[]\n",
        "            for pi in range(pool_size):\n",
        "                for pj in range(pool_size):\n",
        "                    if i+pi<n_rows and j+pj <n_cols:\n",
        "                        pool.append(mat[i+pi][j+pj])\n",
        "            if pool:\n",
        "                result[i//pool_size][j//pool_size]=sum(pool)/len(pool)\n",
        "    return result"
      ],
      "metadata": {
        "id": "l0FC-jaTsxUh"
      },
      "execution_count": null,
      "outputs": []
    },
    {
      "cell_type": "code",
      "source": [
        "pool_size=2\n",
        "average_result= average_pooling(mat_a, pool_size)\n",
        "print(f\"Average pooling result: \\n {average_result}\")"
      ],
      "metadata": {
        "colab": {
          "base_uri": "https://localhost:8080/"
        },
        "id": "On9rnqcPtD5f",
        "outputId": "e95669b1-0426-484a-eb2e-1885d8252475"
      },
      "execution_count": null,
      "outputs": [
        {
          "output_type": "stream",
          "name": "stdout",
          "text": [
            "Average pooling result: \n",
            " [[1.0, 1.5], [1.0, 1.0]]\n"
          ]
        }
      ]
    }
  ]
}