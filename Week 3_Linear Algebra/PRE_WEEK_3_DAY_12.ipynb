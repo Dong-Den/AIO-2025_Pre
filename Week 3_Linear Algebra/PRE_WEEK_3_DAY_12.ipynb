{
  "nbformat": 4,
  "nbformat_minor": 0,
  "metadata": {
    "colab": {
      "provenance": []
    },
    "kernelspec": {
      "name": "python3",
      "display_name": "Python 3"
    },
    "language_info": {
      "name": "python"
    }
  },
  "cells": [
    {
      "cell_type": "markdown",
      "source": [
        "# **The Knight’s tour problem**"
      ],
      "metadata": {
        "id": "9_y-prlT2jJt"
      }
    },
    {
      "cell_type": "code",
      "execution_count": null,
      "metadata": {
        "id": "4rCixfkT2f96"
      },
      "outputs": [],
      "source": [
        "#Thuật toán\n",
        "procedure knights_tour(x, y, move_count, board)\n",
        "    if move_count = N2 then\n",
        "        return true\n",
        "    end if\n",
        "    for each (dx, dy) in possible_moves do\n",
        "        new_x ← x + dx, new_y ← y + dy\n",
        "        if 0 ≤ new_x < N and 0 ≤ new_y < N and board[new_x][new_y] = -1 then\n",
        "            board[new_x][new_y] ← move_count\n",
        "            if knights_tour(new_x, new_y, move_count+1, board) then\n",
        "                return true\n",
        "            end if\n",
        "            board[new_x][new_y] ← -1\n",
        "        end if\n",
        "    end for\n",
        "    return false\n",
        "end procedure\n",
        "\n",
        "function solve_knights_tour(N, start_x, start_y)\n",
        "    Initialize N × N board with -1\n",
        "    board[start_x][start_y] ← 0\n",
        "    if knights_tour(start_x, start_y, 1, board) then\n",
        "        Print the board\n",
        "    else\n",
        "        Print “No solution exists”\n",
        "    end if\n",
        "end function\n"
      ]
    },
    {
      "cell_type": "code",
      "source": [
        "#Bài toán Mã đi tuần\n"
      ],
      "metadata": {
        "id": "Skf_eKg37fgw"
      },
      "execution_count": null,
      "outputs": []
    },
    {
      "cell_type": "code",
      "source": [
        "\n",
        "def knights_tour(x, y, move_count, board, n, possible_moves):\n",
        "    if move_count == n*n:\n",
        "        return True\n",
        "    for dx, dy in possible_moves:\n",
        "        new_x, new_y = x + dx, y + dy\n",
        "        if 0 <= new_x < n and 0 <= new_y < n and board[new_x][new_y] == -1:\n",
        "            board[new_x][new_y] = move_count\n",
        "            if knights_tour(new_x, new_y, move_count+1, board, n, possible_moves):\n",
        "                return True\n",
        "            board[new_x][new_y] = -1\n",
        "    return False"
      ],
      "metadata": {
        "id": "HuvKsw5N7DtU"
      },
      "execution_count": null,
      "outputs": []
    },
    {
      "cell_type": "code",
      "source": [
        "def solve_knights_tour(n, start_x, start_y):\n",
        "    board = [[-1 for _ in range(n)] for _ in range(n)]\n",
        "    possible_moves = [(2, 1), (1, 2), (-1, 2), (-2, 1), (-2, -1), (-1, -2), (1, -2), (2, -1)]\n",
        "    board[start_x][start_y] = 0\n",
        "    if knights_tour(start_x, start_y, 1, board, n, possible_moves):\n",
        "        print_board(board)\n",
        "    else:\n",
        "        print(\"No solution exists\")\n"
      ],
      "metadata": {
        "id": "L0PL0u4a8f0j"
      },
      "execution_count": null,
      "outputs": []
    },
    {
      "cell_type": "code",
      "source": [
        "def print_board(board):\n",
        "    for row in board:\n",
        "        for cell in row:\n",
        "            print(f\"{cell+1:2d}\", end=\" \")\n",
        "        print()"
      ],
      "metadata": {
        "id": "NB5epeTt5Gds"
      },
      "execution_count": null,
      "outputs": []
    },
    {
      "cell_type": "code",
      "source": [
        "print(solve_knights_tour(5, 0, 0))"
      ],
      "metadata": {
        "colab": {
          "base_uri": "https://localhost:8080/"
        },
        "id": "ryxhsHEj3Zcb",
        "outputId": "0106caf4-b4dc-4120-f32c-36ce0109bce3"
      },
      "execution_count": null,
      "outputs": [
        {
          "output_type": "stream",
          "name": "stdout",
          "text": [
            " 1  6 15 10 21 \n",
            "14  9 20  5 16 \n",
            "19  2  7 22 11 \n",
            " 8 13 24 17  4 \n",
            "25 18  3 12 23 \n",
            "None\n"
          ]
        }
      ]
    },
    {
      "cell_type": "code",
      "source": [
        "print(solve_knights_tour(5, 2, 2))"
      ],
      "metadata": {
        "colab": {
          "base_uri": "https://localhost:8080/"
        },
        "id": "KpqSJXVS-njz",
        "outputId": "7a032971-d2c3-493b-874e-1676a171ba08"
      },
      "execution_count": null,
      "outputs": [
        {
          "output_type": "stream",
          "name": "stdout",
          "text": [
            "23 10 15  4 25 \n",
            "16  5 24  9 14 \n",
            "11 22  1 18  3 \n",
            " 6 17 20 13  8 \n",
            "21 12  7  2 19 \n",
            "None\n"
          ]
        }
      ]
    },
    {
      "cell_type": "code",
      "source": [
        "def solve_knight_tour(size_of_chessboard, start_x, start_y):\n",
        "  board = [[ -1 for _ in range (size_of_chessboard)] for _ in range (size_of_chessboard ) ]\n",
        "\n",
        "  possible_moves = [\n",
        "        (2, 1), (1, 2), (-1, 2), (-2, 1),\n",
        "        (-2, -1), (-1, -2), (1, -2), (2, -1)\n",
        "    ]\n",
        "  def knights_tour(x, y, move_count, board):\n",
        "    if move_count == size_of_chessboard**2:\n",
        "      return True\n",
        "    for dx, dy in possible_moves:\n",
        "        new_x = x + dx\n",
        "        new_y = y + dy\n",
        "        if ( 0 <= new_x < size_of_chessboard) and ( 0 <= new_y < size_of_chessboard) and board[new_x][new_y] == -1:\n",
        "          board[new_x][new_y] = move_count\n",
        "          if knights_tour(new_x, new_y, move_count + 1, board):\n",
        "            return True\n",
        "          board[new_x][new_y] = -1\n",
        "    return False\n",
        "  board[start_x][start_y] = 0\n",
        "  if knights_tour(start_x, start_y, 1, board):\n",
        "    for row in board:\n",
        "            print(\" \".join(str(num + 1).rjust(2) for num in row))\n",
        "  else:\n",
        "    print(\"No solution exists\")"
      ],
      "metadata": {
        "id": "74Y2EqL2_tOL"
      },
      "execution_count": null,
      "outputs": []
    },
    {
      "cell_type": "code",
      "source": [
        "solve_knight_tour(5, 0, 0)"
      ],
      "metadata": {
        "colab": {
          "base_uri": "https://localhost:8080/"
        },
        "id": "R8QX2PkE_xBJ",
        "outputId": "cccd14c0-3ee9-4855-cc8d-34a029568b8c"
      },
      "execution_count": null,
      "outputs": [
        {
          "output_type": "stream",
          "name": "stdout",
          "text": [
            " 1  6 15 10 21\n",
            "14  9 20  5 16\n",
            "19  2  7 22 11\n",
            " 8 13 24 17  4\n",
            "25 18  3 12 23\n"
          ]
        }
      ]
    },
    {
      "cell_type": "code",
      "source": [
        "def solve_knight_tour(size_of_chessboard, start_x, start_y):\n",
        "  board = [[ -1 for _ in range (size_of_chessboard)] for _ in range (size_of_chessboard ) ]\n",
        "\n",
        "  possible_moves = [\n",
        "        (2, 1), (1, 2), (-1, 2), (-2, 1),\n",
        "        (-2, -1), (-1, -2), (1, -2), (2, -1)\n",
        "    ]\n",
        "  def knights_tour(x, y, move_count, board):\n",
        "    if move_count == size_of_chessboard**2:\n",
        "      return True\n",
        "    for dx, dy in possible_moves:\n",
        "        new_x = x + dx\n",
        "        new_y = y + dy\n",
        "        if ( 0 <= new_x < size_of_chessboard) and ( 0 <= new_y < size_of_chessboard) and board[new_x][new_y] == -1:\n",
        "          board[new_x][new_y] = move_count\n",
        "          if knights_tour(new_x, new_y, move_count + 1, board):\n",
        "            return True\n",
        "          board[new_x][new_y] = -1\n",
        "    return False\n",
        "  board[start_x][start_y] = 0\n",
        "  if knights_tour(start_x, start_y, 1, board):\n",
        "    for row in board:\n",
        "        for cell in row:\n",
        "            print(str(cell + 1).rjust(2), end=\" \")   # print(f\"{cell:2d}\", end=\" \")\n",
        "        print()\n",
        "  else:\n",
        "    print(\"No solution exists\")"
      ],
      "metadata": {
        "id": "L-RGAF44CUsk"
      },
      "execution_count": null,
      "outputs": []
    },
    {
      "cell_type": "code",
      "source": [
        "solve_knight_tour(5, 0, 0)"
      ],
      "metadata": {
        "colab": {
          "base_uri": "https://localhost:8080/"
        },
        "id": "sfZu8mrSC4A9",
        "outputId": "c4d0252b-9ec8-4dd0-aac5-9039d3f45713"
      },
      "execution_count": null,
      "outputs": [
        {
          "output_type": "stream",
          "name": "stdout",
          "text": [
            " 1  6 15 10 21 \n",
            "14  9 20  5 16 \n",
            "19  2  7 22 11 \n",
            " 8 13 24 17  4 \n",
            "25 18  3 12 23 \n"
          ]
        }
      ]
    },
    {
      "cell_type": "code",
      "source": [
        "def solve_knight_tour(size_of_chessboard, start_x, start_y):\n",
        "  board = [[ -1 for _ in range (size_of_chessboard)] for _ in range (size_of_chessboard ) ]\n",
        "\n",
        "  possible_moves = [\n",
        "        (2, 1), (1, 2), (-1, 2), (-2, 1),\n",
        "        (-2, -1), (-1, -2), (1, -2), (2, -1)\n",
        "    ]\n",
        "  def knights_tour(x, y, move_count, board):\n",
        "    if move_count == size_of_chessboard**2:\n",
        "      return True\n",
        "    for dx, dy in possible_moves:\n",
        "        new_x = x + dx\n",
        "        new_y = y + dy\n",
        "        if ( 0 <= new_x < size_of_chessboard) and ( 0 <= new_y < size_of_chessboard) and board[new_x][new_y] == -1:\n",
        "          board[new_x][new_y] = move_count\n",
        "          if knights_tour(new_x, new_y, move_count + 1, board):\n",
        "            return True\n",
        "          board[new_x][new_y] = -1\n",
        "    return False\n",
        "  board[start_x][start_y] = 0\n",
        "  if knights_tour(start_x, start_y, 1, board):\n",
        "    for row in board:\n",
        "        for cell in row:\n",
        "            print(f\"{cell+1:2d}\", end=\" \")\n",
        "        print()\n",
        "  else:\n",
        "    print(\"No solution exists\")"
      ],
      "metadata": {
        "id": "4AJIbFkeFlRL"
      },
      "execution_count": null,
      "outputs": []
    },
    {
      "cell_type": "code",
      "source": [
        "solve_knight_tour(5, 0, 0)"
      ],
      "metadata": {
        "colab": {
          "base_uri": "https://localhost:8080/"
        },
        "id": "fCrrr4SmFwkF",
        "outputId": "a98a3605-196a-4644-f951-86ef2aaf62a4"
      },
      "execution_count": null,
      "outputs": [
        {
          "output_type": "stream",
          "name": "stdout",
          "text": [
            " 1  6 15 10 21 \n",
            "14  9 20  5 16 \n",
            "19  2  7 22 11 \n",
            " 8 13 24 17  4 \n",
            "25 18  3 12 23 \n"
          ]
        }
      ]
    },
    {
      "cell_type": "code",
      "source": [
        "def is_valid_move(x, y, board_size):\n",
        "    return 0 <= x < board_size and 0 <= y < board_size\n",
        "\n",
        "def knights_tour(board_size, start_x, start_y):\n",
        "    if not is_valid_move(start_x, start_y, board_size):\n",
        "        print(\"Vị trí bắt đầu không hợp lệ!\")\n",
        "        return False\n",
        "\n",
        "    board = [[-1 for x in range(board_size)] for y in range(board_size)]\n",
        "\n",
        "    move_x = [2, 1, -1, -2, -2, -1, 1, 2]\n",
        "    move_y = [1, 2, 2, 1, -1, -2, -2, -1]\n",
        "\n",
        "    board[start_x][start_y] = 1\n",
        "    pos = 2\n",
        "\n",
        "    if not solve_knights_tour(board, start_x, start_y, move_x, move_y, pos, board_size):\n",
        "        print(\"Không tìm thấy lời giải\")\n",
        "        return False\n",
        "\n",
        "    print_solution(board)\n",
        "    return True\n",
        "\n",
        "def solve_knights_tour(board, curr_x, curr_y, move_x, move_y, pos, board_size):\n",
        "\n",
        "    if pos == board_size * board_size + 1:\n",
        "        return True\n",
        "\n",
        "    for i in range(8):    #8 cách di chuyển mã\n",
        "        new_x = curr_x + move_x[i]\n",
        "        new_y = curr_y + move_y[i]\n",
        "\n",
        "        if is_valid_move(new_x, new_y, board_size) and board[new_x][new_y] == -1:\n",
        "            board[new_x][new_y] = pos\n",
        "            if solve_knights_tour(board, new_x, new_y, move_x, move_y, pos + 1, board_size):\n",
        "                return True\n",
        "            board[new_x][new_y] = -1\n",
        "\n",
        "    return False\n",
        "\n",
        "def print_solution(board):\n",
        "    for i in range(len(board)):\n",
        "        for j in range(len(board)):\n",
        "            print(f\"{board[i][j]:2d}\", end=\" \")\n",
        "        print()\n"
      ],
      "metadata": {
        "id": "vmtZkmjOGeDL"
      },
      "execution_count": null,
      "outputs": []
    },
    {
      "cell_type": "code",
      "source": [
        "print(knights_tour(5, 0, 0))\n",
        "print(knights_tour(5, 2, 2))\n",
        "\n"
      ],
      "metadata": {
        "colab": {
          "base_uri": "https://localhost:8080/"
        },
        "id": "lcZi7kCDHhTR",
        "outputId": "caaedc10-6293-49ac-d61b-91909de95f59"
      },
      "execution_count": null,
      "outputs": [
        {
          "output_type": "stream",
          "name": "stdout",
          "text": [
            " 1  6 15 10 21 \n",
            "14  9 20  5 16 \n",
            "19  2  7 22 11 \n",
            " 8 13 24 17  4 \n",
            "25 18  3 12 23 \n",
            "True\n",
            "23 10 15  4 25 \n",
            "16  5 24  9 14 \n",
            "11 22  1 18  3 \n",
            " 6 17 20 13  8 \n",
            "21 12  7  2 19 \n",
            "True\n"
          ]
        }
      ]
    },
    {
      "cell_type": "code",
      "source": [
        "def calculate_moves(start_x, start_y, board):\n",
        "    size_of_cheesboard = len(board)\n",
        "\n",
        "    x_moves = [2, 1, -1, -2, -2, -1, 1, 2]\n",
        "    y_moves = [1, 2, 2, 1, -1, -2, -2, -1]\n",
        "\n",
        "    possible_moves = []\n",
        "\n",
        "    for i in range(8): # 8 possible moves\n",
        "        new_x = start_x + x_moves[i]\n",
        "        new_y = start_y + y_moves[i]\n",
        "        if new_x not in range(0, size_of_cheesboard) or new_y not in range(0, size_of_cheesboard):\n",
        "            continue\n",
        "        if board[new_x][new_y] != -1:\n",
        "            continue\n",
        "        else:\n",
        "            possible_moves.append((new_x, new_y))\n",
        "            # print(f'board[{new_x},{new_y}] value: {board[new_x][new_y]}')\n",
        "\n",
        "    return possible_moves\n",
        "\n",
        "def knights_tour(x, y, move_count, board):\n",
        "    if move_count == len(board) * len(board):\n",
        "        return True\n",
        "    possible_moves = calculate_moves(x, y, board)\n",
        "    for move in possible_moves:\n",
        "        new_x = move[0]\n",
        "        new_y = move[1]\n",
        "        move_count = move_count + 1\n",
        "        board[new_x][new_y] = move_count\n",
        "        if knights_tour(new_x, new_y, move_count, board):\n",
        "            return True\n",
        "        board[new_x][new_y] = -1\n",
        "        move_count = move_count - 1\n",
        "    return False\n",
        "\n",
        "def solve_knight_tour(size_of_cheesboard, start_x, start_y):\n",
        "    board = [[-1 for _ in range(size_of_cheesboard)] for _ in range(size_of_cheesboard)]\n",
        "    move_count = 1\n",
        "    board[start_x][start_y] = move_count\n",
        "    if knights_tour(start_x, start_y, move_count, board):\n",
        "        return board\n",
        "    else:\n",
        "        return \"No solution\"\n"
      ],
      "metadata": {
        "id": "NNXwoO18JdCT"
      },
      "execution_count": null,
      "outputs": []
    },
    {
      "cell_type": "code",
      "source": [
        "solve_knight_tour(5, 0, 0)"
      ],
      "metadata": {
        "colab": {
          "base_uri": "https://localhost:8080/"
        },
        "id": "Gbh_SwkMKEDy",
        "outputId": "11b410ae-a81e-4139-f490-34823b7339ad"
      },
      "execution_count": null,
      "outputs": [
        {
          "output_type": "stream",
          "name": "stdout",
          "text": [
            " 1  6 15 10 21 \n",
            "14  9 20  5 16 \n",
            "19  2  7 22 11 \n",
            " 8 13 24 17  4 \n",
            "25 18  3 12 23 \n"
          ]
        }
      ]
    },
    {
      "cell_type": "code",
      "source": [
        "solve_knight_tour(5, 2, 2)"
      ],
      "metadata": {
        "colab": {
          "base_uri": "https://localhost:8080/"
        },
        "id": "iucH85EeKLPv",
        "outputId": "139e43ff-244e-4be9-d5a1-9e2c6fffa96c"
      },
      "execution_count": null,
      "outputs": [
        {
          "output_type": "stream",
          "name": "stdout",
          "text": [
            "23 10 15  4 25 \n",
            "16  5 24  9 14 \n",
            "11 22  1 18  3 \n",
            " 6 17 20 13  8 \n",
            "21 12  7  2 19 \n"
          ]
        }
      ]
    },
    {
      "cell_type": "code",
      "source": [
        "possible_moves = [\n",
        "        (2, 1), (1, 2), (-1, 2), (-2, 1),\n",
        "        (-2, -1), (-1, -2), (1, -2), (2, -1)\n",
        "    ]\n",
        "\n",
        "def knights_tour(x, y, move_count, board):\n",
        "    if move_count == len(board) * len(board):\n",
        "        return True\n",
        "    possible_moves = calculate_moves(x, y, board)\n",
        "    for move in possible_moves:\n",
        "        new_x = move[0]\n",
        "        new_y = move[1]\n",
        "        move_count = move_count + 1\n",
        "        board[new_x][new_y] = move_count\n",
        "        if knights_tour(new_x, new_y, move_count, board):\n",
        "            return True\n",
        "        board[new_x][new_y] = -1\n",
        "        move_count = move_count - 1\n",
        "    return False\n",
        "\n",
        "def solve_knight_tour(size_of_cheesboard, start_x, start_y):\n",
        "    board = [[-1 for _ in range(size_of_cheesboard)] for _ in range(size_of_cheesboard)]\n",
        "    move_count = 1\n",
        "    board[start_x][start_y] = move_count\n",
        "    if knights_tour(start_x, start_y, move_count, board):\n",
        "        return board\n",
        "    else:\n",
        "        return \"No solution\""
      ],
      "metadata": {
        "id": "olip4ETaLC9b"
      },
      "execution_count": null,
      "outputs": []
    },
    {
      "cell_type": "code",
      "source": [
        "solve_knight_tour(5, 2, 2)"
      ],
      "metadata": {
        "colab": {
          "base_uri": "https://localhost:8080/"
        },
        "id": "GUEZbVdQLKtB",
        "outputId": "3dd50354-106e-432b-f536-090de78ccbc1"
      },
      "execution_count": null,
      "outputs": [
        {
          "output_type": "execute_result",
          "data": {
            "text/plain": [
              "[[23, 10, 15, 4, 25],\n",
              " [16, 5, 24, 9, 14],\n",
              " [11, 22, 1, 18, 3],\n",
              " [6, 17, 20, 13, 8],\n",
              " [21, 12, 7, 2, 19]]"
            ]
          },
          "metadata": {},
          "execution_count": 90
        }
      ]
    },
    {
      "cell_type": "code",
      "source": [
        "solve_knight_tour(5, 0, 0)"
      ],
      "metadata": {
        "colab": {
          "base_uri": "https://localhost:8080/"
        },
        "id": "0aSys9XQLo05",
        "outputId": "1694ebbb-db95-4fb5-95d4-d75717871a4f"
      },
      "execution_count": null,
      "outputs": [
        {
          "output_type": "execute_result",
          "data": {
            "text/plain": [
              "[[1, 6, 15, 10, 21],\n",
              " [14, 9, 20, 5, 16],\n",
              " [19, 2, 7, 22, 11],\n",
              " [8, 13, 24, 17, 4],\n",
              " [25, 18, 3, 12, 23]]"
            ]
          },
          "metadata": {},
          "execution_count": 88
        }
      ]
    }
  ]
}