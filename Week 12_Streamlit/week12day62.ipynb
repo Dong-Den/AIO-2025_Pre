{
 "cells": [
  {
   "cell_type": "code",
   "execution_count": null,
   "id": "60601f01",
   "metadata": {
    "vscode": {
     "languageId": "plaintext"
    }
   },
   "outputs": [],
   "source": [
    "!pip install librosa"
   ]
  },
  {
   "cell_type": "code",
   "execution_count": null,
   "id": "dbba89d4",
   "metadata": {
    "vscode": {
     "languageId": "plaintext"
    }
   },
   "outputs": [],
   "source": [
    "import librosa\n",
    "filename = librosa . example (’ nutcracker ’)\n",
    "# Load the audio as a waveform ‘y‘\n",
    "# Store the sampling rate as ‘sr ‘\n",
    "audio , sr = librosa . load ( filename )\n",
    "\n",
    "import numpy as np\n",
    "import matplotlib . pyplot as plt\n",
    "time = np. linspace (0, audio . shape [0] / sr , num= audio . shape [0])\n",
    "plt . plot (time , audio , color =\" blue \")\n",
    "plt . xlabel (\" Time (s)\")\n",
    "plt . ylabel (\" Amplitude ( quantized )\")\n",
    "plt . title (\" Wav file visualization \")\n",
    "plt . axhline (y=0, color =’r’, linestyle =’-’)\n",
    "plt . show ()"
   ]
  }
 ],
 "metadata": {
  "language_info": {
   "name": "python"
  }
 },
 "nbformat": 4,
 "nbformat_minor": 5
}
