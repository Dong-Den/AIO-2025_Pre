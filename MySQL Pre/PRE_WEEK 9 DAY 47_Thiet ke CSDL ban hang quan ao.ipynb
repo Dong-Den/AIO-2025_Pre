{
 "cells": [
  {
   "cell_type": "code",
   "execution_count": 29,
   "id": "cf3e3e16-3201-49a1-82c8-0bcea34a4374",
   "metadata": {},
   "outputs": [
    {
     "name": "stdout",
     "output_type": "stream",
     "text": [
      "Requirement already satisfied: mysql-connector-python in c:\\users\\lenovo\\appdata\\local\\programs\\python\\python313\\lib\\site-packages (9.2.0)\n"
     ]
    }
   ],
   "source": [
    "!pip install mysql-connector-python"
   ]
  },
  {
   "cell_type": "code",
   "execution_count": 49,
   "id": "c011d1a6-b21e-48f3-8672-930ad4f6442b",
   "metadata": {},
   "outputs": [],
   "source": [
    "import mysql.connector \n",
    "\n",
    "connection = mysql.connector.connect(\n",
    "    host=\"127.0.0.1\",     \n",
    "    user=\"root\",         \n",
    "    password=\"2011DongBaLiem@\",\n",
    "    database=\"banhangquanao\")\n",
    "cursor = connection.cursor()"
   ]
  },
  {
   "cell_type": "code",
   "execution_count": 9,
   "id": "f292b5de-e591-4a85-ba36-cc17601640c6",
   "metadata": {},
   "outputs": [],
   "source": [
    "cursor.execute(\"USE banhangquanao;\")"
   ]
  },
  {
   "cell_type": "code",
   "execution_count": 50,
   "id": "92295f74-9b76-4dc5-a9c0-0beced77043d",
   "metadata": {},
   "outputs": [],
   "source": [
    "cursor.execute(\"\"\"\n",
    "create table if not exists Categorys(\n",
    "    category_id INT PRIMARY KEY,\n",
    "    name VARCHAR(50)\n",
    ") ENGINE=InnoDB;\n",
    "\"\"\")\n",
    "cursor.execute(\"\"\"\n",
    "create table if not exists Products(\n",
    "    product_id INT PRIMARY KEY,\n",
    "    name VARCHAR(50),\n",
    "    category_id INT,\n",
    "    price DECIMAL(10,2),\n",
    "    FOREIGN KEY(category_id) REFERENCES Categorys(category_id)\n",
    ") ENGINE=InnoDB;\n",
    "\"\"\")\n",
    "cursor.execute(\"\"\"\n",
    "create table if not exists Variants(\n",
    "    variant_id INT PRIMARY KEY,\n",
    "    product_id INT,\n",
    "    color VARCHAR(10),\n",
    "    size VARCHAR(10),\n",
    "    stock INT,\n",
    "    FOREIGN KEY(product_id) REFERENCES Products(product_id)\n",
    ") ENGINE=InnoDB;\n",
    "\"\"\")\n",
    "cursor.execute(\"\"\"\n",
    "create table if not exists Customers(\n",
    "    customer_id INT PRIMARY KEY,\n",
    "    name VARCHAR(50),\n",
    "    phone VARCHAR(20),\n",
    "    address VARCHAR(255),\n",
    "    createddate DATE\n",
    ") ENGINE=InnoDB;\n",
    "\"\"\")\n",
    "cursor.execute(\"\"\"\n",
    "create table if not exists Orders(\n",
    "    order_id INT PRIMARY KEY,\n",
    "    customer_id INT,\n",
    "    orderdate DATE,\n",
    "    status VARCHAR(50),\n",
    "    FOREIGN KEY(customer_id) REFERENCES Customers(customer_id)\n",
    ") ENGINE=InnoDB;\n",
    "\"\"\")\n",
    "cursor.execute(\"\"\"\n",
    "create table if not exists OrderDetails(\n",
    "    order_id INT,\n",
    "    variant_id INT,\n",
    "    quantity INT,\n",
    "    price DECIMAL(10,2),\n",
    "    PRIMARY KEY(order_id, variant_id),\n",
    "    FOREIGN KEY(order_id) REFERENCES Orders(order_id),\n",
    "    FOREIGN KEY(variant_id) REFERENCES Variants(variant_id)\n",
    ") ENGINE=InnoDB;\n",
    "\"\"\")\n",
    "connection.commit()"
   ]
  },
  {
   "cell_type": "code",
   "execution_count": 51,
   "id": "3fb23fa3-420e-42e7-96ea-cdf16ef50c9e",
   "metadata": {},
   "outputs": [],
   "source": [
    "import pandas as pd"
   ]
  },
  {
   "cell_type": "code",
   "execution_count": 52,
   "id": "a113dcce-ff43-4452-9639-73dd0cfe0cff",
   "metadata": {},
   "outputs": [],
   "source": [
    "cursor.execute(\"\"\"\n",
    "INSERT IGNORE INTO Categorys VALUES\n",
    "    (1, 'Áo'),\n",
    "    (2, 'Quần'),\n",
    "    (3, 'Váy'),\n",
    "    (4, 'Phụ kiện')\n",
    ";\n",
    "\"\"\")\n",
    "connection.commit()"
   ]
  },
  {
   "cell_type": "code",
   "execution_count": 53,
   "id": "53bb96f8-b3e7-4f6b-9be7-56a6df408a89",
   "metadata": {},
   "outputs": [],
   "source": [
    "cursor.execute(\"\"\"\n",
    "INSERT INTO Products VALUES\n",
    "    (101, 'Áo sơ mi nam', 1, 300000),\n",
    "    (102, 'Quần jeans', 2, 500000),\n",
    "    (103, 'Váy xòe', 3, 450000)\n",
    ";\"\"\")\n",
    "connection.commit()"
   ]
  },
  {
   "cell_type": "code",
   "execution_count": 54,
   "id": "42cf3e79-aead-4577-9dc0-9b88021ffbbe",
   "metadata": {},
   "outputs": [],
   "source": [
    "cursor.execute(\"\"\"\n",
    "INSERT INTO Variants VALUES\n",
    "    (1, 101, 'Trắng', 'M', 20),\n",
    "    (2, 101, 'Trắng', 'L', 15),\n",
    "    (3, 102, 'Xanh', 'M', 10),\n",
    "    (4, 103, 'Đỏ', 'S', 5)\n",
    ";\"\"\")\n",
    "connection.commit()"
   ]
  },
  {
   "cell_type": "code",
   "execution_count": 55,
   "id": "fbdeeba6-d10f-412a-abdb-8d9d18243cdf",
   "metadata": {},
   "outputs": [],
   "source": [
    "cursor.execute(\"\"\"\n",
    "INSERT INTO Customers VALUES\n",
    "    (1, 'Trần An', '0909123456', 'Hà Nội', '2024-01-10'),\n",
    "    (2, 'Lê Bình', '0909223456', 'TP.HCM', '2024-02-05')\n",
    ";\"\"\")\n",
    "connection.commit()"
   ]
  },
  {
   "cell_type": "code",
   "execution_count": 56,
   "id": "9c4fb5ce-16e7-4549-a70d-fb03a2af1ea8",
   "metadata": {},
   "outputs": [],
   "source": [
    "cursor.execute(\"\"\"\n",
    "INSERT INTO Orders VALUES\n",
    "    (1, 1, '2024-03-01', 'Đã giao'),\n",
    "    (2, 2, '2024-03-02', 'Đã đặt')\n",
    ";\"\"\")\n",
    "connection.commit()"
   ]
  },
  {
   "cell_type": "code",
   "execution_count": 57,
   "id": "0b2bf733-352e-4339-b7f2-5982519cceb8",
   "metadata": {},
   "outputs": [],
   "source": [
    "cursor.execute(\"\"\"\n",
    "INSERT INTO OrderDetails VALUES\n",
    "    (1, 1, 2,300000),\n",
    "    (1, 3, 1,500000),\n",
    "    (2, 4, 1,450000)\n",
    ";\"\"\")\n",
    "connection.commit()"
   ]
  },
  {
   "cell_type": "code",
   "execution_count": 26,
   "id": "d318b5be-b397-4802-8572-80f927cf764c",
   "metadata": {},
   "outputs": [],
   "source": [
    "connection.database= \"banhangquanao\""
   ]
  },
  {
   "cell_type": "code",
   "execution_count": 59,
   "id": "bd2b9d53-bb68-4cb7-a2bf-b368a4069d83",
   "metadata": {},
   "outputs": [
    {
     "name": "stderr",
     "output_type": "stream",
     "text": [
      "C:\\Users\\LENOVO\\AppData\\Local\\Temp\\ipykernel_7272\\2698538592.py:12: UserWarning: pandas only supports SQLAlchemy connectable (engine/connection) or database string URI or sqlite3 DBAPI2 connection. Other DBAPI2 objects are not tested. Please consider using SQLAlchemy.\n",
      "  data=pd.read_sql_query(query,connection)\n"
     ]
    },
    {
     "data": {
      "text/html": [
       "<div>\n",
       "<style scoped>\n",
       "    .dataframe tbody tr th:only-of-type {\n",
       "        vertical-align: middle;\n",
       "    }\n",
       "\n",
       "    .dataframe tbody tr th {\n",
       "        vertical-align: top;\n",
       "    }\n",
       "\n",
       "    .dataframe thead th {\n",
       "        text-align: right;\n",
       "    }\n",
       "</style>\n",
       "<table border=\"1\" class=\"dataframe\">\n",
       "  <thead>\n",
       "    <tr style=\"text-align: right;\">\n",
       "      <th></th>\n",
       "      <th>order_id</th>\n",
       "      <th>name</th>\n",
       "      <th>TotalAmount</th>\n",
       "    </tr>\n",
       "  </thead>\n",
       "  <tbody>\n",
       "  </tbody>\n",
       "</table>\n",
       "</div>"
      ],
      "text/plain": [
       "Empty DataFrame\n",
       "Columns: [order_id, name, TotalAmount]\n",
       "Index: []"
      ]
     },
     "execution_count": 59,
     "metadata": {},
     "output_type": "execute_result"
    }
   ],
   "source": [
    "# Liệt kê tất cả các đơn hàng, \n",
    "# kèm theo tên khách hàng và tổng tiền của mỗi đơn hàng\n",
    "# SUM(COALESCE(od.quantity, 0) * COALESCE(od.price, 0)) AS Totalod\n",
    "query=\"\"\"\n",
    "SELECT o.order_id, c.name, SUM(od.quantity*od.price) AS TotalAmount  \n",
    "FROM Orders o\n",
    "JOIN Customers c ON o.customer_id = c.customer_id\n",
    "JOIN OrderDetails od ON o.order_id=od.order_id\n",
    "GROUP BY o.order_id, c.name\n",
    ";\"\"\"\n",
    "connection.commit()\n",
    "data=pd.read_sql_query(query,connection)\n",
    "data"
   ]
  },
  {
   "cell_type": "code",
   "execution_count": 60,
   "id": "a7645ba0-098c-48bf-b2d0-9f28c968f519",
   "metadata": {},
   "outputs": [
    {
     "name": "stderr",
     "output_type": "stream",
     "text": [
      "C:\\Users\\LENOVO\\AppData\\Local\\Temp\\ipykernel_7272\\4206460378.py:10: UserWarning: pandas only supports SQLAlchemy connectable (engine/connection) or database string URI or sqlite3 DBAPI2 connection. Other DBAPI2 objects are not tested. Please consider using SQLAlchemy.\n",
      "  data=pd.read_sql_query(query,connection)\n"
     ]
    },
    {
     "data": {
      "text/html": [
       "<div>\n",
       "<style scoped>\n",
       "    .dataframe tbody tr th:only-of-type {\n",
       "        vertical-align: middle;\n",
       "    }\n",
       "\n",
       "    .dataframe tbody tr th {\n",
       "        vertical-align: top;\n",
       "    }\n",
       "\n",
       "    .dataframe thead th {\n",
       "        text-align: right;\n",
       "    }\n",
       "</style>\n",
       "<table border=\"1\" class=\"dataframe\">\n",
       "  <thead>\n",
       "    <tr style=\"text-align: right;\">\n",
       "      <th></th>\n",
       "      <th>variant_id</th>\n",
       "      <th>name</th>\n",
       "      <th>color</th>\n",
       "      <th>size</th>\n",
       "      <th>stock</th>\n",
       "    </tr>\n",
       "  </thead>\n",
       "  <tbody>\n",
       "  </tbody>\n",
       "</table>\n",
       "</div>"
      ],
      "text/plain": [
       "Empty DataFrame\n",
       "Columns: [variant_id, name, color, size, stock]\n",
       "Index: []"
      ]
     },
     "execution_count": 60,
     "metadata": {},
     "output_type": "execute_result"
    }
   ],
   "source": [
    "# Liệt kê các sản phẩm có tồn kho dưới 10\n",
    "query=\"\"\"\n",
    "SELECT v.variant_id,p.name, v.color, v.size, v.stock\n",
    "FROM Variants v\n",
    "JOIN Products p ON v.product_id= p.product_id\n",
    "WHERE 1=1\n",
    "AND v.stock<10\n",
    ";\"\"\"\n",
    "connection.commit()\n",
    "data=pd.read_sql_query(query,connection)\n",
    "data"
   ]
  },
  {
   "cell_type": "code",
   "execution_count": 61,
   "id": "f56db71a-644d-4d19-a52d-81ef6d2e8828",
   "metadata": {},
   "outputs": [
    {
     "name": "stderr",
     "output_type": "stream",
     "text": [
      "C:\\Users\\LENOVO\\AppData\\Local\\Temp\\ipykernel_7272\\2733239239.py:8: UserWarning: pandas only supports SQLAlchemy connectable (engine/connection) or database string URI or sqlite3 DBAPI2 connection. Other DBAPI2 objects are not tested. Please consider using SQLAlchemy.\n",
      "  data=pd.read_sql_query(query,connection)\n"
     ]
    },
    {
     "data": {
      "text/html": [
       "<div>\n",
       "<style scoped>\n",
       "    .dataframe tbody tr th:only-of-type {\n",
       "        vertical-align: middle;\n",
       "    }\n",
       "\n",
       "    .dataframe tbody tr th {\n",
       "        vertical-align: top;\n",
       "    }\n",
       "\n",
       "    .dataframe thead th {\n",
       "        text-align: right;\n",
       "    }\n",
       "</style>\n",
       "<table border=\"1\" class=\"dataframe\">\n",
       "  <thead>\n",
       "    <tr style=\"text-align: right;\">\n",
       "      <th></th>\n",
       "      <th>orderdate</th>\n",
       "      <th>DailyRevenue</th>\n",
       "    </tr>\n",
       "  </thead>\n",
       "  <tbody>\n",
       "  </tbody>\n",
       "</table>\n",
       "</div>"
      ],
      "text/plain": [
       "Empty DataFrame\n",
       "Columns: [orderdate, DailyRevenue]\n",
       "Index: []"
      ]
     },
     "execution_count": 61,
     "metadata": {},
     "output_type": "execute_result"
    }
   ],
   "source": [
    "#Tính tổng doanh thu theo từng ngày đặt hàng\n",
    "query=\"\"\"\n",
    "SELECT o.orderdate,SUM(od.quantity * od.price) AS DailyRevenue\n",
    "FROM Orders o\n",
    "JOIN OrderDetails od ON o.order_id= od.order_id\n",
    "GROUP BY o.orderdate\n",
    ";\"\"\"\n",
    "connection.commit()\n",
    "data=pd.read_sql_query(query,connection)\n",
    "data"
   ]
  },
  {
   "cell_type": "code",
   "execution_count": 62,
   "id": "792b3ec6-735f-4a93-98af-cf0b9c66383e",
   "metadata": {},
   "outputs": [
    {
     "name": "stderr",
     "output_type": "stream",
     "text": [
      "C:\\Users\\LENOVO\\AppData\\Local\\Temp\\ipykernel_7272\\2191093292.py:8: UserWarning: pandas only supports SQLAlchemy connectable (engine/connection) or database string URI or sqlite3 DBAPI2 connection. Other DBAPI2 objects are not tested. Please consider using SQLAlchemy.\n",
      "  data=pd.read_sql_query(query,connection)\n"
     ]
    },
    {
     "data": {
      "text/html": [
       "<div>\n",
       "<style scoped>\n",
       "    .dataframe tbody tr th:only-of-type {\n",
       "        vertical-align: middle;\n",
       "    }\n",
       "\n",
       "    .dataframe tbody tr th {\n",
       "        vertical-align: top;\n",
       "    }\n",
       "\n",
       "    .dataframe thead th {\n",
       "        text-align: right;\n",
       "    }\n",
       "</style>\n",
       "<table border=\"1\" class=\"dataframe\">\n",
       "  <thead>\n",
       "    <tr style=\"text-align: right;\">\n",
       "      <th></th>\n",
       "      <th>name</th>\n",
       "    </tr>\n",
       "  </thead>\n",
       "  <tbody>\n",
       "  </tbody>\n",
       "</table>\n",
       "</div>"
      ],
      "text/plain": [
       "Empty DataFrame\n",
       "Columns: [name]\n",
       "Index: []"
      ]
     },
     "execution_count": 62,
     "metadata": {},
     "output_type": "execute_result"
    }
   ],
   "source": [
    "# Liệt kê các khách hàng đã từng có đơn hàng\n",
    "query=\"\"\"\n",
    "SELECT DISTINCT c.name\n",
    "FROM Customers c\n",
    "JOIN Orders o ON c.customer_id= o.customer_id\n",
    ";\"\"\"\n",
    "connection.commit()\n",
    "data=pd.read_sql_query(query,connection)\n",
    "data"
   ]
  },
  {
   "cell_type": "code",
   "execution_count": 64,
   "id": "eeb2e762-8fe7-4cb4-ba09-efcbc5cecef0",
   "metadata": {},
   "outputs": [
    {
     "name": "stderr",
     "output_type": "stream",
     "text": [
      "C:\\Users\\LENOVO\\AppData\\Local\\Temp\\ipykernel_7272\\1082510176.py:12: UserWarning: pandas only supports SQLAlchemy connectable (engine/connection) or database string URI or sqlite3 DBAPI2 connection. Other DBAPI2 objects are not tested. Please consider using SQLAlchemy.\n",
      "  data=pd.read_sql_query(query,connection)\n"
     ]
    },
    {
     "data": {
      "text/html": [
       "<div>\n",
       "<style scoped>\n",
       "    .dataframe tbody tr th:only-of-type {\n",
       "        vertical-align: middle;\n",
       "    }\n",
       "\n",
       "    .dataframe tbody tr th {\n",
       "        vertical-align: top;\n",
       "    }\n",
       "\n",
       "    .dataframe thead th {\n",
       "        text-align: right;\n",
       "    }\n",
       "</style>\n",
       "<table border=\"1\" class=\"dataframe\">\n",
       "  <thead>\n",
       "    <tr style=\"text-align: right;\">\n",
       "      <th></th>\n",
       "      <th>name</th>\n",
       "      <th>Totalsold</th>\n",
       "    </tr>\n",
       "  </thead>\n",
       "  <tbody>\n",
       "  </tbody>\n",
       "</table>\n",
       "</div>"
      ],
      "text/plain": [
       "Empty DataFrame\n",
       "Columns: [name, Totalsold]\n",
       "Index: []"
      ]
     },
     "execution_count": 64,
     "metadata": {},
     "output_type": "execute_result"
    }
   ],
   "source": [
    "# Liệt kê sản phẩm bán chạy nhất (theo tổng số lượng bán)\n",
    "query=\"\"\"\n",
    "SELECT p.name, sum(od.quantity) AS Totalsold\n",
    "FROM Orderdetails od\n",
    "JOIN Variants v ON v.variant_id= od.variant_id\n",
    "JOIN Products p ON p.product_id = v.product_id\n",
    "GROUP BY p.name\n",
    "ORDER BY Totalsold DESC\n",
    "LIMIT 1\n",
    ";\"\"\"\n",
    "connection.commit()\n",
    "data=pd.read_sql_query(query,connection)\n",
    "data"
   ]
  },
  {
   "cell_type": "code",
   "execution_count": 65,
   "id": "1840a81b-723e-4bb1-acbb-142e322fd1a9",
   "metadata": {},
   "outputs": [
    {
     "name": "stderr",
     "output_type": "stream",
     "text": [
      "C:\\Users\\LENOVO\\AppData\\Local\\Temp\\ipykernel_7272\\1125937389.py:11: UserWarning: pandas only supports SQLAlchemy connectable (engine/connection) or database string URI or sqlite3 DBAPI2 connection. Other DBAPI2 objects are not tested. Please consider using SQLAlchemy.\n",
      "  data=pd.read_sql_query(query,connection)\n"
     ]
    },
    {
     "data": {
      "text/html": [
       "<div>\n",
       "<style scoped>\n",
       "    .dataframe tbody tr th:only-of-type {\n",
       "        vertical-align: middle;\n",
       "    }\n",
       "\n",
       "    .dataframe tbody tr th {\n",
       "        vertical-align: top;\n",
       "    }\n",
       "\n",
       "    .dataframe thead th {\n",
       "        text-align: right;\n",
       "    }\n",
       "</style>\n",
       "<table border=\"1\" class=\"dataframe\">\n",
       "  <thead>\n",
       "    <tr style=\"text-align: right;\">\n",
       "      <th></th>\n",
       "      <th>name</th>\n",
       "      <th>CatRevenue</th>\n",
       "    </tr>\n",
       "  </thead>\n",
       "  <tbody>\n",
       "  </tbody>\n",
       "</table>\n",
       "</div>"
      ],
      "text/plain": [
       "Empty DataFrame\n",
       "Columns: [name, CatRevenue]\n",
       "Index: []"
      ]
     },
     "execution_count": 65,
     "metadata": {},
     "output_type": "execute_result"
    }
   ],
   "source": [
    "# Tính tổng doanh thu theo từng loại danh mục sản phẩm\n",
    "query=\"\"\"\n",
    "SELECT cat.name, SUM(od.quantity * od.price)  AS CatRevenue\n",
    "FROM OrderDetails od\n",
    "JOIN Variants v ON od.variant_id=  v.variant_id\n",
    "JOIN Products p ON v.product_id = p.product_id\n",
    "JOIN Categorys cat ON p.category_id = cat.category_id\n",
    "GROUP BY cat.name\n",
    ";\"\"\"\n",
    "connection.commit()\n",
    "data=pd.read_sql_query(query,connection)\n",
    "data"
   ]
  },
  {
   "cell_type": "code",
   "execution_count": 66,
   "id": "a513dda1-6d82-477d-8f70-a1b9e16db97b",
   "metadata": {},
   "outputs": [
    {
     "name": "stderr",
     "output_type": "stream",
     "text": [
      "C:\\Users\\LENOVO\\AppData\\Local\\Temp\\ipykernel_7272\\359341838.py:12: UserWarning: pandas only supports SQLAlchemy connectable (engine/connection) or database string URI or sqlite3 DBAPI2 connection. Other DBAPI2 objects are not tested. Please consider using SQLAlchemy.\n",
      "  data=pd.read_sql_query(query,connection)\n"
     ]
    },
    {
     "data": {
      "text/html": [
       "<div>\n",
       "<style scoped>\n",
       "    .dataframe tbody tr th:only-of-type {\n",
       "        vertical-align: middle;\n",
       "    }\n",
       "\n",
       "    .dataframe tbody tr th {\n",
       "        vertical-align: top;\n",
       "    }\n",
       "\n",
       "    .dataframe thead th {\n",
       "        text-align: right;\n",
       "    }\n",
       "</style>\n",
       "<table border=\"1\" class=\"dataframe\">\n",
       "  <thead>\n",
       "    <tr style=\"text-align: right;\">\n",
       "      <th></th>\n",
       "      <th>order_id</th>\n",
       "      <th>name</th>\n",
       "      <th>color</th>\n",
       "      <th>size</th>\n",
       "      <th>quantity</th>\n",
       "      <th>price</th>\n",
       "      <th>Totalline</th>\n",
       "    </tr>\n",
       "  </thead>\n",
       "  <tbody>\n",
       "  </tbody>\n",
       "</table>\n",
       "</div>"
      ],
      "text/plain": [
       "Empty DataFrame\n",
       "Columns: [order_id, name, color, size, quantity, price, Totalline]\n",
       "Index: []"
      ]
     },
     "execution_count": 66,
     "metadata": {},
     "output_type": "execute_result"
    }
   ],
   "source": [
    "# Hiển thị chi tiết của một đơn hàng cụ thể (gồm tên sản phẩm, màu, size, số lượng, đơn giá, tổng dòng)\n",
    "query=\"\"\"\n",
    "SELECT o.order_id, p.name, v.color, v.size, od.quantity, od.price, (od.quantity * od.price) AS Totalline\n",
    "FROM Orders o\n",
    "JOIN OrderDetails od ON o.order_id = od.order_id\n",
    "JOIN Variants v ON od.variant_id = v.variant_id\n",
    "JOIN Products p ON v.product_id = p.product_id\n",
    "WHERE 1=1\n",
    "AND o.order_id=1\n",
    ";\"\"\"\n",
    "connection.commit()\n",
    "data=pd.read_sql_query(query,connection)\n",
    "data"
   ]
  },
  {
   "cell_type": "code",
   "execution_count": 67,
   "id": "e9e188df-658b-4bb9-a070-e1a55d108885",
   "metadata": {},
   "outputs": [
    {
     "name": "stderr",
     "output_type": "stream",
     "text": [
      "C:\\Users\\LENOVO\\AppData\\Local\\Temp\\ipykernel_7272\\3467861273.py:9: UserWarning: pandas only supports SQLAlchemy connectable (engine/connection) or database string URI or sqlite3 DBAPI2 connection. Other DBAPI2 objects are not tested. Please consider using SQLAlchemy.\n",
      "  data=pd.read_sql_query(query,connection)\n"
     ]
    },
    {
     "data": {
      "text/html": [
       "<div>\n",
       "<style scoped>\n",
       "    .dataframe tbody tr th:only-of-type {\n",
       "        vertical-align: middle;\n",
       "    }\n",
       "\n",
       "    .dataframe tbody tr th {\n",
       "        vertical-align: top;\n",
       "    }\n",
       "\n",
       "    .dataframe thead th {\n",
       "        text-align: right;\n",
       "    }\n",
       "</style>\n",
       "<table border=\"1\" class=\"dataframe\">\n",
       "  <thead>\n",
       "    <tr style=\"text-align: right;\">\n",
       "      <th></th>\n",
       "      <th>name</th>\n",
       "    </tr>\n",
       "  </thead>\n",
       "  <tbody>\n",
       "  </tbody>\n",
       "</table>\n",
       "</div>"
      ],
      "text/plain": [
       "Empty DataFrame\n",
       "Columns: [name]\n",
       "Index: []"
      ]
     },
     "execution_count": 67,
     "metadata": {},
     "output_type": "execute_result"
    }
   ],
   "source": [
    "# Liệt kê các khách hàng chưa từng thực hiện đơn hàng nào\n",
    "query=\"\"\"\n",
    "SELECT c.name\n",
    "FROM Customers c\n",
    "LEFT JOIN Orders o ON c.customer_id = o.customer_id\n",
    "WHERE o.order_id IS NULL\n",
    ";\"\"\"\n",
    "connection.commit()\n",
    "data=pd.read_sql_query(query,connection)\n",
    "data"
   ]
  },
  {
   "cell_type": "code",
   "execution_count": 70,
   "id": "caa45dab-bb29-4a60-8e93-1aaec59d426e",
   "metadata": {},
   "outputs": [
    {
     "name": "stderr",
     "output_type": "stream",
     "text": [
      "C:\\Users\\LENOVO\\AppData\\Local\\Temp\\ipykernel_7272\\2600966297.py:11: UserWarning: pandas only supports SQLAlchemy connectable (engine/connection) or database string URI or sqlite3 DBAPI2 connection. Other DBAPI2 objects are not tested. Please consider using SQLAlchemy.\n",
      "  data=pd.read_sql_query(query,connection)\n"
     ]
    },
    {
     "data": {
      "text/html": [
       "<div>\n",
       "<style scoped>\n",
       "    .dataframe tbody tr th:only-of-type {\n",
       "        vertical-align: middle;\n",
       "    }\n",
       "\n",
       "    .dataframe tbody tr th {\n",
       "        vertical-align: top;\n",
       "    }\n",
       "\n",
       "    .dataframe thead th {\n",
       "        text-align: right;\n",
       "    }\n",
       "</style>\n",
       "<table border=\"1\" class=\"dataframe\">\n",
       "  <thead>\n",
       "    <tr style=\"text-align: right;\">\n",
       "      <th></th>\n",
       "      <th>Year</th>\n",
       "      <th>Month</th>\n",
       "      <th>Newcustomers</th>\n",
       "    </tr>\n",
       "  </thead>\n",
       "  <tbody>\n",
       "  </tbody>\n",
       "</table>\n",
       "</div>"
      ],
      "text/plain": [
       "Empty DataFrame\n",
       "Columns: [Year, Month, Newcustomers]\n",
       "Index: []"
      ]
     },
     "execution_count": 70,
     "metadata": {},
     "output_type": "execute_result"
    }
   ],
   "source": [
    "# Thống kê số lượng khách hàng mới theo từng tháng\n",
    "query=\"\"\"\n",
    "SELECT EXTRACT(YEAR FROM createddate) AS Year,\n",
    "       EXTRACT(MONTH FROM createddate) AS Month,\n",
    "       COUNT(*) AS Newcustomers\n",
    "FROM Customers \n",
    "GROUP BY EXTRACT(YEAR FROM createddate), EXTRACT(MONTH FROM createddate)\n",
    "ORDER BY Year, Month\n",
    ";\"\"\"\n",
    "connection.commit()\n",
    "data=pd.read_sql_query(query,connection)\n",
    "data"
   ]
  },
  {
   "cell_type": "code",
   "execution_count": 71,
   "id": "f64ea622-8772-4976-94e8-b71377b5544a",
   "metadata": {},
   "outputs": [
    {
     "name": "stderr",
     "output_type": "stream",
     "text": [
      "C:\\Users\\LENOVO\\AppData\\Local\\Temp\\ipykernel_7272\\1454083096.py:8: UserWarning: pandas only supports SQLAlchemy connectable (engine/connection) or database string URI or sqlite3 DBAPI2 connection. Other DBAPI2 objects are not tested. Please consider using SQLAlchemy.\n",
      "  data=pd.read_sql_query(query,connection)\n"
     ]
    },
    {
     "data": {
      "text/html": [
       "<div>\n",
       "<style scoped>\n",
       "    .dataframe tbody tr th:only-of-type {\n",
       "        vertical-align: middle;\n",
       "    }\n",
       "\n",
       "    .dataframe tbody tr th {\n",
       "        vertical-align: top;\n",
       "    }\n",
       "\n",
       "    .dataframe thead th {\n",
       "        text-align: right;\n",
       "    }\n",
       "</style>\n",
       "<table border=\"1\" class=\"dataframe\">\n",
       "  <thead>\n",
       "    <tr style=\"text-align: right;\">\n",
       "      <th></th>\n",
       "      <th>status</th>\n",
       "      <th>CountOrders</th>\n",
       "    </tr>\n",
       "  </thead>\n",
       "  <tbody>\n",
       "  </tbody>\n",
       "</table>\n",
       "</div>"
      ],
      "text/plain": [
       "Empty DataFrame\n",
       "Columns: [status, CountOrders]\n",
       "Index: []"
      ]
     },
     "execution_count": 71,
     "metadata": {},
     "output_type": "execute_result"
    }
   ],
   "source": [
    "# Thống kê số đơn hàng theo từng trạng thái (đã giao, đã đặt, đã huỷ)\n",
    "query=\"\"\"\n",
    "SELECT status, COUNT(*) AS CountOrders\n",
    "FROM Orders\n",
    "GROUP BY status\n",
    ";\"\"\"\n",
    "connection.commit()\n",
    "data=pd.read_sql_query(query,connection)\n",
    "data"
   ]
  },
  {
   "cell_type": "code",
   "execution_count": 72,
   "id": "0ec78627-5008-470d-bbcf-64a51d32798a",
   "metadata": {},
   "outputs": [
    {
     "name": "stderr",
     "output_type": "stream",
     "text": [
      "C:\\Users\\LENOVO\\AppData\\Local\\Temp\\ipykernel_7272\\2518640941.py:10: UserWarning: pandas only supports SQLAlchemy connectable (engine/connection) or database string URI or sqlite3 DBAPI2 connection. Other DBAPI2 objects are not tested. Please consider using SQLAlchemy.\n",
      "  data=pd.read_sql_query(query,connection)\n"
     ]
    },
    {
     "data": {
      "text/html": [
       "<div>\n",
       "<style scoped>\n",
       "    .dataframe tbody tr th:only-of-type {\n",
       "        vertical-align: middle;\n",
       "    }\n",
       "\n",
       "    .dataframe tbody tr th {\n",
       "        vertical-align: top;\n",
       "    }\n",
       "\n",
       "    .dataframe thead th {\n",
       "        text-align: right;\n",
       "    }\n",
       "</style>\n",
       "<table border=\"1\" class=\"dataframe\">\n",
       "  <thead>\n",
       "    <tr style=\"text-align: right;\">\n",
       "      <th></th>\n",
       "      <th>name</th>\n",
       "      <th>AvgStock</th>\n",
       "    </tr>\n",
       "  </thead>\n",
       "  <tbody>\n",
       "  </tbody>\n",
       "</table>\n",
       "</div>"
      ],
      "text/plain": [
       "Empty DataFrame\n",
       "Columns: [name, AvgStock]\n",
       "Index: []"
      ]
     },
     "execution_count": 72,
     "metadata": {},
     "output_type": "execute_result"
    }
   ],
   "source": [
    "# Tính tồn kho trung bình theo từng danh mục sản phẩm \n",
    "query=\"\"\"\n",
    "SELECT cat.name, AVG(v.stock) AS AvgStock\n",
    "FROM Variants v\n",
    "JOIN Products p ON v.product_id = p.product_id\n",
    "JOIN Categorys cat ON p.category_id = cat.category_id\n",
    "GROUP BY cat.name\n",
    ";\"\"\"\n",
    "connection.commit()\n",
    "data=pd.read_sql_query(query,connection)\n",
    "data"
   ]
  },
  {
   "cell_type": "code",
   "execution_count": null,
   "id": "e2f1dadd-4329-41b3-adee-2dee807d0c7f",
   "metadata": {},
   "outputs": [],
   "source": []
  }
 ],
 "metadata": {
  "kernelspec": {
   "display_name": "Python 3 (ipykernel)",
   "language": "python",
   "name": "python3"
  },
  "language_info": {
   "codemirror_mode": {
    "name": "ipython",
    "version": 3
   },
   "file_extension": ".py",
   "mimetype": "text/x-python",
   "name": "python",
   "nbconvert_exporter": "python",
   "pygments_lexer": "ipython3",
   "version": "3.13.2"
  }
 },
 "nbformat": 4,
 "nbformat_minor": 5
}
