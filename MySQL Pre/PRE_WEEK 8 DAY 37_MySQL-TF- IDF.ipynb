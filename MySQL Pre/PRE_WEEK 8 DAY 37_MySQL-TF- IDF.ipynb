{
 "cells": [
  {
   "cell_type": "code",
   "execution_count": 3,
   "id": "a0071b64-a804-4e64-b0e7-cd89f739cbae",
   "metadata": {},
   "outputs": [
    {
     "name": "stdout",
     "output_type": "stream",
     "text": [
      "Requirement already satisfied: seaborn in c:\\users\\lenovo\\appdata\\local\\programs\\python\\python313\\lib\\site-packages (0.13.2)\n",
      "Requirement already satisfied: numpy!=1.24.0,>=1.20 in c:\\users\\lenovo\\appdata\\local\\programs\\python\\python313\\lib\\site-packages (from seaborn) (2.2.4)\n",
      "Requirement already satisfied: pandas>=1.2 in c:\\users\\lenovo\\appdata\\local\\programs\\python\\python313\\lib\\site-packages (from seaborn) (2.2.3)\n",
      "Requirement already satisfied: matplotlib!=3.6.1,>=3.4 in c:\\users\\lenovo\\appdata\\local\\programs\\python\\python313\\lib\\site-packages (from seaborn) (3.10.1)\n",
      "Requirement already satisfied: contourpy>=1.0.1 in c:\\users\\lenovo\\appdata\\local\\programs\\python\\python313\\lib\\site-packages (from matplotlib!=3.6.1,>=3.4->seaborn) (1.3.1)\n",
      "Requirement already satisfied: cycler>=0.10 in c:\\users\\lenovo\\appdata\\local\\programs\\python\\python313\\lib\\site-packages (from matplotlib!=3.6.1,>=3.4->seaborn) (0.12.1)\n",
      "Requirement already satisfied: fonttools>=4.22.0 in c:\\users\\lenovo\\appdata\\local\\programs\\python\\python313\\lib\\site-packages (from matplotlib!=3.6.1,>=3.4->seaborn) (4.56.0)\n",
      "Requirement already satisfied: kiwisolver>=1.3.1 in c:\\users\\lenovo\\appdata\\local\\programs\\python\\python313\\lib\\site-packages (from matplotlib!=3.6.1,>=3.4->seaborn) (1.4.8)\n",
      "Requirement already satisfied: packaging>=20.0 in c:\\users\\lenovo\\appdata\\local\\programs\\python\\python313\\lib\\site-packages (from matplotlib!=3.6.1,>=3.4->seaborn) (24.2)\n",
      "Requirement already satisfied: pillow>=8 in c:\\users\\lenovo\\appdata\\local\\programs\\python\\python313\\lib\\site-packages (from matplotlib!=3.6.1,>=3.4->seaborn) (11.1.0)\n",
      "Requirement already satisfied: pyparsing>=2.3.1 in c:\\users\\lenovo\\appdata\\local\\programs\\python\\python313\\lib\\site-packages (from matplotlib!=3.6.1,>=3.4->seaborn) (3.2.3)\n",
      "Requirement already satisfied: python-dateutil>=2.7 in c:\\users\\lenovo\\appdata\\local\\programs\\python\\python313\\lib\\site-packages (from matplotlib!=3.6.1,>=3.4->seaborn) (2.9.0.post0)\n",
      "Requirement already satisfied: pytz>=2020.1 in c:\\users\\lenovo\\appdata\\local\\programs\\python\\python313\\lib\\site-packages (from pandas>=1.2->seaborn) (2025.1)\n",
      "Requirement already satisfied: tzdata>=2022.7 in c:\\users\\lenovo\\appdata\\local\\programs\\python\\python313\\lib\\site-packages (from pandas>=1.2->seaborn) (2025.1)\n",
      "Requirement already satisfied: six>=1.5 in c:\\users\\lenovo\\appdata\\local\\programs\\python\\python313\\lib\\site-packages (from python-dateutil>=2.7->matplotlib!=3.6.1,>=3.4->seaborn) (1.17.0)\n"
     ]
    }
   ],
   "source": [
    "!pip install seaborn"
   ]
  },
  {
   "cell_type": "code",
   "execution_count": 4,
   "id": "9afd7952-baca-4a27-9054-66965d74437c",
   "metadata": {},
   "outputs": [
    {
     "name": "stderr",
     "output_type": "stream",
     "text": [
      "Matplotlib is building the font cache; this may take a moment.\n"
     ]
    },
    {
     "ename": "ModuleNotFoundError",
     "evalue": "No module named 'sklearn'",
     "output_type": "error",
     "traceback": [
      "\u001b[31m---------------------------------------------------------------------------\u001b[39m",
      "\u001b[31mModuleNotFoundError\u001b[39m                       Traceback (most recent call last)",
      "\u001b[36mCell\u001b[39m\u001b[36m \u001b[39m\u001b[32mIn[4]\u001b[39m\u001b[32m, line 6\u001b[39m\n\u001b[32m      3\u001b[39m \u001b[38;5;28;01mimport\u001b[39;00m\u001b[38;5;250m \u001b[39m\u001b[34;01mseaborn\u001b[39;00m\u001b[38;5;250m \u001b[39m\u001b[38;5;28;01mas\u001b[39;00m\u001b[38;5;250m \u001b[39m\u001b[34;01msns\u001b[39;00m\n\u001b[32m      4\u001b[39m \u001b[38;5;28;01mimport\u001b[39;00m\u001b[38;5;250m \u001b[39m\u001b[34;01mre\u001b[39;00m\n\u001b[32m----> \u001b[39m\u001b[32m6\u001b[39m \u001b[38;5;28;01mfrom\u001b[39;00m\u001b[38;5;250m \u001b[39m\u001b[34;01msklearn\u001b[39;00m\u001b[34;01m.\u001b[39;00m\u001b[34;01mmetrics\u001b[39;00m\u001b[34;01m.\u001b[39;00m\u001b[34;01mpairwise\u001b[39;00m\u001b[38;5;250m \u001b[39m\u001b[38;5;28;01mimport\u001b[39;00m cosine_similarity\n",
      "\u001b[31mModuleNotFoundError\u001b[39m: No module named 'sklearn'"
     ]
    }
   ],
   "source": [
    "import numpy as np\n",
    "import pandas as pd\n",
    "import seaborn as sns\n",
    "import re\n",
    "\n",
    "from sklearn.metrics.pairwise import cosine_similarity\n"
   ]
  },
  {
   "cell_type": "code",
   "execution_count": null,
   "id": "bd761561-2268-422d-a7d0-26aeb63c630f",
   "metadata": {},
   "outputs": [],
   "source": [
    "import mysql.connector \n",
    "cursor.execute(\"\"\"CREATE SCHEMA if not exists kiemtradaovantfidf; \"\"\")\n",
    "connection = mysql.connector.connect(\n",
    "    host=\"127.0.0.1\",     \n",
    "    user=\"root\",         \n",
    "    password=\"2011DongBaLiem@\",\n",
    "    database=\"kiemtradaovantfidf\")\n",
    "\n",
    "cursor = connection.cursor()\n",
    "\n",
    "cursor.execute(\"USE kiemtradaovantfidf;\")"
   ]
  },
  {
   "cell_type": "code",
   "execution_count": null,
   "id": "eb66aaa4-697c-4736-93dc-83d8178fb3dc",
   "metadata": {},
   "outputs": [],
   "source": [
    "sample_docs = [\n",
    "    (\"Bài luận 1\", \"Trí tuệ nhân tạo đang phát triển nhanh chóng và tác động lớn đến cuộc sống.\"),\n",
    "    (\"Bài luận 2\", \"Trí tuệ nhân tạo đang phát triển mạnh mẽ và ảnh hưởng nhiều đến đời sống con người.\"),\n",
    "    (\"Bài luận 3\", \"Trí tuệ nhân tạo rất mạnh mẽ và ảnh hưởng nhiều đến đời sống con người.\"),\n",
    "    (\"Bài luận 4\", \"Deep Learning đã mang lại những bước tiến vượt bậc trong lĩnh vực xử lý ngôn ngữ tự nhiên.\"),\n",
    "    (\"Bài luận 5\", \"Robotics và tự động hóa đang thay đổi cách chúng ta làm việc trong các nhà máy.\"),\n",
    "    (\"Bài luận 6\", \"Internet of Things kết nối hàng tỷ thiết bị thông minh trên toàn cầu.\"),\n",
    "    (\"Bài luận 7\", \"Blockchain không chỉ dùng cho tiền điện tử mà còn nhiều ứng dụng khác.\"),\n",
    "    (\"Bài luận 8\", \"Cloud Computing giúp doanh nghiệp tiết kiệm chi phí và tăng hiệu quả.\"),\n",
    "    (\"Bài luận 9\", \"Bảo mật thông tin là thách thức lớn trong kỷ nguyên số.\"),\n",
    "    (\"Bài luận 10\", \"5G sẽ tạo ra cuộc cách mạng trong truyền thông di động.\")\n",
    "]"
   ]
  },
  {
   "cell_type": "code",
   "execution_count": null,
   "id": "6aad870a-bf06-47e0-9588-714b255fa6c3",
   "metadata": {},
   "outputs": [],
   "source": [
    "# Tiền xử lý văn bản\n",
    "import re\n",
    "\n",
    "def preprocessing_docs(docs):\n",
    "    lower_docs = [sentence.lower() for (title, sentence) in docs]\n",
    "    split_docs = [re.sub(r'[^\\w\\s]', '', sentence).split() for sentence in lower_docs]\n",
    "    unique_docs = [list(set(sentence)) for sentence in split_docs] \n",
    "    return unique_docs "
   ]
  },
  {
   "cell_type": "code",
   "execution_count": null,
   "id": "67808f74-1468-4307-be76-c45f1046ad2e",
   "metadata": {},
   "outputs": [],
   "source": [
    "import re\n",
    "def preprocessing_docs(docs):\n",
    "    lower_docs = [re.sub(r'[^\\w\\s]', '', sentence.lower()) for _, sentence in docs]\n",
    "    unique_vocab = set(word for sentence in lower_docs for word in sentence.split())\n",
    "    return list(unique_vocab)\n",
    "    "
   ]
  },
  {
   "cell_type": "code",
   "execution_count": null,
   "id": "2f6c2c49-7fb0-431e-83b0-90e098c76d59",
   "metadata": {},
   "outputs": [],
   "source": [
    "data= preprocessing_docs(sample_docs)"
   ]
  },
  {
   "cell_type": "code",
   "execution_count": null,
   "id": "1f398841-a58a-4682-ac10-a4168a80c74a",
   "metadata": {},
   "outputs": [],
   "source": [
    "print(data)"
   ]
  },
  {
   "cell_type": "code",
   "execution_count": null,
   "id": "2b337164-2e95-4291-8141-582211b0f9c3",
   "metadata": {},
   "outputs": [],
   "source": []
  }
 ],
 "metadata": {
  "kernelspec": {
   "display_name": "Python 3 (ipykernel)",
   "language": "python",
   "name": "python3"
  },
  "language_info": {
   "codemirror_mode": {
    "name": "ipython",
    "version": 3
   },
   "file_extension": ".py",
   "mimetype": "text/x-python",
   "name": "python",
   "nbconvert_exporter": "python",
   "pygments_lexer": "ipython3",
   "version": "3.13.2"
  }
 },
 "nbformat": 4,
 "nbformat_minor": 5
}
