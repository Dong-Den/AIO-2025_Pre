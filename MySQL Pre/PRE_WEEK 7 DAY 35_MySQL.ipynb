{
 "cells": [
  {
   "cell_type": "code",
   "execution_count": 2,
   "id": "b9b56efd-510a-4ea7-a452-f4500750ea08",
   "metadata": {},
   "outputs": [
    {
     "name": "stdout",
     "output_type": "stream",
     "text": [
      "Requirement already satisfied: mysql-connector-python in c:\\users\\lenovo\\appdata\\local\\programs\\python\\python313\\lib\\site-packages (9.2.0)\n"
     ]
    }
   ],
   "source": [
    "!pip install mysql-connector-python"
   ]
  },
  {
   "cell_type": "code",
   "execution_count": 8,
   "id": "deb29e2a-b943-4de6-b28e-b05b55650605",
   "metadata": {},
   "outputs": [],
   "source": [
    "import mysql.connector\n",
    "connection = mysql.connector.connect(\n",
    "    host=\"127.0.0.1\",     \n",
    "    user=\"root\",         \n",
    "    password=\"2011DongBaLiem@\",  \n",
    "    database=\"quanlybanhangc\"     \n",
    "     \n",
    ")"
   ]
  },
  {
   "cell_type": "code",
   "execution_count": 12,
   "id": "1ea2e957-d51c-446f-a606-d1b8923ef1fa",
   "metadata": {},
   "outputs": [],
   "source": [
    "cursor = connection.cursor()\n",
    "cursor.execute(\"\"\"\n",
    "create table if not exists Salespersons(\n",
    "    SalespersonID int primary key,\n",
    "    Fullname varchar(255) not null,\n",
    "    Phonenumber varchar(15) unique not null) ENGINE=InnoDB;\n",
    "\"\"\")\n",
    "cursor.execute(\"\"\"\n",
    "create table if not exists Customers(\n",
    "    CustomerID int primary key,\n",
    "    Fullname varchar(255) not null,\n",
    "    Phonenumber varchar(15) unique not null,\n",
    "    Email varchar(255) unique not null) ENGINE=InnoDB;\n",
    "\"\"\")\n",
    "cursor.execute(\"\"\"\n",
    "create table if not exists orders(\n",
    "    OrderID int primary key,\n",
    "    CustomerID int  not null,\n",
    "    SalespersonID int  not null,\n",
    "    Orderdate date not null,\n",
    "    Totalamount decimal(10,2),\n",
    "    foreign key(CustomerID) references Customers(CustomerID),\n",
    "    foreign key(SalespersonID) references Salespersons(SalespersonID)) ENGINE=InnoDB;\n",
    "\"\"\")\n",
    "\n",
    "connection.commit() "
   ]
  },
  {
   "cell_type": "code",
   "execution_count": 13,
   "id": "62183324-0c44-4419-8042-5ceb315589f6",
   "metadata": {},
   "outputs": [],
   "source": [
    "import pandas as pd"
   ]
  },
  {
   "cell_type": "code",
   "execution_count": 14,
   "id": "cf74bd41-3b0c-4785-8f71-93904ae5e40a",
   "metadata": {},
   "outputs": [],
   "source": [
    "cursor.execute(\"\"\"\n",
    "insert into Salespersons(SalespersonID, Fullname, Phonenumber)\n",
    "values\n",
    "    (1,'Lê Hoàng Nam', '0934567890'),\n",
    "    (2,'Trần Quốc Bảo','0945678123'),\n",
    "    (3,'Nguyễn Minh Hà', '0956789123');\n",
    "\"\"\")\n",
    "connection.commit()\n",
    "    "
   ]
  },
  {
   "cell_type": "code",
   "execution_count": 16,
   "id": "c8cc78ce-0a85-42c3-b26e-11439d1eb690",
   "metadata": {},
   "outputs": [],
   "source": [
    "cursor.execute(\"\"\"\n",
    "insert into quanlybanhangc.Customers(CustomerID, Fullname, Email,Phonenumber)\n",
    "values\n",
    "    (1, 'Tran Van A', 'a@gmail.com', '152345'),\n",
    "    (2, 'Nguyen Thi B', 'b@gmail.com', '123645'),\n",
    "    (3, 'Le Van C', 'c@gmail.com', '123345'),\n",
    "    (4, 'Pham Thi D', 'd@gmail.com', '127345'),\n",
    "    (5, 'Bui Van E', 'e@gmail.com', '123945');\n",
    "\"\"\")\n",
    "connection.commit()"
   ]
  },
  {
   "cell_type": "code",
   "execution_count": 17,
   "id": "5aecbd83-3ce9-4b86-9994-fe3c23732fd9",
   "metadata": {},
   "outputs": [],
   "source": [
    "cursor.execute(\"\"\"\n",
    "insert into quanlybanhangc.orders(OrderID, CustomerID, SalespersonID, Orderdate,Totalamount)\n",
    "values\n",
    "    (1, 1, 1, '2024-03-10', 25000000),\n",
    "    (2, 2, 2, '2024-03-11', 30000000),\n",
    "    (3, 3, 3, '2024-03-12', 20000000);\n",
    "\"\"\")\n",
    "connection.commit()"
   ]
  },
  {
   "cell_type": "code",
   "execution_count": 19,
   "id": "2b3120e2-772d-41ad-88d3-e8ed1e577dac",
   "metadata": {},
   "outputs": [
    {
     "name": "stdout",
     "output_type": "stream",
     "text": [
      "   OrderID  CustomerID  SalespersonID   Orderdate  Totalamount\n",
      "0        1           1              1  2024-03-10   25000000.0\n"
     ]
    },
    {
     "name": "stderr",
     "output_type": "stream",
     "text": [
      "C:\\Users\\LENOVO\\AppData\\Local\\Temp\\ipykernel_19688\\2054154901.py:5: UserWarning: pandas only supports SQLAlchemy connectable (engine/connection) or database string URI or sqlite3 DBAPI2 connection. Other DBAPI2 objects are not tested. Please consider using SQLAlchemy.\n",
      "  data=pd.read_sql_query(query, connection)\n"
     ]
    }
   ],
   "source": [
    "query=\"\"\"\n",
    "select * from Orders where 1=1 and SalespersonID=1;\n",
    "\"\"\"\n",
    "connection.commit()\n",
    "data=pd.read_sql_query(query, connection)\n",
    "print(data)"
   ]
  },
  {
   "cell_type": "code",
   "execution_count": 20,
   "id": "ec2841a2-e761-4e9a-aa17-dd0b6af69109",
   "metadata": {},
   "outputs": [
    {
     "name": "stdout",
     "output_type": "stream",
     "text": [
      "   CustomerID    Fullname  TotalOrders\n",
      "0           1  Tran Van A            1\n"
     ]
    },
    {
     "name": "stderr",
     "output_type": "stream",
     "text": [
      "C:\\Users\\LENOVO\\AppData\\Local\\Temp\\ipykernel_19688\\2629416390.py:10: UserWarning: pandas only supports SQLAlchemy connectable (engine/connection) or database string URI or sqlite3 DBAPI2 connection. Other DBAPI2 objects are not tested. Please consider using SQLAlchemy.\n",
      "  data=pd.read_sql_query(query, connection)\n"
     ]
    }
   ],
   "source": [
    "query=\"\"\"\n",
    "select c.CustomerID, c.Fullname, count(o.OrderID) as TotalOrders\n",
    "from Customers c \n",
    "join Orders o ON c.CustomerID = o.CustomerID\n",
    "Group by c.CustomerID\n",
    "ORDER BY TotalOrders Desc\n",
    "Limit 1;\n",
    "\"\"\"\n",
    "connection.commit()\n",
    "data=pd.read_sql_query(query, connection)\n",
    "print(data)"
   ]
  },
  {
   "cell_type": "code",
   "execution_count": 21,
   "id": "0d5ae38e-ed1c-4f76-b09d-9b8288c5be70",
   "metadata": {},
   "outputs": [
    {
     "name": "stdout",
     "output_type": "stream",
     "text": [
      "   salespersonID  Totalsales\n",
      "0              2  30000000.0\n",
      "1              1  25000000.0\n",
      "2              3  20000000.0\n"
     ]
    },
    {
     "name": "stderr",
     "output_type": "stream",
     "text": [
      "C:\\Users\\LENOVO\\AppData\\Local\\Temp\\ipykernel_19688\\3732995673.py:8: UserWarning: pandas only supports SQLAlchemy connectable (engine/connection) or database string URI or sqlite3 DBAPI2 connection. Other DBAPI2 objects are not tested. Please consider using SQLAlchemy.\n",
      "  data=pd.read_sql_query(query, connection)\n"
     ]
    }
   ],
   "source": [
    "query=\"\"\"\n",
    "select salespersonID, sum(totalamount) as Totalsales\n",
    "from Orders\n",
    "Group by salespersonID\n",
    "order by Totalsales Desc;\n",
    "\"\"\"\n",
    "connection.commit()\n",
    "data=pd.read_sql_query(query, connection)\n",
    "print(data)"
   ]
  },
  {
   "cell_type": "code",
   "execution_count": 22,
   "id": "6e3b3ab9-2974-4add-8599-354a5f9f7331",
   "metadata": {},
   "outputs": [
    {
     "name": "stdout",
     "output_type": "stream",
     "text": [
      "   SalespersonID       Fullname  Totalrevenues\n",
      "0              2  Trần Quốc Bảo     30000000.0\n"
     ]
    },
    {
     "name": "stderr",
     "output_type": "stream",
     "text": [
      "C:\\Users\\LENOVO\\AppData\\Local\\Temp\\ipykernel_19688\\1389482773.py:10: UserWarning: pandas only supports SQLAlchemy connectable (engine/connection) or database string URI or sqlite3 DBAPI2 connection. Other DBAPI2 objects are not tested. Please consider using SQLAlchemy.\n",
      "  data=pd.read_sql_query(query, connection)\n"
     ]
    }
   ],
   "source": [
    "query=\"\"\"\n",
    "select s.SalespersonID, s.Fullname, sum(o.totalamount) as Totalrevenues\n",
    "from Salespersons s \n",
    "join Orders o ON s.SalespersonID = o.SalespersonID \n",
    "Group by s.SalespersonID\n",
    "ORDER BY Totalrevenues Desc\n",
    "Limit 1;\n",
    "\"\"\"\n",
    "connection.commit()\n",
    "data=pd.read_sql_query(query, connection)\n",
    "print(data)"
   ]
  },
  {
   "cell_type": "code",
   "execution_count": 25,
   "id": "a650bb4b-21e7-405b-96dc-2d388b96403a",
   "metadata": {},
   "outputs": [
    {
     "name": "stdout",
     "output_type": "stream",
     "text": [
      "   OrderID  CustomerID  SalespersonID   Orderdate  Totalamount\n",
      "0        1           1              1  2024-03-10   25000000.0\n",
      "1        2           2              2  2024-03-11    4500000.0\n",
      "2        3           3              3  2024-03-12   20000000.0\n"
     ]
    },
    {
     "name": "stderr",
     "output_type": "stream",
     "text": [
      "C:\\Users\\LENOVO\\AppData\\Local\\Temp\\ipykernel_19688\\3210950930.py:10: UserWarning: pandas only supports SQLAlchemy connectable (engine/connection) or database string URI or sqlite3 DBAPI2 connection. Other DBAPI2 objects are not tested. Please consider using SQLAlchemy.\n",
      "  data=pd.read_sql_query(\"SELECT * FROM Orders\", connection)\n"
     ]
    }
   ],
   "source": [
    "query_update=\"\"\"\n",
    "UPDATE Orders \n",
    "SET Totalamount = 4500000\n",
    "where 1=1\n",
    "and OrderID = 2;\n",
    "\"\"\"\n",
    "cursor.execute(query_update)\n",
    "connection.commit()\n",
    "\n",
    "data=pd.read_sql_query(\"SELECT * FROM Orders\", connection)\n",
    "print(data)"
   ]
  },
  {
   "cell_type": "code",
   "execution_count": 26,
   "id": "d8f4015b-9587-47bf-a3a9-64c4f1e4b683",
   "metadata": {},
   "outputs": [
    {
     "name": "stdout",
     "output_type": "stream",
     "text": [
      "   CustomerID  Fullname Phonenumber        Email\n",
      "0           3  Le Van C  0963552417  c@gmail.com\n"
     ]
    },
    {
     "name": "stderr",
     "output_type": "stream",
     "text": [
      "C:\\Users\\LENOVO\\AppData\\Local\\Temp\\ipykernel_19688\\4110463808.py:10: UserWarning: pandas only supports SQLAlchemy connectable (engine/connection) or database string URI or sqlite3 DBAPI2 connection. Other DBAPI2 objects are not tested. Please consider using SQLAlchemy.\n",
      "  data=pd.read_sql_query(\"SELECT * FROM Customers WHERE CustomerID = 3\", connection)\n"
     ]
    }
   ],
   "source": [
    "query_update=\"\"\"\n",
    "UPDATE Customers \n",
    "SET Phonenumber = '0963552417'\n",
    "where 1=1\n",
    "and CustomerID = 3;\n",
    "\"\"\"\n",
    "cursor.execute(query_update)\n",
    "connection.commit()\n",
    "\n",
    "data=pd.read_sql_query(\"SELECT * FROM Customers WHERE CustomerID = 3\", connection)\n",
    "print(data)"
   ]
  },
  {
   "cell_type": "code",
   "execution_count": 27,
   "id": "216917ce-5af6-4120-91a3-92dda5bfad0e",
   "metadata": {},
   "outputs": [
    {
     "name": "stdout",
     "output_type": "stream",
     "text": [
      "   OrderID  CustomerID  SalespersonID   Orderdate  Totalamount\n",
      "0        1           1              1  2024-03-10   25000000.0\n",
      "1        3           3              3  2024-03-12   20000000.0\n"
     ]
    },
    {
     "name": "stderr",
     "output_type": "stream",
     "text": [
      "C:\\Users\\LENOVO\\AppData\\Local\\Temp\\ipykernel_19688\\2502101155.py:7: UserWarning: pandas only supports SQLAlchemy connectable (engine/connection) or database string URI or sqlite3 DBAPI2 connection. Other DBAPI2 objects are not tested. Please consider using SQLAlchemy.\n",
      "  data=pd.read_sql_query(\"SELECT * FROM Orders \", connection)\n"
     ]
    }
   ],
   "source": [
    "query_update=\"\"\"\n",
    "Delete from Orders where CustomerID = 2;\n",
    "\"\"\"\n",
    "cursor.execute(query_update)\n",
    "connection.commit()\n",
    "\n",
    "data=pd.read_sql_query(\"SELECT * FROM Orders \", connection)\n",
    "print(data)"
   ]
  },
  {
   "cell_type": "code",
   "execution_count": null,
   "id": "59f0b108-4221-4bc1-8ee6-da86206caafc",
   "metadata": {},
   "outputs": [],
   "source": []
  },
  {
   "cell_type": "code",
   "execution_count": null,
   "id": "26143c09-4c70-46b2-96dd-8c832147d1a9",
   "metadata": {},
   "outputs": [],
   "source": []
  },
  {
   "cell_type": "code",
   "execution_count": null,
   "id": "9daf6cc3-d78c-475f-9e46-502e222f630e",
   "metadata": {},
   "outputs": [],
   "source": []
  },
  {
   "cell_type": "code",
   "execution_count": null,
   "id": "667ab4f8-5de2-444c-bf0c-5e8ec2b79c22",
   "metadata": {},
   "outputs": [],
   "source": []
  },
  {
   "cell_type": "code",
   "execution_count": null,
   "id": "7a0cc647-061f-4bfb-85eb-ec651b80468f",
   "metadata": {},
   "outputs": [],
   "source": [
    "import mysql.connector\n",
    "db = mysql.connector.connect(user = \"root\", password = \"mysql\",\n",
    "                             host=\"localhost\")\n",
    "\n",
    "print(db)\n",
    "query = 'CREATE SCHEMA database_d35_usingmySQLlib '\n",
    "cursor = db.cursor()\n",
    "cursor.execute(query)   #Tạo Schema/Database "
   ]
  },
  {
   "cell_type": "code",
   "execution_count": 6,
   "id": "e049a572-c5b7-435b-8457-47ffcd45dbf9",
   "metadata": {},
   "outputs": [],
   "source": [
    "query = 'CREATE SCHEMA database_d35_usingmySQLlib '\n",
    "cursor = connection.cursor()\n",
    "cursor.execute(query)"
   ]
  },
  {
   "cell_type": "code",
   "execution_count": null,
   "id": "63e98b59-e181-49be-b7ff-1caafc7484ce",
   "metadata": {},
   "outputs": [],
   "source": []
  }
 ],
 "metadata": {
  "kernelspec": {
   "display_name": "Python 3 (ipykernel)",
   "language": "python",
   "name": "python3"
  },
  "language_info": {
   "codemirror_mode": {
    "name": "ipython",
    "version": 3
   },
   "file_extension": ".py",
   "mimetype": "text/x-python",
   "name": "python",
   "nbconvert_exporter": "python",
   "pygments_lexer": "ipython3",
   "version": "3.13.2"
  }
 },
 "nbformat": 4,
 "nbformat_minor": 5
}
