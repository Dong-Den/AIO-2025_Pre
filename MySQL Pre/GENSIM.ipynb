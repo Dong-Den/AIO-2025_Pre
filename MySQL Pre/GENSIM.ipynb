{
 "cells": [
  {
   "cell_type": "code",
   "execution_count": 1,
   "id": "3dc5bf0d-8486-4e36-b007-3836b56570b6",
   "metadata": {},
   "outputs": [
    {
     "name": "stdout",
     "output_type": "stream",
     "text": [
      "2.2.4\n"
     ]
    }
   ],
   "source": [
    "import numpy\n",
    "print(numpy.__version__)"
   ]
  },
  {
   "cell_type": "code",
   "execution_count": 2,
   "id": "1cc86bb7-7db5-4f81-a04b-a619b395f69d",
   "metadata": {},
   "outputs": [
    {
     "name": "stdout",
     "output_type": "stream",
     "text": [
      "Collecting numpy<2.0\n",
      "  Downloading numpy-1.26.4.tar.gz (15.8 MB)\n",
      "     ---------------------------------------- 0.0/15.8 MB ? eta -:--:--\n",
      "     -- ------------------------------------- 1.0/15.8 MB 9.9 MB/s eta 0:00:02\n",
      "     ------------------- -------------------- 7.6/15.8 MB 25.0 MB/s eta 0:00:01\n",
      "     ---------------------------------- ---- 14.2/15.8 MB 27.7 MB/s eta 0:00:01\n",
      "     --------------------------------------- 15.8/15.8 MB 27.7 MB/s eta 0:00:00\n",
      "  Installing build dependencies: started\n",
      "  Installing build dependencies: finished with status 'done'\n",
      "  Getting requirements to build wheel: started\n",
      "  Getting requirements to build wheel: finished with status 'done'\n",
      "  Installing backend dependencies: started\n",
      "  Installing backend dependencies: finished with status 'done'\n",
      "  Preparing metadata (pyproject.toml): started\n",
      "  Preparing metadata (pyproject.toml): finished with status 'error'\n",
      "Note: you may need to restart the kernel to use updated packages.\n"
     ]
    },
    {
     "name": "stderr",
     "output_type": "stream",
     "text": [
      "  error: subprocess-exited-with-error\n",
      "  \n",
      "  Preparing metadata (pyproject.toml) did not run successfully.\n",
      "  exit code: 1\n",
      "  \n",
      "  [21 lines of output]\n",
      "  + C:\\Users\\LENOVO\\AppData\\Local\\Programs\\Python\\Python313\\python.exe C:\\Users\\LENOVO\\AppData\\Local\\Temp\\pip-install-_lz51mj0\\numpy_7df44a249716461cb43460fc637bea9f\\vendored-meson\\meson\\meson.py setup C:\\Users\\LENOVO\\AppData\\Local\\Temp\\pip-install-_lz51mj0\\numpy_7df44a249716461cb43460fc637bea9f C:\\Users\\LENOVO\\AppData\\Local\\Temp\\pip-install-_lz51mj0\\numpy_7df44a249716461cb43460fc637bea9f\\.mesonpy-qfirc7pe -Dbuildtype=release -Db_ndebug=if-release -Db_vscrt=md --native-file=C:\\Users\\LENOVO\\AppData\\Local\\Temp\\pip-install-_lz51mj0\\numpy_7df44a249716461cb43460fc637bea9f\\.mesonpy-qfirc7pe\\meson-python-native-file.ini\n",
      "  The Meson build system\n",
      "  Version: 1.2.99\n",
      "  Source dir: C:\\Users\\LENOVO\\AppData\\Local\\Temp\\pip-install-_lz51mj0\\numpy_7df44a249716461cb43460fc637bea9f\n",
      "  Build dir: C:\\Users\\LENOVO\\AppData\\Local\\Temp\\pip-install-_lz51mj0\\numpy_7df44a249716461cb43460fc637bea9f\\.mesonpy-qfirc7pe\n",
      "  Build type: native build\n",
      "  Project name: NumPy\n",
      "  Project version: 1.26.4\n",
      "  WARNING: Failed to activate VS environment: Could not find C:\\Program Files (x86)\\Microsoft Visual Studio\\Installer\\vswhere.exe\n",
      "  \n",
      "  ..\\meson.build:1:0: ERROR: Unknown compiler(s): [['icl'], ['cl'], ['cc'], ['gcc'], ['clang'], ['clang-cl'], ['pgcc']]\n",
      "  The following exception(s) were encountered:\n",
      "  Running `icl \"\"` gave \"[WinError 2] The system cannot find the file specified\"\n",
      "  Running `cl /?` gave \"[WinError 2] The system cannot find the file specified\"\n",
      "  Running `cc --version` gave \"[WinError 2] The system cannot find the file specified\"\n",
      "  Running `gcc --version` gave \"[WinError 2] The system cannot find the file specified\"\n",
      "  Running `clang --version` gave \"[WinError 2] The system cannot find the file specified\"\n",
      "  Running `clang-cl /?` gave \"[WinError 2] The system cannot find the file specified\"\n",
      "  Running `pgcc --version` gave \"[WinError 2] The system cannot find the file specified\"\n",
      "  \n",
      "  A full log can be found at C:\\Users\\LENOVO\\AppData\\Local\\Temp\\pip-install-_lz51mj0\\numpy_7df44a249716461cb43460fc637bea9f\\.mesonpy-qfirc7pe\\meson-logs\\meson-log.txt\n",
      "  [end of output]\n",
      "  \n",
      "  note: This error originates from a subprocess, and is likely not a problem with pip.\n",
      "error: metadata-generation-failed\n",
      "\n",
      "Encountered error while generating package metadata.\n",
      "\n",
      "See above for output.\n",
      "\n",
      "note: This is an issue with the package mentioned above, not pip.\n",
      "hint: See above for details.\n"
     ]
    }
   ],
   "source": [
    "pip install \"numpy<2.0\""
   ]
  },
  {
   "cell_type": "code",
   "execution_count": null,
   "id": "6bd9d321-1c0b-4a98-bd1a-f0569a19917e",
   "metadata": {},
   "outputs": [],
   "source": []
  }
 ],
 "metadata": {
  "kernelspec": {
   "display_name": "Python 3 (ipykernel)",
   "language": "python",
   "name": "python3"
  },
  "language_info": {
   "codemirror_mode": {
    "name": "ipython",
    "version": 3
   },
   "file_extension": ".py",
   "mimetype": "text/x-python",
   "name": "python",
   "nbconvert_exporter": "python",
   "pygments_lexer": "ipython3",
   "version": "3.13.2"
  }
 },
 "nbformat": 4,
 "nbformat_minor": 5
}
