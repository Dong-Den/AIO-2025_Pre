{
 "cells": [
  {
   "cell_type": "code",
   "execution_count": null,
   "id": "b8e11884-45da-42cc-bf78-6bf19480fa50",
   "metadata": {},
   "outputs": [],
   "source": [
    "!pip install mysql-connector-python"
   ]
  },
  {
   "cell_type": "code",
   "execution_count": 1,
   "id": "75dcef57-045e-49ed-b50b-2fa56578a7e8",
   "metadata": {},
   "outputs": [],
   "source": [
    "import mysql.connector\n",
    "connection = mysql.connector.connect(\n",
    "    host=\"127.0.0.1\",     \n",
    "    user=\"root\",         \n",
    "    password=\"2011DongBaLiem@\" )\n",
    "cursor=connection.cursor()\n",
    "cursor.execute(\"\"\"CREATE SCHEMA if not exists quanlybanhangday36; \"\"\")"
   ]
  },
  {
   "cell_type": "code",
   "execution_count": 6,
   "id": "38d7160d-44bb-4490-88cf-40e22dfc0436",
   "metadata": {},
   "outputs": [],
   "source": [
    "cursor.execute(\"USE quanlybanhangday36;\")"
   ]
  },
  {
   "cell_type": "code",
   "execution_count": 5,
   "id": "b1f7aa3c-e9fa-4a5d-b782-25eb7787e6fc",
   "metadata": {},
   "outputs": [],
   "source": [
    "connection = mysql.connector.connect(\n",
    "    host=\"127.0.0.1\",     \n",
    "    user=\"root\",         \n",
    "    password=\"2011DongBaLiem@\" ,\n",
    "    database= \"quanlybanhangday36\")\n",
    "\n",
    "cursor = connection.cursor()\n",
    "cursor.execute(\"\"\"\n",
    "create table if not exists Products(\n",
    "    ProductID int primary key ,\n",
    "    Productname varchar(100) not null,\n",
    "    Category varchar(50) not null,\n",
    "    Price decimal(10,2) not null,\n",
    "    StockQuantity int not null) ENGINE=InnoDB;\n",
    "\"\"\")\n",
    "cursor.execute(\"\"\"\n",
    "create table if not exists Customers(\n",
    "    CustomerID int primary key ,\n",
    "    Fullname varchar(100) not null,\n",
    "    Phonenumber varchar(15) unique not null,\n",
    "    Email varchar(100) unique not null) ENGINE=InnoDB;\n",
    "\"\"\")\n",
    "cursor.execute(\"\"\"\n",
    "create table if not exists Salespersons(\n",
    "    SalespersonID int primary key ,\n",
    "    Fullname varchar(100) not null,\n",
    "    Phonenumber varchar(15) unique not null)ENGINE=InnoDB;\n",
    "\"\"\")\n",
    "cursor.execute(\"\"\" \n",
    "create table if not exists Orders( \n",
    "    OrderID int primary key ,\n",
    "    CustomerID int not null,\n",
    "    SalespersonID int not null,\n",
    "    Orderdate date not null,\n",
    "    Totalamount decimal(10,2),\n",
    "    foreign key(CustomerID) references Customers(CustomerID) ON DELETE CASCADE,\n",
    "    foreign key(SalespersonID) references Salespersons(SalespersonID) ON DELETE CASCADE )ENGINE=InnoDB;\n",
    "\"\"\")\n",
    "cursor.execute(\"\"\" \n",
    "create table if not exists Orderdetails(\n",
    "    OrderdetailID int primary key ,\n",
    "    OrderID int not null,\n",
    "    ProductID int not null,\n",
    "    Quantity int not null,\n",
    "    Subtotal decimal(10,2),\n",
    "    foreign key(OrderID) references Orders(OrderID) ON DELETE CASCADE,\n",
    "    foreign key(ProductID) references Products(ProductID) ON DELETE CASCADE )ENGINE=InnoDB;\n",
    "\"\"\")\n",
    "cursor.execute(\"\"\"\n",
    "    UPDATE Orderdetails od\n",
    "    JOIN Products p ON od.ProductID = p.ProductID\n",
    "    SET od.Subtotal = od.Quantity * p.Price;\n",
    "\"\"\")\n",
    "connection.commit()"
   ]
  },
  {
   "cell_type": "code",
   "execution_count": 7,
   "id": "75466d0a-a3d7-416b-bf11-ccd6f2cea08d",
   "metadata": {},
   "outputs": [],
   "source": [
    "cursor.execute(\"\"\"\n",
    "INSERT INTO Products VALUES\n",
    "    (1, 'Laptop Dell XPS', 'Laptop', 25000000, 10),\n",
    "    (2, 'iPhone 14', 'Điện thoại', 22000000, 15),\n",
    "    (3, 'Tai nghe Sony', 'Phụ kiện', 3000000, 20),\n",
    "    (4, 'Bàn phím Cơ', 'Phụ kiện', 1500000, 50),\n",
    "    (5, 'MacBook Air M2', 'Laptop', 28000000, 8);\n",
    "\"\"\")\n",
    "connection.commit()"
   ]
  },
  {
   "cell_type": "code",
   "execution_count": 9,
   "id": "bb6fe50c-8ce6-47f8-b8f8-49fc5774edb0",
   "metadata": {},
   "outputs": [],
   "source": [
    "cursor.execute(\"\"\"\n",
    "INSERT INTO Customers (CustomerID, Fullname, Phonenumber,Email) VALUES\n",
    "    (1, 'Nguyễn Văn A', '0987654321', 'a@example.com'),\n",
    "    (2, 'Trần Thị B', '0976543210', 'b@example.com'),\n",
    "    (3, 'Lê Văn C', '0965432109', 'c@example.com'),\n",
    "    (4, 'Phạm Thị D', '0945678123', 'd@example.com'),\n",
    "    (5, 'Bùi Văn E', '0936789123', 'e@example.com');\n",
    "\"\"\")\n",
    "connection.commit()"
   ]
  },
  {
   "cell_type": "code",
   "execution_count": 11,
   "id": "2ba47b0d-006d-434f-adc2-50f67986f408",
   "metadata": {},
   "outputs": [],
   "source": [
    "cursor.execute(\"\"\"\n",
    "INSERT INTO Salespersons (SalespersonID, Fullname, Phonenumber) VALUES\n",
    "    (1, 'Lê Hoàng Nam', '0934567890'),\n",
    "    (2, 'Trần Quốc Bảo', '0945678123'),\n",
    "    (3, 'Nguyễn Minh Hà', '0956789123');\n",
    "\"\"\")\n",
    "connection.commit()"
   ]
  },
  {
   "cell_type": "code",
   "execution_count": 12,
   "id": "70278830-012a-4912-a7a5-3fc31ad106bb",
   "metadata": {},
   "outputs": [],
   "source": [
    "cursor.execute(\"\"\"\n",
    "INSERT INTO Orders (OrderID, CustomerID, SalespersonID, Orderdate,Totalamount) VALUES\n",
    "    (1, 1, 1, '2024-03-10', 25000000),\n",
    "    (2, 2, 2, '2024-03-11', 3000000),\n",
    "    (3, 3, 3, '2024-03-12', 22000000);\n",
    "\"\"\")\n",
    "connection.commit()"
   ]
  },
  {
   "cell_type": "code",
   "execution_count": 13,
   "id": "e30e3587-0e54-4ffb-8d38-b4cec96a7870",
   "metadata": {},
   "outputs": [],
   "source": [
    "cursor.execute(\"\"\"\n",
    "INSERT INTO OrderDetails (OrderDetailID, OrderID, ProductID, Quantity) VALUES\n",
    "    (1, 1, 1, 1),\n",
    "    (2, 2, 3, 1),\n",
    "    (3, 3, 2, 1);\n",
    "\"\"\")\n",
    "connection.commit()"
   ]
  },
  {
   "cell_type": "code",
   "execution_count": 23,
   "id": "d55f05e0-5905-418e-8a68-ace37d6d0814",
   "metadata": {},
   "outputs": [],
   "source": [
    "cursor.execute(\"\"\"\n",
    "    UPDATE Orderdetails od\n",
    "    JOIN Products p ON od.ProductID = p.ProductID\n",
    "    SET od.Subtotal = od.Quantity * p.Price;\n",
    "\"\"\")\n",
    "connection.commit()"
   ]
  },
  {
   "cell_type": "code",
   "execution_count": 24,
   "id": "bd7b6234-11e7-4f1a-a583-d1f6fe046198",
   "metadata": {},
   "outputs": [
    {
     "name": "stderr",
     "output_type": "stream",
     "text": [
      "C:\\Users\\LENOVO\\AppData\\Local\\Temp\\ipykernel_11160\\3634266846.py:1: UserWarning: pandas only supports SQLAlchemy connectable (engine/connection) or database string URI or sqlite3 DBAPI2 connection. Other DBAPI2 objects are not tested. Please consider using SQLAlchemy.\n",
      "  data=pd.read_sql_query(\"select * from OrderDetails\"\"\", connection)\n"
     ]
    },
    {
     "data": {
      "text/html": [
       "<div>\n",
       "<style scoped>\n",
       "    .dataframe tbody tr th:only-of-type {\n",
       "        vertical-align: middle;\n",
       "    }\n",
       "\n",
       "    .dataframe tbody tr th {\n",
       "        vertical-align: top;\n",
       "    }\n",
       "\n",
       "    .dataframe thead th {\n",
       "        text-align: right;\n",
       "    }\n",
       "</style>\n",
       "<table border=\"1\" class=\"dataframe\">\n",
       "  <thead>\n",
       "    <tr style=\"text-align: right;\">\n",
       "      <th></th>\n",
       "      <th>OrderdetailID</th>\n",
       "      <th>OrderID</th>\n",
       "      <th>ProductID</th>\n",
       "      <th>Quantity</th>\n",
       "      <th>Subtotal</th>\n",
       "    </tr>\n",
       "  </thead>\n",
       "  <tbody>\n",
       "    <tr>\n",
       "      <th>0</th>\n",
       "      <td>1</td>\n",
       "      <td>1</td>\n",
       "      <td>1</td>\n",
       "      <td>1</td>\n",
       "      <td>25000000.0</td>\n",
       "    </tr>\n",
       "    <tr>\n",
       "      <th>1</th>\n",
       "      <td>2</td>\n",
       "      <td>2</td>\n",
       "      <td>3</td>\n",
       "      <td>1</td>\n",
       "      <td>3000000.0</td>\n",
       "    </tr>\n",
       "    <tr>\n",
       "      <th>2</th>\n",
       "      <td>3</td>\n",
       "      <td>3</td>\n",
       "      <td>2</td>\n",
       "      <td>1</td>\n",
       "      <td>22000000.0</td>\n",
       "    </tr>\n",
       "  </tbody>\n",
       "</table>\n",
       "</div>"
      ],
      "text/plain": [
       "   OrderdetailID  OrderID  ProductID  Quantity    Subtotal\n",
       "0              1        1          1         1  25000000.0\n",
       "1              2        2          3         1   3000000.0\n",
       "2              3        3          2         1  22000000.0"
      ]
     },
     "execution_count": 24,
     "metadata": {},
     "output_type": "execute_result"
    }
   ],
   "source": [
    "data=pd.read_sql_query(\"select * from OrderDetails\"\"\", connection)\n",
    "data"
   ]
  },
  {
   "cell_type": "code",
   "execution_count": 14,
   "id": "7cfc30f0-3c2b-4eb5-b95f-c839380a128d",
   "metadata": {},
   "outputs": [],
   "source": [
    "import pandas as pd"
   ]
  },
  {
   "cell_type": "code",
   "execution_count": 15,
   "id": "a42c9f45-b868-403c-aafc-4047310fb83a",
   "metadata": {},
   "outputs": [
    {
     "name": "stderr",
     "output_type": "stream",
     "text": [
      "C:\\Users\\LENOVO\\AppData\\Local\\Temp\\ipykernel_11160\\2287550278.py:4: UserWarning: pandas only supports SQLAlchemy connectable (engine/connection) or database string URI or sqlite3 DBAPI2 connection. Other DBAPI2 objects are not tested. Please consider using SQLAlchemy.\n",
      "  data=pd.read_sql_query(query, connection)\n"
     ]
    },
    {
     "data": {
      "text/html": [
       "<div>\n",
       "<style scoped>\n",
       "    .dataframe tbody tr th:only-of-type {\n",
       "        vertical-align: middle;\n",
       "    }\n",
       "\n",
       "    .dataframe tbody tr th {\n",
       "        vertical-align: top;\n",
       "    }\n",
       "\n",
       "    .dataframe thead th {\n",
       "        text-align: right;\n",
       "    }\n",
       "</style>\n",
       "<table border=\"1\" class=\"dataframe\">\n",
       "  <thead>\n",
       "    <tr style=\"text-align: right;\">\n",
       "      <th></th>\n",
       "      <th>ProductID</th>\n",
       "      <th>Productname</th>\n",
       "      <th>Category</th>\n",
       "      <th>Price</th>\n",
       "      <th>StockQuantity</th>\n",
       "    </tr>\n",
       "  </thead>\n",
       "  <tbody>\n",
       "    <tr>\n",
       "      <th>0</th>\n",
       "      <td>1</td>\n",
       "      <td>Laptop Dell XPS</td>\n",
       "      <td>Laptop</td>\n",
       "      <td>25000000.0</td>\n",
       "      <td>10</td>\n",
       "    </tr>\n",
       "    <tr>\n",
       "      <th>1</th>\n",
       "      <td>2</td>\n",
       "      <td>iPhone 14</td>\n",
       "      <td>Điện thoại</td>\n",
       "      <td>22000000.0</td>\n",
       "      <td>15</td>\n",
       "    </tr>\n",
       "    <tr>\n",
       "      <th>2</th>\n",
       "      <td>3</td>\n",
       "      <td>Tai nghe Sony</td>\n",
       "      <td>Phụ kiện</td>\n",
       "      <td>3000000.0</td>\n",
       "      <td>20</td>\n",
       "    </tr>\n",
       "    <tr>\n",
       "      <th>3</th>\n",
       "      <td>4</td>\n",
       "      <td>Bàn phím Cơ</td>\n",
       "      <td>Phụ kiện</td>\n",
       "      <td>1500000.0</td>\n",
       "      <td>50</td>\n",
       "    </tr>\n",
       "    <tr>\n",
       "      <th>4</th>\n",
       "      <td>5</td>\n",
       "      <td>MacBook Air M2</td>\n",
       "      <td>Laptop</td>\n",
       "      <td>28000000.0</td>\n",
       "      <td>8</td>\n",
       "    </tr>\n",
       "  </tbody>\n",
       "</table>\n",
       "</div>"
      ],
      "text/plain": [
       "   ProductID      Productname    Category       Price  StockQuantity\n",
       "0          1  Laptop Dell XPS      Laptop  25000000.0             10\n",
       "1          2        iPhone 14  Điện thoại  22000000.0             15\n",
       "2          3    Tai nghe Sony    Phụ kiện   3000000.0             20\n",
       "3          4      Bàn phím Cơ    Phụ kiện   1500000.0             50\n",
       "4          5   MacBook Air M2      Laptop  28000000.0              8"
      ]
     },
     "execution_count": 15,
     "metadata": {},
     "output_type": "execute_result"
    }
   ],
   "source": [
    "query=\"\"\"\n",
    "select * from Products where StockQuantity >0; \"\"\"\n",
    "connection.commit()\n",
    "data=pd.read_sql_query(query, connection)\n",
    "data"
   ]
  },
  {
   "cell_type": "code",
   "execution_count": 16,
   "id": "8738341b-51e6-47f1-a546-683b9a327605",
   "metadata": {},
   "outputs": [
    {
     "name": "stderr",
     "output_type": "stream",
     "text": [
      "C:\\Users\\LENOVO\\AppData\\Local\\Temp\\ipykernel_11160\\878240115.py:4: UserWarning: pandas only supports SQLAlchemy connectable (engine/connection) or database string URI or sqlite3 DBAPI2 connection. Other DBAPI2 objects are not tested. Please consider using SQLAlchemy.\n",
      "  data = pd.read_sql_query(query,connection)\n"
     ]
    },
    {
     "data": {
      "text/html": [
       "<div>\n",
       "<style scoped>\n",
       "    .dataframe tbody tr th:only-of-type {\n",
       "        vertical-align: middle;\n",
       "    }\n",
       "\n",
       "    .dataframe tbody tr th {\n",
       "        vertical-align: top;\n",
       "    }\n",
       "\n",
       "    .dataframe thead th {\n",
       "        text-align: right;\n",
       "    }\n",
       "</style>\n",
       "<table border=\"1\" class=\"dataframe\">\n",
       "  <thead>\n",
       "    <tr style=\"text-align: right;\">\n",
       "      <th></th>\n",
       "      <th>OrderID</th>\n",
       "      <th>CustomerID</th>\n",
       "      <th>SalespersonID</th>\n",
       "      <th>Orderdate</th>\n",
       "      <th>Totalamount</th>\n",
       "    </tr>\n",
       "  </thead>\n",
       "  <tbody>\n",
       "    <tr>\n",
       "      <th>0</th>\n",
       "      <td>1</td>\n",
       "      <td>1</td>\n",
       "      <td>1</td>\n",
       "      <td>2024-03-10</td>\n",
       "      <td>25000000.0</td>\n",
       "    </tr>\n",
       "  </tbody>\n",
       "</table>\n",
       "</div>"
      ],
      "text/plain": [
       "   OrderID  CustomerID  SalespersonID   Orderdate  Totalamount\n",
       "0        1           1              1  2024-03-10   25000000.0"
      ]
     },
     "execution_count": 16,
     "metadata": {},
     "output_type": "execute_result"
    }
   ],
   "source": [
    "query=\"\"\"\n",
    "select * FROM Orders WHERE CustomerID = 1;\n",
    "\"\"\"\n",
    "connection.commit()\n",
    "data = pd.read_sql_query(query,connection)\n",
    "data"
   ]
  },
  {
   "cell_type": "code",
   "execution_count": 17,
   "id": "86a5ad18-bbef-4f92-b8b1-5926b3e8b367",
   "metadata": {},
   "outputs": [
    {
     "name": "stderr",
     "output_type": "stream",
     "text": [
      "C:\\Users\\LENOVO\\AppData\\Local\\Temp\\ipykernel_11160\\3009702821.py:6: UserWarning: pandas only supports SQLAlchemy connectable (engine/connection) or database string URI or sqlite3 DBAPI2 connection. Other DBAPI2 objects are not tested. Please consider using SQLAlchemy.\n",
      "  data = pd.read_sql_query(query,connection)\n"
     ]
    },
    {
     "data": {
      "text/html": [
       "<div>\n",
       "<style scoped>\n",
       "    .dataframe tbody tr th:only-of-type {\n",
       "        vertical-align: middle;\n",
       "    }\n",
       "\n",
       "    .dataframe tbody tr th {\n",
       "        vertical-align: top;\n",
       "    }\n",
       "\n",
       "    .dataframe thead th {\n",
       "        text-align: right;\n",
       "    }\n",
       "</style>\n",
       "<table border=\"1\" class=\"dataframe\">\n",
       "  <thead>\n",
       "    <tr style=\"text-align: right;\">\n",
       "      <th></th>\n",
       "      <th>SalespersonID</th>\n",
       "      <th>TotalSales</th>\n",
       "    </tr>\n",
       "  </thead>\n",
       "  <tbody>\n",
       "    <tr>\n",
       "      <th>0</th>\n",
       "      <td>1</td>\n",
       "      <td>25000000.0</td>\n",
       "    </tr>\n",
       "    <tr>\n",
       "      <th>1</th>\n",
       "      <td>2</td>\n",
       "      <td>3000000.0</td>\n",
       "    </tr>\n",
       "    <tr>\n",
       "      <th>2</th>\n",
       "      <td>3</td>\n",
       "      <td>22000000.0</td>\n",
       "    </tr>\n",
       "  </tbody>\n",
       "</table>\n",
       "</div>"
      ],
      "text/plain": [
       "   SalespersonID  TotalSales\n",
       "0              1  25000000.0\n",
       "1              2   3000000.0\n",
       "2              3  22000000.0"
      ]
     },
     "execution_count": 17,
     "metadata": {},
     "output_type": "execute_result"
    }
   ],
   "source": [
    "query=\"\"\"\n",
    "SELECT SalespersonID, SUM(TotalAmount) AS TotalSales\n",
    "FROM Orders\n",
    "GROUP BY SalespersonID; \"\"\"\n",
    "connection.commit()\n",
    "data = pd.read_sql_query(query,connection)\n",
    "data"
   ]
  },
  {
   "cell_type": "code",
   "execution_count": 18,
   "id": "6c339e44-256f-44e3-a24c-296a1eaf270e",
   "metadata": {},
   "outputs": [
    {
     "name": "stderr",
     "output_type": "stream",
     "text": [
      "C:\\Users\\LENOVO\\AppData\\Local\\Temp\\ipykernel_11160\\207458887.py:7: UserWarning: pandas only supports SQLAlchemy connectable (engine/connection) or database string URI or sqlite3 DBAPI2 connection. Other DBAPI2 objects are not tested. Please consider using SQLAlchemy.\n",
      "  data = pd.read_sql_query(query,connection)\n"
     ]
    },
    {
     "data": {
      "text/html": [
       "<div>\n",
       "<style scoped>\n",
       "    .dataframe tbody tr th:only-of-type {\n",
       "        vertical-align: middle;\n",
       "    }\n",
       "\n",
       "    .dataframe tbody tr th {\n",
       "        vertical-align: top;\n",
       "    }\n",
       "\n",
       "    .dataframe thead th {\n",
       "        text-align: right;\n",
       "    }\n",
       "</style>\n",
       "<table border=\"1\" class=\"dataframe\">\n",
       "  <thead>\n",
       "    <tr style=\"text-align: right;\">\n",
       "      <th></th>\n",
       "      <th>FullName</th>\n",
       "      <th>Total_Sales</th>\n",
       "    </tr>\n",
       "  </thead>\n",
       "  <tbody>\n",
       "    <tr>\n",
       "      <th>0</th>\n",
       "      <td>Lê Hoàng Nam</td>\n",
       "      <td>25000000.0</td>\n",
       "    </tr>\n",
       "    <tr>\n",
       "      <th>1</th>\n",
       "      <td>Trần Quốc Bảo</td>\n",
       "      <td>3000000.0</td>\n",
       "    </tr>\n",
       "    <tr>\n",
       "      <th>2</th>\n",
       "      <td>Nguyễn Minh Hà</td>\n",
       "      <td>22000000.0</td>\n",
       "    </tr>\n",
       "  </tbody>\n",
       "</table>\n",
       "</div>"
      ],
      "text/plain": [
       "         FullName  Total_Sales\n",
       "0    Lê Hoàng Nam   25000000.0\n",
       "1   Trần Quốc Bảo    3000000.0\n",
       "2  Nguyễn Minh Hà   22000000.0"
      ]
     },
     "execution_count": 18,
     "metadata": {},
     "output_type": "execute_result"
    }
   ],
   "source": [
    "query = \"\"\"\n",
    "SELECT FullName, Sum(TotalAmount) AS Total_Sales FROM Orders\n",
    "JOIN Salespersons ON Salespersons.SalespersonID = Orders.SalespersonID\n",
    "GROUP BY Orders.SalespersonID;\n",
    "\"\"\"\n",
    "connection.commit()\n",
    "data = pd.read_sql_query(query,connection)\n",
    "data"
   ]
  },
  {
   "cell_type": "code",
   "execution_count": 19,
   "id": "e79b3b6f-af0b-4227-a5dc-9bca23e9f06b",
   "metadata": {},
   "outputs": [
    {
     "name": "stderr",
     "output_type": "stream",
     "text": [
      "C:\\Users\\LENOVO\\AppData\\Local\\Temp\\ipykernel_11160\\1042252351.py:9: UserWarning: pandas only supports SQLAlchemy connectable (engine/connection) or database string URI or sqlite3 DBAPI2 connection. Other DBAPI2 objects are not tested. Please consider using SQLAlchemy.\n",
      "  data = pd.read_sql_query(query,connection)\n"
     ]
    },
    {
     "data": {
      "text/html": [
       "<div>\n",
       "<style scoped>\n",
       "    .dataframe tbody tr th:only-of-type {\n",
       "        vertical-align: middle;\n",
       "    }\n",
       "\n",
       "    .dataframe tbody tr th {\n",
       "        vertical-align: top;\n",
       "    }\n",
       "\n",
       "    .dataframe thead th {\n",
       "        text-align: right;\n",
       "    }\n",
       "</style>\n",
       "<table border=\"1\" class=\"dataframe\">\n",
       "  <thead>\n",
       "    <tr style=\"text-align: right;\">\n",
       "      <th></th>\n",
       "      <th>FullName</th>\n",
       "      <th>Total_Sales</th>\n",
       "    </tr>\n",
       "  </thead>\n",
       "  <tbody>\n",
       "    <tr>\n",
       "      <th>0</th>\n",
       "      <td>Lê Hoàng Nam</td>\n",
       "      <td>25000000.0</td>\n",
       "    </tr>\n",
       "  </tbody>\n",
       "</table>\n",
       "</div>"
      ],
      "text/plain": [
       "       FullName  Total_Sales\n",
       "0  Lê Hoàng Nam   25000000.0"
      ]
     },
     "execution_count": 19,
     "metadata": {},
     "output_type": "execute_result"
    }
   ],
   "source": [
    "query = \"\"\"\n",
    "SELECT FullName, Sum(TotalAmount) AS Total_Sales FROM Orders\n",
    "JOIN Salespersons ON Salespersons.SalespersonID = Orders.SalespersonID\n",
    "GROUP BY Orders.SalespersonID\n",
    "ORDER BY Total_Sales DESC\n",
    "LIMIT 1;\n",
    "\"\"\"\n",
    "connection.commit()\n",
    "data = pd.read_sql_query(query,connection)\n",
    "data"
   ]
  },
  {
   "cell_type": "code",
   "execution_count": 25,
   "id": "0ea4d65b-4c0c-4a15-8477-9556c23a524f",
   "metadata": {},
   "outputs": [
    {
     "name": "stdout",
     "output_type": "stream",
     "text": [
      "     Category  Totalsales_cat\n",
      "0      Laptop      25000000.0\n",
      "1    Phụ kiện       3000000.0\n",
      "2  Điện thoại      22000000.0\n"
     ]
    },
    {
     "name": "stderr",
     "output_type": "stream",
     "text": [
      "C:\\Users\\LENOVO\\AppData\\Local\\Temp\\ipykernel_11160\\1986612218.py:8: UserWarning: pandas only supports SQLAlchemy connectable (engine/connection) or database string URI or sqlite3 DBAPI2 connection. Other DBAPI2 objects are not tested. Please consider using SQLAlchemy.\n",
      "  data=pd.read_sql_query(query, connection)\n"
     ]
    }
   ],
   "source": [
    "query=\"\"\"\n",
    "select p.Category, Sum(od.SubTotal) as Totalsales_cat\n",
    "from Products p \n",
    "join Orderdetails od ON p.ProductID = od.ProductID \n",
    "Group by p.Category; \n",
    "\"\"\"\n",
    "connection.commit()\n",
    "data=pd.read_sql_query(query, connection)\n",
    "print(data)"
   ]
  },
  {
   "cell_type": "code",
   "execution_count": 26,
   "id": "9a840f60-894d-4426-bc6e-b27ea3d89e2d",
   "metadata": {},
   "outputs": [
    {
     "name": "stdout",
     "output_type": "stream",
     "text": [
      "       FullName  TotalSpent\n",
      "0  Nguyễn Văn A  25000000.0\n",
      "1      Lê Văn C  22000000.0\n",
      "2    Trần Thị B   3000000.0\n"
     ]
    },
    {
     "name": "stderr",
     "output_type": "stream",
     "text": [
      "C:\\Users\\LENOVO\\AppData\\Local\\Temp\\ipykernel_11160\\1787393628.py:9: UserWarning: pandas only supports SQLAlchemy connectable (engine/connection) or database string URI or sqlite3 DBAPI2 connection. Other DBAPI2 objects are not tested. Please consider using SQLAlchemy.\n",
      "  data=pd.read_sql_query(query, connection)\n"
     ]
    }
   ],
   "source": [
    "query=\"\"\"\n",
    "SELECT c.FullName, SUM(o.TotalAmount) AS TotalSpent\n",
    "FROM Customers c\n",
    "JOIN Orders o ON c.CustomerID = o.CustomerID\n",
    "GROUP BY c.FullName\n",
    "ORDER BY TotalSpent DESC\n",
    "LIMIT 3; \"\"\"\n",
    "connection.commit()\n",
    "data=pd.read_sql_query(query, connection)\n",
    "print(data)"
   ]
  },
  {
   "cell_type": "code",
   "execution_count": 27,
   "id": "67a0ac9e-2066-4444-8e18-16f7b43f9c97",
   "metadata": {},
   "outputs": [
    {
     "name": "stdout",
     "output_type": "stream",
     "text": [
      "   Month  Year     Revenue\n",
      "0      3  2024  50000000.0\n"
     ]
    },
    {
     "name": "stderr",
     "output_type": "stream",
     "text": [
      "C:\\Users\\LENOVO\\AppData\\Local\\Temp\\ipykernel_11160\\3991822496.py:9: UserWarning: pandas only supports SQLAlchemy connectable (engine/connection) or database string URI or sqlite3 DBAPI2 connection. Other DBAPI2 objects are not tested. Please consider using SQLAlchemy.\n",
      "  data=pd.read_sql_query(query, connection)\n"
     ]
    }
   ],
   "source": [
    "query=\"\"\"\n",
    "SELECT MONTH(OrderDate) AS Month, YEAR(OrderDate) AS Year, \n",
    "       SUM(TotalAmount) AS Revenue\n",
    "FROM Orders\n",
    "GROUP BY YEAR(OrderDate), MONTH(OrderDate)\n",
    "ORDER BY Revenue DESC\n",
    "LIMIT 1;\"\"\"\n",
    "connection.commit()\n",
    "data=pd.read_sql_query(query, connection)\n",
    "print(data)"
   ]
  },
  {
   "cell_type": "code",
   "execution_count": 28,
   "id": "516eafeb-c72d-4bd3-9768-109be2d7ccf9",
   "metadata": {},
   "outputs": [
    {
     "name": "stdout",
     "output_type": "stream",
     "text": [
      "       ProductName  Totalquan\n",
      "0  Laptop Dell XPS        1.0\n"
     ]
    },
    {
     "name": "stderr",
     "output_type": "stream",
     "text": [
      "C:\\Users\\LENOVO\\AppData\\Local\\Temp\\ipykernel_11160\\1054925079.py:9: UserWarning: pandas only supports SQLAlchemy connectable (engine/connection) or database string URI or sqlite3 DBAPI2 connection. Other DBAPI2 objects are not tested. Please consider using SQLAlchemy.\n",
      "  data=pd.read_sql_query(query, connection)\n"
     ]
    }
   ],
   "source": [
    "query=\"\"\"\n",
    "SELECT p.ProductName, SUM(od.Quantity) AS Totalquan\n",
    "FROM Products p\n",
    "JOIN OrderDetails od ON p.ProductID = od.ProductID\n",
    "GROUP BY p.ProductName\n",
    "ORDER BY Totalquan DESC\n",
    "LIMIT 1; \"\"\"\n",
    "connection.commit()\n",
    "data=pd.read_sql_query(query, connection)\n",
    "print(data)"
   ]
  },
  {
   "cell_type": "code",
   "execution_count": null,
   "id": "3a5afff4-4574-4f42-aeff-046f4a26d3b9",
   "metadata": {},
   "outputs": [],
   "source": []
  }
 ],
 "metadata": {
  "kernelspec": {
   "display_name": "Python 3 (ipykernel)",
   "language": "python",
   "name": "python3"
  },
  "language_info": {
   "codemirror_mode": {
    "name": "ipython",
    "version": 3
   },
   "file_extension": ".py",
   "mimetype": "text/x-python",
   "name": "python",
   "nbconvert_exporter": "python",
   "pygments_lexer": "ipython3",
   "version": "3.13.2"
  }
 },
 "nbformat": 4,
 "nbformat_minor": 5
}
