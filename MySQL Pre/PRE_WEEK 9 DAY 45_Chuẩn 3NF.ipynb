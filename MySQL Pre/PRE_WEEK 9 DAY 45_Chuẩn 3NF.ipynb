{
 "cells": [
  {
   "cell_type": "code",
   "execution_count": null,
   "id": "f5110fb2-b360-40d6-ad64-4e997897520c",
   "metadata": {},
   "outputs": [],
   "source": [
    "# Khóa chính của Bảng StorageRecords_Raw là record_id vì: \n",
    "# Mỗi record_id xác định duy nhất một bản ghi trong bảng\n",
    "# Không có giá trị record_id nào bị trùng lặp/NULL"
   ]
  },
  {
   "cell_type": "code",
   "execution_count": null,
   "id": "22edbb1a-4b7b-4e8a-bc8a-e855cf5e5924",
   "metadata": {},
   "outputs": [],
   "source": [
    "# Bảng chưa đạt chuẩn 1NF: Các cột có kiểu dữ liệu nhất quán và có tên duy nhất\n",
    "# Bị lặp lại thông tin (tại cột warehouse_id, warehouse_name lặp lại nhiều lần: cặp WH01-Main Warehouse lặp lại 3 lần)"
   ]
  },
  {
   "cell_type": "code",
   "execution_count": null,
   "id": "44a5e959-f056-45e2-9d89-715636cd33ef",
   "metadata": {},
   "outputs": [],
   "source": [
    "# 2F:\n",
    "# Bảng có các thuộc tính không phụ thuộc đầy đủ vào khóa chính (record_id)\n",
    "#     warehouse_name (phụ thuộc vào warehouse_id)\n",
    "# customer_name (phụ thuộc vào customer_id)\n",
    "#    staff_name (phụ thuộc vào staff_id)\n",
    "#    item_name (phụ thuộc vào item_code)"
   ]
  },
  {
   "cell_type": "code",
   "execution_count": null,
   "id": "ac168883-1882-44cd-9411-27f0db986a1f",
   "metadata": {},
   "outputs": [],
   "source": [
    "# 3F:\n",
    "# Có các thuộc tính không khóa phụ thuộc vào thuộc tính không khóa khác"
   ]
  },
  {
   "cell_type": "code",
   "execution_count": null,
   "id": "e2483534-2d63-4bf2-a2d3-6c39e13c63d8",
   "metadata": {},
   "outputs": [],
   "source": [
    "!pip install mysql-connector-python"
   ]
  },
  {
   "cell_type": "code",
   "execution_count": null,
   "id": "f5df317a-8a14-4109-b671-bffd92e35ff6",
   "metadata": {},
   "outputs": [],
   "source": [
    "# import mysql.connector\n",
    "# db = mysql.connector.connect(user = \"root\", password = \"abc13579\",\n",
    "#                              host=\"localhost\")\n",
    "\n",
    "# print(db)\n",
    "\n",
    "# query = 'CREATE SCHEMA database_d43'\n",
    "# cursor = db.cursor()\n",
    "# cursor.execute(query)"
   ]
  },
  {
   "cell_type": "code",
   "execution_count": 5,
   "id": "2844235f-c87f-4f10-b6cc-912ec810c00f",
   "metadata": {},
   "outputs": [],
   "source": [
    "import mysql.connector \n",
    "\n",
    "connection = mysql.connector.connect(\n",
    "    host=\"127.0.0.1\",     \n",
    "    user=\"root\",         \n",
    "    password=\"2011DongBaLiem@\",\n",
    "    database=\"chuanthu3\")\n",
    "cursor = connection.cursor()"
   ]
  },
  {
   "cell_type": "code",
   "execution_count": 4,
   "id": "50f03718-ed20-47ea-9593-51aecac13a44",
   "metadata": {},
   "outputs": [],
   "source": [
    "query=\"\"\"CREATE SCHEMA chuanthu3\"\"\"\n",
    "cursor.execute(query)"
   ]
  },
  {
   "cell_type": "code",
   "execution_count": 8,
   "id": "9187f3b0-7886-43d3-9951-ae8e6f219caf",
   "metadata": {},
   "outputs": [],
   "source": [
    "cursor.execute(\"\"\"\n",
    "create table if not exists chuanthu3.Items(\n",
    "    item_code VARCHAR(10) PRIMARY KEY,\n",
    "    item_name VARCHAR(50)\n",
    ") ENGINE=InnoDB;\n",
    "\"\"\")\n",
    "cursor.execute(\"\"\"\n",
    "CREATE TABLE IF NOT EXISTS Warehouses(\n",
    "    warehouse_id VARCHAR(10) PRIMARY KEY,\n",
    "    warehouse_name VARCHAR(50)\n",
    ") ENGINE=InnoDB;\n",
    "\"\"\")\n",
    "cursor.execute(\"\"\"\n",
    "CREATE TABLE IF NOT EXISTS Customers(\n",
    "    customer_id VARCHAR(10) PRIMARY KEY,\n",
    "    customer_name VARCHAR(50)\n",
    ") ENGINE=InnoDB;\n",
    "\"\"\")\n",
    "\n",
    "cursor.execute(\"\"\"\n",
    "CREATE TABLE IF NOT EXISTS Staffs(\n",
    "    staff_id VARCHAR(10) PRIMARY KEY,\n",
    "    staff_name VARCHAR(50)\n",
    ") ENGINE=InnoDB;\n",
    "\"\"\")\n",
    "\n",
    "cursor.execute(\"\"\"\n",
    "CREATE TABLE IF NOT EXISTS StorageRecord(\n",
    "    record_id VARCHAR(10) PRIMARY KEY,\n",
    "    item_code VARCHAR(10),\n",
    "    quantity INT,\n",
    "    warehouse_id VARCHAR(10),\n",
    "    location VARCHAR(50),\n",
    "    customer_id VARCHAR(10),\n",
    "    staff_id VARCHAR(10),\n",
    "    FOREIGN KEY(item_code) REFERENCES Items(item_code),\n",
    "    FOREIGN KEY(warehouse_id) REFERENCES Warehouses(warehouse_id),\n",
    "    FOREIGN KEY(customer_id ) REFERENCES Customers(customer_id),\n",
    "    FOREIGN KEY(staff_id) REFERENCES Staffs(staff_id)\n",
    ") ENGINE=InnoDB;\n",
    "\"\"\")\n",
    "connection.commit()"
   ]
  },
  {
   "cell_type": "code",
   "execution_count": 12,
   "id": "db159a12-24c7-42e6-b05f-1bed10f9bf6c",
   "metadata": {},
   "outputs": [],
   "source": [
    "cursor.execute(\"\"\"\n",
    "INSERT IGNORE INTO Items(item_code, item_name) VALUES\n",
    "    ('IT001', 'Motor Oil 5L'),\n",
    "    ('IT002', 'Engine Cleaner'),\n",
    "    ('IT003', 'Battery 12V')\n",
    ";\n",
    "\"\"\")\n",
    "\n",
    "cursor.execute(\"\"\"\n",
    "INSERT IGNORE INTO Warehouses VALUES\n",
    "    ('WH01', 'Main Warehouse'),\n",
    "    ('WH02', 'North Depot')\n",
    ";\n",
    "\"\"\")\n",
    "\n",
    "cursor.execute(\"\"\"\n",
    "INSERT IGNORE INTO Customers VALUES\n",
    "    ('C001', 'Mekong Corp'),\n",
    "    ('C002', 'Vina Auto'),\n",
    "    ('C003', 'Delta Co')\n",
    ";\n",
    "\"\"\")\n",
    "\n",
    "cursor.execute(\"\"\"\n",
    "INSERT IGNORE INTO Staffs VALUES\n",
    "    ('S01', 'Hoa Nguyen'),\n",
    "    ('S02', 'Khang Tran')\n",
    ";\n",
    "\"\"\")\n",
    "\n",
    "cursor.execute(\"\"\"\n",
    "INSERT IGNORE INTO StorageRecord VALUES\n",
    "    ('R001', 'IT001', 50, 'WH01', 'Shelf A1', 'C001', 'S01'),\n",
    "    ('R002', 'IT002', 30, 'WH01', 'Shelf B2', 'C002', 'S02'),\n",
    "    ('R003', 'IT001', 40, 'WH02', 'Shelf C3', 'C001', 'S01'),\n",
    "    ('R004', 'IT003', 25, 'WH01', 'Shelf A1', 'C003', 'S02')    \n",
    ";\n",
    "\"\"\")\n",
    "connection.commit()"
   ]
  },
  {
   "cell_type": "code",
   "execution_count": 13,
   "id": "482817e8-4059-45b2-8e38-6bbe1e2aec1e",
   "metadata": {},
   "outputs": [],
   "source": [
    "import pandas as pd"
   ]
  },
  {
   "cell_type": "code",
   "execution_count": 14,
   "id": "c3a3fe1a-38af-4dcf-b335-73ad0e12be64",
   "metadata": {},
   "outputs": [
    {
     "name": "stderr",
     "output_type": "stream",
     "text": [
      "C:\\Users\\LENOVO\\AppData\\Local\\Temp\\ipykernel_26428\\1132945239.py:7: UserWarning: pandas only supports SQLAlchemy connectable (engine/connection) or database string URI or sqlite3 DBAPI2 connection. Other DBAPI2 objects are not tested. Please consider using SQLAlchemy.\n",
      "  data=pd.read_sql_query(query, connection)\n"
     ]
    },
    {
     "data": {
      "text/html": [
       "<div>\n",
       "<style scoped>\n",
       "    .dataframe tbody tr th:only-of-type {\n",
       "        vertical-align: middle;\n",
       "    }\n",
       "\n",
       "    .dataframe tbody tr th {\n",
       "        vertical-align: top;\n",
       "    }\n",
       "\n",
       "    .dataframe thead th {\n",
       "        text-align: right;\n",
       "    }\n",
       "</style>\n",
       "<table border=\"1\" class=\"dataframe\">\n",
       "  <thead>\n",
       "    <tr style=\"text-align: right;\">\n",
       "      <th></th>\n",
       "      <th>record_id</th>\n",
       "      <th>item_code</th>\n",
       "      <th>quantity</th>\n",
       "      <th>warehouse_id</th>\n",
       "      <th>location</th>\n",
       "      <th>customer_id</th>\n",
       "      <th>staff_id</th>\n",
       "    </tr>\n",
       "  </thead>\n",
       "  <tbody>\n",
       "    <tr>\n",
       "      <th>0</th>\n",
       "      <td>R001</td>\n",
       "      <td>IT001</td>\n",
       "      <td>50</td>\n",
       "      <td>WH01</td>\n",
       "      <td>Shelf A1</td>\n",
       "      <td>C001</td>\n",
       "      <td>S01</td>\n",
       "    </tr>\n",
       "    <tr>\n",
       "      <th>1</th>\n",
       "      <td>R002</td>\n",
       "      <td>IT002</td>\n",
       "      <td>30</td>\n",
       "      <td>WH01</td>\n",
       "      <td>Shelf B2</td>\n",
       "      <td>C002</td>\n",
       "      <td>S02</td>\n",
       "    </tr>\n",
       "    <tr>\n",
       "      <th>2</th>\n",
       "      <td>R003</td>\n",
       "      <td>IT001</td>\n",
       "      <td>40</td>\n",
       "      <td>WH02</td>\n",
       "      <td>Shelf C3</td>\n",
       "      <td>C001</td>\n",
       "      <td>S01</td>\n",
       "    </tr>\n",
       "    <tr>\n",
       "      <th>3</th>\n",
       "      <td>R004</td>\n",
       "      <td>IT003</td>\n",
       "      <td>25</td>\n",
       "      <td>WH01</td>\n",
       "      <td>Shelf A1</td>\n",
       "      <td>C003</td>\n",
       "      <td>S02</td>\n",
       "    </tr>\n",
       "  </tbody>\n",
       "</table>\n",
       "</div>"
      ],
      "text/plain": [
       "  record_id item_code  quantity warehouse_id  location customer_id staff_id\n",
       "0      R001     IT001        50         WH01  Shelf A1        C001      S01\n",
       "1      R002     IT002        30         WH01  Shelf B2        C002      S02\n",
       "2      R003     IT001        40         WH02  Shelf C3        C001      S01\n",
       "3      R004     IT003        25         WH01  Shelf A1        C003      S02"
      ]
     },
     "execution_count": 14,
     "metadata": {},
     "output_type": "execute_result"
    }
   ],
   "source": [
    "query=\"\"\"\n",
    "SELECT * \n",
    "FROM StorageRecord\n",
    ";\n",
    "\"\"\"\n",
    "connection.commit()\n",
    "data=pd.read_sql_query(query, connection)\n",
    "data"
   ]
  },
  {
   "cell_type": "code",
   "execution_count": 16,
   "id": "237987b4-6f7c-4277-8073-c086df3b098f",
   "metadata": {},
   "outputs": [
    {
     "name": "stderr",
     "output_type": "stream",
     "text": [
      "C:\\Users\\LENOVO\\AppData\\Local\\Temp\\ipykernel_26428\\3392769882.py:10: UserWarning: pandas only supports SQLAlchemy connectable (engine/connection) or database string URI or sqlite3 DBAPI2 connection. Other DBAPI2 objects are not tested. Please consider using SQLAlchemy.\n",
      "  data=pd.read_sql_query(query, connection)\n"
     ]
    },
    {
     "data": {
      "text/html": [
       "<div>\n",
       "<style scoped>\n",
       "    .dataframe tbody tr th:only-of-type {\n",
       "        vertical-align: middle;\n",
       "    }\n",
       "\n",
       "    .dataframe tbody tr th {\n",
       "        vertical-align: top;\n",
       "    }\n",
       "\n",
       "    .dataframe thead th {\n",
       "        text-align: right;\n",
       "    }\n",
       "</style>\n",
       "<table border=\"1\" class=\"dataframe\">\n",
       "  <thead>\n",
       "    <tr style=\"text-align: right;\">\n",
       "      <th></th>\n",
       "      <th>warehouse_name</th>\n",
       "      <th>item_name</th>\n",
       "      <th>total_quantity</th>\n",
       "    </tr>\n",
       "  </thead>\n",
       "  <tbody>\n",
       "    <tr>\n",
       "      <th>0</th>\n",
       "      <td>Main Warehouse</td>\n",
       "      <td>Motor Oil 5L</td>\n",
       "      <td>50.0</td>\n",
       "    </tr>\n",
       "    <tr>\n",
       "      <th>1</th>\n",
       "      <td>North Depot</td>\n",
       "      <td>Motor Oil 5L</td>\n",
       "      <td>40.0</td>\n",
       "    </tr>\n",
       "    <tr>\n",
       "      <th>2</th>\n",
       "      <td>Main Warehouse</td>\n",
       "      <td>Engine Cleaner</td>\n",
       "      <td>30.0</td>\n",
       "    </tr>\n",
       "    <tr>\n",
       "      <th>3</th>\n",
       "      <td>Main Warehouse</td>\n",
       "      <td>Battery 12V</td>\n",
       "      <td>25.0</td>\n",
       "    </tr>\n",
       "  </tbody>\n",
       "</table>\n",
       "</div>"
      ],
      "text/plain": [
       "   warehouse_name       item_name  total_quantity\n",
       "0  Main Warehouse    Motor Oil 5L            50.0\n",
       "1     North Depot    Motor Oil 5L            40.0\n",
       "2  Main Warehouse  Engine Cleaner            30.0\n",
       "3  Main Warehouse     Battery 12V            25.0"
      ]
     },
     "execution_count": 16,
     "metadata": {},
     "output_type": "execute_result"
    }
   ],
   "source": [
    "query=\"\"\"\n",
    "SELECT w.warehouse_name, i.item_name, SUM(sr.quantity) AS total_quantity\n",
    "FROM StorageRecord sr\n",
    "JOIN Items i ON sr.item_code = i.item_code\n",
    "JOIN Warehouses w ON sr.warehouse_id = w.warehouse_id\n",
    "GROUP BY w.warehouse_name, i.item_name\n",
    ";\n",
    "\"\"\"\n",
    "connection.commit()\n",
    "data=pd.read_sql_query(query, connection)\n",
    "data"
   ]
  },
  {
   "cell_type": "code",
   "execution_count": 18,
   "id": "a21c447e-58f5-42c7-ae85-0631cc790c0b",
   "metadata": {},
   "outputs": [
    {
     "name": "stderr",
     "output_type": "stream",
     "text": [
      "C:\\Users\\LENOVO\\AppData\\Local\\Temp\\ipykernel_26428\\853886102.py:9: UserWarning: pandas only supports SQLAlchemy connectable (engine/connection) or database string URI or sqlite3 DBAPI2 connection. Other DBAPI2 objects are not tested. Please consider using SQLAlchemy.\n",
      "  data=pd.read_sql_query(query, connection)\n"
     ]
    },
    {
     "data": {
      "text/html": [
       "<div>\n",
       "<style scoped>\n",
       "    .dataframe tbody tr th:only-of-type {\n",
       "        vertical-align: middle;\n",
       "    }\n",
       "\n",
       "    .dataframe tbody tr th {\n",
       "        vertical-align: top;\n",
       "    }\n",
       "\n",
       "    .dataframe thead th {\n",
       "        text-align: right;\n",
       "    }\n",
       "</style>\n",
       "<table border=\"1\" class=\"dataframe\">\n",
       "  <thead>\n",
       "    <tr style=\"text-align: right;\">\n",
       "      <th></th>\n",
       "      <th>customer_name</th>\n",
       "      <th>item_name</th>\n",
       "    </tr>\n",
       "  </thead>\n",
       "  <tbody>\n",
       "    <tr>\n",
       "      <th>0</th>\n",
       "      <td>Mekong Corp</td>\n",
       "      <td>Motor Oil 5L</td>\n",
       "    </tr>\n",
       "    <tr>\n",
       "      <th>1</th>\n",
       "      <td>Vina Auto</td>\n",
       "      <td>Engine Cleaner</td>\n",
       "    </tr>\n",
       "    <tr>\n",
       "      <th>2</th>\n",
       "      <td>Delta Co</td>\n",
       "      <td>Battery 12V</td>\n",
       "    </tr>\n",
       "  </tbody>\n",
       "</table>\n",
       "</div>"
      ],
      "text/plain": [
       "  customer_name       item_name\n",
       "0   Mekong Corp    Motor Oil 5L\n",
       "1     Vina Auto  Engine Cleaner\n",
       "2      Delta Co     Battery 12V"
      ]
     },
     "execution_count": 18,
     "metadata": {},
     "output_type": "execute_result"
    }
   ],
   "source": [
    "query=\"\"\"\n",
    "SELECT DISTINCT c.customer_name, i.item_name\n",
    "FROM StorageRecord sr\n",
    "JOIN Items i ON sr.item_code = i.item_code\n",
    "JOIN Customers c ON c.customer_id = sr.customer_id\n",
    ";\n",
    "\"\"\"\n",
    "connection.commit()\n",
    "data=pd.read_sql_query(query, connection)\n",
    "data"
   ]
  },
  {
   "cell_type": "code",
   "execution_count": 20,
   "id": "8b68191f-2349-4755-be69-ec287019330a",
   "metadata": {},
   "outputs": [
    {
     "name": "stderr",
     "output_type": "stream",
     "text": [
      "C:\\Users\\LENOVO\\AppData\\Local\\Temp\\ipykernel_26428\\1095766047.py:10: UserWarning: pandas only supports SQLAlchemy connectable (engine/connection) or database string URI or sqlite3 DBAPI2 connection. Other DBAPI2 objects are not tested. Please consider using SQLAlchemy.\n",
      "  data=pd.read_sql_query(query, connection)\n"
     ]
    },
    {
     "data": {
      "text/html": [
       "<div>\n",
       "<style scoped>\n",
       "    .dataframe tbody tr th:only-of-type {\n",
       "        vertical-align: middle;\n",
       "    }\n",
       "\n",
       "    .dataframe tbody tr th {\n",
       "        vertical-align: top;\n",
       "    }\n",
       "\n",
       "    .dataframe thead th {\n",
       "        text-align: right;\n",
       "    }\n",
       "</style>\n",
       "<table border=\"1\" class=\"dataframe\">\n",
       "  <thead>\n",
       "    <tr style=\"text-align: right;\">\n",
       "      <th></th>\n",
       "      <th>staff_name</th>\n",
       "    </tr>\n",
       "  </thead>\n",
       "  <tbody>\n",
       "    <tr>\n",
       "      <th>0</th>\n",
       "      <td>Hoa Nguyen</td>\n",
       "    </tr>\n",
       "    <tr>\n",
       "      <th>1</th>\n",
       "      <td>Khang Tran</td>\n",
       "    </tr>\n",
       "  </tbody>\n",
       "</table>\n",
       "</div>"
      ],
      "text/plain": [
       "   staff_name\n",
       "0  Hoa Nguyen\n",
       "1  Khang Tran"
      ]
     },
     "execution_count": 20,
     "metadata": {},
     "output_type": "execute_result"
    }
   ],
   "source": [
    "query=\"\"\"\n",
    "SELECT DISTINCT s.staff_name\n",
    "FROM StorageRecord sr\n",
    "JOIN Staffs s ON s.staff_id = sr.staff_id\n",
    "JOIN Warehouses w ON w.warehouse_id = sr.warehouse_id\n",
    "WHERE w.warehouse_name = 'Main Warehouse'\n",
    ";\n",
    "\"\"\"\n",
    "connection.commit()\n",
    "data=pd.read_sql_query(query, connection)\n",
    "data"
   ]
  },
  {
   "cell_type": "code",
   "execution_count": 22,
   "id": "767b17f9-f43b-46ae-a72e-8508505e4308",
   "metadata": {},
   "outputs": [
    {
     "name": "stderr",
     "output_type": "stream",
     "text": [
      "C:\\Users\\LENOVO\\AppData\\Local\\Temp\\ipykernel_26428\\2433843243.py:10: UserWarning: pandas only supports SQLAlchemy connectable (engine/connection) or database string URI or sqlite3 DBAPI2 connection. Other DBAPI2 objects are not tested. Please consider using SQLAlchemy.\n",
      "  data=pd.read_sql_query(query, connection)\n"
     ]
    },
    {
     "data": {
      "text/html": [
       "<div>\n",
       "<style scoped>\n",
       "    .dataframe tbody tr th:only-of-type {\n",
       "        vertical-align: middle;\n",
       "    }\n",
       "\n",
       "    .dataframe tbody tr th {\n",
       "        vertical-align: top;\n",
       "    }\n",
       "\n",
       "    .dataframe thead th {\n",
       "        text-align: right;\n",
       "    }\n",
       "</style>\n",
       "<table border=\"1\" class=\"dataframe\">\n",
       "  <thead>\n",
       "    <tr style=\"text-align: right;\">\n",
       "      <th></th>\n",
       "      <th>warehouse_name</th>\n",
       "      <th>item_name</th>\n",
       "      <th>location</th>\n",
       "    </tr>\n",
       "  </thead>\n",
       "  <tbody>\n",
       "    <tr>\n",
       "      <th>0</th>\n",
       "      <td>Main Warehouse</td>\n",
       "      <td>Motor Oil 5L</td>\n",
       "      <td>Shelf A1</td>\n",
       "    </tr>\n",
       "    <tr>\n",
       "      <th>1</th>\n",
       "      <td>North Depot</td>\n",
       "      <td>Motor Oil 5L</td>\n",
       "      <td>Shelf C3</td>\n",
       "    </tr>\n",
       "    <tr>\n",
       "      <th>2</th>\n",
       "      <td>Main Warehouse</td>\n",
       "      <td>Engine Cleaner</td>\n",
       "      <td>Shelf B2</td>\n",
       "    </tr>\n",
       "    <tr>\n",
       "      <th>3</th>\n",
       "      <td>Main Warehouse</td>\n",
       "      <td>Battery 12V</td>\n",
       "      <td>Shelf A1</td>\n",
       "    </tr>\n",
       "  </tbody>\n",
       "</table>\n",
       "</div>"
      ],
      "text/plain": [
       "   warehouse_name       item_name  location\n",
       "0  Main Warehouse    Motor Oil 5L  Shelf A1\n",
       "1     North Depot    Motor Oil 5L  Shelf C3\n",
       "2  Main Warehouse  Engine Cleaner  Shelf B2\n",
       "3  Main Warehouse     Battery 12V  Shelf A1"
      ]
     },
     "execution_count": 22,
     "metadata": {},
     "output_type": "execute_result"
    }
   ],
   "source": [
    "\n",
    "query=\"\"\"\n",
    "SELECT DISTINCT w.warehouse_name, i.item_name, sr.location\n",
    "FROM StorageRecord sr\n",
    "JOIN Items i ON i.item_code = sr.item_code\n",
    "JOIN Warehouses w ON w.warehouse_id = sr.warehouse_id\n",
    ";\n",
    "\"\"\"\n",
    "\n",
    "connection.commit()\n",
    "data=pd.read_sql_query(query, connection)\n",
    "data"
   ]
  },
  {
   "cell_type": "code",
   "execution_count": 24,
   "id": "f03ff035-cc5a-4005-a10f-12f7627799c2",
   "metadata": {},
   "outputs": [
    {
     "name": "stderr",
     "output_type": "stream",
     "text": [
      "C:\\Users\\LENOVO\\AppData\\Local\\Temp\\ipykernel_26428\\3865712710.py:13: UserWarning: pandas only supports SQLAlchemy connectable (engine/connection) or database string URI or sqlite3 DBAPI2 connection. Other DBAPI2 objects are not tested. Please consider using SQLAlchemy.\n",
      "  data=pd.read_sql_query(query, connection)\n"
     ]
    },
    {
     "data": {
      "text/html": [
       "<div>\n",
       "<style scoped>\n",
       "    .dataframe tbody tr th:only-of-type {\n",
       "        vertical-align: middle;\n",
       "    }\n",
       "\n",
       "    .dataframe tbody tr th {\n",
       "        vertical-align: top;\n",
       "    }\n",
       "\n",
       "    .dataframe thead th {\n",
       "        text-align: right;\n",
       "    }\n",
       "</style>\n",
       "<table border=\"1\" class=\"dataframe\">\n",
       "  <thead>\n",
       "    <tr style=\"text-align: right;\">\n",
       "      <th></th>\n",
       "      <th>warehouse_name</th>\n",
       "      <th>total_customers</th>\n",
       "    </tr>\n",
       "  </thead>\n",
       "  <tbody>\n",
       "    <tr>\n",
       "      <th>0</th>\n",
       "      <td>Main Warehouse</td>\n",
       "      <td>3</td>\n",
       "    </tr>\n",
       "    <tr>\n",
       "      <th>1</th>\n",
       "      <td>North Depot</td>\n",
       "      <td>1</td>\n",
       "    </tr>\n",
       "  </tbody>\n",
       "</table>\n",
       "</div>"
      ],
      "text/plain": [
       "   warehouse_name  total_customers\n",
       "0  Main Warehouse                3\n",
       "1     North Depot                1"
      ]
     },
     "execution_count": 24,
     "metadata": {},
     "output_type": "execute_result"
    }
   ],
   "source": [
    "query=\"\"\"\n",
    "SELECT \n",
    "    w.warehouse_name,\n",
    "    COUNT(DISTINCT sr.customer_id) AS total_customers\n",
    "FROM StorageRecord sr\n",
    "JOIN Customers c ON c.customer_id = sr.customer_id\n",
    "JOIN Warehouses w ON w.warehouse_id = sr.warehouse_id\n",
    "GROUP BY w.warehouse_name\n",
    ";\n",
    "\"\"\"\n",
    "connection.commit()\n",
    "data=pd.read_sql_query(query, connection)\n",
    "data\n",
    "\n",
    "# GROUP BY yêu cầu rằng tất cả các trường trong SELECT phải hoặc có mặt trong GROUP BY, hoặc phải được tính bằng hàm tổng hợp"
   ]
  },
  {
   "cell_type": "code",
   "execution_count": 25,
   "id": "da41be14-2f80-400f-9fcc-79d1fb0e6630",
   "metadata": {},
   "outputs": [
    {
     "name": "stderr",
     "output_type": "stream",
     "text": [
      "C:\\Users\\LENOVO\\AppData\\Local\\Temp\\ipykernel_26428\\66703259.py:12: UserWarning: pandas only supports SQLAlchemy connectable (engine/connection) or database string URI or sqlite3 DBAPI2 connection. Other DBAPI2 objects are not tested. Please consider using SQLAlchemy.\n",
      "  data=pd.read_sql_query(query, connection)\n"
     ]
    },
    {
     "data": {
      "text/html": [
       "<div>\n",
       "<style scoped>\n",
       "    .dataframe tbody tr th:only-of-type {\n",
       "        vertical-align: middle;\n",
       "    }\n",
       "\n",
       "    .dataframe tbody tr th {\n",
       "        vertical-align: top;\n",
       "    }\n",
       "\n",
       "    .dataframe thead th {\n",
       "        text-align: right;\n",
       "    }\n",
       "</style>\n",
       "<table border=\"1\" class=\"dataframe\">\n",
       "  <thead>\n",
       "    <tr style=\"text-align: right;\">\n",
       "      <th></th>\n",
       "      <th>warehouse_name</th>\n",
       "      <th>customer_names</th>\n",
       "      <th>total_customers</th>\n",
       "    </tr>\n",
       "  </thead>\n",
       "  <tbody>\n",
       "    <tr>\n",
       "      <th>0</th>\n",
       "      <td>Main Warehouse</td>\n",
       "      <td>Delta Co,Mekong Corp,Vina Auto</td>\n",
       "      <td>3</td>\n",
       "    </tr>\n",
       "    <tr>\n",
       "      <th>1</th>\n",
       "      <td>North Depot</td>\n",
       "      <td>Mekong Corp</td>\n",
       "      <td>1</td>\n",
       "    </tr>\n",
       "  </tbody>\n",
       "</table>\n",
       "</div>"
      ],
      "text/plain": [
       "   warehouse_name                  customer_names  total_customers\n",
       "0  Main Warehouse  Delta Co,Mekong Corp,Vina Auto                3\n",
       "1     North Depot                     Mekong Corp                1"
      ]
     },
     "execution_count": 25,
     "metadata": {},
     "output_type": "execute_result"
    }
   ],
   "source": [
    "query=\"\"\"\n",
    "SELECT \n",
    "    w.warehouse_name,\n",
    "    GROUP_CONCAT(DISTINCT c.customer_name) AS customer_names,\n",
    "    COUNT(DISTINCT sr.customer_id) AS total_customers\n",
    "FROM StorageRecord sr\n",
    "JOIN Customers c ON c.customer_id = sr.customer_id\n",
    "JOIN Warehouses w ON w.warehouse_id = sr.warehouse_id\n",
    "GROUP BY w.warehouse_name;\n",
    "\"\"\"\n",
    "connection.commit()\n",
    "data=pd.read_sql_query(query, connection)\n",
    "data"
   ]
  },
  {
   "cell_type": "code",
   "execution_count": null,
   "id": "87f52214-23b3-493d-a5a6-3e15a481ecbf",
   "metadata": {},
   "outputs": [],
   "source": []
  }
 ],
 "metadata": {
  "kernelspec": {
   "display_name": "Python 3 (ipykernel)",
   "language": "python",
   "name": "python3"
  },
  "language_info": {
   "codemirror_mode": {
    "name": "ipython",
    "version": 3
   },
   "file_extension": ".py",
   "mimetype": "text/x-python",
   "name": "python",
   "nbconvert_exporter": "python",
   "pygments_lexer": "ipython3",
   "version": "3.13.2"
  }
 },
 "nbformat": 4,
 "nbformat_minor": 5
}
