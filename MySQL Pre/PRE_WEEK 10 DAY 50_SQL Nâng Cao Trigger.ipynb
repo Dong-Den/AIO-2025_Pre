{
 "cells": [
  {
   "cell_type": "code",
   "execution_count": 1,
   "id": "eac30a3d-2f81-4cb4-be12-ae84bebf09bc",
   "metadata": {},
   "outputs": [
    {
     "name": "stdout",
     "output_type": "stream",
     "text": [
      "Requirement already satisfied: mysql-connector-python in c:\\users\\lenovo\\appdata\\local\\programs\\python\\python313\\lib\\site-packages (9.2.0)\n"
     ]
    }
   ],
   "source": [
    "!pip install mysql-connector-python  \n"
   ]
  },
  {
   "cell_type": "code",
   "execution_count": 2,
   "id": "006c2e47-89bf-4dca-8b8e-269ab4d00c86",
   "metadata": {},
   "outputs": [],
   "source": [
    "import mysql.connector  \n",
    "\n",
    "connection = mysql.connector.connect(\n",
    "    host=\"127.0.0.1\",     \n",
    "    user=\"root\",         \n",
    "    password=\"2011DongBaLiem@\",\n",
    "    database=\"preday50\")\n",
    "cursor = connection.cursor()"
   ]
  },
  {
   "cell_type": "code",
   "execution_count": 3,
   "id": "9ebfbfff-b186-4b4f-ad8c-78169345cfb2",
   "metadata": {},
   "outputs": [],
   "source": [
    "import pandas as pd"
   ]
  },
  {
   "cell_type": "code",
   "execution_count": 4,
   "id": "08456b8a-37af-460c-88f5-3ea7d6a81597",
   "metadata": {},
   "outputs": [],
   "source": [
    "cursor.execute(\"\"\"\n",
    "CREATE TABLE IF NOT EXISTS customers(\n",
    "    id INT PRIMARY KEY,\n",
    "    name VARCHAR(100),\n",
    "    city VARCHAR(100)\n",
    ") ENGINE=InnoDB;\n",
    "\"\"\")\n",
    "\n",
    "cursor.execute(\"\"\"\n",
    "INSERT INTO customers VALUES\n",
    "    (1, 'Alice', 'Hanoi'),\n",
    "    (2, 'Bob', 'Ho Chi Minh'),\n",
    "    (3, 'Charlie', 'Hanoi')\n",
    ";\n",
    "\"\"\") \n",
    "connection.commit()\n",
    "\n",
    "cursor.execute(\"\"\"\n",
    "CREATE TABLE IF NOT EXISTS orders(\n",
    "    id INT PRIMARY KEY,\n",
    "    customer_id INT,\n",
    "    order_date DATE,\n",
    "    total INT\n",
    ")ENGINE=InnoDB;\n",
    "\"\"\")\n",
    "\n",
    "cursor.execute(\"\"\"\n",
    "INSERT INTO orders VALUES\n",
    "    (1, 1, '2024-01-10', 500),\n",
    "    (2, 1, '2024-03-01', 800),\n",
    "    (3, 2, '2024-02-20', 1200),\n",
    "    (4, 3, '2024-01-15', 200)\n",
    ";\n",
    "\"\"\")\n",
    "connection.commit()\n",
    "\n",
    "cursor.execute(\"\"\"\n",
    "CREATE TABLE IF NOT EXISTS products(\n",
    "    id INT PRIMARY KEY,\n",
    "    name VARCHAR(100),\n",
    "    price INT\n",
    ")ENGINE=InnoDB;\n",
    "\"\"\")\n",
    "\n",
    "cursor.execute(\"\"\"\n",
    "INSERT INTO products VALUES\n",
    "    (1, 'Laptop', 1500),\n",
    "    (2, 'Mouse', 50),\n",
    "    (3, 'Keyboard', 100),\n",
    "    (4, 'Monitor', 300)\n",
    ";\n",
    "\"\"\")\n",
    "connection.commit()\n",
    "\n",
    "cursor.execute(\"\"\"\n",
    "CREATE TABLE IF NOT EXISTS order_items(\n",
    "    id INT PRIMARY KEY,\n",
    "    order_id INT,\n",
    "    product_id INT,\n",
    "    quantity INT\n",
    ")ENGINE=InnoDB;\n",
    "\"\"\")\n",
    "\n",
    "cursor.execute(\"\"\"\n",
    "INSERT INTO order_items VALUES\n",
    "    (1, 1, 2, 2),\n",
    "    (2, 1, 3, 1),\n",
    "    (3, 2, 1, 1),\n",
    "    (4, 2, 4, 1),\n",
    "    (5, 3, 1, 1)\n",
    ";\n",
    "\"\"\")\n",
    "connection.commit()\n",
    "\n",
    "cursor.execute(\"\"\"\n",
    "CREATE TABLE IF NOT EXISTS employees(\n",
    "    id INT PRIMARY KEY,\n",
    "    name VARCHAR(100),\n",
    "    department VARCHAR(100)\n",
    ")ENGINE=InnoDB;\n",
    "\"\"\")\n",
    "\n",
    "cursor.execute(\"\"\"\n",
    "INSERT INTO employees VALUES\n",
    "    (1, 'David', 'Sales'),\n",
    "    (2, 'Emma', 'Support'),\n",
    "    (3, 'Frank', 'Sales')\n",
    ";\n",
    "\"\"\")\n",
    "connection.commit()\n",
    "\n",
    "cursor.execute(\"\"\"\n",
    "CREATE TABLE IF NOT EXISTS order_assignments(\n",
    "    id INT PRIMARY KEY,\n",
    "    order_id INT,\n",
    "    employee_id INT\n",
    ")ENGINE=InnoDB;\n",
    "\"\"\")\n",
    "\n",
    "cursor.execute(\"\"\"\n",
    "INSERT INTO order_assignments VALUES\n",
    "    (1, 1, 1),\n",
    "    (2, 2, 3),\n",
    "    (3, 3, 2)\n",
    ";\n",
    "\"\"\") \n",
    "connection.commit()"
   ]
  },
  {
   "cell_type": "code",
   "execution_count": 5,
   "id": "3a5fd88a-d96f-4a17-88af-8577b7278b4e",
   "metadata": {},
   "outputs": [],
   "source": [
    "# Tạo trigger để ghi log vào bảng order_logs mỗi khi đơn hàng bị xoá khỏi bảng orders\n",
    "\n",
    "query= \"\"\"\n",
    "CREATE TABLE IF NOT EXISTS order_logs (\n",
    "    id INT AUTO_INCREMENT PRIMARY KEY,\n",
    "    log_message TEXT,\n",
    "    created_at TIMESTAMP DEFAULT CURRENT_TIMESTAMP\n",
    ")\n",
    ";\"\"\"\n",
    "cursor.execute(query)\n"
   ]
  },
  {
   "cell_type": "code",
   "execution_count": 7,
   "id": "467a64a0-5914-478b-b4d4-bb3b695b7bf1",
   "metadata": {},
   "outputs": [],
   "source": [
    "query=\"\"\"\n",
    "CREATE TRIGGER log_order_delete\n",
    "AFTER DELETE ON orders \n",
    "FOR EACH ROW \n",
    "BEGIN \n",
    "    INSERT INTO order_logs(log_message)\n",
    "    VALUES (CONCAT('Delete order ID:', OLD.id, '-total:', OLD.total));\n",
    "END\n",
    ";\"\"\"\n",
    "\n",
    "cursor.execute(query)\n",
    "connection.commit()"
   ]
  },
  {
   "cell_type": "code",
   "execution_count": 8,
   "id": "316f54ad-852c-4faf-bf0d-72d76487ef09",
   "metadata": {},
   "outputs": [],
   "source": [
    "# TEST TRIGGER\n",
    "query=\"\"\"\n",
    "DELETE FROM orders\n",
    "WHERE id=1;\"\"\"\n",
    "cursor.execute(query)\n"
   ]
  },
  {
   "cell_type": "code",
   "execution_count": 9,
   "id": "529c72f7-439d-45a2-af4e-8d906ad7b71e",
   "metadata": {},
   "outputs": [
    {
     "name": "stdout",
     "output_type": "stream",
     "text": [
      "(1, 'Delete order ID:1-total:500', datetime.datetime(2025, 4, 14, 11, 42, 7))\n"
     ]
    }
   ],
   "source": [
    "query=\"\"\" SELECT * FROM order_logs\"\"\"\n",
    "cursor.execute(query)\n",
    "result = cursor.fetchall()\n",
    "for row in result:\n",
    "    print(row)"
   ]
  },
  {
   "cell_type": "code",
   "execution_count": 10,
   "id": "7c90fa4a-74eb-45c6-91b2-e45f173a542e",
   "metadata": {},
   "outputs": [],
   "source": [
    "# Tạo trigger trên bảng order_items để tự động cập nhật tổng tiền của đơn hàng trong bảng orders khi thêm dòng sản phẩm mới\n",
    "\n",
    "query=\"\"\"\n",
    "CREATE TABLE update_product_logs(\n",
    "    id INT AUTO_INCREMENT PRIMARY KEY,\n",
    "    log_message TEXT,\n",
    "    created_at TIMESTAMP DEFAULT CURRENT_TIMESTAMP\n",
    ")\n",
    ";\"\"\"\n",
    "cursor.execute(query)\n"
   ]
  },
  {
   "cell_type": "code",
   "execution_count": 25,
   "id": "0051e461-7682-4858-b63a-545df3b631e1",
   "metadata": {},
   "outputs": [],
   "source": [
    "query= \"\"\"\n",
    "CREATE TRIGGER update_order_total2\n",
    "AFTER INSERT ON order_items\n",
    "FOR EACH ROW\n",
    "BEGIN\n",
    "    UPDATE orders\n",
    "    SET total = total + NEW.quantity * (SELECT price FROM products WHERE id= NEW.product_id)\n",
    "    WHERE order_id = NEW.order_id;\n",
    "\n",
    "    INSERT INTO update_product_logs(log_message) \n",
    "    VALUES (CONCAT('NEW order_id:', NEW.order_id, '-product_id:', NEW.product_id, '-quantity:', NEW.quantity)) ;\n",
    "END\n",
    ";\"\"\" \n",
    "\n",
    "cursor.execute(query)\n",
    "connection.commit()"
   ]
  },
  {
   "cell_type": "code",
   "execution_count": 26,
   "id": "ca01eb8e-81ed-4e59-8a5a-1d88c5d71c79",
   "metadata": {},
   "outputs": [
    {
     "ename": "ProgrammingError",
     "evalue": "1054 (42S22): Unknown column 'order_id' in 'where clause'",
     "output_type": "error",
     "traceback": [
      "\u001b[31m---------------------------------------------------------------------------\u001b[39m",
      "\u001b[31mMySQLInterfaceError\u001b[39m                       Traceback (most recent call last)",
      "\u001b[36mFile \u001b[39m\u001b[32m~\\AppData\\Local\\Programs\\Python\\Python313\\Lib\\site-packages\\mysql\\connector\\connection_cext.py:755\u001b[39m, in \u001b[36mCMySQLConnection.cmd_query\u001b[39m\u001b[34m(self, query, raw, buffered, raw_as_string, **kwargs)\u001b[39m\n\u001b[32m    754\u001b[39m         query = query.encode(\u001b[33m\"\u001b[39m\u001b[33mutf-8\u001b[39m\u001b[33m\"\u001b[39m)\n\u001b[32m--> \u001b[39m\u001b[32m755\u001b[39m     \u001b[38;5;28;43mself\u001b[39;49m\u001b[43m.\u001b[49m\u001b[43m_cmysql\u001b[49m\u001b[43m.\u001b[49m\u001b[43mquery\u001b[49m\u001b[43m(\u001b[49m\n\u001b[32m    756\u001b[39m \u001b[43m        \u001b[49m\u001b[43mquery\u001b[49m\u001b[43m,\u001b[49m\n\u001b[32m    757\u001b[39m \u001b[43m        \u001b[49m\u001b[43mraw\u001b[49m\u001b[43m=\u001b[49m\u001b[43mraw\u001b[49m\u001b[43m,\u001b[49m\n\u001b[32m    758\u001b[39m \u001b[43m        \u001b[49m\u001b[43mbuffered\u001b[49m\u001b[43m=\u001b[49m\u001b[43mbuffered\u001b[49m\u001b[43m,\u001b[49m\n\u001b[32m    759\u001b[39m \u001b[43m        \u001b[49m\u001b[43mraw_as_string\u001b[49m\u001b[43m=\u001b[49m\u001b[43mraw_as_string\u001b[49m\u001b[43m,\u001b[49m\n\u001b[32m    760\u001b[39m \u001b[43m        \u001b[49m\u001b[43mquery_attrs\u001b[49m\u001b[43m=\u001b[49m\u001b[38;5;28;43mself\u001b[39;49m\u001b[43m.\u001b[49m\u001b[43mquery_attrs\u001b[49m\u001b[43m,\u001b[49m\n\u001b[32m    761\u001b[39m \u001b[43m    \u001b[49m\u001b[43m)\u001b[49m\n\u001b[32m    762\u001b[39m \u001b[38;5;28;01mexcept\u001b[39;00m MySQLInterfaceError \u001b[38;5;28;01mas\u001b[39;00m err:\n",
      "\u001b[31mMySQLInterfaceError\u001b[39m: Unknown column 'order_id' in 'where clause'",
      "\nThe above exception was the direct cause of the following exception:\n",
      "\u001b[31mProgrammingError\u001b[39m                          Traceback (most recent call last)",
      "\u001b[36mCell\u001b[39m\u001b[36m \u001b[39m\u001b[32mIn[26]\u001b[39m\u001b[32m, line 6\u001b[39m\n\u001b[32m      1\u001b[39m \u001b[38;5;66;03m# TEST TRIGGER\u001b[39;00m\n\u001b[32m      2\u001b[39m query= \u001b[33m\"\"\"\u001b[39m\n\u001b[32m      3\u001b[39m \u001b[33mINSERT INTO order_items VALUES\u001b[39m\n\u001b[32m      4\u001b[39m \u001b[33m    (6,2,5,1)\u001b[39m\n\u001b[32m      5\u001b[39m \u001b[33m;\u001b[39m\u001b[33m\"\"\"\u001b[39m\n\u001b[32m----> \u001b[39m\u001b[32m6\u001b[39m \u001b[43mcursor\u001b[49m\u001b[43m.\u001b[49m\u001b[43mexecute\u001b[49m\u001b[43m(\u001b[49m\u001b[43mquery\u001b[49m\u001b[43m)\u001b[49m\n\u001b[32m      7\u001b[39m connection.commit()\n",
      "\u001b[36mFile \u001b[39m\u001b[32m~\\AppData\\Local\\Programs\\Python\\Python313\\Lib\\site-packages\\mysql\\connector\\cursor_cext.py:351\u001b[39m, in \u001b[36mCMySQLCursor.execute\u001b[39m\u001b[34m(self, operation, params, map_results)\u001b[39m\n\u001b[32m    343\u001b[39m \u001b[38;5;28mself\u001b[39m._executed = (\n\u001b[32m    344\u001b[39m     \u001b[38;5;28mself\u001b[39m._stmt_partition[\u001b[33m\"\u001b[39m\u001b[33msingle_stmts\u001b[39m\u001b[33m\"\u001b[39m].popleft()\n\u001b[32m    345\u001b[39m     \u001b[38;5;28;01mif\u001b[39;00m map_results\n\u001b[32m    346\u001b[39m     \u001b[38;5;28;01melse\u001b[39;00m \u001b[38;5;28mself\u001b[39m._stmt_partition[\u001b[33m\"\u001b[39m\u001b[33mmappable_stmt\u001b[39m\u001b[33m\"\u001b[39m]\n\u001b[32m    347\u001b[39m )\n\u001b[32m    349\u001b[39m \u001b[38;5;28;01mtry\u001b[39;00m:\n\u001b[32m    350\u001b[39m     \u001b[38;5;28mself\u001b[39m._handle_result(\n\u001b[32m--> \u001b[39m\u001b[32m351\u001b[39m         \u001b[38;5;28;43mself\u001b[39;49m\u001b[43m.\u001b[49m\u001b[43m_connection\u001b[49m\u001b[43m.\u001b[49m\u001b[43mcmd_query\u001b[49m\u001b[43m(\u001b[49m\n\u001b[32m    352\u001b[39m \u001b[43m            \u001b[49m\u001b[38;5;28;43mself\u001b[39;49m\u001b[43m.\u001b[49m\u001b[43m_stmt_partition\u001b[49m\u001b[43m[\u001b[49m\u001b[33;43m\"\u001b[39;49m\u001b[33;43mmappable_stmt\u001b[39;49m\u001b[33;43m\"\u001b[39;49m\u001b[43m]\u001b[49m\u001b[43m,\u001b[49m\n\u001b[32m    353\u001b[39m \u001b[43m            \u001b[49m\u001b[43mraw\u001b[49m\u001b[43m=\u001b[49m\u001b[38;5;28;43mself\u001b[39;49m\u001b[43m.\u001b[49m\u001b[43m_raw\u001b[49m\u001b[43m,\u001b[49m\n\u001b[32m    354\u001b[39m \u001b[43m            \u001b[49m\u001b[43mbuffered\u001b[49m\u001b[43m=\u001b[49m\u001b[38;5;28;43mself\u001b[39;49m\u001b[43m.\u001b[49m\u001b[43m_buffered\u001b[49m\u001b[43m,\u001b[49m\n\u001b[32m    355\u001b[39m \u001b[43m            \u001b[49m\u001b[43mraw_as_string\u001b[49m\u001b[43m=\u001b[49m\u001b[38;5;28;43mself\u001b[39;49m\u001b[43m.\u001b[49m\u001b[43m_raw_as_string\u001b[49m\u001b[43m,\u001b[49m\n\u001b[32m    356\u001b[39m \u001b[43m        \u001b[49m\u001b[43m)\u001b[49m\n\u001b[32m    357\u001b[39m     )\n\u001b[32m    358\u001b[39m \u001b[38;5;28;01mexcept\u001b[39;00m MySQLInterfaceError \u001b[38;5;28;01mas\u001b[39;00m err:\n\u001b[32m    359\u001b[39m     \u001b[38;5;28;01mraise\u001b[39;00m get_mysql_exception(\n\u001b[32m    360\u001b[39m         msg=err.msg, errno=err.errno, sqlstate=err.sqlstate\n\u001b[32m    361\u001b[39m     ) \u001b[38;5;28;01mfrom\u001b[39;00m\u001b[38;5;250m \u001b[39m\u001b[34;01merr\u001b[39;00m\n",
      "\u001b[36mFile \u001b[39m\u001b[32m~\\AppData\\Local\\Programs\\Python\\Python313\\Lib\\site-packages\\mysql\\connector\\opentelemetry\\context_propagation.py:97\u001b[39m, in \u001b[36mwith_context_propagation.<locals>.wrapper\u001b[39m\u001b[34m(cnx, *args, **kwargs)\u001b[39m\n\u001b[32m     95\u001b[39m \u001b[38;5;66;03m# pylint: disable=possibly-used-before-assignment\u001b[39;00m\n\u001b[32m     96\u001b[39m \u001b[38;5;28;01mif\u001b[39;00m \u001b[38;5;129;01mnot\u001b[39;00m OTEL_ENABLED \u001b[38;5;129;01mor\u001b[39;00m \u001b[38;5;129;01mnot\u001b[39;00m cnx.otel_context_propagation:\n\u001b[32m---> \u001b[39m\u001b[32m97\u001b[39m     \u001b[38;5;28;01mreturn\u001b[39;00m \u001b[43mmethod\u001b[49m\u001b[43m(\u001b[49m\u001b[43mcnx\u001b[49m\u001b[43m,\u001b[49m\u001b[43m \u001b[49m\u001b[43m*\u001b[49m\u001b[43margs\u001b[49m\u001b[43m,\u001b[49m\u001b[43m \u001b[49m\u001b[43m*\u001b[49m\u001b[43m*\u001b[49m\u001b[43mkwargs\u001b[49m\u001b[43m)\u001b[49m\n\u001b[32m     99\u001b[39m current_span = trace.get_current_span()\n\u001b[32m    100\u001b[39m tp_header = \u001b[38;5;28;01mNone\u001b[39;00m\n",
      "\u001b[36mFile \u001b[39m\u001b[32m~\\AppData\\Local\\Programs\\Python\\Python313\\Lib\\site-packages\\mysql\\connector\\connection_cext.py:763\u001b[39m, in \u001b[36mCMySQLConnection.cmd_query\u001b[39m\u001b[34m(self, query, raw, buffered, raw_as_string, **kwargs)\u001b[39m\n\u001b[32m    755\u001b[39m     \u001b[38;5;28mself\u001b[39m._cmysql.query(\n\u001b[32m    756\u001b[39m         query,\n\u001b[32m    757\u001b[39m         raw=raw,\n\u001b[32m   (...)\u001b[39m\u001b[32m    760\u001b[39m         query_attrs=\u001b[38;5;28mself\u001b[39m.query_attrs,\n\u001b[32m    761\u001b[39m     )\n\u001b[32m    762\u001b[39m \u001b[38;5;28;01mexcept\u001b[39;00m MySQLInterfaceError \u001b[38;5;28;01mas\u001b[39;00m err:\n\u001b[32m--> \u001b[39m\u001b[32m763\u001b[39m     \u001b[38;5;28;01mraise\u001b[39;00m get_mysql_exception(\n\u001b[32m    764\u001b[39m         err.errno, msg=err.msg, sqlstate=err.sqlstate\n\u001b[32m    765\u001b[39m     ) \u001b[38;5;28;01mfrom\u001b[39;00m\u001b[38;5;250m \u001b[39m\u001b[34;01merr\u001b[39;00m\n\u001b[32m    766\u001b[39m \u001b[38;5;28;01mexcept\u001b[39;00m \u001b[38;5;167;01mAttributeError\u001b[39;00m \u001b[38;5;28;01mas\u001b[39;00m err:\n\u001b[32m    767\u001b[39m     addr = (\n\u001b[32m    768\u001b[39m         \u001b[38;5;28mself\u001b[39m._unix_socket \u001b[38;5;28;01mif\u001b[39;00m \u001b[38;5;28mself\u001b[39m._unix_socket \u001b[38;5;28;01melse\u001b[39;00m \u001b[33mf\u001b[39m\u001b[33m\"\u001b[39m\u001b[38;5;132;01m{\u001b[39;00m\u001b[38;5;28mself\u001b[39m._host\u001b[38;5;132;01m}\u001b[39;00m\u001b[33m:\u001b[39m\u001b[38;5;132;01m{\u001b[39;00m\u001b[38;5;28mself\u001b[39m._port\u001b[38;5;132;01m}\u001b[39;00m\u001b[33m\"\u001b[39m\n\u001b[32m    769\u001b[39m     )\n",
      "\u001b[31mProgrammingError\u001b[39m: 1054 (42S22): Unknown column 'order_id' in 'where clause'"
     ]
    }
   ],
   "source": [
    "# TEST TRIGGER\n",
    "query= \"\"\"\n",
    "INSERT INTO order_items VALUES\n",
    "    (6,2,5,1)\n",
    ";\"\"\"\n",
    "cursor.execute(query)\n",
    "connection.commit()"
   ]
  },
  {
   "cell_type": "code",
   "execution_count": 23,
   "id": "62da3785-4907-435f-931c-3141d31e2307",
   "metadata": {},
   "outputs": [],
   "source": [
    "# TEST TRIGGER\n",
    "query=\"\"\"\n",
    "INSERT INTO products VALUES\n",
    "    (5,'Main', 200)\n",
    ";\"\"\"\n",
    "cursor.execute(query)\n",
    "connection.commit()"
   ]
  },
  {
   "cell_type": "code",
   "execution_count": 24,
   "id": "5ca8c965-5c14-44ce-a459-3d06f9aa6aad",
   "metadata": {},
   "outputs": [
    {
     "ename": "ProgrammingError",
     "evalue": "1054 (42S22): Unknown column 'order_id' in 'where clause'",
     "output_type": "error",
     "traceback": [
      "\u001b[31m---------------------------------------------------------------------------\u001b[39m",
      "\u001b[31mMySQLInterfaceError\u001b[39m                       Traceback (most recent call last)",
      "\u001b[36mFile \u001b[39m\u001b[32m~\\AppData\\Local\\Programs\\Python\\Python313\\Lib\\site-packages\\mysql\\connector\\connection_cext.py:755\u001b[39m, in \u001b[36mCMySQLConnection.cmd_query\u001b[39m\u001b[34m(self, query, raw, buffered, raw_as_string, **kwargs)\u001b[39m\n\u001b[32m    754\u001b[39m         query = query.encode(\u001b[33m\"\u001b[39m\u001b[33mutf-8\u001b[39m\u001b[33m\"\u001b[39m)\n\u001b[32m--> \u001b[39m\u001b[32m755\u001b[39m     \u001b[38;5;28;43mself\u001b[39;49m\u001b[43m.\u001b[49m\u001b[43m_cmysql\u001b[49m\u001b[43m.\u001b[49m\u001b[43mquery\u001b[49m\u001b[43m(\u001b[49m\n\u001b[32m    756\u001b[39m \u001b[43m        \u001b[49m\u001b[43mquery\u001b[49m\u001b[43m,\u001b[49m\n\u001b[32m    757\u001b[39m \u001b[43m        \u001b[49m\u001b[43mraw\u001b[49m\u001b[43m=\u001b[49m\u001b[43mraw\u001b[49m\u001b[43m,\u001b[49m\n\u001b[32m    758\u001b[39m \u001b[43m        \u001b[49m\u001b[43mbuffered\u001b[49m\u001b[43m=\u001b[49m\u001b[43mbuffered\u001b[49m\u001b[43m,\u001b[49m\n\u001b[32m    759\u001b[39m \u001b[43m        \u001b[49m\u001b[43mraw_as_string\u001b[49m\u001b[43m=\u001b[49m\u001b[43mraw_as_string\u001b[49m\u001b[43m,\u001b[49m\n\u001b[32m    760\u001b[39m \u001b[43m        \u001b[49m\u001b[43mquery_attrs\u001b[49m\u001b[43m=\u001b[49m\u001b[38;5;28;43mself\u001b[39;49m\u001b[43m.\u001b[49m\u001b[43mquery_attrs\u001b[49m\u001b[43m,\u001b[49m\n\u001b[32m    761\u001b[39m \u001b[43m    \u001b[49m\u001b[43m)\u001b[49m\n\u001b[32m    762\u001b[39m \u001b[38;5;28;01mexcept\u001b[39;00m MySQLInterfaceError \u001b[38;5;28;01mas\u001b[39;00m err:\n",
      "\u001b[31mMySQLInterfaceError\u001b[39m: Unknown column 'order_id' in 'where clause'",
      "\nThe above exception was the direct cause of the following exception:\n",
      "\u001b[31mProgrammingError\u001b[39m                          Traceback (most recent call last)",
      "\u001b[36mCell\u001b[39m\u001b[36m \u001b[39m\u001b[32mIn[24]\u001b[39m\u001b[32m, line 5\u001b[39m\n\u001b[32m      1\u001b[39m query= \u001b[33m\"\"\"\u001b[39m\n\u001b[32m      2\u001b[39m \u001b[33mINSERT INTO order_items VALUES\u001b[39m\n\u001b[32m      3\u001b[39m \u001b[33m    (6,2,6,1)\u001b[39m\n\u001b[32m      4\u001b[39m \u001b[33m;\u001b[39m\u001b[33m\"\"\"\u001b[39m\n\u001b[32m----> \u001b[39m\u001b[32m5\u001b[39m \u001b[43mcursor\u001b[49m\u001b[43m.\u001b[49m\u001b[43mexecute\u001b[49m\u001b[43m(\u001b[49m\u001b[43mquery\u001b[49m\u001b[43m)\u001b[49m\n\u001b[32m      6\u001b[39m connection.commit()\n",
      "\u001b[36mFile \u001b[39m\u001b[32m~\\AppData\\Local\\Programs\\Python\\Python313\\Lib\\site-packages\\mysql\\connector\\cursor_cext.py:351\u001b[39m, in \u001b[36mCMySQLCursor.execute\u001b[39m\u001b[34m(self, operation, params, map_results)\u001b[39m\n\u001b[32m    343\u001b[39m \u001b[38;5;28mself\u001b[39m._executed = (\n\u001b[32m    344\u001b[39m     \u001b[38;5;28mself\u001b[39m._stmt_partition[\u001b[33m\"\u001b[39m\u001b[33msingle_stmts\u001b[39m\u001b[33m\"\u001b[39m].popleft()\n\u001b[32m    345\u001b[39m     \u001b[38;5;28;01mif\u001b[39;00m map_results\n\u001b[32m    346\u001b[39m     \u001b[38;5;28;01melse\u001b[39;00m \u001b[38;5;28mself\u001b[39m._stmt_partition[\u001b[33m\"\u001b[39m\u001b[33mmappable_stmt\u001b[39m\u001b[33m\"\u001b[39m]\n\u001b[32m    347\u001b[39m )\n\u001b[32m    349\u001b[39m \u001b[38;5;28;01mtry\u001b[39;00m:\n\u001b[32m    350\u001b[39m     \u001b[38;5;28mself\u001b[39m._handle_result(\n\u001b[32m--> \u001b[39m\u001b[32m351\u001b[39m         \u001b[38;5;28;43mself\u001b[39;49m\u001b[43m.\u001b[49m\u001b[43m_connection\u001b[49m\u001b[43m.\u001b[49m\u001b[43mcmd_query\u001b[49m\u001b[43m(\u001b[49m\n\u001b[32m    352\u001b[39m \u001b[43m            \u001b[49m\u001b[38;5;28;43mself\u001b[39;49m\u001b[43m.\u001b[49m\u001b[43m_stmt_partition\u001b[49m\u001b[43m[\u001b[49m\u001b[33;43m\"\u001b[39;49m\u001b[33;43mmappable_stmt\u001b[39;49m\u001b[33;43m\"\u001b[39;49m\u001b[43m]\u001b[49m\u001b[43m,\u001b[49m\n\u001b[32m    353\u001b[39m \u001b[43m            \u001b[49m\u001b[43mraw\u001b[49m\u001b[43m=\u001b[49m\u001b[38;5;28;43mself\u001b[39;49m\u001b[43m.\u001b[49m\u001b[43m_raw\u001b[49m\u001b[43m,\u001b[49m\n\u001b[32m    354\u001b[39m \u001b[43m            \u001b[49m\u001b[43mbuffered\u001b[49m\u001b[43m=\u001b[49m\u001b[38;5;28;43mself\u001b[39;49m\u001b[43m.\u001b[49m\u001b[43m_buffered\u001b[49m\u001b[43m,\u001b[49m\n\u001b[32m    355\u001b[39m \u001b[43m            \u001b[49m\u001b[43mraw_as_string\u001b[49m\u001b[43m=\u001b[49m\u001b[38;5;28;43mself\u001b[39;49m\u001b[43m.\u001b[49m\u001b[43m_raw_as_string\u001b[49m\u001b[43m,\u001b[49m\n\u001b[32m    356\u001b[39m \u001b[43m        \u001b[49m\u001b[43m)\u001b[49m\n\u001b[32m    357\u001b[39m     )\n\u001b[32m    358\u001b[39m \u001b[38;5;28;01mexcept\u001b[39;00m MySQLInterfaceError \u001b[38;5;28;01mas\u001b[39;00m err:\n\u001b[32m    359\u001b[39m     \u001b[38;5;28;01mraise\u001b[39;00m get_mysql_exception(\n\u001b[32m    360\u001b[39m         msg=err.msg, errno=err.errno, sqlstate=err.sqlstate\n\u001b[32m    361\u001b[39m     ) \u001b[38;5;28;01mfrom\u001b[39;00m\u001b[38;5;250m \u001b[39m\u001b[34;01merr\u001b[39;00m\n",
      "\u001b[36mFile \u001b[39m\u001b[32m~\\AppData\\Local\\Programs\\Python\\Python313\\Lib\\site-packages\\mysql\\connector\\opentelemetry\\context_propagation.py:97\u001b[39m, in \u001b[36mwith_context_propagation.<locals>.wrapper\u001b[39m\u001b[34m(cnx, *args, **kwargs)\u001b[39m\n\u001b[32m     95\u001b[39m \u001b[38;5;66;03m# pylint: disable=possibly-used-before-assignment\u001b[39;00m\n\u001b[32m     96\u001b[39m \u001b[38;5;28;01mif\u001b[39;00m \u001b[38;5;129;01mnot\u001b[39;00m OTEL_ENABLED \u001b[38;5;129;01mor\u001b[39;00m \u001b[38;5;129;01mnot\u001b[39;00m cnx.otel_context_propagation:\n\u001b[32m---> \u001b[39m\u001b[32m97\u001b[39m     \u001b[38;5;28;01mreturn\u001b[39;00m \u001b[43mmethod\u001b[49m\u001b[43m(\u001b[49m\u001b[43mcnx\u001b[49m\u001b[43m,\u001b[49m\u001b[43m \u001b[49m\u001b[43m*\u001b[49m\u001b[43margs\u001b[49m\u001b[43m,\u001b[49m\u001b[43m \u001b[49m\u001b[43m*\u001b[49m\u001b[43m*\u001b[49m\u001b[43mkwargs\u001b[49m\u001b[43m)\u001b[49m\n\u001b[32m     99\u001b[39m current_span = trace.get_current_span()\n\u001b[32m    100\u001b[39m tp_header = \u001b[38;5;28;01mNone\u001b[39;00m\n",
      "\u001b[36mFile \u001b[39m\u001b[32m~\\AppData\\Local\\Programs\\Python\\Python313\\Lib\\site-packages\\mysql\\connector\\connection_cext.py:763\u001b[39m, in \u001b[36mCMySQLConnection.cmd_query\u001b[39m\u001b[34m(self, query, raw, buffered, raw_as_string, **kwargs)\u001b[39m\n\u001b[32m    755\u001b[39m     \u001b[38;5;28mself\u001b[39m._cmysql.query(\n\u001b[32m    756\u001b[39m         query,\n\u001b[32m    757\u001b[39m         raw=raw,\n\u001b[32m   (...)\u001b[39m\u001b[32m    760\u001b[39m         query_attrs=\u001b[38;5;28mself\u001b[39m.query_attrs,\n\u001b[32m    761\u001b[39m     )\n\u001b[32m    762\u001b[39m \u001b[38;5;28;01mexcept\u001b[39;00m MySQLInterfaceError \u001b[38;5;28;01mas\u001b[39;00m err:\n\u001b[32m--> \u001b[39m\u001b[32m763\u001b[39m     \u001b[38;5;28;01mraise\u001b[39;00m get_mysql_exception(\n\u001b[32m    764\u001b[39m         err.errno, msg=err.msg, sqlstate=err.sqlstate\n\u001b[32m    765\u001b[39m     ) \u001b[38;5;28;01mfrom\u001b[39;00m\u001b[38;5;250m \u001b[39m\u001b[34;01merr\u001b[39;00m\n\u001b[32m    766\u001b[39m \u001b[38;5;28;01mexcept\u001b[39;00m \u001b[38;5;167;01mAttributeError\u001b[39;00m \u001b[38;5;28;01mas\u001b[39;00m err:\n\u001b[32m    767\u001b[39m     addr = (\n\u001b[32m    768\u001b[39m         \u001b[38;5;28mself\u001b[39m._unix_socket \u001b[38;5;28;01mif\u001b[39;00m \u001b[38;5;28mself\u001b[39m._unix_socket \u001b[38;5;28;01melse\u001b[39;00m \u001b[33mf\u001b[39m\u001b[33m\"\u001b[39m\u001b[38;5;132;01m{\u001b[39;00m\u001b[38;5;28mself\u001b[39m._host\u001b[38;5;132;01m}\u001b[39;00m\u001b[33m:\u001b[39m\u001b[38;5;132;01m{\u001b[39;00m\u001b[38;5;28mself\u001b[39m._port\u001b[38;5;132;01m}\u001b[39;00m\u001b[33m\"\u001b[39m\n\u001b[32m    769\u001b[39m     )\n",
      "\u001b[31mProgrammingError\u001b[39m: 1054 (42S22): Unknown column 'order_id' in 'where clause'"
     ]
    }
   ],
   "source": [
    "query= \"\"\"\n",
    "INSERT INTO order_items VALUES\n",
    "    (6,2,6,1)\n",
    ";\"\"\"\n",
    "cursor.execute(query)\n",
    "connection.commit()"
   ]
  },
  {
   "cell_type": "code",
   "execution_count": null,
   "id": "d46b65ef-0059-4a51-ae03-85cce24b7ece",
   "metadata": {},
   "outputs": [],
   "source": [
    "query=\"\"\"\n",
    "SELECT * FROM update_product_logs\n",
    ";\"\"\"\n",
    "\n",
    "cursor.execute(query)\n",
    "result= cursor.fetchall()\n",
    "for row in result:\n",
    "    print(row)"
   ]
  },
  {
   "cell_type": "code",
   "execution_count": 27,
   "id": "e00c0cc0-1ce9-49bb-a3f9-5a725c858701",
   "metadata": {},
   "outputs": [],
   "source": [
    "# Tạo trigger BEFORE UPDATE trên bảng products để huỷ cập nhật nếu giá mới vượt quá 1000\n",
    "query = \"\"\"\n",
    "CREATE TABLE prevent_price_products_logs(\n",
    "    id INT AUTO_INCREMENT PRIMARY KEY,\n",
    "    log_message TEXT,\n",
    "    created_at TIMESTAMP DEFAULT CURRENT_TIMESTAMP)\n",
    ";\"\"\"\n",
    "cursor.execute(query)\n"
   ]
  },
  {
   "cell_type": "code",
   "execution_count": 28,
   "id": "8ea49fbb-0a06-4520-844e-7b3a44c0ff06",
   "metadata": {},
   "outputs": [],
   "source": [
    "query=\"\"\"\n",
    "CREATE TRIGGER prevent_price_products \n",
    "BEFORE UPDATE ON products \n",
    "FOR EACH ROW\n",
    "BEGIN\n",
    "   IF NEW.price >1000 THEN\n",
    "       SIGNAL SQLSTATE '45000'\n",
    "       SET MESSAGE_TEXT= 'Price too hight';\n",
    "    END IF;\n",
    "\n",
    "    INSERT INTO prevent_price_products_logs(log_message) VALUES\n",
    "        (CONCAT('Product ID:', NEW.id, '- Old Price:', OLD.price, '- New Price:', NEW.price));\n",
    "END\n",
    ";\"\"\"\n",
    "cursor.execute(query)\n",
    "connection.commit()"
   ]
  },
  {
   "cell_type": "code",
   "execution_count": 29,
   "id": "e3b0f3a1-0af2-48e0-8565-189638dbe838",
   "metadata": {},
   "outputs": [],
   "source": [
    "# TEST TRIGGER\n",
    "\n",
    "query=\"\"\"\n",
    "UPDATE products\n",
    "SET price = 55\n",
    "WHERE id = 2;\"\"\"\n",
    "cursor.execute(query)\n",
    "connection.commit()\n"
   ]
  },
  {
   "cell_type": "code",
   "execution_count": 30,
   "id": "01f78b81-bdec-43b9-8bdc-82573a38f2d5",
   "metadata": {},
   "outputs": [
    {
     "name": "stdout",
     "output_type": "stream",
     "text": [
      "(1, 'Product ID:2- Old Price:50- New Price:55', datetime.datetime(2025, 4, 14, 16, 48, 12))\n"
     ]
    }
   ],
   "source": [
    "query = \"SELECT * FROM prevent_price_products_logs\"\n",
    "cursor.execute(query)\n",
    "result= cursor.fetchall()\n",
    "for row in result:\n",
    "    print(row)"
   ]
  },
  {
   "cell_type": "code",
   "execution_count": 32,
   "id": "893838f4-1ae5-40d5-972b-f6c3ddedf76b",
   "metadata": {},
   "outputs": [],
   "source": [
    "# Mỗi khi xoá khách hàng, ghi lại thông tin vào bảng customers_deleted để lưu trữ\n",
    "\n",
    "query= \"\"\"\n",
    "CREATE TABLE customers_deleted_logs(\n",
    "    id INT,\n",
    "    name VARCHAR(50),\n",
    "    city VARCHAR(50),\n",
    "    deleted_at TIMESTAMP DEFAULT CURRENT_TIMESTAMP)\n",
    ";\"\"\"\n",
    "cursor.execute(query)"
   ]
  },
  {
   "cell_type": "code",
   "execution_count": 33,
   "id": "143b6e8d-8c91-48aa-811d-f932a050c3c9",
   "metadata": {},
   "outputs": [],
   "source": [
    "query=\"\"\"\n",
    "CREATE TRIGGER customers_deleted\n",
    "BEFORE DELETE ON customers\n",
    "FOR EACH ROW \n",
    "BEGIN\n",
    "    INSERT INTO customers_deleted_logs(id, name, city) \n",
    "    VALUES(OLD.id, OLD.name, OLD.city);\n",
    "END\n",
    ";\"\"\"\n",
    "cursor.execute(query)\n",
    "connection.commit()"
   ]
  },
  {
   "cell_type": "code",
   "execution_count": 34,
   "id": "68b0d643-c002-4c1d-9a88-c4c414d834c4",
   "metadata": {},
   "outputs": [],
   "source": [
    "# TEST TRIGGER\n",
    "query=\"DELETE FROM orders WHERE customer_id = 1;\"\"\"\n",
    "cursor.execute(query)\n"
   ]
  },
  {
   "cell_type": "code",
   "execution_count": 35,
   "id": "165e2938-1f4a-4b22-9310-6a5953e09dd5",
   "metadata": {},
   "outputs": [],
   "source": [
    "query=\"DELETE FROM customers WHERE id = 1;\"\"\"\n",
    "cursor.execute(query)"
   ]
  },
  {
   "cell_type": "code",
   "execution_count": 36,
   "id": "a112a8e2-7fcd-4057-98c8-389a39ead282",
   "metadata": {},
   "outputs": [
    {
     "name": "stdout",
     "output_type": "stream",
     "text": [
      "(1, 'Alice', 'Hanoi', datetime.datetime(2025, 4, 14, 17, 19, 7))\n"
     ]
    }
   ],
   "source": [
    "query=\"SELECT * FROM customers_deleted_logs;\"\"\"\n",
    "cursor.execute(query)\n",
    "result=cursor.fetchall()\n",
    "for row in result:\n",
    "    print(row)"
   ]
  },
  {
   "cell_type": "code",
   "execution_count": 37,
   "id": "b1b1a0f5-2175-499d-9601-a453e892ae24",
   "metadata": {},
   "outputs": [],
   "source": [
    "# Ghi log vào bảng order_alerts khi khách hàng từ “Hanoi” đặt đơn hàng có tổng lớn hơn 1000\n",
    "query=\"\"\"\n",
    "CREATE TABLE IF NOT EXISTS order_alerts_logs(\n",
    "    id INT AUTO_INCREMENT PRIMARY KEY,\n",
    "    alert_message TEXT,\n",
    "    created_at TIMESTAMP DEFAULT CURRENT_TIMESTAMP)\n",
    ";\"\"\"\n",
    "cursor.execute(query)"
   ]
  },
  {
   "cell_type": "code",
   "execution_count": 38,
   "id": "32545621-a6e0-4b2d-a4a4-5d4b52c3bc34",
   "metadata": {},
   "outputs": [],
   "source": [
    "query= \"\"\"\n",
    "CREATE TRIGGER order_alerts\n",
    "AFTER INSERT ON orders\n",
    "FOR EACH ROW\n",
    "BEGIN\n",
    "    IF NEW.total>1000 AND\n",
    "        (SELECT city FROM customers WHERE id= NEW.customer_id) = \"Hanoi\"\n",
    "        THEN \n",
    "        INSERT INTO order_alerts_logs(alert_message) VALUES\n",
    "        (CONCAT('Alert: High value order by Hanoi customer ID:', NEW.customer_id, 'Total:', NEW.total));\n",
    "    END IF;\n",
    "END\n",
    ";\"\"\"\n",
    "\n",
    "cursor.execute(query)\n"
   ]
  },
  {
   "cell_type": "code",
   "execution_count": 39,
   "id": "d916ccbf-96fe-4c60-8dc5-4a0a4704c90e",
   "metadata": {},
   "outputs": [],
   "source": [
    "# TEST TRIGGER\n",
    "query= \"\"\"\n",
    "INSERT INTO orders(id, customer_id, order_date, total) VALUES\n",
    "    (7,4,'2024-10-30', 1100)\n",
    ";\"\"\"\n",
    "cursor.execute(query)\n"
   ]
  },
  {
   "cell_type": "code",
   "execution_count": 40,
   "id": "624d2fd2-e7bd-477a-b5a3-d3b4833b6081",
   "metadata": {},
   "outputs": [],
   "source": [
    "query=\"SELECT * FROM order_alerts_logs;\"\n",
    "cursor.execute(query)\n",
    "result=cursor.fetchall()\n",
    "for row in result:\n",
    "    print(row)"
   ]
  },
  {
   "cell_type": "code",
   "execution_count": 41,
   "id": "757fee70-4ee6-4b5a-89e5-5a2a1d8aac85",
   "metadata": {},
   "outputs": [],
   "source": [
    "# TEST TRIGGER\n",
    "query= \"\"\"\n",
    "INSERT INTO orders(id, customer_id, order_date, total) VALUES\n",
    "    (8,3,'2024-10-30', 1300)\n",
    ";\"\"\"\n",
    "cursor.execute(query)"
   ]
  },
  {
   "cell_type": "code",
   "execution_count": 42,
   "id": "d536eefb-c405-47f8-bb94-2ba5bf949859",
   "metadata": {},
   "outputs": [
    {
     "name": "stdout",
     "output_type": "stream",
     "text": [
      "(1, 'Alert: High value order by Hanoi customer ID:3Total:1300', datetime.datetime(2025, 4, 14, 18, 3, 36))\n"
     ]
    }
   ],
   "source": [
    "query=\"SELECT * FROM order_alerts_logs;\"\n",
    "cursor.execute(query)\n",
    "result=cursor.fetchall()\n",
    "for row in result:\n",
    "    print(row)"
   ]
  },
  {
   "cell_type": "code",
   "execution_count": null,
   "id": "3e71f14b-e400-44d6-b742-3d15fdee4d06",
   "metadata": {},
   "outputs": [],
   "source": []
  }
 ],
 "metadata": {
  "kernelspec": {
   "display_name": "Python 3 (ipykernel)",
   "language": "python",
   "name": "python3"
  },
  "language_info": {
   "codemirror_mode": {
    "name": "ipython",
    "version": 3
   },
   "file_extension": ".py",
   "mimetype": "text/x-python",
   "name": "python",
   "nbconvert_exporter": "python",
   "pygments_lexer": "ipython3",
   "version": "3.13.2"
  }
 },
 "nbformat": 4,
 "nbformat_minor": 5
}
