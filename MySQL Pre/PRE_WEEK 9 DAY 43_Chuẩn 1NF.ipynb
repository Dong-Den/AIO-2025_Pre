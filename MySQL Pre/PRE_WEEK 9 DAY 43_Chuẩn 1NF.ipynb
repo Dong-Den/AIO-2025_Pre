{
 "cells": [
  {
   "cell_type": "code",
   "execution_count": 1,
   "id": "1cf0c6c0-4650-4fd3-8273-29c56e1676a0",
   "metadata": {},
   "outputs": [],
   "source": [
    "import mysql.connector \n",
    "\n",
    "connection = mysql.connector.connect(\n",
    "    host=\"127.0.0.1\",     \n",
    "    user=\"root\",         \n",
    "    password=\"2011DongBaLiem@\",\n",
    "    database=\"chuanhoacsdl\")\n",
    "cursor = connection.cursor()"
   ]
  },
  {
   "cell_type": "code",
   "execution_count": 6,
   "id": "7b5c2e68-0d5f-4b98-88dc-a4565767417d",
   "metadata": {},
   "outputs": [],
   "source": [
    "cursor.execute(\"\"\" \n",
    "create table if not exists Customers(\n",
    "    transaction_id int primary key,\n",
    "    customer_name varchar(100) not null,\n",
    "    transaction_date DATE not null)ENGINE=INNODB;  \n",
    "\"\"\")\n",
    "\n",
    "cursor.execute(\"\"\" \n",
    "create table if not exists CustomerStocks(\n",
    "    transaction_id int not null,\n",
    "    stock_code varchar(10) not null,\n",
    "    PRIMARY KEY (transaction_id, stock_code),\n",
    "    FOREIGN KEY(transaction_id) REFERENCES Customers(transaction_id) ) ENGINE = InnoDB;\n",
    "\"\"\")\n",
    "connection.commit()"
   ]
  },
  {
   "cell_type": "code",
   "execution_count": 7,
   "id": "c4acfb89-8b9c-4bed-ab8f-0e43aa7ee0e7",
   "metadata": {},
   "outputs": [
    {
     "name": "stdout",
     "output_type": "stream",
     "text": [
      "Dữ liệu đã chèn thành công!\n"
     ]
    }
   ],
   "source": [
    "try:\n",
    "    cursor.execute(\"\"\" \n",
    "    INSERT INTO Customers (transaction_id, customer_name , transaction_date)\n",
    "    VALUES\n",
    "        (1,'Nguyen Van A', '2024-12-01'),\n",
    "        (2, 'Le Thi B', '2024-12-02'),\n",
    "        (3, 'Tran Van C', '2024-12-03');\n",
    "    \"\"\")\n",
    "    cursor.execute(\"\"\"\n",
    "    INSERT INTO CustomerStocks (transaction_id, stock_code)\n",
    "    VALUES\n",
    "        (1,'VNM'), (1,'FPT'), (1,'MWG'),\n",
    "        (2,'SSI'),\n",
    "        (3, 'VCB'), (3, 'TCB');\n",
    "    \"\"\")\n",
    "    connection.commit()\n",
    "    print(\"Dữ liệu đã chèn thành công!\")\n",
    "\n",
    "except Exception as e:\n",
    "    connection.rollback()\n",
    "    print(\"Lỗi xảy ra:\", e)"
   ]
  },
  {
   "cell_type": "code",
   "execution_count": 9,
   "id": "9deb06ec-3368-4e3e-a48e-e975ca65be9a",
   "metadata": {},
   "outputs": [
    {
     "name": "stderr",
     "output_type": "stream",
     "text": [
      "C:\\Users\\LENOVO\\AppData\\Local\\Temp\\ipykernel_14444\\3031454694.py:8: UserWarning: pandas only supports SQLAlchemy connectable (engine/connection) or database string URI or sqlite3 DBAPI2 connection. Other DBAPI2 objects are not tested. Please consider using SQLAlchemy.\n",
      "  data=pd.read_sql_query(query, connection)\n"
     ]
    },
    {
     "data": {
      "text/html": [
       "<div>\n",
       "<style scoped>\n",
       "    .dataframe tbody tr th:only-of-type {\n",
       "        vertical-align: middle;\n",
       "    }\n",
       "\n",
       "    .dataframe tbody tr th {\n",
       "        vertical-align: top;\n",
       "    }\n",
       "\n",
       "    .dataframe thead th {\n",
       "        text-align: right;\n",
       "    }\n",
       "</style>\n",
       "<table border=\"1\" class=\"dataframe\">\n",
       "  <thead>\n",
       "    <tr style=\"text-align: right;\">\n",
       "      <th></th>\n",
       "      <th>customer_name</th>\n",
       "      <th>transaction_date</th>\n",
       "      <th>stock_code</th>\n",
       "    </tr>\n",
       "  </thead>\n",
       "  <tbody>\n",
       "    <tr>\n",
       "      <th>0</th>\n",
       "      <td>Nguyen Van A</td>\n",
       "      <td>2024-12-01</td>\n",
       "      <td>FPT</td>\n",
       "    </tr>\n",
       "    <tr>\n",
       "      <th>1</th>\n",
       "      <td>Nguyen Van A</td>\n",
       "      <td>2024-12-01</td>\n",
       "      <td>MWG</td>\n",
       "    </tr>\n",
       "    <tr>\n",
       "      <th>2</th>\n",
       "      <td>Nguyen Van A</td>\n",
       "      <td>2024-12-01</td>\n",
       "      <td>VNM</td>\n",
       "    </tr>\n",
       "    <tr>\n",
       "      <th>3</th>\n",
       "      <td>Le Thi B</td>\n",
       "      <td>2024-12-02</td>\n",
       "      <td>SSI</td>\n",
       "    </tr>\n",
       "    <tr>\n",
       "      <th>4</th>\n",
       "      <td>Tran Van C</td>\n",
       "      <td>2024-12-03</td>\n",
       "      <td>TCB</td>\n",
       "    </tr>\n",
       "    <tr>\n",
       "      <th>5</th>\n",
       "      <td>Tran Van C</td>\n",
       "      <td>2024-12-03</td>\n",
       "      <td>VCB</td>\n",
       "    </tr>\n",
       "  </tbody>\n",
       "</table>\n",
       "</div>"
      ],
      "text/plain": [
       "  customer_name transaction_date stock_code\n",
       "0  Nguyen Van A       2024-12-01        FPT\n",
       "1  Nguyen Van A       2024-12-01        MWG\n",
       "2  Nguyen Van A       2024-12-01        VNM\n",
       "3      Le Thi B       2024-12-02        SSI\n",
       "4    Tran Van C       2024-12-03        TCB\n",
       "5    Tran Van C       2024-12-03        VCB"
      ]
     },
     "execution_count": 9,
     "metadata": {},
     "output_type": "execute_result"
    }
   ],
   "source": [
    "#Truy vấn danh sách KH và các mã cổ phiếu tương ứng mà họ đã giao dịch\n",
    "import pandas as pd\n",
    "query=\"\"\"\n",
    "select c.customer_name, c.transaction_date, s.stock_code\n",
    "FROM Customers c\n",
    "JOIN CustomerStocks s ON c.transaction_id = s.transaction_id; \"\"\"\n",
    "connection.commit()\n",
    "data=pd.read_sql_query(query, connection)\n",
    "data"
   ]
  },
  {
   "cell_type": "code",
   "execution_count": 10,
   "id": "74c032a7-d4fd-4365-acc3-545e0e67caf2",
   "metadata": {},
   "outputs": [],
   "source": [
    "# cập nhật tên khách hàng Nguyen Van A thành Nguyen V. A.\n",
    "cursor.execute(\"\"\" \n",
    "UPDATE Customers \n",
    "SET customer_name= 'Nguyen V. A'\n",
    "where 1=1\n",
    "AND customer_name= 'Nguyen Van A';\n",
    "\"\"\")\n",
    "connection.commit()"
   ]
  },
  {
   "cell_type": "code",
   "execution_count": 11,
   "id": "0fccc125-6cfa-4af5-b198-1ebf3fc871ab",
   "metadata": {},
   "outputs": [
    {
     "name": "stderr",
     "output_type": "stream",
     "text": [
      "C:\\Users\\LENOVO\\AppData\\Local\\Temp\\ipykernel_14444\\3552315168.py:2: UserWarning: pandas only supports SQLAlchemy connectable (engine/connection) or database string URI or sqlite3 DBAPI2 connection. Other DBAPI2 objects are not tested. Please consider using SQLAlchemy.\n",
      "  data=pd.read_sql_query(query, connection)\n"
     ]
    },
    {
     "data": {
      "text/html": [
       "<div>\n",
       "<style scoped>\n",
       "    .dataframe tbody tr th:only-of-type {\n",
       "        vertical-align: middle;\n",
       "    }\n",
       "\n",
       "    .dataframe tbody tr th {\n",
       "        vertical-align: top;\n",
       "    }\n",
       "\n",
       "    .dataframe thead th {\n",
       "        text-align: right;\n",
       "    }\n",
       "</style>\n",
       "<table border=\"1\" class=\"dataframe\">\n",
       "  <thead>\n",
       "    <tr style=\"text-align: right;\">\n",
       "      <th></th>\n",
       "      <th>transaction_id</th>\n",
       "      <th>customer_name</th>\n",
       "      <th>transaction_date</th>\n",
       "    </tr>\n",
       "  </thead>\n",
       "  <tbody>\n",
       "    <tr>\n",
       "      <th>0</th>\n",
       "      <td>1</td>\n",
       "      <td>Nguyen V. A</td>\n",
       "      <td>2024-12-01</td>\n",
       "    </tr>\n",
       "    <tr>\n",
       "      <th>1</th>\n",
       "      <td>2</td>\n",
       "      <td>Le Thi B</td>\n",
       "      <td>2024-12-02</td>\n",
       "    </tr>\n",
       "    <tr>\n",
       "      <th>2</th>\n",
       "      <td>3</td>\n",
       "      <td>Tran Van C</td>\n",
       "      <td>2024-12-03</td>\n",
       "    </tr>\n",
       "  </tbody>\n",
       "</table>\n",
       "</div>"
      ],
      "text/plain": [
       "   transaction_id customer_name transaction_date\n",
       "0               1   Nguyen V. A       2024-12-01\n",
       "1               2      Le Thi B       2024-12-02\n",
       "2               3    Tran Van C       2024-12-03"
      ]
     },
     "execution_count": 11,
     "metadata": {},
     "output_type": "execute_result"
    }
   ],
   "source": [
    "query=\"\"\" select * from Customers; \"\"\"\n",
    "data=pd.read_sql_query(query, connection)\n",
    "data"
   ]
  },
  {
   "cell_type": "code",
   "execution_count": 14,
   "id": "5ccca7fa-d05b-4396-a751-0bf2871bf2ef",
   "metadata": {},
   "outputs": [
    {
     "name": "stdout",
     "output_type": "stream",
     "text": [
      "Đã xóa mã MWG khỏi giao dịch của Nguyen V. A.\n"
     ]
    }
   ],
   "source": [
    "# Xóa mã cổ phiếu MWG khỏi giao dịch của khách hàng Nguyen V. A\n",
    "\n",
    "cursor.execute(\"\"\"\n",
    "DELETE FROM CustomerStocks \n",
    "WHERE transaction_id = (SELECT transaction_id FROM Customers WHERE customer_name = 'Nguyen V. A') \n",
    "AND stock_code = 'MWG';\n",
    "\"\"\")\n",
    "connection.commit()\n",
    "print(\"Đã xóa mã MWG khỏi giao dịch của Nguyen V. A.\")"
   ]
  },
  {
   "cell_type": "code",
   "execution_count": 15,
   "id": "da9c9594-c96e-4da5-8e22-d4999d22af71",
   "metadata": {},
   "outputs": [
    {
     "name": "stderr",
     "output_type": "stream",
     "text": [
      "C:\\Users\\LENOVO\\AppData\\Local\\Temp\\ipykernel_14444\\3812986712.py:2: UserWarning: pandas only supports SQLAlchemy connectable (engine/connection) or database string URI or sqlite3 DBAPI2 connection. Other DBAPI2 objects are not tested. Please consider using SQLAlchemy.\n",
      "  data=pd.read_sql_query(query, connection)\n"
     ]
    },
    {
     "data": {
      "text/html": [
       "<div>\n",
       "<style scoped>\n",
       "    .dataframe tbody tr th:only-of-type {\n",
       "        vertical-align: middle;\n",
       "    }\n",
       "\n",
       "    .dataframe tbody tr th {\n",
       "        vertical-align: top;\n",
       "    }\n",
       "\n",
       "    .dataframe thead th {\n",
       "        text-align: right;\n",
       "    }\n",
       "</style>\n",
       "<table border=\"1\" class=\"dataframe\">\n",
       "  <thead>\n",
       "    <tr style=\"text-align: right;\">\n",
       "      <th></th>\n",
       "      <th>transaction_id</th>\n",
       "      <th>stock_code</th>\n",
       "    </tr>\n",
       "  </thead>\n",
       "  <tbody>\n",
       "    <tr>\n",
       "      <th>0</th>\n",
       "      <td>1</td>\n",
       "      <td>FPT</td>\n",
       "    </tr>\n",
       "    <tr>\n",
       "      <th>1</th>\n",
       "      <td>1</td>\n",
       "      <td>VNM</td>\n",
       "    </tr>\n",
       "    <tr>\n",
       "      <th>2</th>\n",
       "      <td>2</td>\n",
       "      <td>SSI</td>\n",
       "    </tr>\n",
       "    <tr>\n",
       "      <th>3</th>\n",
       "      <td>3</td>\n",
       "      <td>TCB</td>\n",
       "    </tr>\n",
       "    <tr>\n",
       "      <th>4</th>\n",
       "      <td>3</td>\n",
       "      <td>VCB</td>\n",
       "    </tr>\n",
       "  </tbody>\n",
       "</table>\n",
       "</div>"
      ],
      "text/plain": [
       "   transaction_id stock_code\n",
       "0               1        FPT\n",
       "1               1        VNM\n",
       "2               2        SSI\n",
       "3               3        TCB\n",
       "4               3        VCB"
      ]
     },
     "execution_count": 15,
     "metadata": {},
     "output_type": "execute_result"
    }
   ],
   "source": [
    "query=\"\"\" select * from CustomerStocks; \"\"\"\n",
    "data=pd.read_sql_query(query, connection)\n",
    "data"
   ]
  },
  {
   "cell_type": "code",
   "execution_count": 16,
   "id": "822842c4-28c9-41ac-9def-ebb0cff4b7d7",
   "metadata": {},
   "outputs": [
    {
     "name": "stderr",
     "output_type": "stream",
     "text": [
      "C:\\Users\\LENOVO\\AppData\\Local\\Temp\\ipykernel_14444\\3852820089.py:10: UserWarning: pandas only supports SQLAlchemy connectable (engine/connection) or database string URI or sqlite3 DBAPI2 connection. Other DBAPI2 objects are not tested. Please consider using SQLAlchemy.\n",
      "  data = pd.read_sql_query(query,connection)\n"
     ]
    },
    {
     "data": {
      "text/html": [
       "<div>\n",
       "<style scoped>\n",
       "    .dataframe tbody tr th:only-of-type {\n",
       "        vertical-align: middle;\n",
       "    }\n",
       "\n",
       "    .dataframe tbody tr th {\n",
       "        vertical-align: top;\n",
       "    }\n",
       "\n",
       "    .dataframe thead th {\n",
       "        text-align: right;\n",
       "    }\n",
       "</style>\n",
       "<table border=\"1\" class=\"dataframe\">\n",
       "  <thead>\n",
       "    <tr style=\"text-align: right;\">\n",
       "      <th></th>\n",
       "      <th>customer_name</th>\n",
       "      <th>stock_code</th>\n",
       "      <th>count(s.stock_code)</th>\n",
       "    </tr>\n",
       "  </thead>\n",
       "  <tbody>\n",
       "    <tr>\n",
       "      <th>0</th>\n",
       "      <td>Nguyen V. A</td>\n",
       "      <td>FPT</td>\n",
       "      <td>1</td>\n",
       "    </tr>\n",
       "    <tr>\n",
       "      <th>1</th>\n",
       "      <td>Nguyen V. A</td>\n",
       "      <td>VNM</td>\n",
       "      <td>1</td>\n",
       "    </tr>\n",
       "    <tr>\n",
       "      <th>2</th>\n",
       "      <td>Le Thi B</td>\n",
       "      <td>SSI</td>\n",
       "      <td>1</td>\n",
       "    </tr>\n",
       "    <tr>\n",
       "      <th>3</th>\n",
       "      <td>Tran Van C</td>\n",
       "      <td>TCB</td>\n",
       "      <td>1</td>\n",
       "    </tr>\n",
       "    <tr>\n",
       "      <th>4</th>\n",
       "      <td>Tran Van C</td>\n",
       "      <td>VCB</td>\n",
       "      <td>1</td>\n",
       "    </tr>\n",
       "  </tbody>\n",
       "</table>\n",
       "</div>"
      ],
      "text/plain": [
       "  customer_name stock_code  count(s.stock_code)\n",
       "0   Nguyen V. A        FPT                    1\n",
       "1   Nguyen V. A        VNM                    1\n",
       "2      Le Thi B        SSI                    1\n",
       "3    Tran Van C        TCB                    1\n",
       "4    Tran Van C        VCB                    1"
      ]
     },
     "execution_count": 16,
     "metadata": {},
     "output_type": "execute_result"
    }
   ],
   "source": [
    "# Truy vân Đếm số lượng mã cổ phiếu mỗi KH đã giao dịch\n",
    "\n",
    "query=\"\"\" \n",
    "SELECT c.customer_name, s.stock_code, count(s.stock_code)\n",
    "FROM Customers c\n",
    "JOIN CustomerStocks s ON c.transaction_id = s.transaction_id\n",
    "GROUP BY c.customer_name, s.stock_code;\n",
    "\"\"\"\n",
    "connection.commit()\n",
    "data = pd.read_sql_query(query,connection)\n",
    "data"
   ]
  },
  {
   "cell_type": "code",
   "execution_count": 17,
   "id": "555dc002-afc8-4418-b8de-d413c9b9e4c0",
   "metadata": {},
   "outputs": [
    {
     "name": "stderr",
     "output_type": "stream",
     "text": [
      "C:\\Users\\LENOVO\\AppData\\Local\\Temp\\ipykernel_14444\\1479006604.py:11: UserWarning: pandas only supports SQLAlchemy connectable (engine/connection) or database string URI or sqlite3 DBAPI2 connection. Other DBAPI2 objects are not tested. Please consider using SQLAlchemy.\n",
      "  data = pd.read_sql_query(query,connection)\n"
     ]
    },
    {
     "data": {
      "text/html": [
       "<div>\n",
       "<style scoped>\n",
       "    .dataframe tbody tr th:only-of-type {\n",
       "        vertical-align: middle;\n",
       "    }\n",
       "\n",
       "    .dataframe tbody tr th {\n",
       "        vertical-align: top;\n",
       "    }\n",
       "\n",
       "    .dataframe thead th {\n",
       "        text-align: right;\n",
       "    }\n",
       "</style>\n",
       "<table border=\"1\" class=\"dataframe\">\n",
       "  <thead>\n",
       "    <tr style=\"text-align: right;\">\n",
       "      <th></th>\n",
       "      <th>customer_name</th>\n",
       "      <th>count_stock</th>\n",
       "    </tr>\n",
       "  </thead>\n",
       "  <tbody>\n",
       "    <tr>\n",
       "      <th>0</th>\n",
       "      <td>Nguyen V. A</td>\n",
       "      <td>2</td>\n",
       "    </tr>\n",
       "    <tr>\n",
       "      <th>1</th>\n",
       "      <td>Tran Van C</td>\n",
       "      <td>2</td>\n",
       "    </tr>\n",
       "    <tr>\n",
       "      <th>2</th>\n",
       "      <td>Le Thi B</td>\n",
       "      <td>1</td>\n",
       "    </tr>\n",
       "  </tbody>\n",
       "</table>\n",
       "</div>"
      ],
      "text/plain": [
       "  customer_name  count_stock\n",
       "0   Nguyen V. A            2\n",
       "1    Tran Van C            2\n",
       "2      Le Thi B            1"
      ]
     },
     "execution_count": 17,
     "metadata": {},
     "output_type": "execute_result"
    }
   ],
   "source": [
    "#Truy vấn tìm KH có giao dịch nhiều mã cổ phiếu nhất\n",
    "\n",
    "query=\"\"\"\n",
    "SELECT c.customer_name, count(s.stock_code) as count_stock\n",
    "FROM Customers c\n",
    "JOIN CustomerStocks s ON c.transaction_id = s.transaction_id\n",
    "GROUP BY c.customer_name\n",
    "ORDER BY count_stock DESC\n",
    "\"\"\"\n",
    "connection.commit()\n",
    "data = pd.read_sql_query(query,connection)\n",
    "data"
   ]
  },
  {
   "cell_type": "code",
   "execution_count": null,
   "id": "92c24d00-d065-43f4-814d-1b2b699a995f",
   "metadata": {},
   "outputs": [],
   "source": []
  }
 ],
 "metadata": {
  "kernelspec": {
   "display_name": "Python 3 (ipykernel)",
   "language": "python",
   "name": "python3"
  },
  "language_info": {
   "codemirror_mode": {
    "name": "ipython",
    "version": 3
   },
   "file_extension": ".py",
   "mimetype": "text/x-python",
   "name": "python",
   "nbconvert_exporter": "python",
   "pygments_lexer": "ipython3",
   "version": "3.13.2"
  }
 },
 "nbformat": 4,
 "nbformat_minor": 5
}
