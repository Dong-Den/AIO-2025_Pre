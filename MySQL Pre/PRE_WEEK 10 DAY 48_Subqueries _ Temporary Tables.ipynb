{
 "cells": [
  {
   "cell_type": "code",
   "execution_count": 1,
   "id": "1bca5ce3-b534-4a3b-93f3-2dbca224f565",
   "metadata": {},
   "outputs": [
    {
     "name": "stdout",
     "output_type": "stream",
     "text": [
      "Requirement already satisfied: mysql-connector-python in c:\\users\\lenovo\\appdata\\local\\programs\\python\\python313\\lib\\site-packages (9.2.0)\n"
     ]
    }
   ],
   "source": [
    "!pip install mysql-connector-python"
   ]
  },
  {
   "cell_type": "code",
   "execution_count": 2,
   "id": "75372a04-71a2-4437-80bc-819ecc19df00",
   "metadata": {},
   "outputs": [],
   "source": [
    "import mysql.connector  \n",
    "\n",
    "connection = mysql.connector.connect(\n",
    "    host=\"127.0.0.1\",     \n",
    "    user=\"root\",         \n",
    "    password=\"2011DongBaLiem@\",\n",
    "    database=\"preday48\")\n",
    "cursor = connection.cursor()"
   ]
  },
  {
   "cell_type": "code",
   "execution_count": 3,
   "id": "ea0c00b4-e698-4e11-ae78-cbc033b9d7b5",
   "metadata": {},
   "outputs": [],
   "source": [
    "import pandas as pd"
   ]
  },
  {
   "cell_type": "code",
   "execution_count": 5,
   "id": "929661e5-6d6d-4362-afcb-695ba9b81933",
   "metadata": {},
   "outputs": [],
   "source": [
    "cursor.execute(\"\"\"\n",
    "CREATE TABLE IF NOT EXISTS customers(\n",
    "    id INT PRIMARY KEY,\n",
    "    name VARCHAR(100),\n",
    "    city VARCHAR(100)\n",
    ") ENGINE=InnoDB;\n",
    "\"\"\")"
   ]
  },
  {
   "cell_type": "code",
   "execution_count": 6,
   "id": "9ff2432d-40f4-4561-b3ed-52bee44febc4",
   "metadata": {},
   "outputs": [],
   "source": [
    "cursor.execute(\"\"\"\n",
    "INSERT INTO customers VALUES\n",
    "    (1, 'Alice', 'Hanoi'),\n",
    "    (2, 'Bob', 'Ho Chi Minh'),\n",
    "    (3, 'Charlie', 'Hanoi')\n",
    ";\n",
    "\"\"\") \n",
    "connection.commit()"
   ]
  },
  {
   "cell_type": "code",
   "execution_count": 7,
   "id": "9796f57d-0b18-45a1-a02e-dd76878d19e8",
   "metadata": {},
   "outputs": [],
   "source": [
    "cursor.execute(\"\"\"\n",
    "CREATE TABLE IF NOT EXISTS orders(\n",
    "    id INT PRIMARY KEY,\n",
    "    customer_id INT,\n",
    "    order_date DATE,\n",
    "    total INT\n",
    ")ENGINE=InnoDB;\n",
    "\"\"\")"
   ]
  },
  {
   "cell_type": "code",
   "execution_count": 8,
   "id": "8994c247-6161-4162-b9e3-ff6f417a2812",
   "metadata": {},
   "outputs": [],
   "source": [
    "cursor.execute(\"\"\"\n",
    "INSERT INTO orders VALUES\n",
    "    (1, 1, '2024-01-10', 500),\n",
    "    (2, 1, '2024-03-01', 800),\n",
    "    (3, 2, '2024-02-20', 1200),\n",
    "    (4, 3, '2024-01-15', 200)\n",
    ";\n",
    "\"\"\")\n",
    "connection.commit()"
   ]
  },
  {
   "cell_type": "code",
   "execution_count": 9,
   "id": "21d8a41c-99c2-4a24-8e61-afb805485a33",
   "metadata": {},
   "outputs": [],
   "source": [
    "cursor.execute(\"\"\"\n",
    "CREATE TABLE IF NOT EXISTS products(\n",
    "    id INT PRIMARY KEY,\n",
    "    name VARCHAR(100),\n",
    "    price INT\n",
    ")ENGINE=InnoDB;\n",
    "\"\"\")"
   ]
  },
  {
   "cell_type": "code",
   "execution_count": 10,
   "id": "d37f1280-7882-4251-b4c0-79464fb0395c",
   "metadata": {},
   "outputs": [],
   "source": [
    "cursor.execute(\"\"\"\n",
    "INSERT INTO products VALUES\n",
    "    (1, 'Laptop', 1500),\n",
    "    (2, 'Mouse', 50),\n",
    "    (3, 'Keyboard', 100),\n",
    "    (4, 'Monitor', 300)\n",
    ";\n",
    "\"\"\")\n",
    "connection.commit()"
   ]
  },
  {
   "cell_type": "code",
   "execution_count": 11,
   "id": "cde91cb3-7aba-4ea8-a160-ec4ef59f0c9d",
   "metadata": {},
   "outputs": [],
   "source": [
    "cursor.execute(\"\"\"\n",
    "CREATE TABLE IF NOT EXISTS order_items(\n",
    "    id INT PRIMARY KEY,\n",
    "    order_id INT,\n",
    "    product_id INT,\n",
    "    quantity INT\n",
    ")ENGINE=InnoDB;\n",
    "\"\"\")"
   ]
  },
  {
   "cell_type": "code",
   "execution_count": 12,
   "id": "a6714540-25b7-4abe-a97f-314ec2294886",
   "metadata": {},
   "outputs": [],
   "source": [
    "cursor.execute(\"\"\"\n",
    "INSERT INTO order_items VALUES\n",
    "    (1, 1, 2, 2),\n",
    "    (2, 1, 3, 1),\n",
    "    (3, 2, 1, 1),\n",
    "    (4, 2, 4, 1),\n",
    "    (5, 3, 1, 1)\n",
    ";\n",
    "\"\"\")\n",
    "connection.commit()"
   ]
  },
  {
   "cell_type": "code",
   "execution_count": 13,
   "id": "696c2849-b57f-429e-8f3c-4a4e8365fa16",
   "metadata": {},
   "outputs": [],
   "source": [
    "cursor.execute(\"\"\"\n",
    "CREATE TABLE IF NOT EXISTS employees(\n",
    "    id INT PRIMARY KEY,\n",
    "    name VARCHAR(100),\n",
    "    department VARCHAR(100)\n",
    ")ENGINE=InnoDB;\n",
    "\"\"\")"
   ]
  },
  {
   "cell_type": "code",
   "execution_count": 14,
   "id": "c99572a6-3096-42d5-b69f-be4fa984b6ba",
   "metadata": {},
   "outputs": [],
   "source": [
    "cursor.execute(\"\"\"\n",
    "INSERT INTO employees VALUES\n",
    "    (1, 'David', 'Sales'),\n",
    "    (2, 'Emma', 'Support'),\n",
    "    (3, 'Frank', 'Sales')\n",
    ";\n",
    "\"\"\")\n",
    "connection.commit()"
   ]
  },
  {
   "cell_type": "code",
   "execution_count": 15,
   "id": "4f938b6a-3f4d-4829-b572-b4de8552fac6",
   "metadata": {},
   "outputs": [],
   "source": [
    "cursor.execute(\"\"\"\n",
    "CREATE TABLE IF NOT EXISTS order_assignments(\n",
    "    id INT PRIMARY KEY,\n",
    "    order_id INT,\n",
    "    employee_id INT\n",
    ")ENGINE=InnoDB;\n",
    "\"\"\")"
   ]
  },
  {
   "cell_type": "code",
   "execution_count": 16,
   "id": "d989a5d6-4e9a-42d1-b19b-20f5fc6468c2",
   "metadata": {},
   "outputs": [],
   "source": [
    "cursor.execute(\"\"\"\n",
    "INSERT INTO order_assignments VALUES\n",
    "    (1, 1, 1),\n",
    "    (2, 2, 3),\n",
    "    (3, 3, 2)\n",
    ";\n",
    "\"\"\") \n",
    "connection.commit()"
   ]
  },
  {
   "cell_type": "code",
   "execution_count": 17,
   "id": "c90d62b4-f02b-4b90-bb74-f1febe13bffb",
   "metadata": {},
   "outputs": [
    {
     "name": "stderr",
     "output_type": "stream",
     "text": [
      "C:\\Users\\LENOVO\\AppData\\Local\\Temp\\ipykernel_27364\\3277248752.py:13: UserWarning: pandas only supports SQLAlchemy connectable (engine/connection) or database string URI or sqlite3 DBAPI2 connection. Other DBAPI2 objects are not tested. Please consider using SQLAlchemy.\n",
      "  data=pd.read_sql_query(query,connection)\n"
     ]
    },
    {
     "data": {
      "text/html": [
       "<div>\n",
       "<style scoped>\n",
       "    .dataframe tbody tr th:only-of-type {\n",
       "        vertical-align: middle;\n",
       "    }\n",
       "\n",
       "    .dataframe tbody tr th {\n",
       "        vertical-align: top;\n",
       "    }\n",
       "\n",
       "    .dataframe thead th {\n",
       "        text-align: right;\n",
       "    }\n",
       "</style>\n",
       "<table border=\"1\" class=\"dataframe\">\n",
       "  <thead>\n",
       "    <tr style=\"text-align: right;\">\n",
       "      <th></th>\n",
       "      <th>name</th>\n",
       "    </tr>\n",
       "  </thead>\n",
       "  <tbody>\n",
       "    <tr>\n",
       "      <th>0</th>\n",
       "      <td>Alice</td>\n",
       "    </tr>\n",
       "    <tr>\n",
       "      <th>1</th>\n",
       "      <td>Bob</td>\n",
       "    </tr>\n",
       "  </tbody>\n",
       "</table>\n",
       "</div>"
      ],
      "text/plain": [
       "    name\n",
       "0  Alice\n",
       "1    Bob"
      ]
     },
     "execution_count": 17,
     "metadata": {},
     "output_type": "execute_result"
    }
   ],
   "source": [
    "# Tìm tất cả khách hàng đã từng mua đơn hàng chứa sản phẩm có giá lớn hơn 1000\n",
    "query=\"\"\"\n",
    "SELECT DISTINCT c.name\n",
    "FROM customers c\n",
    "JOIN orders o ON c.id= o.customer_id\n",
    "WHERE o.id IN(\n",
    "    SELECT oi.order_id\n",
    "    FROM order_items oi\n",
    "    JOIN products p ON oi.product_id = p.id\n",
    "    WHERE p.price > 1000)\n",
    ";\n",
    "\"\"\"\n",
    "connection.commit()\n",
    "data=pd.read_sql_query(query,connection)\n",
    "data"
   ]
  },
  {
   "cell_type": "code",
   "execution_count": 18,
   "id": "fd75efd0-4516-48a1-bdd1-14067991f17d",
   "metadata": {},
   "outputs": [
    {
     "name": "stderr",
     "output_type": "stream",
     "text": [
      "C:\\Users\\LENOVO\\AppData\\Local\\Temp\\ipykernel_27364\\2387988103.py:10: UserWarning: pandas only supports SQLAlchemy connectable (engine/connection) or database string URI or sqlite3 DBAPI2 connection. Other DBAPI2 objects are not tested. Please consider using SQLAlchemy.\n",
      "  data=pd.read_sql_query(query,connection)\n"
     ]
    },
    {
     "data": {
      "text/html": [
       "<div>\n",
       "<style scoped>\n",
       "    .dataframe tbody tr th:only-of-type {\n",
       "        vertical-align: middle;\n",
       "    }\n",
       "\n",
       "    .dataframe tbody tr th {\n",
       "        vertical-align: top;\n",
       "    }\n",
       "\n",
       "    .dataframe thead th {\n",
       "        text-align: right;\n",
       "    }\n",
       "</style>\n",
       "<table border=\"1\" class=\"dataframe\">\n",
       "  <thead>\n",
       "    <tr style=\"text-align: right;\">\n",
       "      <th></th>\n",
       "      <th>name</th>\n",
       "      <th>total_spent</th>\n",
       "    </tr>\n",
       "  </thead>\n",
       "  <tbody>\n",
       "    <tr>\n",
       "      <th>0</th>\n",
       "      <td>Alice</td>\n",
       "      <td>1300.0</td>\n",
       "    </tr>\n",
       "    <tr>\n",
       "      <th>1</th>\n",
       "      <td>Bob</td>\n",
       "      <td>1200.0</td>\n",
       "    </tr>\n",
       "    <tr>\n",
       "      <th>2</th>\n",
       "      <td>Charlie</td>\n",
       "      <td>200.0</td>\n",
       "    </tr>\n",
       "  </tbody>\n",
       "</table>\n",
       "</div>"
      ],
      "text/plain": [
       "      name  total_spent\n",
       "0    Alice       1300.0\n",
       "1      Bob       1200.0\n",
       "2  Charlie        200.0"
      ]
     },
     "execution_count": 18,
     "metadata": {},
     "output_type": "execute_result"
    }
   ],
   "source": [
    "# Liệt kê tên từng khách hàng và tổng giá trị tất cả đơn hàng mà họ đã đặt\n",
    "query=\"\"\"\n",
    "SELECT c.name,\n",
    "    (SELECT SUM(total)\n",
    "    FROM orders o\n",
    "    WHERE o.customer_id= c.id) AS total_spent\n",
    "FROM customers c\n",
    ";\n",
    "\"\"\"\n",
    "connection.commit()\n",
    "data=pd.read_sql_query(query,connection)\n",
    "data"
   ]
  },
  {
   "cell_type": "code",
   "execution_count": 19,
   "id": "6d34363d-06d0-4547-b474-6210aa429144",
   "metadata": {},
   "outputs": [
    {
     "name": "stderr",
     "output_type": "stream",
     "text": [
      "C:\\Users\\LENOVO\\AppData\\Local\\Temp\\ipykernel_27364\\426378739.py:14: UserWarning: pandas only supports SQLAlchemy connectable (engine/connection) or database string URI or sqlite3 DBAPI2 connection. Other DBAPI2 objects are not tested. Please consider using SQLAlchemy.\n",
      "  data=pd.read_sql_query(query,connection)\n"
     ]
    },
    {
     "data": {
      "text/html": [
       "<div>\n",
       "<style scoped>\n",
       "    .dataframe tbody tr th:only-of-type {\n",
       "        vertical-align: middle;\n",
       "    }\n",
       "\n",
       "    .dataframe tbody tr th {\n",
       "        vertical-align: top;\n",
       "    }\n",
       "\n",
       "    .dataframe thead th {\n",
       "        text-align: right;\n",
       "    }\n",
       "</style>\n",
       "<table border=\"1\" class=\"dataframe\">\n",
       "  <thead>\n",
       "    <tr style=\"text-align: right;\">\n",
       "      <th></th>\n",
       "      <th>name</th>\n",
       "      <th>total_spent</th>\n",
       "    </tr>\n",
       "  </thead>\n",
       "  <tbody>\n",
       "    <tr>\n",
       "      <th>0</th>\n",
       "      <td>Alice</td>\n",
       "      <td>1300.0</td>\n",
       "    </tr>\n",
       "    <tr>\n",
       "      <th>1</th>\n",
       "      <td>Bob</td>\n",
       "      <td>1200.0</td>\n",
       "    </tr>\n",
       "  </tbody>\n",
       "</table>\n",
       "</div>"
      ],
      "text/plain": [
       "    name  total_spent\n",
       "0  Alice       1300.0\n",
       "1    Bob       1200.0"
      ]
     },
     "execution_count": 19,
     "metadata": {},
     "output_type": "execute_result"
    }
   ],
   "source": [
    "# Hiển thị top 2 khách hàng có tổng chi tiêu cao nhất (dựa trên cột total của đơn hàng)\n",
    "query=\"\"\"\n",
    "SELECT name, total_spent\n",
    "FROM (\n",
    "    SELECT c.name, sum(o.total) AS total_spent\n",
    "    FROM customers c\n",
    "    JOIN orders o ON c.id = o.customer_id\n",
    "    GROUP BY c.name\n",
    ") AS spending\n",
    "ORDER BY total_spent DESC\n",
    "LIMIT 2\n",
    ";\n",
    "\"\"\"\n",
    "connection.commit()\n",
    "data=pd.read_sql_query(query,connection)\n",
    "data"
   ]
  },
  {
   "cell_type": "code",
   "execution_count": 22,
   "id": "1e10f417-c251-40e5-abc4-e364f99fb0d2",
   "metadata": {},
   "outputs": [
    {
     "name": "stderr",
     "output_type": "stream",
     "text": [
      "C:\\Users\\LENOVO\\AppData\\Local\\Temp\\ipykernel_27364\\3368298243.py:15: UserWarning: pandas only supports SQLAlchemy connectable (engine/connection) or database string URI or sqlite3 DBAPI2 connection. Other DBAPI2 objects are not tested. Please consider using SQLAlchemy.\n",
      "  data=pd.read_sql_query(query,connection)\n"
     ]
    },
    {
     "data": {
      "text/html": [
       "<div>\n",
       "<style scoped>\n",
       "    .dataframe tbody tr th:only-of-type {\n",
       "        vertical-align: middle;\n",
       "    }\n",
       "\n",
       "    .dataframe tbody tr th {\n",
       "        vertical-align: top;\n",
       "    }\n",
       "\n",
       "    .dataframe thead th {\n",
       "        text-align: right;\n",
       "    }\n",
       "</style>\n",
       "<table border=\"1\" class=\"dataframe\">\n",
       "  <thead>\n",
       "    <tr style=\"text-align: right;\">\n",
       "      <th></th>\n",
       "      <th>name</th>\n",
       "    </tr>\n",
       "  </thead>\n",
       "  <tbody>\n",
       "    <tr>\n",
       "      <th>0</th>\n",
       "      <td>Frank</td>\n",
       "    </tr>\n",
       "  </tbody>\n",
       "</table>\n",
       "</div>"
      ],
      "text/plain": [
       "    name\n",
       "0  Frank"
      ]
     },
     "execution_count": 22,
     "metadata": {},
     "output_type": "execute_result"
    }
   ],
   "source": [
    "# Tìm tên nhân viên thuộc phòng Sales đã từng xử lý đơn hàng có chứa sản phẩm tên \"Monitor\"\n",
    "query=\"\"\"\n",
    "SELECT DISTINCT e.name\n",
    "FROM employees e\n",
    "WHERE e.department = 'Sales'\n",
    "AND EXISTS(\n",
    "    SELECT 1\n",
    "    FROM order_assignments oa \n",
    "    JOIN order_items oi ON oi.order_id = oa.order_id\n",
    "    JOIN products p ON p.id = oi.product_id\n",
    "    WHERE p.name = 'Monitor'\n",
    "    AND oa.employee_id = e.id )\n",
    ";\n",
    "\"\"\"\n",
    "connection.commit()\n",
    "data=pd.read_sql_query(query,connection)\n",
    "data"
   ]
  },
  {
   "cell_type": "code",
   "execution_count": 6,
   "id": "e652138f-b188-4881-bc54-1d54ecc1486e",
   "metadata": {},
   "outputs": [
    {
     "name": "stderr",
     "output_type": "stream",
     "text": [
      "C:\\Users\\LENOVO\\AppData\\Local\\Temp\\ipykernel_3460\\2450876850.py:17: UserWarning: pandas only supports SQLAlchemy connectable (engine/connection) or database string URI or sqlite3 DBAPI2 connection. Other DBAPI2 objects are not tested. Please consider using SQLAlchemy.\n",
      "  data=pd.read_sql_query(query,connection)\n"
     ]
    },
    {
     "data": {
      "text/html": [
       "<div>\n",
       "<style scoped>\n",
       "    .dataframe tbody tr th:only-of-type {\n",
       "        vertical-align: middle;\n",
       "    }\n",
       "\n",
       "    .dataframe tbody tr th {\n",
       "        vertical-align: top;\n",
       "    }\n",
       "\n",
       "    .dataframe thead th {\n",
       "        text-align: right;\n",
       "    }\n",
       "</style>\n",
       "<table border=\"1\" class=\"dataframe\">\n",
       "  <thead>\n",
       "    <tr style=\"text-align: right;\">\n",
       "      <th></th>\n",
       "      <th>name</th>\n",
       "      <th>total_spent</th>\n",
       "    </tr>\n",
       "  </thead>\n",
       "  <tbody>\n",
       "    <tr>\n",
       "      <th>0</th>\n",
       "      <td>Alice</td>\n",
       "      <td>1300.0</td>\n",
       "    </tr>\n",
       "    <tr>\n",
       "      <th>1</th>\n",
       "      <td>Bob</td>\n",
       "      <td>1200.0</td>\n",
       "    </tr>\n",
       "  </tbody>\n",
       "</table>\n",
       "</div>"
      ],
      "text/plain": [
       "    name  total_spent\n",
       "0  Alice       1300.0\n",
       "1    Bob       1200.0"
      ]
     },
     "execution_count": 6,
     "metadata": {},
     "output_type": "execute_result"
    }
   ],
   "source": [
    "# Tìm các khách hàng có tổng chi tiêu cao hơn mức trung bình của tất cả khách hàng\n",
    "query=\"\"\"\n",
    "SELECT c.name, SUM(o.total) AS total_spent\n",
    "FROM customers c\n",
    "JOIN orders o ON c.id = o.customer_id\n",
    "GROUP BY c.name\n",
    "HAVING SUM(o.total) > (\n",
    "    SELECT AVG(customer_total)\n",
    "    FROM (\n",
    "        SELECT customer_id, SUM(total) AS customer_total\n",
    "        FROM orders\n",
    "        GROUP BY customer_id\n",
    "    ) AS avg_spent\n",
    ");\n",
    "\"\"\"\n",
    "connection.commit()\n",
    "data=pd.read_sql_query(query,connection)\n",
    "data"
   ]
  },
  {
   "cell_type": "code",
   "execution_count": 10,
   "id": "b39fef06-686a-4a11-a7ba-eb00294791b6",
   "metadata": {},
   "outputs": [],
   "source": [
    "# Tạo bảng tạm vip_customers gồm những khách hàng có tổng giá trị đơn hàng lớn hơn 1000.\n",
    "# Sau đó, hiển thị tên và tổng chi tiêu của các khách hàng trong bảng tạm này.\n",
    "\n",
    "query=\"\"\"\n",
    "CREATE TEMPORARY TABLE IF NOT EXISTS vip_customers AS\n",
    "SELECT customer_id, SUM(total) AS total_spent\n",
    "FROM orders \n",
    "GROUP BY customer_id\n",
    "HAVING SUM(total) > 1000\n",
    ";\n",
    "\"\"\"\n",
    "cursor.execute(query)"
   ]
  },
  {
   "cell_type": "code",
   "execution_count": 13,
   "id": "8efe64e4-8ceb-4f58-b0e9-1e195bddc67b",
   "metadata": {},
   "outputs": [
    {
     "name": "stderr",
     "output_type": "stream",
     "text": [
      "C:\\Users\\LENOVO\\AppData\\Local\\Temp\\ipykernel_3460\\2234078328.py:7: UserWarning: pandas only supports SQLAlchemy connectable (engine/connection) or database string URI or sqlite3 DBAPI2 connection. Other DBAPI2 objects are not tested. Please consider using SQLAlchemy.\n",
      "  data=pd.read_sql_query(query,connection)\n"
     ]
    },
    {
     "data": {
      "text/html": [
       "<div>\n",
       "<style scoped>\n",
       "    .dataframe tbody tr th:only-of-type {\n",
       "        vertical-align: middle;\n",
       "    }\n",
       "\n",
       "    .dataframe tbody tr th {\n",
       "        vertical-align: top;\n",
       "    }\n",
       "\n",
       "    .dataframe thead th {\n",
       "        text-align: right;\n",
       "    }\n",
       "</style>\n",
       "<table border=\"1\" class=\"dataframe\">\n",
       "  <thead>\n",
       "    <tr style=\"text-align: right;\">\n",
       "      <th></th>\n",
       "      <th>name</th>\n",
       "      <th>total_spent</th>\n",
       "    </tr>\n",
       "  </thead>\n",
       "  <tbody>\n",
       "    <tr>\n",
       "      <th>0</th>\n",
       "      <td>Alice</td>\n",
       "      <td>1300.0</td>\n",
       "    </tr>\n",
       "    <tr>\n",
       "      <th>1</th>\n",
       "      <td>Bob</td>\n",
       "      <td>1200.0</td>\n",
       "    </tr>\n",
       "  </tbody>\n",
       "</table>\n",
       "</div>"
      ],
      "text/plain": [
       "    name  total_spent\n",
       "0  Alice       1300.0\n",
       "1    Bob       1200.0"
      ]
     },
     "execution_count": 13,
     "metadata": {},
     "output_type": "execute_result"
    }
   ],
   "source": [
    "query=\"\"\"\n",
    "SELECT c.name, v.total_spent\n",
    "FROM customers c\n",
    "JOIN vip_customers v ON c.id = v.customer_id\n",
    ";\"\"\"\n",
    "connection.commit()\n",
    "data=pd.read_sql_query(query,connection)\n",
    "data"
   ]
  },
  {
   "cell_type": "code",
   "execution_count": 14,
   "id": "0ebbf0fa-32b7-4544-a9f2-ea07ab9a2279",
   "metadata": {},
   "outputs": [],
   "source": [
    "# Tạo bảng tạm popular_products gồm những sản phẩm được bán ra với tổng số lượng từ 2 trở lên\n",
    "# Hiển thị tên và tổng số lượng bán ra của các sản phẩm này\n",
    "query=\"\"\"\n",
    "CREATE TEMPORARY TABLE IF NOT EXISTS popular_products AS\n",
    "SELECT product_id, SUM(quantity) AS total_quantity\n",
    "FROM order_items\n",
    "GROUP BY product_id\n",
    "HAVING SUM(quantity) >=2 \n",
    ";\"\"\"\n",
    "cursor.execute(query)"
   ]
  },
  {
   "cell_type": "code",
   "execution_count": 15,
   "id": "b1cf832c-0c37-4e56-845a-7332e0b3894c",
   "metadata": {},
   "outputs": [
    {
     "name": "stderr",
     "output_type": "stream",
     "text": [
      "C:\\Users\\LENOVO\\AppData\\Local\\Temp\\ipykernel_3460\\784532834.py:7: UserWarning: pandas only supports SQLAlchemy connectable (engine/connection) or database string URI or sqlite3 DBAPI2 connection. Other DBAPI2 objects are not tested. Please consider using SQLAlchemy.\n",
      "  data=pd.read_sql_query(query,connection)\n"
     ]
    },
    {
     "data": {
      "text/html": [
       "<div>\n",
       "<style scoped>\n",
       "    .dataframe tbody tr th:only-of-type {\n",
       "        vertical-align: middle;\n",
       "    }\n",
       "\n",
       "    .dataframe tbody tr th {\n",
       "        vertical-align: top;\n",
       "    }\n",
       "\n",
       "    .dataframe thead th {\n",
       "        text-align: right;\n",
       "    }\n",
       "</style>\n",
       "<table border=\"1\" class=\"dataframe\">\n",
       "  <thead>\n",
       "    <tr style=\"text-align: right;\">\n",
       "      <th></th>\n",
       "      <th>name</th>\n",
       "      <th>total_quantity</th>\n",
       "    </tr>\n",
       "  </thead>\n",
       "  <tbody>\n",
       "    <tr>\n",
       "      <th>0</th>\n",
       "      <td>Mouse</td>\n",
       "      <td>2.0</td>\n",
       "    </tr>\n",
       "    <tr>\n",
       "      <th>1</th>\n",
       "      <td>Laptop</td>\n",
       "      <td>2.0</td>\n",
       "    </tr>\n",
       "  </tbody>\n",
       "</table>\n",
       "</div>"
      ],
      "text/plain": [
       "     name  total_quantity\n",
       "0   Mouse             2.0\n",
       "1  Laptop             2.0"
      ]
     },
     "execution_count": 15,
     "metadata": {},
     "output_type": "execute_result"
    }
   ],
   "source": [
    "query=\"\"\"\n",
    "SELECT p.name, pp.total_quantity\n",
    "FROM products p\n",
    "JOIN popular_products pp ON pp.product_id = p.id\n",
    ";\"\"\"\n",
    "connection.commit()\n",
    "data=pd.read_sql_query(query,connection)\n",
    "data"
   ]
  },
  {
   "cell_type": "code",
   "execution_count": 23,
   "id": "32605054-aeac-4b8c-89a6-5a96ea6277e6",
   "metadata": {},
   "outputs": [
    {
     "name": "stderr",
     "output_type": "stream",
     "text": [
      "C:\\Users\\LENOVO\\AppData\\Local\\Temp\\ipykernel_3460\\3753537694.py:18: UserWarning: pandas only supports SQLAlchemy connectable (engine/connection) or database string URI or sqlite3 DBAPI2 connection. Other DBAPI2 objects are not tested. Please consider using SQLAlchemy.\n",
      "  data=pd.read_sql_query(query,connection)\n"
     ]
    },
    {
     "data": {
      "text/html": [
       "<div>\n",
       "<style scoped>\n",
       "    .dataframe tbody tr th:only-of-type {\n",
       "        vertical-align: middle;\n",
       "    }\n",
       "\n",
       "    .dataframe tbody tr th {\n",
       "        vertical-align: top;\n",
       "    }\n",
       "\n",
       "    .dataframe thead th {\n",
       "        text-align: right;\n",
       "    }\n",
       "</style>\n",
       "<table border=\"1\" class=\"dataframe\">\n",
       "  <thead>\n",
       "    <tr style=\"text-align: right;\">\n",
       "      <th></th>\n",
       "      <th>name</th>\n",
       "    </tr>\n",
       "  </thead>\n",
       "  <tbody>\n",
       "    <tr>\n",
       "      <th>0</th>\n",
       "      <td>Bob</td>\n",
       "    </tr>\n",
       "  </tbody>\n",
       "</table>\n",
       "</div>"
      ],
      "text/plain": [
       "  name\n",
       "0  Bob"
      ]
     },
     "execution_count": 23,
     "metadata": {},
     "output_type": "execute_result"
    }
   ],
   "source": [
    "# Liệt kê tên các khách hàng có đơn hàng được xử lý bởi nhân viên có tổng doanh số lớn hơn 1000\n",
    "query=\"\"\"SELECT c.name\n",
    "FROM customers c\n",
    "WHERE EXISTS (\n",
    "    SELECT 1\n",
    "    FROM orders o\n",
    "    JOIN order_assignments oa ON o.id = oa.order_id\n",
    "    WHERE o.customer_id = c.id\n",
    "    AND oa.employee_id IN (\n",
    "        SELECT oa.employee_id\n",
    "        FROM order_assignments oa\n",
    "        JOIN orders o ON oa.order_id = o.id\n",
    "        GROUP BY oa.employee_id\n",
    "        HAVING SUM(o.total) > 1000\n",
    ")\n",
    ");\"\"\"\n",
    "connection.commit()\n",
    "data=pd.read_sql_query(query,connection)\n",
    "data"
   ]
  },
  {
   "cell_type": "code",
   "execution_count": 17,
   "id": "a2fdda28-e1b2-442e-a849-c5309c75868a",
   "metadata": {},
   "outputs": [
    {
     "name": "stderr",
     "output_type": "stream",
     "text": [
      "C:\\Users\\LENOVO\\AppData\\Local\\Temp\\ipykernel_3460\\3687484891.py:18: UserWarning: pandas only supports SQLAlchemy connectable (engine/connection) or database string URI or sqlite3 DBAPI2 connection. Other DBAPI2 objects are not tested. Please consider using SQLAlchemy.\n",
      "  data=pd.read_sql_query(query,connection)\n"
     ]
    },
    {
     "data": {
      "text/html": [
       "<div>\n",
       "<style scoped>\n",
       "    .dataframe tbody tr th:only-of-type {\n",
       "        vertical-align: middle;\n",
       "    }\n",
       "\n",
       "    .dataframe tbody tr th {\n",
       "        vertical-align: top;\n",
       "    }\n",
       "\n",
       "    .dataframe thead th {\n",
       "        text-align: right;\n",
       "    }\n",
       "</style>\n",
       "<table border=\"1\" class=\"dataframe\">\n",
       "  <thead>\n",
       "    <tr style=\"text-align: right;\">\n",
       "      <th></th>\n",
       "      <th>name</th>\n",
       "    </tr>\n",
       "  </thead>\n",
       "  <tbody>\n",
       "    <tr>\n",
       "      <th>0</th>\n",
       "      <td>Bob</td>\n",
       "    </tr>\n",
       "  </tbody>\n",
       "</table>\n",
       "</div>"
      ],
      "text/plain": [
       "  name\n",
       "0  Bob"
      ]
     },
     "execution_count": 17,
     "metadata": {},
     "output_type": "execute_result"
    }
   ],
   "source": [
    "query=\"\"\"\n",
    "SELECT DISTINCT c.name\n",
    "FROM customers c\n",
    "JOIN orders o ON o.customer_id = c.id\n",
    "JOIN order_assignments oa ON oa.order_id = o.id\n",
    "WHERE oa.employee_id IN (\n",
    "    SELECT employee_id\n",
    "    FROM (\n",
    "        SELECT e.id AS employee_id, SUM(o.total) AS total_sales\n",
    "        FROM employees e\n",
    "        JOIN order_assignments oa ON e.id = oa.employee_id\n",
    "        JOIN orders o ON o.id = oa.order_id\n",
    "        GROUP BY e.id\n",
    "        HAVING SUM(o.total) > 1000\n",
    "    ) AS top_sellers\n",
    ");\"\"\"\n",
    "connection.commit()\n",
    "data=pd.read_sql_query(query,connection)\n",
    "data"
   ]
  },
  {
   "cell_type": "code",
   "execution_count": 18,
   "id": "abae228b-4abd-4137-9e94-2a331511500b",
   "metadata": {},
   "outputs": [
    {
     "name": "stderr",
     "output_type": "stream",
     "text": [
      "C:\\Users\\LENOVO\\AppData\\Local\\Temp\\ipykernel_3460\\3021193990.py:20: UserWarning: pandas only supports SQLAlchemy connectable (engine/connection) or database string URI or sqlite3 DBAPI2 connection. Other DBAPI2 objects are not tested. Please consider using SQLAlchemy.\n",
      "  data=pd.read_sql_query(query,connection)\n"
     ]
    },
    {
     "data": {
      "text/html": [
       "<div>\n",
       "<style scoped>\n",
       "    .dataframe tbody tr th:only-of-type {\n",
       "        vertical-align: middle;\n",
       "    }\n",
       "\n",
       "    .dataframe tbody tr th {\n",
       "        vertical-align: top;\n",
       "    }\n",
       "\n",
       "    .dataframe thead th {\n",
       "        text-align: right;\n",
       "    }\n",
       "</style>\n",
       "<table border=\"1\" class=\"dataframe\">\n",
       "  <thead>\n",
       "    <tr style=\"text-align: right;\">\n",
       "      <th></th>\n",
       "      <th>name</th>\n",
       "    </tr>\n",
       "  </thead>\n",
       "  <tbody>\n",
       "    <tr>\n",
       "      <th>0</th>\n",
       "      <td>Bob</td>\n",
       "    </tr>\n",
       "  </tbody>\n",
       "</table>\n",
       "</div>"
      ],
      "text/plain": [
       "  name\n",
       "0  Bob"
      ]
     },
     "execution_count": 18,
     "metadata": {},
     "output_type": "execute_result"
    }
   ],
   "source": [
    "query=\"\"\"\n",
    "SELECT DISTINCT c.name\n",
    "FROM customers c\n",
    "JOIN orders o ON c.id = o.customer_id\n",
    "JOIN order_assignments oa ON o.id = oa.order_id\n",
    "WHERE oa.employee_id IN(\n",
    "    SELECT employee_id\n",
    "    FROM (\n",
    "        SELECT e.id AS employee_id, SUM(o.total) AS total_sales\n",
    "        FROM employees e\n",
    "        JOIN order_assignments oa ON oa.employee_id = e.id\n",
    "        JOIN orders o ON o.id = oa.order_id\n",
    "        GROUP BY e.id\n",
    "        HAVING SUM(o.total) > 1000\n",
    "    ) AS top_sellers\n",
    "\n",
    "\n",
    ");\"\"\"\n",
    "connection.commit()\n",
    "data=pd.read_sql_query(query,connection)\n",
    "data"
   ]
  },
  {
   "cell_type": "code",
   "execution_count": 20,
   "id": "49a5d0d6-2364-4e5b-bd8f-31ba74dde3d7",
   "metadata": {},
   "outputs": [
    {
     "name": "stderr",
     "output_type": "stream",
     "text": [
      "C:\\Users\\LENOVO\\AppData\\Local\\Temp\\ipykernel_3460\\971696740.py:16: UserWarning: pandas only supports SQLAlchemy connectable (engine/connection) or database string URI or sqlite3 DBAPI2 connection. Other DBAPI2 objects are not tested. Please consider using SQLAlchemy.\n",
      "  data=pd.read_sql_query(query,connection)\n"
     ]
    },
    {
     "data": {
      "text/html": [
       "<div>\n",
       "<style scoped>\n",
       "    .dataframe tbody tr th:only-of-type {\n",
       "        vertical-align: middle;\n",
       "    }\n",
       "\n",
       "    .dataframe tbody tr th {\n",
       "        vertical-align: top;\n",
       "    }\n",
       "\n",
       "    .dataframe thead th {\n",
       "        text-align: right;\n",
       "    }\n",
       "</style>\n",
       "<table border=\"1\" class=\"dataframe\">\n",
       "  <thead>\n",
       "    <tr style=\"text-align: right;\">\n",
       "      <th></th>\n",
       "      <th>name</th>\n",
       "      <th>total</th>\n",
       "    </tr>\n",
       "  </thead>\n",
       "  <tbody>\n",
       "    <tr>\n",
       "      <th>0</th>\n",
       "      <td>Bob</td>\n",
       "      <td>1200</td>\n",
       "    </tr>\n",
       "  </tbody>\n",
       "</table>\n",
       "</div>"
      ],
      "text/plain": [
       "  name  total\n",
       "0  Bob   1200"
      ]
     },
     "execution_count": 20,
     "metadata": {},
     "output_type": "execute_result"
    }
   ],
   "source": [
    "# Tạo bảng tạm high_value_orders gồm những đơn hàng có tổng tiền > 800\n",
    "query=\"\"\"\n",
    "CREATE TEMPORARY TABLE IF NOT EXISTS high_value_orders AS\n",
    "SELECT *\n",
    "FROM orders \n",
    "WHERE total >800\n",
    ";\"\"\"\n",
    "cursor.execute(query)\n",
    "\n",
    "# Hiển thị tên khách hàng của các đơn hàng đó\n",
    "query=\"\"\"\n",
    "SELECT c.name, hvo.total\n",
    "FROM high_value_orders hvo\n",
    "JOIN customers c ON c.id = hvo.customer_id\n",
    "; \"\"\"\n",
    "connection.commit()\n",
    "data=pd.read_sql_query(query,connection)\n",
    "data"
   ]
  },
  {
   "cell_type": "code",
   "execution_count": 21,
   "id": "035c57eb-e1d3-47f6-9dc1-5888a8f78405",
   "metadata": {},
   "outputs": [
    {
     "name": "stderr",
     "output_type": "stream",
     "text": [
      "C:\\Users\\LENOVO\\AppData\\Local\\Temp\\ipykernel_3460\\1222332751.py:9: UserWarning: pandas only supports SQLAlchemy connectable (engine/connection) or database string URI or sqlite3 DBAPI2 connection. Other DBAPI2 objects are not tested. Please consider using SQLAlchemy.\n",
      "  data=pd.read_sql_query(query,connection)\n"
     ]
    },
    {
     "data": {
      "text/html": [
       "<div>\n",
       "<style scoped>\n",
       "    .dataframe tbody tr th:only-of-type {\n",
       "        vertical-align: middle;\n",
       "    }\n",
       "\n",
       "    .dataframe tbody tr th {\n",
       "        vertical-align: top;\n",
       "    }\n",
       "\n",
       "    .dataframe thead th {\n",
       "        text-align: right;\n",
       "    }\n",
       "</style>\n",
       "<table border=\"1\" class=\"dataframe\">\n",
       "  <thead>\n",
       "    <tr style=\"text-align: right;\">\n",
       "      <th></th>\n",
       "      <th>order_id</th>\n",
       "      <th>total_value_oi</th>\n",
       "    </tr>\n",
       "  </thead>\n",
       "  <tbody>\n",
       "    <tr>\n",
       "      <th>0</th>\n",
       "      <td>1</td>\n",
       "      <td>200.0</td>\n",
       "    </tr>\n",
       "    <tr>\n",
       "      <th>1</th>\n",
       "      <td>2</td>\n",
       "      <td>1800.0</td>\n",
       "    </tr>\n",
       "    <tr>\n",
       "      <th>2</th>\n",
       "      <td>3</td>\n",
       "      <td>1500.0</td>\n",
       "    </tr>\n",
       "  </tbody>\n",
       "</table>\n",
       "</div>"
      ],
      "text/plain": [
       "   order_id  total_value_oi\n",
       "0         1           200.0\n",
       "1         2          1800.0\n",
       "2         3          1500.0"
      ]
     },
     "execution_count": 21,
     "metadata": {},
     "output_type": "execute_result"
    }
   ],
   "source": [
    "# Tính tổng giá trị thực tế của từng đơn hàng bằng cách lấy price × quantity theo từng dòng sản phẩm\n",
    "query=\"\"\"\n",
    "SELECT oi.order_id, SUM(p.price*oi.quantity) AS total_value_oi\n",
    "FROM order_items oi\n",
    "JOIN products p ON p.id = oi.product_id\n",
    "GROUP BY oi.order_id\n",
    "; \"\"\"\n",
    "connection.commit()\n",
    "data=pd.read_sql_query(query,connection)\n",
    "data\n",
    "\n"
   ]
  },
  {
   "cell_type": "code",
   "execution_count": null,
   "id": "3f795c80-6e00-40fa-baf7-7b34c9c1e5f5",
   "metadata": {},
   "outputs": [],
   "source": []
  }
 ],
 "metadata": {
  "kernelspec": {
   "display_name": "Python 3 (ipykernel)",
   "language": "python",
   "name": "python3"
  },
  "language_info": {
   "codemirror_mode": {
    "name": "ipython",
    "version": 3
   },
   "file_extension": ".py",
   "mimetype": "text/x-python",
   "name": "python",
   "nbconvert_exporter": "python",
   "pygments_lexer": "ipython3",
   "version": "3.13.2"
  }
 },
 "nbformat": 4,
 "nbformat_minor": 5
}
