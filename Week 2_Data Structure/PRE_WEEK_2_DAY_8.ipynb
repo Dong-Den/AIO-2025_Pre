{
  "nbformat": 4,
  "nbformat_minor": 0,
  "metadata": {
    "colab": {
      "provenance": []
    },
    "kernelspec": {
      "name": "python3",
      "display_name": "Python 3"
    },
    "language_info": {
      "name": "python"
    }
  },
  "cells": [
    {
      "cell_type": "markdown",
      "source": [
        "# **List and Tuple**"
      ],
      "metadata": {
        "id": "NwCas41pWUg-"
      }
    },
    {
      "cell_type": "code",
      "source": [
        "#Câu 1\n",
        "my_tuple1=(2,3)\n",
        "my_tuple2=(3,6)\n"
      ],
      "metadata": {
        "id": "mSkryQ_aWYEx"
      },
      "execution_count": null,
      "outputs": []
    },
    {
      "cell_type": "code",
      "source": [
        "#Câu 2: Tổng và tích các phần tử trong mỗi vector\n",
        "def sum_multiply(tuple):\n",
        "  sum=0\n",
        "  multiply=1\n",
        "  for i in tuple:\n",
        "    sum+=i\n",
        "    multiply*=i\n",
        "  return sum, multiply\n",
        "print(sum_multiply(my_tuple1))\n",
        "print(sum_multiply(my_tuple2))\n"
      ],
      "metadata": {
        "colab": {
          "base_uri": "https://localhost:8080/"
        },
        "id": "_VgupSvqeOy6",
        "outputId": "7e467a53-14d6-4a85-9e82-3faadf461a58"
      },
      "execution_count": null,
      "outputs": [
        {
          "output_type": "stream",
          "name": "stdout",
          "text": [
            "(5, 6)\n",
            "(9, 18)\n"
          ]
        }
      ]
    },
    {
      "cell_type": "code",
      "source": [
        "def sum_multiply(tuple):\n",
        "  sum=0\n",
        "  multiply=1\n",
        "  for i in tuple:\n",
        "    sum+=i\n",
        "    multiply*=i\n",
        "  print(f\"Tổng và tích của vector {tuple} là:\",(sum, multiply))"
      ],
      "metadata": {
        "id": "uMh3vkhFfae_"
      },
      "execution_count": null,
      "outputs": []
    },
    {
      "cell_type": "code",
      "source": [
        "sum_multiply(my_tuple1)\n",
        "sum_multiply(my_tuple2)"
      ],
      "metadata": {
        "colab": {
          "base_uri": "https://localhost:8080/"
        },
        "id": "_YVD2s_Df03A",
        "outputId": "fb1ec151-9b0c-4eb5-8694-37355768b572"
      },
      "execution_count": null,
      "outputs": [
        {
          "output_type": "stream",
          "name": "stdout",
          "text": [
            "Tổng và tích của vector (2, 3) là: (5, 6)\n",
            "Tổng và tích của vector (3, 6) là: (9, 18)\n"
          ]
        }
      ]
    },
    {
      "cell_type": "code",
      "source": [
        "#Tổng và tích của 2 vector với nhau:\n",
        "result_vector1=tuple(a+b for a,b in zip(my_tuple1,my_tuple2))\n",
        "result_vector2=tuple(a*b for a,b in zip(my_tuple1,my_tuple2))\n",
        "print(\"Result_vector1=\",result_vector1)\n",
        "print(\"Result_vector2=\",result_vector2)"
      ],
      "metadata": {
        "colab": {
          "base_uri": "https://localhost:8080/"
        },
        "id": "ZV3ibbv8d7o8",
        "outputId": "e0349c41-0e46-4dbe-a827-2ebd3405245a"
      },
      "execution_count": null,
      "outputs": [
        {
          "output_type": "stream",
          "name": "stdout",
          "text": [
            "Result_vector1= (5, 9)\n",
            "Result_vector2= (6, 18)\n"
          ]
        }
      ]
    },
    {
      "cell_type": "code",
      "source": [
        "#Câu 3 Khoảng sách\n",
        "distance= (sum((a-b)**2 for a,b in zip(my_tuple1,my_tuple2)))**0.5\n",
        "print(distance)"
      ],
      "metadata": {
        "colab": {
          "base_uri": "https://localhost:8080/"
        },
        "id": "zTvElcXFcpjo",
        "outputId": "828ec5a7-d79d-4f92-8419-0f7a763f7411"
      },
      "execution_count": null,
      "outputs": [
        {
          "output_type": "stream",
          "name": "stdout",
          "text": [
            "3.1622776601683795\n"
          ]
        }
      ]
    },
    {
      "cell_type": "code",
      "source": [
        "#Câu 4 Vị trí index của phần tử có giá trị cho trước\n",
        "index=()\n",
        "for i in my_tuple1:\n",
        "  if i==3:\n",
        "    index += (my_tuple1.index(3),)\n",
        "for j in my_tuple2:\n",
        "  if j==3:\n",
        "    index += (my_tuple2.index(3),)\n",
        "print(\"index=\",index)\n"
      ],
      "metadata": {
        "colab": {
          "base_uri": "https://localhost:8080/"
        },
        "id": "q2AVdSuqeHk7",
        "outputId": "f813e193-e429-4861-c3c6-54cca97cf47e"
      },
      "execution_count": null,
      "outputs": [
        {
          "output_type": "stream",
          "name": "stdout",
          "text": [
            "index= (1, 0)\n"
          ]
        }
      ]
    },
    {
      "cell_type": "markdown",
      "source": [
        "#**Bag of Words (NLP)**"
      ],
      "metadata": {
        "id": "KpPY1Qr4iIEF"
      }
    },
    {
      "cell_type": "code",
      "source": [
        "corpus=[\"Tôi thích môn Toán\", \"Tôi thích AI\", \"Tôi thích âm nhạc\"]\n",
        "data=' '.join(corpus)\n",
        "data"
      ],
      "metadata": {
        "id": "yGbfPc2UiOL3",
        "colab": {
          "base_uri": "https://localhost:8080/",
          "height": 35
        },
        "outputId": "508eef65-5cc9-4e15-8e57-b3a485fa8610"
      },
      "execution_count": null,
      "outputs": [
        {
          "output_type": "execute_result",
          "data": {
            "text/plain": [
              "'Tôi thích môn Toán Tôi thích AI Tôi thích âm nhạc'"
            ],
            "application/vnd.google.colaboratory.intrinsic+json": {
              "type": "string"
            }
          },
          "metadata": {},
          "execution_count": 11
        }
      ]
    },
    {
      "cell_type": "code",
      "source": [
        "distinct_words=list(set(data.split()))\n",
        "distinct_words.sort()\n",
        "length=len(distinct_words)\n"
      ],
      "metadata": {
        "id": "5qfI2gjTauRI"
      },
      "execution_count": null,
      "outputs": []
    },
    {
      "cell_type": "code",
      "source": [
        "sample=\"Tôi thích AI thích Toán\"\n",
        "vector=[0]*length\n",
        "words=sample.split()\n",
        "for word in words:\n",
        "  vector[distinct_words.index(word)]+=1\n",
        "print(\"Tôi thích AI thích Toán: \",vector)\n",
        "print(\"Bag-of-Words: \",f\"[{', '.join(distinct_words)}]\")"
      ],
      "metadata": {
        "colab": {
          "base_uri": "https://localhost:8080/"
        },
        "id": "bJ-0pmZLbode",
        "outputId": "e7cb9c53-3aa9-47af-85fc-a98a56d4d796"
      },
      "execution_count": null,
      "outputs": [
        {
          "output_type": "stream",
          "name": "stdout",
          "text": [
            "Tôi thích AI thích Toán:  [1, 1, 1, 0, 0, 2, 0]\n",
            "Bag-of-Words:  [AI, Toán, Tôi, môn, nhạc, thích, âm]\n"
          ]
        }
      ]
    },
    {
      "cell_type": "markdown",
      "source": [
        "#**Algorithms on List**"
      ],
      "metadata": {
        "id": "jHtd2Nsp5aUW"
      }
    },
    {
      "cell_type": "markdown",
      "source": [
        "###Trả về vị trí đầu tiên"
      ],
      "metadata": {
        "id": "Ob74cGK2IEtH"
      }
    },
    {
      "cell_type": "code",
      "source": [
        "#Trả về vị trí đầu tiên\n",
        "lst_data=[1, 1.1, None, 1.4, None, 1.5, None, 2.0]\n",
        "for i in lst_data:\n",
        "  if i ==None:\n",
        "    lst_data.index(None)\n",
        "    break\n",
        "print(\"Vị trí None đầu tiên: \",lst_data.index(None))"
      ],
      "metadata": {
        "colab": {
          "base_uri": "https://localhost:8080/"
        },
        "id": "mDtEtRjn5Xrm",
        "outputId": "61924079-aea4-4842-efc0-0328ce20b6d8"
      },
      "execution_count": null,
      "outputs": [
        {
          "output_type": "stream",
          "name": "stdout",
          "text": [
            "Vị trí None đầu tiên:  2\n"
          ]
        }
      ]
    },
    {
      "cell_type": "markdown",
      "source": [
        "## Tìm tất cả vị trí: chạy lại được nhiều lần"
      ],
      "metadata": {
        "id": "1e7ffdAJIGuH"
      }
    },
    {
      "cell_type": "code",
      "source": [
        "#Tìm tất cả vị trí: chạy lại được nhiều lần\n",
        "result=[]\n",
        "for i in range(len(lst_data)):\n",
        "  if lst_data[i] ==None:\n",
        "    result.append(i)\n",
        "print(\"Vị trí None đầu tiên: \", result[0])\n",
        "print(\"Danh sách vị trí có giá trị None: \", result)"
      ],
      "metadata": {
        "colab": {
          "base_uri": "https://localhost:8080/"
        },
        "id": "tQjVUTB95m_j",
        "outputId": "74fc8a90-00d8-4b4b-cc8b-46096a9feaf5"
      },
      "execution_count": null,
      "outputs": [
        {
          "output_type": "stream",
          "name": "stdout",
          "text": [
            "Vị trí None đầu tiên:  2\n",
            "Danh sách vị trí có giá trị None:  [2, 4, 6]\n"
          ]
        }
      ]
    },
    {
      "cell_type": "code",
      "source": [
        "index=[]\n",
        "for i, data in enumerate(lst_data):\n",
        "  if data==None:\n",
        "    index.append(i)\n",
        "print(\"Vị trí None đầu tiên: \", index[0])\n",
        "print(\"Danh sách vị trí có giá trị None: \", index)"
      ],
      "metadata": {
        "colab": {
          "base_uri": "https://localhost:8080/"
        },
        "id": "i9V8u1GZTpyP",
        "outputId": "9ff73766-36e8-4109-826f-6aedce670793"
      },
      "execution_count": null,
      "outputs": [
        {
          "output_type": "stream",
          "name": "stdout",
          "text": [
            "Vị trí None đầu tiên:  2\n",
            "Danh sách vị trí có giá trị None:  [2, 4, 6]\n"
          ]
        }
      ]
    },
    {
      "cell_type": "code",
      "source": [
        "#Tìm tất cả vị trí: chỉ chạy được 1 lần => copy data sang một địa chỉ mới và thực hiện lệnh trên địa chỉ mới này\n",
        "result1=[]\n",
        "for i in lst_data:\n",
        "  if i ==None:\n",
        "    result1.append(lst_data.index(i))\n",
        "    lst_data[lst_data.index(i)]=0\n",
        "print(\"Danh sách vị trí có giá trị None: \",result1)\n"
      ],
      "metadata": {
        "colab": {
          "base_uri": "https://localhost:8080/"
        },
        "id": "0ajfwlgE9xqU",
        "outputId": "4222a971-82d0-4c8c-84fa-954f3602fd16"
      },
      "execution_count": null,
      "outputs": [
        {
          "output_type": "stream",
          "name": "stdout",
          "text": [
            "Danh sách vị trí có giá trị None:  [2, 4, 6]\n"
          ]
        }
      ]
    },
    {
      "cell_type": "code",
      "source": [
        "#Tìm tất cả vị trí: copy data sang địa chỉ mới\n",
        "lst_data=[1, 1.1, None, 1.4, None, 1.5, None, 2.0]\n",
        "copy_data=lst_data.copy()\n",
        "print(copy_data)\n",
        "result2=[]\n",
        "for i in copy_data:\n",
        "  if i ==None:\n",
        "    result2.append(copy_data.index(i))\n",
        "    copy_data[copy_data.index(i)]=0\n",
        "print(\"Danh sách vị trí có giá trị None: \",result2)"
      ],
      "metadata": {
        "colab": {
          "base_uri": "https://localhost:8080/"
        },
        "id": "ZMeRpUEG-3gy",
        "outputId": "bad92e4f-e633-4ece-bffe-058ff173caf2"
      },
      "execution_count": null,
      "outputs": [
        {
          "output_type": "stream",
          "name": "stdout",
          "text": [
            "[1, 1.1, None, 1.4, None, 1.5, None, 2.0]\n",
            "Danh sách vị trí có giá trị None:  [2, 4, 6]\n"
          ]
        }
      ]
    },
    {
      "cell_type": "markdown",
      "source": [
        "#**Interpolation for List (Time-series)**"
      ],
      "metadata": {
        "id": "K_R6IPicABSf"
      }
    },
    {
      "cell_type": "markdown",
      "source": [
        "## Nội suy Nearest Neighbor"
      ],
      "metadata": {
        "id": "nZYFgbM8IRln"
      }
    },
    {
      "cell_type": "code",
      "source": [
        "lst_data = [1, 1.1, None, 1.4, None, 1.5, None, 2.0]\n",
        "def nearest_neighbor_interpolation(lst_data):\n",
        "    for i, data in enumerate(lst_data):\n",
        "        if data==None:\n",
        "            if lst_data[i-1]!=None and lst_data[i+1]!=None:\n",
        "                if lst_data[i-1]<=lst_data[i+1]:\n",
        "                    lst_data[i]=lst_data[i-1]\n",
        "                else:\n",
        "                    lst_data[i]=lst_data[i+1]\n",
        "            elif lst_data[i-1]==None and lst_data[i+1]!=None:\n",
        "                lst_data[i]=lst_data[i+1]\n",
        "            elif lst_data[i-1]!=None and lst_data[i+1]==None:\n",
        "                lst_data[i]=lst_data[i-1]\n",
        "    return lst_data\n",
        "print(nearest_neighbor_interpolation(lst_data))\n"
      ],
      "metadata": {
        "colab": {
          "base_uri": "https://localhost:8080/"
        },
        "id": "48vp44tzADce",
        "outputId": "873b7e27-b455-489e-9f4c-ab304e2c27de"
      },
      "execution_count": null,
      "outputs": [
        {
          "output_type": "stream",
          "name": "stdout",
          "text": [
            "[1, 1.1, 1.1, 1.4, 1.4, 1.5, 1.5, 2.0]\n"
          ]
        }
      ]
    },
    {
      "cell_type": "markdown",
      "source": [
        "#**2D List**"
      ],
      "metadata": {
        "id": "kvRNyPHSZOj-"
      }
    },
    {
      "cell_type": "markdown",
      "source": [
        "## Trích xuất dữ liệu"
      ],
      "metadata": {
        "id": "7_QB28FJIecL"
      }
    },
    {
      "cell_type": "code",
      "source": [
        "lst_data=[[1,2,3],\n",
        "          [4,5,6],\n",
        "          [7,8,9]]\n",
        "lst_sub_data=[]\n",
        "for row in lst_data:\n",
        "  row_sub=[row[0], row[2]]\n",
        "  lst_sub_data.append(row_sub)\n",
        "print(lst_sub_data)"
      ],
      "metadata": {
        "colab": {
          "base_uri": "https://localhost:8080/"
        },
        "id": "JwISNKJSZTef",
        "outputId": "1ed135e4-270d-4108-cb09-c553051eb008"
      },
      "execution_count": null,
      "outputs": [
        {
          "output_type": "stream",
          "name": "stdout",
          "text": [
            "[[1, 3], [4, 6], [7, 9]]\n"
          ]
        }
      ]
    },
    {
      "cell_type": "code",
      "source": [
        "lst_sub_data=[]\n",
        "for row in lst_data:\n",
        "  lst_sub_data.append([row[0], row[2]])\n",
        "print(lst_sub_data)"
      ],
      "metadata": {
        "colab": {
          "base_uri": "https://localhost:8080/"
        },
        "id": "0VbW9mawcAUJ",
        "outputId": "ac749c61-e682-4907-acd0-0479222e9112"
      },
      "execution_count": null,
      "outputs": [
        {
          "output_type": "stream",
          "name": "stdout",
          "text": [
            "[[1, 3], [4, 6], [7, 9]]\n"
          ]
        }
      ]
    },
    {
      "cell_type": "code",
      "source": [
        "lst_sub_data = [[row[0], row[2]] for row in lst_data]\n",
        "\n",
        "print(lst_sub_data)"
      ],
      "metadata": {
        "colab": {
          "base_uri": "https://localhost:8080/"
        },
        "id": "uTc4ExgscTZz",
        "outputId": "25436c8c-6cac-49fe-b64c-9220b2c5e6ef"
      },
      "execution_count": null,
      "outputs": [
        {
          "output_type": "stream",
          "name": "stdout",
          "text": [
            "[[1, 3], [4, 6], [7, 9]]\n"
          ]
        }
      ]
    },
    {
      "cell_type": "markdown",
      "source": [
        "#**Matrix representation using List**"
      ],
      "metadata": {
        "id": "Xqu0720HdcHu"
      }
    },
    {
      "cell_type": "markdown",
      "source": [
        "## Tính tổng và hiệu 2 ma trận"
      ],
      "metadata": {
        "id": "bjn4w5KTHOAy"
      }
    },
    {
      "cell_type": "code",
      "source": [
        "#Tính tổng và hiệu 2 ma trận\n",
        "mat_a=[\n",
        "    [1,2,3],\n",
        "    [4,5,6],\n",
        "    [7,8,9]\n",
        "]\n",
        "mat_b=[\n",
        "    [2,4,6],\n",
        "    [1,3,5],\n",
        "    [1,0,1]\n",
        "]\n",
        "\n",
        "sum_mat=[]\n",
        "diff_mat=[]\n",
        "for i in range(len(mat_a)):\n",
        "    sum_mat.append([])\n",
        "    diff_mat.append([])\n",
        "    for j in range(len(mat_a[i])):\n",
        "        sum_mat[i].append(mat_a[i][j]+mat_b[i][j])\n",
        "        diff_mat[i].append(mat_a[i][j]-mat_b[i][j])\n",
        "print(\"Tổng hai ma trận: \",sum_mat)\n",
        "print(\"Hiệu hai ma trận: \",diff_mat)"
      ],
      "metadata": {
        "colab": {
          "base_uri": "https://localhost:8080/"
        },
        "id": "gQB3BzE2dfbf",
        "outputId": "6edaacb3-4fed-4b49-fbe5-fd56065573bd"
      },
      "execution_count": null,
      "outputs": [
        {
          "output_type": "stream",
          "name": "stdout",
          "text": [
            "Tổng hai ma trận:  [[3, 6, 9], [5, 8, 11], [8, 8, 10]]\n",
            "Hiệu hai ma trận:  [[-1, -2, -3], [3, 2, 1], [6, 8, 8]]\n"
          ]
        }
      ]
    },
    {
      "cell_type": "code",
      "source": [
        "#Tính tổng và hiệu 2 ma trận\n",
        "sum_matrix=[]\n",
        "diff_matrix=[]\n",
        "for i in range(len(mat_a)):\n",
        "    sum_row=[]\n",
        "    diff_row=[]\n",
        "    for j in range(len(mat_a[i])):\n",
        "        sum_row.append(mat_a[i][j]+mat_b[i][j])\n",
        "        diff_row.append(mat_a[i][j]-mat_b[i][j])\n",
        "    sum_matrix.append(sum_row)\n",
        "    diff_matrix.append(diff_row)\n",
        "print(\"Tổng hai ma trận: \",sum_matrix)\n",
        "print(\"Hiệu hai ma trận: \",diff_matrix)"
      ],
      "metadata": {
        "colab": {
          "base_uri": "https://localhost:8080/"
        },
        "id": "ILZJsv0U17zr",
        "outputId": "3833cfdf-de3c-407a-996d-485d7259812d"
      },
      "execution_count": null,
      "outputs": [
        {
          "output_type": "stream",
          "name": "stdout",
          "text": [
            "Tổng hai ma trận:  [[3, 6, 9], [5, 8, 11], [8, 8, 10]]\n",
            "Hiệu hai ma trận:  [[-1, -2, -3], [3, 2, 1], [6, 8, 8]]\n"
          ]
        }
      ]
    },
    {
      "cell_type": "markdown",
      "source": [
        "##Tính tích vô hướng 2 ma trận"
      ],
      "metadata": {
        "id": "bcaYPilBHWIR"
      }
    },
    {
      "cell_type": "code",
      "source": [
        "#Tính tích vô hướng 2 ma trận\n",
        "mat_a=[\n",
        "    [1,2,3],\n",
        "    [4,5,6],\n",
        "    [7,8,9]\n",
        "]\n",
        "mat_b=[\n",
        "    [2,4,6],\n",
        "    [1,3,5],\n",
        "    [1,0,1]\n",
        "]"
      ],
      "metadata": {
        "id": "7zCYtj4Q3DHQ"
      },
      "execution_count": null,
      "outputs": []
    },
    {
      "cell_type": "code",
      "source": [
        "c=[[0]*len(mat_b[0]) for _ in range(len(mat_a))]\n",
        "for m in range(len(mat_a)):\n",
        "    for p in range(len(mat_b[0])):\n",
        "        for n in range(len(mat_a[m])):\n",
        "            c[m][p]+=mat_a[m][n]*mat_b[n][p]\n",
        "print(\"Dot Product: \",c)"
      ],
      "metadata": {
        "colab": {
          "base_uri": "https://localhost:8080/"
        },
        "id": "8k1drt745nez",
        "outputId": "fd178929-1409-45a1-f17a-69664b8fecb6"
      },
      "execution_count": null,
      "outputs": [
        {
          "output_type": "stream",
          "name": "stdout",
          "text": [
            "Dot Product:  [[7, 10, 19], [19, 31, 55], [31, 52, 91]]\n"
          ]
        }
      ]
    },
    {
      "cell_type": "code",
      "source": [
        "def dot_product_mat(mat_a, mat_b):\n",
        "    result=[]\n",
        "    for m in range(len(mat_a)):\n",
        "        result1=[]\n",
        "        for p in range(len(mat_b[0])):\n",
        "            result2=0\n",
        "            for n in range(len(mat_a[m])):\n",
        "                result2+=mat_a[m][n]*mat_b[n][p]\n",
        "            result1.append(result2)\n",
        "        result.append(result1)\n",
        "    return(result)\n",
        "print(\"Dot Product: \",dot_product_mat(mat_a, mat_b))"
      ],
      "metadata": {
        "colab": {
          "base_uri": "https://localhost:8080/"
        },
        "id": "qWkFWLGlT3fI",
        "outputId": "a629251e-65ee-4875-c806-4c2612ca51b0"
      },
      "execution_count": null,
      "outputs": [
        {
          "output_type": "stream",
          "name": "stdout",
          "text": [
            "Dot Product:  [[7, 10, 19], [19, 31, 55], [31, 52, 91]]\n"
          ]
        }
      ]
    },
    {
      "cell_type": "code",
      "source": [
        "A=[\n",
        "    [1,2],\n",
        "    [3,4],\n",
        "    [5,6],\n",
        "    [1,0]\n",
        "    ]\n",
        "B=[\n",
        "    [1,2,3],\n",
        "    [0,1,2]\n",
        "    ]\n",
        "\n",
        "print(\"Dot Product: \", dot_product_mat(A,B))"
      ],
      "metadata": {
        "colab": {
          "base_uri": "https://localhost:8080/"
        },
        "id": "hGJpsXKaWYWn",
        "outputId": "aceca600-6353-4256-d0fe-38587d0cf747"
      },
      "execution_count": null,
      "outputs": [
        {
          "output_type": "stream",
          "name": "stdout",
          "text": [
            "Dot Product:  [[1, 4, 7], [3, 10, 17], [5, 16, 27], [1, 2, 3]]\n"
          ]
        }
      ]
    },
    {
      "cell_type": "code",
      "source": [
        "mat_a=[\n",
        "    [1,2],\n",
        "    [3,4],\n",
        "    [5,6],\n",
        "    [1,0]\n",
        "    ]\n",
        "mat_b=[\n",
        "    [1,2,3],\n",
        "    [0,1,2]\n",
        "    ]\n",
        "\n",
        "c=[[0]*len(mat_b[0]) for _ in range(len(mat_a))]\n",
        "for m in range(len(mat_a)):\n",
        "    for p in range(len(mat_b[0])):\n",
        "        for n in range(len(mat_a[m])):\n",
        "            c[m][p]+=mat_a[m][n]*mat_b[n][p]\n",
        "print(\"Dot Product: \",c)"
      ],
      "metadata": {
        "colab": {
          "base_uri": "https://localhost:8080/"
        },
        "id": "ZDd7zoTVaMa8",
        "outputId": "5d6c5d95-6546-4025-83b3-934a99340bd6"
      },
      "execution_count": null,
      "outputs": [
        {
          "output_type": "stream",
          "name": "stdout",
          "text": [
            "Dot Product:  [[1, 4, 7], [3, 10, 17], [5, 16, 27], [1, 2, 3]]\n"
          ]
        }
      ]
    },
    {
      "cell_type": "markdown",
      "source": [
        "# **List Comprehension**"
      ],
      "metadata": {
        "id": "8JpJf2knax7G"
      }
    },
    {
      "cell_type": "code",
      "source": [
        "stop_words = [\"I\", \"love\", \"and\", \"to\"]\n",
        "input = \"I love AI and listen to music \"\n",
        "output = [word for word in input.split() if word not in stop_words]\n",
        "print(output)"
      ],
      "metadata": {
        "colab": {
          "base_uri": "https://localhost:8080/"
        },
        "id": "euKRaUuNap06",
        "outputId": "f84539fc-4260-4f73-8107-59096dbb7416"
      },
      "execution_count": null,
      "outputs": [
        {
          "output_type": "stream",
          "name": "stdout",
          "text": [
            "['AI', 'listen', 'music']\n"
          ]
        }
      ]
    },
    {
      "cell_type": "markdown",
      "source": [
        "# **Mathemetic with List**"
      ],
      "metadata": {
        "id": "Y3W5WyBnyXng"
      }
    },
    {
      "cell_type": "markdown",
      "source": [
        "##Chuẩn hóa dữ liệu (Normalization)"
      ],
      "metadata": {
        "id": "ytaNA6T4HalX"
      }
    },
    {
      "cell_type": "code",
      "source": [
        "# 1 Chuẩn hóa dữ liệu (Normalization)\n",
        "def normalize(lst_data):\n",
        "  return [(x-min(lst_data))/(max(lst_data)-min(lst_data)) for x in lst_data]\n"
      ],
      "metadata": {
        "id": "PsbWzxwzavOW"
      },
      "execution_count": null,
      "outputs": []
    },
    {
      "cell_type": "code",
      "source": [
        "test_cases = [\n",
        " [11, 18, 24, 30, 36],\n",
        " [50, 100, 150, 200, 250],\n",
        " [3, 5, 7, 9, 11]\n",
        " ]\n",
        "\n",
        "for i, test in enumerate(test_cases):\n",
        "    result=normalize(test)\n",
        "    print(f\"Test {i+1}: {result}\")"
      ],
      "metadata": {
        "colab": {
          "base_uri": "https://localhost:8080/"
        },
        "id": "yUuGgQC50exh",
        "outputId": "a75703e3-e37d-4ded-e6ee-ba59c02ae297"
      },
      "execution_count": null,
      "outputs": [
        {
          "output_type": "stream",
          "name": "stdout",
          "text": [
            "Test 1: [0.0, 0.28, 0.52, 0.76, 1.0]\n",
            "Test 2: [0.0, 0.25, 0.5, 0.75, 1.0]\n",
            "Test 3: [0.0, 0.25, 0.5, 0.75, 1.0]\n"
          ]
        }
      ]
    },
    {
      "cell_type": "markdown",
      "source": [
        "##Trung bình động (Moving Average)"
      ],
      "metadata": {
        "id": "e9EQZrjjHcdW"
      }
    },
    {
      "cell_type": "code",
      "source": [
        "# Trung bình động (Moving Average)\n",
        "\n",
        "def moving_average(lst,k):\n",
        "     moving_avg=[]\n",
        "     for i in range(len(lst)-k+1):\n",
        "         moving_avg.append(sum(lst[i:i+k])/k)\n",
        "     return moving_avg\n",
        "\n",
        "test_cases = [\n",
        " ([1 , 2, 3, 4, 5, 6, 7, 8, 9], 3) ,\n",
        " ([10 , 20, 30, 40, 50, 60, 70] , 4) ,\n",
        " ([5 , 10, 15, 20, 25] , 2)\n",
        " ]\n",
        "\n",
        "for i, (test,k) in enumerate(test_cases):\n",
        "     result=moving_average(test,k)\n",
        "     print(f\"Test {i+1}: {result}\")\n"
      ],
      "metadata": {
        "colab": {
          "base_uri": "https://localhost:8080/"
        },
        "id": "Xs_K_ce16083",
        "outputId": "5fe4d886-510e-4409-e160-733afd356e69"
      },
      "execution_count": null,
      "outputs": [
        {
          "output_type": "stream",
          "name": "stdout",
          "text": [
            "Test 1: [2.0, 3.0, 4.0, 5.0, 6.0, 7.0, 8.0]\n",
            "Test 2: [25.0, 35.0, 45.0, 55.0]\n",
            "Test 3: [7.5, 12.5, 17.5, 22.5]\n"
          ]
        }
      ]
    },
    {
      "cell_type": "code",
      "source": [
        "def sum_moving(lst):\n",
        "    moving_sum=0\n",
        "    for i in lst:\n",
        "        moving_sum+=i\n",
        "    return moving_sum\n",
        "\n",
        "def moving_average(lst,k):\n",
        "     moving_avg=[]\n",
        "     for i in range(len(lst)-k+1):\n",
        "         group=lst[i:i+k]\n",
        "         total=sum_moving(group)\n",
        "         moving_avg.append(total/k)\n",
        "     return moving_avg\n",
        "\n",
        "test_cases = [\n",
        " ([1 , 2, 3, 4, 5, 6, 7, 8, 9], 3) ,\n",
        " ([10 , 20, 30, 40, 50, 60, 70] , 4) ,\n",
        " ([5 , 10, 15, 20, 25] , 2)\n",
        " ]\n",
        "\n",
        "for i, (test,k) in enumerate(test_cases):\n",
        "     result=moving_average(test,k)\n",
        "     print(f\"Test {i+1}: {result}\")"
      ],
      "metadata": {
        "colab": {
          "base_uri": "https://localhost:8080/"
        },
        "id": "HCCe-e-tDp6I",
        "outputId": "fd75a8d0-7c46-434d-b9ba-debfbe4c235e"
      },
      "execution_count": null,
      "outputs": [
        {
          "output_type": "stream",
          "name": "stdout",
          "text": [
            "Test 1: [2.0, 3.0, 4.0, 5.0, 6.0, 7.0, 8.0]\n",
            "Test 2: [25.0, 35.0, 45.0, 55.0]\n",
            "Test 3: [7.5, 12.5, 17.5, 22.5]\n"
          ]
        }
      ]
    },
    {
      "cell_type": "markdown",
      "source": [
        "###Tích vô hướng của hai vector"
      ],
      "metadata": {
        "id": "iuZNaEi2HfZV"
      }
    },
    {
      "cell_type": "code",
      "source": [
        "# Tích vô hướng của hai vector\n",
        "def dot_product (v1 , v2):\n",
        "    result=0\n",
        "    for i in range(len(v1)):\n",
        "        result+=v1[i]*v2[i]\n",
        "    return result\n",
        "\n",
        "\n",
        "\n",
        "test_cases = [\n",
        " ([1, 2, 3], [4, 5, 6]) ,\n",
        " ([2, 4, 6], [1, 3, 5]) ,\n",
        " ([0, 1, 2], [3, 4, 5])\n",
        " ]\n",
        "\n",
        "for i, (v1, v2) in enumerate (test_cases):\n",
        "    result = dot_product(v1, v2)\n",
        "    print(f\" Test {i +1}: {result}\")"
      ],
      "metadata": {
        "colab": {
          "base_uri": "https://localhost:8080/"
        },
        "id": "uGENivTYFagF",
        "outputId": "38515740-4c28-41eb-9016-46b024cdd238"
      },
      "execution_count": null,
      "outputs": [
        {
          "output_type": "stream",
          "name": "stdout",
          "text": [
            " Test 1: 32\n",
            " Test 2: 44\n",
            " Test 3: 14\n"
          ]
        }
      ]
    },
    {
      "cell_type": "markdown",
      "source": [
        "## Mô phỏng Perceptron"
      ],
      "metadata": {
        "id": "6ApyGoaPHB7u"
      }
    },
    {
      "cell_type": "code",
      "source": [
        "def perceptron_relu ( weights, inputs, bias):\n",
        "    total = bias\n",
        "    for i in range(len(weights)):\n",
        "        total += weights[i] * inputs[i]\n",
        "    if total > 0:\n",
        "        return total\n",
        "    else:\n",
        "        return 0\n",
        "\n",
        "\n",
        "test_cases = [\n",
        "    ([0.5, -0.6, 0.8] , [1.0, 0.0, 1.0], -0.3),\n",
        "    ([0.2, 0.5, -0.4] , [1.0, 2.0, -1.0], 0.1),\n",
        "    ([1.0, -1.0, 0.5] , [0.5, 1.0, -0.5], -0.2)\n",
        "]\n",
        "\n",
        "for i, (weights, inputs, bias) in enumerate (test_cases):\n",
        "    result = perceptron_relu ( weights, inputs, bias)\n",
        "    print (f\"Test {i+1} : {result}\")\n"
      ],
      "metadata": {
        "colab": {
          "base_uri": "https://localhost:8080/"
        },
        "id": "AzQ8YWj4HFZo",
        "outputId": "5b5e1c79-af17-41e0-905e-68094a35136d"
      },
      "execution_count": null,
      "outputs": [
        {
          "output_type": "stream",
          "name": "stdout",
          "text": [
            "Test 1 : 1.0\n",
            "Test 2 : 1.7000000000000002\n",
            "Test 3 : 0\n"
          ]
        }
      ]
    },
    {
      "cell_type": "code",
      "source": [
        "def relu(x):\n",
        "    if x>0:\n",
        "        return x\n",
        "    else:\n",
        "        return 0\n",
        "\n",
        "def perceptron_relu ( weights, inputs, bias):\n",
        "    total = bias\n",
        "    for i in range(len(weights)):\n",
        "        total += weights[i] * inputs[i]\n",
        "    return relu(total)\n",
        "\n",
        "test_cases = [\n",
        "    ([0.5, -0.6, 0.8] , [1.0, 0.0, 1.0], -0.3),\n",
        "    ([0.2, 0.5, -0.4] , [1.0, 2.0, -1.0], 0.1),\n",
        "    ([1.0, -1.0, 0.5] , [0.5, 1.0, -0.5], -0.2)\n",
        "]\n",
        "\n",
        "for i, (weights, inputs, bias) in enumerate (test_cases):\n",
        "    result = perceptron_relu ( weights, inputs, bias)\n",
        "    print (f\"Test {i+1} : {result}\")"
      ],
      "metadata": {
        "colab": {
          "base_uri": "https://localhost:8080/"
        },
        "id": "dENieFDkLzOz",
        "outputId": "657a9123-7a51-4e4d-943c-537fdeb19a83"
      },
      "execution_count": null,
      "outputs": [
        {
          "output_type": "stream",
          "name": "stdout",
          "text": [
            "Test 1 : 1.0\n",
            "Test 2 : 1.7000000000000002\n",
            "Test 3 : 0\n"
          ]
        }
      ]
    }
  ]
}