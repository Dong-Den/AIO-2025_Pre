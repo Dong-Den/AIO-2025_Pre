{
  "nbformat": 4,
  "nbformat_minor": 0,
  "metadata": {
    "colab": {
      "provenance": []
    },
    "kernelspec": {
      "name": "python3",
      "display_name": "Python 3"
    },
    "language_info": {
      "name": "python"
    }
  },
  "cells": [
    {
      "cell_type": "markdown",
      "source": [
        "# **List Creation and Accessing**"
      ],
      "metadata": {
        "id": "8o3XEMnJ4Hh5"
      }
    },
    {
      "cell_type": "markdown",
      "source": [
        "# Khởi tạo List và truy xuất các phần tử thông qua chỉ số (index)"
      ],
      "metadata": {
        "id": "cOxVXxdx4LZJ"
      }
    },
    {
      "cell_type": "code",
      "source": [
        "#Câu 1\n",
        "lst_data=[1,2,3,4,5,6,7,8,9,10]\n",
        "print(lst_data)\n"
      ],
      "metadata": {
        "colab": {
          "base_uri": "https://localhost:8080/"
        },
        "id": "u4MlwHFF4P4c",
        "outputId": "270be69d-1c52-4122-f903-0f65de3dc1bf"
      },
      "execution_count": null,
      "outputs": [
        {
          "output_type": "stream",
          "name": "stdout",
          "text": [
            "[1, 2, 3, 4, 5, 6, 7, 8, 9, 10]\n"
          ]
        }
      ]
    },
    {
      "cell_type": "code",
      "source": [
        "lst_data=list(range(1, 11))\n",
        "print(lst_data)"
      ],
      "metadata": {
        "colab": {
          "base_uri": "https://localhost:8080/"
        },
        "id": "4Sl4Vcs1keJK",
        "outputId": "61c948f2-8927-4979-d60f-2c6196a3d9ef"
      },
      "execution_count": null,
      "outputs": [
        {
          "output_type": "stream",
          "name": "stdout",
          "text": [
            "[1, 2, 3, 4, 5, 6, 7, 8, 9, 10]\n"
          ]
        }
      ]
    },
    {
      "cell_type": "code",
      "source": [
        "#Câu 2\n",
        "print(lst_data[0:5])"
      ],
      "metadata": {
        "colab": {
          "base_uri": "https://localhost:8080/"
        },
        "id": "CmVZK9wriEFc",
        "outputId": "ffc31805-68db-40c1-f9d6-14700368dde7"
      },
      "execution_count": null,
      "outputs": [
        {
          "output_type": "stream",
          "name": "stdout",
          "text": [
            "[1, 2, 3, 4, 5]\n"
          ]
        }
      ]
    },
    {
      "cell_type": "code",
      "source": [
        "#Câu 3\n",
        "result=[]\n",
        "for i in range (len(lst_data)):\n",
        "  if lst_data[i]%2!=0:\n",
        "    result.append(lst_data[i])\n",
        "print(result)"
      ],
      "metadata": {
        "colab": {
          "base_uri": "https://localhost:8080/"
        },
        "id": "OElb1Qp46XNh",
        "outputId": "cfbc46c7-6c91-4357-f37b-fb746e583129"
      },
      "execution_count": null,
      "outputs": [
        {
          "output_type": "stream",
          "name": "stdout",
          "text": [
            "[1, 3, 5, 7, 9]\n"
          ]
        }
      ]
    },
    {
      "cell_type": "code",
      "source": [
        "#Câu 4\n",
        "sum=0\n",
        "for number in lst_data:\n",
        "  sum+=number\n",
        "print(sum)"
      ],
      "metadata": {
        "colab": {
          "base_uri": "https://localhost:8080/"
        },
        "id": "1_2T8t5F75_S",
        "outputId": "dffe2d3b-92e0-45b6-a442-455a485810c8"
      },
      "execution_count": null,
      "outputs": [
        {
          "output_type": "stream",
          "name": "stdout",
          "text": [
            "55\n"
          ]
        }
      ]
    }
  ]
}