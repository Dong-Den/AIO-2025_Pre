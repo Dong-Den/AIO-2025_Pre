{
  "nbformat": 4,
  "nbformat_minor": 0,
  "metadata": {
    "colab": {
      "provenance": []
    },
    "kernelspec": {
      "name": "python3",
      "display_name": "Python 3"
    },
    "language_info": {
      "name": "python"
    }
  },
  "cells": [
    {
      "cell_type": "markdown",
      "source": [
        "# **Computing median for a list of numbers**"
      ],
      "metadata": {
        "id": "A5tzu-d1JGox"
      }
    },
    {
      "cell_type": "markdown",
      "source": [
        "#**Median**"
      ],
      "metadata": {
        "id": "vNZpbQmwnRPj"
      }
    },
    {
      "cell_type": "code",
      "execution_count": null,
      "metadata": {
        "colab": {
          "base_uri": "https://localhost:8080/"
        },
        "id": "S8bQlHaaI5MJ",
        "outputId": "301093bd-5c4c-45a3-b74e-9e8a21d742df"
      },
      "outputs": [
        {
          "output_type": "stream",
          "name": "stdout",
          "text": [
            "5.5\n"
          ]
        }
      ],
      "source": [
        "#Tính trung vị Median\n",
        "lst_data=list(range(1,11))\n",
        "lst_data.sort()\n",
        "n=len(lst_data)\n",
        "if n%2==1:\n",
        "    median=lst_data[n//2]\n",
        "else:\n",
        "    median=(lst_data[n//2]+lst_data[(n//2)-1])/2\n",
        "print(median)"
      ]
    },
    {
      "cell_type": "code",
      "source": [
        "lst_data=list(range(1,11))\n",
        "lst_data.sort()\n",
        "n=len(lst_data)\n",
        "if n%2==1:\n",
        "    median=lst_data[(n+1)//2-1]\n",
        "else:\n",
        "    median=(lst_data[n//2]+lst_data[(n//2)-1])/2\n",
        "print(median)"
      ],
      "metadata": {
        "colab": {
          "base_uri": "https://localhost:8080/"
        },
        "id": "r65lGsHLmutc",
        "outputId": "3cb06873-cc9a-4173-a1c0-4d808f9e7f39"
      },
      "execution_count": null,
      "outputs": [
        {
          "output_type": "stream",
          "name": "stdout",
          "text": [
            "5.5\n"
          ]
        }
      ]
    },
    {
      "cell_type": "code",
      "source": [
        "#Lọc số lẻ và lưu ra list mới với thứ tự giảm dần\n",
        "lst_odd_filter=[x for x in lst_data if x%2!=0]\n",
        "lst_odd_filter.sort(reverse=True)\n",
        "print(lst_odd_filter)"
      ],
      "metadata": {
        "colab": {
          "base_uri": "https://localhost:8080/"
        },
        "id": "xesUSx3LMvo2",
        "outputId": "92757431-9fe6-44bc-9a1e-6393f6e38664"
      },
      "execution_count": null,
      "outputs": [
        {
          "output_type": "stream",
          "name": "stdout",
          "text": [
            "[9, 7, 5, 3, 1]\n"
          ]
        }
      ]
    },
    {
      "cell_type": "code",
      "source": [
        "lst_odd_filter = sorted([x for x in lst_data if x % 2 != 0], reverse=True)"
      ],
      "metadata": {
        "id": "JGLVSh9LnBSh"
      },
      "execution_count": null,
      "outputs": []
    },
    {
      "cell_type": "code",
      "source": [
        "lst_odd_filter = [i for i in sorted(lst_data,reverse=True) if i%2 != 0]"
      ],
      "metadata": {
        "id": "97u8x4eenEdT"
      },
      "execution_count": null,
      "outputs": []
    },
    {
      "cell_type": "markdown",
      "source": [
        "#**Mean**"
      ],
      "metadata": {
        "id": "EyGWkhwvnUl7"
      }
    },
    {
      "cell_type": "code",
      "source": [
        "#Tính giá trị trung bình Mean\n",
        "lst_data=list(range(1,11))\n",
        "lst_data\n"
      ],
      "metadata": {
        "colab": {
          "base_uri": "https://localhost:8080/"
        },
        "id": "JkqUe1pZObt0",
        "outputId": "990b98bc-3a76-4b9a-805a-1312a55278f6"
      },
      "execution_count": null,
      "outputs": [
        {
          "output_type": "execute_result",
          "data": {
            "text/plain": [
              "[1, 2, 3, 4, 5, 6, 7, 8, 9, 10]"
            ]
          },
          "metadata": {},
          "execution_count": 16
        }
      ]
    },
    {
      "cell_type": "code",
      "source": [
        "#Tính gía trị trung bình cho các số lẻ và số chẵn từ lst_data vừa tạo\n",
        "lst_odd=[x for x in lst_data if x%2!=0]\n",
        "lst_even=[x for x in lst_data if x%2==0]\n",
        "mean_odd=sum(lst_odd)/len(lst_odd)\n",
        "mean_even=sum(lst_even)/len(lst_even)\n",
        "print(f\"Mean lẻ: {mean_odd}, Mean chẵn: {mean_even}\")"
      ],
      "metadata": {
        "colab": {
          "base_uri": "https://localhost:8080/"
        },
        "id": "AzCl4Zr3ndpW",
        "outputId": "531b2914-abd6-455b-c9a2-5b69cdb4bd77"
      },
      "execution_count": null,
      "outputs": [
        {
          "output_type": "stream",
          "name": "stdout",
          "text": [
            "Mean lẻ: 5.0, Mean chẵn: 6.0\n"
          ]
        }
      ]
    },
    {
      "cell_type": "code",
      "source": [
        "mean_le = sum([n for n in lst_data if n % 2 != 0]) / len([n for n in lst_data if n % 2 != 0])\n",
        "mean_chan = sum([n for n in lst_data if n % 2 == 0]) / len([n for n in lst_data if n % 2 == 0])"
      ],
      "metadata": {
        "id": "TjBr4z9qqtKu"
      },
      "execution_count": null,
      "outputs": []
    },
    {
      "cell_type": "code",
      "source": [
        "#Tính giá trị trung bình và Trung vị, và cho nhận xét:\n",
        "mean=sum(lst_data)/len(lst_data)\n",
        "print(\"Mean:\",mean)\n",
        "\n",
        "n=len(lst_data)\n",
        "if n%2!=0:\n",
        "    median=lst_data[(n+1)//2-1]\n",
        "else:\n",
        "    median=(lst_data[(n//2)-1] + lst_data[n//2])/2\n",
        "print(\"Median:\",median)"
      ],
      "metadata": {
        "colab": {
          "base_uri": "https://localhost:8080/"
        },
        "id": "hH-Gvinuofth",
        "outputId": "cedcda43-a783-4855-e16f-6f0bb509f135"
      },
      "execution_count": null,
      "outputs": [
        {
          "output_type": "stream",
          "name": "stdout",
          "text": [
            "Mean: 5.5\n",
            "Median: 5.5\n"
          ]
        }
      ]
    },
    {
      "cell_type": "code",
      "source": [
        "if mean == median:\n",
        "    print(f\"Mean = Median = {median}\")\n",
        "else:\n",
        "    print(f\"Mean = {mean}, Median= {median}\")\n"
      ],
      "metadata": {
        "colab": {
          "base_uri": "https://localhost:8080/"
        },
        "id": "zTY4ZopkrD1E",
        "outputId": "594fe908-1f13-4df0-db08-5099ff0f78d2"
      },
      "execution_count": null,
      "outputs": [
        {
          "output_type": "stream",
          "name": "stdout",
          "text": [
            "Mean = Median = 5.5\n"
          ]
        }
      ]
    }
  ]
}