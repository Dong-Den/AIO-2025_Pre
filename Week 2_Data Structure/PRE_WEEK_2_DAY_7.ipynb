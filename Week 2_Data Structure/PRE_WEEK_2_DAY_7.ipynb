{
  "nbformat": 4,
  "nbformat_minor": 0,
  "metadata": {
    "colab": {
      "provenance": []
    },
    "kernelspec": {
      "name": "python3",
      "display_name": "Python 3"
    },
    "language_info": {
      "name": "python"
    }
  },
  "cells": [
    {
      "cell_type": "markdown",
      "source": [
        "# **Section 2 - List CRUD**"
      ],
      "metadata": {
        "id": "g4JYuyu9mRJP"
      }
    },
    {
      "cell_type": "code",
      "execution_count": null,
      "metadata": {
        "colab": {
          "base_uri": "https://localhost:8080/"
        },
        "id": "QAHEI7F1lwed",
        "outputId": "bd9dfd03-8457-4b7c-e8db-3fcb192ee033"
      },
      "outputs": [
        {
          "output_type": "stream",
          "name": "stdout",
          "text": [
            "[2, 4, 6, 8, 10, 12]\n"
          ]
        }
      ],
      "source": [
        "#Câu 1\n",
        "list = __builtins__.list # debug hàm list bên dưới chạy báo lỗi (chỉ định lại list là đối tượng mặc định của Python)\n",
        "lst_data=list(range(2,13,2))\n",
        "print(lst_data)"
      ]
    },
    {
      "cell_type": "code",
      "source": [
        "lst_data=[]\n",
        "for i in range(1,13):\n",
        "  if i%2==0:\n",
        "    lst_data.append(i)\n",
        "print(lst_data)"
      ],
      "metadata": {
        "colab": {
          "base_uri": "https://localhost:8080/"
        },
        "id": "qGxoo52rm9HJ",
        "outputId": "bdd7c0bf-586d-4d52-af8e-9c7a903b6a3b"
      },
      "execution_count": null,
      "outputs": [
        {
          "output_type": "stream",
          "name": "stdout",
          "text": [
            "[2, 4, 6, 8, 10, 12]\n"
          ]
        }
      ]
    },
    {
      "cell_type": "code",
      "source": [
        "#Câu 2\n",
        "for i in lst_data:\n",
        "  if i%3==0:\n",
        "    lst_data.remove(i)\n",
        "print(lst_data)"
      ],
      "metadata": {
        "colab": {
          "base_uri": "https://localhost:8080/"
        },
        "id": "EmNyqWFPnPVN",
        "outputId": "8ceaff7a-e07f-4264-bce8-a5b61843f568"
      },
      "execution_count": null,
      "outputs": [
        {
          "output_type": "stream",
          "name": "stdout",
          "text": [
            "[2, 4, 8, 10]\n"
          ]
        }
      ]
    },
    {
      "cell_type": "code",
      "source": [
        "#Câu 3\n",
        "list1=lst_data.copy()  # debug: chạy lại nhiều lần, kết quả bị thay đổi\n",
        "list = __builtins__.list # debug hàm list bên dưới k chạy dc\n",
        "list1.extend(list(range(1,4)))\n",
        "list1[3:3]=list(range(6,9))\n",
        "print(list1)\n"
      ],
      "metadata": {
        "colab": {
          "base_uri": "https://localhost:8080/"
        },
        "id": "NpH5wAfmpNu8",
        "outputId": "ba92f754-43ff-4c1e-9509-c22a50d28fa0"
      },
      "execution_count": null,
      "outputs": [
        {
          "output_type": "stream",
          "name": "stdout",
          "text": [
            "[2, 4, 8, 6, 7, 8, 10, 1, 2, 3]\n"
          ]
        }
      ]
    },
    {
      "cell_type": "code",
      "source": [],
      "metadata": {
        "id": "P6FiJLvN3EUx"
      },
      "execution_count": null,
      "outputs": []
    },
    {
      "cell_type": "code",
      "source": [
        "#Câu 4\n",
        "for i in range(len(list1)):\n",
        "  if list1[i]%2==0 or list1[i]%5==0:\n",
        "    list1[i]=0\n",
        "print(list1)"
      ],
      "metadata": {
        "colab": {
          "base_uri": "https://localhost:8080/"
        },
        "id": "G6avoLkz2YGW",
        "outputId": "1436821f-b99c-46ba-9829-fba518395892"
      },
      "execution_count": null,
      "outputs": [
        {
          "output_type": "stream",
          "name": "stdout",
          "text": [
            "[0, 0, 0, 0, 7, 0, 0, 1, 0, 3]\n"
          ]
        }
      ]
    }
  ]
}