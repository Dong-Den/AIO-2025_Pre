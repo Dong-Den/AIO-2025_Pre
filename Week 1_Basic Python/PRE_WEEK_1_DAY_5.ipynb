{
  "nbformat": 4,
  "nbformat_minor": 0,
  "metadata": {
    "colab": {
      "provenance": []
    },
    "kernelspec": {
      "name": "python3",
      "display_name": "Python 3"
    },
    "language_info": {
      "name": "python"
    }
  },
  "cells": [
    {
      "cell_type": "markdown",
      "source": [
        "# **While-Loop Exercise: Phương pháp Newton Raphson**"
      ],
      "metadata": {
        "id": "e8pQXVSxBFji"
      }
    },
    {
      "cell_type": "code",
      "source": [
        "def find_squared_root(a):\n",
        "  EPSILON=0.001\n",
        "  if a<0:\n",
        "    print(\"Squared root of negative number is invalid\")\n",
        "    return None\n",
        "  if a==0:\n",
        "    return 0\n",
        "  if a>0:\n",
        "    base=0\n",
        "    x0=a\n",
        "    while abs(x0-base)>=EPSILON:\n",
        "      base=x0\n",
        "      x0=base-(base**2-a)/(2*base)\n",
        "    return x0"
      ],
      "metadata": {
        "id": "W0Rc75vMBGQh"
      },
      "execution_count": null,
      "outputs": []
    },
    {
      "cell_type": "code",
      "source": [
        "print(find_squared_root(2))\n",
        "print(find_squared_root(3))"
      ],
      "metadata": {
        "colab": {
          "base_uri": "https://localhost:8080/"
        },
        "id": "nFOZAkJsBu1p",
        "outputId": "cc1561aa-53f9-4c26-e34c-ad9ac090ee9e"
      },
      "execution_count": null,
      "outputs": [
        {
          "output_type": "stream",
          "name": "stdout",
          "text": [
            "1.4142135623746899\n",
            "1.7320508100147276\n"
          ]
        }
      ]
    }
  ]
}