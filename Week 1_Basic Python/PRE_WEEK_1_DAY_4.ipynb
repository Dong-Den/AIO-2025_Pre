{
  "nbformat": 4,
  "nbformat_minor": 0,
  "metadata": {
    "colab": {
      "provenance": []
    },
    "kernelspec": {
      "name": "python3",
      "display_name": "Python 3"
    },
    "language_info": {
      "name": "python"
    }
  },
  "cells": [
    {
      "cell_type": "code",
      "execution_count": null,
      "metadata": {
        "id": "MW4W5Rb56rOt"
      },
      "outputs": [],
      "source": []
    },
    {
      "cell_type": "markdown",
      "source": [
        "#While Loop + continue and break keywords"
      ],
      "metadata": {
        "id": "R5jO3bSMbL2Y"
      }
    },
    {
      "cell_type": "markdown",
      "source": [
        "### Cài đặt hàm find_divisible_number(a) tìm số nguyên dương nhỏ nhất lớn hơn 100 và chia hết cho số nguyên dương a"
      ],
      "metadata": {
        "id": "fj2CinLbbT1N"
      }
    },
    {
      "cell_type": "code",
      "source": [
        "def find_divisible_number (a):\n",
        "  number=101\n",
        "  while number%a!=0:\n",
        "    number+=1\n",
        "  return number\n"
      ],
      "metadata": {
        "id": "MQlEgOg0bNrR"
      },
      "execution_count": null,
      "outputs": []
    },
    {
      "cell_type": "code",
      "source": [
        "print(find_divisible_number (5))\n",
        "print(find_divisible_number (17))"
      ],
      "metadata": {
        "colab": {
          "base_uri": "https://localhost:8080/"
        },
        "id": "v-SK73UkbVnv",
        "outputId": "fbe45944-6cdc-49e6-bcec-196064a69be4"
      },
      "execution_count": null,
      "outputs": [
        {
          "output_type": "stream",
          "name": "stdout",
          "text": [
            "105\n",
            "102\n"
          ]
        }
      ]
    },
    {
      "cell_type": "code",
      "source": [
        "def find_divisible_number (a):\n",
        "  number=101\n",
        "  while True:\n",
        "     if number % a == 0:\n",
        "            return number\n",
        "     number += 1"
      ],
      "metadata": {
        "id": "vLhRyDrKvXob"
      },
      "execution_count": null,
      "outputs": []
    },
    {
      "cell_type": "code",
      "source": [
        "print(find_divisible_number (5))\n",
        "print(find_divisible_number (17))"
      ],
      "metadata": {
        "colab": {
          "base_uri": "https://localhost:8080/"
        },
        "id": "9t6W4Rhlvujb",
        "outputId": "47f4a744-2219-4656-b1ee-e7b48c7d612f"
      },
      "execution_count": null,
      "outputs": [
        {
          "output_type": "stream",
          "name": "stdout",
          "text": [
            "105\n",
            "102\n"
          ]
        }
      ]
    },
    {
      "cell_type": "code",
      "source": [
        "def find_divisible_number(a):\n",
        "  number=(100//a+1)*a\n",
        "  return number\n",
        "\n",
        "print(find_divisible_number (5))\n",
        "print(find_divisible_number (17))"
      ],
      "metadata": {
        "colab": {
          "base_uri": "https://localhost:8080/"
        },
        "id": "89tvgIUybRon",
        "outputId": "4d145dfb-ce2f-4060-c2e2-f9f02884a844"
      },
      "execution_count": null,
      "outputs": [
        {
          "output_type": "stream",
          "name": "stdout",
          "text": [
            "105\n",
            "102\n"
          ]
        }
      ]
    }
  ]
}