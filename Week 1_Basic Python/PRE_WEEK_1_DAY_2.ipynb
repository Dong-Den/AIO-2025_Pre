{
  "nbformat": 4,
  "nbformat_minor": 0,
  "metadata": {
    "colab": {
      "provenance": []
    },
    "kernelspec": {
      "name": "python3",
      "display_name": "Python 3"
    },
    "language_info": {
      "name": "python"
    }
  },
  "cells": [
    {
      "cell_type": "code",
      "execution_count": null,
      "metadata": {
        "id": "veaXME1Vaf1K"
      },
      "outputs": [],
      "source": []
    },
    {
      "cell_type": "markdown",
      "source": [
        "# 2.1 Tính lãi suất tiền gửi ngân hàng - Dùng vòng lặp for"
      ],
      "metadata": {
        "id": "5RnGmxBsamuK"
      }
    },
    {
      "cell_type": "code",
      "source": [
        "def compute_interest(money, period):  #cho test case theo tính toán thực tế\n",
        "  for _ in range (period+1):\n",
        "    money*=(1+1/period)\n",
        "  return money\n",
        "  print(f\"Số tiền lãi nhận được là:, {money:.3f}\")"
      ],
      "metadata": {
        "id": "k8CUcNvcdTvk"
      },
      "execution_count": null,
      "outputs": []
    },
    {
      "cell_type": "code",
      "source": [
        "print(compute_interest(1,12))\n",
        "print(compute_interest(1,365))\n",
        "print(compute_interest(1,730))"
      ],
      "metadata": {
        "colab": {
          "base_uri": "https://localhost:8080/"
        },
        "id": "LgD4dWzddVnh",
        "outputId": "7df3301c-79ae-46ac-b237-2cce6dbfd37f"
      },
      "execution_count": null,
      "outputs": [
        {
          "output_type": "stream",
          "name": "stdout",
          "text": [
            "2.8307882310767325\n",
            "2.7220046532055937\n",
            "2.7201434529349564\n"
          ]
        }
      ]
    },
    {
      "cell_type": "code",
      "source": [
        "def compute_interest(money, period):  #cho test case theo bài tập\n",
        "  for _ in range (period):\n",
        "    money*=(1+1/period)\n",
        "  return money\n",
        "  print(f\"Số tiền lãi nhận được là:, {money:.3f}\")"
      ],
      "metadata": {
        "id": "0nrNMzwhavyE"
      },
      "execution_count": null,
      "outputs": []
    },
    {
      "cell_type": "code",
      "source": [
        "print(compute_interest(1,12))\n",
        "print(compute_interest(1,365))\n",
        "print(compute_interest(1,730))"
      ],
      "metadata": {
        "colab": {
          "base_uri": "https://localhost:8080/"
        },
        "id": "6ew_VLwocHaD",
        "outputId": "a922fdf9-24f5-4b7c-87e8-69bddbfea60d"
      },
      "execution_count": null,
      "outputs": [
        {
          "output_type": "stream",
          "name": "stdout",
          "text": [
            "2.6130352902246763\n",
            "2.7145674820219714\n",
            "2.716422326460353\n"
          ]
        }
      ]
    },
    {
      "cell_type": "markdown",
      "source": [
        "# 2.2 Thuật toán sàng số nguyên tố Eratosthenes"
      ],
      "metadata": {
        "id": "omSbFO_pdgtI"
      }
    },
    {
      "cell_type": "code",
      "source": [
        "def is_prime_eratosthenes(n):\n",
        "  if n<2:\n",
        "    return False\n",
        "  is_prime=[True]*(n+1)\n",
        "  is_prime[0]=is_prime[1]=False\n",
        "\n",
        "  for i in range (2,int(n**(1/2))+1):\n",
        "    if is_prime[i]:\n",
        "      for j in range (i*i, n+1, i):\n",
        "        is_prime[j]=False\n",
        "  return is_prime[n]"
      ],
      "metadata": {
        "id": "0rYSi7FsdjxV"
      },
      "execution_count": null,
      "outputs": []
    },
    {
      "cell_type": "code",
      "source": [
        "print(is_prime_eratosthenes(7))\n",
        "print(is_prime_eratosthenes(10))\n",
        "print(is_prime_eratosthenes(2))\n",
        "print(is_prime_eratosthenes(1))\n"
      ],
      "metadata": {
        "colab": {
          "base_uri": "https://localhost:8080/"
        },
        "id": "sFxcWQ1-fK0d",
        "outputId": "f17c273c-3161-4e7a-de38-3e0953cdde7e"
      },
      "execution_count": null,
      "outputs": [
        {
          "output_type": "stream",
          "name": "stdout",
          "text": [
            "True\n",
            "False\n",
            "True\n",
            "False\n"
          ]
        }
      ]
    }
  ]
}