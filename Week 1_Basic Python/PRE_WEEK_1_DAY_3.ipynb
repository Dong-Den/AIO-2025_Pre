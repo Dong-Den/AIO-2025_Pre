{
  "nbformat": 4,
  "nbformat_minor": 0,
  "metadata": {
    "colab": {
      "provenance": []
    },
    "kernelspec": {
      "name": "python3",
      "display_name": "Python 3"
    },
    "language_info": {
      "name": "python"
    }
  },
  "cells": [
    {
      "cell_type": "markdown",
      "source": [
        "# Bài tập: về sự ngẫu nhiên - Dùng vòng lặp While"
      ],
      "metadata": {
        "id": "8pSiLq-JmfHG"
      }
    },
    {
      "cell_type": "code",
      "execution_count": null,
      "metadata": {
        "id": "6s5T8W5OmcCc"
      },
      "outputs": [],
      "source": [
        "import random\n",
        "def random_number_with_condition(total):\n",
        " random.seed(0)    # đảm bảo kết quả giống nhau sau mỗi lần chạy chương trình\n",
        " count=0\n",
        " while True:\n",
        "  a=random.randint(1,20)\n",
        "  b=random.randint(1,20)\n",
        "  count+=1\n",
        "  if a+b==total:\n",
        "    return count\n",
        "\n"
      ]
    },
    {
      "cell_type": "code",
      "source": [
        "print(random_number_with_condition(40))\n",
        "print(random_number_with_condition(20))\n",
        "print(random_number_with_condition(35))"
      ],
      "metadata": {
        "colab": {
          "base_uri": "https://localhost:8080/"
        },
        "id": "HqHFORcfqKwb",
        "outputId": "acccefbd-c3c5-423c-c86a-17dcedaf1ee1"
      },
      "execution_count": null,
      "outputs": [
        {
          "output_type": "stream",
          "name": "stdout",
          "text": [
            "266\n",
            "32\n",
            "96\n"
          ]
        }
      ]
    },
    {
      "cell_type": "code",
      "source": [
        "import random\n",
        "def random_number_with_condition(total):\n",
        " random.seed(0)\n",
        " count=0\n",
        " a=0\n",
        " b=0\n",
        " while a+b!=total:\n",
        "  a=random.randint(1,20)\n",
        "  b=random.randint(1,20)\n",
        "  count+=1\n",
        " return count\n"
      ],
      "metadata": {
        "id": "12F7LV-15j0q"
      },
      "execution_count": null,
      "outputs": []
    },
    {
      "cell_type": "code",
      "source": [
        "print(random_number_with_condition(40))\n",
        "print(random_number_with_condition(20))\n",
        "print(random_number_with_condition(35))"
      ],
      "metadata": {
        "colab": {
          "base_uri": "https://localhost:8080/"
        },
        "id": "XAycZ7hK5psM",
        "outputId": "8f522e2e-27ba-481c-e758-b979442601ca"
      },
      "execution_count": null,
      "outputs": [
        {
          "output_type": "stream",
          "name": "stdout",
          "text": [
            "266\n",
            "32\n",
            "96\n"
          ]
        }
      ]
    },
    {
      "cell_type": "code",
      "source": [
        "# Kết quả mỗi lần chạy khác nhau, refresh lại từ đầu\n",
        "import random\n",
        "count =0\n",
        "while True:\n",
        "  a=random.randint(1,20)\n",
        "  b=random.randint(1,20)\n",
        "  count+=1\n",
        "  if a+b==40:\n",
        "    print(f\"Số lần thử là: {count}\")\n",
        "    break"
      ],
      "metadata": {
        "colab": {
          "base_uri": "https://localhost:8080/"
        },
        "id": "7KrbgN-oum6d",
        "outputId": "19eaf136-7aa5-4853-9ca4-aae28eb6c2f6"
      },
      "execution_count": null,
      "outputs": [
        {
          "output_type": "stream",
          "name": "stdout",
          "text": [
            "Số lần thử là: 153\n"
          ]
        }
      ]
    },
    {
      "cell_type": "code",
      "source": [
        "import random\n",
        "count =0\n",
        "while True:\n",
        "  a=random.randint(1,20)\n",
        "  b=random.randint(1,20)\n",
        "  count+=1\n",
        "  if a+b==20:\n",
        "    print(f\"Số lần thử là: {count}\")\n",
        "    break"
      ],
      "metadata": {
        "colab": {
          "base_uri": "https://localhost:8080/"
        },
        "id": "24uYgaWwvYiG",
        "outputId": "a42dde42-88b6-4817-f641-8ede2929b26e"
      },
      "execution_count": null,
      "outputs": [
        {
          "output_type": "stream",
          "name": "stdout",
          "text": [
            "Số lần thử là: 12\n"
          ]
        }
      ]
    },
    {
      "cell_type": "code",
      "source": [
        "import random\n",
        "count =0\n",
        "while True:\n",
        "  a=random.randint(1,20)\n",
        "  b=random.randint(1,20)\n",
        "  count+=1\n",
        "  if a+b==35:\n",
        "    print(f\"Số lần thử là: {count}\")\n",
        "    break"
      ],
      "metadata": {
        "colab": {
          "base_uri": "https://localhost:8080/"
        },
        "id": "uIGmKM5CvcUN",
        "outputId": "ed76b133-e685-42d7-976e-48acb0e9e392"
      },
      "execution_count": null,
      "outputs": [
        {
          "output_type": "stream",
          "name": "stdout",
          "text": [
            "Số lần thử là: 217\n"
          ]
        }
      ]
    },
    {
      "cell_type": "code",
      "source": [],
      "metadata": {
        "id": "cFB74X9e0qGG"
      },
      "execution_count": null,
      "outputs": []
    },
    {
      "cell_type": "code",
      "source": [],
      "metadata": {
        "id": "_lnvhzfT4o_V"
      },
      "execution_count": null,
      "outputs": []
    }
  ]
}