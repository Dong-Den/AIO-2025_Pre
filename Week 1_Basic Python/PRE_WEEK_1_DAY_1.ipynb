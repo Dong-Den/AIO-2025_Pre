{
  "nbformat": 4,
  "nbformat_minor": 0,
  "metadata": {
    "colab": {
      "provenance": []
    },
    "kernelspec": {
      "name": "python3",
      "display_name": "Python 3"
    },
    "language_info": {
      "name": "python"
    }
  },
  "cells": [
    {
      "cell_type": "markdown",
      "source": [
        "# **2.1 Tính lịch Can Chi - làm quen với câu lệnh If/Els**"
      ],
      "metadata": {
        "id": "2WlbCso6kqZ7"
      }
    },
    {
      "cell_type": "code",
      "execution_count": null,
      "metadata": {
        "id": "us8mGn_Pj-Rc"
      },
      "outputs": [],
      "source": [
        "def calculate_can_chi_calendar ( year ):\n",
        "  result = ' '\n",
        "  can=year%10\n",
        "  chi=year%12\n",
        "\n",
        "  if can==0:\n",
        "    result1='Canh'\n",
        "  elif can==1:\n",
        "    result1='Tân'\n",
        "  elif can==2:\n",
        "    result1='Nhâm'\n",
        "  elif can==3:\n",
        "    result1='Quý'\n",
        "  elif can==4:\n",
        "    result1='Giáp'\n",
        "  elif can==5:\n",
        "    result1='Ất'\n",
        "  elif can==6:\n",
        "    result1='Bính'\n",
        "  elif can==7:\n",
        "    result1='Đinh'\n",
        "  elif can==8:\n",
        "    result1='Mậu'\n",
        "  else:\n",
        "    result1='Kỷ'\n",
        "\n",
        "  if chi==0:\n",
        "    result2='Thân'\n",
        "  elif chi==1:\n",
        "    result2='Dậu'\n",
        "  elif chi==2:\n",
        "    result2='Tuất'\n",
        "  elif chi==3:\n",
        "    result2='Hợi'\n",
        "  elif chi==4:\n",
        "    result2='Tý'\n",
        "  elif chi==5:\n",
        "    result2='Sửu'\n",
        "  elif chi==6:\n",
        "    result2='Dần'\n",
        "  elif chi==7:\n",
        "    result2='Mão'\n",
        "  elif chi==8:\n",
        "    result2='Thìn'\n",
        "  elif chi==9:\n",
        "    result2='Tỵ'\n",
        "  elif chi==10:\n",
        "    result2='Ngọ'\n",
        "  else:\n",
        "    result2='Mùi'\n",
        "\n",
        "  result=result1+' '+result2\n",
        "\n",
        "  return result"
      ]
    },
    {
      "cell_type": "code",
      "source": [
        "print(calculate_can_chi_calendar(2025))\n",
        "print(calculate_can_chi_calendar(2024))\n",
        "print(calculate_can_chi_calendar(1997))\n"
      ],
      "metadata": {
        "colab": {
          "base_uri": "https://localhost:8080/"
        },
        "id": "nCLtXIC2mPLP",
        "outputId": "7e3fc954-d571-42be-fa95-8cefdc95207b"
      },
      "execution_count": null,
      "outputs": [
        {
          "output_type": "stream",
          "name": "stdout",
          "text": [
            "Ất Tỵ\n",
            "Giáp Thìn\n",
            "Đinh Sửu\n"
          ]
        }
      ]
    },
    {
      "cell_type": "code",
      "source": [
        "def calculate_can_chi_calendar ( year ):\n",
        " result =' '\n",
        " can = ['Canh', 'Tân', 'Nhâm', 'Quý', 'Giáp', 'Ất', 'Bính', 'Đinh', 'Mậu', 'Kỷ']\n",
        " chi=['Thân', 'Dậu', 'Tuất', 'Hợi', 'Tý', 'Sửu', 'Dần', 'Mão', 'Thìn', 'Tỵ', 'Ngọ', 'Mùi']\n",
        " for i in range (0,10):\n",
        "  if year%10==i:\n",
        "   result1=can[i]\n",
        " for j in range (0,12):\n",
        "  if year%12==j:\n",
        "   result2=chi[j]\n",
        " result=result1+' '+result2\n",
        " return result"
      ],
      "metadata": {
        "id": "HYjJ3dNUnGep"
      },
      "execution_count": null,
      "outputs": []
    },
    {
      "cell_type": "code",
      "source": [
        "print(calculate_can_chi_calendar(2025))\n",
        "print(calculate_can_chi_calendar(2024))\n",
        "print(calculate_can_chi_calendar(1997))"
      ],
      "metadata": {
        "colab": {
          "base_uri": "https://localhost:8080/"
        },
        "id": "OVlHtcKJoNZf",
        "outputId": "d2233e88-9bcc-4a52-8325-f85bf77c1a90"
      },
      "execution_count": null,
      "outputs": [
        {
          "output_type": "stream",
          "name": "stdout",
          "text": [
            "Ất Tỵ\n",
            "Giáp Thìn\n",
            "Đinh Sửu\n"
          ]
        }
      ]
    },
    {
      "cell_type": "code",
      "source": [],
      "metadata": {
        "id": "rkScq_WYo4WI"
      },
      "execution_count": null,
      "outputs": []
    },
    {
      "cell_type": "markdown",
      "source": [
        "# **2.2 Hàm kích hoạt - Activate function**"
      ],
      "metadata": {
        "id": "F6V4kUBHo5CN"
      }
    },
    {
      "cell_type": "markdown",
      "source": [
        "## 1. ReLU (Rectified Linear Unit)"
      ],
      "metadata": {
        "id": "tTJLVHn2o81G"
      }
    },
    {
      "cell_type": "code",
      "source": [
        "def relu (x):\n",
        "  if x>0:\n",
        "    return x\n",
        "  return 0"
      ],
      "metadata": {
        "id": "hF9ptIZjpBv-"
      },
      "execution_count": null,
      "outputs": []
    },
    {
      "cell_type": "code",
      "source": [
        "print(relu(3))\n",
        "print(relu(-2))\n",
        "print(relu(0))\n"
      ],
      "metadata": {
        "colab": {
          "base_uri": "https://localhost:8080/"
        },
        "id": "El8OmU-fqOXy",
        "outputId": "21e34b73-ab2d-4fc0-9841-3605073718aa"
      },
      "execution_count": null,
      "outputs": [
        {
          "output_type": "stream",
          "name": "stdout",
          "text": [
            "3\n",
            "0\n",
            "0\n"
          ]
        }
      ]
    },
    {
      "cell_type": "markdown",
      "source": [
        "## 2. Leaky ReLU"
      ],
      "metadata": {
        "id": "oCynTHH6qceG"
      }
    },
    {
      "cell_type": "code",
      "source": [
        "def leaky_relu (x, alpha =0.01) :\n",
        "  if x>0:\n",
        "    return x\n",
        "  return alpha*x\n"
      ],
      "metadata": {
        "id": "AKhPyVYcqd-F"
      },
      "execution_count": null,
      "outputs": []
    },
    {
      "cell_type": "code",
      "source": [
        "print(leaky_relu(3))\n",
        "print(leaky_relu(-2))\n",
        "print(leaky_relu(0))"
      ],
      "metadata": {
        "colab": {
          "base_uri": "https://localhost:8080/"
        },
        "id": "ls_EcoaZq3Tb",
        "outputId": "a4837140-e366-4e41-d421-089522e5e737"
      },
      "execution_count": null,
      "outputs": [
        {
          "output_type": "stream",
          "name": "stdout",
          "text": [
            "3\n",
            "-0.02\n",
            "0.0\n"
          ]
        }
      ]
    },
    {
      "cell_type": "markdown",
      "source": [
        "## 3. Sigmoid"
      ],
      "metadata": {
        "id": "rW6oT_1OrFPQ"
      }
    },
    {
      "cell_type": "code",
      "source": [
        "import math\n",
        "def sigmoid (x):\n",
        "  return 1/(1+math.exp(-x))\n"
      ],
      "metadata": {
        "id": "Ow9CX5nIrGxB"
      },
      "execution_count": null,
      "outputs": []
    },
    {
      "cell_type": "code",
      "source": [
        "print(sigmoid(0))\n",
        "print(sigmoid(2))\n",
        "print(sigmoid(-2))"
      ],
      "metadata": {
        "colab": {
          "base_uri": "https://localhost:8080/"
        },
        "id": "4_xpeZxFrr85",
        "outputId": "88224d29-3269-4e41-f0c7-155301eac2a7"
      },
      "execution_count": null,
      "outputs": [
        {
          "output_type": "stream",
          "name": "stdout",
          "text": [
            "0.5\n",
            "0.8807970779778823\n",
            "0.11920292202211755\n"
          ]
        }
      ]
    },
    {
      "cell_type": "markdown",
      "source": [
        "## 4. Tanh"
      ],
      "metadata": {
        "id": "4MG7rsD3r9FD"
      }
    },
    {
      "cell_type": "code",
      "source": [
        "import math\n",
        "def tanh(x):\n",
        "  return (math.exp(x)-math.exp(-x))/(math.exp(x)+math.exp(-x))\n"
      ],
      "metadata": {
        "id": "lINd05l7sATC"
      },
      "execution_count": null,
      "outputs": []
    },
    {
      "cell_type": "code",
      "source": [
        "print(tanh(0))\n",
        "print(tanh(2))\n",
        "print(tanh(150))\n",
        "\n"
      ],
      "metadata": {
        "colab": {
          "base_uri": "https://localhost:8080/"
        },
        "id": "JsmceBdtsvD9",
        "outputId": "3f681589-ccc7-4fe2-c873-786930f3a407"
      },
      "execution_count": null,
      "outputs": [
        {
          "output_type": "stream",
          "name": "stdout",
          "text": [
            "0.0\n",
            "0.964027580075817\n",
            "1.0\n"
          ]
        }
      ]
    },
    {
      "cell_type": "markdown",
      "source": [
        "## 5. ELU (Exponential Linear Unit)"
      ],
      "metadata": {
        "id": "tQ6N4umTs8ar"
      }
    },
    {
      "cell_type": "code",
      "source": [
        "import math\n",
        "def elu(x, alpha=1.0):\n",
        "  if x>0:\n",
        "    return x\n",
        "  return alpha*(math.exp(x)-1)"
      ],
      "metadata": {
        "id": "Ss5cpPyVs9Tg"
      },
      "execution_count": null,
      "outputs": []
    },
    {
      "cell_type": "code",
      "source": [
        "print(elu(3))\n",
        "print(elu(-1))\n",
        "print(elu(0))"
      ],
      "metadata": {
        "colab": {
          "base_uri": "https://localhost:8080/"
        },
        "id": "p6ibFvgotTWR",
        "outputId": "cebdbff9-b34b-4617-e7f3-befd7030728e"
      },
      "execution_count": null,
      "outputs": [
        {
          "output_type": "stream",
          "name": "stdout",
          "text": [
            "3\n",
            "-0.6321205588285577\n",
            "0.0\n"
          ]
        }
      ]
    }
  ]
}