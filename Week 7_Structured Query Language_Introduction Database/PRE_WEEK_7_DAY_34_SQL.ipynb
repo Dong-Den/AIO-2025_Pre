{
  "nbformat": 4,
  "nbformat_minor": 0,
  "metadata": {
    "colab": {
      "provenance": []
    },
    "kernelspec": {
      "name": "python3",
      "display_name": "Python 3"
    },
    "language_info": {
      "name": "python"
    }
  },
  "cells": [
    {
      "cell_type": "code",
      "execution_count": null,
      "metadata": {
        "id": "EYg-DTMMAYq2"
      },
      "outputs": [],
      "source": [
        "import sqlite3\n",
        "import pandas as pd\n",
        "\n",
        "connection = sqlite3.connect('stock2.sqlite')\n",
        "cursor = connection.cursor()"
      ]
    },
    {
      "cell_type": "code",
      "source": [
        "#MySQL\n",
        "import mysql.connector\n",
        "connection = mysql.connector.connect(\n",
        "    host=\"127.0.0.1\",\n",
        "    user=\"root\",\n",
        "    password=\" \",\n",
        "    database=\"stock\"\n",
        ")\n",
        "cursor = connection.cursor()"
      ],
      "metadata": {
        "id": "MnrjbcwPCgPW"
      },
      "execution_count": null,
      "outputs": []
    },
    {
      "cell_type": "code",
      "source": [
        "cursor.execute(\"\"\"\n",
        "CREATE TABLE if not exists STOCK (\n",
        "  ID INTeger PRIMARY KEY,\n",
        "  NAME TEXT NOT NULL,\n",
        "  BUY decimal(5,2) NOT NULL,\n",
        "  INVESTOR TEXT NOT NULL\n",
        ");\n",
        "\"\"\")"
      ],
      "metadata": {
        "colab": {
          "base_uri": "https://localhost:8080/"
        },
        "id": "x65T2i8zT676",
        "outputId": "fa47149b-cb70-44b3-8da7-0c9561e7df6a"
      },
      "execution_count": null,
      "outputs": [
        {
          "output_type": "execute_result",
          "data": {
            "text/plain": [
              "<sqlite3.Cursor at 0x7c8e074c9c40>"
            ]
          },
          "metadata": {},
          "execution_count": 36
        }
      ]
    },
    {
      "cell_type": "code",
      "source": [
        "cursor.execute(\"\"\"\n",
        "INSERT INTO STOCK(ID, NAME, BUY, INVESTOR)\n",
        "VALUES\n",
        "  (1,'ACB', 29.45, 'Nguyen'),\n",
        "  (2,'VIC', 44.55, 'Nguyen'),\n",
        "  (3,'GMD', 74.30, 'Nguyen'),\n",
        "  (4,'ACB', 28.45, 'Vinh'),\n",
        "  (5,'VIC', 40.55, 'Vinh'),\n",
        "  (6,'GMD', 60.30, 'Vinh');\n",
        "\"\"\")\n",
        "connection.commit()\n",
        "data=pd.read_sql_query(\"select * from stock\", connection)\n",
        "print(data)\n"
      ],
      "metadata": {
        "colab": {
          "base_uri": "https://localhost:8080/"
        },
        "id": "oIFb_qvHT65m",
        "outputId": "72b43683-3b7f-4b30-eb5e-f4ed128fc2d2"
      },
      "execution_count": null,
      "outputs": [
        {
          "output_type": "stream",
          "name": "stdout",
          "text": [
            "   ID NAME    BUY INVESTOR\n",
            "0   1  ACB  29.45   Nguyen\n",
            "1   2  VIC  44.55   Nguyen\n",
            "2   3  GMD  74.30   Nguyen\n",
            "3   4  ACB  28.45     Vinh\n",
            "4   5  VIC  40.55     Vinh\n",
            "5   6  GMD  60.30     Vinh\n"
          ]
        }
      ]
    },
    {
      "cell_type": "code",
      "source": [
        "data_total_price=pd.read_sql_query(\"select sum(buy) as total_price from stock\", connection)\n",
        "print(data_total_price)"
      ],
      "metadata": {
        "colab": {
          "base_uri": "https://localhost:8080/"
        },
        "id": "wascoWIST63f",
        "outputId": "0cfbaa5e-1bc5-4eba-b130-f8a8539bf0ed"
      },
      "execution_count": null,
      "outputs": [
        {
          "output_type": "stream",
          "name": "stdout",
          "text": [
            "   total_price\n",
            "0        277.6\n"
          ]
        }
      ]
    },
    {
      "cell_type": "code",
      "source": [
        "# print(f\"Total Price: {data_total_price['total_price'][0]:.2f}\")"
      ],
      "metadata": {
        "colab": {
          "base_uri": "https://localhost:8080/"
        },
        "id": "QOXgp9ICbwSn",
        "outputId": "2c218593-1448-4f18-d99c-5f62a2c56792"
      },
      "execution_count": null,
      "outputs": [
        {
          "output_type": "stream",
          "name": "stdout",
          "text": [
            "Total Price: 277.60\n"
          ]
        }
      ]
    },
    {
      "cell_type": "code",
      "source": [
        "query=\"\"\"\n",
        "select investor, name, max(buy) as Max_price\n",
        "from stock\n",
        "group by investor;\n",
        "\"\"\"\n",
        "connection.commit()\n",
        "data_max_price_by_investor=pd.read_sql_query(query, connection)\n",
        "print(data_max_price_by_investor)"
      ],
      "metadata": {
        "colab": {
          "base_uri": "https://localhost:8080/"
        },
        "id": "CDdmm1qtT60B",
        "outputId": "bbcb4d1e-e88d-47e5-fa0c-dcfbe1a174f9"
      },
      "execution_count": null,
      "outputs": [
        {
          "output_type": "stream",
          "name": "stdout",
          "text": [
            "  INVESTOR NAME  Max_price\n",
            "0   Nguyen  GMD       74.3\n",
            "1     Vinh  GMD       60.3\n"
          ]
        }
      ]
    },
    {
      "cell_type": "code",
      "source": [],
      "metadata": {
        "id": "ul3apn-rCnzD"
      },
      "execution_count": null,
      "outputs": []
    },
    {
      "cell_type": "code",
      "source": [],
      "metadata": {
        "id": "wMIddwOdaDPD"
      },
      "execution_count": null,
      "outputs": []
    },
    {
      "cell_type": "code",
      "source": [],
      "metadata": {
        "id": "LE-FfoCRaDK4"
      },
      "execution_count": null,
      "outputs": []
    },
    {
      "cell_type": "code",
      "source": [],
      "metadata": {
        "id": "BF-n58XdaDHM"
      },
      "execution_count": null,
      "outputs": []
    },
    {
      "cell_type": "code",
      "source": [],
      "metadata": {
        "id": "f4EGGH7RaDCy"
      },
      "execution_count": null,
      "outputs": []
    },
    {
      "cell_type": "markdown",
      "source": [
        "#BÀI HỌC"
      ],
      "metadata": {
        "id": "2VseyY2sCpPi"
      }
    },
    {
      "cell_type": "code",
      "source": [
        "import sqlite3\n",
        "import pandas as pd\n",
        "\n",
        "connection = sqlite3.connect('phone-management.sqlite')\n",
        "cursor = connection.cursor()"
      ],
      "metadata": {
        "id": "C5VHMrt9CrAn"
      },
      "execution_count": null,
      "outputs": []
    },
    {
      "cell_type": "code",
      "source": [
        "#MySQL\n",
        "import mysql.connector\n",
        "connection = mysql.connector.connect(\n",
        "    host=\"127.0.0.1\",\n",
        "    user=\"root\",\n",
        "    password=\" \",\n",
        "    database=\"phone-management\"\n",
        ")\n",
        "cursor = connection.cursor()"
      ],
      "metadata": {
        "id": "N64N2k4dFH7v"
      },
      "execution_count": null,
      "outputs": []
    },
    {
      "cell_type": "code",
      "source": [
        "cursor.execute(\"\"\"\n",
        "CREATE TABLE PRODUCT (\n",
        "  ID INTEGER PRIMARY KEY,\n",
        "  NAME TEXT NOT NULL,\n",
        "  BRAND TEXT NOT NULL,\n",
        "  PRICE INTEGER NOT NULL\n",
        ");\n",
        "\"\"\")"
      ],
      "metadata": {
        "colab": {
          "base_uri": "https://localhost:8080/"
        },
        "id": "Norex6zPDhTz",
        "outputId": "c9817458-14b9-4c90-fb28-a8bfcbeaed7e"
      },
      "execution_count": null,
      "outputs": [
        {
          "output_type": "execute_result",
          "data": {
            "text/plain": [
              "<sqlite3.Cursor at 0x7c8e2a961b40>"
            ]
          },
          "metadata": {},
          "execution_count": 2
        }
      ]
    },
    {
      "cell_type": "code",
      "source": [
        "cursor.execute(\"\"\"\n",
        "INSERT INTO PRODUCT(ID, NAME, BRAND, PRICE)\n",
        "VALUES\n",
        "    (1, 'iPhone 15', 'Apple', '18000000'),\n",
        "    (2, 'Galaxy Z-Fold 5', 'Samsung', '30000000'),\n",
        "    (3, 'Find X', 'Oppo', '20000000'),\n",
        "    (4, 'iPhone 14', 'Apple', '16000000'),\n",
        "    (5, 'Galaxy Z-Flip','Samsung', '17000000'),\n",
        "    (6, 'iPhone 15 Pro Max','Apple','48000000');\n",
        "\"\"\")\n",
        "\n",
        "connection.commit()"
      ],
      "metadata": {
        "id": "CTXU1zGaDolq"
      },
      "execution_count": null,
      "outputs": []
    },
    {
      "cell_type": "code",
      "source": [
        "data=pd.read_sql_query(\"SELECT * FROM PRODUCT\", connection)\n",
        "print(data)"
      ],
      "metadata": {
        "colab": {
          "base_uri": "https://localhost:8080/"
        },
        "id": "_RkDBS9TDvFc",
        "outputId": "1cbb4b51-94a0-4bae-8b38-de50f4995cef"
      },
      "execution_count": null,
      "outputs": [
        {
          "output_type": "stream",
          "name": "stdout",
          "text": [
            "   ID               NAME    BRAND     PRICE\n",
            "0   1          iPhone 15    Apple  18000000\n",
            "1   2    Galaxy Z-Fold 5  Samsung  30000000\n",
            "2   3             Find X     Oppo  20000000\n",
            "3   4          iPhone 14    Apple  16000000\n",
            "4   5      Galaxy Z-Flip  Samsung  17000000\n",
            "5   6  iPhone 15 Pro Max    Apple  48000000\n"
          ]
        }
      ]
    },
    {
      "cell_type": "code",
      "source": [
        "query=\"\"\"\n",
        "select sum(price) as total_revenue\n",
        "from product;\n",
        "\"\"\"\n",
        "\n",
        "\n",
        "data_sum=pd.read_sql_query(query, connection)\n",
        "print(data_sum)"
      ],
      "metadata": {
        "colab": {
          "base_uri": "https://localhost:8080/"
        },
        "id": "xVYuoBc2Dyx7",
        "outputId": "3e595b10-6a2d-457f-e7f2-4bda21283b89"
      },
      "execution_count": null,
      "outputs": [
        {
          "output_type": "stream",
          "name": "stdout",
          "text": [
            "   total_revenue\n",
            "0      149000000\n"
          ]
        }
      ]
    },
    {
      "cell_type": "code",
      "source": [
        "query=\"\"\"\n",
        "select name, max(price) as price\n",
        "from product;\n",
        "\"\"\"\n",
        "data_max=pd.read_sql_query(query, connection)\n",
        "print(data_max)"
      ],
      "metadata": {
        "colab": {
          "base_uri": "https://localhost:8080/"
        },
        "id": "NKqbptdoGNnG",
        "outputId": "7241b322-fa36-4669-a596-a34dc96b196b"
      },
      "execution_count": null,
      "outputs": [
        {
          "output_type": "stream",
          "name": "stdout",
          "text": [
            "                NAME     price\n",
            "0  iPhone 15 Pro Max  48000000\n"
          ]
        }
      ]
    },
    {
      "cell_type": "code",
      "source": [
        "query=\"\"\"\n",
        "select brand, sum(price) as total_revenue\n",
        "from product\n",
        "group by brand; \"\"\"\n",
        "data_sum_by_brand=pd.read_sql_query(query, connection)\n",
        "print(data_sum_by_brand)\n"
      ],
      "metadata": {
        "colab": {
          "base_uri": "https://localhost:8080/"
        },
        "id": "4ZTKKEFhGqF-",
        "outputId": "ff4822f4-da9a-4298-8a6b-bf9948d8aaf5"
      },
      "execution_count": null,
      "outputs": [
        {
          "output_type": "stream",
          "name": "stdout",
          "text": [
            "     BRAND  total_revenue\n",
            "0    Apple       82000000\n",
            "1     Oppo       20000000\n",
            "2  Samsung       47000000\n"
          ]
        }
      ]
    },
    {
      "cell_type": "code",
      "source": [
        "query=\"\"\"\n",
        "select name, brand, min(price) as price\n",
        "from product\n",
        "group by brand;\n",
        "\"\"\"\n",
        "data_min_by_brand=pd.read_sql_query(query,connection)\n",
        "print(data_min_by_brand)"
      ],
      "metadata": {
        "colab": {
          "base_uri": "https://localhost:8080/"
        },
        "id": "Z79MVkopRXh0",
        "outputId": "47528c2d-9ca4-485a-f121-288f4a9ad876"
      },
      "execution_count": null,
      "outputs": [
        {
          "output_type": "stream",
          "name": "stdout",
          "text": [
            "            NAME    BRAND     price\n",
            "0      iPhone 14    Apple  16000000\n",
            "1         Find X     Oppo  20000000\n",
            "2  Galaxy Z-Flip  Samsung  17000000\n"
          ]
        }
      ]
    }
  ]
}