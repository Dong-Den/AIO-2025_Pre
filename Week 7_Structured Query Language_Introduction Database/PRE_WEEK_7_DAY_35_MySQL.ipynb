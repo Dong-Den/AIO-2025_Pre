{
  "nbformat": 4,
  "nbformat_minor": 0,
  "metadata": {
    "colab": {
      "provenance": []
    },
    "kernelspec": {
      "name": "python3",
      "display_name": "Python 3"
    },
    "language_info": {
      "name": "python"
    }
  },
  "cells": [
    {
      "cell_type": "code",
      "execution_count": null,
      "metadata": {
        "id": "njuzO-rVhHBt"
      },
      "outputs": [],
      "source": [
        "!pip install mysql-connector-python"
      ]
    },
    {
      "cell_type": "code",
      "source": [
        "import mysql.connector\n",
        "connection = mysql.connector.connect(\n",
        "    host=\"127.0.0.1\",\n",
        "    user=\"root\",\n",
        "    password=\"2011DongBaLiem@\",\n",
        "    database=\"quanlybanhangc\"\n",
        "\n",
        ")"
      ],
      "metadata": {
        "id": "Bh2a5LDohTEo"
      },
      "execution_count": null,
      "outputs": []
    },
    {
      "cell_type": "code",
      "source": [
        "cursor = connection.cursor()\n",
        "cursor.execute(\"\"\"\n",
        "create table if not exists Salespersons(\n",
        "    SalespersonID int primary key,\n",
        "    Fullname varchar(255) not null,\n",
        "    Phonenumber varchar(15) unique not null) ENGINE=InnoDB;\n",
        "\"\"\")\n",
        "cursor.execute(\"\"\"\n",
        "create table if not exists Customers(\n",
        "    CustomerID int primary key,\n",
        "    Fullname varchar(255) not null,\n",
        "    Phonenumber varchar(15) unique not null,\n",
        "    Email varchar(255) unique not null) ENGINE=InnoDB;\n",
        "\"\"\")\n",
        "cursor.execute(\"\"\"\n",
        "create table if not exists orders(\n",
        "    OrderID int primary key,\n",
        "    CustomerID int  not null,\n",
        "    SalespersonID int  not null,\n",
        "    Orderdate date not null,\n",
        "    Totalamount decimal(10,2),\n",
        "    foreign key(CustomerID) references Customers(CustomerID),\n",
        "    foreign key(SalespersonID) references Salespersons(SalespersonID)) ENGINE=InnoDB;\n",
        "\"\"\")\n",
        "\n",
        "connection.commit()"
      ],
      "metadata": {
        "id": "ol_FRf6AhTBU"
      },
      "execution_count": null,
      "outputs": []
    },
    {
      "cell_type": "code",
      "source": [
        "import pandas as pd"
      ],
      "metadata": {
        "id": "8ufYv3oxhS5w"
      },
      "execution_count": null,
      "outputs": []
    },
    {
      "cell_type": "code",
      "source": [
        "cursor.execute(\"\"\"\n",
        "insert into Salespersons(SalespersonID, Fullname, Phonenumber)\n",
        "values\n",
        "    (1,'Lê Hoàng Nam', '0934567890'),\n",
        "    (2,'Trần Quốc Bảo','0945678123'),\n",
        "    (3,'Nguyễn Minh Hà', '0956789123');\n",
        "\"\"\")\n",
        "connection.commit()\n"
      ],
      "metadata": {
        "id": "zkKrcF3jhZMA"
      },
      "execution_count": null,
      "outputs": []
    },
    {
      "cell_type": "code",
      "source": [
        "cursor.execute(\"\"\"\n",
        "insert into quanlybanhangc.Customers(CustomerID, Fullname, Email,Phonenumber)\n",
        "values\n",
        "    (1, 'Tran Van A', 'a@gmail.com', '152345'),\n",
        "    (2, 'Nguyen Thi B', 'b@gmail.com', '123645'),\n",
        "    (3, 'Le Van C', 'c@gmail.com', '123345'),\n",
        "    (4, 'Pham Thi D', 'd@gmail.com', '127345'),\n",
        "    (5, 'Bui Van E', 'e@gmail.com', '123945');\n",
        "\"\"\")\n",
        "connection.commit()"
      ],
      "metadata": {
        "id": "bnlW48nZhZJl"
      },
      "execution_count": null,
      "outputs": []
    },
    {
      "cell_type": "code",
      "source": [
        "cursor.execute(\"\"\"\n",
        "insert into quanlybanhangc.orders(OrderID, CustomerID, SalespersonID, Orderdate,Totalamount)\n",
        "values\n",
        "    (1, 1, 1, '2024-03-10', 25000000),\n",
        "    (2, 2, 2, '2024-03-11', 30000000),\n",
        "    (3, 3, 3, '2024-03-12', 20000000);\n",
        "\"\"\")\n",
        "connection.commit()"
      ],
      "metadata": {
        "id": "miDzRARBhZFE"
      },
      "execution_count": null,
      "outputs": []
    },
    {
      "cell_type": "code",
      "source": [
        "#Liệt kê tất cả đơn hàng của nhân viên SalespersonID=1\n",
        "query=\"\"\"\n",
        "select * from Orders where 1=1 and SalespersonID=1;\n",
        "\"\"\"\n",
        "connection.commit()\n",
        "data=pd.read_sql_query(query, connection)\n",
        "print(data)"
      ],
      "metadata": {
        "id": "Vn3yOhDxhZCr"
      },
      "execution_count": null,
      "outputs": []
    },
    {
      "cell_type": "code",
      "source": [
        "# Tìm khách hàng có sô lượng đơn hàng nhiều nhất\n",
        "# count(1) / count(*)/count(column)\n",
        "\n",
        "query=\"\"\"\n",
        "select c.CustomerID, c.Fullname, count(o.OrderID) as TotalOrders\n",
        "from Customers c\n",
        "join Orders o ON c.CustomerID = o.CustomerID\n",
        "Group by c.CustomerID\n",
        "ORDER BY TotalOrders Desc\n",
        "Limit 1;\n",
        "\"\"\"\n",
        "connection.commit()\n",
        "data=pd.read_sql_query(query, connection)\n",
        "print(data)"
      ],
      "metadata": {
        "id": "AF5tknmihr61"
      },
      "execution_count": null,
      "outputs": []
    },
    {
      "cell_type": "code",
      "source": [
        "# Tính tổng doanh số của từng nhân viên\n",
        "query=\"\"\"\n",
        "select salespersonID, sum(totalamount) as Totalsales\n",
        "from Orders\n",
        "Group by salespersonID\n",
        "order by Totalsales Desc;\n",
        "\"\"\"\n",
        "connection.commit()\n",
        "data=pd.read_sql_query(query, connection)\n",
        "print(data)"
      ],
      "metadata": {
        "id": "FneiqW5Ghr3r"
      },
      "execution_count": null,
      "outputs": []
    },
    {
      "cell_type": "code",
      "source": [
        "#Tìm nhân viên có doanh số cao nhất\n",
        "query=\"\"\"\n",
        "select s.SalespersonID, s.Fullname, sum(o.totalamount) as Totalrevenues\n",
        "from Salespersons s\n",
        "join Orders o ON s.SalespersonID = o.SalespersonID\n",
        "Group by s.SalespersonID\n",
        "ORDER BY Totalrevenues Desc\n",
        "Limit 1;\n",
        "\"\"\"\n",
        "connection.commit()\n",
        "data=pd.read_sql_query(query, connection)\n",
        "print(data)"
      ],
      "metadata": {
        "id": "_5LJfu50hrzM"
      },
      "execution_count": null,
      "outputs": []
    },
    {
      "cell_type": "code",
      "source": [
        "#cập nhật tổng đơn hàng có OrderID=2 thành 4500000\n",
        "query_update=\"\"\"\n",
        "UPDATE Orders\n",
        "SET Totalamount = 4500000\n",
        "where 1=1\n",
        "and OrderID = 2;\n",
        "\"\"\"\n",
        "cursor.execute(query_update)\n",
        "connection.commit()\n",
        "\n",
        "data=pd.read_sql_query(\"SELECT * FROM Orders\", connection)\n",
        "print(data)"
      ],
      "metadata": {
        "id": "49VzFRA-hrwc"
      },
      "execution_count": null,
      "outputs": []
    },
    {
      "cell_type": "code",
      "source": [
        "# Cập nhật số điện thoại của KH CustomerID=3\n",
        "query_update=\"\"\"\n",
        "UPDATE Customers\n",
        "SET Phonenumber = '0963552417'\n",
        "where 1=1\n",
        "and CustomerID = 3;\n",
        "\"\"\"\n",
        "cursor.execute(query_update)\n",
        "connection.commit()\n",
        "\n",
        "data=pd.read_sql_query(\"SELECT * FROM Customers WHERE CustomerID = 3\", connection)\n",
        "print(data)"
      ],
      "metadata": {
        "id": "jyKJNfx8iYzb"
      },
      "execution_count": null,
      "outputs": []
    },
    {
      "cell_type": "code",
      "source": [
        "#Xóa tất cả các đơn hàng của khách hàng có CustomerID=2\n",
        "query_update=\"\"\"\n",
        "Delete from Orders where CustomerID = 2;\n",
        "\"\"\"\n",
        "cursor.execute(query_update)\n",
        "connection.commit()\n",
        "\n",
        "data=pd.read_sql_query(\"SELECT * FROM Orders \", connection)\n",
        "print(data)\n"
      ],
      "metadata": {
        "id": "-X5CeBweig0C"
      },
      "execution_count": null,
      "outputs": []
    }
  ]
}