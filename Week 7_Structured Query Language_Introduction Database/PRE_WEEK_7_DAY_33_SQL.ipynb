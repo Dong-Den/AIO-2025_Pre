{
  "nbformat": 4,
  "nbformat_minor": 0,
  "metadata": {
    "colab": {
      "provenance": []
    },
    "kernelspec": {
      "name": "python3",
      "display_name": "Python 3"
    },
    "language_info": {
      "name": "python"
    }
  },
  "cells": [
    {
      "cell_type": "markdown",
      "source": [
        "# Dùng SQLite trên Colab"
      ],
      "metadata": {
        "id": "BlmqIIfk2gk9"
      }
    },
    {
      "cell_type": "code",
      "source": [
        "import sqlite3\n",
        "connection1 = sqlite3.connect('database1.sqlite')\n",
        "cursor1 = connection1.cursor()\n",
        "cursor1.execute(\"\"\"\n",
        "CREATE TABLE IF NOT EXISTS PRODUCT(\n",
        "    ID INTEGER PRIMARY KEY,\n",
        "    NAME TEXT NOT NULL,\n",
        "    PRICE INTEGER NOT NULL\n",
        ");\n",
        "\"\"\")"
      ],
      "metadata": {
        "colab": {
          "base_uri": "https://localhost:8080/"
        },
        "id": "7KPkoa1FakZD",
        "outputId": "239c569b-4105-4dbe-a10e-23410cddb0f5"
      },
      "execution_count": null,
      "outputs": [
        {
          "output_type": "execute_result",
          "data": {
            "text/plain": [
              "<sqlite3.Cursor at 0x7de6fac5e3c0>"
            ]
          },
          "metadata": {},
          "execution_count": 31
        }
      ]
    },
    {
      "cell_type": "code",
      "source": [
        "cursor1.execute(\"\"\"\n",
        "INSERT INTO  PRODUCT(ID, NAME, PRICE)\n",
        "VALUES\n",
        "    (1, 'iPhone 15', 18000000),\n",
        "    (2, 'Galaxy Z-Fold 5', 30000000);\n",
        "\"\"\")\n",
        "connection1.commit()\n",
        "import pandas as pd\n",
        "data1=pd.read_sql_query(\"SELECT * FROM PRODUCT\", connection1)\n",
        "print(data1)"
      ],
      "metadata": {
        "colab": {
          "base_uri": "https://localhost:8080/"
        },
        "id": "fq2CudnibFQy",
        "outputId": "6ff3416f-34fa-4743-e0cb-c6c8d2fe542a"
      },
      "execution_count": null,
      "outputs": [
        {
          "output_type": "stream",
          "name": "stdout",
          "text": [
            "   ID             NAME     PRICE\n",
            "0   1        iPhone 15  18000000\n",
            "1   2  Galaxy Z-Fold 5  30000000\n"
          ]
        }
      ]
    },
    {
      "cell_type": "code",
      "source": [
        "cursor1.execute(\"\"\"\n",
        "UPDATE PRODUCT\n",
        "SET price =50000000\n",
        "WHERE 1=1\n",
        "AND name ='Galaxy Z-Fold 5';\n",
        "\"\"\")\n",
        "connection1.commit()\n",
        "\n",
        "data1=pd.read_sql_query(\"SELECT * FROM PRODUCT\", connection1)\n",
        "print(data1)"
      ],
      "metadata": {
        "colab": {
          "base_uri": "https://localhost:8080/"
        },
        "id": "NdZNZl3AbFM6",
        "outputId": "47d49901-1e0f-4ef6-a22f-799689e4dcb8"
      },
      "execution_count": null,
      "outputs": [
        {
          "output_type": "stream",
          "name": "stdout",
          "text": [
            "   ID             NAME     PRICE\n",
            "0   1        iPhone 15  18000000\n",
            "1   2  Galaxy Z-Fold 5  50000000\n"
          ]
        }
      ]
    },
    {
      "cell_type": "code",
      "source": [
        "cursor1.execute(\"\"\"\n",
        "DELETE FROM PRODUCT\n",
        "WHERE 1=1\n",
        "AND name= 'iPhone 15';\n",
        "\"\"\")\n",
        "connection1.commit()\n",
        "\n",
        "data1=pd.read_sql_query(\"SELECT * FROM PRODUCT\", connection1)\n",
        "print(data1)"
      ],
      "metadata": {
        "colab": {
          "base_uri": "https://localhost:8080/"
        },
        "id": "sk2PWdbHbFEL",
        "outputId": "001be409-dcbc-4046-dff7-c8ccece02d72"
      },
      "execution_count": null,
      "outputs": [
        {
          "output_type": "stream",
          "name": "stdout",
          "text": [
            "   ID             NAME     PRICE\n",
            "0   2  Galaxy Z-Fold 5  50000000\n"
          ]
        }
      ]
    },
    {
      "cell_type": "code",
      "source": [],
      "metadata": {
        "id": "90kxDZztcpRs"
      },
      "execution_count": null,
      "outputs": []
    },
    {
      "cell_type": "code",
      "source": [],
      "metadata": {
        "id": "6GDqKvDXcpOo"
      },
      "execution_count": null,
      "outputs": []
    },
    {
      "cell_type": "code",
      "source": [],
      "metadata": {
        "id": "hiJjnPv3aihG"
      },
      "execution_count": null,
      "outputs": []
    },
    {
      "cell_type": "code",
      "source": [],
      "metadata": {
        "id": "gHq1gDiLaht2"
      },
      "execution_count": null,
      "outputs": []
    },
    {
      "cell_type": "code",
      "source": [],
      "metadata": {
        "id": "Zj7KMvC2dQv5"
      },
      "execution_count": null,
      "outputs": []
    },
    {
      "cell_type": "code",
      "source": [],
      "metadata": {
        "id": "n6MBKNnmdQsa"
      },
      "execution_count": null,
      "outputs": []
    },
    {
      "cell_type": "code",
      "execution_count": null,
      "metadata": {
        "colab": {
          "base_uri": "https://localhost:8080/"
        },
        "id": "dTQvdr4A-elT",
        "outputId": "dad670dc-64c7-48f7-c1c8-3291233ac2a0"
      },
      "outputs": [
        {
          "output_type": "execute_result",
          "data": {
            "text/plain": [
              "<sqlite3.Cursor at 0x7de703656ec0>"
            ]
          },
          "metadata": {},
          "execution_count": 20
        }
      ],
      "source": [
        "# Sử dụng SQLite trong Python\n",
        "\n",
        "import sqlite3\n",
        "connection = sqlite3.connect('database.sqlite')\n",
        "cursor = connection.cursor()\n",
        "cursor.execute(\"\"\"\n",
        "CREATE TABLE IF NOT EXISTS CUSTOMERS(\n",
        "    EMAIL TEXT PRIMARY KEY,\n",
        "    NAME TEXT NOT NULL,\n",
        "    PHONE TEXT NOT NULL\n",
        ");\n",
        "\"\"\")\n",
        "\n"
      ]
    },
    {
      "cell_type": "code",
      "source": [
        "cursor.execute(\"\"\"\n",
        "INSERT INTO  CUSTOMERS(EMAIL, NAME, PHONE)\n",
        "VALUES\n",
        "    ('nguyen2@aivietnam.edu.vn', 'Nguyen', '123456789'),\n",
        "    ('admin2@aivietnam.edu.vn', 'Vinh', '123456789');\n",
        "\"\"\")\n",
        "connection.commit()\n"
      ],
      "metadata": {
        "id": "d_PKPtNnJtl2"
      },
      "execution_count": null,
      "outputs": []
    },
    {
      "cell_type": "code",
      "source": [
        "import pandas as pd\n",
        "data=pd.read_sql_query(\"SELECT * FROM CUSTOMERS\", connection)\n",
        "print(data)"
      ],
      "metadata": {
        "colab": {
          "base_uri": "https://localhost:8080/"
        },
        "id": "r_xMKFLFJtYj",
        "outputId": "e5279890-bf82-4327-be5a-a0344a5cbebd"
      },
      "execution_count": null,
      "outputs": [
        {
          "output_type": "stream",
          "name": "stdout",
          "text": [
            "                      EMAIL    NAME      PHONE\n",
            "0   nguyen@aivietnam.edu.vn  Nguyen  123456789\n",
            "1    admin@aivietnam.edu.vn    Vinh  123456789\n",
            "2  nguyen1@aivietnam.edu.vn  Nguyen  123456789\n",
            "3   admin1@aivietnam.edu.vn    Vinh  123456789\n",
            "4  nguyen2@aivietnam.edu.vn  Nguyen  123456789\n",
            "5   admin2@aivietnam.edu.vn    Vinh  123456789\n"
          ]
        }
      ]
    },
    {
      "cell_type": "code",
      "source": [
        "cursor.execute(\"\"\"\n",
        "UPDATE CUSTOMERS\n",
        "SET NAME ='Hoang Nguyen'\n",
        "WHERE 1=1\n",
        "AND EMAIL ='nguyen@aivietnam.edu.vn';\n",
        "\"\"\")\n",
        "connection.commit()\n",
        "\n",
        "data=pd.read_sql_query(\"SELECT * FROM CUSTOMERS\", connection)\n",
        "print(data)"
      ],
      "metadata": {
        "colab": {
          "base_uri": "https://localhost:8080/"
        },
        "id": "By6jKmlpPz6x",
        "outputId": "66346da9-aa31-4d33-a831-d5beccb46841"
      },
      "execution_count": null,
      "outputs": [
        {
          "output_type": "stream",
          "name": "stdout",
          "text": [
            "                      EMAIL          NAME      PHONE\n",
            "0   nguyen@aivietnam.edu.vn  Hoang Nguyen  123456789\n",
            "1    admin@aivietnam.edu.vn          Vinh  123456789\n",
            "2  nguyen1@aivietnam.edu.vn        Nguyen  123456789\n",
            "3   admin1@aivietnam.edu.vn          Vinh  123456789\n",
            "4  nguyen2@aivietnam.edu.vn        Nguyen  123456789\n",
            "5   admin2@aivietnam.edu.vn          Vinh  123456789\n"
          ]
        }
      ]
    },
    {
      "cell_type": "code",
      "source": [
        "cursor.execute(\"\"\"\n",
        "DELETE FROM CUSTOMERS\n",
        "WHERE 1=1\n",
        "AND EMAIL= 'nguyen@aivietnam.edu.vn';\n",
        "\"\"\")\n",
        "connection.commit()\n",
        "\n",
        "data=pd.read_sql_query(\"SELECT * FROM CUSTOMERS\", connection)\n",
        "print(data)"
      ],
      "metadata": {
        "colab": {
          "base_uri": "https://localhost:8080/"
        },
        "id": "xyVa9ZOYPz2n",
        "outputId": "62ecbe6f-7676-4738-c596-38daae082af4"
      },
      "execution_count": null,
      "outputs": [
        {
          "output_type": "stream",
          "name": "stdout",
          "text": [
            "                      EMAIL    NAME      PHONE\n",
            "0    admin@aivietnam.edu.vn    Vinh  123456789\n",
            "1  nguyen1@aivietnam.edu.vn  Nguyen  123456789\n",
            "2   admin1@aivietnam.edu.vn    Vinh  123456789\n",
            "3  nguyen2@aivietnam.edu.vn  Nguyen  123456789\n",
            "4   admin2@aivietnam.edu.vn    Vinh  123456789\n"
          ]
        }
      ]
    },
    {
      "cell_type": "code",
      "source": [],
      "metadata": {
        "id": "RA3EVQeeZxaq"
      },
      "execution_count": null,
      "outputs": []
    },
    {
      "cell_type": "code",
      "source": [],
      "metadata": {
        "id": "zoseNhkVPzxo"
      },
      "execution_count": null,
      "outputs": []
    },
    {
      "cell_type": "code",
      "source": [],
      "metadata": {
        "id": "yOakFJh9PzvB"
      },
      "execution_count": null,
      "outputs": []
    },
    {
      "cell_type": "code",
      "source": [],
      "metadata": {
        "id": "CKA6riCrPzmq"
      },
      "execution_count": null,
      "outputs": []
    },
    {
      "cell_type": "markdown",
      "source": [
        "# connect bằng thư viện MySQL của Python"
      ],
      "metadata": {
        "id": "axoYqSuV0zJT"
      }
    },
    {
      "cell_type": "code",
      "source": [
        "!pip install mysql-connector-python"
      ],
      "metadata": {
        "colab": {
          "base_uri": "https://localhost:8080/"
        },
        "id": "J9GXeDRdB7mi",
        "outputId": "e1cfe544-c1c2-4d24-99b7-8964926f4964"
      },
      "execution_count": null,
      "outputs": [
        {
          "output_type": "stream",
          "name": "stdout",
          "text": [
            "Collecting mysql-connector-python\n",
            "  Downloading mysql_connector_python-9.2.0-cp311-cp311-manylinux_2_28_x86_64.whl.metadata (6.0 kB)\n",
            "Downloading mysql_connector_python-9.2.0-cp311-cp311-manylinux_2_28_x86_64.whl (34.0 MB)\n",
            "\u001b[2K   \u001b[90m━━━━━━━━━━━━━━━━━━━━━━━━━━━━━━━━━━━━━━━━\u001b[0m \u001b[32m34.0/34.0 MB\u001b[0m \u001b[31m50.0 MB/s\u001b[0m eta \u001b[36m0:00:00\u001b[0m\n",
            "\u001b[?25hInstalling collected packages: mysql-connector-python\n",
            "Successfully installed mysql-connector-python-9.2.0\n"
          ]
        }
      ]
    },
    {
      "cell_type": "code",
      "source": [
        "!pip install pandas"
      ],
      "metadata": {
        "colab": {
          "base_uri": "https://localhost:8080/"
        },
        "id": "-pxzTY00wPLn",
        "outputId": "7f5b19df-ade6-45ee-d7f6-6949bcb19d7b"
      },
      "execution_count": null,
      "outputs": [
        {
          "output_type": "stream",
          "name": "stdout",
          "text": [
            "Requirement already satisfied: pandas in /usr/local/lib/python3.11/dist-packages (2.2.2)\n",
            "Requirement already satisfied: numpy>=1.23.2 in /usr/local/lib/python3.11/dist-packages (from pandas) (2.0.2)\n",
            "Requirement already satisfied: python-dateutil>=2.8.2 in /usr/local/lib/python3.11/dist-packages (from pandas) (2.8.2)\n",
            "Requirement already satisfied: pytz>=2020.1 in /usr/local/lib/python3.11/dist-packages (from pandas) (2025.1)\n",
            "Requirement already satisfied: tzdata>=2022.7 in /usr/local/lib/python3.11/dist-packages (from pandas) (2025.1)\n",
            "Requirement already satisfied: six>=1.5 in /usr/local/lib/python3.11/dist-packages (from python-dateutil>=2.8.2->pandas) (1.17.0)\n"
          ]
        }
      ]
    },
    {
      "cell_type": "code",
      "source": [
        "\n",
        "import mysql.connector\n",
        "connection = mysql.connector.connect(\n",
        "    host=\"127.0.0.1\",     # Địa chỉ máy chủ MySQL (có thể thay đổi)\n",
        "    user=\"root\",          # Tài khoản MySQL (thay đổi nếu cần)\n",
        "    password=\" \",  # Mật khẩu MySQL\n",
        "    database=\"test\",    # Tên cơ sở dữ liệu\n",
        "\n",
        ")\n",
        "\n",
        "# # IF NOT EXISTS: Tránh lỗi khi bảng đã tồn tại trong MySQL\n",
        "cursor = connection.cursor()\n",
        "cursor.execute(\"\"\"\n",
        "CREATE TABLE IF NOT EXISTS PRODUCT (\n",
        "    ID INT PRIMARY KEY,\n",
        "    NAME TEXT NOT NULL,\n",
        "    PRICE TEXT NOT NULL\n",
        ");\n",
        "\"\"\")\n",
        "\n",
        "cursor.execute(\"\"\"\n",
        "INSERT INTO PRODUCT(ID, NAME, PRICE)\n",
        "VALUES\n",
        "    (1, 'iPhone 15', 18000000),\n",
        "    (2, 'Galaxy Z-Fold 5', 30000000);\n",
        "\"\"\")\n",
        "connection.commit()\n",
        "\n",
        "import pandas as pd\n",
        "data=pd.read_sql_query(\"SELECT * FROM PRODUCT\", connection)\n",
        "print(data)\n"
      ],
      "metadata": {
        "id": "V_zQAc7RB19p"
      },
      "execution_count": null,
      "outputs": []
    },
    {
      "cell_type": "code",
      "source": [
        "cursor.execute(\"\"\"\n",
        "UPDATE PRODUCT\n",
        "SET price =50000000\n",
        "WHERE 1=1\n",
        "AND name ='Galaxy Z-Fold 5';\n",
        "\"\"\")\n",
        "connection.commit()\n",
        "\n",
        "data=pd.read_sql_query(\"SELECT * FROM PRODUCT\", connection)\n",
        "print(data)\n"
      ],
      "metadata": {
        "id": "1HL3aUGy0xRC"
      },
      "execution_count": null,
      "outputs": []
    },
    {
      "cell_type": "code",
      "source": [
        "cursor.execute(\"\"\"\n",
        "DELETE FROM PRODUCT\n",
        "WHERE 1=1\n",
        "AND name ='iPhone 15';\n",
        "\"\"\")\n",
        "connection.commit()\n",
        "\n",
        "data=pd.read_sql_query(\"SELECT * FROM PRODUCT\", connection)\n",
        "print(data)\n"
      ],
      "metadata": {
        "id": "Qdn1M8hEzuqO"
      },
      "execution_count": null,
      "outputs": []
    },
    {
      "cell_type": "code",
      "source": [],
      "metadata": {
        "id": "GaEcLjvizuc_"
      },
      "execution_count": null,
      "outputs": []
    },
    {
      "cell_type": "code",
      "source": [],
      "metadata": {
        "id": "3h5parb5ejqH"
      },
      "execution_count": null,
      "outputs": []
    },
    {
      "cell_type": "code",
      "source": [],
      "metadata": {
        "id": "jGtWKrf2FefD"
      },
      "execution_count": null,
      "outputs": []
    },
    {
      "cell_type": "markdown",
      "source": [
        "# THAM KHẢO"
      ],
      "metadata": {
        "id": "fbm-s21C9-Lu"
      }
    },
    {
      "cell_type": "code",
      "source": [
        "!pip install mysql-connector-python"
      ],
      "metadata": {
        "id": "IF_OleC09_jE"
      },
      "execution_count": null,
      "outputs": []
    },
    {
      "cell_type": "code",
      "source": [
        "import mysql.connector\n",
        "db = mysql.connector.connect(user = \"root\", password = \"mysql\", host=\"localhost\")\n",
        "\n",
        "print(db)"
      ],
      "metadata": {
        "id": "llTthCHS-wFv"
      },
      "execution_count": null,
      "outputs": []
    },
    {
      "cell_type": "code",
      "source": [
        "query = 'CREATE SCHEMA database_d35_usinglib '\n",
        "cursor = db.cursor()\n",
        "cursor.execute(query)"
      ],
      "metadata": {
        "id": "Q_EyedRZ--Iv"
      },
      "execution_count": null,
      "outputs": []
    },
    {
      "cell_type": "code",
      "source": [
        "query = 'CREATE TABLE database_d35_usinglib.PRODUCT(ID INT NOT NULL PRIMARY KEY, NAME TEXT NOT NULL, PRICE INT)'\n",
        "cursor.execute(query)"
      ],
      "metadata": {
        "id": "aGK3V5WV--0B"
      },
      "execution_count": null,
      "outputs": []
    },
    {
      "cell_type": "code",
      "source": [
        "import pandas as pd\n",
        "\n",
        "query = \"\"\"\n",
        "    INSERT INTO database_d35_usinglib.PRODUCT(ID, NAME, PRICE)\n",
        "    VALUES\n",
        "    (1, 'IPhone 15', 18000000),\n",
        "    (2, 'Galaxy Z-5', 30000000)\n",
        "    \"\"\"\n",
        "cursor.execute(query)\n",
        "db.commit()\n",
        "\n",
        "query = 'SELECT * FROM database_d35_usinglib.PRODUCT'\n",
        "data = pd.read_sql_query(query, db)\n",
        "print(data)"
      ],
      "metadata": {
        "id": "1IPFkNFI_Aq6"
      },
      "execution_count": null,
      "outputs": []
    },
    {
      "cell_type": "code",
      "source": [
        "query = \"\"\"\n",
        "    UPDATE database_d35_usinglib.PRODUCT\n",
        "    SET PRICE = 50000000\n",
        "    WHERE 1 = 1\n",
        "    AND NAME = 'Galaxy Z-5'\n",
        "\"\"\"\n",
        "cursor.execute(query)\n",
        "db.commit()\n",
        "query = 'SELECT * FROM database_d35_usinglib.PRODUCT'\n",
        "data = pd.read_sql_query(query, db)\n",
        "print(data)"
      ],
      "metadata": {
        "id": "ljwewsph_Dxs"
      },
      "execution_count": null,
      "outputs": []
    },
    {
      "cell_type": "code",
      "source": [
        "query = \"\"\"\n",
        "    DELETE FROM database_d35_usinglib.PRODUCT\n",
        "    WHERE 1 = 1\n",
        "    AND NAME = 'IPhone 15'\n",
        "\"\"\"\n",
        "cursor.execute(query)\n",
        "db.commit()\n",
        "query = 'SELECT * FROM database_d35_usinglib.PRODUCT'\n",
        "data = pd.read_sql_query(query, db)\n",
        "print(data)"
      ],
      "metadata": {
        "id": "bzgC6vkq_Fs8"
      },
      "execution_count": null,
      "outputs": []
    }
  ]
}