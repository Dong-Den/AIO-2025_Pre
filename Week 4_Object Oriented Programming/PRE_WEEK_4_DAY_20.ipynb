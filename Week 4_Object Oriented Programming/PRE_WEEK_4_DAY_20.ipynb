{
  "nbformat": 4,
  "nbformat_minor": 0,
  "metadata": {
    "colab": {
      "provenance": []
    },
    "kernelspec": {
      "name": "python3",
      "display_name": "Python 3"
    },
    "language_info": {
      "name": "python"
    }
  },
  "cells": [
    {
      "cell_type": "markdown",
      "source": [
        "#Linear Regression\n",
        "30/62 for 90mins_28 OK"
      ],
      "metadata": {
        "id": "vY7QwBpq-mty"
      }
    },
    {
      "cell_type": "code",
      "execution_count": null,
      "metadata": {
        "colab": {
          "base_uri": "https://localhost:8080/"
        },
        "id": "5cZpFZZZKz_j",
        "outputId": "da3e146e-2033-4eaf-e16e-7a3db009ecd5"
      },
      "outputs": [
        {
          "output_type": "stream",
          "name": "stdout",
          "text": [
            "6\n"
          ]
        }
      ],
      "source": [
        "print(len(\"Python\"))\n"
      ]
    },
    {
      "cell_type": "code",
      "source": [
        "a=10\n",
        "b=2.5\n",
        "c=a+b\n",
        "print(type(c))\n",
        "print(c)\n",
        "type(c)"
      ],
      "metadata": {
        "colab": {
          "base_uri": "https://localhost:8080/"
        },
        "id": "j18OwISFLCQQ",
        "outputId": "45a5b43c-07ae-490d-f69e-d34aa7b6bf7f"
      },
      "execution_count": null,
      "outputs": [
        {
          "output_type": "stream",
          "name": "stdout",
          "text": [
            "<class 'float'>\n",
            "12.5\n"
          ]
        },
        {
          "output_type": "execute_result",
          "data": {
            "text/plain": [
              "float"
            ]
          },
          "metadata": {},
          "execution_count": 4
        }
      ]
    },
    {
      "cell_type": "code",
      "source": [
        "numbers=[4,2,2,5,1,3,4,9]\n",
        "print(numbers.count(4))\n"
      ],
      "metadata": {
        "colab": {
          "base_uri": "https://localhost:8080/"
        },
        "id": "zcxNZbdkLUNd",
        "outputId": "033462a7-1075-4fbc-c86f-76e2297f282a"
      },
      "execution_count": null,
      "outputs": [
        {
          "output_type": "stream",
          "name": "stdout",
          "text": [
            "2\n"
          ]
        }
      ]
    },
    {
      "cell_type": "code",
      "source": [
        "name=\"Alice\"\n",
        "age=25\n",
        "info=f\"{name} is {age} years old\"\n",
        "print(info)"
      ],
      "metadata": {
        "colab": {
          "base_uri": "https://localhost:8080/"
        },
        "id": "MGdrOQpKLjo_",
        "outputId": "c9ff9ab5-83a7-4fc1-afd0-a4c99699f214"
      },
      "execution_count": null,
      "outputs": [
        {
          "output_type": "stream",
          "name": "stdout",
          "text": [
            "Alice is 25 years old\n"
          ]
        }
      ]
    },
    {
      "cell_type": "code",
      "source": [
        "score=85\n",
        "if score>=90:\n",
        "    grade=\"A\"\n",
        "elif score>=80:\n",
        "    grade=\"B\"\n",
        "else:\n",
        "    grade=\"C\"\n",
        "print(grade)\n"
      ],
      "metadata": {
        "colab": {
          "base_uri": "https://localhost:8080/"
        },
        "id": "_ufPXMpKL4EJ",
        "outputId": "4a7196bd-ffec-44a7-ef47-37c724f082c8"
      },
      "execution_count": null,
      "outputs": [
        {
          "output_type": "stream",
          "name": "stdout",
          "text": [
            "B\n"
          ]
        }
      ]
    },
    {
      "cell_type": "code",
      "source": [
        "def a_function(n):\n",
        "    if n==0:\n",
        "        return 1\n",
        "    else:\n",
        "        return n* a_function(n-1)\n",
        "result= a_function(4)\n",
        "print(result)"
      ],
      "metadata": {
        "colab": {
          "base_uri": "https://localhost:8080/"
        },
        "id": "a4RDb9K8MM8G",
        "outputId": "709dc65b-de3e-4f8e-d06e-30ec69a9e056"
      },
      "execution_count": null,
      "outputs": [
        {
          "output_type": "stream",
          "name": "stdout",
          "text": [
            "24\n"
          ]
        }
      ]
    },
    {
      "cell_type": "code",
      "source": [
        "animals=['cat', 'dog', 'rabbit', 'horse']\n",
        "print(animals.index('rabbit'))"
      ],
      "metadata": {
        "colab": {
          "base_uri": "https://localhost:8080/"
        },
        "id": "viOTz0tiM7JH",
        "outputId": "ac1f6bd3-457c-417e-9606-b44fbfefcbdb"
      },
      "execution_count": null,
      "outputs": [
        {
          "output_type": "stream",
          "name": "stdout",
          "text": [
            "2\n"
          ]
        }
      ]
    },
    {
      "cell_type": "code",
      "source": [
        "data={\"name\": \"Bob\", \"age\": 30}\n",
        "data[\"age\"]+=5\n",
        "print(data)\n"
      ],
      "metadata": {
        "colab": {
          "base_uri": "https://localhost:8080/"
        },
        "id": "z01loFkqNKsy",
        "outputId": "aca91004-e12d-4ab0-d56b-d5e3a71dc813"
      },
      "execution_count": null,
      "outputs": [
        {
          "output_type": "stream",
          "name": "stdout",
          "text": [
            "{'name': 'Bob', 'age': 35}\n"
          ]
        }
      ]
    },
    {
      "cell_type": "code",
      "source": [
        "def a_function(n):\n",
        "    if n<=0:\n",
        "        return 0\n",
        "    elif n==1:\n",
        "        return 1\n",
        "    else:\n",
        "        return a_function(n-1) + a_function(n-2)\n",
        "\n",
        "result= a_function(6)\n",
        "print(result)"
      ],
      "metadata": {
        "colab": {
          "base_uri": "https://localhost:8080/"
        },
        "id": "F6iW59sRNM_6",
        "outputId": "cc66b91f-8765-45a1-d9b1-4bf7b123ea02"
      },
      "execution_count": null,
      "outputs": [
        {
          "output_type": "stream",
          "name": "stdout",
          "text": [
            "8\n"
          ]
        }
      ]
    },
    {
      "cell_type": "code",
      "source": [
        "for i in range(1,6):\n",
        "    print(i)\n",
        "    break"
      ],
      "metadata": {
        "colab": {
          "base_uri": "https://localhost:8080/"
        },
        "id": "qzlxmGBMPPjV",
        "outputId": "750fd998-4b58-4e45-87f7-e80db7c92d46"
      },
      "execution_count": null,
      "outputs": [
        {
          "output_type": "stream",
          "name": "stdout",
          "text": [
            "1\n"
          ]
        }
      ]
    },
    {
      "cell_type": "code",
      "source": [
        "i=0\n",
        "while i<3:\n",
        "    print(i)\n",
        "    i+=1"
      ],
      "metadata": {
        "colab": {
          "base_uri": "https://localhost:8080/"
        },
        "id": "GyeoUI9WPnB8",
        "outputId": "87235120-1547-4acd-d216-44f36c597c95"
      },
      "execution_count": null,
      "outputs": [
        {
          "output_type": "stream",
          "name": "stdout",
          "text": [
            "0\n",
            "1\n",
            "2\n"
          ]
        }
      ]
    },
    {
      "cell_type": "code",
      "source": [
        "file = open(\"example.txt\", \"w\")\n",
        "file.write(\"Hello, World!\")\n",
        "file.close()\n"
      ],
      "metadata": {
        "id": "r0SpPWnJP1B7"
      },
      "execution_count": null,
      "outputs": []
    },
    {
      "cell_type": "code",
      "source": [
        "for i in range(5):\n",
        "    if i==3:\n",
        "        break\n",
        "    print(i)\n"
      ],
      "metadata": {
        "colab": {
          "base_uri": "https://localhost:8080/"
        },
        "id": "3QCBUmsxQuaE",
        "outputId": "3a805d7b-65c8-4da6-87a6-f1333a056ae3"
      },
      "execution_count": null,
      "outputs": [
        {
          "output_type": "stream",
          "name": "stdout",
          "text": [
            "0\n",
            "1\n",
            "2\n"
          ]
        }
      ]
    },
    {
      "cell_type": "code",
      "source": [
        "for i in range(5):\n",
        "    if i%2==0:\n",
        "        continue\n",
        "    print(i)"
      ],
      "metadata": {
        "colab": {
          "base_uri": "https://localhost:8080/"
        },
        "id": "j6WV6bE6ReLq",
        "outputId": "b0f647eb-5fbd-44c6-80fc-8ef7d45fff87"
      },
      "execution_count": null,
      "outputs": [
        {
          "output_type": "stream",
          "name": "stdout",
          "text": [
            "1\n",
            "3\n"
          ]
        }
      ]
    },
    {
      "cell_type": "code",
      "source": [
        "with open(\"example.txt\",\"r\") as file:\n",
        "    content= file.read()\n",
        "print(content)"
      ],
      "metadata": {
        "colab": {
          "base_uri": "https://localhost:8080/"
        },
        "id": "h0WZvptdR-FD",
        "outputId": "953400ef-ecff-4b45-cd4b-c7e70f3a6ca4"
      },
      "execution_count": null,
      "outputs": [
        {
          "output_type": "stream",
          "name": "stdout",
          "text": [
            "Python Programming\n"
          ]
        }
      ]
    },
    {
      "cell_type": "code",
      "source": [
        "x=10\n",
        "while x>0:\n",
        "      x-=3\n",
        "      if x%2==0:\n",
        "          print(x)\n",
        "          break\n",
        "      print(x, end=\" \")"
      ],
      "metadata": {
        "colab": {
          "base_uri": "https://localhost:8080/"
        },
        "id": "fHNCNa8BSlMK",
        "outputId": "067df20a-46ed-4646-f921-2a7833eaa1dc"
      },
      "execution_count": null,
      "outputs": [
        {
          "output_type": "stream",
          "name": "stdout",
          "text": [
            "7 4\n"
          ]
        }
      ]
    },
    {
      "cell_type": "code",
      "source": [
        "result=[]\n",
        "for i in range(5, -6, -2):\n",
        "    result.append(i)\n",
        "print(result)\n"
      ],
      "metadata": {
        "colab": {
          "base_uri": "https://localhost:8080/"
        },
        "id": "OjmoWGF_TMp3",
        "outputId": "520dbe36-8532-4442-97c1-478939b07d9b"
      },
      "execution_count": null,
      "outputs": [
        {
          "output_type": "stream",
          "name": "stdout",
          "text": [
            "[5, 3, 1, -1, -3, -5]\n"
          ]
        }
      ]
    },
    {
      "cell_type": "code",
      "source": [
        "result=0\n",
        "for i in range(1,10,2):\n",
        "    if i%3==0:\n",
        "        break\n",
        "    result+=i\n",
        "print(result)"
      ],
      "metadata": {
        "colab": {
          "base_uri": "https://localhost:8080/"
        },
        "id": "OjVbefOzTwqH",
        "outputId": "f08c675b-9a11-4e29-c817-eb0897c2b112"
      },
      "execution_count": null,
      "outputs": [
        {
          "output_type": "stream",
          "name": "stdout",
          "text": [
            "1\n"
          ]
        }
      ]
    },
    {
      "cell_type": "code",
      "source": [
        "with open(\"data.txt\",\"r\") as file:\n",
        "    lines=file.readlines()\n",
        "\n",
        "count=0\n",
        "for line in lines:\n",
        "    if line.strip()==\"Python\":\n",
        "        count+=1\n",
        "print(count)\n",
        "\n",
        "#đếm số dong chứa chuỗi \"Python\" trong file data.txt"
      ],
      "metadata": {
        "id": "mr2kbF6wUg-t"
      },
      "execution_count": null,
      "outputs": []
    },
    {
      "cell_type": "code",
      "source": [
        "i=0\n",
        "while i<5:\n",
        "    i+=1\n",
        "    if i==3:\n",
        "        continue\n",
        "    print(i, end=\" \")"
      ],
      "metadata": {
        "colab": {
          "base_uri": "https://localhost:8080/"
        },
        "id": "VtCrgHnPa2RR",
        "outputId": "0c5a332e-533e-4884-b658-ea6ec5745f14"
      },
      "execution_count": null,
      "outputs": [
        {
          "output_type": "stream",
          "name": "stdout",
          "text": [
            "1 2 4 5 "
          ]
        }
      ]
    },
    {
      "cell_type": "code",
      "source": [
        "x=0\n",
        "while x<=4:\n",
        "    if x==3:\n",
        "        continue\n",
        "    print(x)\n",
        "    x+=1\n",
        "\n",
        "#lặp vô hạn"
      ],
      "metadata": {
        "id": "VcZjCby9bmFW"
      },
      "execution_count": null,
      "outputs": []
    },
    {
      "cell_type": "code",
      "source": [
        "text=\"Python is fun\"\n",
        "result=text.replace(\"fun\", \"awesome\")\n",
        "print(result[5:])"
      ],
      "metadata": {
        "colab": {
          "base_uri": "https://localhost:8080/"
        },
        "id": "RIlMlTvOc8R0",
        "outputId": "7adff9c2-93a1-49c7-d95a-3dcd6c7df527"
      },
      "execution_count": null,
      "outputs": [
        {
          "output_type": "stream",
          "name": "stdout",
          "text": [
            "n is awesome\n"
          ]
        }
      ]
    },
    {
      "cell_type": "code",
      "source": [
        "matrix=[\n",
        "    [1,2,3],\n",
        "    [4,5,6],\n",
        "    [7,8,9]\n",
        "]\n",
        "result=[row[1] for row in matrix]\n",
        "print(result)"
      ],
      "metadata": {
        "colab": {
          "base_uri": "https://localhost:8080/"
        },
        "id": "lk_dNjjxdbW0",
        "outputId": "f183cab2-e0d5-4e39-fea0-8f50d08f5652"
      },
      "execution_count": null,
      "outputs": [
        {
          "output_type": "stream",
          "name": "stdout",
          "text": [
            "[2, 5, 8]\n"
          ]
        }
      ]
    },
    {
      "cell_type": "code",
      "source": [
        "matrix=[[1,2,3],\n",
        "    [4,5,6],\n",
        "    [7,8,9]]\n",
        "print(matrix[0:2] [0:1])"
      ],
      "metadata": {
        "colab": {
          "base_uri": "https://localhost:8080/"
        },
        "id": "6JUKxlXVd6J0",
        "outputId": "e3739dd8-ad4a-46b0-8bd8-a8423fb88cdc"
      },
      "execution_count": null,
      "outputs": [
        {
          "output_type": "stream",
          "name": "stdout",
          "text": [
            "[[1, 2, 3]]\n"
          ]
        }
      ]
    },
    {
      "cell_type": "code",
      "source": [
        "text=\"a,b,c,d,e\"\n",
        "result=text.split(\",\") [::-1]\n",
        "print(result)"
      ],
      "metadata": {
        "colab": {
          "base_uri": "https://localhost:8080/"
        },
        "id": "NV9jBQ3rfU1h",
        "outputId": "31964e1b-3139-40db-b4b7-48887a6f6ebe"
      },
      "execution_count": null,
      "outputs": [
        {
          "output_type": "stream",
          "name": "stdout",
          "text": [
            "['e', 'd', 'c', 'b', 'a']\n"
          ]
        }
      ]
    },
    {
      "cell_type": "code",
      "source": [
        "text=\"Data Science\"\n",
        "result=text[5:].upper()+ text[:4].lower()\n",
        "print(result)"
      ],
      "metadata": {
        "colab": {
          "base_uri": "https://localhost:8080/"
        },
        "id": "FDtag2gngCOy",
        "outputId": "28fac18f-79eb-41d0-9c87-1d3c4ae44e1c"
      },
      "execution_count": null,
      "outputs": [
        {
          "output_type": "stream",
          "name": "stdout",
          "text": [
            "SCIENCEdata\n"
          ]
        }
      ]
    },
    {
      "cell_type": "code",
      "source": [
        "data=['Python', 'Data Science', 'Machine Learning', 'AI']\n",
        "filtered_data= [word for word in data if 'a' in word.lower()]\n",
        "print(filtered_data)"
      ],
      "metadata": {
        "colab": {
          "base_uri": "https://localhost:8080/"
        },
        "id": "xyjc4On6gb_g",
        "outputId": "56242ac6-8a22-4b54-b38c-d3721056efc3"
      },
      "execution_count": null,
      "outputs": [
        {
          "output_type": "stream",
          "name": "stdout",
          "text": [
            "['Data Science', 'Machine Learning', 'AI']\n"
          ]
        }
      ]
    },
    {
      "cell_type": "code",
      "source": [
        "text=\"1234567890\"\n",
        "result=text[::2].replace('2', 'X') + text[1::2].replace('5', 'Y')\n",
        "print(result)\n"
      ],
      "metadata": {
        "colab": {
          "base_uri": "https://localhost:8080/"
        },
        "id": "lizopQmehHZX",
        "outputId": "562acefb-c143-4305-c264-dbb45d46d700"
      },
      "execution_count": null,
      "outputs": [
        {
          "output_type": "stream",
          "name": "stdout",
          "text": [
            "1357924680\n"
          ]
        }
      ]
    },
    {
      "cell_type": "code",
      "source": [
        "data=[['Python', '3.8'], ['Data Science', 'ML'], ['AI', 'Deep Learning']]\n",
        "cleaned_data=[[item.lower() for item in row] for row in data]\n",
        "print(cleaned_data)\n"
      ],
      "metadata": {
        "colab": {
          "base_uri": "https://localhost:8080/"
        },
        "id": "wGaSGEsxhzbW",
        "outputId": "b15f309b-71ca-4338-b4f1-8e1904b9f13d"
      },
      "execution_count": null,
      "outputs": [
        {
          "output_type": "stream",
          "name": "stdout",
          "text": [
            "[['python', '3.8'], ['data science', 'ml'], ['ai', 'deep learning']]\n"
          ]
        }
      ]
    },
    {
      "cell_type": "code",
      "source": [
        "my_set={1,2,3,4,5}\n",
        "my_set.add(6)  #thêm phần tử vào tập hợp\n",
        "print(my_set[5])\n",
        "# chỉ mục chỉ áp dụng với dữ liệu kiểu danh sách numpy, không áp dụng set tập hợp"
      ],
      "metadata": {
        "colab": {
          "base_uri": "https://localhost:8080/",
          "height": 176
        },
        "id": "AF0yfOuPiZmq",
        "outputId": "d88ea209-4742-4d34-a960-7d23d6eb2848"
      },
      "execution_count": null,
      "outputs": [
        {
          "output_type": "error",
          "ename": "TypeError",
          "evalue": "'set' object is not subscriptable",
          "traceback": [
            "\u001b[0;31m---------------------------------------------------------------------------\u001b[0m",
            "\u001b[0;31mTypeError\u001b[0m                                 Traceback (most recent call last)",
            "\u001b[0;32m<ipython-input-40-812626dfd76b>\u001b[0m in \u001b[0;36m<cell line: 0>\u001b[0;34m()\u001b[0m\n\u001b[1;32m      1\u001b[0m \u001b[0mmy_set\u001b[0m\u001b[0;34m=\u001b[0m\u001b[0;34m{\u001b[0m\u001b[0;36m1\u001b[0m\u001b[0;34m,\u001b[0m\u001b[0;36m2\u001b[0m\u001b[0;34m,\u001b[0m\u001b[0;36m3\u001b[0m\u001b[0;34m,\u001b[0m\u001b[0;36m4\u001b[0m\u001b[0;34m,\u001b[0m\u001b[0;36m5\u001b[0m\u001b[0;34m}\u001b[0m\u001b[0;34m\u001b[0m\u001b[0;34m\u001b[0m\u001b[0m\n\u001b[1;32m      2\u001b[0m \u001b[0mmy_set\u001b[0m\u001b[0;34m.\u001b[0m\u001b[0madd\u001b[0m\u001b[0;34m(\u001b[0m\u001b[0;36m6\u001b[0m\u001b[0;34m)\u001b[0m  \u001b[0;31m#thêm phần tử vào chuỗi\u001b[0m\u001b[0;34m\u001b[0m\u001b[0;34m\u001b[0m\u001b[0m\n\u001b[0;32m----> 3\u001b[0;31m \u001b[0mprint\u001b[0m\u001b[0;34m(\u001b[0m\u001b[0mmy_set\u001b[0m\u001b[0;34m[\u001b[0m\u001b[0;36m5\u001b[0m\u001b[0;34m]\u001b[0m\u001b[0;34m)\u001b[0m\u001b[0;34m\u001b[0m\u001b[0;34m\u001b[0m\u001b[0m\n\u001b[0m",
            "\u001b[0;31mTypeError\u001b[0m: 'set' object is not subscriptable"
          ]
        }
      ]
    },
    {
      "cell_type": "code",
      "source": [
        "my_set={1,2,3}\n",
        "your_set={3,4,5}\n",
        "union_set=my_set.union(your_set)\n",
        "print(union_set)\n"
      ],
      "metadata": {
        "colab": {
          "base_uri": "https://localhost:8080/"
        },
        "id": "fhHm9c3hAcLN",
        "outputId": "a5d0deb8-112f-4eb3-a753-a14764582f31"
      },
      "execution_count": null,
      "outputs": [
        {
          "output_type": "stream",
          "name": "stdout",
          "text": [
            "{1, 2, 3, 4, 5}\n"
          ]
        }
      ]
    },
    {
      "cell_type": "code",
      "source": [
        "my_set={1,2,3}\n",
        "your_set={4,5,6}\n",
        "sdset=my_set ^ your_set\n",
        "print(sdset)\n"
      ],
      "metadata": {
        "colab": {
          "base_uri": "https://localhost:8080/"
        },
        "id": "kBhYPkuVA7PP",
        "outputId": "60b470e6-f79d-4d29-af1c-85490eeb8e16"
      },
      "execution_count": null,
      "outputs": [
        {
          "output_type": "stream",
          "name": "stdout",
          "text": [
            "{1, 2, 3, 4, 5, 6}\n"
          ]
        }
      ]
    },
    {
      "cell_type": "code",
      "source": [
        "my_tuple=(1,2,3)\n",
        "my_set=set(my_tuple)\n",
        "my_dict= {x: x**2 for x in my_set}\n",
        "print(len(my_dict))\n"
      ],
      "metadata": {
        "colab": {
          "base_uri": "https://localhost:8080/"
        },
        "id": "gNqzyHDIBfTF",
        "outputId": "be1d92e5-388d-4d25-bf55-7bd292cdc3ed"
      },
      "execution_count": null,
      "outputs": [
        {
          "output_type": "stream",
          "name": "stdout",
          "text": [
            "3\n"
          ]
        }
      ]
    },
    {
      "cell_type": "code",
      "source": [
        "my_set={1,2,3}\n",
        "your_set={3,4,5}\n",
        "inset=my_set & your_set\n",
        "print(inset)\n"
      ],
      "metadata": {
        "colab": {
          "base_uri": "https://localhost:8080/"
        },
        "id": "DzohkYsICnAk",
        "outputId": "e005c6bb-9f93-4ab8-c769-1e49e7944b29"
      },
      "execution_count": null,
      "outputs": [
        {
          "output_type": "stream",
          "name": "stdout",
          "text": [
            "{3}\n"
          ]
        }
      ]
    },
    {
      "cell_type": "code",
      "source": [
        "my_set={1,2,3,4}\n",
        "your_set={3,4,5,6}\n",
        "dset=my_set- your_set\n",
        "print(dset)"
      ],
      "metadata": {
        "colab": {
          "base_uri": "https://localhost:8080/"
        },
        "id": "ICpk6MaSDJIE",
        "outputId": "134b95d1-425c-4544-8644-cecfb0d991f4"
      },
      "execution_count": null,
      "outputs": [
        {
          "output_type": "stream",
          "name": "stdout",
          "text": [
            "{1, 2}\n"
          ]
        }
      ]
    },
    {
      "cell_type": "code",
      "source": [
        "my_tuple=(1,2,3,4,5)\n",
        "new_tuple=my_tuple[::-1]\n",
        "print(new_tuple)"
      ],
      "metadata": {
        "colab": {
          "base_uri": "https://localhost:8080/"
        },
        "id": "KirVJGFMDwJ6",
        "outputId": "61658ddf-6022-4891-a5e8-0760b9528ec1"
      },
      "execution_count": null,
      "outputs": [
        {
          "output_type": "stream",
          "name": "stdout",
          "text": [
            "(5, 4, 3, 2, 1)\n"
          ]
        }
      ]
    },
    {
      "cell_type": "code",
      "source": [
        "def process_tuple(t):\n",
        "    return t[1::2]\n",
        "\n",
        "my_tuple=(1,2,3,4,5,6,7,8)\n",
        "result=process_tuple(my_tuple)\n",
        "print(result)"
      ],
      "metadata": {
        "colab": {
          "base_uri": "https://localhost:8080/"
        },
        "id": "dlhV4kYBEHnR",
        "outputId": "1b8c9b40-a264-48ce-8fef-7f7405ca4430"
      },
      "execution_count": null,
      "outputs": [
        {
          "output_type": "stream",
          "name": "stdout",
          "text": [
            "(2, 4, 6, 8)\n"
          ]
        }
      ]
    },
    {
      "cell_type": "code",
      "source": [
        "my_dict={'a':1, 'b':2, 'c':3}\n",
        "my_set=set(my_dict.values())\n",
        "my_tuple=tuple(my_set)\n",
        "print(my_tuple[1])"
      ],
      "metadata": {
        "colab": {
          "base_uri": "https://localhost:8080/"
        },
        "id": "jNNESaSkFrzk",
        "outputId": "6f2a2ddd-ae3d-4ca9-f5be-14280d6424ce"
      },
      "execution_count": null,
      "outputs": [
        {
          "output_type": "stream",
          "name": "stdout",
          "text": [
            "2\n"
          ]
        }
      ]
    },
    {
      "cell_type": "code",
      "source": [
        "my_set={1,2,3,4,5}\n",
        "another_set={1,2,3,4,5,6,7}\n",
        "result=my_set.issubset(another_set) and not my_set.issuperset(another_set)\n",
        "print(result)"
      ],
      "metadata": {
        "colab": {
          "base_uri": "https://localhost:8080/"
        },
        "id": "jc3Jh9RjGMJ3",
        "outputId": "c68bdff4-181d-434b-a773-8e8566c06651"
      },
      "execution_count": null,
      "outputs": [
        {
          "output_type": "stream",
          "name": "stdout",
          "text": [
            "True\n"
          ]
        }
      ]
    },
    {
      "cell_type": "code",
      "source": [
        "my_dict={'a':1, 'b':2, 'c':3}\n",
        "new_dict={k: v for k,v in my_dict.items() if v>1}\n",
        "result=tuple(new_dict.keys())\n",
        "print(result)"
      ],
      "metadata": {
        "colab": {
          "base_uri": "https://localhost:8080/"
        },
        "id": "uqwu5cmfHZ_Y",
        "outputId": "5333dfa8-3e05-411c-dc2b-0419931aae06"
      },
      "execution_count": null,
      "outputs": [
        {
          "output_type": "stream",
          "name": "stdout",
          "text": [
            "('b', 'c')\n"
          ]
        }
      ]
    },
    {
      "cell_type": "code",
      "source": [
        "my_dict={'x':10,'y':20}\n",
        "my_set={key for key in my_dict if my_dict[key]>15}\n",
        "my_tuple=tuple(my_set)\n",
        "print(my_tuple)  #kiểu tuple có dấu , đằng sau"
      ],
      "metadata": {
        "colab": {
          "base_uri": "https://localhost:8080/"
        },
        "id": "aHzHuYwCIT_M",
        "outputId": "098be8e7-7c9e-4bb9-b747-0e7f904ea100"
      },
      "execution_count": null,
      "outputs": [
        {
          "output_type": "stream",
          "name": "stdout",
          "text": [
            "('y',)\n"
          ]
        }
      ]
    },
    {
      "cell_type": "code",
      "source": [
        "def setOperation(set1, set2):\n",
        "    result=(set1|set2) - (set1&set2)\n",
        "    final= {x for x in result if x%2==0}\n",
        "    return final\n",
        "\n",
        "set_a={1,2,3,4,5}\n",
        "set_b={4,5,6,7,8}\n",
        "result= setOperation(set_a, set_b)\n",
        "print(result)"
      ],
      "metadata": {
        "colab": {
          "base_uri": "https://localhost:8080/"
        },
        "id": "UvmB9aaDKfn9",
        "outputId": "d4320b9d-a428-4b67-8db1-eed8045412e6"
      },
      "execution_count": null,
      "outputs": [
        {
          "output_type": "stream",
          "name": "stdout",
          "text": [
            "{8, 2, 6}\n"
          ]
        }
      ]
    },
    {
      "cell_type": "code",
      "source": [
        "my_set={1,2,3}\n",
        "my_dict={x: x**3 for x in my_set}\n",
        "my_tuple=tuple(my_dict.items())\n",
        "filtered_tuple=tuple((k,v) for k,v in my_tuple if v%2!=0)\n",
        "print(filtered_tuple)"
      ],
      "metadata": {
        "colab": {
          "base_uri": "https://localhost:8080/"
        },
        "id": "swvoQNZfMjAs",
        "outputId": "dfb201b0-f0c9-4243-c971-43fa6d92884c"
      },
      "execution_count": null,
      "outputs": [
        {
          "output_type": "stream",
          "name": "stdout",
          "text": [
            "((1, 1), (3, 27))\n"
          ]
        }
      ]
    },
    {
      "cell_type": "code",
      "source": [
        "my_dict={'a': (1,2), 'b': (3,4), 'c': (5,6)}\n",
        "result={k: sum(v) for k,v in my_dict.items()}\n",
        "sorted_result=sorted(result.items(), key=lambda item: item[1], reverse=True)\n",
        "print(sorted_result)"
      ],
      "metadata": {
        "colab": {
          "base_uri": "https://localhost:8080/"
        },
        "id": "WHTrVOvNN8I4",
        "outputId": "3a4f847c-37c8-483a-f7ef-8cde000d8995"
      },
      "execution_count": null,
      "outputs": [
        {
          "output_type": "stream",
          "name": "stdout",
          "text": [
            "[('c', 11), ('b', 7), ('a', 3)]\n"
          ]
        }
      ]
    },
    {
      "cell_type": "code",
      "source": [
        "class MyClasss:\n",
        "    def __init__(self, value):\n",
        "        self.value=value\n",
        "\n",
        "obj=MyClass(self, 10)  #bỏ self\n",
        "print(obj.value)"
      ],
      "metadata": {
        "colab": {
          "base_uri": "https://localhost:8080/",
          "height": 193
        },
        "id": "DoT7zPA1Q82p",
        "outputId": "7fe39430-1cd7-4e71-b7d2-f3d39a85f85c"
      },
      "execution_count": null,
      "outputs": [
        {
          "output_type": "error",
          "ename": "NameError",
          "evalue": "name 'MyClass' is not defined",
          "traceback": [
            "\u001b[0;31m---------------------------------------------------------------------------\u001b[0m",
            "\u001b[0;31mNameError\u001b[0m                                 Traceback (most recent call last)",
            "\u001b[0;32m<ipython-input-55-0a963e30bcca>\u001b[0m in \u001b[0;36m<cell line: 0>\u001b[0;34m()\u001b[0m\n\u001b[1;32m      3\u001b[0m         \u001b[0mself\u001b[0m\u001b[0;34m.\u001b[0m\u001b[0mvalue\u001b[0m\u001b[0;34m=\u001b[0m\u001b[0mvalue\u001b[0m\u001b[0;34m\u001b[0m\u001b[0;34m\u001b[0m\u001b[0m\n\u001b[1;32m      4\u001b[0m \u001b[0;34m\u001b[0m\u001b[0m\n\u001b[0;32m----> 5\u001b[0;31m \u001b[0mobj\u001b[0m\u001b[0;34m=\u001b[0m\u001b[0mMyClass\u001b[0m\u001b[0;34m(\u001b[0m\u001b[0mself\u001b[0m\u001b[0;34m,\u001b[0m \u001b[0;36m10\u001b[0m\u001b[0;34m)\u001b[0m\u001b[0;34m\u001b[0m\u001b[0;34m\u001b[0m\u001b[0m\n\u001b[0m\u001b[1;32m      6\u001b[0m \u001b[0mprint\u001b[0m\u001b[0;34m(\u001b[0m\u001b[0mobj\u001b[0m\u001b[0;34m.\u001b[0m\u001b[0mvalue\u001b[0m\u001b[0;34m)\u001b[0m\u001b[0;34m\u001b[0m\u001b[0;34m\u001b[0m\u001b[0m\n",
            "\u001b[0;31mNameError\u001b[0m: name 'MyClass' is not defined"
          ]
        }
      ]
    },
    {
      "cell_type": "code",
      "source": [
        "class MyClass:\n",
        "    def __init__(self, value):\n",
        "        self.value=value\n",
        "\n",
        "obj=MyClass(20)\n",
        "obj.value=30\n",
        "print(obj.value)"
      ],
      "metadata": {
        "colab": {
          "base_uri": "https://localhost:8080/"
        },
        "id": "Hk874sQOSnXW",
        "outputId": "6f54a4aa-953b-45d1-a761-344290f5007b"
      },
      "execution_count": null,
      "outputs": [
        {
          "output_type": "stream",
          "name": "stdout",
          "text": [
            "30\n"
          ]
        }
      ]
    },
    {
      "cell_type": "code",
      "source": [
        "class Person:\n",
        "    def __init__(self, name, age):\n",
        "        self.name=name\n",
        "        self.age=age\n",
        "    def birthday(self):\n",
        "        self.age+=1\n",
        "\n",
        "person= Person(\"Alice\", 30)\n",
        "person.birthday()\n",
        "print(person.age)\n",
        "print(person.birthday())"
      ],
      "metadata": {
        "colab": {
          "base_uri": "https://localhost:8080/"
        },
        "id": "1c1yUcHwTnxR",
        "outputId": "0d7ce1a2-2eaa-4b24-90d1-a6a277b8a0c3"
      },
      "execution_count": null,
      "outputs": [
        {
          "output_type": "stream",
          "name": "stdout",
          "text": [
            "31\n",
            "None\n"
          ]
        }
      ]
    },
    {
      "cell_type": "code",
      "source": [
        "class Person:\n",
        "    def __init__(self, name, age):\n",
        "        self.name=name\n",
        "        self.age=age\n",
        "    def birthday(self):\n",
        "        self.age += 1\n",
        "        return self.age\n",
        "\n",
        "person= Person(\"Alice\", 30)\n",
        "person.birthday()\n",
        "print(person.age)\n",
        "print(person.birthday())\n",
        "\n"
      ],
      "metadata": {
        "colab": {
          "base_uri": "https://localhost:8080/"
        },
        "id": "vbLITjliWZrf",
        "outputId": "8b0259b6-2767-4a2d-f1f5-52c50efd205f"
      },
      "execution_count": null,
      "outputs": [
        {
          "output_type": "stream",
          "name": "stdout",
          "text": [
            "31\n",
            "32\n"
          ]
        }
      ]
    },
    {
      "cell_type": "code",
      "source": [
        "class Counter:\n",
        "    count=0\n",
        "    def __init__(self):\n",
        "        Counter.count +=1\n",
        "\n",
        "c1=Counter()\n",
        "c2=Counter()\n",
        "c3=Counter()\n",
        "print(Counter.count)"
      ],
      "metadata": {
        "colab": {
          "base_uri": "https://localhost:8080/"
        },
        "id": "nEUwzYHVW9z2",
        "outputId": "577c6221-ddd4-4df5-f72e-8c0aaca8f9d3"
      },
      "execution_count": null,
      "outputs": [
        {
          "output_type": "stream",
          "name": "stdout",
          "text": [
            "3\n"
          ]
        }
      ]
    },
    {
      "cell_type": "code",
      "source": [
        "class Animal:\n",
        "    def __init__(self, name):\n",
        "        self.name= name\n",
        "    def speak(self):\n",
        "        return f\"{self.name} makes a noise\"\n",
        "\n",
        "class Dog(Animal):\n",
        "    def speak(self):\n",
        "        return f\"{self.name} barks\"\n",
        "\n",
        "dog=Dog(\"Buddy\")\n",
        "print(dog.speak())\n"
      ],
      "metadata": {
        "colab": {
          "base_uri": "https://localhost:8080/"
        },
        "id": "PTdQNeMJYraJ",
        "outputId": "1b44d7c1-1da4-4620-b735-0406a2ea8356"
      },
      "execution_count": null,
      "outputs": [
        {
          "output_type": "stream",
          "name": "stdout",
          "text": [
            "Buddy barks\n"
          ]
        }
      ]
    },
    {
      "cell_type": "code",
      "source": [
        "class A:\n",
        "    def __init__(self):\n",
        "        self.__x=1\n",
        "    def get_x(self):\n",
        "        return self.__x\n",
        "\n",
        "class B(A):\n",
        "    def __init__(self):\n",
        "        super().__init__()\n",
        "        self.__x=2\n",
        "    def get_x(self):\n",
        "        return self.__x\n",
        "\n",
        "b=B()\n",
        "print(b.get_x())\n"
      ],
      "metadata": {
        "colab": {
          "base_uri": "https://localhost:8080/"
        },
        "id": "Luv8m8D0an6B",
        "outputId": "5d8e0107-479d-419c-d074-ad5f35d7f104"
      },
      "execution_count": null,
      "outputs": [
        {
          "output_type": "stream",
          "name": "stdout",
          "text": [
            "2\n"
          ]
        }
      ]
    },
    {
      "cell_type": "code",
      "source": [
        "class MyClass:\n",
        "    __hidden_variable=10\n",
        "    def add(self, increment):\n",
        "        self.__hidden_variable += increment\n",
        "        print(self.__hidden_variable)\n",
        "\n",
        "obj=MyClass()\n",
        "obj.add(2)\n",
        "obj.add(5)\n",
        "print(obj.__hidden_variable)\n"
      ],
      "metadata": {
        "colab": {
          "base_uri": "https://localhost:8080/",
          "height": 211
        },
        "id": "73xk3TTxma1y",
        "outputId": "c5bfa7ae-22f8-4727-9cc1-dfad2b84a3a4"
      },
      "execution_count": null,
      "outputs": [
        {
          "output_type": "stream",
          "name": "stdout",
          "text": [
            "12\n",
            "17\n"
          ]
        },
        {
          "output_type": "error",
          "ename": "AttributeError",
          "evalue": "'MyClass' object has no attribute '__hidden_variable'",
          "traceback": [
            "\u001b[0;31m---------------------------------------------------------------------------\u001b[0m",
            "\u001b[0;31mAttributeError\u001b[0m                            Traceback (most recent call last)",
            "\u001b[0;32m<ipython-input-70-18c95c79298b>\u001b[0m in \u001b[0;36m<cell line: 0>\u001b[0;34m()\u001b[0m\n\u001b[1;32m      8\u001b[0m \u001b[0mobj\u001b[0m\u001b[0;34m.\u001b[0m\u001b[0madd\u001b[0m\u001b[0;34m(\u001b[0m\u001b[0;36m2\u001b[0m\u001b[0;34m)\u001b[0m\u001b[0;34m\u001b[0m\u001b[0;34m\u001b[0m\u001b[0m\n\u001b[1;32m      9\u001b[0m \u001b[0mobj\u001b[0m\u001b[0;34m.\u001b[0m\u001b[0madd\u001b[0m\u001b[0;34m(\u001b[0m\u001b[0;36m5\u001b[0m\u001b[0;34m)\u001b[0m\u001b[0;34m\u001b[0m\u001b[0;34m\u001b[0m\u001b[0m\n\u001b[0;32m---> 10\u001b[0;31m \u001b[0mprint\u001b[0m\u001b[0;34m(\u001b[0m\u001b[0mobj\u001b[0m\u001b[0;34m.\u001b[0m\u001b[0m__hidden_variable\u001b[0m\u001b[0;34m)\u001b[0m\u001b[0;34m\u001b[0m\u001b[0;34m\u001b[0m\u001b[0m\n\u001b[0m",
            "\u001b[0;31mAttributeError\u001b[0m: 'MyClass' object has no attribute '__hidden_variable'"
          ]
        }
      ]
    },
    {
      "cell_type": "code",
      "source": [
        "class A:\n",
        "    def __init__(self):\n",
        "        self.value=0\n",
        "    def increment(self):\n",
        "        self.value+=1\n",
        "class B(A):\n",
        "    def __init__(self):\n",
        "        super().__init__()\n",
        "        self.value=5\n",
        "    def increment(self):\n",
        "        self.value+=2\n",
        "class C(B):\n",
        "    def __init__(self):\n",
        "        super().__init__()\n",
        "        self.value=10\n",
        "    def increment(self):\n",
        "        super().increment()\n",
        "        self.value+=3\n",
        "\n",
        "c=C()\n",
        "c.increment()\n",
        "print(c.value)"
      ],
      "metadata": {
        "colab": {
          "base_uri": "https://localhost:8080/"
        },
        "id": "hJpncU-cqLBi",
        "outputId": "0e1d41ef-4e74-42e0-84f3-fb4d39ebc438"
      },
      "execution_count": null,
      "outputs": [
        {
          "output_type": "stream",
          "name": "stdout",
          "text": [
            "15\n"
          ]
        }
      ]
    },
    {
      "cell_type": "code",
      "source": [
        "class Base:\n",
        "    def __init__(self):\n",
        "        self.a=\"Base\"\n",
        "    def display(self):\n",
        "        return self.a\n",
        "class Derived(Base):\n",
        "    def __init__(self):\n",
        "        super().__init__()\n",
        "        self.a=\"Derived\"\n",
        "    def display(self):\n",
        "        return self.a+ \" \" + super().display()\n",
        "\n",
        "d=Derived()\n",
        "print(d.display())\n"
      ],
      "metadata": {
        "colab": {
          "base_uri": "https://localhost:8080/"
        },
        "id": "rQ55mW-Pxp7q",
        "outputId": "fbf0d355-f73c-45a9-fd82-ea88c1d2fa68"
      },
      "execution_count": null,
      "outputs": [
        {
          "output_type": "stream",
          "name": "stdout",
          "text": [
            "Derived Derived\n"
          ]
        }
      ]
    },
    {
      "cell_type": "code",
      "source": [],
      "metadata": {
        "id": "rAw_0LMSFB60"
      },
      "execution_count": null,
      "outputs": []
    },
    {
      "cell_type": "code",
      "source": [
        "class Parent:\n",
        "    def __init__(self, value):\n",
        "        self.value=value\n",
        "    def show(self):\n",
        "        return self.value\n",
        "class Child(Parent):\n",
        "    def __init__(self,value, extra):\n",
        "        super().__init__(value)\n",
        "        self.extra=extra\n",
        "    def show(self):\n",
        "        return super().show() + self.extra\n",
        "\n",
        "c=Child(10,5)\n",
        "print(c.show())\n",
        "\n"
      ],
      "metadata": {
        "colab": {
          "base_uri": "https://localhost:8080/"
        },
        "id": "A53BVJkBE_RA",
        "outputId": "48ba50eb-8e08-4c26-c86f-2837f2ef2a1c"
      },
      "execution_count": null,
      "outputs": [
        {
          "output_type": "stream",
          "name": "stdout",
          "text": [
            "15\n"
          ]
        }
      ]
    },
    {
      "cell_type": "code",
      "source": [
        "class Vehicle:\n",
        "    def __init__(self, brand):\n",
        "        self.brand= brand\n",
        "class Car(Vehicle):\n",
        "    def __init__(self, brand, model):\n",
        "        super().__init__(brand)\n",
        "        self.model=model\n",
        "car= Car(\"Toyota\", \"Corolla\")\n",
        "print(car.brand, car.model)\n"
      ],
      "metadata": {
        "colab": {
          "base_uri": "https://localhost:8080/"
        },
        "id": "bgKu71EJGrEA",
        "outputId": "3be014ce-719f-4465-906a-7d63fdac9ecb"
      },
      "execution_count": null,
      "outputs": [
        {
          "output_type": "stream",
          "name": "stdout",
          "text": [
            "Toyota Corolla\n"
          ]
        }
      ]
    },
    {
      "cell_type": "code",
      "source": [
        "class Parent:\n",
        "    def greet(self):\n",
        "        print(\"Hello from Parent\")\n",
        "class Child(Parent):\n",
        "    def greet(self):\n",
        "        pass\n",
        "child=Child()\n",
        "child.greet()"
      ],
      "metadata": {
        "id": "M63G6L0VLAJU"
      },
      "execution_count": null,
      "outputs": []
    },
    {
      "cell_type": "code",
      "source": [
        "class Base:\n",
        "    def __init__(self):\n",
        "        self.__name=\"John\"\n",
        "        self._gender=\"Male\"\n",
        "    def get_name(self):\n",
        "        return self.__name\n",
        "class Derived(Base):\n",
        "    def __init__(self):\n",
        "        super().__init__()\n",
        "    def get_gender(self):\n",
        "        return self._gender\n",
        "\n",
        "obj=Derived()\n",
        "print(obj.get_name())\n",
        "print(obj.get_gender())\n"
      ],
      "metadata": {
        "colab": {
          "base_uri": "https://localhost:8080/"
        },
        "id": "c64fInRGMNrA",
        "outputId": "ab3bf3fb-0304-4e22-f43f-2ae9adc7f11f"
      },
      "execution_count": null,
      "outputs": [
        {
          "output_type": "stream",
          "name": "stdout",
          "text": [
            "John\n",
            "Male\n"
          ]
        }
      ]
    },
    {
      "cell_type": "code",
      "source": [
        "class X:\n",
        "    def method(self):\n",
        "        return \"X\"\n",
        "class Y(X):\n",
        "    def method(self):\n",
        "        return \"Y\" + super().method()\n",
        "class Z(Y):\n",
        "    def method(self):\n",
        "        return \"Z\" + super().method()\n",
        "z=Z()\n",
        "print(z.method())"
      ],
      "metadata": {
        "colab": {
          "base_uri": "https://localhost:8080/"
        },
        "id": "s184fS16Rgu6",
        "outputId": "2cd6e5c7-5f38-4c7b-bdce-8eba83c8d096"
      },
      "execution_count": null,
      "outputs": [
        {
          "output_type": "stream",
          "name": "stdout",
          "text": [
            "ZYX\n"
          ]
        }
      ]
    },
    {
      "cell_type": "code",
      "source": [
        "class A:\n",
        "    def __init__(self):\n",
        "        self.value=\"A\"\n",
        "    def get_value(self):\n",
        "        return self.value\n",
        "class B(A):\n",
        "    def __init__(self):\n",
        "        super().__init__()\n",
        "        self.value+=\"B\"\n",
        "    def get_value(self):\n",
        "        return self.value\n",
        "class C(B):\n",
        "    def __init__(self):\n",
        "        self.value=\"C\"\n",
        "        super().__init__()\n",
        "\n",
        "c=C()\n",
        "print(c.get_value())"
      ],
      "metadata": {
        "colab": {
          "base_uri": "https://localhost:8080/"
        },
        "id": "SY4qDjEBSU1d",
        "outputId": "a8332d5f-6de1-4db4-8326-11bb7f5a08af"
      },
      "execution_count": null,
      "outputs": [
        {
          "output_type": "stream",
          "name": "stdout",
          "text": [
            "AB\n"
          ]
        }
      ]
    },
    {
      "cell_type": "code",
      "source": [
        "class A:\n",
        "    def __init__(self, x=1):\n",
        "        self.x=x\n",
        "    def method(self):\n",
        "        return \"A\"\n",
        "class B(A):\n",
        "    def __init__(self, x=2, y=3):\n",
        "        super().__init__(x)\n",
        "        self.y=y\n",
        "    def method(self):\n",
        "        return \"B\"+ super().method()\n",
        "class C(B):\n",
        "    def __init__(self, x=4, y=5, z=6):\n",
        "        super().__init__(x,y)\n",
        "        self.z=z\n",
        "    def method(self):\n",
        "        return \"C\" + super().method()\n",
        "\n",
        "c=C()\n",
        "print(c.method())\n",
        "print(c.__dict__)"
      ],
      "metadata": {
        "colab": {
          "base_uri": "https://localhost:8080/"
        },
        "id": "R0JATkSiVoY-",
        "outputId": "997934e3-1ec7-41c6-ac90-2044a8513f5e"
      },
      "execution_count": null,
      "outputs": [
        {
          "output_type": "stream",
          "name": "stdout",
          "text": [
            "CBA\n",
            "{'x': 4, 'y': 5, 'z': 6}\n"
          ]
        }
      ]
    }
  ]
}