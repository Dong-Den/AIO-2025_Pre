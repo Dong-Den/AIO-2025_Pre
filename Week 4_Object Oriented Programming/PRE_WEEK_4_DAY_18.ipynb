{
  "nbformat": 4,
  "nbformat_minor": 0,
  "metadata": {
    "colab": {
      "provenance": []
    },
    "kernelspec": {
      "name": "python3",
      "display_name": "Python 3"
    },
    "language_info": {
      "name": "python"
    }
  },
  "cells": [
    {
      "cell_type": "markdown",
      "source": [
        "# **Python OOP - Exercise**"
      ],
      "metadata": {
        "id": "LBr0YqkzrTRO"
      }
    },
    {
      "cell_type": "code",
      "execution_count": null,
      "metadata": {
        "id": "xnxlfKQuYIcu"
      },
      "outputs": [],
      "source": [
        "class Manufacture:\n",
        "    def __init__(self, identity: int, location:str):\n",
        "        self.identity=identity\n",
        "        self.location=location\n",
        "    def describe(self):\n",
        "        print(f\"Identity:{self.identity} - Location: {self.location}\")\n",
        "\n",
        "class Device(Manufacture):\n",
        "    def __init__(self, identity: int, location:str, name: str, price:float):\n",
        "        self.name = name\n",
        "        self.price= price\n",
        "        super().__init__(identity, location)\n",
        "\n",
        "    def describe(self):\n",
        "        print(f\"Name: {self.name} - Price: {self.price}\")\n",
        "        super().describe()"
      ]
    },
    {
      "cell_type": "code",
      "source": [
        "device1 = Device ( name =\" mouse \", price =2.5 , identity =9725 , location =\" Vietnam \")\n",
        "device1 . describe ()"
      ],
      "metadata": {
        "colab": {
          "base_uri": "https://localhost:8080/"
        },
        "id": "tcMNm-eH9P7C",
        "outputId": "d836ecf8-d17e-4936-a4f9-fc62275693c8"
      },
      "execution_count": null,
      "outputs": [
        {
          "output_type": "stream",
          "name": "stdout",
          "text": [
            "Name:  mouse  - Price: 2.5\n",
            "Identity:9725 - Location:  Vietnam \n"
          ]
        }
      ]
    },
    {
      "cell_type": "code",
      "source": [
        "device2 = Device ( name =\" monitor \", price =12.5 , identity =11 , location =\" Germany \")\n",
        "device2 . describe ()"
      ],
      "metadata": {
        "colab": {
          "base_uri": "https://localhost:8080/"
        },
        "id": "PS_nKSSe9omo",
        "outputId": "39e4bf5a-b575-43cb-a8af-731fd29d4a54"
      },
      "execution_count": null,
      "outputs": [
        {
          "output_type": "stream",
          "name": "stdout",
          "text": [
            "Name:  monitor  - Price: 12.5\n",
            "Identity:11 - Location:  Germany \n"
          ]
        }
      ]
    },
    {
      "cell_type": "code",
      "source": [],
      "metadata": {
        "id": "oZlZx8f59znk"
      },
      "execution_count": null,
      "outputs": []
    },
    {
      "cell_type": "markdown",
      "source": [
        "# Một Ward gồm có name (string) và danh sách của mọi người trong Ward. Một người person có thể là student, doctor, hoặc teacher. Một student gồm có name, yob (int) (năm sinh), và grade (string). Một teacher gồm có name, yob, và subject (string). Một doctor gồm có name, yob, và specialist (string). Lưu ý cần sử dụng a list để chứa danh sách của mọi người trong Ward."
      ],
      "metadata": {
        "id": "BiEVRzGN942Z"
      }
    },
    {
      "cell_type": "markdown",
      "source": [
        "### (a) Thực hiện các class student, doctor, và teacher theo mô tả trên. Thực hiện describe() method để print ra tất cả thông tin của các objects."
      ],
      "metadata": {
        "id": "bIgz1HOu-NRQ"
      }
    },
    {
      "cell_type": "code",
      "source": [
        "from abc import ABC, abstractmethod\n",
        "\n",
        "class Person(ABC):\n",
        "    def __init__(self, name: str, yob: int):\n",
        "        self._name=name\n",
        "        self._yob=yob\n",
        "    def get_yob(self):\n",
        "        return self._yob\n",
        "    @abstractmethod\n",
        "    def describe(self):\n",
        "        pass\n",
        "\n",
        "class Student(Person):\n",
        "    def __init__(self, name:str, yob:int, grade: str):\n",
        "        super().__init__(name,yob)\n",
        "        self.__grade = grade\n",
        "    def describe(self):\n",
        "        print(f\"Student - Name: {self._name} - YoB: {self._yob} - Grade: {self.__grade}\")\n",
        "\n",
        "class Teacher(Person):\n",
        "    def __init__(self, name: str, yob: int, subject: str):\n",
        "        super().__init__(name, yob)\n",
        "        self.__subject = subject\n",
        "    def describe(self):\n",
        "        print(f\"Teacher - Name: {self._name} - YoB:{self._yob} - Subject: {self.__subject}\")\n",
        "\n",
        "class Doctor(Person):\n",
        "    def __init__(self, name:str, yob: int, specialist:str):\n",
        "        super().__init__(name, yob)\n",
        "        self.__specialist=specialist\n",
        "    def describe(self):\n",
        "        print(f\"Doctor - Name: {self._name} - YoB: {self._yob} - Specialist: {self.__specialist}\")"
      ],
      "metadata": {
        "id": "2ayU7Hes-Qnn"
      },
      "execution_count": null,
      "outputs": []
    },
    {
      "cell_type": "code",
      "source": [
        "student1 = Student ( name =\" studentA \", yob =2010 , grade =\"7\")\n",
        "student1 . describe ()"
      ],
      "metadata": {
        "colab": {
          "base_uri": "https://localhost:8080/"
        },
        "id": "uu07J3Sy_Zqu",
        "outputId": "7bfaffd9-4a86-4223-a71f-7b5658daf2a5"
      },
      "execution_count": null,
      "outputs": [
        {
          "output_type": "stream",
          "name": "stdout",
          "text": [
            "Student - Name:  studentA  - YoB: 2010 - Grade: 7\n"
          ]
        }
      ]
    },
    {
      "cell_type": "code",
      "source": [
        "teacher1 = Teacher ( name =\" teacherA \", yob =1969 , subject =\" Math \")\n",
        "teacher1 . describe ()"
      ],
      "metadata": {
        "colab": {
          "base_uri": "https://localhost:8080/"
        },
        "id": "-X49jPSp_ivs",
        "outputId": "196d07b7-524d-420a-a500-7eaceb1d9bc1"
      },
      "execution_count": null,
      "outputs": [
        {
          "output_type": "stream",
          "name": "stdout",
          "text": [
            "Teacher - Name:  teacherA  - YoB:1969 - Subject:  Math \n"
          ]
        }
      ]
    },
    {
      "cell_type": "code",
      "source": [
        "  doctor1 = Doctor ( name =\" doctorA \", yob =1945 , specialist =\" Endocrinologists \")\n",
        "  doctor1 . describe ()\n"
      ],
      "metadata": {
        "colab": {
          "base_uri": "https://localhost:8080/"
        },
        "id": "zq9vAz5A_lsU",
        "outputId": "a00e9254-cf66-48c6-94d8-891104b1e86b"
      },
      "execution_count": null,
      "outputs": [
        {
          "output_type": "stream",
          "name": "stdout",
          "text": [
            "Doctor - Name:  doctorA  - YoB: 1945 - Specialist:  Endocrinologists \n"
          ]
        }
      ]
    },
    {
      "cell_type": "markdown",
      "source": [
        "### (b) Viết addPerson(person) method trong Ward class để add thêm một người mới với nghề nghiệp bất kỳ (student, teacher, doctor) vào danh sách người của ward. Tạo ra một ward object, và thêm vào 1 student, 2 teacher, và 2 doctor. Thực hiện describe() method để in ra tên ward (name) và toàn bộ thông tin của từng người trong ward."
      ],
      "metadata": {
        "id": "b4eabgha_xZ_"
      }
    },
    {
      "cell_type": "code",
      "source": [
        "class Ward:\n",
        "    def __init__(self, name:str):\n",
        "        self.__name=name\n",
        "        self.__list_people=list()\n",
        "\n",
        "    def addPerson(self, person: Person):\n",
        "        self.__list_people.append(person)\n",
        "\n",
        "    def describe(self):\n",
        "        print(f\"Ward Name: {self.__name}\")\n",
        "        for p in self.__list_people:\n",
        "            p.describe()\n",
        "\n",
        "from abc import ABC, abstractmethod\n",
        "\n",
        "class Person(ABC):\n",
        "    def __init__(self, name: str, yob: int):\n",
        "        self._name=name\n",
        "        self._yob=yob\n",
        "    def get_yob(self):\n",
        "        return self._yob\n",
        "    @abstractmethod\n",
        "    def describe(self):\n",
        "        pass\n",
        "\n",
        "class Student(Person):\n",
        "    def __init__(self, name:str, yob:int, grade: str):\n",
        "        super().__init__(name=name,yob=yob)\n",
        "        self.__grade = grade\n",
        "    def describe(self):\n",
        "        print(f\"Student - Name: {self._name} - YoB: {self._yob} - Grade: {self.__grade}\")\n",
        "\n",
        "class Teacher(Person):\n",
        "    def __init__(self, name: str, yob: int, subject: str):\n",
        "        super().__init__(name= name, yob = yob)\n",
        "        self.__subject = subject\n",
        "    def describe(self):\n",
        "        print(f\"Teacher - Name: {self._name} - YoB:{self._yob} - Subject: {self.__subject}\")\n",
        "\n",
        "class Doctor(Person):\n",
        "    def __init__(self, name:str, yob: int, specialist:str):\n",
        "        super().__init__(name=name, yob=yob)\n",
        "        self.__specialist=specialist\n",
        "    def describe(self):\n",
        "        print(f\"Doctor - Name: {self._name} - YoB: {self._yob} - Specialist: {self.__specialist}\")\n"
      ],
      "metadata": {
        "id": "VsLskhpg_7TF"
      },
      "execution_count": null,
      "outputs": []
    },
    {
      "cell_type": "code",
      "source": [
        "student1 = Student ( name =\" studentA \", yob =2010 , grade =\"7\")\n",
        "teacher1 = Teacher ( name =\" teacherA \", yob =1969 , subject =\" Math \")\n",
        "teacher2 = Teacher ( name =\" teacherB \", yob =1995 , subject =\" History \")\n",
        "doctor1 = Doctor ( name =\" doctorA \", yob =1945 , specialist =\" Endocrinologists \")\n",
        "doctor2 = Doctor ( name =\" doctorB \", yob =1975 , specialist =\" Cardiologists \")\n",
        "\n",
        "ward1=Ward(name=\"Ward1\")\n",
        "ward1.addPerson(student1)\n",
        "ward1.addPerson(teacher1)\n",
        "ward1.addPerson(teacher2)\n",
        "ward1.addPerson(doctor1)\n",
        "ward1.addPerson(doctor2)\n",
        "ward1.describe()\n",
        "\n"
      ],
      "metadata": {
        "colab": {
          "base_uri": "https://localhost:8080/"
        },
        "id": "tIHw3VKMCprZ",
        "outputId": "9addc3fc-3f81-44ad-e9f5-152f0f29eb30"
      },
      "execution_count": null,
      "outputs": [
        {
          "output_type": "stream",
          "name": "stdout",
          "text": [
            "Ward Name: Ward1\n",
            "Student - Name:  studentA  - YoB: 2010 - Grade: 7\n",
            "Teacher - Name:  teacherA  - YoB:1969 - Subject:  Math \n",
            "Teacher - Name:  teacherB  - YoB:1995 - Subject:  History \n",
            "Doctor - Name:  doctorA  - YoB: 1945 - Specialist:  Endocrinologists \n",
            "Doctor - Name:  doctorB  - YoB: 1975 - Specialist:  Cardiologists \n"
          ]
        }
      ]
    },
    {
      "cell_type": "markdown",
      "source": [
        "### (c) Viết countDoctor() method để đếm số lượng doctor trong ward"
      ],
      "metadata": {
        "id": "6U9FHLMyE7EO"
      }
    },
    {
      "cell_type": "code",
      "source": [
        "class Ward:\n",
        "    def __init__(self, name:str):\n",
        "        self.__name=name\n",
        "        self.__list_people=list()\n",
        "    def addPerson(self, person: Person):\n",
        "        self.__list_people.append(person)\n",
        "    def describe(self):\n",
        "        print(f\"Ward Name: {self.__name}\")\n",
        "        for p in self.__list_people:\n",
        "            p.describe()\n",
        "    def countDoctor(self):\n",
        "        count=0\n",
        "        for p in self.__list_people:\n",
        "            if isinstance(p, Doctor):   # if type(p) is Doctor # kiểm tra xem đối tượng p có phải là một thể hiện (instance) của lớp Doctor hoặc một lớp con của Doctor hay không\n",
        "                count+=1\n",
        "        return count\n"
      ],
      "metadata": {
        "id": "a6-fQi5QE9_l"
      },
      "execution_count": null,
      "outputs": []
    },
    {
      "cell_type": "code",
      "source": [],
      "metadata": {
        "id": "U18oDpjvFXkZ"
      },
      "execution_count": null,
      "outputs": []
    },
    {
      "cell_type": "code",
      "source": [
        "student1 = Student ( name =\" studentA \", yob =2010 , grade =\"7\")\n",
        "teacher1 = Teacher ( name =\" teacherA \", yob =1969 , subject =\" Math \")\n",
        "teacher2 = Teacher ( name =\" teacherB \", yob =1995 , subject =\" History \")\n",
        "doctor1 = Doctor ( name =\" doctorA \", yob =1945 , specialist =\" Endocrinologists \")\n",
        "doctor2 = Doctor ( name =\" doctorB \", yob =1975 , specialist =\" Cardiologists \")\n",
        "\n",
        "ward1=Ward(name=\"Ward1\")\n",
        "ward1.addPerson(student1)\n",
        "ward1.addPerson(teacher1)\n",
        "ward1.addPerson(teacher2)\n",
        "ward1.addPerson(doctor1)\n",
        "ward1.addPerson(doctor2)\n",
        "ward1.describe()\n",
        "\n",
        "print (f\"\\n Number of doctors: {ward1.countDoctor()}\")"
      ],
      "metadata": {
        "colab": {
          "base_uri": "https://localhost:8080/"
        },
        "id": "5L4KJholG9UF",
        "outputId": "58b721b2-4301-4abd-9a3c-35e44fcd3e9d"
      },
      "execution_count": null,
      "outputs": [
        {
          "output_type": "stream",
          "name": "stdout",
          "text": [
            "Ward Name: Ward1\n",
            "Student - Name:  studentA  - YoB: 2010 - Grade: 7\n",
            "Teacher - Name:  teacherA  - YoB:1969 - Subject:  Math \n",
            "Teacher - Name:  teacherB  - YoB:1995 - Subject:  History \n",
            "Doctor - Name:  doctorA  - YoB: 1945 - Specialist:  Endocrinologists \n",
            "Doctor - Name:  doctorB  - YoB: 1975 - Specialist:  Cardiologists \n",
            "\n",
            " Number of doctors: 2\n"
          ]
        }
      ]
    },
    {
      "cell_type": "markdown",
      "source": [
        "### (d) Viết sortAge() method để sort mọi người trong ward theo tuổi của họ với thứ tự tăng dần. (hint: Có thể sử dụng sort của list hoặc viết thêm function đều được)"
      ],
      "metadata": {
        "id": "AfJspMt3HJ_7"
      }
    },
    {
      "cell_type": "code",
      "source": [
        "class Ward:\n",
        "    def __init__(self, name:str):\n",
        "        self.__name=name\n",
        "        self.__list_people=list()\n",
        "    def addPerson(self, person: Person):\n",
        "        self.__list_people.append(person)\n",
        "    def describe(self):\n",
        "        print(f\"Ward Name: {self.__name}\")\n",
        "        for p in self.__list_people:\n",
        "            p.describe()\n",
        "    def count_doctor(self):\n",
        "        counter=0\n",
        "        for p in self.__list_people:\n",
        "            if isinstance(p, Doctor): #if type(p) is Doctor\n",
        "                counter+=1\n",
        "        return counter\n",
        "    def sortAge(self):\n",
        "        self.__list_people.sort(key=lambda x:x.get_yob(), reverse=True)"
      ],
      "metadata": {
        "id": "s1g4_fp0n_-T"
      },
      "execution_count": null,
      "outputs": []
    },
    {
      "cell_type": "code",
      "source": [
        "\n",
        "student1 = Student ( name =\" studentA \", yob =2010 , grade =\"7\")\n",
        "teacher1 = Teacher ( name =\" teacherA \", yob =1969 , subject =\" Math \")\n",
        "teacher2 = Teacher ( name =\" teacherB \", yob =1995 , subject =\" History \")\n",
        "doctor1 = Doctor ( name =\" doctorA \", yob =1945 , specialist =\" Endocrinologists \")\n",
        "doctor2 = Doctor ( name =\" doctorB \", yob =1975 , specialist =\" Cardiologists \")\n",
        "\n",
        "ward1=Ward(name=\"Ward1\")\n",
        "ward1.addPerson(student1)\n",
        "ward1.addPerson(teacher1)\n",
        "ward1.addPerson(teacher2)\n",
        "ward1.addPerson(doctor1)\n",
        "ward1.addPerson(doctor2)\n",
        "ward1.describe()\n",
        "\n",
        "print (\"\\ n After sorting Age of Ward1 people \")\n",
        "ward1.sortAge ()\n",
        "ward1.describe ()"
      ],
      "metadata": {
        "colab": {
          "base_uri": "https://localhost:8080/"
        },
        "id": "II4ou2l_pabb",
        "outputId": "41c2e0f1-2d49-4c9f-9272-3c112b60fdf6"
      },
      "execution_count": null,
      "outputs": [
        {
          "output_type": "stream",
          "name": "stdout",
          "text": [
            "Ward Name: Ward1\n",
            "Student - Name:  studentA  - YoB: 2010 - Grade: 7\n",
            "Teacher - Name:  teacherA  - YoB:1969 - Subject:  Math \n",
            "Teacher - Name:  teacherB  - YoB:1995 - Subject:  History \n",
            "Doctor - Name:  doctorA  - YoB: 1945 - Specialist:  Endocrinologists \n",
            "Doctor - Name:  doctorB  - YoB: 1975 - Specialist:  Cardiologists \n",
            "\\ n After sorting Age of Ward1 people \n",
            "Ward Name: Ward1\n",
            "Student - Name:  studentA  - YoB: 2010 - Grade: 7\n",
            "Teacher - Name:  teacherB  - YoB:1995 - Subject:  History \n",
            "Doctor - Name:  doctorB  - YoB: 1975 - Specialist:  Cardiologists \n",
            "Teacher - Name:  teacherA  - YoB:1969 - Subject:  Math \n",
            "Doctor - Name:  doctorA  - YoB: 1945 - Specialist:  Endocrinologists \n"
          ]
        }
      ]
    },
    {
      "cell_type": "markdown",
      "source": [
        "### (e) Viết aveTeacherYearOfBirth() method để tính trung bình năm sinh của các teachers trong ward."
      ],
      "metadata": {
        "id": "Br575WuTsJhB"
      }
    },
    {
      "cell_type": "code",
      "source": [
        "class Ward:\n",
        "    def __init__(self, name:str):\n",
        "        self.__name=name\n",
        "        self.__list_people=list()\n",
        "    def addPerson(self, person: Person):\n",
        "        self.__list_people.append(person)\n",
        "    def describe(self):\n",
        "        print(f\"Ward Name: {self.__name}\")\n",
        "        for p in self.__list_people:\n",
        "            p.describe()\n",
        "    def countDoctor(self):\n",
        "        counter=0\n",
        "        for p in self.__list_people:\n",
        "            if isinstance(p, Doctor): #if type(p) is Doctor\n",
        "                counter+=1\n",
        "        return counter\n",
        "    def sortAge(self):\n",
        "        self.__list_people.sort(key=lambda x:x.get_yob(), reverse=True)\n",
        "    def aveTeacherYearOfBirth(self):  #compute yob average () method\n",
        "        counter=0\n",
        "        total_year=0\n",
        "        for p in self.__list_people:\n",
        "            if isinstance(p,Teacher):  # if type(p) is Teacher\n",
        "                counter+=1\n",
        "                total_year+=p.get_yob()\n",
        "        return total_year/counter"
      ],
      "metadata": {
        "id": "HCBG4EgbsQlb"
      },
      "execution_count": null,
      "outputs": []
    },
    {
      "cell_type": "code",
      "source": [
        "student1=Student(name=\"studentA\",yob = 2010, grade=\"7\")\n",
        "teacher1=Teacher(name=\"teacherA\", yob=1969, subject=\"Math\")\n",
        "doctor1=Doctor(name=\"doctorA\", yob=1945, specialist=\"Endocrinologists\")\n",
        "teacher2=Teacher(name=\"teacherB\",yob=1995, subject=\"History\")\n",
        "doctor2=Doctor(name=\"doctorB\",yob=1975, specialist=\"Cardiologists\")\n",
        "\n",
        "ward1=Ward(name=\"Ward1\")\n",
        "ward1.addPerson(student1)\n",
        "ward1.addPerson(teacher1)\n",
        "ward1.addPerson(doctor1)\n",
        "ward1.addPerson(teacher2)\n",
        "ward1.addPerson(doctor2)\n",
        "ward1.describe()\n",
        "\n",
        "print (f\"\\n Average year of birth ( teachers ): { ward1 . aveTeacherYearOfBirth ()}\")"
      ],
      "metadata": {
        "colab": {
          "base_uri": "https://localhost:8080/"
        },
        "id": "vVi-wCZisz6S",
        "outputId": "390da9ae-3894-4e83-9a58-7b7f0845152d"
      },
      "execution_count": null,
      "outputs": [
        {
          "output_type": "stream",
          "name": "stdout",
          "text": [
            "Ward Name: Ward1\n",
            "Student - Name: studentA - YoB: 2010 - Grade: 7\n",
            "Teacher - Name: teacherA - YoB:1969 - Subject: Math\n",
            "Doctor - Name: doctorA - YoB: 1945 - Specialist: Endocrinologists\n",
            "Teacher - Name: teacherB - YoB:1995 - Subject: History\n",
            "Doctor - Name: doctorB - YoB: 1975 - Specialist: Cardiologists\n",
            "\n",
            " Average year of birth ( teachers ): 1982.0\n"
          ]
        }
      ]
    },
    {
      "cell_type": "code",
      "source": [],
      "metadata": {
        "id": "AH8sX4PdtS6k"
      },
      "execution_count": null,
      "outputs": []
    },
    {
      "cell_type": "markdown",
      "source": [
        "# **STACK**"
      ],
      "metadata": {
        "id": "KOZOKtzrtTPd"
      }
    },
    {
      "cell_type": "code",
      "source": [
        "class MyStack:\n",
        "    def __init__(self, capacity):\n",
        "        self.__capacity=capacity\n",
        "        self.__stack=[]\n",
        "    def isEmpty(self):\n",
        "        return len(self.__stack)==0\n",
        "    def isFull(self):\n",
        "        return len(self.__stack)==self.__capacity\n",
        "    def pop(self):\n",
        "        if self.isEmpty():\n",
        "            raise Exception(\"Underflow\")\n",
        "        return self.__stack.pop()\n",
        "    def push(self, value):\n",
        "        if self.isFull():\n",
        "            raise Exception(\"Overflow\")\n",
        "        self.__stack.append(value)\n",
        "\n",
        "    def top(self):\n",
        "        if self.isEmpty():\n",
        "            print(\"Stack is empty\")\n",
        "            return\n",
        "        return self.__stack[-1]"
      ],
      "metadata": {
        "id": "DQqsjPx_tWMF"
      },
      "execution_count": null,
      "outputs": []
    },
    {
      "cell_type": "code",
      "source": [
        "stack1 = MyStack(capacity =5)\n",
        "stack1.push(1)\n",
        "stack1.push(2)\n",
        "print(stack1.isFull())"
      ],
      "metadata": {
        "colab": {
          "base_uri": "https://localhost:8080/"
        },
        "id": "UjuINO3TuIyj",
        "outputId": "2ede273c-0c31-4521-d498-ae910648be6a"
      },
      "execution_count": null,
      "outputs": [
        {
          "output_type": "stream",
          "name": "stdout",
          "text": [
            "False\n"
          ]
        }
      ]
    },
    {
      "cell_type": "code",
      "source": [
        "print(stack1.top())"
      ],
      "metadata": {
        "colab": {
          "base_uri": "https://localhost:8080/"
        },
        "id": "MVva2UtcvNZZ",
        "outputId": "18ee3939-0a6e-439c-8bc5-844148bac246"
      },
      "execution_count": null,
      "outputs": [
        {
          "output_type": "stream",
          "name": "stdout",
          "text": [
            "2\n"
          ]
        }
      ]
    },
    {
      "cell_type": "code",
      "source": [
        "print(stack1.pop())"
      ],
      "metadata": {
        "colab": {
          "base_uri": "https://localhost:8080/"
        },
        "id": "SEeFMRiWvkKL",
        "outputId": "ae55087b-8353-49f5-d35e-0b04eafb36a4"
      },
      "execution_count": null,
      "outputs": [
        {
          "output_type": "stream",
          "name": "stdout",
          "text": [
            "2\n"
          ]
        }
      ]
    },
    {
      "cell_type": "code",
      "source": [
        "print ( stack1 .top ())"
      ],
      "metadata": {
        "colab": {
          "base_uri": "https://localhost:8080/"
        },
        "id": "ywCxJsaHvsR6",
        "outputId": "85d2b2b3-2e22-4f40-89f1-e49631d3f06b"
      },
      "execution_count": null,
      "outputs": [
        {
          "output_type": "stream",
          "name": "stdout",
          "text": [
            "1\n"
          ]
        }
      ]
    },
    {
      "cell_type": "code",
      "source": [
        "print ( stack1 . pop ())"
      ],
      "metadata": {
        "colab": {
          "base_uri": "https://localhost:8080/"
        },
        "id": "0viEy1nHv-AF",
        "outputId": "e184e730-246a-45fb-a32d-887fb281696b"
      },
      "execution_count": null,
      "outputs": [
        {
          "output_type": "stream",
          "name": "stdout",
          "text": [
            "1\n"
          ]
        }
      ]
    },
    {
      "cell_type": "code",
      "source": [
        "print ( stack1 . isEmpty ())"
      ],
      "metadata": {
        "colab": {
          "base_uri": "https://localhost:8080/"
        },
        "id": "KHGoSbUGwAZZ",
        "outputId": "e1f08c15-7719-40fb-c36a-b4857e7fd922"
      },
      "execution_count": null,
      "outputs": [
        {
          "output_type": "stream",
          "name": "stdout",
          "text": [
            "True\n"
          ]
        }
      ]
    },
    {
      "cell_type": "markdown",
      "source": [
        "# **QUEUE**"
      ],
      "metadata": {
        "id": "g_n9E3SWwgVC"
      }
    },
    {
      "cell_type": "code",
      "source": [
        "class MyQueue:\n",
        "    def __init__(self, capacity:int):\n",
        "        self.__capacity=capacity\n",
        "        self.__queue=[]\n",
        "    def isEmpty(self):\n",
        "        return len(self.__queue)==0\n",
        "    def isFull(self):\n",
        "        return len(self.__queue)==self.__capacity\n",
        "    def dequeue(self):\n",
        "        if self.isEmpty():\n",
        "            raise Exception(\"Underflow\")\n",
        "        return self.__queue.pop(0)\n",
        "    def enqueue(self,value:int):\n",
        "        if self.isFull():\n",
        "            raise Exception(\"Overflow\")\n",
        "        self.__queue.append(value)\n",
        "    def front(self):\n",
        "        if self.isEmpty():\n",
        "            print(\"Queue is empty\")\n",
        "            return\n",
        "        return self.__queue[0]\n"
      ],
      "metadata": {
        "id": "3CnsK1oYwiia"
      },
      "execution_count": null,
      "outputs": []
    },
    {
      "cell_type": "code",
      "source": [
        "queue1= MyQueue(capacity =5)\n",
        "queue1.enqueue(1)\n",
        "queue1.enqueue(2)\n",
        "print(queue1.isFull())"
      ],
      "metadata": {
        "colab": {
          "base_uri": "https://localhost:8080/"
        },
        "id": "kRXdb77mx2_j",
        "outputId": "80a4b917-40aa-4278-862e-91a806cbb085"
      },
      "execution_count": null,
      "outputs": [
        {
          "output_type": "stream",
          "name": "stdout",
          "text": [
            "False\n"
          ]
        }
      ]
    },
    {
      "cell_type": "code",
      "source": [
        "print ( queue1 . front ())"
      ],
      "metadata": {
        "colab": {
          "base_uri": "https://localhost:8080/"
        },
        "id": "MwvXPejV0FMP",
        "outputId": "f7245eb6-b943-4ccc-a0ba-ed1c2cd3c3d7"
      },
      "execution_count": null,
      "outputs": [
        {
          "output_type": "stream",
          "name": "stdout",
          "text": [
            "1\n"
          ]
        }
      ]
    },
    {
      "cell_type": "code",
      "source": [
        "print ( queue1 . dequeue ())"
      ],
      "metadata": {
        "colab": {
          "base_uri": "https://localhost:8080/"
        },
        "id": "ohUPCnVt1c9W",
        "outputId": "db83dfb4-0a58-4595-ec29-78eb399792c5"
      },
      "execution_count": null,
      "outputs": [
        {
          "output_type": "stream",
          "name": "stdout",
          "text": [
            "1\n"
          ]
        }
      ]
    },
    {
      "cell_type": "code",
      "source": [
        "print ( queue1 . front ())"
      ],
      "metadata": {
        "colab": {
          "base_uri": "https://localhost:8080/"
        },
        "id": "slWl7VT81f74",
        "outputId": "af630dd6-9e52-40a7-a312-b7bea7d0b4c0"
      },
      "execution_count": null,
      "outputs": [
        {
          "output_type": "stream",
          "name": "stdout",
          "text": [
            "2\n"
          ]
        }
      ]
    },
    {
      "cell_type": "code",
      "source": [
        "print ( queue1 . dequeue ())"
      ],
      "metadata": {
        "colab": {
          "base_uri": "https://localhost:8080/"
        },
        "id": "w-kRNsuM1h4C",
        "outputId": "0fe3acae-2ee0-4780-db9f-d3e56975369e"
      },
      "execution_count": null,
      "outputs": [
        {
          "output_type": "stream",
          "name": "stdout",
          "text": [
            "2\n"
          ]
        }
      ]
    },
    {
      "cell_type": "code",
      "source": [
        "print ( queue1 . isEmpty ())"
      ],
      "metadata": {
        "colab": {
          "base_uri": "https://localhost:8080/"
        },
        "id": "3S4ohFab1jnN",
        "outputId": "35ba19d7-9270-4f00-c635-f20a144e0433"
      },
      "execution_count": null,
      "outputs": [
        {
          "output_type": "stream",
          "name": "stdout",
          "text": [
            "True\n"
          ]
        }
      ]
    }
  ]
}