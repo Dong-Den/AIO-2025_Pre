{
  "nbformat": 4,
  "nbformat_minor": 0,
  "metadata": {
    "colab": {
      "provenance": []
    },
    "kernelspec": {
      "name": "python3",
      "display_name": "Python 3"
    },
    "language_info": {
      "name": "python"
    }
  },
  "cells": [
    {
      "cell_type": "markdown",
      "source": [
        "# **Numpy - Gram Matrix in Style transfer**"
      ],
      "metadata": {
        "id": "It1lcYjKNqZk"
      }
    },
    {
      "cell_type": "code",
      "execution_count": null,
      "metadata": {
        "id": "xIZdRQaGNiIB"
      },
      "outputs": [],
      "source": [
        "#Cài đặt Gram Matrix bằng Numpy\n",
        "import numpy as np\n",
        "def compute_gram_matrix(feature_map: np.ndarray)-> np.ndarray:\n",
        "    \"\"\"\n",
        "    Tính Gram Matrix từ feature map.\n",
        "    Args:\n",
        "        feature_map (np.ndarray): Ma trận đặc trưng có kích thước (C,H,W).\n",
        "    Returns:\n",
        "        np.ndarray: Gram Matrix có kích thước (C,C).\n",
        "    \"\"\"\n",
        "\n",
        "    C,H,W= feature_map.shape\n",
        "    F=feature_map.reshape(C, H*W)\n",
        "    G=np.dot(F, F.T)\n",
        "    G/=(H*W)\n",
        "    return G\n"
      ]
    },
    {
      "cell_type": "code",
      "source": [
        "#Test case\n",
        "np.random.seed(42)\n",
        "feature_map=np.random.rand(3,4,4)\n",
        "gram_matrix= compute_gram_matrix(feature_map)\n",
        "print(\"Gram Matrix:\\n\", gram_matrix)"
      ],
      "metadata": {
        "colab": {
          "base_uri": "https://localhost:8080/"
        },
        "id": "Wwv0MkVpSE8g",
        "outputId": "4d5480b9-e73b-493e-bcaf-b5cc4ebf40e9"
      },
      "execution_count": null,
      "outputs": [
        {
          "output_type": "stream",
          "name": "stdout",
          "text": [
            "Gram Matrix:\n",
            " [[0.33432857 0.2207897  0.27598961]\n",
            " [0.2207897  0.19580158 0.19452994]\n",
            " [0.27598961 0.19452994 0.32603015]]\n"
          ]
        }
      ]
    },
    {
      "cell_type": "markdown",
      "source": [
        "## So sánh với Pytorch"
      ],
      "metadata": {
        "id": "OYd7XJ52Umb1"
      }
    },
    {
      "cell_type": "code",
      "source": [
        "import torch\n",
        "feature_map_torch=torch.tensor(feature_map, dtype=torch.float32)\n",
        "F_torch=feature_map_torch.view(3,-1)\n",
        "gram_matrix_torch= torch.mm(F_torch, F_torch.t())/(4*4)\n",
        "print(\"\\n Gram Matrix Pytorch: \\n\", gram_matrix_torch.numpy())"
      ],
      "metadata": {
        "colab": {
          "base_uri": "https://localhost:8080/"
        },
        "id": "BNZvjgYmUp4M",
        "outputId": "9816d20d-6914-4c90-deb4-6210a2a39db5"
      },
      "execution_count": null,
      "outputs": [
        {
          "output_type": "stream",
          "name": "stdout",
          "text": [
            "\n",
            " Gram Matrix Pytorch: \n",
            " [[0.33432856 0.2207897  0.2759896 ]\n",
            " [0.2207897  0.19580159 0.19452995]\n",
            " [0.2759896  0.19452995 0.32603014]]\n"
          ]
        }
      ]
    },
    {
      "cell_type": "markdown",
      "source": [
        "# **Bài tập 1**\n",
        "Tính Gram Matrix từ Feature Map"
      ],
      "metadata": {
        "id": "QeVlWG26XYhh"
      }
    },
    {
      "cell_type": "code",
      "source": [
        "import numpy as np\n",
        "def compute_gram_matrix(feature_map):\n",
        "    C,H,W=feature_map.shape\n",
        "    F=feature_map.reshape(C,H*W)    #  F=feature_map.reshape(C,H*W). astype(np.float64)\n",
        "    G=np.dot(F,F.T)   #G=np.matmul(F, F.T)\n",
        "    G=G.astype(np.float64)\n",
        "    G/=(H*W)\n",
        "    return G\n"
      ],
      "metadata": {
        "id": "IOl92Tl8Xagp"
      },
      "execution_count": null,
      "outputs": []
    },
    {
      "cell_type": "code",
      "source": [
        "feature_map=np.array([\n",
        "    [[1,2],[3,4]],\n",
        "    [[5,6],[7,8]],\n",
        "    [[9,10],[11,12]]\n",
        "])\n",
        "\n",
        "gram_matrix=compute_gram_matrix(feature_map)\n",
        "print(gram_matrix)"
      ],
      "metadata": {
        "colab": {
          "base_uri": "https://localhost:8080/"
        },
        "id": "KkIRUCBnX_-J",
        "outputId": "4c881db5-db71-4b1e-efd3-a9a3b81ed2e2"
      },
      "execution_count": null,
      "outputs": [
        {
          "output_type": "stream",
          "name": "stdout",
          "text": [
            "[[  7.5  17.5  27.5]\n",
            " [ 17.5  43.5  69.5]\n",
            " [ 27.5  69.5 111.5]]\n"
          ]
        }
      ]
    },
    {
      "cell_type": "code",
      "source": [],
      "metadata": {
        "id": "d-E5tmKNaXRv"
      },
      "execution_count": null,
      "outputs": []
    },
    {
      "cell_type": "markdown",
      "source": [
        "# **Bài tập 2**\n",
        "Đo độ tương đồng giữa hai ảnh bằng Gram Matrix"
      ],
      "metadata": {
        "id": "w7QMuCX4cVz0"
      }
    },
    {
      "cell_type": "code",
      "source": [
        "import numpy as np\n",
        "def compute_similarity(gram1, gram2):  #np.ndarray-> float\n",
        "    similarity=np.sum(gram1*gram2)/np.sqrt(np.sum(gram1**2)*np.sum(gram2**2))\n",
        "    return similarity\n"
      ],
      "metadata": {
        "id": "ib3MD1ZXcZNU"
      },
      "execution_count": null,
      "outputs": []
    },
    {
      "cell_type": "code",
      "source": [
        "#test case\n",
        "feature_map1=np.array([\n",
        "    [[1,2],[3,4]],\n",
        "    [[5,6],[7,8]],\n",
        "    [[9,10],[11,12]]\n",
        "])\n",
        "\n",
        "feature_map2=np.array([\n",
        "    [[2,4],[6,8]],\n",
        "    [[1,3],[5,7]],\n",
        "    [[0,2],[4,6]]\n",
        "])\n",
        "\n",
        "gram1=compute_gram_matrix(feature_map1)\n",
        "gram2=compute_gram_matrix(feature_map2)\n",
        "\n",
        "similarity=compute_similarity(gram1, gram2)\n",
        "print(similarity)"
      ],
      "metadata": {
        "colab": {
          "base_uri": "https://localhost:8080/"
        },
        "id": "Hfn6omHdqmeH",
        "outputId": "4b6505e9-904b-4a88-ebd7-6bf5a7a67da3"
      },
      "execution_count": null,
      "outputs": [
        {
          "output_type": "stream",
          "name": "stdout",
          "text": [
            "0.6741245785155123\n"
          ]
        }
      ]
    }
  ]
}