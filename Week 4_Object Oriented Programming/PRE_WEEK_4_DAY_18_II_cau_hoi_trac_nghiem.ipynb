{
  "nbformat": 4,
  "nbformat_minor": 0,
  "metadata": {
    "colab": {
      "provenance": []
    },
    "kernelspec": {
      "name": "python3",
      "display_name": "Python 3"
    },
    "language_info": {
      "name": "python"
    }
  },
  "cells": [
    {
      "cell_type": "code",
      "execution_count": null,
      "metadata": {
        "colab": {
          "base_uri": "https://localhost:8080/"
        },
        "id": "0rqlNOUWbOuk",
        "outputId": "0fb85894-35c0-40be-8e7d-194fe8b2a485"
      },
      "outputs": [
        {
          "output_type": "stream",
          "name": "stdout",
          "text": [
            "Buddy\n",
            "Some generic sound\n"
          ]
        }
      ],
      "source": [
        "#3. 1\n",
        "class Animal:\n",
        "    def __init__(self, name):\n",
        "        self.name=name\n",
        "    def make_sound(self):\n",
        "        return \"Some generic sound\"\n",
        "\n",
        "dog=Animal(\"Buddy\")\n",
        "print(dog.name)\n",
        "print(dog.make_sound())"
      ]
    },
    {
      "cell_type": "code",
      "source": [
        "#3.2\n",
        "class BankAccount:\n",
        "    def __init__(self, owner, balance):\n",
        "        self.owner=owner\n",
        "        self.__balance=balance\n",
        "    def deposit(self, amount):\n",
        "        self.__balance+=amount\n",
        "        return f\"Deposited {amount}, New balance: {self.__balance}\"\n",
        "\n",
        "account=BankAccount(\"Alice\", 1000)\n",
        "print(account.deposit(500))\n"
      ],
      "metadata": {
        "colab": {
          "base_uri": "https://localhost:8080/"
        },
        "id": "AmjdmX54dV0y",
        "outputId": "10dd217f-7ddc-4252-ae38-6b7e947631d7"
      },
      "execution_count": null,
      "outputs": [
        {
          "output_type": "stream",
          "name": "stdout",
          "text": [
            "Deposited 500, New balance: 1500\n"
          ]
        }
      ]
    },
    {
      "cell_type": "code",
      "source": [
        "#3. 3\n",
        "class Dog(Animal):\n",
        "    def make_sound(self):\n",
        "        return \"Woof! Woof!\"\n",
        "\n",
        "dog=Dog(\"Max\")\n",
        "print(dog.make_sound())"
      ],
      "metadata": {
        "colab": {
          "base_uri": "https://localhost:8080/"
        },
        "id": "Uhma80K6gBcf",
        "outputId": "214f4b4b-2eae-42cb-8a6b-948b3484e5bd"
      },
      "execution_count": null,
      "outputs": [
        {
          "output_type": "stream",
          "name": "stdout",
          "text": [
            "Woof! Woof!\n"
          ]
        }
      ]
    },
    {
      "cell_type": "code",
      "source": [
        "#3. 4:\n",
        "class Cat(Animal):\n",
        "    def make_sound(self):\n",
        "        return \"Meow! Meow!\"\n",
        "\n",
        "animals= [Dog(\"Buddy\"), Cat(\"Whiskers\")]\n",
        "for animal in animals:\n",
        "    print(f\"{animal.name} says {animal.make_sound()}\")"
      ],
      "metadata": {
        "colab": {
          "base_uri": "https://localhost:8080/"
        },
        "id": "-ZVlquVFg3Y9",
        "outputId": "804c2abb-cfca-4025-a892-d044ffaee66f"
      },
      "execution_count": null,
      "outputs": [
        {
          "output_type": "stream",
          "name": "stdout",
          "text": [
            "Buddy says Woof! Woof!\n",
            "Whiskers says Meow! Meow!\n"
          ]
        }
      ]
    },
    {
      "cell_type": "code",
      "source": [
        "#3.5\n",
        "\n",
        "from abc import ABC, abstractmethod\n",
        "\n",
        "class Vehicle(ABC):\n",
        "    @abstractmethod\n",
        "    def move(self):\n",
        "        pass\n",
        "\n",
        "class Car(Vehicle):\n",
        "    def move(self):\n",
        "        return \"Car is moving on the road\"\n",
        "\n",
        "class Boat(Vehicle):\n",
        "    def move(self):\n",
        "        return \"Boat is sailing on the water\"\n",
        "\n",
        "car=Car()\n",
        "boat=Boat()\n",
        "print(car.move())\n",
        "print(boat.move())\n"
      ],
      "metadata": {
        "colab": {
          "base_uri": "https://localhost:8080/"
        },
        "id": "v99gxWY-h_B0",
        "outputId": "8bde9c04-d6f6-4113-ab29-e8b60f069469"
      },
      "execution_count": null,
      "outputs": [
        {
          "output_type": "stream",
          "name": "stdout",
          "text": [
            "Car is moving on the road\n",
            "Boat is sailing on the water\n"
          ]
        }
      ]
    },
    {
      "cell_type": "code",
      "source": [
        "\n",
        "# **CÂU 2 LT**\n",
        "class Manufacturer:\n",
        "    def __init__(self, identity:int, location: str):\n",
        "        self.__identity= identity\n",
        "        self.__location=location\n",
        "    def describe(self):\n",
        "        print(f\"Identity: {self.__identity} - Location: {self.__location}\")\n",
        "\n",
        "\n",
        "\n",
        "manu1=Manufacturer(identity=100, location='Vietnam')\n",
        "manu1.describe()"
      ],
      "metadata": {
        "colab": {
          "base_uri": "https://localhost:8080/"
        },
        "id": "cRQaI23mjmYl",
        "outputId": "b923ae08-c754-40f7-b59a-a82af14da29c"
      },
      "execution_count": null,
      "outputs": [
        {
          "output_type": "stream",
          "name": "stdout",
          "text": [
            "Identity: 100 - Location: Vietnam\n"
          ]
        }
      ]
    },
    {
      "cell_type": "code",
      "source": [],
      "metadata": {
        "id": "uruNGytgmc9_"
      },
      "execution_count": null,
      "outputs": []
    },
    {
      "cell_type": "code",
      "source": [
        "# CAU^ 3 LT\n",
        "class Manufacturer:\n",
        "    def __init__(self, identity: int, location: str):\n",
        "        self.__identity = identity\n",
        "        self.__location = location\n",
        "\n",
        "    def describe(self):\n",
        "        print(f\"Identity: {self.__identity} - Location: {self.__location}\")\n",
        "\n",
        "class Device:\n",
        "    def __init__(self, name: str, price: float, identity: int, location: str):\n",
        "        self.__name = name\n",
        "        self.__price = price\n",
        "        self.__manufacturer = Manufacturer(identity, location)\n",
        "\n",
        "    def describe(self):\n",
        "        print(f\"Name: {self.__name} - Price: {self.__price}\")\n",
        "        self.__manufacturer.describe()\n",
        "\n",
        "device1 = Device(name=\"Smartphone\", price=500.0, identity=101, location=\"USA\")\n",
        "device1.describe()"
      ],
      "metadata": {
        "id": "6urGY89-mUQP",
        "colab": {
          "base_uri": "https://localhost:8080/"
        },
        "outputId": "7389a1af-4f02-4b64-c3e6-1e3f553e0497"
      },
      "execution_count": null,
      "outputs": [
        {
          "output_type": "stream",
          "name": "stdout",
          "text": [
            "Name: Smartphone - Price: 500.0\n",
            "Identity: 101 - Location: USA\n"
          ]
        }
      ]
    },
    {
      "cell_type": "code",
      "source": [
        "# CÂU 4\n",
        "class Manufacturer:\n",
        "    def __init__(self, identity: int, location: str):\n",
        "        self.__identity = identity\n",
        "        self.__location = location\n",
        "\n",
        "    def describe(self):\n",
        "        print(f\"Identity: {self.__identity} - Location: {self.__location}\")\n",
        "\n",
        "class Device:\n",
        "    def __init__(self, name: str, price: float, manu: Manufacturer):\n",
        "        self.__name = name\n",
        "        self.__price = price\n",
        "        self.__manufacturer = manu\n",
        "    def describe(self):\n",
        "        print(f\"Name: {self.__name} - Price: {self.__price}\")\n",
        "        self.__manufacturer.describe()\n",
        "\n",
        "manu1=Manufacturer(identity=100, location='Vietnam')\n",
        "device1=Device(name=\"Smartphone\", price=500.0, manu=manu1)\n",
        "device1.describe()"
      ],
      "metadata": {
        "colab": {
          "base_uri": "https://localhost:8080/"
        },
        "id": "DJzrzfFzyzEU",
        "outputId": "b70cda67-2881-487a-8fb5-29dc6a404557"
      },
      "execution_count": null,
      "outputs": [
        {
          "output_type": "stream",
          "name": "stdout",
          "text": [
            "Name: Smartphone - Price: 500.0\n",
            "Identity: 100 - Location: Vietnam\n"
          ]
        }
      ]
    },
    {
      "cell_type": "code",
      "source": [
        "# CÂU 5\n",
        "\n",
        "from abc import ABC, abstractmethod\n",
        "class Person(ABC):\n",
        "    def __init__(self, name: str, yob: int):\n",
        "        self._name=name\n",
        "        self._yob=yob\n",
        "    def getYOB(self):\n",
        "        return self._yob\n",
        "\n",
        "    @abstractmethod\n",
        "    def describe(self):\n",
        "        pass\n",
        "\n",
        "class Student(Person):\n",
        "    def __init__(self, name: str, yob: int, grade:str):\n",
        "        super().__init__(name, yob)\n",
        "        self._grade=grade\n",
        "    def describe(self):\n",
        "        print(f\"Student - Name: {self._name} - YOB: {self._yob} - Grade: {self._grade}\")\n",
        "\n",
        "student1=Student(name=\"studentZ2023\", yob=2011, grade=\"6\")\n",
        "student1.describe()"
      ],
      "metadata": {
        "colab": {
          "base_uri": "https://localhost:8080/"
        },
        "id": "pUcXHKdl5Gab",
        "outputId": "63f06d79-22a2-452d-acb3-4c9725e0ea7e"
      },
      "execution_count": null,
      "outputs": [
        {
          "output_type": "stream",
          "name": "stdout",
          "text": [
            "Student - Name: studentZ2023 - YOB: 2011 - Grade: 6\n"
          ]
        }
      ]
    },
    {
      "cell_type": "code",
      "source": [
        "#CÂU 6\n",
        "\n",
        "from abc import ABC, abstractmethod\n",
        "class Person(ABC):\n",
        "    def __init__(self, name: str, yob: int):\n",
        "        self._name=name\n",
        "        self._yob=yob\n",
        "    def getYOB(self):\n",
        "        return self._yob\n",
        "\n",
        "    @abstractmethod\n",
        "    def describe(self):\n",
        "        pass\n",
        "\n",
        "class Teacher(Person):\n",
        "    def __init__(self, name: str, yob: int, subject:str):\n",
        "        super().__init__(name, yob)\n",
        "        self._subject=subject\n",
        "\n",
        "    def describe(self):\n",
        "        print(f\"Teacher - Name: {self._name} - YOB: {self._yob} - Subject: {self._subject}\")\n",
        "\n",
        "teacher1=Teacher(name=\"teacherZ2023\", yob=1991, subject=\"History\")\n",
        "teacher1.describe()"
      ],
      "metadata": {
        "colab": {
          "base_uri": "https://localhost:8080/"
        },
        "id": "X5q5c81A6nmD",
        "outputId": "98e4453f-5d28-42f7-e326-2f5d1dcfd93f"
      },
      "execution_count": null,
      "outputs": [
        {
          "output_type": "stream",
          "name": "stdout",
          "text": [
            "Teacher - Name: teacherZ2023 - YOB: 1991 - Subject: History\n"
          ]
        }
      ]
    },
    {
      "cell_type": "code",
      "source": [
        "# CÂU 7\n",
        "\n",
        "from abc import ABC, abstractmethod\n",
        "class Person(ABC):\n",
        "    def __init__(self, name: str, yob: int):\n",
        "        self._name=name\n",
        "        self._yob=yob\n",
        "    def getYOB(self):\n",
        "        return self._yob\n",
        "\n",
        "    @abstractmethod\n",
        "    def describe(self):\n",
        "        pass\n",
        "\n",
        "class Doctor(Person):\n",
        "    def __init__(self, name: str, yob: int, specialist:str):\n",
        "        super().__init__(name, yob)\n",
        "        self._specialist=specialist\n",
        "    def describe(self):\n",
        "        print(f\"Doctor - Name: {self._name} - YOB: {self._yob} - Specialty: {self._specialist}\")\n",
        "\n",
        "doctor1=Doctor(name=\"doctorZ2023\", yob=1981, specialist=\"Endocrinologists\")\n",
        "doctor1.describe()"
      ],
      "metadata": {
        "colab": {
          "base_uri": "https://localhost:8080/"
        },
        "id": "eAbM8Zi-7hwb",
        "outputId": "47cd4450-e407-4e9b-f87e-f2505b7fe75a"
      },
      "execution_count": null,
      "outputs": [
        {
          "output_type": "stream",
          "name": "stdout",
          "text": [
            "Doctor - Name: doctorZ2023 - YOB: 1981 - Specialty: Endocrinologists\n"
          ]
        }
      ]
    },
    {
      "cell_type": "code",
      "source": [
        "# CÂU 8\n",
        "\n",
        "class Ward:\n",
        "    def __init__(self, name: str):\n",
        "        self.name=name\n",
        "        self.listpeople= list()\n",
        "    def addPerson(self, person: Person):\n",
        "        self.listpeople.append(person)\n",
        "    def describe(self):\n",
        "        print(f\"Ward - Name: {self.name}\")\n",
        "        for people in self.listpeople:\n",
        "            people.describe()\n",
        "\n",
        "\n",
        "student1 = Student ( name =\" studentK -111 \", yob =2012 , grade =\"5\")\n",
        "teacher1 = Teacher ( name =\" teacherK -222 \", yob =1966 , subject =\" Math \")\n",
        "doctor1 = Doctor ( name =\" doctorK -333 \", yob =1965 , specialist =\" Endocrinologists \")\n",
        "teacher2 = Teacher ( name =\" teacherK -444 \", yob =1945 , subject =\" History \")\n",
        "doctor2 = Doctor ( name =\" doctorK -555 \", yob =1975 , specialist =\" Cardiologists \")\n",
        "\n",
        "ward1 = Ward ( name =\" Ward11 \")\n",
        "ward1 . addPerson ( student1 )\n",
        "ward1 . addPerson ( teacher1 )\n",
        "ward1 . addPerson ( doctor1 )\n",
        "ward1 . addPerson ( teacher2 )\n",
        "ward1 . addPerson ( doctor2 )\n",
        "ward1.describe()"
      ],
      "metadata": {
        "colab": {
          "base_uri": "https://localhost:8080/"
        },
        "id": "rMKSywIi8bKb",
        "outputId": "2f1abe3f-e52c-4be7-fb4d-dff923d67fa5"
      },
      "execution_count": null,
      "outputs": [
        {
          "output_type": "stream",
          "name": "stdout",
          "text": [
            "Ward - Name:  Ward11 \n",
            "Student - Name:  studentK -111  - YOB: 2012 - Grade: 5\n",
            "Teacher - Name:  teacherK -222  - YOB: 1966 - Subject:  Math \n",
            "Doctor - Name:  doctorK -333  - YOB: 1965 - Specialty:  Endocrinologists \n",
            "Teacher - Name:  teacherK -444  - YOB: 1945 - Subject:  History \n",
            "Doctor - Name:  doctorK -555  - YOB: 1975 - Specialty:  Cardiologists \n"
          ]
        }
      ]
    },
    {
      "cell_type": "code",
      "source": [
        "# CÂU 9\n",
        "\n",
        "class MyStack:\n",
        "    def __init__(self, capacity):\n",
        "        self.__capacity=capacity\n",
        "        self.__stack =[]\n",
        "    def isEmpty(self):\n",
        "        return len(self.__stack)==0\n",
        "\n",
        "stack1=MyStack(capacity=5)\n",
        "print(stack1.isEmpty())\n"
      ],
      "metadata": {
        "colab": {
          "base_uri": "https://localhost:8080/"
        },
        "id": "QK7ksghkGd6A",
        "outputId": "0b83aa70-c08f-43e6-c381-b1af4fa5108b"
      },
      "execution_count": null,
      "outputs": [
        {
          "output_type": "stream",
          "name": "stdout",
          "text": [
            "True\n"
          ]
        }
      ]
    },
    {
      "cell_type": "code",
      "source": [
        "#CÂU 10\n",
        "\n",
        "class MyStack:\n",
        "    def __init__(self, capacity):\n",
        "        self.__capacity=capacity\n",
        "        self.__stack=[1,2,3,4,5]\n",
        "    def isFull(self):\n",
        "        return len(self.__stack)==self.__capacity\n",
        "\n",
        "stack1=MyStack(capacity=5)\n",
        "print(stack1.isFull())\n"
      ],
      "metadata": {
        "colab": {
          "base_uri": "https://localhost:8080/"
        },
        "id": "fodze8hBHdtO",
        "outputId": "ef2414be-acd2-4273-a58a-9b9f446ef87d"
      },
      "execution_count": null,
      "outputs": [
        {
          "output_type": "stream",
          "name": "stdout",
          "text": [
            "True\n"
          ]
        }
      ]
    },
    {
      "cell_type": "code",
      "source": [
        "# CÂU 11\n",
        "\n",
        "class MyStack:\n",
        "    def __init__(self, capacity):\n",
        "        self.__capacity=capacity\n",
        "        self.__stack=[]\n",
        "    def isFull(self):\n",
        "        return len(self.__stack)==self.__capacity\n",
        "    def push(self, value):\n",
        "        if self.isFull():\n",
        "            print(\"Stack is full\")\n",
        "        else:\n",
        "            self.__stack.append(value)  #value là item thêm vào, không phải số lượng thêm vào\n",
        "\n",
        "stack1=MyStack(capacity=5)\n",
        "stack1.push(value=1)\n",
        "stack1.push(2)\n",
        "print(stack1.isFull())"
      ],
      "metadata": {
        "colab": {
          "base_uri": "https://localhost:8080/"
        },
        "id": "oYCIw-8BIT5N",
        "outputId": "1dac642f-4b17-449a-d0fe-aabcdb7e5771"
      },
      "execution_count": null,
      "outputs": [
        {
          "output_type": "stream",
          "name": "stdout",
          "text": [
            "False\n"
          ]
        }
      ]
    },
    {
      "cell_type": "code",
      "source": [
        "#CÂU 12\n",
        "\n",
        "class MyStack:\n",
        "    def __init__(self, capacity):\n",
        "        self.__capacity=capacity\n",
        "        self.__stack=[]\n",
        "    def isEmpty(self):\n",
        "        return len(self.__stack)==0\n",
        "    def isFull(self):\n",
        "        return len(self.__stack)==self.__capacity\n",
        "    def push(self, value):\n",
        "        if self.isFull():\n",
        "            print(\"Stack is full\")\n",
        "        else:\n",
        "            self.__stack.append(value)\n",
        "    def top(self):\n",
        "        if self.isEmpty():\n",
        "            print(\"Stack is empty\")\n",
        "        else:\n",
        "            return self.__stack[-1]\n",
        "\n",
        "\n",
        "stack1=MyStack(capacity=5)\n",
        "stack1.push(1)\n",
        "stack1.push(2)\n",
        "print(stack1.top())"
      ],
      "metadata": {
        "colab": {
          "base_uri": "https://localhost:8080/"
        },
        "id": "awgmaP5EJz3V",
        "outputId": "22b18411-30d5-4b17-cc18-a895888de743"
      },
      "execution_count": null,
      "outputs": [
        {
          "output_type": "stream",
          "name": "stdout",
          "text": [
            "2\n"
          ]
        }
      ]
    },
    {
      "cell_type": "code",
      "source": [
        "# CÂU 13\n",
        "\n",
        "class MyQueue:\n",
        "    def __init__(self, capacity):\n",
        "        self.__capacity=capacity\n",
        "        self.__queue=[]\n",
        "    def isEmpty(self):\n",
        "        return len(self.__queue)==0\n",
        "queue1= MyQueue(capacity=5)\n",
        "print(queue1.isEmpty())"
      ],
      "metadata": {
        "colab": {
          "base_uri": "https://localhost:8080/"
        },
        "id": "eADvNoGyLYtt",
        "outputId": "2a50e34a-94a7-41d1-8d59-8c5b7d47a7ad"
      },
      "execution_count": null,
      "outputs": [
        {
          "output_type": "stream",
          "name": "stdout",
          "text": [
            "True\n"
          ]
        }
      ]
    },
    {
      "cell_type": "code",
      "source": [
        "#CÂU 14\n",
        "\n",
        "class MyQueue:\n",
        "    def __init__(self, capacity):\n",
        "        self.__capacity=capacity\n",
        "        self.__queue=[]\n",
        "    def isFull(self):\n",
        "        return len(self.__queue)==self.__capacity\n",
        "queue1= MyQueue(capacity=5)\n",
        "print(queue1.isFull())"
      ],
      "metadata": {
        "colab": {
          "base_uri": "https://localhost:8080/"
        },
        "id": "9w2_98GQLwli",
        "outputId": "fdb90ead-58fe-4545-e7f7-158183c8f07b"
      },
      "execution_count": null,
      "outputs": [
        {
          "output_type": "stream",
          "name": "stdout",
          "text": [
            "False\n"
          ]
        }
      ]
    },
    {
      "cell_type": "code",
      "source": [
        "# CÂU 15\n",
        "\n",
        "class MyQueue:\n",
        "    def __init__(self, capacity):\n",
        "        self.__capacity=capacity\n",
        "        self.__queue=[]\n",
        "    def isFull(self):\n",
        "        return len(self.__queue)==self.__capacity\n",
        "    def enqueue(self, value):\n",
        "        if self.isFull():\n",
        "            print(\"Queue is full\")\n",
        "        self.__queue.append(value)\n",
        "\n",
        "\n",
        "queue1=MyQueue(capacity=5)\n",
        "queue1.enqueue(1)\n",
        "queue1.enqueue(2)\n",
        "print(queue1.isFull())"
      ],
      "metadata": {
        "colab": {
          "base_uri": "https://localhost:8080/"
        },
        "id": "AHqt_xJrL_BZ",
        "outputId": "ae88d60b-9bd4-4fba-bb8c-9aeaf1b92aa7"
      },
      "execution_count": null,
      "outputs": [
        {
          "output_type": "stream",
          "name": "stdout",
          "text": [
            "False\n"
          ]
        }
      ]
    },
    {
      "cell_type": "code",
      "source": [
        "#CÂU 16\n",
        "\n",
        "class MyQueue:\n",
        "    def __init__(self, capacity):\n",
        "        self.__capacity=capacity\n",
        "        self.__queue=[]\n",
        "\n",
        "    def isEmpty(self):\n",
        "        return len(self.__queue)==0\n",
        "\n",
        "    def isFull(self):\n",
        "        return len(self.__queue)==self.__capacity\n",
        "\n",
        "    def enqueue(self, value):\n",
        "        if self.isFull():\n",
        "            print(\"Queue is full\")\n",
        "        self.__queue.append(value)\n",
        "\n",
        "    def dequeue(self):\n",
        "        if self.isEmpty():\n",
        "            print(\"Queue is empty\")\n",
        "        self.__queue.pop(0)\n",
        "\n",
        "    def front(self):\n",
        "        if self.isEmpty():\n",
        "            print(\"Queue is empty\")\n",
        "        return self.__queue[0]\n",
        "\n",
        "\n",
        "queue1=MyQueue(capacity=5)\n",
        "queue1.enqueue(1)\n",
        "queue1.enqueue(2)\n",
        "print(queue1.front())"
      ],
      "metadata": {
        "colab": {
          "base_uri": "https://localhost:8080/"
        },
        "id": "wV54P_JiNZ8g",
        "outputId": "6aa5c208-db1f-4dfa-9442-48ec1b4dff44"
      },
      "execution_count": null,
      "outputs": [
        {
          "output_type": "stream",
          "name": "stdout",
          "text": [
            "1\n"
          ]
        }
      ]
    },
    {
      "cell_type": "code",
      "source": [],
      "metadata": {
        "id": "09uz5kinN4wH"
      },
      "execution_count": null,
      "outputs": []
    }
  ]
}