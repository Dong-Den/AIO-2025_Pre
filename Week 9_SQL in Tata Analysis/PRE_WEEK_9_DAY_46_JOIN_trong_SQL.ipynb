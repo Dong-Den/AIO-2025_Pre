{
  "nbformat": 4,
  "nbformat_minor": 0,
  "metadata": {
    "colab": {
      "provenance": []
    },
    "kernelspec": {
      "name": "python3",
      "display_name": "Python 3"
    },
    "language_info": {
      "name": "python"
    }
  },
  "cells": [
    {
      "cell_type": "code",
      "execution_count": null,
      "metadata": {
        "id": "SYK2RLtEijaT"
      },
      "outputs": [],
      "source": [
        "!pip install mysql-connector-python"
      ]
    },
    {
      "cell_type": "code",
      "source": [
        "import mysql.connector\n",
        "\n",
        "connection = mysql.connector.connect(\n",
        "    host=\"127.0.0.1\",\n",
        "    user=\"root\",\n",
        "    password=\"    \")\n",
        "query = 'CREATE SCHEMA JoinBanking'\n",
        "cursor = connection.cursor()\n",
        "cursor.execute(query)"
      ],
      "metadata": {
        "id": "YdK1pSmuHAe5"
      },
      "execution_count": null,
      "outputs": []
    },
    {
      "cell_type": "code",
      "source": [
        "cursor.execute(\"\"\"\n",
        "create table if not exists JoinBanking.Customers(\n",
        "    customer_id INT PRIMARY KEY,\n",
        "    name VARCHAR(50),\n",
        "    city VARCHAR(50)\n",
        ") ENGINE=InnoDB;\n",
        "\"\"\")\n",
        "\n",
        "cursor.execute(\"\"\"\n",
        "create table if not exists JoinBanking.Accounts(\n",
        "    account_id VARCHAR(10) PRIMARY KEY,\n",
        "    customer_id INT,\n",
        "    balance DECIMAL(10,2)\n",
        ") ENGINE=InnoDB;\n",
        "\"\"\")\n",
        "connection.commit()\n",
        "\n",
        "#Không có khóa ngoại"
      ],
      "metadata": {
        "id": "ghiLMgOsHFmN"
      },
      "execution_count": null,
      "outputs": []
    },
    {
      "cell_type": "code",
      "source": [
        "cursor.execute(\"USE JoinBanking;\")"
      ],
      "metadata": {
        "id": "f-OG31i-HMFl"
      },
      "execution_count": null,
      "outputs": []
    },
    {
      "cell_type": "code",
      "source": [
        "cursor.execute(\"\"\"\n",
        "INSERT IGNORE INTO Customers VALUES\n",
        "    (1, 'Alice', 'Hanoi'),\n",
        "    (2, 'Bob', 'HCM'),\n",
        "    (3, 'Charlie', 'Danang'),\n",
        "    (4, 'Diana', 'Hue')\n",
        ";\n",
        "\"\"\")\n",
        "cursor.execute(\"\"\"\n",
        "INSERT IGNORE INTO Accounts VALUES\n",
        "    ('A1', 1, 500),\n",
        "    ('A2', 1, 1000),\n",
        "    ('A3', 2, 1500),\n",
        "    ('A4', 5, 300)\n",
        ";\n",
        "\"\"\")\n",
        "connection.commit()"
      ],
      "metadata": {
        "id": "KuS7aRRqHOZM"
      },
      "execution_count": null,
      "outputs": []
    },
    {
      "cell_type": "code",
      "source": [
        "import pandas as pd\n",
        "query = \"\"\" SELECT * FROM Accounts;\"\"\"\n",
        "data=pd.read_sql_query(query, connection)\n",
        "data"
      ],
      "metadata": {
        "id": "M_ZWEZS2HQuj"
      },
      "execution_count": null,
      "outputs": []
    },
    {
      "cell_type": "code",
      "source": [
        "\n",
        "#Hiển thị tất cả các KH và các TK nếu có\n",
        "query=\"\"\"\n",
        "SELECT c.name, a.account_id, a.balance\n",
        "FROM Customers c\n",
        "LEFT JOIN Accounts a ON c.customer_id = a.customer_id\n",
        ";\n",
        "\"\"\"\n",
        "connection.commit()\n",
        "data=pd.read_sql_query(query,connection)\n",
        "data"
      ],
      "metadata": {
        "id": "3ZeteeaGHV-e"
      },
      "execution_count": null,
      "outputs": []
    },
    {
      "cell_type": "code",
      "source": [
        "#Tìm KH có ít nhất 1TK\n",
        "query= \"\"\"SELECT DISTINCT c.name, a.account_id\n",
        "FROM Customers c\n",
        "INNER JOIN Accounts a ON c.customer_id = a.customer_id\"\"\";   # INNER JOIN hoặc JOIN\n",
        "connection.commit()\n",
        "data=pd.read_sql_query(query,connection)\n",
        "data"
      ],
      "metadata": {
        "id": "2FLQS9qkHYvr"
      },
      "execution_count": null,
      "outputs": []
    },
    {
      "cell_type": "code",
      "source": [
        "# Hiển thị tất cả TK kể cả không biết thuộc KH nào\n",
        "query=\"\"\"\n",
        "SELECT c.name, a.account_id, a.balance\n",
        "FROM Customers c\n",
        "RIGHT JOIN Accounts a ON c.customer_id = a.customer_id\n",
        ";\n",
        "\"\"\"\n",
        "connection.commit()\n",
        "data=pd.read_sql_query(query,connection)\n",
        "data"
      ],
      "metadata": {
        "id": "NEGoXRqTHcd0"
      },
      "execution_count": null,
      "outputs": []
    },
    {
      "cell_type": "code",
      "source": [
        "# Truy vấn liệt kê toàn bộ khách hàng và tòan bộ tài khoản\n",
        "query=\"\"\"\n",
        "SELECT c.name, a.account_id\n",
        "FROM Customers c\n",
        "LEFT JOIN Accounts a ON c.customer_id = a.customer_id\n",
        "\n",
        "UNION\n",
        "SELECT c.name, a.account_id\n",
        "FROM Customers c\n",
        "RIGHT JOIN Accounts a ON c.customer_id = a.customer_id\n",
        ";\n",
        "\"\"\"\n",
        "connection.commit()\n",
        "data=pd.read_sql_query(query,connection)\n",
        "data"
      ],
      "metadata": {
        "id": "LcSAk-ufHiYs"
      },
      "execution_count": null,
      "outputs": []
    },
    {
      "cell_type": "code",
      "source": [
        "# truy vấn liệt kê toàn bộ kết hợp giữa khách hàng và tài khoản (mọi tổ hợp) (mọi tổ  hợp giữa KH và TK)\n",
        "query=\"\"\"\n",
        "SELECT c.name, a.account_id\n",
        "FROM Customers c\n",
        "CROSS JOIN Accounts a\n",
        ";\n",
        "\"\"\"\n",
        "connection.commit()\n",
        "data=pd.read_sql_query(query,connection)\n",
        "data"
      ],
      "metadata": {
        "id": "VzmNa35iHjso"
      },
      "execution_count": null,
      "outputs": []
    },
    {
      "cell_type": "code",
      "source": [
        "# Tìm KH không có TK\n",
        "query=\"\"\"\n",
        "SELECT c.name, a.account_id\n",
        "FROM Customers c\n",
        "LEFT JOIN Accounts a ON c.customer_id = a.customer_id\n",
        "WHERE 1=1\n",
        "AND a.account_id IS NULL\n",
        ";\n",
        "\"\"\"\n",
        "connection.commit()\n",
        "data=pd.read_sql_query(query,connection)\n",
        "data"
      ],
      "metadata": {
        "id": "6gT6My_BHsZD"
      },
      "execution_count": null,
      "outputs": []
    },
    {
      "cell_type": "code",
      "source": [
        "# Tìm  TK không thuộc KH nào\n",
        "query=\"\"\"\n",
        "SELECT c.name, a.account_id\n",
        "FROM Customers c\n",
        "RIGHT JOIN Accounts a ON c.customer_id = a.customer_id\n",
        "WHERE 1=1\n",
        "AND c.name IS NULL\n",
        ";\n",
        "\"\"\"\n",
        "connection.commit()\n",
        "data=pd.read_sql_query(query,connection)\n",
        "data"
      ],
      "metadata": {
        "id": "u3SS6r4KIBxG"
      },
      "execution_count": null,
      "outputs": []
    }
  ]
}