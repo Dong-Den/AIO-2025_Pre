{
  "nbformat": 4,
  "nbformat_minor": 0,
  "metadata": {
    "colab": {
      "provenance": []
    },
    "kernelspec": {
      "name": "python3",
      "display_name": "Python 3"
    },
    "language_info": {
      "name": "python"
    }
  },
  "cells": [
    {
      "cell_type": "markdown",
      "source": [
        "#### Bài 1: Tìm chỉ số đầu tiên\n",
        "Viết hàm linear_search(arr, x) trả về chỉ số đầu tiên mà x xuất hiện trong arr, hoặc\n",
        "-1 nếu không tìm thấy."
      ],
      "metadata": {
        "id": "PUcn2P-Z-IuO"
      }
    },
    {
      "cell_type": "code",
      "execution_count": null,
      "metadata": {
        "colab": {
          "base_uri": "https://localhost:8080/"
        },
        "id": "DDLV3FF9947e",
        "outputId": "48b2c196-793d-4a7f-b178-818a3d9edc99"
      },
      "outputs": [
        {
          "output_type": "stream",
          "name": "stdout",
          "text": [
            "2\n",
            "-1\n"
          ]
        }
      ],
      "source": [
        "def linear_search(arr,x):\n",
        "    for i in range(len(arr)):\n",
        "        if arr[i] == x:\n",
        "            return i\n",
        "    return -1\n",
        "\n",
        "arr1 = [2, 4, 6, 8, 10]\n",
        "print(linear_search(arr1,6))\n",
        "print(linear_search([1, 3, 5, 7],2))"
      ]
    },
    {
      "cell_type": "markdown",
      "source": [
        "#### Bài 2: Tìm tất cả các chỉ số\n",
        "Viết hàm trả về danh sách tất cả chỉ số mà x xuất hiện trong arr."
      ],
      "metadata": {
        "id": "0JMGnqT7ABtP"
      }
    },
    {
      "cell_type": "code",
      "source": [
        "def find_all_indices(arr, x):\n",
        "    indices = []\n",
        "    for i in range(len(arr)):\n",
        "        if arr[i] == x:\n",
        "            indices.append(i)\n",
        "    return indices\n",
        "\n",
        "arr = [1, 2, 3, 2, 4, 2]\n",
        "print(find_all_indices(arr, 2))"
      ],
      "metadata": {
        "colab": {
          "base_uri": "https://localhost:8080/"
        },
        "id": "NUWswf_WAE8U",
        "outputId": "6c472a40-c494-473b-86d4-8bce5b1c2fe4"
      },
      "execution_count": null,
      "outputs": [
        {
          "output_type": "stream",
          "name": "stdout",
          "text": [
            "[1, 3, 5]\n"
          ]
        }
      ]
    },
    {
      "cell_type": "markdown",
      "source": [
        "#### Bài 3: Tìm phần tử lớn hơn\n",
        "Viết hàm find_greater(arr, x) trả về danh sách các phần tử lớn hơn x trong arr"
      ],
      "metadata": {
        "id": "C06mY_EuAYHI"
      }
    },
    {
      "cell_type": "code",
      "source": [
        "def find_greater(arr, x):\n",
        "    greater_elements = []\n",
        "    for element in arr:\n",
        "        if element > x:\n",
        "            greater_elements.append(element)\n",
        "    return greater_elements\n",
        "\n",
        "arr = [1, 2, 3, 4, 5]\n",
        "print(find_greater(arr, 3))\n"
      ],
      "metadata": {
        "colab": {
          "base_uri": "https://localhost:8080/"
        },
        "id": "LHNQcKz1AcGT",
        "outputId": "8de5cf0c-bb01-45d8-d05f-bf5ea17bf5be"
      },
      "execution_count": null,
      "outputs": [
        {
          "output_type": "stream",
          "name": "stdout",
          "text": [
            "[4, 5]\n"
          ]
        }
      ]
    },
    {
      "cell_type": "markdown",
      "source": [
        "#### Bài 4: Tìm phần tử đầu tiên chia hết cho 3\n",
        "Viết hàm find_first_div_by_3(arr) trả về phần tử đầu tiên chia hết cho 3 trong danh\n",
        "sách."
      ],
      "metadata": {
        "id": "pWEjX-O9AsC8"
      }
    },
    {
      "cell_type": "code",
      "source": [
        "def find_first_div_by_3(arr):\n",
        "    for element in arr:\n",
        "        if element % 3 == 0:\n",
        "            return element\n",
        "    return None\n",
        "\n",
        "arr = [1, 2, 3, 4, 5]\n",
        "print(find_first_div_by_3(arr))\n",
        "print(find_first_div_by_3([1,2,4,5,7]))"
      ],
      "metadata": {
        "colab": {
          "base_uri": "https://localhost:8080/"
        },
        "id": "aFXE-ZeoAvtS",
        "outputId": "aef6de6a-394a-4018-8e7d-145af344988e"
      },
      "execution_count": null,
      "outputs": [
        {
          "output_type": "stream",
          "name": "stdout",
          "text": [
            "3\n",
            "None\n"
          ]
        }
      ]
    }
  ]
}