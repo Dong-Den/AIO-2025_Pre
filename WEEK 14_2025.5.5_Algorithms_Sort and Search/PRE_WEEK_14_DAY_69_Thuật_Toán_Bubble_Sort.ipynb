{
  "nbformat": 4,
  "nbformat_minor": 0,
  "metadata": {
    "colab": {
      "provenance": []
    },
    "kernelspec": {
      "name": "python3",
      "display_name": "Python 3"
    },
    "language_info": {
      "name": "python"
    }
  },
  "cells": [
    {
      "cell_type": "markdown",
      "source": [
        "## **Thuật Toán Bubble Sort**"
      ],
      "metadata": {
        "id": "0mABbaD8J166"
      }
    },
    {
      "cell_type": "code",
      "source": [
        "# Bài tập 1: Sắp xếp tăng dần"
      ],
      "metadata": {
        "id": "S-RkQTSOKxgM"
      },
      "execution_count": null,
      "outputs": []
    },
    {
      "cell_type": "code",
      "execution_count": null,
      "metadata": {
        "colab": {
          "base_uri": "https://localhost:8080/"
        },
        "id": "7h4L9P40FDpb",
        "outputId": "3a8f61dc-bf61-4a2b-d6c7-a43354c1bb52"
      },
      "outputs": [
        {
          "output_type": "stream",
          "name": "stdout",
          "text": [
            "[2, 3, 4, 5, 8]\n"
          ]
        }
      ],
      "source": [
        "def bubble_sort(arr):\n",
        "    n=len(arr)\n",
        "    for i in range(n):\n",
        "        swapped=False\n",
        "        for j in range(0, n-i-1):\n",
        "            if arr[j] > arr[j+1]:\n",
        "                arr[j], arr[j+1] = arr[j+1], arr[j]\n",
        "                swapped=True\n",
        "        if not swapped:\n",
        "            break\n",
        "    return arr\n",
        "\n",
        "arr=[5,3,8,4,2]\n",
        "print(bubble_sort(arr))"
      ]
    },
    {
      "cell_type": "code",
      "source": [
        "# Bài tập 2: Sắp xếp giảm dần"
      ],
      "metadata": {
        "id": "wWqV-LbpKyvL"
      },
      "execution_count": null,
      "outputs": []
    },
    {
      "cell_type": "code",
      "source": [
        "def bubble_sort(arr):\n",
        "    n=len(arr)\n",
        "    for i in range(n):\n",
        "        swapped=False\n",
        "        for j in range(0, n-i-1):\n",
        "            if arr[j] < arr[j+1]:\n",
        "                arr[j], arr[j+1] = arr[j+1], arr[j]\n",
        "                swapped=True\n",
        "        if not swapped:\n",
        "            break\n",
        "    return arr\n",
        "\n",
        "arr=[5,3,8,4,2]\n",
        "print(bubble_sort(arr))"
      ],
      "metadata": {
        "colab": {
          "base_uri": "https://localhost:8080/"
        },
        "id": "LZbT1n4-K26t",
        "outputId": "3a86e2d2-0728-4b15-b78c-29d222759ba9"
      },
      "execution_count": null,
      "outputs": [
        {
          "output_type": "stream",
          "name": "stdout",
          "text": [
            "[8, 5, 4, 3, 2]\n"
          ]
        }
      ]
    },
    {
      "cell_type": "code",
      "source": [
        "# Bài tập 3: Đếm số lần hoán đổi\n",
        "# Viết hàm bubble_sort_count(arr) sắp xếp mảng"
      ],
      "metadata": {
        "id": "9MQ3foASLGAJ"
      },
      "execution_count": null,
      "outputs": []
    },
    {
      "cell_type": "code",
      "source": [
        "def bubble_sort_count(arr):\n",
        "    n=len(arr)\n",
        "    count=0\n",
        "    for i in range(n):\n",
        "        swapped=False\n",
        "        for j in range(0, n-i-1):\n",
        "            if arr[j] > arr[j+1]:\n",
        "                arr[j], arr[j+1] = arr[j+1], arr[j]\n",
        "                swapped=True\n",
        "                count=count+1\n",
        "        if not swapped:\n",
        "            break\n",
        "    return arr, count\n",
        "\n",
        "arr=[4,3,2,1]\n",
        "print(bubble_sort_count(arr))"
      ],
      "metadata": {
        "colab": {
          "base_uri": "https://localhost:8080/"
        },
        "id": "2OWIbdgqNeTx",
        "outputId": "0a1d582d-fb12-443b-e9e5-01206697c3f1"
      },
      "execution_count": null,
      "outputs": [
        {
          "output_type": "stream",
          "name": "stdout",
          "text": [
            "([1, 2, 3, 4], 6)\n"
          ]
        }
      ]
    },
    {
      "cell_type": "code",
      "source": [
        "# bubblesort_optimize\n",
        "def bubble_sort(arr):\n",
        "    n=len(arr)\n",
        "    step =1\n",
        "    for i in range(n):\n",
        "        swapped=False\n",
        "        for j in range(0, n-i-1):\n",
        "            print(\"step:\", step)\n",
        "            step = step +1\n",
        "            if arr[j] > arr[j+1]:\n",
        "                arr[j], arr[j+1] = arr[j+1], arr[j]\n",
        "                swapped=True\n",
        "        if not swapped:\n",
        "            break\n",
        "    return arr\n",
        "\n",
        "arr=[4,6,7,9]\n",
        "print(bubble_sort(arr))\n",
        "arr2=[4,3,2,1]\n",
        "print(bubble_sort(arr2))"
      ],
      "metadata": {
        "colab": {
          "base_uri": "https://localhost:8080/"
        },
        "id": "_GlpBNCoLJNz",
        "outputId": "25987dbc-8091-46d7-8790-d0370443c218"
      },
      "execution_count": null,
      "outputs": [
        {
          "output_type": "stream",
          "name": "stdout",
          "text": [
            "step: 1\n",
            "step: 2\n",
            "step: 3\n",
            "[4, 6, 7, 9]\n",
            "step: 1\n",
            "step: 2\n",
            "step: 3\n",
            "step: 4\n",
            "step: 5\n",
            "step: 6\n",
            "[1, 2, 3, 4]\n"
          ]
        }
      ]
    },
    {
      "cell_type": "code",
      "source": [
        "# Bài tập 4: Kiểm tra đã sắp xếp\n",
        "# Trước khi thực hiện sắp xếp, kiểm tra nếu mảng đã được sắp thì in \"Already sorted\" và\n",
        "không thực hiện hoán đổi"
      ],
      "metadata": {
        "id": "gLeT2K9GMv5l"
      },
      "execution_count": null,
      "outputs": []
    },
    {
      "cell_type": "code",
      "source": [
        "def bubble_sort_check(arr):\n",
        "    n=len(arr)\n",
        "    already_sorted= True\n",
        "    for i in range(n-1):\n",
        "        if arr[i] > arr[i+1]:\n",
        "            already_sorted=False\n",
        "            break\n",
        "    if already_sorted:\n",
        "        print(\"Already sorted\")\n",
        "        return arr\n",
        "    for i in range(n):\n",
        "        for j in range(0, n-i-1):\n",
        "            if arr[j] > arr[j+1]:\n",
        "                arr[j], arr[j+1] = arr[j+1], arr[j]\n",
        "    return arr\n",
        "\n",
        "arr=[4,3,2,1]\n",
        "print(bubble_sort_check(arr))\n",
        "\n",
        "print(bubble_sort_check([1,2,3,4]))\n"
      ],
      "metadata": {
        "colab": {
          "base_uri": "https://localhost:8080/"
        },
        "id": "Wrxc40r5M4nr",
        "outputId": "865e7ab1-6c6f-42b6-af29-f6b05b6c3777"
      },
      "execution_count": null,
      "outputs": [
        {
          "output_type": "stream",
          "name": "stdout",
          "text": [
            "[1, 2, 3, 4]\n",
            "Already sorted\n",
            "[1, 2, 3, 4]\n"
          ]
        }
      ]
    },
    {
      "cell_type": "code",
      "source": [
        "# Tối ưu hóa kiểm tra và sắp xếp\n",
        "def bubble_sort_check_optimize(arr):\n",
        "    if all(arr[i] <= arr[i+1] for i in range(len(arr) - 1)):\n",
        "        print(\"Already sorted\")\n",
        "        return arr\n",
        "\n",
        "    n = len(arr)\n",
        "    for i in range(n):\n",
        "        swapped = False\n",
        "        for j in range(0, n - i - 1):\n",
        "            if arr[j] > arr[j + 1]:\n",
        "                arr[j], arr[j + 1] = arr[j + 1], arr[j]\n",
        "                swapped = True\n",
        "        if not swapped:\n",
        "            break  # Không có hoán đổi, dừng sớm\n",
        "    return arr\n",
        "\n",
        "print(bubble_sort_check_optimize([1,2,3,4]))\n",
        "print(bubble_sort_check_optimize([4,3,2,1]))"
      ],
      "metadata": {
        "colab": {
          "base_uri": "https://localhost:8080/"
        },
        "id": "BT0oz1SEBU0m",
        "outputId": "a80ce1b9-6620-4915-abc3-6fdee68804fa"
      },
      "execution_count": null,
      "outputs": [
        {
          "output_type": "stream",
          "name": "stdout",
          "text": [
            "Already sorted\n",
            "[1, 2, 3, 4]\n",
            "[1, 2, 3, 4]\n"
          ]
        }
      ]
    }
  ]
}