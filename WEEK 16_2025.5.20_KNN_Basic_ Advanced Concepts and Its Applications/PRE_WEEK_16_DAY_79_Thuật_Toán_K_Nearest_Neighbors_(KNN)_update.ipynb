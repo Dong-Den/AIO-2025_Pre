





<!DOCTYPE html>
<html
  lang="en"
  
  data-color-mode="auto" data-light-theme="light" data-dark-theme="dark"
  data-a11y-animated-images="system" data-a11y-link-underlines="true"
  
  >



  <head>
    <meta charset="utf-8">
  <link rel="dns-prefetch" href="https://github.githubassets.com">
  <link rel="dns-prefetch" href="https://avatars.githubusercontent.com">
  <link rel="dns-prefetch" href="https://github-cloud.s3.amazonaws.com">
  <link rel="dns-prefetch" href="https://user-images.githubusercontent.com/">
  <link rel="preconnect" href="https://github.githubassets.com" crossorigin>
  <link rel="preconnect" href="https://avatars.githubusercontent.com">

  


  <link crossorigin="anonymous" media="all" rel="stylesheet" href="https://github.githubassets.com/assets/light-c59dc71e3a4c.css" /><link crossorigin="anonymous" media="all" rel="stylesheet" href="https://github.githubassets.com/assets/dark-89751e879f8b.css" /><link data-color-theme="light_high_contrast" crossorigin="anonymous" media="all" rel="stylesheet" data-href="https://github.githubassets.com/assets/light_high_contrast-4bf0cb726930.css" /><link data-color-theme="light_colorblind" crossorigin="anonymous" media="all" rel="stylesheet" data-href="https://github.githubassets.com/assets/light_colorblind-6060e905eb78.css" /><link data-color-theme="light_colorblind_high_contrast" crossorigin="anonymous" media="all" rel="stylesheet" data-href="https://github.githubassets.com/assets/light_colorblind_high_contrast-04e818620b9c.css" /><link data-color-theme="light_tritanopia" crossorigin="anonymous" media="all" rel="stylesheet" data-href="https://github.githubassets.com/assets/light_tritanopia-ae65df249e0f.css" /><link data-color-theme="light_tritanopia_high_contrast" crossorigin="anonymous" media="all" rel="stylesheet" data-href="https://github.githubassets.com/assets/light_tritanopia_high_contrast-fdadc12a1ec2.css" /><link data-color-theme="dark_high_contrast" crossorigin="anonymous" media="all" rel="stylesheet" data-href="https://github.githubassets.com/assets/dark_high_contrast-67c7180a598a.css" /><link data-color-theme="dark_colorblind" crossorigin="anonymous" media="all" rel="stylesheet" data-href="https://github.githubassets.com/assets/dark_colorblind-4277e18a7c75.css" /><link data-color-theme="dark_colorblind_high_contrast" crossorigin="anonymous" media="all" rel="stylesheet" data-href="https://github.githubassets.com/assets/dark_colorblind_high_contrast-2e33ed61bc8c.css" /><link data-color-theme="dark_tritanopia" crossorigin="anonymous" media="all" rel="stylesheet" data-href="https://github.githubassets.com/assets/dark_tritanopia-48d44d87614d.css" /><link data-color-theme="dark_tritanopia_high_contrast" crossorigin="anonymous" media="all" rel="stylesheet" data-href="https://github.githubassets.com/assets/dark_tritanopia_high_contrast-6adcb5080302.css" /><link data-color-theme="dark_dimmed" crossorigin="anonymous" media="all" rel="stylesheet" data-href="https://github.githubassets.com/assets/dark_dimmed-250cee4c1ea8.css" /><link data-color-theme="dark_dimmed_high_contrast" crossorigin="anonymous" media="all" rel="stylesheet" data-href="https://github.githubassets.com/assets/dark_dimmed_high_contrast-e3802beb8c06.css" />

    <link crossorigin="anonymous" media="all" rel="stylesheet" href="https://github.githubassets.com/assets/primer-primitives-225433424a87.css" />
    <link crossorigin="anonymous" media="all" rel="stylesheet" href="https://github.githubassets.com/assets/primer-b8b91660c29d.css" />
    <link crossorigin="anonymous" media="all" rel="stylesheet" href="https://github.githubassets.com/assets/global-86fb66cfa45a.css" />
    <link crossorigin="anonymous" media="all" rel="stylesheet" href="https://github.githubassets.com/assets/github-685f3d1c0424.css" />
  <link crossorigin="anonymous" media="all" rel="stylesheet" href="https://github.githubassets.com/assets/repository-197a21528ff0.css" />
<link crossorigin="anonymous" media="all" rel="stylesheet" href="https://github.githubassets.com/assets/code-177d21388df8.css" />

  


  <script type="application/json" id="client-env">{"locale":"en","featureFlags":["alternate_user_config_repo","api_insights_show_missing_data_banner","billing_sku_level_budgets","client_version_header","codespaces_prebuild_region_target_update","contentful_lp_flex_features_actions","contentful_lp_flex_features_code_review","contentful_lp_flex_features_code_search","contentful_lp_flex_features_codespaces","contentful_lp_flex_features_discussions","contentful_lp_flex_features_issues","contentful_lp_footnotes","copilot_chat_attach_images","copilot_chat_attach_multiple_images","copilot_chat_attachments","copilot_chat_custom_instructions","copilot_chat_opening_thread_switch","copilot_chat_repo_custom_instructions_preview","copilot_chat_vision_in_claude","copilot_chat_wholearea_dd","copilot_custom_copilots_org_owned","copilot_custom_copilots_redesign","copilot_custom_copilots_starred","copilot_custom_copilots_visibility","copilot_dotcom_chat_file_upload","copilot_duplicate_thread","copilot_free_to_paid_telem","copilot_header_button_to_immersive","copilot_immersive_draft_issue_metadata_location","copilot_immersive_draft_issue_template_picker","copilot_immersive_draft_issue_template_required","copilot_immersive_issue_preview","copilot_new_immersive_references_ui","copilot_no_floating_button","copilot_read_shared_conversation","copilot_share_active_subthread","copilot_share_forbidden_error","copilot_showcase_icebreakers","copilot_task_oriented_assistive_prompts","copilot_topics_as_references","copilot_ui_refs","direct_to_salesforce","dotcom_chat_client_side_skills","ghost_pilot_confidence_truncation_25","ghost_pilot_confidence_truncation_40","insert_before_patch","issues_dashboard_increased_filter_options","issues_dashboard_no_redirects","issues_react_blur_item_picker_on_close","issues_react_create_milestone","issues_react_include_bots_in_pickers","issues_react_prohibit_title_fallback","issues_react_remove_placeholders","issues_react_use_new_milestone_connection_wrapper","lifecycle_label_name_updates","link_contact_sales_swp_marketo","marketing_pages_search_explore_provider","memex_mwl_filter_field_delimiter","memex_roadmap_drag_style","nonreporting_relay_graphql_status_codes","primer_react_css_modules_ga","primer_react_select_panel_with_modern_action_list","remove_child_patch","repository_suggester_elastic_search","sample_network_conn_type","send_app_type_header","site_msbuild_hide_integrations","site_msbuild_launch","site_msbuild_webgl_hero","swp_enterprise_contact_form","use_copilot_avatar","use_paginated_org_picker_cost_center_form","use_paginated_repo_picker_cost_center_form","viewscreen_sandbox"],"login":"Dong-Den"}</script>
<script crossorigin="anonymous" defer="defer" type="application/javascript" src="https://github.githubassets.com/assets/wp-runtime-3a044cc28b71.js"></script>
<script crossorigin="anonymous" defer="defer" type="application/javascript" src="https://github.githubassets.com/assets/vendors-node_modules_oddbird_popover-polyfill_dist_popover-fn_js-81211bd82278.js"></script>
<script crossorigin="anonymous" defer="defer" type="application/javascript" src="https://github.githubassets.com/assets/vendors-node_modules_github_mini-throttle_dist_index_js-node_modules_stacktrace-parser_dist_s-1d3d52-4be8ffe9a34a.js"></script>
<script crossorigin="anonymous" defer="defer" type="application/javascript" src="https://github.githubassets.com/assets/ui_packages_failbot_failbot_ts-3f3eb0fe798c.js"></script>
<script crossorigin="anonymous" defer="defer" type="application/javascript" src="https://github.githubassets.com/assets/environment-d607485791a5.js"></script>
<script crossorigin="anonymous" defer="defer" type="application/javascript" src="https://github.githubassets.com/assets/vendors-node_modules_primer_behaviors_dist_esm_index_mjs-0dbb79f97f8f.js"></script>
<script crossorigin="anonymous" defer="defer" type="application/javascript" src="https://github.githubassets.com/assets/vendors-node_modules_github_selector-observer_dist_index_esm_js-f690fd9ae3d5.js"></script>
<script crossorigin="anonymous" defer="defer" type="application/javascript" src="https://github.githubassets.com/assets/vendors-node_modules_github_relative-time-element_dist_index_js-fd884d19bf73.js"></script>
<script crossorigin="anonymous" defer="defer" type="application/javascript" src="https://github.githubassets.com/assets/vendors-node_modules_github_text-expander-element_dist_index_js-b4ed7224d804.js"></script>
<script crossorigin="anonymous" defer="defer" type="application/javascript" src="https://github.githubassets.com/assets/vendors-node_modules_github_auto-complete-element_dist_index_js-node_modules_github_catalyst_-8e9f78-a90ac05d2469.js"></script>
<script crossorigin="anonymous" defer="defer" type="application/javascript" src="https://github.githubassets.com/assets/vendors-node_modules_github_filter-input-element_dist_index_js-node_modules_github_remote-inp-d8c643-f5192902810f.js"></script>
<script crossorigin="anonymous" defer="defer" type="application/javascript" src="https://github.githubassets.com/assets/vendors-node_modules_github_markdown-toolbar-element_dist_index_js-ceef33f593fa.js"></script>
<script crossorigin="anonymous" defer="defer" type="application/javascript" src="https://github.githubassets.com/assets/vendors-node_modules_github_mini-throttle_dist_index_js-node_modules_github_combobox-nav_dist-97536f-0a0158d4c78e.js"></script>
<script crossorigin="anonymous" defer="defer" type="application/javascript" src="https://github.githubassets.com/assets/vendors-node_modules_github_file-attachment-element_dist_index_js-node_modules_primer_view-co-63644b-8389d8c5493d.js"></script>
<script crossorigin="anonymous" defer="defer" type="application/javascript" src="https://github.githubassets.com/assets/github-elements-2c6b561fd398.js"></script>
<script crossorigin="anonymous" defer="defer" type="application/javascript" src="https://github.githubassets.com/assets/element-registry-759bd527e556.js"></script>
<script crossorigin="anonymous" defer="defer" type="application/javascript" src="https://github.githubassets.com/assets/vendors-node_modules_braintree_browser-detection_dist_browser-detection_js-node_modules_githu-bb80ec-72267f4e3ff9.js"></script>
<script crossorigin="anonymous" defer="defer" type="application/javascript" src="https://github.githubassets.com/assets/vendors-node_modules_lit-html_lit-html_js-be8cb88f481b.js"></script>
<script crossorigin="anonymous" defer="defer" type="application/javascript" src="https://github.githubassets.com/assets/vendors-node_modules_morphdom_dist_morphdom-esm_js-0c08218c7d5f.js"></script>
<script crossorigin="anonymous" defer="defer" type="application/javascript" src="https://github.githubassets.com/assets/vendors-node_modules_fzy_js_index_js-node_modules_github_paste-markdown_dist_index_js-6c00013a3dc4.js"></script>
<script crossorigin="anonymous" defer="defer" type="application/javascript" src="https://github.githubassets.com/assets/vendors-node_modules_github_turbo_dist_turbo_es2017-esm_js-a03ee12d659a.js"></script>
<script crossorigin="anonymous" defer="defer" type="application/javascript" src="https://github.githubassets.com/assets/vendors-node_modules_github_remote-form_dist_index_js-node_modules_delegated-events_dist_inde-893f9f-b6294cf703b7.js"></script>
<script crossorigin="anonymous" defer="defer" type="application/javascript" src="https://github.githubassets.com/assets/vendors-node_modules_color-convert_index_js-e3180fe3bcb3.js"></script>
<script crossorigin="anonymous" defer="defer" type="application/javascript" src="https://github.githubassets.com/assets/vendors-node_modules_github_quote-selection_dist_index_js-node_modules_github_session-resume_-c1aa61-97c8ff49bc41.js"></script>
<script crossorigin="anonymous" defer="defer" type="application/javascript" src="https://github.githubassets.com/assets/ui_packages_updatable-content_updatable-content_ts-f4e60782b52d.js"></script>
<script crossorigin="anonymous" defer="defer" type="application/javascript" src="https://github.githubassets.com/assets/app_assets_modules_github_behaviors_task-list_ts-app_assets_modules_github_sso_ts-ui_packages-900dde-c84fbefd392e.js"></script>
<script crossorigin="anonymous" defer="defer" type="application/javascript" src="https://github.githubassets.com/assets/app_assets_modules_github_sticky-scroll-into-view_ts-3e000c5d31a9.js"></script>
<script crossorigin="anonymous" defer="defer" type="application/javascript" src="https://github.githubassets.com/assets/app_assets_modules_github_behaviors_ajax-error_ts-app_assets_modules_github_behaviors_include-d0d0a6-9dc4ed803189.js"></script>
<script crossorigin="anonymous" defer="defer" type="application/javascript" src="https://github.githubassets.com/assets/app_assets_modules_github_behaviors_commenting_edit_ts-app_assets_modules_github_behaviors_ht-83c235-ce8979e4f922.js"></script>
<script crossorigin="anonymous" defer="defer" type="application/javascript" src="https://github.githubassets.com/assets/behaviors-a4b59f1126fc.js"></script>
<script crossorigin="anonymous" defer="defer" type="application/javascript" src="https://github.githubassets.com/assets/vendors-node_modules_delegated-events_dist_index_js-node_modules_github_catalyst_lib_index_js-ea8eaa-ae0dbe787ad8.js"></script>
<script crossorigin="anonymous" defer="defer" type="application/javascript" src="https://github.githubassets.com/assets/notifications-global-7f3748c0d76b.js"></script>
<script crossorigin="anonymous" defer="defer" type="application/javascript" src="https://github.githubassets.com/assets/vendors-node_modules_github_mini-throttle_dist_index_js-node_modules_github_catalyst_lib_inde-dbbea9-4adcaf6c1c40.js"></script>
<script crossorigin="anonymous" defer="defer" type="application/javascript" src="https://github.githubassets.com/assets/code-menu-7cd84ed05e00.js"></script>
  
  <script crossorigin="anonymous" defer="defer" type="application/javascript" src="https://github.githubassets.com/assets/primer-react-93a37a6984ad.js"></script>
<script crossorigin="anonymous" defer="defer" type="application/javascript" src="https://github.githubassets.com/assets/react-core-40a3b44e237d.js"></script>
<script crossorigin="anonymous" defer="defer" type="application/javascript" src="https://github.githubassets.com/assets/react-lib-80430c87778a.js"></script>
<script crossorigin="anonymous" defer="defer" type="application/javascript" src="https://github.githubassets.com/assets/octicons-react-cf2f2ab8dab4.js"></script>
<script crossorigin="anonymous" defer="defer" type="application/javascript" src="https://github.githubassets.com/assets/vendors-node_modules_emotion_is-prop-valid_dist_emotion-is-prop-valid_esm_js-node_modules_emo-b1c483-30bc59af3a76.js"></script>
<script crossorigin="anonymous" defer="defer" type="application/javascript" src="https://github.githubassets.com/assets/vendors-node_modules_github_catalyst_lib_index_js-node_modules_primer_live-region-element_dis-b2aea6-22827f205bdc.js"></script>
<script crossorigin="anonymous" defer="defer" type="application/javascript" src="https://github.githubassets.com/assets/vendors-node_modules_dompurify_dist_purify_es_mjs-dd1d3ea6a436.js"></script>
<script crossorigin="anonymous" defer="defer" type="application/javascript" src="https://github.githubassets.com/assets/vendors-node_modules_lodash-es__Stack_js-node_modules_lodash-es__Uint8Array_js-node_modules_l-4faaa6-4a736fde5c2f.js"></script>
<script crossorigin="anonymous" defer="defer" type="application/javascript" src="https://github.githubassets.com/assets/vendors-node_modules_lodash-es_isEqual_js-92a85ab8c568.js"></script>
<script crossorigin="anonymous" defer="defer" type="application/javascript" src="https://github.githubassets.com/assets/vendors-node_modules_tanstack_react-virtual_dist_esm_index_js-0b672975e32f.js"></script>
<script crossorigin="anonymous" defer="defer" type="application/javascript" src="https://github.githubassets.com/assets/vendors-node_modules_focus-visible_dist_focus-visible_js-node_modules_github_hydro-analytics--425d03-b9853647b422.js"></script>
<script crossorigin="anonymous" defer="defer" type="application/javascript" src="https://github.githubassets.com/assets/vendors-node_modules_fzy_js_index_js-node_modules_react-reverse-portal_dist_web_index_js-node-4477e7-05f372153a84.js"></script>
<script crossorigin="anonymous" defer="defer" type="application/javascript" src="https://github.githubassets.com/assets/ui_packages_document-metadata_document-metadata_ts-ui_packages_history_history_ts-ui_packages-417c81-50b9bb07478c.js"></script>
<script crossorigin="anonymous" defer="defer" type="application/javascript" src="https://github.githubassets.com/assets/ui_packages_paths_index_ts-3838bbeac639.js"></script>
<script crossorigin="anonymous" defer="defer" type="application/javascript" src="https://github.githubassets.com/assets/ui_packages_ref-selector_RefSelector_tsx-de5e05cf88ec.js"></script>
<script crossorigin="anonymous" defer="defer" type="application/javascript" src="https://github.githubassets.com/assets/ui_packages_commit-attribution_index_ts-ui_packages_commit-checks-status_index_ts-ui_packages-762eaa-b9321ed019f0.js"></script>
<script crossorigin="anonymous" defer="defer" type="application/javascript" src="https://github.githubassets.com/assets/ui_packages_app-uuid_app-uuid_ts-ui_packages_repos-file-tree-view_repos-file-tree-view_ts-261272feafb7.js"></script>
<script crossorigin="anonymous" defer="defer" type="application/javascript" src="https://github.githubassets.com/assets/ui_packages_diffs_diff-parts_ts-868394b3d6dc.js"></script>
<script crossorigin="anonymous" defer="defer" type="application/javascript" src="https://github.githubassets.com/assets/ui_packages_hydro-analytics_hydro-analytics_ts-ui_packages_use-client-value_use-client-value_-6f712e-d59b35038b54.js"></script>
<script crossorigin="anonymous" defer="defer" type="application/javascript" src="https://github.githubassets.com/assets/ui_packages_code-view-shared_hooks_use-canonical-object_ts-ui_packages_code-view-shared_hooks-7b64b1-87f7a99810ed.js"></script>
<script crossorigin="anonymous" defer="defer" type="application/javascript" src="https://github.githubassets.com/assets/app_assets_modules_github_blob-anchor_ts-ui_packages_code-nav_code-nav_ts-ui_packages_filter--8253c1-91468a3354f9.js"></script>
<script crossorigin="anonymous" defer="defer" type="application/javascript" src="https://github.githubassets.com/assets/react-code-view-afbfc31cee4d.js"></script>
<link crossorigin="anonymous" media="all" rel="stylesheet" href="https://github.githubassets.com/assets/primer-react.247007205a629ae606a1.module.css" />
<link crossorigin="anonymous" media="all" rel="stylesheet" href="https://github.githubassets.com/assets/react-code-view.dbb65fc03567484939f4.module.css" />


  <title>AIO-2025_Pre/WEEK 16_2025.5.20_KNN_Basic, Advanced Concepts and Its Applications/PRE_WEEK_16_DAY_79_Thuật_Toán_K_Nearest_Neighbors_(KNN)_update.ipynb at main · Dong-Den/AIO-2025_Pre</title>



  <meta name="route-pattern" content="/:user_id/:repository/blob/*name(/*path)" data-turbo-transient>
  <meta name="route-controller" content="blob" data-turbo-transient>
  <meta name="route-action" content="show" data-turbo-transient>
  <meta name="fetch-nonce" content="v2:d8435c66-441f-ec56-278b-1557f8f93e9a">

    
  <meta name="current-catalog-service-hash" content="f3abb0cc802f3d7b95fc8762b94bdcb13bf39634c40c357301c4aa1d67a256fb">


  <meta name="request-id" content="ECA2:48CAE:38DD81:4755D5:683798CB" data-turbo-transient="true" /><meta name="html-safe-nonce" content="1ee0422e5039053a5766f098a4434ffb4e98a0437b5ccc229ae12de0d783d508" data-turbo-transient="true" /><meta name="visitor-payload" content="eyJyZWZlcnJlciI6Imh0dHBzOi8vZ2l0aHViLmNvbS9Eb25nLURlbi9BSU8tMjAyNV9QcmUvdHJlZS9tYWluL1dFRUslMjAxNl8yMDI1LjUuMjBfS05OX0Jhc2ljJTJDJTIwQWR2YW5jZWQlMjBDb25jZXB0cyUyMGFuZCUyMEl0cyUyMEFwcGxpY2F0aW9ucyIsInJlcXVlc3RfaWQiOiJFQ0EyOjQ4Q0FFOjM4REQ4MTo0NzU1RDU6NjgzNzk4Q0IiLCJ2aXNpdG9yX2lkIjoiNTQwODQ0MjQ3NDA4MjI3NDg3NyIsInJlZ2lvbl9lZGdlIjoic291dGhlYXN0YXNpYSIsInJlZ2lvbl9yZW5kZXIiOiJpYWQifQ==" data-turbo-transient="true" /><meta name="visitor-hmac" content="114f58ce3d365a83e4aefb36edaa64a2ecd5284036403aaa371fbd41f6f63578" data-turbo-transient="true" />


    <meta name="hovercard-subject-tag" content="repository:976489619" data-turbo-transient>


  <meta name="github-keyboard-shortcuts" content="repository,source-code,file-tree,copilot" data-turbo-transient="true" />
  

  <meta name="selected-link" value="repo_source" data-turbo-transient>
  <link rel="assets" href="https://github.githubassets.com/">

    <meta name="google-site-verification" content="Apib7-x98H0j5cPqHWwSMm6dNU4GmODRoqxLiDzdx9I">

<meta name="octolytics-url" content="https://collector.github.com/github/collect" /><meta name="octolytics-actor-id" content="193381862" /><meta name="octolytics-actor-login" content="Dong-Den" /><meta name="octolytics-actor-hash" content="8aaa9abcce8887b2d96d24760913625978562b17fbf58d931b3ea2a6a6802bda" />

  <meta name="analytics-location" content="/&lt;user-name&gt;/&lt;repo-name&gt;/blob/show" data-turbo-transient="true" />

  




    <meta name="user-login" content="Dong-Den">

  <link rel="sudo-modal" href="/sessions/sudo_modal">

    <meta name="viewport" content="width=device-width">

    

      <meta name="description" content="Contribute to Dong-Den/AIO-2025_Pre development by creating an account on GitHub.">

      <link rel="search" type="application/opensearchdescription+xml" href="/opensearch.xml" title="GitHub">

    <link rel="fluid-icon" href="https://github.com/fluidicon.png" title="GitHub">
    <meta property="fb:app_id" content="1401488693436528">
    <meta name="apple-itunes-app" content="app-id=1477376905, app-argument=https://github.com/Dong-Den/AIO-2025_Pre/blob/main/WEEK%2016_2025.5.20_KNN_Basic%2C%20Advanced%20Concepts%20and%20Its%20Applications/PRE_WEEK_16_DAY_79_Thu%E1%BA%ADt_To%C3%A1n_K_Nearest_Neighbors_(KNN)_update.ipynb" />

      <meta name="twitter:image" content="https://opengraph.githubassets.com/8cc06f6747aaddb4e50a3328b9043a430d342defce46d504fd9003d48f976eb3/Dong-Den/AIO-2025_Pre" /><meta name="twitter:site" content="@github" /><meta name="twitter:card" content="summary_large_image" /><meta name="twitter:title" content="AIO-2025_Pre/WEEK 16_2025.5.20_KNN_Basic, Advanced Concepts and Its Applications/PRE_WEEK_16_DAY_79_Thuật_Toán_K_Nearest_Neighbors_(KNN)_update.ipynb at main · Dong-Den/AIO-2025_Pre" /><meta name="twitter:description" content="Contribute to Dong-Den/AIO-2025_Pre development by creating an account on GitHub." />
  <meta property="og:image" content="https://opengraph.githubassets.com/8cc06f6747aaddb4e50a3328b9043a430d342defce46d504fd9003d48f976eb3/Dong-Den/AIO-2025_Pre" /><meta property="og:image:alt" content="Contribute to Dong-Den/AIO-2025_Pre development by creating an account on GitHub." /><meta property="og:image:width" content="1200" /><meta property="og:image:height" content="600" /><meta property="og:site_name" content="GitHub" /><meta property="og:type" content="object" /><meta property="og:title" content="AIO-2025_Pre/WEEK 16_2025.5.20_KNN_Basic, Advanced Concepts and Its Applications/PRE_WEEK_16_DAY_79_Thuật_Toán_K_Nearest_Neighbors_(KNN)_update.ipynb at main · Dong-Den/AIO-2025_Pre" /><meta property="og:url" content="https://github.com/Dong-Den/AIO-2025_Pre/blob/main/WEEK%2016_2025.5.20_KNN_Basic%2C%20Advanced%20Concepts%20and%20Its%20Applications/PRE_WEEK_16_DAY_79_Thu%E1%BA%ADt_To%C3%A1n_K_Nearest_Neighbors_(KNN)_update.ipynb" /><meta property="og:description" content="Contribute to Dong-Den/AIO-2025_Pre development by creating an account on GitHub." />
  


      <link rel="shared-web-socket" href="wss://alive.github.com/_sockets/u/193381862/ws?session=eyJ2IjoiVjMiLCJ1IjoxOTMzODE4NjIsInMiOjE2NTg5OTg3MzEsImMiOjUzMTAyMDA4MiwidCI6MTc0ODQ3NDA2MH0=--8aee8dbcf5efba28557bd040a6d78fa7ff60a627d5eb72231b1206ceaae799ae" data-refresh-url="/_alive" data-session-id="7028924f4a6293def217d73941f92d27325b1e723fc3ee3e4b35c092690c9881">
      <link rel="shared-web-socket-src" href="/assets-cdn/worker/socket-worker-eff89a71ae86.js">


      <meta name="hostname" content="github.com">


      <meta name="keyboard-shortcuts-preference" content="all">
      <meta name="hovercards-preference" content="true">
      <meta name="announcement-preference-hovercard" content="true">

        <meta name="expected-hostname" content="github.com">


  <meta http-equiv="x-pjax-version" content="6ffafa4e129620f614b70524b0a7c4666672120865698c910c2eb1c94e6f8a0f" data-turbo-track="reload">
  <meta http-equiv="x-pjax-csp-version" content="352e51c42d5f5727a7c545752bf34d1f83f40219e7036c6959817149a51651bc" data-turbo-track="reload">
  <meta http-equiv="x-pjax-css-version" content="ee84fa10cb7e36cae6e9f53cb342e1b208ed62875f38eb2355b39e91d12812fc" data-turbo-track="reload">
  <meta http-equiv="x-pjax-js-version" content="3d9a4d82a0b3c4909df52d72f9c4b3e6e872b55b63dccd12f2f5ac8dff06ab22" data-turbo-track="reload">

  <meta name="turbo-cache-control" content="no-preview" data-turbo-transient="">

      <meta name="turbo-cache-control" content="no-cache" data-turbo-transient>

    <meta data-hydrostats="publish">
  <meta name="go-import" content="github.com/Dong-Den/AIO-2025_Pre git https://github.com/Dong-Den/AIO-2025_Pre.git">

  <meta name="octolytics-dimension-user_id" content="193381862" /><meta name="octolytics-dimension-user_login" content="Dong-Den" /><meta name="octolytics-dimension-repository_id" content="976489619" /><meta name="octolytics-dimension-repository_nwo" content="Dong-Den/AIO-2025_Pre" /><meta name="octolytics-dimension-repository_public" content="true" /><meta name="octolytics-dimension-repository_is_fork" content="false" /><meta name="octolytics-dimension-repository_network_root_id" content="976489619" /><meta name="octolytics-dimension-repository_network_root_nwo" content="Dong-Den/AIO-2025_Pre" />



    

    <meta name="turbo-body-classes" content="logged-in env-production page-responsive">


  <meta name="browser-stats-url" content="https://api.github.com/_private/browser/stats">

  <meta name="browser-errors-url" content="https://api.github.com/_private/browser/errors">

  <meta name="release" content="8e26a47a0fa95bd072b9e82d3a5fb59cea35807e">

  <link rel="mask-icon" href="https://github.githubassets.com/assets/pinned-octocat-093da3e6fa40.svg" color="#000000">
  <link rel="alternate icon" class="js-site-favicon" type="image/png" href="https://github.githubassets.com/favicons/favicon.png">
  <link rel="icon" class="js-site-favicon" type="image/svg+xml" href="https://github.githubassets.com/favicons/favicon.svg" data-base-href="https://github.githubassets.com/favicons/favicon">

<meta name="theme-color" content="#1e2327">
<meta name="color-scheme" content="light dark" />


  <link rel="manifest" href="/manifest.json" crossOrigin="use-credentials">

  </head>

  <body class="logged-in env-production page-responsive" style="word-wrap: break-word;">
    <div data-turbo-body class="logged-in env-production page-responsive" style="word-wrap: break-word;">
      



    <div class="position-relative header-wrapper js-header-wrapper ">
      <a href="#start-of-content" data-skip-target-assigned="false" class="p-3 color-bg-accent-emphasis color-fg-on-emphasis show-on-focus js-skip-to-content">Skip to content</a>

      <span data-view-component="true" class="progress-pjax-loader Progress position-fixed width-full">
    <span style="width: 0%;" data-view-component="true" class="Progress-item progress-pjax-loader-bar left-0 top-0 color-bg-accent-emphasis"></span>
</span>      
      
      <script crossorigin="anonymous" defer="defer" type="application/javascript" src="https://github.githubassets.com/assets/ui_packages_ui-commands_ui-commands_ts-392f523dd6f6.js"></script>
<script crossorigin="anonymous" defer="defer" type="application/javascript" src="https://github.githubassets.com/assets/keyboard-shortcuts-dialog-481f18f97e80.js"></script>
<link crossorigin="anonymous" media="all" rel="stylesheet" href="https://github.githubassets.com/assets/primer-react.247007205a629ae606a1.module.css" />
<link crossorigin="anonymous" media="all" rel="stylesheet" href="https://github.githubassets.com/assets/keyboard-shortcuts-dialog.47de85e2c17af43cefd5.module.css" />

<react-partial
  partial-name="keyboard-shortcuts-dialog"
  data-ssr="false"
  data-attempted-ssr="false"
>
  
  <script type="application/json" data-target="react-partial.embeddedData">{"props":{"docsUrl":"https://docs.github.com/get-started/accessibility/keyboard-shortcuts"}}</script>
  <div data-target="react-partial.reactRoot"></div>
</react-partial>




      

          

              <header class="AppHeader" role="banner">
  <h2 class="sr-only">Navigation Menu</h2>


    

    <div class="AppHeader-globalBar pb-2 js-global-bar">
      <div class="AppHeader-globalBar-start">
        <div class="">
            <deferred-side-panel data-url="/_side-panels/global">
  <include-fragment data-target="deferred-side-panel.fragment" data-nonce="v2:d8435c66-441f-ec56-278b-1557f8f93e9a" data-view-component="true">
  
      <button aria-label="Open global navigation menu" data-action="click:deferred-side-panel#loadPanel click:deferred-side-panel#panelOpened" data-show-dialog-id="dialog-37ef859c-63a2-4e83-a65d-9a26b59b9309" id="dialog-show-dialog-37ef859c-63a2-4e83-a65d-9a26b59b9309" type="button" data-view-component="true" class="Button Button--iconOnly Button--secondary Button--medium AppHeader-button p-0 color-fg-muted">  <svg aria-hidden="true" height="16" viewBox="0 0 16 16" version="1.1" width="16" data-view-component="true" class="octicon octicon-three-bars Button-visual">
    <path d="M1 2.75A.75.75 0 0 1 1.75 2h12.5a.75.75 0 0 1 0 1.5H1.75A.75.75 0 0 1 1 2.75Zm0 5A.75.75 0 0 1 1.75 7h12.5a.75.75 0 0 1 0 1.5H1.75A.75.75 0 0 1 1 7.75ZM1.75 12h12.5a.75.75 0 0 1 0 1.5H1.75a.75.75 0 0 1 0-1.5Z"></path>
</svg>
</button>

<dialog-helper>
  <dialog data-target="deferred-side-panel.panel" id="dialog-37ef859c-63a2-4e83-a65d-9a26b59b9309" aria-modal="true" aria-labelledby="dialog-37ef859c-63a2-4e83-a65d-9a26b59b9309-title" aria-describedby="dialog-37ef859c-63a2-4e83-a65d-9a26b59b9309-description" data-view-component="true" class="Overlay Overlay-whenNarrow Overlay--size-small-portrait Overlay--motion-scaleFade Overlay--placement-left SidePanel Overlay--disableScroll">
    <div styles="flex-direction: row;" data-view-component="true" class="Overlay-header">
  <div class="Overlay-headerContentWrap">
    <div class="Overlay-titleWrap">
      <h1 class="Overlay-title sr-only" id="dialog-37ef859c-63a2-4e83-a65d-9a26b59b9309-title">
        Global navigation
      </h1>
            <div data-view-component="true" class="d-flex">
      <div data-view-component="true" class="AppHeader-logo position-relative">
        <svg aria-hidden="true" height="24" viewBox="0 0 24 24" version="1.1" width="24" data-view-component="true" class="octicon octicon-mark-github">
    <path d="M12 1C5.9225 1 1 5.9225 1 12C1 16.8675 4.14875 20.9787 8.52125 22.4362C9.07125 22.5325 9.2775 22.2025 9.2775 21.9137C9.2775 21.6525 9.26375 20.7862 9.26375 19.865C6.5 20.3737 5.785 19.1912 5.565 18.5725C5.44125 18.2562 4.905 17.28 4.4375 17.0187C4.0525 16.8125 3.5025 16.3037 4.42375 16.29C5.29 16.2762 5.90875 17.0875 6.115 17.4175C7.105 19.0812 8.68625 18.6137 9.31875 18.325C9.415 17.61 9.70375 17.1287 10.02 16.8537C7.5725 16.5787 5.015 15.63 5.015 11.4225C5.015 10.2262 5.44125 9.23625 6.1425 8.46625C6.0325 8.19125 5.6475 7.06375 6.2525 5.55125C6.2525 5.55125 7.17375 5.2625 9.2775 6.67875C10.1575 6.43125 11.0925 6.3075 12.0275 6.3075C12.9625 6.3075 13.8975 6.43125 14.7775 6.67875C16.8813 5.24875 17.8025 5.55125 17.8025 5.55125C18.4075 7.06375 18.0225 8.19125 17.9125 8.46625C18.6138 9.23625 19.04 10.2125 19.04 11.4225C19.04 15.6437 16.4688 16.5787 14.0213 16.8537C14.42 17.1975 14.7638 17.8575 14.7638 18.8887C14.7638 20.36 14.75 21.5425 14.75 21.9137C14.75 22.2025 14.9563 22.5462 15.5063 22.4362C19.8513 20.9787 23 16.8537 23 12C23 5.9225 18.0775 1 12 1Z"></path>
</svg>
</div></div>
    </div>
    <div class="Overlay-actionWrap">
      <button data-close-dialog-id="dialog-37ef859c-63a2-4e83-a65d-9a26b59b9309" aria-label="Close" aria-label="Close" type="button" data-view-component="true" class="close-button Overlay-closeButton"><svg aria-hidden="true" height="16" viewBox="0 0 16 16" version="1.1" width="16" data-view-component="true" class="octicon octicon-x">
    <path d="M3.72 3.72a.75.75 0 0 1 1.06 0L8 6.94l3.22-3.22a.749.749 0 0 1 1.275.326.749.749 0 0 1-.215.734L9.06 8l3.22 3.22a.749.749 0 0 1-.326 1.275.749.749 0 0 1-.734-.215L8 9.06l-3.22 3.22a.751.751 0 0 1-1.042-.018.751.751 0 0 1-.018-1.042L6.94 8 3.72 4.78a.75.75 0 0 1 0-1.06Z"></path>
</svg></button>
    </div>
  </div>
  
</div>
      <scrollable-region data-labelled-by="dialog-37ef859c-63a2-4e83-a65d-9a26b59b9309-title">
        <div data-view-component="true" class="Overlay-body d-flex flex-column px-2">    <div data-view-component="true" class="d-flex flex-column mb-3">
        <nav aria-label="Site navigation" data-view-component="true" class="ActionList">
  
  <nav-list>
    <ul data-target="nav-list.topLevelList" data-view-component="true" class="ActionListWrap">
        
          
<li data-item-id="" data-targets="nav-list.items" data-view-component="true" class="ActionListItem">
    
    
    <a data-hotkey="g d" data-analytics-event="{&quot;category&quot;:&quot;Global navigation&quot;,&quot;action&quot;:&quot;HOME&quot;,&quot;label&quot;:null}" id="item-8362cc79-8895-4f6a-a2a4-995a36a614dd" href="/dashboard" data-view-component="true" class="ActionListContent ActionListContent--visual16">
        <span class="ActionListItem-visual ActionListItem-visual--leading">
          <svg aria-hidden="true" height="16" viewBox="0 0 16 16" version="1.1" width="16" data-view-component="true" class="octicon octicon-home">
    <path d="M6.906.664a1.749 1.749 0 0 1 2.187 0l5.25 4.2c.415.332.657.835.657 1.367v7.019A1.75 1.75 0 0 1 13.25 15h-3.5a.75.75 0 0 1-.75-.75V9H7v5.25a.75.75 0 0 1-.75.75h-3.5A1.75 1.75 0 0 1 1 13.25V6.23c0-.531.242-1.034.657-1.366l5.25-4.2Zm1.25 1.171a.25.25 0 0 0-.312 0l-5.25 4.2a.25.25 0 0 0-.094.196v7.019c0 .138.112.25.25.25H5.5V8.25a.75.75 0 0 1 .75-.75h3.5a.75.75 0 0 1 .75.75v5.25h2.75a.25.25 0 0 0 .25-.25V6.23a.25.25 0 0 0-.094-.195Z"></path>
</svg>
        </span>
      
        <span data-view-component="true" class="ActionListItem-label">
          Home
</span>      
</a>
  
</li>

        
          
<li data-item-id="" data-targets="nav-list.items" data-view-component="true" class="ActionListItem">
    
    
    <a data-hotkey="g i" data-analytics-event="{&quot;category&quot;:&quot;Global navigation&quot;,&quot;action&quot;:&quot;ISSUES&quot;,&quot;label&quot;:null}" id="item-87eb5dd4-895c-412a-b830-eb9729946310" href="/issues" data-view-component="true" class="ActionListContent ActionListContent--visual16">
        <span class="ActionListItem-visual ActionListItem-visual--leading">
          <svg aria-hidden="true" height="16" viewBox="0 0 16 16" version="1.1" width="16" data-view-component="true" class="octicon octicon-issue-opened">
    <path d="M8 9.5a1.5 1.5 0 1 0 0-3 1.5 1.5 0 0 0 0 3Z"></path><path d="M8 0a8 8 0 1 1 0 16A8 8 0 0 1 8 0ZM1.5 8a6.5 6.5 0 1 0 13 0 6.5 6.5 0 0 0-13 0Z"></path>
</svg>
        </span>
      
        <span data-view-component="true" class="ActionListItem-label">
          Issues
</span>      
</a>
  
</li>

        
          
<li data-item-id="" data-targets="nav-list.items" data-view-component="true" class="ActionListItem">
    
    
    <a data-hotkey="g p" data-analytics-event="{&quot;category&quot;:&quot;Global navigation&quot;,&quot;action&quot;:&quot;PULL_REQUESTS&quot;,&quot;label&quot;:null}" id="item-ee831dd5-8346-4397-8a5c-4eb66cbe5c97" href="/pulls" data-view-component="true" class="ActionListContent ActionListContent--visual16">
        <span class="ActionListItem-visual ActionListItem-visual--leading">
          <svg aria-hidden="true" height="16" viewBox="0 0 16 16" version="1.1" width="16" data-view-component="true" class="octicon octicon-git-pull-request">
    <path d="M1.5 3.25a2.25 2.25 0 1 1 3 2.122v5.256a2.251 2.251 0 1 1-1.5 0V5.372A2.25 2.25 0 0 1 1.5 3.25Zm5.677-.177L9.573.677A.25.25 0 0 1 10 .854V2.5h1A2.5 2.5 0 0 1 13.5 5v5.628a2.251 2.251 0 1 1-1.5 0V5a1 1 0 0 0-1-1h-1v1.646a.25.25 0 0 1-.427.177L7.177 3.427a.25.25 0 0 1 0-.354ZM3.75 2.5a.75.75 0 1 0 0 1.5.75.75 0 0 0 0-1.5Zm0 9.5a.75.75 0 1 0 0 1.5.75.75 0 0 0 0-1.5Zm8.25.75a.75.75 0 1 0 1.5 0 .75.75 0 0 0-1.5 0Z"></path>
</svg>
        </span>
      
        <span data-view-component="true" class="ActionListItem-label">
          Pull requests
</span>      
</a>
  
</li>

        
          
<li data-item-id="" data-targets="nav-list.items" data-item-id="projects" data-view-component="true" class="ActionListItem">
    
    
    <a data-analytics-event="{&quot;category&quot;:&quot;Global navigation&quot;,&quot;action&quot;:&quot;PROJECTS&quot;,&quot;label&quot;:null}" id="item-f3c64976-d60c-4b3d-9b8d-00910f00f2a0" href="/projects" data-view-component="true" class="ActionListContent ActionListContent--visual16">
        <span class="ActionListItem-visual ActionListItem-visual--leading">
          <svg aria-hidden="true" height="16" viewBox="0 0 16 16" version="1.1" width="16" data-view-component="true" class="octicon octicon-table">
    <path d="M0 1.75C0 .784.784 0 1.75 0h12.5C15.216 0 16 .784 16 1.75v12.5A1.75 1.75 0 0 1 14.25 16H1.75A1.75 1.75 0 0 1 0 14.25ZM6.5 6.5v8h7.75a.25.25 0 0 0 .25-.25V6.5Zm8-1.5V1.75a.25.25 0 0 0-.25-.25H6.5V5Zm-13 1.5v7.75c0 .138.112.25.25.25H5v-8ZM5 5V1.5H1.75a.25.25 0 0 0-.25.25V5Z"></path>
</svg>
        </span>
      
        <span data-view-component="true" class="ActionListItem-label">
          Projects
</span>      
</a>
  
</li>

        
          
<li data-item-id="" data-targets="nav-list.items" data-view-component="true" class="ActionListItem">
    
    
    <a data-analytics-event="{&quot;category&quot;:&quot;Global navigation&quot;,&quot;action&quot;:&quot;DISCUSSIONS&quot;,&quot;label&quot;:null}" id="item-ae6f80c6-069e-4139-8b41-b4af3fd4f658" href="/discussions" data-view-component="true" class="ActionListContent ActionListContent--visual16">
        <span class="ActionListItem-visual ActionListItem-visual--leading">
          <svg aria-hidden="true" height="16" viewBox="0 0 16 16" version="1.1" width="16" data-view-component="true" class="octicon octicon-comment-discussion">
    <path d="M1.75 1h8.5c.966 0 1.75.784 1.75 1.75v5.5A1.75 1.75 0 0 1 10.25 10H7.061l-2.574 2.573A1.458 1.458 0 0 1 2 11.543V10h-.25A1.75 1.75 0 0 1 0 8.25v-5.5C0 1.784.784 1 1.75 1ZM1.5 2.75v5.5c0 .138.112.25.25.25h1a.75.75 0 0 1 .75.75v2.19l2.72-2.72a.749.749 0 0 1 .53-.22h3.5a.25.25 0 0 0 .25-.25v-5.5a.25.25 0 0 0-.25-.25h-8.5a.25.25 0 0 0-.25.25Zm13 2a.25.25 0 0 0-.25-.25h-.5a.75.75 0 0 1 0-1.5h.5c.966 0 1.75.784 1.75 1.75v5.5A1.75 1.75 0 0 1 14.25 12H14v1.543a1.458 1.458 0 0 1-2.487 1.03L9.22 12.28a.749.749 0 0 1 .326-1.275.749.749 0 0 1 .734.215l2.22 2.22v-2.19a.75.75 0 0 1 .75-.75h1a.25.25 0 0 0 .25-.25Z"></path>
</svg>
        </span>
      
        <span data-view-component="true" class="ActionListItem-label">
          Discussions
</span>      
</a>
  
</li>

        
          
<li data-item-id="" data-targets="nav-list.items" data-view-component="true" class="ActionListItem">
    
    
    <a data-analytics-event="{&quot;category&quot;:&quot;Global navigation&quot;,&quot;action&quot;:&quot;CODESPACES&quot;,&quot;label&quot;:null}" id="item-6a5b6103-fadf-4a38-a916-8d8182e8a024" href="https://github.com/codespaces" data-view-component="true" class="ActionListContent ActionListContent--visual16">
        <span class="ActionListItem-visual ActionListItem-visual--leading">
          <svg aria-hidden="true" height="16" viewBox="0 0 16 16" version="1.1" width="16" data-view-component="true" class="octicon octicon-codespaces">
    <path d="M0 11.25c0-.966.784-1.75 1.75-1.75h12.5c.966 0 1.75.784 1.75 1.75v3A1.75 1.75 0 0 1 14.25 16H1.75A1.75 1.75 0 0 1 0 14.25Zm2-9.5C2 .784 2.784 0 3.75 0h8.5C13.216 0 14 .784 14 1.75v5a1.75 1.75 0 0 1-1.75 1.75h-8.5A1.75 1.75 0 0 1 2 6.75Zm1.75-.25a.25.25 0 0 0-.25.25v5c0 .138.112.25.25.25h8.5a.25.25 0 0 0 .25-.25v-5a.25.25 0 0 0-.25-.25Zm-2 9.5a.25.25 0 0 0-.25.25v3c0 .138.112.25.25.25h12.5a.25.25 0 0 0 .25-.25v-3a.25.25 0 0 0-.25-.25Z"></path><path d="M7 12.75a.75.75 0 0 1 .75-.75h4.5a.75.75 0 0 1 0 1.5h-4.5a.75.75 0 0 1-.75-.75Zm-4 0a.75.75 0 0 1 .75-.75h.5a.75.75 0 0 1 0 1.5h-.5a.75.75 0 0 1-.75-.75Z"></path>
</svg>
        </span>
      
        <span data-view-component="true" class="ActionListItem-label">
          Codespaces
</span>      
</a>
  
</li>

        
          
<li data-item-id="" data-targets="nav-list.items" data-view-component="true" class="ActionListItem">
    
    
    <a data-analytics-event="{&quot;category&quot;:&quot;Global navigation&quot;,&quot;action&quot;:&quot;COPILOT&quot;,&quot;label&quot;:null}" id="item-9055b04e-0285-472d-8885-20f66a533c9c" href="/copilot" data-view-component="true" class="ActionListContent ActionListContent--visual16">
        <span class="ActionListItem-visual ActionListItem-visual--leading">
          <svg aria-hidden="true" height="16" viewBox="0 0 16 16" version="1.1" width="16" data-view-component="true" class="octicon octicon-copilot">
    <path d="M7.998 15.035c-4.562 0-7.873-2.914-7.998-3.749V9.338c.085-.628.677-1.686 1.588-2.065.013-.07.024-.143.036-.218.029-.183.06-.384.126-.612-.201-.508-.254-1.084-.254-1.656 0-.87.128-1.769.693-2.484.579-.733 1.494-1.124 2.724-1.261 1.206-.134 2.262.034 2.944.765.05.053.096.108.139.165.044-.057.094-.112.143-.165.682-.731 1.738-.899 2.944-.765 1.23.137 2.145.528 2.724 1.261.566.715.693 1.614.693 2.484 0 .572-.053 1.148-.254 1.656.066.228.098.429.126.612.012.076.024.148.037.218.924.385 1.522 1.471 1.591 2.095v1.872c0 .766-3.351 3.795-8.002 3.795Zm0-1.485c2.28 0 4.584-1.11 5.002-1.433V7.862l-.023-.116c-.49.21-1.075.291-1.727.291-1.146 0-2.059-.327-2.71-.991A3.222 3.222 0 0 1 8 6.303a3.24 3.24 0 0 1-.544.743c-.65.664-1.563.991-2.71.991-.652 0-1.236-.081-1.727-.291l-.023.116v4.255c.419.323 2.722 1.433 5.002 1.433ZM6.762 2.83c-.193-.206-.637-.413-1.682-.297-1.019.113-1.479.404-1.713.7-.247.312-.369.789-.369 1.554 0 .793.129 1.171.308 1.371.162.181.519.379 1.442.379.853 0 1.339-.235 1.638-.54.315-.322.527-.827.617-1.553.117-.935-.037-1.395-.241-1.614Zm4.155-.297c-1.044-.116-1.488.091-1.681.297-.204.219-.359.679-.242 1.614.091.726.303 1.231.618 1.553.299.305.784.54 1.638.54.922 0 1.28-.198 1.442-.379.179-.2.308-.578.308-1.371 0-.765-.123-1.242-.37-1.554-.233-.296-.693-.587-1.713-.7Z"></path><path d="M6.25 9.037a.75.75 0 0 1 .75.75v1.501a.75.75 0 0 1-1.5 0V9.787a.75.75 0 0 1 .75-.75Zm4.25.75v1.501a.75.75 0 0 1-1.5 0V9.787a.75.75 0 0 1 1.5 0Z"></path>
</svg>
        </span>
      
        <span data-view-component="true" class="ActionListItem-label">
          Copilot
</span>      
</a>
  
</li>

        
          <li role="presentation" aria-hidden="true" data-view-component="true" class="ActionList-sectionDivider"></li>
        
          
<li data-item-id="" data-targets="nav-list.items" data-view-component="true" class="ActionListItem">
    
    
    <a data-analytics-event="{&quot;category&quot;:&quot;Global navigation&quot;,&quot;action&quot;:&quot;EXPLORE&quot;,&quot;label&quot;:null}" id="item-121c40bb-b835-448c-af8f-25bc1cced83e" href="/explore" data-view-component="true" class="ActionListContent ActionListContent--visual16">
        <span class="ActionListItem-visual ActionListItem-visual--leading">
          <svg aria-hidden="true" height="16" viewBox="0 0 16 16" version="1.1" width="16" data-view-component="true" class="octicon octicon-telescope">
    <path d="M14.184 1.143v-.001l1.422 2.464a1.75 1.75 0 0 1-.757 2.451L3.104 11.713a1.75 1.75 0 0 1-2.275-.702l-.447-.775a1.75 1.75 0 0 1 .53-2.32L11.682.573a1.748 1.748 0 0 1 2.502.57Zm-4.709 9.32h-.001l2.644 3.863a.75.75 0 1 1-1.238.848l-1.881-2.75v2.826a.75.75 0 0 1-1.5 0v-2.826l-1.881 2.75a.75.75 0 1 1-1.238-.848l2.049-2.992a.746.746 0 0 1 .293-.253l1.809-.87a.749.749 0 0 1 .944.252ZM9.436 3.92h-.001l-4.97 3.39.942 1.63 5.42-2.61Zm3.091-2.108h.001l-1.85 1.26 1.505 2.605 2.016-.97a.247.247 0 0 0 .13-.151.247.247 0 0 0-.022-.199l-1.422-2.464a.253.253 0 0 0-.161-.119.254.254 0 0 0-.197.038ZM1.756 9.157a.25.25 0 0 0-.075.33l.447.775a.25.25 0 0 0 .325.1l1.598-.769-.83-1.436-1.465 1Z"></path>
</svg>
        </span>
      
        <span data-view-component="true" class="ActionListItem-label">
          Explore
</span>      
</a>
  
</li>

        
          
<li data-item-id="" data-targets="nav-list.items" data-view-component="true" class="ActionListItem">
    
    
    <a data-analytics-event="{&quot;category&quot;:&quot;Global navigation&quot;,&quot;action&quot;:&quot;MARKETPLACE&quot;,&quot;label&quot;:null}" id="item-f18d9dc5-18ee-431d-85cb-efc4f2678f4b" href="/marketplace" data-view-component="true" class="ActionListContent ActionListContent--visual16">
        <span class="ActionListItem-visual ActionListItem-visual--leading">
          <svg aria-hidden="true" height="16" viewBox="0 0 16 16" version="1.1" width="16" data-view-component="true" class="octicon octicon-gift">
    <path d="M2 2.75A2.75 2.75 0 0 1 4.75 0c.983 0 1.873.42 2.57 1.232.268.318.497.668.68 1.042.183-.375.411-.725.68-1.044C9.376.42 10.266 0 11.25 0a2.75 2.75 0 0 1 2.45 4h.55c.966 0 1.75.784 1.75 1.75v2c0 .698-.409 1.301-1 1.582v4.918A1.75 1.75 0 0 1 13.25 16H2.75A1.75 1.75 0 0 1 1 14.25V9.332C.409 9.05 0 8.448 0 7.75v-2C0 4.784.784 4 1.75 4h.55c-.192-.375-.3-.8-.3-1.25ZM7.25 9.5H2.5v4.75c0 .138.112.25.25.25h4.5Zm1.5 0v5h4.5a.25.25 0 0 0 .25-.25V9.5Zm0-4V8h5.5a.25.25 0 0 0 .25-.25v-2a.25.25 0 0 0-.25-.25Zm-7 0a.25.25 0 0 0-.25.25v2c0 .138.112.25.25.25h5.5V5.5h-5.5Zm3-4a1.25 1.25 0 0 0 0 2.5h2.309c-.233-.818-.542-1.401-.878-1.793-.43-.502-.915-.707-1.431-.707ZM8.941 4h2.309a1.25 1.25 0 0 0 0-2.5c-.516 0-1 .205-1.43.707-.337.392-.646.975-.879 1.793Z"></path>
</svg>
        </span>
      
        <span data-view-component="true" class="ActionListItem-label">
          Marketplace
</span>      
</a>
  
</li>

</ul>  </nav-list>
</nav>

        <div data-view-component="true" class="my-3 d-flex flex-justify-center height-full">
          <span data-view-component="true">
  <svg style="box-sizing: content-box; color: var(--color-icon-primary);" width="16" height="16" viewBox="0 0 16 16" fill="none" aria-hidden="true" data-view-component="true" class="anim-rotate">
    <circle cx="8" cy="8" r="7" stroke="currentColor" stroke-opacity="0.25" stroke-width="2" vector-effect="non-scaling-stroke" fill="none" />
    <path d="M15 8a7.002 7.002 0 00-7-7" stroke="currentColor" stroke-width="2" stroke-linecap="round" vector-effect="non-scaling-stroke" />
</svg>    <span class="sr-only">Loading</span>
</span>
</div>
</div>
      <div data-view-component="true" class="flex-1"></div>


      <div data-view-component="true" class="px-2">      <p class="color-fg-subtle text-small text-light">&copy; 2025 GitHub, Inc.</p>

      <div data-view-component="true" class="d-flex flex-wrap text-small text-light">
          <a target="_blank" href="https://github.com/about" data-view-component="true" class="Link mr-2">About</a>
          <a target="_blank" href="https://github.blog" data-view-component="true" class="Link mr-2">Blog</a>
          <a target="_blank" href="https://docs.github.com/site-policy/github-terms/github-terms-of-service" data-view-component="true" class="Link mr-2">Terms</a>
          <a target="_blank" href="https://docs.github.com/site-policy/privacy-policies/github-privacy-statement" data-view-component="true" class="Link mr-2">Privacy</a>
          <a target="_blank" href="https://github.com/security" data-view-component="true" class="Link mr-2">Security</a>
          <a target="_blank" href="https://www.githubstatus.com/" data-view-component="true" class="Link mr-3">Status</a>

</div></div>
</div>
      </scrollable-region>
      
</dialog></dialog-helper>


  <div data-show-on-forbidden-error hidden>
    <div class="Box">
  <div class="blankslate-container">
    <div data-view-component="true" class="blankslate blankslate-spacious color-bg-default rounded-2">
      

      <h3 data-view-component="true" class="blankslate-heading">        Uh oh!
</h3>
      <p data-view-component="true">        <p class="color-fg-muted my-2 mb-2 ws-normal">There was an error while loading. <a class="Link--inTextBlock" data-turbo="false" href="" aria-label="Please reload this page">Please reload this page</a>.</p>
</p>

</div>  </div>
</div>  </div>
</include-fragment></deferred-side-panel>
        </div>

        <a class="AppHeader-logo ml-1 "
          href="https://github.com/"
          data-hotkey="g d"
          aria-label="Homepage "
          data-turbo="false"
          data-analytics-event="{&quot;category&quot;:&quot;Header&quot;,&quot;action&quot;:&quot;go to dashboard&quot;,&quot;label&quot;:&quot;icon:logo&quot;}"
        >
          <svg height="32" aria-hidden="true" viewBox="0 0 24 24" version="1.1" width="32" data-view-component="true" class="octicon octicon-mark-github v-align-middle">
    <path d="M12 1C5.9225 1 1 5.9225 1 12C1 16.8675 4.14875 20.9787 8.52125 22.4362C9.07125 22.5325 9.2775 22.2025 9.2775 21.9137C9.2775 21.6525 9.26375 20.7862 9.26375 19.865C6.5 20.3737 5.785 19.1912 5.565 18.5725C5.44125 18.2562 4.905 17.28 4.4375 17.0187C4.0525 16.8125 3.5025 16.3037 4.42375 16.29C5.29 16.2762 5.90875 17.0875 6.115 17.4175C7.105 19.0812 8.68625 18.6137 9.31875 18.325C9.415 17.61 9.70375 17.1287 10.02 16.8537C7.5725 16.5787 5.015 15.63 5.015 11.4225C5.015 10.2262 5.44125 9.23625 6.1425 8.46625C6.0325 8.19125 5.6475 7.06375 6.2525 5.55125C6.2525 5.55125 7.17375 5.2625 9.2775 6.67875C10.1575 6.43125 11.0925 6.3075 12.0275 6.3075C12.9625 6.3075 13.8975 6.43125 14.7775 6.67875C16.8813 5.24875 17.8025 5.55125 17.8025 5.55125C18.4075 7.06375 18.0225 8.19125 17.9125 8.46625C18.6138 9.23625 19.04 10.2125 19.04 11.4225C19.04 15.6437 16.4688 16.5787 14.0213 16.8537C14.42 17.1975 14.7638 17.8575 14.7638 18.8887C14.7638 20.36 14.75 21.5425 14.75 21.9137C14.75 22.2025 14.9563 22.5462 15.5063 22.4362C19.8513 20.9787 23 16.8537 23 12C23 5.9225 18.0775 1 12 1Z"></path>
</svg>
        </a>

          <context-region-controller
  class="AppHeader-context "
  
  
  
>
    <div class="AppHeader-context-compact" data-target="context-region-controller.compactContainer">
        <button aria-expanded="false" aria-haspopup="dialog" aria-label="Page context: Dong-Den / AIO-2025_Pre" data-target="context-region-controller.compactContextRegion" data-show-dialog-id="context-region-dialog" id="dialog-show-context-region-dialog" type="button" data-view-component="true" class="AppHeader-context-compact-trigger Truncate Button--secondary Button--medium Button box-shadow-none">  <span class="Button-content">
    <span class="Button-label"><span class="AppHeader-context-compact-lead">
            <span class="AppHeader-context-compact-parentItem">Dong-Den</span>

            <span class="no-wrap">&nbsp;/</span>

        </span>

        <strong class="AppHeader-context-compact-mainItem d-flex flex-items-center Truncate" >
  <span class="Truncate-text ">AIO-2025_Pre</span>

</strong></span>
  </span>
</button>

<dialog-helper>
  <dialog id="context-region-dialog" aria-modal="true" aria-labelledby="context-region-dialog-title" aria-describedby="context-region-dialog-description" data-view-component="true" class="Overlay Overlay-whenNarrow Overlay--size-medium Overlay--motion-scaleFade Overlay--disableScroll">
    <div data-view-component="true" class="Overlay-header">
  <div class="Overlay-headerContentWrap">
    <div class="Overlay-titleWrap">
      <h1 class="Overlay-title " id="context-region-dialog-title">
        Navigate back to
      </h1>
        
    </div>
    <div class="Overlay-actionWrap">
      <button data-close-dialog-id="context-region-dialog" aria-label="Close" aria-label="Close" type="button" data-view-component="true" class="close-button Overlay-closeButton"><svg aria-hidden="true" height="16" viewBox="0 0 16 16" version="1.1" width="16" data-view-component="true" class="octicon octicon-x">
    <path d="M3.72 3.72a.75.75 0 0 1 1.06 0L8 6.94l3.22-3.22a.749.749 0 0 1 1.275.326.749.749 0 0 1-.215.734L9.06 8l3.22 3.22a.749.749 0 0 1-.326 1.275.749.749 0 0 1-.734-.215L8 9.06l-3.22 3.22a.751.751 0 0 1-1.042-.018.751.751 0 0 1-.018-1.042L6.94 8 3.72 4.78a.75.75 0 0 1 0-1.06Z"></path>
</svg></button>
    </div>
  </div>
  
</div>
      <scrollable-region data-labelled-by="context-region-dialog-title">
        <div data-view-component="true" class="Overlay-body">      <ul role="list" class="list-style-none" >
    <li>
      <a data-analytics-event="{&quot;category&quot;:&quot;SiteHeaderComponent&quot;,&quot;action&quot;:&quot;context_region_crumb&quot;,&quot;label&quot;:&quot;Dong-Den&quot;,&quot;screen_size&quot;:&quot;compact&quot;}" href="/Dong-Den" data-view-component="true" class="Link--primary Truncate d-flex flex-items-center py-1">
        <span class="AppHeader-context-item-label Truncate-text ">
            <svg aria-hidden="true" height="12" viewBox="0 0 16 16" version="1.1" width="12" data-view-component="true" class="octicon octicon-person mr-1">
    <path d="M10.561 8.073a6.005 6.005 0 0 1 3.432 5.142.75.75 0 1 1-1.498.07 4.5 4.5 0 0 0-8.99 0 .75.75 0 0 1-1.498-.07 6.004 6.004 0 0 1 3.431-5.142 3.999 3.999 0 1 1 5.123 0ZM10.5 5a2.5 2.5 0 1 0-5 0 2.5 2.5 0 0 0 5 0Z"></path>
</svg>

          Dong-Den
        </span>

</a>
    </li>
    <li>
      <a data-analytics-event="{&quot;category&quot;:&quot;SiteHeaderComponent&quot;,&quot;action&quot;:&quot;context_region_crumb&quot;,&quot;label&quot;:&quot;AIO-2025_Pre&quot;,&quot;screen_size&quot;:&quot;compact&quot;}" href="/Dong-Den/AIO-2025_Pre" data-view-component="true" class="Link--primary Truncate d-flex flex-items-center py-1">
        <span class="AppHeader-context-item-label Truncate-text ">
            <svg aria-hidden="true" height="12" viewBox="0 0 16 16" version="1.1" width="12" data-view-component="true" class="octicon octicon-repo mr-1">
    <path d="M2 2.5A2.5 2.5 0 0 1 4.5 0h8.75a.75.75 0 0 1 .75.75v12.5a.75.75 0 0 1-.75.75h-2.5a.75.75 0 0 1 0-1.5h1.75v-2h-8a1 1 0 0 0-.714 1.7.75.75 0 1 1-1.072 1.05A2.495 2.495 0 0 1 2 11.5Zm10.5-1h-8a1 1 0 0 0-1 1v6.708A2.486 2.486 0 0 1 4.5 9h8ZM5 12.25a.25.25 0 0 1 .25-.25h3.5a.25.25 0 0 1 .25.25v3.25a.25.25 0 0 1-.4.2l-1.45-1.087a.249.249 0 0 0-.3 0L5.4 15.7a.25.25 0 0 1-.4-.2Z"></path>
</svg>

          AIO-2025_Pre
        </span>

</a>
    </li>
</ul>

</div>
      </scrollable-region>
      
</dialog></dialog-helper>

    </div>

  <div class="AppHeader-context-full">
    <nav role="navigation" aria-label="Page context">
        
<context-region role="list"  data-action="context-region-changed:context-region-controller#crumbsChanged">
    <context-region-crumb
      data-targets="context-region.crumbs"
      data-label="Dong-Den"
      data-href="/Dong-Den"
      data-pre-rendered
      role="listitem"
      
    >
      <a data-analytics-event="{&quot;category&quot;:&quot;SiteHeaderComponent&quot;,&quot;action&quot;:&quot;context_region_crumb&quot;,&quot;label&quot;:&quot;Dong-Den&quot;,&quot;screen_size&quot;:&quot;full&quot;}" data-hovercard-type="user" data-hovercard-url="/users/Dong-Den/hovercard" data-octo-click="hovercard-link-click" data-octo-dimensions="link_type:self" data-target="context-region-crumb.linkElement" href="/Dong-Den" data-view-component="true" class="AppHeader-context-item">
        <span data-target="context-region-crumb.labelElement" class="AppHeader-context-item-label  ">

          Dong-Den
        </span>

</a>
        <context-region-divider data-target="context-region-crumb.dividerElement" data-pre-rendered >
  <span class="AppHeader-context-item-separator">
    <span class="sr-only">/</span>
    <svg width="16" height="16" viewBox="0 0 16 16" xmlns="http://www.w3.org/2000/svg" aria-hidden="true">
      <path d="M10.956 1.27994L6.06418 14.7201L5 14.7201L9.89181 1.27994L10.956 1.27994Z" fill="currentcolor" />
    </svg>
  </span>
</context-region-divider>

    </context-region-crumb>
    <context-region-crumb
      data-targets="context-region.crumbs"
      data-label="AIO-2025_Pre"
      data-href="/Dong-Den/AIO-2025_Pre"
      data-pre-rendered
      role="listitem"
      
    >
      <a data-analytics-event="{&quot;category&quot;:&quot;SiteHeaderComponent&quot;,&quot;action&quot;:&quot;context_region_crumb&quot;,&quot;label&quot;:&quot;AIO-2025_Pre&quot;,&quot;screen_size&quot;:&quot;full&quot;}" data-target="context-region-crumb.linkElement" href="/Dong-Den/AIO-2025_Pre" data-view-component="true" class="AppHeader-context-item">
        <span data-target="context-region-crumb.labelElement" class="AppHeader-context-item-label  ">

          AIO-2025_Pre
        </span>

</a>
        <context-region-divider data-target="context-region-crumb.dividerElement" data-pre-rendered >
  <span class="AppHeader-context-item-separator">
    <span class="sr-only">/</span>
    <svg width="16" height="16" viewBox="0 0 16 16" xmlns="http://www.w3.org/2000/svg" aria-hidden="true">
      <path d="M10.956 1.27994L6.06418 14.7201L5 14.7201L9.89181 1.27994L10.956 1.27994Z" fill="currentcolor" />
    </svg>
  </span>
</context-region-divider>

    </context-region-crumb>
</context-region>

    </nav>
  </div>
</context-region-controller>

      </div>
      <div class="AppHeader-globalBar-end">
          <div class="AppHeader-search" >
              


<qbsearch-input class="search-input" data-scope="repo:Dong-Den/AIO-2025_Pre" data-custom-scopes-path="/search/custom_scopes" data-delete-custom-scopes-csrf="4hW_EfBzpoR_jMHNBGe9OxNq2AIBjqLRVzq5EsbXBPnFnVuq1gskJ36gC_bgwplEtN27bJiE0Hm_MeF-pdUl6w" data-max-custom-scopes="10" data-header-redesign-enabled="true" data-initial-value="" data-blackbird-suggestions-path="/search/suggestions" data-jump-to-suggestions-path="/_graphql/GetSuggestedNavigationDestinations" data-current-repository="Dong-Den/AIO-2025_Pre" data-current-org="" data-current-owner="Dong-Den" data-logged-in="true" data-copilot-chat-enabled="true" data-nl-search-enabled="false">
  <div
    class="search-input-container search-with-dialog position-relative d-flex flex-row flex-items-center height-auto color-bg-transparent border-0 color-fg-subtle mx-0"
    data-action="click:qbsearch-input#searchInputContainerClicked"
  >
      
            <button type="button" data-action="click:qbsearch-input#handleExpand" class="AppHeader-button AppHeader-search-whenNarrow" aria-label="Search or jump to…" aria-expanded="false" aria-haspopup="dialog">
            <svg aria-hidden="true" height="16" viewBox="0 0 16 16" version="1.1" width="16" data-view-component="true" class="octicon octicon-search">
    <path d="M10.68 11.74a6 6 0 0 1-7.922-8.982 6 6 0 0 1 8.982 7.922l3.04 3.04a.749.749 0 0 1-.326 1.275.749.749 0 0 1-.734-.215ZM11.5 7a4.499 4.499 0 1 0-8.997 0A4.499 4.499 0 0 0 11.5 7Z"></path>
</svg>
          </button>


<div class="AppHeader-search-whenRegular">
  <div class="AppHeader-search-wrap AppHeader-search-wrap--hasTrailing">
    <div class="AppHeader-search-control AppHeader-search-control-overflow">
      <label
        for="AppHeader-searchInput"
        aria-label="Search or jump to…"
        class="AppHeader-search-visual--leading"
      >
        <svg aria-hidden="true" height="16" viewBox="0 0 16 16" version="1.1" width="16" data-view-component="true" class="octicon octicon-search">
    <path d="M10.68 11.74a6 6 0 0 1-7.922-8.982 6 6 0 0 1 8.982 7.922l3.04 3.04a.749.749 0 0 1-.326 1.275.749.749 0 0 1-.734-.215ZM11.5 7a4.499 4.499 0 1 0-8.997 0A4.499 4.499 0 0 0 11.5 7Z"></path>
</svg>
      </label>

                <button
            type="button"
            data-target="qbsearch-input.inputButton"
            data-action="click:qbsearch-input#handleExpand"
            class="AppHeader-searchButton form-control input-contrast text-left color-fg-subtle no-wrap"
            data-hotkey="s,/"
            data-analytics-event="{&quot;location&quot;:&quot;navbar&quot;,&quot;action&quot;:&quot;searchbar&quot;,&quot;context&quot;:&quot;global&quot;,&quot;tag&quot;:&quot;input&quot;,&quot;label&quot;:&quot;searchbar_input_global_navbar&quot;}"
            aria-describedby="search-error-message-flash"
          >
            <div class="overflow-hidden">
              <span id="qb-input-query" data-target="qbsearch-input.inputButtonText">
                  Type <kbd class="AppHeader-search-kbd">/</kbd> to search
              </span>
            </div>
          </button>

    </div>


  </div>
</div>

    <input type="hidden" name="type" class="js-site-search-type-field">

    
<div class="Overlay--hidden " data-modal-dialog-overlay>
  <modal-dialog data-action="close:qbsearch-input#handleClose cancel:qbsearch-input#handleClose" data-target="qbsearch-input.searchSuggestionsDialog" role="dialog" id="search-suggestions-dialog" aria-modal="true" aria-labelledby="search-suggestions-dialog-header" data-view-component="true" class="Overlay Overlay--width-medium Overlay--height-auto">
      <h1 id="search-suggestions-dialog-header" class="sr-only">Search code, repositories, users, issues, pull requests...</h1>
    <div class="Overlay-body Overlay-body--paddingNone">
      
          <div data-view-component="true">        <div class="search-suggestions position-absolute width-full color-shadow-large border color-fg-default color-bg-default overflow-hidden d-flex flex-column query-builder-container"
          style="border-radius: 12px;"
          data-target="qbsearch-input.queryBuilderContainer"
          hidden
        >
          <!-- '"` --><!-- </textarea></xmp> --></option></form><form id="query-builder-test-form" action="" accept-charset="UTF-8" method="get">
  <query-builder data-target="qbsearch-input.queryBuilder" id="query-builder-query-builder-test" data-filter-key=":" data-view-component="true" class="QueryBuilder search-query-builder">
    <div class="FormControl FormControl--fullWidth">
      <label id="query-builder-test-label" for="query-builder-test" class="FormControl-label sr-only">
        Search
      </label>
      <div
        class="QueryBuilder-StyledInput width-fit "
        data-target="query-builder.styledInput"
      >
          <span id="query-builder-test-leadingvisual-wrap" class="FormControl-input-leadingVisualWrap QueryBuilder-leadingVisualWrap">
            <svg aria-hidden="true" height="16" viewBox="0 0 16 16" version="1.1" width="16" data-view-component="true" class="octicon octicon-search FormControl-input-leadingVisual">
    <path d="M10.68 11.74a6 6 0 0 1-7.922-8.982 6 6 0 0 1 8.982 7.922l3.04 3.04a.749.749 0 0 1-.326 1.275.749.749 0 0 1-.734-.215ZM11.5 7a4.499 4.499 0 1 0-8.997 0A4.499 4.499 0 0 0 11.5 7Z"></path>
</svg>
          </span>
        <div data-target="query-builder.styledInputContainer" class="QueryBuilder-StyledInputContainer">
          <div
            aria-hidden="true"
            class="QueryBuilder-StyledInputContent"
            data-target="query-builder.styledInputContent"
          ></div>
          <div class="QueryBuilder-InputWrapper">
            <div aria-hidden="true" class="QueryBuilder-Sizer" data-target="query-builder.sizer"></div>
            <input id="query-builder-test" name="query-builder-test" value="" autocomplete="off" type="text" role="combobox" spellcheck="false" aria-expanded="false" aria-describedby="validation-d791e15e-a97b-4a7a-bea9-79ed1a9d0ed0" data-target="query-builder.input" data-action="
          input:query-builder#inputChange
          blur:query-builder#inputBlur
          keydown:query-builder#inputKeydown
          focus:query-builder#inputFocus
        " data-view-component="true" class="FormControl-input QueryBuilder-Input FormControl-medium" />
          </div>
        </div>
          <span class="sr-only" id="query-builder-test-clear">Clear</span>
          <button role="button" id="query-builder-test-clear-button" aria-labelledby="query-builder-test-clear query-builder-test-label" data-target="query-builder.clearButton" data-action="
                click:query-builder#clear
                focus:query-builder#clearButtonFocus
                blur:query-builder#clearButtonBlur
              " variant="small" hidden="hidden" type="button" data-view-component="true" class="Button Button--iconOnly Button--invisible Button--medium mr-1 px-2 py-0 d-flex flex-items-center rounded-1 color-fg-muted">  <svg aria-hidden="true" height="16" viewBox="0 0 16 16" version="1.1" width="16" data-view-component="true" class="octicon octicon-x-circle-fill Button-visual">
    <path d="M2.343 13.657A8 8 0 1 1 13.658 2.343 8 8 0 0 1 2.343 13.657ZM6.03 4.97a.751.751 0 0 0-1.042.018.751.751 0 0 0-.018 1.042L6.94 8 4.97 9.97a.749.749 0 0 0 .326 1.275.749.749 0 0 0 .734-.215L8 9.06l1.97 1.97a.749.749 0 0 0 1.275-.326.749.749 0 0 0-.215-.734L9.06 8l1.97-1.97a.749.749 0 0 0-.326-1.275.749.749 0 0 0-.734.215L8 6.94Z"></path>
</svg>
</button>

      </div>
      <template id="search-icon">
  <svg aria-hidden="true" height="16" viewBox="0 0 16 16" version="1.1" width="16" data-view-component="true" class="octicon octicon-search">
    <path d="M10.68 11.74a6 6 0 0 1-7.922-8.982 6 6 0 0 1 8.982 7.922l3.04 3.04a.749.749 0 0 1-.326 1.275.749.749 0 0 1-.734-.215ZM11.5 7a4.499 4.499 0 1 0-8.997 0A4.499 4.499 0 0 0 11.5 7Z"></path>
</svg>
</template>

<template id="code-icon">
  <svg aria-hidden="true" height="16" viewBox="0 0 16 16" version="1.1" width="16" data-view-component="true" class="octicon octicon-code">
    <path d="m11.28 3.22 4.25 4.25a.75.75 0 0 1 0 1.06l-4.25 4.25a.749.749 0 0 1-1.275-.326.749.749 0 0 1 .215-.734L13.94 8l-3.72-3.72a.749.749 0 0 1 .326-1.275.749.749 0 0 1 .734.215Zm-6.56 0a.751.751 0 0 1 1.042.018.751.751 0 0 1 .018 1.042L2.06 8l3.72 3.72a.749.749 0 0 1-.326 1.275.749.749 0 0 1-.734-.215L.47 8.53a.75.75 0 0 1 0-1.06Z"></path>
</svg>
</template>

<template id="file-code-icon">
  <svg aria-hidden="true" height="16" viewBox="0 0 16 16" version="1.1" width="16" data-view-component="true" class="octicon octicon-file-code">
    <path d="M4 1.75C4 .784 4.784 0 5.75 0h5.586c.464 0 .909.184 1.237.513l2.914 2.914c.329.328.513.773.513 1.237v8.586A1.75 1.75 0 0 1 14.25 15h-9a.75.75 0 0 1 0-1.5h9a.25.25 0 0 0 .25-.25V6h-2.75A1.75 1.75 0 0 1 10 4.25V1.5H5.75a.25.25 0 0 0-.25.25v2.5a.75.75 0 0 1-1.5 0Zm1.72 4.97a.75.75 0 0 1 1.06 0l2 2a.75.75 0 0 1 0 1.06l-2 2a.749.749 0 0 1-1.275-.326.749.749 0 0 1 .215-.734l1.47-1.47-1.47-1.47a.75.75 0 0 1 0-1.06ZM3.28 7.78 1.81 9.25l1.47 1.47a.751.751 0 0 1-.018 1.042.751.751 0 0 1-1.042.018l-2-2a.75.75 0 0 1 0-1.06l2-2a.751.751 0 0 1 1.042.018.751.751 0 0 1 .018 1.042Zm8.22-6.218V4.25c0 .138.112.25.25.25h2.688l-.011-.013-2.914-2.914-.013-.011Z"></path>
</svg>
</template>

<template id="history-icon">
  <svg aria-hidden="true" height="16" viewBox="0 0 16 16" version="1.1" width="16" data-view-component="true" class="octicon octicon-history">
    <path d="m.427 1.927 1.215 1.215a8.002 8.002 0 1 1-1.6 5.685.75.75 0 1 1 1.493-.154 6.5 6.5 0 1 0 1.18-4.458l1.358 1.358A.25.25 0 0 1 3.896 6H.25A.25.25 0 0 1 0 5.75V2.104a.25.25 0 0 1 .427-.177ZM7.75 4a.75.75 0 0 1 .75.75v2.992l2.028.812a.75.75 0 0 1-.557 1.392l-2.5-1A.751.751 0 0 1 7 8.25v-3.5A.75.75 0 0 1 7.75 4Z"></path>
</svg>
</template>

<template id="repo-icon">
  <svg aria-hidden="true" height="16" viewBox="0 0 16 16" version="1.1" width="16" data-view-component="true" class="octicon octicon-repo">
    <path d="M2 2.5A2.5 2.5 0 0 1 4.5 0h8.75a.75.75 0 0 1 .75.75v12.5a.75.75 0 0 1-.75.75h-2.5a.75.75 0 0 1 0-1.5h1.75v-2h-8a1 1 0 0 0-.714 1.7.75.75 0 1 1-1.072 1.05A2.495 2.495 0 0 1 2 11.5Zm10.5-1h-8a1 1 0 0 0-1 1v6.708A2.486 2.486 0 0 1 4.5 9h8ZM5 12.25a.25.25 0 0 1 .25-.25h3.5a.25.25 0 0 1 .25.25v3.25a.25.25 0 0 1-.4.2l-1.45-1.087a.249.249 0 0 0-.3 0L5.4 15.7a.25.25 0 0 1-.4-.2Z"></path>
</svg>
</template>

<template id="bookmark-icon">
  <svg aria-hidden="true" height="16" viewBox="0 0 16 16" version="1.1" width="16" data-view-component="true" class="octicon octicon-bookmark">
    <path d="M3 2.75C3 1.784 3.784 1 4.75 1h6.5c.966 0 1.75.784 1.75 1.75v11.5a.75.75 0 0 1-1.227.579L8 11.722l-3.773 3.107A.751.751 0 0 1 3 14.25Zm1.75-.25a.25.25 0 0 0-.25.25v9.91l3.023-2.489a.75.75 0 0 1 .954 0l3.023 2.49V2.75a.25.25 0 0 0-.25-.25Z"></path>
</svg>
</template>

<template id="plus-circle-icon">
  <svg aria-hidden="true" height="16" viewBox="0 0 16 16" version="1.1" width="16" data-view-component="true" class="octicon octicon-plus-circle">
    <path d="M8 0a8 8 0 1 1 0 16A8 8 0 0 1 8 0ZM1.5 8a6.5 6.5 0 1 0 13 0 6.5 6.5 0 0 0-13 0Zm7.25-3.25v2.5h2.5a.75.75 0 0 1 0 1.5h-2.5v2.5a.75.75 0 0 1-1.5 0v-2.5h-2.5a.75.75 0 0 1 0-1.5h2.5v-2.5a.75.75 0 0 1 1.5 0Z"></path>
</svg>
</template>

<template id="circle-icon">
  <svg aria-hidden="true" height="16" viewBox="0 0 16 16" version="1.1" width="16" data-view-component="true" class="octicon octicon-dot-fill">
    <path d="M8 4a4 4 0 1 1 0 8 4 4 0 0 1 0-8Z"></path>
</svg>
</template>

<template id="trash-icon">
  <svg aria-hidden="true" height="16" viewBox="0 0 16 16" version="1.1" width="16" data-view-component="true" class="octicon octicon-trash">
    <path d="M11 1.75V3h2.25a.75.75 0 0 1 0 1.5H2.75a.75.75 0 0 1 0-1.5H5V1.75C5 .784 5.784 0 6.75 0h2.5C10.216 0 11 .784 11 1.75ZM4.496 6.675l.66 6.6a.25.25 0 0 0 .249.225h5.19a.25.25 0 0 0 .249-.225l.66-6.6a.75.75 0 0 1 1.492.149l-.66 6.6A1.748 1.748 0 0 1 10.595 15h-5.19a1.75 1.75 0 0 1-1.741-1.575l-.66-6.6a.75.75 0 1 1 1.492-.15ZM6.5 1.75V3h3V1.75a.25.25 0 0 0-.25-.25h-2.5a.25.25 0 0 0-.25.25Z"></path>
</svg>
</template>

<template id="team-icon">
  <svg aria-hidden="true" height="16" viewBox="0 0 16 16" version="1.1" width="16" data-view-component="true" class="octicon octicon-people">
    <path d="M2 5.5a3.5 3.5 0 1 1 5.898 2.549 5.508 5.508 0 0 1 3.034 4.084.75.75 0 1 1-1.482.235 4 4 0 0 0-7.9 0 .75.75 0 0 1-1.482-.236A5.507 5.507 0 0 1 3.102 8.05 3.493 3.493 0 0 1 2 5.5ZM11 4a3.001 3.001 0 0 1 2.22 5.018 5.01 5.01 0 0 1 2.56 3.012.749.749 0 0 1-.885.954.752.752 0 0 1-.549-.514 3.507 3.507 0 0 0-2.522-2.372.75.75 0 0 1-.574-.73v-.352a.75.75 0 0 1 .416-.672A1.5 1.5 0 0 0 11 5.5.75.75 0 0 1 11 4Zm-5.5-.5a2 2 0 1 0-.001 3.999A2 2 0 0 0 5.5 3.5Z"></path>
</svg>
</template>

<template id="project-icon">
  <svg aria-hidden="true" height="16" viewBox="0 0 16 16" version="1.1" width="16" data-view-component="true" class="octicon octicon-project">
    <path d="M1.75 0h12.5C15.216 0 16 .784 16 1.75v12.5A1.75 1.75 0 0 1 14.25 16H1.75A1.75 1.75 0 0 1 0 14.25V1.75C0 .784.784 0 1.75 0ZM1.5 1.75v12.5c0 .138.112.25.25.25h12.5a.25.25 0 0 0 .25-.25V1.75a.25.25 0 0 0-.25-.25H1.75a.25.25 0 0 0-.25.25ZM11.75 3a.75.75 0 0 1 .75.75v7.5a.75.75 0 0 1-1.5 0v-7.5a.75.75 0 0 1 .75-.75Zm-8.25.75a.75.75 0 0 1 1.5 0v5.5a.75.75 0 0 1-1.5 0ZM8 3a.75.75 0 0 1 .75.75v3.5a.75.75 0 0 1-1.5 0v-3.5A.75.75 0 0 1 8 3Z"></path>
</svg>
</template>

<template id="pencil-icon">
  <svg aria-hidden="true" height="16" viewBox="0 0 16 16" version="1.1" width="16" data-view-component="true" class="octicon octicon-pencil">
    <path d="M11.013 1.427a1.75 1.75 0 0 1 2.474 0l1.086 1.086a1.75 1.75 0 0 1 0 2.474l-8.61 8.61c-.21.21-.47.364-.756.445l-3.251.93a.75.75 0 0 1-.927-.928l.929-3.25c.081-.286.235-.547.445-.758l8.61-8.61Zm.176 4.823L9.75 4.81l-6.286 6.287a.253.253 0 0 0-.064.108l-.558 1.953 1.953-.558a.253.253 0 0 0 .108-.064Zm1.238-3.763a.25.25 0 0 0-.354 0L10.811 3.75l1.439 1.44 1.263-1.263a.25.25 0 0 0 0-.354Z"></path>
</svg>
</template>

<template id="copilot-icon">
  <svg aria-hidden="true" height="16" viewBox="0 0 16 16" version="1.1" width="16" data-view-component="true" class="octicon octicon-copilot">
    <path d="M7.998 15.035c-4.562 0-7.873-2.914-7.998-3.749V9.338c.085-.628.677-1.686 1.588-2.065.013-.07.024-.143.036-.218.029-.183.06-.384.126-.612-.201-.508-.254-1.084-.254-1.656 0-.87.128-1.769.693-2.484.579-.733 1.494-1.124 2.724-1.261 1.206-.134 2.262.034 2.944.765.05.053.096.108.139.165.044-.057.094-.112.143-.165.682-.731 1.738-.899 2.944-.765 1.23.137 2.145.528 2.724 1.261.566.715.693 1.614.693 2.484 0 .572-.053 1.148-.254 1.656.066.228.098.429.126.612.012.076.024.148.037.218.924.385 1.522 1.471 1.591 2.095v1.872c0 .766-3.351 3.795-8.002 3.795Zm0-1.485c2.28 0 4.584-1.11 5.002-1.433V7.862l-.023-.116c-.49.21-1.075.291-1.727.291-1.146 0-2.059-.327-2.71-.991A3.222 3.222 0 0 1 8 6.303a3.24 3.24 0 0 1-.544.743c-.65.664-1.563.991-2.71.991-.652 0-1.236-.081-1.727-.291l-.023.116v4.255c.419.323 2.722 1.433 5.002 1.433ZM6.762 2.83c-.193-.206-.637-.413-1.682-.297-1.019.113-1.479.404-1.713.7-.247.312-.369.789-.369 1.554 0 .793.129 1.171.308 1.371.162.181.519.379 1.442.379.853 0 1.339-.235 1.638-.54.315-.322.527-.827.617-1.553.117-.935-.037-1.395-.241-1.614Zm4.155-.297c-1.044-.116-1.488.091-1.681.297-.204.219-.359.679-.242 1.614.091.726.303 1.231.618 1.553.299.305.784.54 1.638.54.922 0 1.28-.198 1.442-.379.179-.2.308-.578.308-1.371 0-.765-.123-1.242-.37-1.554-.233-.296-.693-.587-1.713-.7Z"></path><path d="M6.25 9.037a.75.75 0 0 1 .75.75v1.501a.75.75 0 0 1-1.5 0V9.787a.75.75 0 0 1 .75-.75Zm4.25.75v1.501a.75.75 0 0 1-1.5 0V9.787a.75.75 0 0 1 1.5 0Z"></path>
</svg>
</template>

<template id="copilot-error-icon">
  <svg aria-hidden="true" height="16" viewBox="0 0 16 16" version="1.1" width="16" data-view-component="true" class="octicon octicon-copilot-error">
    <path d="M16 11.24c0 .112-.072.274-.21.467L13 9.688V7.862l-.023-.116c-.49.21-1.075.291-1.727.291-.198 0-.388-.009-.571-.029L6.833 5.226a4.01 4.01 0 0 0 .17-.782c.117-.935-.037-1.395-.241-1.614-.193-.206-.637-.413-1.682-.297-.683.076-1.115.231-1.395.415l-1.257-.91c.579-.564 1.413-.877 2.485-.996 1.206-.134 2.262.034 2.944.765.05.053.096.108.139.165.044-.057.094-.112.143-.165.682-.731 1.738-.899 2.944-.765 1.23.137 2.145.528 2.724 1.261.566.715.693 1.614.693 2.484 0 .572-.053 1.148-.254 1.656.066.228.098.429.126.612.012.076.024.148.037.218.924.385 1.522 1.471 1.591 2.095Zm-5.083-8.707c-1.044-.116-1.488.091-1.681.297-.204.219-.359.679-.242 1.614.091.726.303 1.231.618 1.553.299.305.784.54 1.638.54.922 0 1.28-.198 1.442-.379.179-.2.308-.578.308-1.371 0-.765-.123-1.242-.37-1.554-.233-.296-.693-.587-1.713-.7Zm2.511 11.074c-1.393.776-3.272 1.428-5.43 1.428-4.562 0-7.873-2.914-7.998-3.749V9.338c.085-.628.677-1.686 1.588-2.065.013-.07.024-.143.036-.218.029-.183.06-.384.126-.612-.18-.455-.241-.963-.252-1.475L.31 4.107A.747.747 0 0 1 0 3.509V3.49a.748.748 0 0 1 .625-.73c.156-.026.306.047.435.139l14.667 10.578a.592.592 0 0 1 .227.264.752.752 0 0 1 .046.249v.022a.75.75 0 0 1-1.19.596Zm-1.367-.991L5.635 7.964a5.128 5.128 0 0 1-.889.073c-.652 0-1.236-.081-1.727-.291l-.023.116v4.255c.419.323 2.722 1.433 5.002 1.433 1.539 0 3.089-.505 4.063-.934Z"></path>
</svg>
</template>

<template id="workflow-icon">
  <svg aria-hidden="true" height="16" viewBox="0 0 16 16" version="1.1" width="16" data-view-component="true" class="octicon octicon-workflow">
    <path d="M0 1.75C0 .784.784 0 1.75 0h3.5C6.216 0 7 .784 7 1.75v3.5A1.75 1.75 0 0 1 5.25 7H4v4a1 1 0 0 0 1 1h4v-1.25C9 9.784 9.784 9 10.75 9h3.5c.966 0 1.75.784 1.75 1.75v3.5A1.75 1.75 0 0 1 14.25 16h-3.5A1.75 1.75 0 0 1 9 14.25v-.75H5A2.5 2.5 0 0 1 2.5 11V7h-.75A1.75 1.75 0 0 1 0 5.25Zm1.75-.25a.25.25 0 0 0-.25.25v3.5c0 .138.112.25.25.25h3.5a.25.25 0 0 0 .25-.25v-3.5a.25.25 0 0 0-.25-.25Zm9 9a.25.25 0 0 0-.25.25v3.5c0 .138.112.25.25.25h3.5a.25.25 0 0 0 .25-.25v-3.5a.25.25 0 0 0-.25-.25Z"></path>
</svg>
</template>

<template id="book-icon">
  <svg aria-hidden="true" height="16" viewBox="0 0 16 16" version="1.1" width="16" data-view-component="true" class="octicon octicon-book">
    <path d="M0 1.75A.75.75 0 0 1 .75 1h4.253c1.227 0 2.317.59 3 1.501A3.743 3.743 0 0 1 11.006 1h4.245a.75.75 0 0 1 .75.75v10.5a.75.75 0 0 1-.75.75h-4.507a2.25 2.25 0 0 0-1.591.659l-.622.621a.75.75 0 0 1-1.06 0l-.622-.621A2.25 2.25 0 0 0 5.258 13H.75a.75.75 0 0 1-.75-.75Zm7.251 10.324.004-5.073-.002-2.253A2.25 2.25 0 0 0 5.003 2.5H1.5v9h3.757a3.75 3.75 0 0 1 1.994.574ZM8.755 4.75l-.004 7.322a3.752 3.752 0 0 1 1.992-.572H14.5v-9h-3.495a2.25 2.25 0 0 0-2.25 2.25Z"></path>
</svg>
</template>

<template id="code-review-icon">
  <svg aria-hidden="true" height="16" viewBox="0 0 16 16" version="1.1" width="16" data-view-component="true" class="octicon octicon-code-review">
    <path d="M1.75 1h12.5c.966 0 1.75.784 1.75 1.75v8.5A1.75 1.75 0 0 1 14.25 13H8.061l-2.574 2.573A1.458 1.458 0 0 1 3 14.543V13H1.75A1.75 1.75 0 0 1 0 11.25v-8.5C0 1.784.784 1 1.75 1ZM1.5 2.75v8.5c0 .138.112.25.25.25h2a.75.75 0 0 1 .75.75v2.19l2.72-2.72a.749.749 0 0 1 .53-.22h6.5a.25.25 0 0 0 .25-.25v-8.5a.25.25 0 0 0-.25-.25H1.75a.25.25 0 0 0-.25.25Zm5.28 1.72a.75.75 0 0 1 0 1.06L5.31 7l1.47 1.47a.751.751 0 0 1-.018 1.042.751.751 0 0 1-1.042.018l-2-2a.75.75 0 0 1 0-1.06l2-2a.75.75 0 0 1 1.06 0Zm2.44 0a.75.75 0 0 1 1.06 0l2 2a.75.75 0 0 1 0 1.06l-2 2a.751.751 0 0 1-1.042-.018.751.751 0 0 1-.018-1.042L10.69 7 9.22 5.53a.75.75 0 0 1 0-1.06Z"></path>
</svg>
</template>

<template id="codespaces-icon">
  <svg aria-hidden="true" height="16" viewBox="0 0 16 16" version="1.1" width="16" data-view-component="true" class="octicon octicon-codespaces">
    <path d="M0 11.25c0-.966.784-1.75 1.75-1.75h12.5c.966 0 1.75.784 1.75 1.75v3A1.75 1.75 0 0 1 14.25 16H1.75A1.75 1.75 0 0 1 0 14.25Zm2-9.5C2 .784 2.784 0 3.75 0h8.5C13.216 0 14 .784 14 1.75v5a1.75 1.75 0 0 1-1.75 1.75h-8.5A1.75 1.75 0 0 1 2 6.75Zm1.75-.25a.25.25 0 0 0-.25.25v5c0 .138.112.25.25.25h8.5a.25.25 0 0 0 .25-.25v-5a.25.25 0 0 0-.25-.25Zm-2 9.5a.25.25 0 0 0-.25.25v3c0 .138.112.25.25.25h12.5a.25.25 0 0 0 .25-.25v-3a.25.25 0 0 0-.25-.25Z"></path><path d="M7 12.75a.75.75 0 0 1 .75-.75h4.5a.75.75 0 0 1 0 1.5h-4.5a.75.75 0 0 1-.75-.75Zm-4 0a.75.75 0 0 1 .75-.75h.5a.75.75 0 0 1 0 1.5h-.5a.75.75 0 0 1-.75-.75Z"></path>
</svg>
</template>

<template id="comment-icon">
  <svg aria-hidden="true" height="16" viewBox="0 0 16 16" version="1.1" width="16" data-view-component="true" class="octicon octicon-comment">
    <path d="M1 2.75C1 1.784 1.784 1 2.75 1h10.5c.966 0 1.75.784 1.75 1.75v7.5A1.75 1.75 0 0 1 13.25 12H9.06l-2.573 2.573A1.458 1.458 0 0 1 4 13.543V12H2.75A1.75 1.75 0 0 1 1 10.25Zm1.75-.25a.25.25 0 0 0-.25.25v7.5c0 .138.112.25.25.25h2a.75.75 0 0 1 .75.75v2.19l2.72-2.72a.749.749 0 0 1 .53-.22h4.5a.25.25 0 0 0 .25-.25v-7.5a.25.25 0 0 0-.25-.25Z"></path>
</svg>
</template>

<template id="comment-discussion-icon">
  <svg aria-hidden="true" height="16" viewBox="0 0 16 16" version="1.1" width="16" data-view-component="true" class="octicon octicon-comment-discussion">
    <path d="M1.75 1h8.5c.966 0 1.75.784 1.75 1.75v5.5A1.75 1.75 0 0 1 10.25 10H7.061l-2.574 2.573A1.458 1.458 0 0 1 2 11.543V10h-.25A1.75 1.75 0 0 1 0 8.25v-5.5C0 1.784.784 1 1.75 1ZM1.5 2.75v5.5c0 .138.112.25.25.25h1a.75.75 0 0 1 .75.75v2.19l2.72-2.72a.749.749 0 0 1 .53-.22h3.5a.25.25 0 0 0 .25-.25v-5.5a.25.25 0 0 0-.25-.25h-8.5a.25.25 0 0 0-.25.25Zm13 2a.25.25 0 0 0-.25-.25h-.5a.75.75 0 0 1 0-1.5h.5c.966 0 1.75.784 1.75 1.75v5.5A1.75 1.75 0 0 1 14.25 12H14v1.543a1.458 1.458 0 0 1-2.487 1.03L9.22 12.28a.749.749 0 0 1 .326-1.275.749.749 0 0 1 .734.215l2.22 2.22v-2.19a.75.75 0 0 1 .75-.75h1a.25.25 0 0 0 .25-.25Z"></path>
</svg>
</template>

<template id="organization-icon">
  <svg aria-hidden="true" height="16" viewBox="0 0 16 16" version="1.1" width="16" data-view-component="true" class="octicon octicon-organization">
    <path d="M1.75 16A1.75 1.75 0 0 1 0 14.25V1.75C0 .784.784 0 1.75 0h8.5C11.216 0 12 .784 12 1.75v12.5c0 .085-.006.168-.018.25h2.268a.25.25 0 0 0 .25-.25V8.285a.25.25 0 0 0-.111-.208l-1.055-.703a.749.749 0 1 1 .832-1.248l1.055.703c.487.325.779.871.779 1.456v5.965A1.75 1.75 0 0 1 14.25 16h-3.5a.766.766 0 0 1-.197-.026c-.099.017-.2.026-.303.026h-3a.75.75 0 0 1-.75-.75V14h-1v1.25a.75.75 0 0 1-.75.75Zm-.25-1.75c0 .138.112.25.25.25H4v-1.25a.75.75 0 0 1 .75-.75h2.5a.75.75 0 0 1 .75.75v1.25h2.25a.25.25 0 0 0 .25-.25V1.75a.25.25 0 0 0-.25-.25h-8.5a.25.25 0 0 0-.25.25ZM3.75 6h.5a.75.75 0 0 1 0 1.5h-.5a.75.75 0 0 1 0-1.5ZM3 3.75A.75.75 0 0 1 3.75 3h.5a.75.75 0 0 1 0 1.5h-.5A.75.75 0 0 1 3 3.75Zm4 3A.75.75 0 0 1 7.75 6h.5a.75.75 0 0 1 0 1.5h-.5A.75.75 0 0 1 7 6.75ZM7.75 3h.5a.75.75 0 0 1 0 1.5h-.5a.75.75 0 0 1 0-1.5ZM3 9.75A.75.75 0 0 1 3.75 9h.5a.75.75 0 0 1 0 1.5h-.5A.75.75 0 0 1 3 9.75ZM7.75 9h.5a.75.75 0 0 1 0 1.5h-.5a.75.75 0 0 1 0-1.5Z"></path>
</svg>
</template>

<template id="rocket-icon">
  <svg aria-hidden="true" height="16" viewBox="0 0 16 16" version="1.1" width="16" data-view-component="true" class="octicon octicon-rocket">
    <path d="M14.064 0h.186C15.216 0 16 .784 16 1.75v.186a8.752 8.752 0 0 1-2.564 6.186l-.458.459c-.314.314-.641.616-.979.904v3.207c0 .608-.315 1.172-.833 1.49l-2.774 1.707a.749.749 0 0 1-1.11-.418l-.954-3.102a1.214 1.214 0 0 1-.145-.125L3.754 9.816a1.218 1.218 0 0 1-.124-.145L.528 8.717a.749.749 0 0 1-.418-1.11l1.71-2.774A1.748 1.748 0 0 1 3.31 4h3.204c.288-.338.59-.665.904-.979l.459-.458A8.749 8.749 0 0 1 14.064 0ZM8.938 3.623h-.002l-.458.458c-.76.76-1.437 1.598-2.02 2.5l-1.5 2.317 2.143 2.143 2.317-1.5c.902-.583 1.74-1.26 2.499-2.02l.459-.458a7.25 7.25 0 0 0 2.123-5.127V1.75a.25.25 0 0 0-.25-.25h-.186a7.249 7.249 0 0 0-5.125 2.123ZM3.56 14.56c-.732.732-2.334 1.045-3.005 1.148a.234.234 0 0 1-.201-.064.234.234 0 0 1-.064-.201c.103-.671.416-2.273 1.15-3.003a1.502 1.502 0 1 1 2.12 2.12Zm6.94-3.935c-.088.06-.177.118-.266.175l-2.35 1.521.548 1.783 1.949-1.2a.25.25 0 0 0 .119-.213ZM3.678 8.116 5.2 5.766c.058-.09.117-.178.176-.266H3.309a.25.25 0 0 0-.213.119l-1.2 1.95ZM12 5a1 1 0 1 1-2 0 1 1 0 0 1 2 0Z"></path>
</svg>
</template>

<template id="shield-check-icon">
  <svg aria-hidden="true" height="16" viewBox="0 0 16 16" version="1.1" width="16" data-view-component="true" class="octicon octicon-shield-check">
    <path d="m8.533.133 5.25 1.68A1.75 1.75 0 0 1 15 3.48V7c0 1.566-.32 3.182-1.303 4.682-.983 1.498-2.585 2.813-5.032 3.855a1.697 1.697 0 0 1-1.33 0c-2.447-1.042-4.049-2.357-5.032-3.855C1.32 10.182 1 8.566 1 7V3.48a1.75 1.75 0 0 1 1.217-1.667l5.25-1.68a1.748 1.748 0 0 1 1.066 0Zm-.61 1.429.001.001-5.25 1.68a.251.251 0 0 0-.174.237V7c0 1.36.275 2.666 1.057 3.859.784 1.194 2.121 2.342 4.366 3.298a.196.196 0 0 0 .154 0c2.245-.957 3.582-2.103 4.366-3.297C13.225 9.666 13.5 8.358 13.5 7V3.48a.25.25 0 0 0-.174-.238l-5.25-1.68a.25.25 0 0 0-.153 0ZM11.28 6.28l-3.5 3.5a.75.75 0 0 1-1.06 0l-1.5-1.5a.749.749 0 0 1 .326-1.275.749.749 0 0 1 .734.215l.97.97 2.97-2.97a.751.751 0 0 1 1.042.018.751.751 0 0 1 .018 1.042Z"></path>
</svg>
</template>

<template id="heart-icon">
  <svg aria-hidden="true" height="16" viewBox="0 0 16 16" version="1.1" width="16" data-view-component="true" class="octicon octicon-heart">
    <path d="m8 14.25.345.666a.75.75 0 0 1-.69 0l-.008-.004-.018-.01a7.152 7.152 0 0 1-.31-.17 22.055 22.055 0 0 1-3.434-2.414C2.045 10.731 0 8.35 0 5.5 0 2.836 2.086 1 4.25 1 5.797 1 7.153 1.802 8 3.02 8.847 1.802 10.203 1 11.75 1 13.914 1 16 2.836 16 5.5c0 2.85-2.045 5.231-3.885 6.818a22.066 22.066 0 0 1-3.744 2.584l-.018.01-.006.003h-.002ZM4.25 2.5c-1.336 0-2.75 1.164-2.75 3 0 2.15 1.58 4.144 3.365 5.682A20.58 20.58 0 0 0 8 13.393a20.58 20.58 0 0 0 3.135-2.211C12.92 9.644 14.5 7.65 14.5 5.5c0-1.836-1.414-3-2.75-3-1.373 0-2.609.986-3.029 2.456a.749.749 0 0 1-1.442 0C6.859 3.486 5.623 2.5 4.25 2.5Z"></path>
</svg>
</template>

<template id="server-icon">
  <svg aria-hidden="true" height="16" viewBox="0 0 16 16" version="1.1" width="16" data-view-component="true" class="octicon octicon-server">
    <path d="M1.75 1h12.5c.966 0 1.75.784 1.75 1.75v4c0 .372-.116.717-.314 1 .198.283.314.628.314 1v4a1.75 1.75 0 0 1-1.75 1.75H1.75A1.75 1.75 0 0 1 0 12.75v-4c0-.358.109-.707.314-1a1.739 1.739 0 0 1-.314-1v-4C0 1.784.784 1 1.75 1ZM1.5 2.75v4c0 .138.112.25.25.25h12.5a.25.25 0 0 0 .25-.25v-4a.25.25 0 0 0-.25-.25H1.75a.25.25 0 0 0-.25.25Zm.25 5.75a.25.25 0 0 0-.25.25v4c0 .138.112.25.25.25h12.5a.25.25 0 0 0 .25-.25v-4a.25.25 0 0 0-.25-.25ZM7 4.75A.75.75 0 0 1 7.75 4h4.5a.75.75 0 0 1 0 1.5h-4.5A.75.75 0 0 1 7 4.75ZM7.75 10h4.5a.75.75 0 0 1 0 1.5h-4.5a.75.75 0 0 1 0-1.5ZM3 4.75A.75.75 0 0 1 3.75 4h.5a.75.75 0 0 1 0 1.5h-.5A.75.75 0 0 1 3 4.75ZM3.75 10h.5a.75.75 0 0 1 0 1.5h-.5a.75.75 0 0 1 0-1.5Z"></path>
</svg>
</template>

<template id="globe-icon">
  <svg aria-hidden="true" height="16" viewBox="0 0 16 16" version="1.1" width="16" data-view-component="true" class="octicon octicon-globe">
    <path d="M8 0a8 8 0 1 1 0 16A8 8 0 0 1 8 0ZM5.78 8.75a9.64 9.64 0 0 0 1.363 4.177c.255.426.542.832.857 1.215.245-.296.551-.705.857-1.215A9.64 9.64 0 0 0 10.22 8.75Zm4.44-1.5a9.64 9.64 0 0 0-1.363-4.177c-.307-.51-.612-.919-.857-1.215a9.927 9.927 0 0 0-.857 1.215A9.64 9.64 0 0 0 5.78 7.25Zm-5.944 1.5H1.543a6.507 6.507 0 0 0 4.666 5.5c-.123-.181-.24-.365-.352-.552-.715-1.192-1.437-2.874-1.581-4.948Zm-2.733-1.5h2.733c.144-2.074.866-3.756 1.58-4.948.12-.197.237-.381.353-.552a6.507 6.507 0 0 0-4.666 5.5Zm10.181 1.5c-.144 2.074-.866 3.756-1.58 4.948-.12.197-.237.381-.353.552a6.507 6.507 0 0 0 4.666-5.5Zm2.733-1.5a6.507 6.507 0 0 0-4.666-5.5c.123.181.24.365.353.552.714 1.192 1.436 2.874 1.58 4.948Z"></path>
</svg>
</template>

<template id="issue-opened-icon">
  <svg aria-hidden="true" height="16" viewBox="0 0 16 16" version="1.1" width="16" data-view-component="true" class="octicon octicon-issue-opened">
    <path d="M8 9.5a1.5 1.5 0 1 0 0-3 1.5 1.5 0 0 0 0 3Z"></path><path d="M8 0a8 8 0 1 1 0 16A8 8 0 0 1 8 0ZM1.5 8a6.5 6.5 0 1 0 13 0 6.5 6.5 0 0 0-13 0Z"></path>
</svg>
</template>

<template id="device-mobile-icon">
  <svg aria-hidden="true" height="16" viewBox="0 0 16 16" version="1.1" width="16" data-view-component="true" class="octicon octicon-device-mobile">
    <path d="M3.75 0h8.5C13.216 0 14 .784 14 1.75v12.5A1.75 1.75 0 0 1 12.25 16h-8.5A1.75 1.75 0 0 1 2 14.25V1.75C2 .784 2.784 0 3.75 0ZM3.5 1.75v12.5c0 .138.112.25.25.25h8.5a.25.25 0 0 0 .25-.25V1.75a.25.25 0 0 0-.25-.25h-8.5a.25.25 0 0 0-.25.25ZM8 13a1 1 0 1 1 0-2 1 1 0 0 1 0 2Z"></path>
</svg>
</template>

<template id="package-icon">
  <svg aria-hidden="true" height="16" viewBox="0 0 16 16" version="1.1" width="16" data-view-component="true" class="octicon octicon-package">
    <path d="m8.878.392 5.25 3.045c.54.314.872.89.872 1.514v6.098a1.75 1.75 0 0 1-.872 1.514l-5.25 3.045a1.75 1.75 0 0 1-1.756 0l-5.25-3.045A1.75 1.75 0 0 1 1 11.049V4.951c0-.624.332-1.201.872-1.514L7.122.392a1.75 1.75 0 0 1 1.756 0ZM7.875 1.69l-4.63 2.685L8 7.133l4.755-2.758-4.63-2.685a.248.248 0 0 0-.25 0ZM2.5 5.677v5.372c0 .09.047.171.125.216l4.625 2.683V8.432Zm6.25 8.271 4.625-2.683a.25.25 0 0 0 .125-.216V5.677L8.75 8.432Z"></path>
</svg>
</template>

<template id="credit-card-icon">
  <svg aria-hidden="true" height="16" viewBox="0 0 16 16" version="1.1" width="16" data-view-component="true" class="octicon octicon-credit-card">
    <path d="M10.75 9a.75.75 0 0 0 0 1.5h1.5a.75.75 0 0 0 0-1.5h-1.5Z"></path><path d="M0 3.75C0 2.784.784 2 1.75 2h12.5c.966 0 1.75.784 1.75 1.75v8.5A1.75 1.75 0 0 1 14.25 14H1.75A1.75 1.75 0 0 1 0 12.25ZM14.5 6.5h-13v5.75c0 .138.112.25.25.25h12.5a.25.25 0 0 0 .25-.25Zm0-2.75a.25.25 0 0 0-.25-.25H1.75a.25.25 0 0 0-.25.25V5h13Z"></path>
</svg>
</template>

<template id="play-icon">
  <svg aria-hidden="true" height="16" viewBox="0 0 16 16" version="1.1" width="16" data-view-component="true" class="octicon octicon-play">
    <path d="M8 0a8 8 0 1 1 0 16A8 8 0 0 1 8 0ZM1.5 8a6.5 6.5 0 1 0 13 0 6.5 6.5 0 0 0-13 0Zm4.879-2.773 4.264 2.559a.25.25 0 0 1 0 .428l-4.264 2.559A.25.25 0 0 1 6 10.559V5.442a.25.25 0 0 1 .379-.215Z"></path>
</svg>
</template>

<template id="gift-icon">
  <svg aria-hidden="true" height="16" viewBox="0 0 16 16" version="1.1" width="16" data-view-component="true" class="octicon octicon-gift">
    <path d="M2 2.75A2.75 2.75 0 0 1 4.75 0c.983 0 1.873.42 2.57 1.232.268.318.497.668.68 1.042.183-.375.411-.725.68-1.044C9.376.42 10.266 0 11.25 0a2.75 2.75 0 0 1 2.45 4h.55c.966 0 1.75.784 1.75 1.75v2c0 .698-.409 1.301-1 1.582v4.918A1.75 1.75 0 0 1 13.25 16H2.75A1.75 1.75 0 0 1 1 14.25V9.332C.409 9.05 0 8.448 0 7.75v-2C0 4.784.784 4 1.75 4h.55c-.192-.375-.3-.8-.3-1.25ZM7.25 9.5H2.5v4.75c0 .138.112.25.25.25h4.5Zm1.5 0v5h4.5a.25.25 0 0 0 .25-.25V9.5Zm0-4V8h5.5a.25.25 0 0 0 .25-.25v-2a.25.25 0 0 0-.25-.25Zm-7 0a.25.25 0 0 0-.25.25v2c0 .138.112.25.25.25h5.5V5.5h-5.5Zm3-4a1.25 1.25 0 0 0 0 2.5h2.309c-.233-.818-.542-1.401-.878-1.793-.43-.502-.915-.707-1.431-.707ZM8.941 4h2.309a1.25 1.25 0 0 0 0-2.5c-.516 0-1 .205-1.43.707-.337.392-.646.975-.879 1.793Z"></path>
</svg>
</template>

<template id="code-square-icon">
  <svg aria-hidden="true" height="16" viewBox="0 0 16 16" version="1.1" width="16" data-view-component="true" class="octicon octicon-code-square">
    <path d="M0 1.75C0 .784.784 0 1.75 0h12.5C15.216 0 16 .784 16 1.75v12.5A1.75 1.75 0 0 1 14.25 16H1.75A1.75 1.75 0 0 1 0 14.25Zm1.75-.25a.25.25 0 0 0-.25.25v12.5c0 .138.112.25.25.25h12.5a.25.25 0 0 0 .25-.25V1.75a.25.25 0 0 0-.25-.25Zm7.47 3.97a.75.75 0 0 1 1.06 0l2 2a.75.75 0 0 1 0 1.06l-2 2a.749.749 0 0 1-1.275-.326.749.749 0 0 1 .215-.734L10.69 8 9.22 6.53a.75.75 0 0 1 0-1.06ZM6.78 6.53 5.31 8l1.47 1.47a.749.749 0 0 1-.326 1.275.749.749 0 0 1-.734-.215l-2-2a.75.75 0 0 1 0-1.06l2-2a.751.751 0 0 1 1.042.018.751.751 0 0 1 .018 1.042Z"></path>
</svg>
</template>

<template id="device-desktop-icon">
  <svg aria-hidden="true" height="16" viewBox="0 0 16 16" version="1.1" width="16" data-view-component="true" class="octicon octicon-device-desktop">
    <path d="M14.25 1c.966 0 1.75.784 1.75 1.75v7.5A1.75 1.75 0 0 1 14.25 12h-3.727c.099 1.041.52 1.872 1.292 2.757A.752.752 0 0 1 11.25 16h-6.5a.75.75 0 0 1-.565-1.243c.772-.885 1.192-1.716 1.292-2.757H1.75A1.75 1.75 0 0 1 0 10.25v-7.5C0 1.784.784 1 1.75 1ZM1.75 2.5a.25.25 0 0 0-.25.25v7.5c0 .138.112.25.25.25h12.5a.25.25 0 0 0 .25-.25v-7.5a.25.25 0 0 0-.25-.25ZM9.018 12H6.982a5.72 5.72 0 0 1-.765 2.5h3.566a5.72 5.72 0 0 1-.765-2.5Z"></path>
</svg>
</template>

        <div class="position-relative">
                <ul
                  role="listbox"
                  class="ActionListWrap QueryBuilder-ListWrap"
                  aria-label="Suggestions"
                  data-action="
                    combobox-commit:query-builder#comboboxCommit
                    mousedown:query-builder#resultsMousedown
                  "
                  data-target="query-builder.resultsList"
                  data-persist-list=false
                  id="query-builder-test-results"
                ></ul>
        </div>
      <div class="FormControl-inlineValidation" id="validation-d791e15e-a97b-4a7a-bea9-79ed1a9d0ed0" hidden="hidden">
        <span class="FormControl-inlineValidation--visual">
          <svg aria-hidden="true" height="12" viewBox="0 0 12 12" version="1.1" width="12" data-view-component="true" class="octicon octicon-alert-fill">
    <path d="M4.855.708c.5-.896 1.79-.896 2.29 0l4.675 8.351a1.312 1.312 0 0 1-1.146 1.954H1.33A1.313 1.313 0 0 1 .183 9.058ZM7 7V3H5v4Zm-1 3a1 1 0 1 0 0-2 1 1 0 0 0 0 2Z"></path>
</svg>
        </span>
        <span></span>
</div>    </div>
    <div data-target="query-builder.screenReaderFeedback" aria-live="polite" aria-atomic="true" class="sr-only"></div>
</query-builder></form>
          <div class="d-flex flex-row color-fg-muted px-3 text-small color-bg-default search-feedback-prompt">
            <a target="_blank" href="https://docs.github.com/search-github/github-code-search/understanding-github-code-search-syntax" data-view-component="true" class="Link color-fg-accent text-normal ml-2">Search syntax tips</a>            <div class="d-flex flex-1"></div>
              <button data-action="click:qbsearch-input#showFeedbackDialog" type="button" data-view-component="true" class="Button--link Button--medium Button color-fg-accent text-normal ml-2">  <span class="Button-content">
    <span class="Button-label">Give feedback</span>
  </span>
</button>
          </div>
        </div>
</div>

    </div>
</modal-dialog></div>
  </div>
  <div data-action="click:qbsearch-input#retract" class="dark-backdrop position-fixed" hidden data-target="qbsearch-input.darkBackdrop"></div>
  <div class="color-fg-default">
    
<dialog-helper>
  <dialog data-target="qbsearch-input.feedbackDialog" data-action="close:qbsearch-input#handleDialogClose cancel:qbsearch-input#handleDialogClose" id="feedback-dialog" aria-modal="true" aria-labelledby="feedback-dialog-title" aria-describedby="feedback-dialog-description" data-view-component="true" class="Overlay Overlay-whenNarrow Overlay--size-medium Overlay--motion-scaleFade Overlay--disableScroll">
    <div data-view-component="true" class="Overlay-header">
  <div class="Overlay-headerContentWrap">
    <div class="Overlay-titleWrap">
      <h1 class="Overlay-title " id="feedback-dialog-title">
        Provide feedback
      </h1>
        
    </div>
    <div class="Overlay-actionWrap">
      <button data-close-dialog-id="feedback-dialog" aria-label="Close" aria-label="Close" type="button" data-view-component="true" class="close-button Overlay-closeButton"><svg aria-hidden="true" height="16" viewBox="0 0 16 16" version="1.1" width="16" data-view-component="true" class="octicon octicon-x">
    <path d="M3.72 3.72a.75.75 0 0 1 1.06 0L8 6.94l3.22-3.22a.749.749 0 0 1 1.275.326.749.749 0 0 1-.215.734L9.06 8l3.22 3.22a.749.749 0 0 1-.326 1.275.749.749 0 0 1-.734-.215L8 9.06l-3.22 3.22a.751.751 0 0 1-1.042-.018.751.751 0 0 1-.018-1.042L6.94 8 3.72 4.78a.75.75 0 0 1 0-1.06Z"></path>
</svg></button>
    </div>
  </div>
  
</div>
      <scrollable-region data-labelled-by="feedback-dialog-title">
        <div data-view-component="true" class="Overlay-body">        <!-- '"` --><!-- </textarea></xmp> --></option></form><form id="code-search-feedback-form" data-turbo="false" action="/search/feedback" accept-charset="UTF-8" method="post"><input type="hidden" name="authenticity_token" value="PXOfXmsRL3vo8jQtnuuR-7bgjU7cBSg0h6nTgU0uFxBouUY-uO1xKK5wlNhh9h1HmgPZcU-3S9Nfklle27us_g" />
          <p>We read every piece of feedback, and take your input very seriously.</p>
          <textarea name="feedback" class="form-control width-full mb-2" style="height: 120px" id="feedback"></textarea>
          <input name="include_email" id="include_email" aria-label="Include my email address so I can be contacted" class="form-control mr-2" type="checkbox">
          <label for="include_email" style="font-weight: normal">Include my email address so I can be contacted</label>
</form></div>
      </scrollable-region>
      <div data-view-component="true" class="Overlay-footer Overlay-footer--alignEnd">          <button data-close-dialog-id="feedback-dialog" type="button" data-view-component="true" class="btn">    Cancel
</button>
          <button form="code-search-feedback-form" data-action="click:qbsearch-input#submitFeedback" type="submit" data-view-component="true" class="btn-primary btn">    Submit feedback
</button>
</div>
</dialog></dialog-helper>

    <custom-scopes data-target="qbsearch-input.customScopesManager">
    
<dialog-helper>
  <dialog data-target="custom-scopes.customScopesModalDialog" data-action="close:qbsearch-input#handleDialogClose cancel:qbsearch-input#handleDialogClose" id="custom-scopes-dialog" aria-modal="true" aria-labelledby="custom-scopes-dialog-title" aria-describedby="custom-scopes-dialog-description" data-view-component="true" class="Overlay Overlay-whenNarrow Overlay--size-medium Overlay--motion-scaleFade Overlay--disableScroll">
    <div data-view-component="true" class="Overlay-header Overlay-header--divided">
  <div class="Overlay-headerContentWrap">
    <div class="Overlay-titleWrap">
      <h1 class="Overlay-title " id="custom-scopes-dialog-title">
        Saved searches
      </h1>
        <h2 id="custom-scopes-dialog-description" class="Overlay-description">Use saved searches to filter your results more quickly</h2>
    </div>
    <div class="Overlay-actionWrap">
      <button data-close-dialog-id="custom-scopes-dialog" aria-label="Close" aria-label="Close" type="button" data-view-component="true" class="close-button Overlay-closeButton"><svg aria-hidden="true" height="16" viewBox="0 0 16 16" version="1.1" width="16" data-view-component="true" class="octicon octicon-x">
    <path d="M3.72 3.72a.75.75 0 0 1 1.06 0L8 6.94l3.22-3.22a.749.749 0 0 1 1.275.326.749.749 0 0 1-.215.734L9.06 8l3.22 3.22a.749.749 0 0 1-.326 1.275.749.749 0 0 1-.734-.215L8 9.06l-3.22 3.22a.751.751 0 0 1-1.042-.018.751.751 0 0 1-.018-1.042L6.94 8 3.72 4.78a.75.75 0 0 1 0-1.06Z"></path>
</svg></button>
    </div>
  </div>
  
</div>
      <scrollable-region data-labelled-by="custom-scopes-dialog-title">
        <div data-view-component="true" class="Overlay-body">        <div data-target="custom-scopes.customScopesModalDialogFlash"></div>

        <div hidden class="create-custom-scope-form" data-target="custom-scopes.createCustomScopeForm">
        <!-- '"` --><!-- </textarea></xmp> --></option></form><form id="custom-scopes-dialog-form" data-turbo="false" action="/search/custom_scopes" accept-charset="UTF-8" method="post"><input type="hidden" name="authenticity_token" value="B2wHe-SZALHl0GS5o15lnv7w0L85kFKLqddeKnBFEpvYW5wLFlXfjB0XZscDkBtNHQmDEU7vg0LfNNMRxdEotw" />
          <div data-target="custom-scopes.customScopesModalDialogFlash"></div>

          <input type="hidden" id="custom_scope_id" name="custom_scope_id" data-target="custom-scopes.customScopesIdField">

          <div class="form-group">
            <label for="custom_scope_name">Name</label>
            <auto-check src="/search/custom_scopes/check_name" required>
              <input
                type="text"
                name="custom_scope_name"
                id="custom_scope_name"
                data-target="custom-scopes.customScopesNameField"
                class="form-control"
                autocomplete="off"
                placeholder="github-ruby"
                required
                maxlength="50">
              <input type="hidden" value="TOIiuD0ZAze6tThAqeRqX46O4GWqs6tORPoMULVvti-UCGby0Gx_wNnw8XLJHKTxTBZ0_iA24iRDefFmTceOCg" data-csrf="true" />
            </auto-check>
          </div>

          <div class="form-group">
            <label for="custom_scope_query">Query</label>
            <input
              type="text"
              name="custom_scope_query"
              id="custom_scope_query"
              data-target="custom-scopes.customScopesQueryField"
              class="form-control"
              autocomplete="off"
              placeholder="(repo:mona/a OR repo:mona/b) AND lang:python"
              required
              maxlength="500">
          </div>

          <p class="text-small color-fg-muted">
            To see all available qualifiers, see our <a class="Link--inTextBlock" href="https://docs.github.com/search-github/github-code-search/understanding-github-code-search-syntax">documentation</a>.
          </p>
</form>        </div>

        <div data-target="custom-scopes.manageCustomScopesForm">
          <div data-target="custom-scopes.list"></div>
        </div>

</div>
      </scrollable-region>
      <div data-view-component="true" class="Overlay-footer Overlay-footer--alignEnd Overlay-footer--divided">          <button data-action="click:custom-scopes#customScopesCancel" type="button" data-view-component="true" class="btn">    Cancel
</button>
          <button form="custom-scopes-dialog-form" data-action="click:custom-scopes#customScopesSubmit" data-target="custom-scopes.customScopesSubmitButton" type="submit" data-view-component="true" class="btn-primary btn">    Create saved search
</button>
</div>
</dialog></dialog-helper>
    </custom-scopes>
  </div>
</qbsearch-input>  <input type="hidden" value="iSikimhlSQbbnC9hWoi9cygoTkkIgVOQtt29Anrd6_-nafcNOuBfzPVeTd31TuQFoZ_oGhbtDZgM7ItHSNImYg" data-csrf="true" class="js-data-jump-to-suggestions-path-csrf" />


          </div>

        
          <div class="AppHeader-CopilotChat hide-sm hide-md">
  <react-partial-anchor>
      <a href="/copilot" data-target="react-partial-anchor.anchor" id="copilot-chat-header-button" aria-labelledby="tooltip-0ad42982-91ff-4343-a73b-40ae136d79ff" data-view-component="true" class="Button Button--iconOnly Button--secondary Button--medium AppHeader-button AppHeader-buttonLeft cursor-wait">  <svg aria-hidden="true" height="16" viewBox="0 0 16 16" version="1.1" width="16" data-view-component="true" class="octicon octicon-copilot Button-visual">
    <path d="M7.998 15.035c-4.562 0-7.873-2.914-7.998-3.749V9.338c.085-.628.677-1.686 1.588-2.065.013-.07.024-.143.036-.218.029-.183.06-.384.126-.612-.201-.508-.254-1.084-.254-1.656 0-.87.128-1.769.693-2.484.579-.733 1.494-1.124 2.724-1.261 1.206-.134 2.262.034 2.944.765.05.053.096.108.139.165.044-.057.094-.112.143-.165.682-.731 1.738-.899 2.944-.765 1.23.137 2.145.528 2.724 1.261.566.715.693 1.614.693 2.484 0 .572-.053 1.148-.254 1.656.066.228.098.429.126.612.012.076.024.148.037.218.924.385 1.522 1.471 1.591 2.095v1.872c0 .766-3.351 3.795-8.002 3.795Zm0-1.485c2.28 0 4.584-1.11 5.002-1.433V7.862l-.023-.116c-.49.21-1.075.291-1.727.291-1.146 0-2.059-.327-2.71-.991A3.222 3.222 0 0 1 8 6.303a3.24 3.24 0 0 1-.544.743c-.65.664-1.563.991-2.71.991-.652 0-1.236-.081-1.727-.291l-.023.116v4.255c.419.323 2.722 1.433 5.002 1.433ZM6.762 2.83c-.193-.206-.637-.413-1.682-.297-1.019.113-1.479.404-1.713.7-.247.312-.369.789-.369 1.554 0 .793.129 1.171.308 1.371.162.181.519.379 1.442.379.853 0 1.339-.235 1.638-.54.315-.322.527-.827.617-1.553.117-.935-.037-1.395-.241-1.614Zm4.155-.297c-1.044-.116-1.488.091-1.681.297-.204.219-.359.679-.242 1.614.091.726.303 1.231.618 1.553.299.305.784.54 1.638.54.922 0 1.28-.198 1.442-.379.179-.2.308-.578.308-1.371 0-.765-.123-1.242-.37-1.554-.233-.296-.693-.587-1.713-.7Z"></path><path d="M6.25 9.037a.75.75 0 0 1 .75.75v1.501a.75.75 0 0 1-1.5 0V9.787a.75.75 0 0 1 .75-.75Zm4.25.75v1.501a.75.75 0 0 1-1.5 0V9.787a.75.75 0 0 1 1.5 0Z"></path>
</svg>
</a><tool-tip id="tooltip-0ad42982-91ff-4343-a73b-40ae136d79ff" for="copilot-chat-header-button" popover="manual" data-direction="s" data-type="label" data-view-component="true" class="sr-only position-absolute">Chat with Copilot</tool-tip>

    <template data-target="react-partial-anchor.template">
      <script crossorigin="anonymous" defer="defer" type="application/javascript" src="https://github.githubassets.com/assets/vendors-node_modules_tanstack_query-core_build_modern_queryObserver_js-node_modules_tanstack_-defd52-9743ca933872.js"></script>
<script crossorigin="anonymous" defer="defer" type="application/javascript" src="https://github.githubassets.com/assets/vendors-node_modules_react-relay_index_js-807c0f12a723.js"></script>
<script crossorigin="anonymous" defer="defer" type="application/javascript" src="https://github.githubassets.com/assets/vendors-node_modules_github_combobox-nav_dist_index_js-node_modules_lit-labs_react_index_js-n-dddfa0-0125dcccf00e.js"></script>
<script crossorigin="anonymous" defer="defer" type="application/javascript" src="https://github.githubassets.com/assets/vendors-node_modules_remark-gfm_lib_index_js-node_modules_remark-parse_lib_index_js-node_modu-44d0fc-3771aaaad894.js"></script>
<script crossorigin="anonymous" defer="defer" type="application/javascript" src="https://github.githubassets.com/assets/vendors-node_modules_hastscript_lib_index_js-node_modules_lowlight_lib_all_js-node_modules_re-713cc1-87a5f2c143a1.js"></script>
<script crossorigin="anonymous" defer="defer" type="application/javascript" src="https://github.githubassets.com/assets/vendors-node_modules_github_mini-throttle_dist_decorators_js-node_modules_accname_dist_access-690142-cc5d4d11394c.js"></script>
<script crossorigin="anonymous" defer="defer" type="application/javascript" src="https://github.githubassets.com/assets/vendors-node_modules_github_hotkey_dist_index_js-node_modules_tanstack_react-query_build_mode-dbf980-9688e53971a6.js"></script>
<script crossorigin="anonymous" defer="defer" type="application/javascript" src="https://github.githubassets.com/assets/ui_packages_item-picker_components_RepositoryPicker_tsx-d90fb9ae932d.js"></script>
<script crossorigin="anonymous" defer="defer" type="application/javascript" src="https://github.githubassets.com/assets/ui_packages_copilot-chat_utils_copilot-chat-helpers_ts-d6b52f4d82b2.js"></script>
<script crossorigin="anonymous" defer="defer" type="application/javascript" src="https://github.githubassets.com/assets/ui_packages_copilot-markdown_MarkdownRenderer_tsx-c4d1eecf483c.js"></script>
<script crossorigin="anonymous" defer="defer" type="application/javascript" src="https://github.githubassets.com/assets/ui_packages_copilot-chat_utils_CopilotChatContext_tsx-ui_packages_safe-html_SafeHTML_tsx-50683879757b.js"></script>
<script crossorigin="anonymous" defer="defer" type="application/javascript" src="https://github.githubassets.com/assets/ui_packages_copilot-chat_components_CopilotIconAnimation_tsx-ui_packages_copilot-chat_compone-8be2e4-50945575771d.js"></script>
<script crossorigin="anonymous" defer="defer" type="application/javascript" src="https://github.githubassets.com/assets/copilot-chat-63af13cab388.js"></script>
<link crossorigin="anonymous" media="all" rel="stylesheet" href="https://github.githubassets.com/assets/primer-react.247007205a629ae606a1.module.css" />
<link crossorigin="anonymous" media="all" rel="stylesheet" href="https://github.githubassets.com/assets/copilot-chat.733729e1dcbf5987bf31.module.css" />
      <link crossorigin="anonymous" media="all" rel="stylesheet" href="https://github.githubassets.com/assets/copilot-markdown-rendering-f6845e8f5d6b.css" />
      <include-fragment src="/github-copilot/chat?skip_anchor=true" data-nonce="v2:d8435c66-441f-ec56-278b-1557f8f93e9a" data-view-component="true">
  
  <div data-show-on-forbidden-error hidden>
    <div class="Box">
  <div class="blankslate-container">
    <div data-view-component="true" class="blankslate blankslate-spacious color-bg-default rounded-2">
      

      <h3 data-view-component="true" class="blankslate-heading">        Uh oh!
</h3>
      <p data-view-component="true">        <p class="color-fg-muted my-2 mb-2 ws-normal">There was an error while loading. <a class="Link--inTextBlock" data-turbo="false" href="" aria-label="Please reload this page">Please reload this page</a>.</p>
</p>

</div>  </div>
</div>  </div>
</include-fragment>
    </template>
  </react-partial-anchor>
  <react-partial-anchor>
    <button id="global-copilot-menu-button" data-target="react-partial-anchor.anchor" aria-expanded="false" aria-labelledby="tooltip-da923006-d5be-48ce-8ecf-29d65631c238" type="button" data-view-component="true" class="Button Button--iconOnly Button--secondary Button--medium AppHeader-button AppHeader-buttonRight">  <svg aria-hidden="true" height="16" viewBox="0 0 16 16" version="1.1" width="16" data-view-component="true" class="octicon octicon-triangle-down Button-visual">
    <path d="m4.427 7.427 3.396 3.396a.25.25 0 0 0 .354 0l3.396-3.396A.25.25 0 0 0 11.396 7H4.604a.25.25 0 0 0-.177.427Z"></path>
</svg>
</button><tool-tip id="tooltip-da923006-d5be-48ce-8ecf-29d65631c238" for="global-copilot-menu-button" popover="manual" data-direction="s" data-type="label" data-view-component="true" class="sr-only position-absolute">Open Copilot…</tool-tip>

    <template data-target="react-partial-anchor.template">
      <script crossorigin="anonymous" defer="defer" type="application/javascript" src="https://github.githubassets.com/assets/global-copilot-menu-563b646f60f5.js"></script>
<link crossorigin="anonymous" media="all" rel="stylesheet" href="https://github.githubassets.com/assets/primer-react.247007205a629ae606a1.module.css" />
<link crossorigin="anonymous" media="all" rel="stylesheet" href="https://github.githubassets.com/assets/global-copilot-menu.972c8de5acbdcb17b799.module.css" />

<react-partial
  partial-name="global-copilot-menu"
  data-ssr="false"
  data-attempted-ssr="false"
>
  
  <script type="application/json" data-target="react-partial.embeddedData">{"props":{}}</script>
  <div data-target="react-partial.reactRoot"></div>
</react-partial>

    </template>
  </react-partial-anchor>
</div>


        <div class="AppHeader-actions position-relative">
             <react-partial-anchor>
      <button id="global-create-menu-anchor" aria-label="Create something new" data-target="react-partial-anchor.anchor" type="button" disabled="disabled" data-view-component="true" class="AppHeader-button global-create-button cursor-wait Button--secondary Button--medium Button width-auto color-fg-muted">  <span class="Button-content">
      <span class="Button-visual Button-leadingVisual">
        <svg aria-hidden="true" height="16" viewBox="0 0 16 16" version="1.1" width="16" data-view-component="true" class="octicon octicon-plus">
    <path d="M7.75 2a.75.75 0 0 1 .75.75V7h4.25a.75.75 0 0 1 0 1.5H8.5v4.25a.75.75 0 0 1-1.5 0V8.5H2.75a.75.75 0 0 1 0-1.5H7V2.75A.75.75 0 0 1 7.75 2Z"></path>
</svg>
      </span>
    <span class="Button-label"><svg aria-hidden="true" height="16" viewBox="0 0 16 16" version="1.1" width="16" data-view-component="true" class="octicon octicon-triangle-down">
    <path d="m4.427 7.427 3.396 3.396a.25.25 0 0 0 .354 0l3.396-3.396A.25.25 0 0 0 11.396 7H4.604a.25.25 0 0 0-.177.427Z"></path>
</svg></span>
  </span>
</button><tool-tip id="tooltip-c1916824-828f-4f3b-a170-c7d25b3556fa" for="global-create-menu-anchor" popover="manual" data-direction="s" data-type="description" data-view-component="true" class="sr-only position-absolute">Create new...</tool-tip>

      <template data-target="react-partial-anchor.template">
        <script crossorigin="anonymous" defer="defer" type="application/javascript" src="https://github.githubassets.com/assets/ui_packages_document-metadata_document-metadata_ts-ui_packages_promise-with-resolvers-polyfil-b81d9e-6e2e6d28bfb2.js"></script>
<script crossorigin="anonymous" defer="defer" type="application/javascript" src="https://github.githubassets.com/assets/global-create-menu-c0e8b2269991.js"></script>
<link crossorigin="anonymous" media="all" rel="stylesheet" href="https://github.githubassets.com/assets/primer-react.247007205a629ae606a1.module.css" />
<link crossorigin="anonymous" media="all" rel="stylesheet" href="https://github.githubassets.com/assets/global-create-menu.b1ee6a6bae56a89148b1.module.css" />

<react-partial
  partial-name="global-create-menu"
  data-ssr="false"
  data-attempted-ssr="false"
>
  
  <script type="application/json" data-target="react-partial.embeddedData">{"props":{"createRepo":true,"importRepo":true,"codespaces":true,"spark":false,"gist":true,"createOrg":true,"createProject":false,"createProjectUrl":"/Dong-Den?tab=projects","createLegacyProject":false,"createIssue":false,"org":null,"owner":"Dong-Den","repo":"AIO-2025_Pre"}}</script>
  <div data-target="react-partial.reactRoot"></div>
</react-partial>

      </template>
    </react-partial-anchor>


            <a href="/issues" data-analytics-event="{&quot;category&quot;:&quot;Global navigation&quot;,&quot;action&quot;:&quot;ISSUES_HEADER&quot;,&quot;label&quot;:null}" id="icon-button-e4110b3e-035e-4fdf-8b69-765bf6b28978" aria-labelledby="tooltip-8824cbd0-fd03-49a8-a693-b31f2b877cfb" data-view-component="true" class="Button Button--iconOnly Button--secondary Button--medium AppHeader-button color-fg-muted">  <svg aria-hidden="true" height="16" viewBox="0 0 16 16" version="1.1" width="16" data-view-component="true" class="octicon octicon-issue-opened Button-visual">
    <path d="M8 9.5a1.5 1.5 0 1 0 0-3 1.5 1.5 0 0 0 0 3Z"></path><path d="M8 0a8 8 0 1 1 0 16A8 8 0 0 1 8 0ZM1.5 8a6.5 6.5 0 1 0 13 0 6.5 6.5 0 0 0-13 0Z"></path>
</svg>
</a><tool-tip id="tooltip-8824cbd0-fd03-49a8-a693-b31f2b877cfb" for="icon-button-e4110b3e-035e-4fdf-8b69-765bf6b28978" popover="manual" data-direction="s" data-type="label" data-view-component="true" class="sr-only position-absolute">Your issues</tool-tip>

            <a href="/pulls" data-analytics-event="{&quot;category&quot;:&quot;Global navigation&quot;,&quot;action&quot;:&quot;PULL_REQUESTS_HEADER&quot;,&quot;label&quot;:null}" id="icon-button-6047d370-3622-4895-964d-3f23abd5cde0" aria-labelledby="tooltip-20816de1-2f2a-4d81-92b9-b098573d1467" data-view-component="true" class="Button Button--iconOnly Button--secondary Button--medium AppHeader-button color-fg-muted">  <svg aria-hidden="true" height="16" viewBox="0 0 16 16" version="1.1" width="16" data-view-component="true" class="octicon octicon-git-pull-request Button-visual">
    <path d="M1.5 3.25a2.25 2.25 0 1 1 3 2.122v5.256a2.251 2.251 0 1 1-1.5 0V5.372A2.25 2.25 0 0 1 1.5 3.25Zm5.677-.177L9.573.677A.25.25 0 0 1 10 .854V2.5h1A2.5 2.5 0 0 1 13.5 5v5.628a2.251 2.251 0 1 1-1.5 0V5a1 1 0 0 0-1-1h-1v1.646a.25.25 0 0 1-.427.177L7.177 3.427a.25.25 0 0 1 0-.354ZM3.75 2.5a.75.75 0 1 0 0 1.5.75.75 0 0 0 0-1.5Zm0 9.5a.75.75 0 1 0 0 1.5.75.75 0 0 0 0-1.5Zm8.25.75a.75.75 0 1 0 1.5 0 .75.75 0 0 0-1.5 0Z"></path>
</svg>
</a><tool-tip id="tooltip-20816de1-2f2a-4d81-92b9-b098573d1467" for="icon-button-6047d370-3622-4895-964d-3f23abd5cde0" popover="manual" data-direction="s" data-type="label" data-view-component="true" class="sr-only position-absolute">Your pull requests</tool-tip>

        </div>

          <notification-indicator data-channel="eyJjIjoibm90aWZpY2F0aW9uLWNoYW5nZWQ6MTkzMzgxODYyIiwidCI6MTc0ODQ3NDA2MH0=--ba202301f87cdda7b7a9147f65003534cd7f302381f93df4667155824466ca9f" data-indicator-mode="none" data-tooltip-global="You have unread notifications" data-tooltip-unavailable="Notifications are unavailable at the moment." data-tooltip-none="You have no unread notifications" data-header-redesign-enabled="true" data-fetch-indicator-src="/notifications/indicator" data-fetch-indicator-enabled="true" data-view-component="true" class="js-socket-channel">
    <a id="AppHeader-notifications-button" href="/notifications" aria-labelledby="notification-indicator-tooltip" data-hotkey="g n" data-target="notification-indicator.link" data-analytics-event="{&quot;category&quot;:&quot;Global navigation&quot;,&quot;action&quot;:&quot;NOTIFICATIONS_HEADER&quot;,&quot;label&quot;:null}" data-view-component="true" class="Button Button--iconOnly Button--secondary Button--medium AppHeader-button  color-fg-muted">  <svg aria-hidden="true" height="16" viewBox="0 0 16 16" version="1.1" width="16" data-view-component="true" class="octicon octicon-inbox Button-visual">
    <path d="M2.8 2.06A1.75 1.75 0 0 1 4.41 1h7.18c.7 0 1.333.417 1.61 1.06l2.74 6.395c.04.093.06.194.06.295v4.5A1.75 1.75 0 0 1 14.25 15H1.75A1.75 1.75 0 0 1 0 13.25v-4.5c0-.101.02-.202.06-.295Zm1.61.44a.25.25 0 0 0-.23.152L1.887 8H4.75a.75.75 0 0 1 .6.3L6.625 10h2.75l1.275-1.7a.75.75 0 0 1 .6-.3h2.863L11.82 2.652a.25.25 0 0 0-.23-.152Zm10.09 7h-2.875l-1.275 1.7a.75.75 0 0 1-.6.3h-3.5a.75.75 0 0 1-.6-.3L4.375 9.5H1.5v3.75c0 .138.112.25.25.25h12.5a.25.25 0 0 0 .25-.25Z"></path>
</svg>
</a>

    <tool-tip id="notification-indicator-tooltip" data-target="notification-indicator.tooltip" for="AppHeader-notifications-button" popover="manual" data-direction="s" data-type="label" data-view-component="true" class="sr-only position-absolute">Notifications</tool-tip>
</notification-indicator>

        <div class="AppHeader-user">
          <deferred-side-panel data-url="/_side-panels/user?repository_id=976489619">
  <include-fragment data-target="deferred-side-panel.fragment" data-nonce="v2:d8435c66-441f-ec56-278b-1557f8f93e9a" data-view-component="true">
  
    <react-partial-anchor
  
>
  <button data-target="react-partial-anchor.anchor" data-login="Dong-Den" aria-label="Open user navigation menu" type="button" data-view-component="true" class="cursor-wait Button--invisible Button--medium Button Button--invisible-noVisuals color-bg-transparent p-0">  <span class="Button-content">
    <span class="Button-label"><img src="https://avatars.githubusercontent.com/u/193381862?v=4" alt="" size="32" height="32" width="32" data-view-component="true" class="avatar circle" /></span>
  </span>
</button>
  <template data-target="react-partial-anchor.template">
    <script crossorigin="anonymous" defer="defer" type="application/javascript" src="https://github.githubassets.com/assets/global-user-nav-drawer-35668158f2a2.js"></script>
<link crossorigin="anonymous" media="all" rel="stylesheet" href="https://github.githubassets.com/assets/primer-react.247007205a629ae606a1.module.css" />
<link crossorigin="anonymous" media="all" rel="stylesheet" href="https://github.githubassets.com/assets/global-user-nav-drawer.eeb7d39a21c5b49acbe0.module.css" />

<react-partial
  partial-name="global-user-nav-drawer"
  data-ssr="false"
  data-attempted-ssr="false"
>
  
  <script type="application/json" data-target="react-partial.embeddedData">{"props":{"owner":{"login":"Dong-Den","name":"DONG","avatarUrl":"https://avatars.githubusercontent.com/u/193381862?v=4"},"drawerId":"global-user-nav-drawer","lazyLoadItemDataFetchUrl":"/_side-panels/user.json","canAddAccount":true,"addAccountPath":"/login?add_account=1\u0026return_to=https%3A%2F%2Fgithub.com%2FDong-Den%2FAIO-2025_Pre%2Fblob%2Fmain%2FWEEK%252016_2025.5.20_KNN_Basic%252C%2520Advanced%2520Concepts%2520and%2520Its%2520Applications%2FPRE_WEEK_16_DAY_79_Thu%25E1%25BA%25ADt_To%25C3%25A1n_K_Nearest_Neighbors_%28KNN%29_update.ipynb","switchAccountPath":"/switch_account","loginAccountPath":"/login?add_account=1","projectsPath":"/Dong-Den?tab=projects","gistsUrl":"https://gist.github.com/mine","docsUrl":"https://docs.github.com","yourEnterpriseUrl":null,"enterpriseSettingsUrl":null,"supportUrl":"https://support.github.com","showAccountSwitcher":true,"showCopilot":true,"showEnterprises":true,"showEnterprise":false,"showGists":true,"showOrganizations":true,"showSponsors":true,"showUpgrade":true,"showFeaturesPreviews":true,"showEnterpriseSettings":false,"createMenuProps":{"createRepo":true,"importRepo":true,"codespaces":true,"spark":false,"gist":true,"createOrg":true,"createProject":false,"createProjectUrl":"/Dong-Den?tab=projects","createLegacyProject":false,"createIssue":false,"org":null,"owner":"Dong-Den","repo":"AIO-2025_Pre"}}}</script>
  <div data-target="react-partial.reactRoot"></div>
</react-partial>

  </template>
</react-partial-anchor>


  <div data-show-on-forbidden-error hidden>
    <div class="Box">
  <div class="blankslate-container">
    <div data-view-component="true" class="blankslate blankslate-spacious color-bg-default rounded-2">
      

      <h3 data-view-component="true" class="blankslate-heading">        Uh oh!
</h3>
      <p data-view-component="true">        <p class="color-fg-muted my-2 mb-2 ws-normal">There was an error while loading. <a class="Link--inTextBlock" data-turbo="false" href="" aria-label="Please reload this page">Please reload this page</a>.</p>
</p>

</div>  </div>
</div>  </div>
</include-fragment></deferred-side-panel>
        </div>

        <div class="position-absolute mt-2">
            
<site-header-logged-in-user-menu>

</site-header-logged-in-user-menu>

        </div>
      </div>
    </div>


    
        <div class="AppHeader-localBar" >
          <nav data-pjax="#js-repo-pjax-container" aria-label="Repository" data-view-component="true" class="js-repo-nav js-sidenav-container-pjax js-responsive-underlinenav overflow-hidden UnderlineNav">

  <ul data-view-component="true" class="UnderlineNav-body list-style-none">
      <li data-view-component="true" class="d-inline-flex">
  <a id="code-tab" href="/Dong-Den/AIO-2025_Pre" data-tab-item="i0code-tab" data-selected-links="repo_source repo_downloads repo_commits repo_releases repo_tags repo_branches repo_packages repo_deployments repo_attestations /Dong-Den/AIO-2025_Pre" data-pjax="#repo-content-pjax-container" data-turbo-frame="repo-content-turbo-frame" data-hotkey="g c" data-analytics-event="{&quot;category&quot;:&quot;Underline navbar&quot;,&quot;action&quot;:&quot;Click tab&quot;,&quot;label&quot;:&quot;Code&quot;,&quot;target&quot;:&quot;UNDERLINE_NAV.TAB&quot;}" data-view-component="true" class="UnderlineNav-item no-wrap js-responsive-underlinenav-item js-selected-navigation-item">
    
              <svg aria-hidden="true" height="16" viewBox="0 0 16 16" version="1.1" width="16" data-view-component="true" class="octicon octicon-code UnderlineNav-octicon d-none d-sm-inline">
    <path d="m11.28 3.22 4.25 4.25a.75.75 0 0 1 0 1.06l-4.25 4.25a.749.749 0 0 1-1.275-.326.749.749 0 0 1 .215-.734L13.94 8l-3.72-3.72a.749.749 0 0 1 .326-1.275.749.749 0 0 1 .734.215Zm-6.56 0a.751.751 0 0 1 1.042.018.751.751 0 0 1 .018 1.042L2.06 8l3.72 3.72a.749.749 0 0 1-.326 1.275.749.749 0 0 1-.734-.215L.47 8.53a.75.75 0 0 1 0-1.06Z"></path>
</svg>
        <span data-content="Code">Code</span>
          <span id="code-repo-tab-count" data-pjax-replace="" data-turbo-replace="" title="Not available" data-view-component="true" class="Counter"></span>


    
</a></li>
      <li data-view-component="true" class="d-inline-flex">
  <a id="issues-tab" href="/Dong-Den/AIO-2025_Pre/issues" data-tab-item="i1issues-tab" data-selected-links="repo_issues repo_labels repo_milestones /Dong-Den/AIO-2025_Pre/issues" data-pjax="#repo-content-pjax-container" data-turbo-frame="repo-content-turbo-frame" data-hotkey="g i" data-analytics-event="{&quot;category&quot;:&quot;Underline navbar&quot;,&quot;action&quot;:&quot;Click tab&quot;,&quot;label&quot;:&quot;Issues&quot;,&quot;target&quot;:&quot;UNDERLINE_NAV.TAB&quot;}" data-view-component="true" class="UnderlineNav-item no-wrap js-responsive-underlinenav-item js-selected-navigation-item">
    
              <svg aria-hidden="true" height="16" viewBox="0 0 16 16" version="1.1" width="16" data-view-component="true" class="octicon octicon-issue-opened UnderlineNav-octicon d-none d-sm-inline">
    <path d="M8 9.5a1.5 1.5 0 1 0 0-3 1.5 1.5 0 0 0 0 3Z"></path><path d="M8 0a8 8 0 1 1 0 16A8 8 0 0 1 8 0ZM1.5 8a6.5 6.5 0 1 0 13 0 6.5 6.5 0 0 0-13 0Z"></path>
</svg>
        <span data-content="Issues">Issues</span>
          <span id="issues-repo-tab-count" data-pjax-replace="" data-turbo-replace="" title="0" hidden="hidden" data-view-component="true" class="Counter">0</span>


    
</a></li>
      <li data-view-component="true" class="d-inline-flex">
  <a id="pull-requests-tab" href="/Dong-Den/AIO-2025_Pre/pulls" data-tab-item="i2pull-requests-tab" data-selected-links="repo_pulls checks /Dong-Den/AIO-2025_Pre/pulls" data-pjax="#repo-content-pjax-container" data-turbo-frame="repo-content-turbo-frame" data-hotkey="g p" data-analytics-event="{&quot;category&quot;:&quot;Underline navbar&quot;,&quot;action&quot;:&quot;Click tab&quot;,&quot;label&quot;:&quot;Pull requests&quot;,&quot;target&quot;:&quot;UNDERLINE_NAV.TAB&quot;}" data-view-component="true" class="UnderlineNav-item no-wrap js-responsive-underlinenav-item js-selected-navigation-item">
    
              <svg aria-hidden="true" height="16" viewBox="0 0 16 16" version="1.1" width="16" data-view-component="true" class="octicon octicon-git-pull-request UnderlineNav-octicon d-none d-sm-inline">
    <path d="M1.5 3.25a2.25 2.25 0 1 1 3 2.122v5.256a2.251 2.251 0 1 1-1.5 0V5.372A2.25 2.25 0 0 1 1.5 3.25Zm5.677-.177L9.573.677A.25.25 0 0 1 10 .854V2.5h1A2.5 2.5 0 0 1 13.5 5v5.628a2.251 2.251 0 1 1-1.5 0V5a1 1 0 0 0-1-1h-1v1.646a.25.25 0 0 1-.427.177L7.177 3.427a.25.25 0 0 1 0-.354ZM3.75 2.5a.75.75 0 1 0 0 1.5.75.75 0 0 0 0-1.5Zm0 9.5a.75.75 0 1 0 0 1.5.75.75 0 0 0 0-1.5Zm8.25.75a.75.75 0 1 0 1.5 0 .75.75 0 0 0-1.5 0Z"></path>
</svg>
        <span data-content="Pull requests">Pull requests</span>
          <span id="pull-requests-repo-tab-count" data-pjax-replace="" data-turbo-replace="" title="0" hidden="hidden" data-view-component="true" class="Counter">0</span>


    
</a></li>
      <li data-view-component="true" class="d-inline-flex">
  <a id="actions-tab" href="/Dong-Den/AIO-2025_Pre/actions" data-tab-item="i3actions-tab" data-selected-links="repo_actions /Dong-Den/AIO-2025_Pre/actions" data-pjax="#repo-content-pjax-container" data-turbo-frame="repo-content-turbo-frame" data-hotkey="g a" data-analytics-event="{&quot;category&quot;:&quot;Underline navbar&quot;,&quot;action&quot;:&quot;Click tab&quot;,&quot;label&quot;:&quot;Actions&quot;,&quot;target&quot;:&quot;UNDERLINE_NAV.TAB&quot;}" data-view-component="true" class="UnderlineNav-item no-wrap js-responsive-underlinenav-item js-selected-navigation-item">
    
              <svg aria-hidden="true" height="16" viewBox="0 0 16 16" version="1.1" width="16" data-view-component="true" class="octicon octicon-play UnderlineNav-octicon d-none d-sm-inline">
    <path d="M8 0a8 8 0 1 1 0 16A8 8 0 0 1 8 0ZM1.5 8a6.5 6.5 0 1 0 13 0 6.5 6.5 0 0 0-13 0Zm4.879-2.773 4.264 2.559a.25.25 0 0 1 0 .428l-4.264 2.559A.25.25 0 0 1 6 10.559V5.442a.25.25 0 0 1 .379-.215Z"></path>
</svg>
        <span data-content="Actions">Actions</span>
          <span id="actions-repo-tab-count" data-pjax-replace="" data-turbo-replace="" title="Not available" data-view-component="true" class="Counter"></span>


    
</a></li>
      <li data-view-component="true" class="d-inline-flex">
  <a id="projects-tab" href="/Dong-Den/AIO-2025_Pre/projects" data-tab-item="i4projects-tab" data-selected-links="repo_projects new_repo_project repo_project /Dong-Den/AIO-2025_Pre/projects" data-pjax="#repo-content-pjax-container" data-turbo-frame="repo-content-turbo-frame" data-hotkey="g b" data-analytics-event="{&quot;category&quot;:&quot;Underline navbar&quot;,&quot;action&quot;:&quot;Click tab&quot;,&quot;label&quot;:&quot;Projects&quot;,&quot;target&quot;:&quot;UNDERLINE_NAV.TAB&quot;}" data-view-component="true" class="UnderlineNav-item no-wrap js-responsive-underlinenav-item js-selected-navigation-item">
    
              <svg aria-hidden="true" height="16" viewBox="0 0 16 16" version="1.1" width="16" data-view-component="true" class="octicon octicon-table UnderlineNav-octicon d-none d-sm-inline">
    <path d="M0 1.75C0 .784.784 0 1.75 0h12.5C15.216 0 16 .784 16 1.75v12.5A1.75 1.75 0 0 1 14.25 16H1.75A1.75 1.75 0 0 1 0 14.25ZM6.5 6.5v8h7.75a.25.25 0 0 0 .25-.25V6.5Zm8-1.5V1.75a.25.25 0 0 0-.25-.25H6.5V5Zm-13 1.5v7.75c0 .138.112.25.25.25H5v-8ZM5 5V1.5H1.75a.25.25 0 0 0-.25.25V5Z"></path>
</svg>
        <span data-content="Projects">Projects</span>
          <span id="projects-repo-tab-count" data-pjax-replace="" data-turbo-replace="" title="0" hidden="hidden" data-view-component="true" class="Counter">0</span>


    
</a></li>
      <li data-view-component="true" class="d-inline-flex">
  <a id="wiki-tab" href="/Dong-Den/AIO-2025_Pre/wiki" data-tab-item="i5wiki-tab" data-selected-links="repo_wiki /Dong-Den/AIO-2025_Pre/wiki" data-pjax="#repo-content-pjax-container" data-turbo-frame="repo-content-turbo-frame" data-hotkey="g w" data-analytics-event="{&quot;category&quot;:&quot;Underline navbar&quot;,&quot;action&quot;:&quot;Click tab&quot;,&quot;label&quot;:&quot;Wiki&quot;,&quot;target&quot;:&quot;UNDERLINE_NAV.TAB&quot;}" data-view-component="true" class="UnderlineNav-item no-wrap js-responsive-underlinenav-item js-selected-navigation-item">
    
              <svg aria-hidden="true" height="16" viewBox="0 0 16 16" version="1.1" width="16" data-view-component="true" class="octicon octicon-book UnderlineNav-octicon d-none d-sm-inline">
    <path d="M0 1.75A.75.75 0 0 1 .75 1h4.253c1.227 0 2.317.59 3 1.501A3.743 3.743 0 0 1 11.006 1h4.245a.75.75 0 0 1 .75.75v10.5a.75.75 0 0 1-.75.75h-4.507a2.25 2.25 0 0 0-1.591.659l-.622.621a.75.75 0 0 1-1.06 0l-.622-.621A2.25 2.25 0 0 0 5.258 13H.75a.75.75 0 0 1-.75-.75Zm7.251 10.324.004-5.073-.002-2.253A2.25 2.25 0 0 0 5.003 2.5H1.5v9h3.757a3.75 3.75 0 0 1 1.994.574ZM8.755 4.75l-.004 7.322a3.752 3.752 0 0 1 1.992-.572H14.5v-9h-3.495a2.25 2.25 0 0 0-2.25 2.25Z"></path>
</svg>
        <span data-content="Wiki">Wiki</span>
          <span id="wiki-repo-tab-count" data-pjax-replace="" data-turbo-replace="" title="Not available" data-view-component="true" class="Counter"></span>


    
</a></li>
      <li data-view-component="true" class="d-inline-flex">
  <a id="security-tab" href="/Dong-Den/AIO-2025_Pre/security" data-tab-item="i6security-tab" data-selected-links="security overview alerts policy token_scanning code_scanning /Dong-Den/AIO-2025_Pre/security" data-pjax="#repo-content-pjax-container" data-turbo-frame="repo-content-turbo-frame" data-hotkey="g s" data-analytics-event="{&quot;category&quot;:&quot;Underline navbar&quot;,&quot;action&quot;:&quot;Click tab&quot;,&quot;label&quot;:&quot;Security&quot;,&quot;target&quot;:&quot;UNDERLINE_NAV.TAB&quot;}" data-view-component="true" class="UnderlineNav-item no-wrap js-responsive-underlinenav-item js-selected-navigation-item">
    
              <svg aria-hidden="true" height="16" viewBox="0 0 16 16" version="1.1" width="16" data-view-component="true" class="octicon octicon-shield UnderlineNav-octicon d-none d-sm-inline">
    <path d="M7.467.133a1.748 1.748 0 0 1 1.066 0l5.25 1.68A1.75 1.75 0 0 1 15 3.48V7c0 1.566-.32 3.182-1.303 4.682-.983 1.498-2.585 2.813-5.032 3.855a1.697 1.697 0 0 1-1.33 0c-2.447-1.042-4.049-2.357-5.032-3.855C1.32 10.182 1 8.566 1 7V3.48a1.75 1.75 0 0 1 1.217-1.667Zm.61 1.429a.25.25 0 0 0-.153 0l-5.25 1.68a.25.25 0 0 0-.174.238V7c0 1.358.275 2.666 1.057 3.86.784 1.194 2.121 2.34 4.366 3.297a.196.196 0 0 0 .154 0c2.245-.956 3.582-2.104 4.366-3.298C13.225 9.666 13.5 8.36 13.5 7V3.48a.251.251 0 0 0-.174-.237l-5.25-1.68ZM8.75 4.75v3a.75.75 0 0 1-1.5 0v-3a.75.75 0 0 1 1.5 0ZM9 10.5a1 1 0 1 1-2 0 1 1 0 0 1 2 0Z"></path>
</svg>
        <span data-content="Security">Security</span>
          <include-fragment src="/Dong-Den/AIO-2025_Pre/security/overall-count" accept="text/fragment+html" data-nonce="v2:d8435c66-441f-ec56-278b-1557f8f93e9a" data-view-component="true">
  
  <div data-show-on-forbidden-error hidden>
    <div class="Box">
  <div class="blankslate-container">
    <div data-view-component="true" class="blankslate blankslate-spacious color-bg-default rounded-2">
      

      <h3 data-view-component="true" class="blankslate-heading">        Uh oh!
</h3>
      <p data-view-component="true">        <p class="color-fg-muted my-2 mb-2 ws-normal">There was an error while loading. <a class="Link--inTextBlock" data-turbo="false" href="" aria-label="Please reload this page">Please reload this page</a>.</p>
</p>

</div>  </div>
</div>  </div>
</include-fragment>

    
</a></li>
      <li data-view-component="true" class="d-inline-flex">
  <a id="insights-tab" href="/Dong-Den/AIO-2025_Pre/pulse" data-tab-item="i7insights-tab" data-selected-links="repo_graphs repo_contributors dependency_graph dependabot_updates pulse people community /Dong-Den/AIO-2025_Pre/pulse" data-pjax="#repo-content-pjax-container" data-turbo-frame="repo-content-turbo-frame" data-analytics-event="{&quot;category&quot;:&quot;Underline navbar&quot;,&quot;action&quot;:&quot;Click tab&quot;,&quot;label&quot;:&quot;Insights&quot;,&quot;target&quot;:&quot;UNDERLINE_NAV.TAB&quot;}" data-view-component="true" class="UnderlineNav-item no-wrap js-responsive-underlinenav-item js-selected-navigation-item">
    
              <svg aria-hidden="true" height="16" viewBox="0 0 16 16" version="1.1" width="16" data-view-component="true" class="octicon octicon-graph UnderlineNav-octicon d-none d-sm-inline">
    <path d="M1.5 1.75V13.5h13.75a.75.75 0 0 1 0 1.5H.75a.75.75 0 0 1-.75-.75V1.75a.75.75 0 0 1 1.5 0Zm14.28 2.53-5.25 5.25a.75.75 0 0 1-1.06 0L7 7.06 4.28 9.78a.751.751 0 0 1-1.042-.018.751.751 0 0 1-.018-1.042l3.25-3.25a.75.75 0 0 1 1.06 0L10 7.94l4.72-4.72a.751.751 0 0 1 1.042.018.751.751 0 0 1 .018 1.042Z"></path>
</svg>
        <span data-content="Insights">Insights</span>
          <span id="insights-repo-tab-count" data-pjax-replace="" data-turbo-replace="" title="Not available" data-view-component="true" class="Counter"></span>


    
</a></li>
      <li data-view-component="true" class="d-inline-flex">
  <a id="settings-tab" href="/Dong-Den/AIO-2025_Pre/settings" data-tab-item="i8settings-tab" data-selected-links="code_review_limits codespaces_repository_settings collaborators custom_tabs github_models_repo_settings hooks integration_installations interaction_limits issue_template_editor key_links_settings notifications repo_announcements repo_branch_settings repo_custom_properties repo_keys_settings repo_pages_settings repo_protected_tags_settings repo_rule_insights repo_rules_bypass_requests repo_rulesets repo_settings_copilot_coding_guidelines repo_settings_copilot_content_exclusion repo_settings_copilot_swe_agent repo_settings reported_content repository_actions_settings_add_new_runner repository_actions_settings_general repository_actions_settings_runner_details repository_actions_settings_runners repository_actions_settings repository_environments role_details secrets_settings_actions secrets_settings_codespaces secrets_settings_dependabot secrets security_analysis security_products /Dong-Den/AIO-2025_Pre/settings" data-pjax="#repo-content-pjax-container" data-turbo-frame="repo-content-turbo-frame" data-analytics-event="{&quot;category&quot;:&quot;Underline navbar&quot;,&quot;action&quot;:&quot;Click tab&quot;,&quot;label&quot;:&quot;Settings&quot;,&quot;target&quot;:&quot;UNDERLINE_NAV.TAB&quot;}" data-view-component="true" class="UnderlineNav-item no-wrap js-responsive-underlinenav-item js-selected-navigation-item">
    
              <svg aria-hidden="true" height="16" viewBox="0 0 16 16" version="1.1" width="16" data-view-component="true" class="octicon octicon-gear UnderlineNav-octicon d-none d-sm-inline">
    <path d="M8 0a8.2 8.2 0 0 1 .701.031C9.444.095 9.99.645 10.16 1.29l.288 1.107c.018.066.079.158.212.224.231.114.454.243.668.386.123.082.233.09.299.071l1.103-.303c.644-.176 1.392.021 1.82.63.27.385.506.792.704 1.218.315.675.111 1.422-.364 1.891l-.814.806c-.049.048-.098.147-.088.294.016.257.016.515 0 .772-.01.147.038.246.088.294l.814.806c.475.469.679 1.216.364 1.891a7.977 7.977 0 0 1-.704 1.217c-.428.61-1.176.807-1.82.63l-1.102-.302c-.067-.019-.177-.011-.3.071a5.909 5.909 0 0 1-.668.386c-.133.066-.194.158-.211.224l-.29 1.106c-.168.646-.715 1.196-1.458 1.26a8.006 8.006 0 0 1-1.402 0c-.743-.064-1.289-.614-1.458-1.26l-.289-1.106c-.018-.066-.079-.158-.212-.224a5.738 5.738 0 0 1-.668-.386c-.123-.082-.233-.09-.299-.071l-1.103.303c-.644.176-1.392-.021-1.82-.63a8.12 8.12 0 0 1-.704-1.218c-.315-.675-.111-1.422.363-1.891l.815-.806c.05-.048.098-.147.088-.294a6.214 6.214 0 0 1 0-.772c.01-.147-.038-.246-.088-.294l-.815-.806C.635 6.045.431 5.298.746 4.623a7.92 7.92 0 0 1 .704-1.217c.428-.61 1.176-.807 1.82-.63l1.102.302c.067.019.177.011.3-.071.214-.143.437-.272.668-.386.133-.066.194-.158.211-.224l.29-1.106C6.009.645 6.556.095 7.299.03 7.53.01 7.764 0 8 0Zm-.571 1.525c-.036.003-.108.036-.137.146l-.289 1.105c-.147.561-.549.967-.998 1.189-.173.086-.34.183-.5.29-.417.278-.97.423-1.529.27l-1.103-.303c-.109-.03-.175.016-.195.045-.22.312-.412.644-.573.99-.014.031-.021.11.059.19l.815.806c.411.406.562.957.53 1.456a4.709 4.709 0 0 0 0 .582c.032.499-.119 1.05-.53 1.456l-.815.806c-.081.08-.073.159-.059.19.162.346.353.677.573.989.02.03.085.076.195.046l1.102-.303c.56-.153 1.113-.008 1.53.27.161.107.328.204.501.29.447.222.85.629.997 1.189l.289 1.105c.029.109.101.143.137.146a6.6 6.6 0 0 0 1.142 0c.036-.003.108-.036.137-.146l.289-1.105c.147-.561.549-.967.998-1.189.173-.086.34-.183.5-.29.417-.278.97-.423 1.529-.27l1.103.303c.109.029.175-.016.195-.045.22-.313.411-.644.573-.99.014-.031.021-.11-.059-.19l-.815-.806c-.411-.406-.562-.957-.53-1.456a4.709 4.709 0 0 0 0-.582c-.032-.499.119-1.05.53-1.456l.815-.806c.081-.08.073-.159.059-.19a6.464 6.464 0 0 0-.573-.989c-.02-.03-.085-.076-.195-.046l-1.102.303c-.56.153-1.113.008-1.53-.27a4.44 4.44 0 0 0-.501-.29c-.447-.222-.85-.629-.997-1.189l-.289-1.105c-.029-.11-.101-.143-.137-.146a6.6 6.6 0 0 0-1.142 0ZM11 8a3 3 0 1 1-6 0 3 3 0 0 1 6 0ZM9.5 8a1.5 1.5 0 1 0-3.001.001A1.5 1.5 0 0 0 9.5 8Z"></path>
</svg>
        <span data-content="Settings">Settings</span>
          <span id="settings-repo-tab-count" data-pjax-replace="" data-turbo-replace="" title="Not available" data-view-component="true" class="Counter"></span>


    
</a></li>
</ul>
    <div style="visibility:hidden;" data-view-component="true" class="UnderlineNav-actions js-responsive-underlinenav-overflow position-absolute pr-3 pr-md-4 pr-lg-5 right-0">      <action-menu data-select-variant="none" data-view-component="true">
  <focus-group direction="vertical" mnemonics retain>
    <button id="action-menu-91e5d632-e52e-4694-b650-be8e10d135f9-button" popovertarget="action-menu-91e5d632-e52e-4694-b650-be8e10d135f9-overlay" aria-controls="action-menu-91e5d632-e52e-4694-b650-be8e10d135f9-list" aria-haspopup="true" aria-labelledby="tooltip-583a42af-1dc7-49c9-9c41-0bd27f3c2309" type="button" data-view-component="true" class="Button Button--iconOnly Button--secondary Button--medium UnderlineNav-item">  <svg aria-hidden="true" height="16" viewBox="0 0 16 16" version="1.1" width="16" data-view-component="true" class="octicon octicon-kebab-horizontal Button-visual">
    <path d="M8 9a1.5 1.5 0 1 0 0-3 1.5 1.5 0 0 0 0 3ZM1.5 9a1.5 1.5 0 1 0 0-3 1.5 1.5 0 0 0 0 3Zm13 0a1.5 1.5 0 1 0 0-3 1.5 1.5 0 0 0 0 3Z"></path>
</svg>
</button><tool-tip id="tooltip-583a42af-1dc7-49c9-9c41-0bd27f3c2309" for="action-menu-91e5d632-e52e-4694-b650-be8e10d135f9-button" popover="manual" data-direction="s" data-type="label" data-view-component="true" class="sr-only position-absolute">Additional navigation options</tool-tip>


<anchored-position data-target="action-menu.overlay" id="action-menu-91e5d632-e52e-4694-b650-be8e10d135f9-overlay" anchor="action-menu-91e5d632-e52e-4694-b650-be8e10d135f9-button" align="start" side="outside-bottom" anchor-offset="normal" popover="auto" data-view-component="true">
  <div data-view-component="true" class="Overlay Overlay--size-auto">
    
      <div data-view-component="true" class="Overlay-body Overlay-body--paddingNone">          <action-list>
  <div data-view-component="true">
    <ul aria-labelledby="action-menu-91e5d632-e52e-4694-b650-be8e10d135f9-button" id="action-menu-91e5d632-e52e-4694-b650-be8e10d135f9-list" role="menu" data-view-component="true" class="ActionListWrap--inset ActionListWrap">
        <li hidden="hidden" data-menu-item="i0code-tab" data-targets="action-list.items" role="none" data-view-component="true" class="ActionListItem">
    
    
    <a tabindex="-1" id="item-81313cd3-5029-4311-b788-83563d1c880b" href="/Dong-Den/AIO-2025_Pre" role="menuitem" data-view-component="true" class="ActionListContent ActionListContent--visual16">
        <span class="ActionListItem-visual ActionListItem-visual--leading">
          <svg aria-hidden="true" height="16" viewBox="0 0 16 16" version="1.1" width="16" data-view-component="true" class="octicon octicon-code">
    <path d="m11.28 3.22 4.25 4.25a.75.75 0 0 1 0 1.06l-4.25 4.25a.749.749 0 0 1-1.275-.326.749.749 0 0 1 .215-.734L13.94 8l-3.72-3.72a.749.749 0 0 1 .326-1.275.749.749 0 0 1 .734.215Zm-6.56 0a.751.751 0 0 1 1.042.018.751.751 0 0 1 .018 1.042L2.06 8l3.72 3.72a.749.749 0 0 1-.326 1.275.749.749 0 0 1-.734-.215L.47 8.53a.75.75 0 0 1 0-1.06Z"></path>
</svg>
        </span>
      
        <span data-view-component="true" class="ActionListItem-label">
          Code
</span>      
</a>
  
</li>
        <li hidden="hidden" data-menu-item="i1issues-tab" data-targets="action-list.items" role="none" data-view-component="true" class="ActionListItem">
    
    
    <a tabindex="-1" id="item-65c27f4c-de6b-4bfc-a319-8ae96e52e08e" href="/Dong-Den/AIO-2025_Pre/issues" role="menuitem" data-view-component="true" class="ActionListContent ActionListContent--visual16">
        <span class="ActionListItem-visual ActionListItem-visual--leading">
          <svg aria-hidden="true" height="16" viewBox="0 0 16 16" version="1.1" width="16" data-view-component="true" class="octicon octicon-issue-opened">
    <path d="M8 9.5a1.5 1.5 0 1 0 0-3 1.5 1.5 0 0 0 0 3Z"></path><path d="M8 0a8 8 0 1 1 0 16A8 8 0 0 1 8 0ZM1.5 8a6.5 6.5 0 1 0 13 0 6.5 6.5 0 0 0-13 0Z"></path>
</svg>
        </span>
      
        <span data-view-component="true" class="ActionListItem-label">
          Issues
</span>      
</a>
  
</li>
        <li hidden="hidden" data-menu-item="i2pull-requests-tab" data-targets="action-list.items" role="none" data-view-component="true" class="ActionListItem">
    
    
    <a tabindex="-1" id="item-9a2a5f07-8dd0-43ae-aa75-54d5bf4285f3" href="/Dong-Den/AIO-2025_Pre/pulls" role="menuitem" data-view-component="true" class="ActionListContent ActionListContent--visual16">
        <span class="ActionListItem-visual ActionListItem-visual--leading">
          <svg aria-hidden="true" height="16" viewBox="0 0 16 16" version="1.1" width="16" data-view-component="true" class="octicon octicon-git-pull-request">
    <path d="M1.5 3.25a2.25 2.25 0 1 1 3 2.122v5.256a2.251 2.251 0 1 1-1.5 0V5.372A2.25 2.25 0 0 1 1.5 3.25Zm5.677-.177L9.573.677A.25.25 0 0 1 10 .854V2.5h1A2.5 2.5 0 0 1 13.5 5v5.628a2.251 2.251 0 1 1-1.5 0V5a1 1 0 0 0-1-1h-1v1.646a.25.25 0 0 1-.427.177L7.177 3.427a.25.25 0 0 1 0-.354ZM3.75 2.5a.75.75 0 1 0 0 1.5.75.75 0 0 0 0-1.5Zm0 9.5a.75.75 0 1 0 0 1.5.75.75 0 0 0 0-1.5Zm8.25.75a.75.75 0 1 0 1.5 0 .75.75 0 0 0-1.5 0Z"></path>
</svg>
        </span>
      
        <span data-view-component="true" class="ActionListItem-label">
          Pull requests
</span>      
</a>
  
</li>
        <li hidden="hidden" data-menu-item="i3actions-tab" data-targets="action-list.items" role="none" data-view-component="true" class="ActionListItem">
    
    
    <a tabindex="-1" id="item-282519fb-763b-4dbc-b50c-5e257df317ec" href="/Dong-Den/AIO-2025_Pre/actions" role="menuitem" data-view-component="true" class="ActionListContent ActionListContent--visual16">
        <span class="ActionListItem-visual ActionListItem-visual--leading">
          <svg aria-hidden="true" height="16" viewBox="0 0 16 16" version="1.1" width="16" data-view-component="true" class="octicon octicon-play">
    <path d="M8 0a8 8 0 1 1 0 16A8 8 0 0 1 8 0ZM1.5 8a6.5 6.5 0 1 0 13 0 6.5 6.5 0 0 0-13 0Zm4.879-2.773 4.264 2.559a.25.25 0 0 1 0 .428l-4.264 2.559A.25.25 0 0 1 6 10.559V5.442a.25.25 0 0 1 .379-.215Z"></path>
</svg>
        </span>
      
        <span data-view-component="true" class="ActionListItem-label">
          Actions
</span>      
</a>
  
</li>
        <li hidden="hidden" data-menu-item="i4projects-tab" data-targets="action-list.items" role="none" data-view-component="true" class="ActionListItem">
    
    
    <a tabindex="-1" id="item-3a517132-0395-4fa5-88c3-e7aeaac377fd" href="/Dong-Den/AIO-2025_Pre/projects" role="menuitem" data-view-component="true" class="ActionListContent ActionListContent--visual16">
        <span class="ActionListItem-visual ActionListItem-visual--leading">
          <svg aria-hidden="true" height="16" viewBox="0 0 16 16" version="1.1" width="16" data-view-component="true" class="octicon octicon-table">
    <path d="M0 1.75C0 .784.784 0 1.75 0h12.5C15.216 0 16 .784 16 1.75v12.5A1.75 1.75 0 0 1 14.25 16H1.75A1.75 1.75 0 0 1 0 14.25ZM6.5 6.5v8h7.75a.25.25 0 0 0 .25-.25V6.5Zm8-1.5V1.75a.25.25 0 0 0-.25-.25H6.5V5Zm-13 1.5v7.75c0 .138.112.25.25.25H5v-8ZM5 5V1.5H1.75a.25.25 0 0 0-.25.25V5Z"></path>
</svg>
        </span>
      
        <span data-view-component="true" class="ActionListItem-label">
          Projects
</span>      
</a>
  
</li>
        <li hidden="hidden" data-menu-item="i5wiki-tab" data-targets="action-list.items" role="none" data-view-component="true" class="ActionListItem">
    
    
    <a tabindex="-1" id="item-045c8661-fd5c-4e82-86b3-8d0e6bc2b4de" href="/Dong-Den/AIO-2025_Pre/wiki" role="menuitem" data-view-component="true" class="ActionListContent ActionListContent--visual16">
        <span class="ActionListItem-visual ActionListItem-visual--leading">
          <svg aria-hidden="true" height="16" viewBox="0 0 16 16" version="1.1" width="16" data-view-component="true" class="octicon octicon-book">
    <path d="M0 1.75A.75.75 0 0 1 .75 1h4.253c1.227 0 2.317.59 3 1.501A3.743 3.743 0 0 1 11.006 1h4.245a.75.75 0 0 1 .75.75v10.5a.75.75 0 0 1-.75.75h-4.507a2.25 2.25 0 0 0-1.591.659l-.622.621a.75.75 0 0 1-1.06 0l-.622-.621A2.25 2.25 0 0 0 5.258 13H.75a.75.75 0 0 1-.75-.75Zm7.251 10.324.004-5.073-.002-2.253A2.25 2.25 0 0 0 5.003 2.5H1.5v9h3.757a3.75 3.75 0 0 1 1.994.574ZM8.755 4.75l-.004 7.322a3.752 3.752 0 0 1 1.992-.572H14.5v-9h-3.495a2.25 2.25 0 0 0-2.25 2.25Z"></path>
</svg>
        </span>
      
        <span data-view-component="true" class="ActionListItem-label">
          Wiki
</span>      
</a>
  
</li>
        <li hidden="hidden" data-menu-item="i6security-tab" data-targets="action-list.items" role="none" data-view-component="true" class="ActionListItem">
    
    
    <a tabindex="-1" id="item-ffd3c78f-d93f-4711-a0e9-55993235672b" href="/Dong-Den/AIO-2025_Pre/security" role="menuitem" data-view-component="true" class="ActionListContent ActionListContent--visual16">
        <span class="ActionListItem-visual ActionListItem-visual--leading">
          <svg aria-hidden="true" height="16" viewBox="0 0 16 16" version="1.1" width="16" data-view-component="true" class="octicon octicon-shield">
    <path d="M7.467.133a1.748 1.748 0 0 1 1.066 0l5.25 1.68A1.75 1.75 0 0 1 15 3.48V7c0 1.566-.32 3.182-1.303 4.682-.983 1.498-2.585 2.813-5.032 3.855a1.697 1.697 0 0 1-1.33 0c-2.447-1.042-4.049-2.357-5.032-3.855C1.32 10.182 1 8.566 1 7V3.48a1.75 1.75 0 0 1 1.217-1.667Zm.61 1.429a.25.25 0 0 0-.153 0l-5.25 1.68a.25.25 0 0 0-.174.238V7c0 1.358.275 2.666 1.057 3.86.784 1.194 2.121 2.34 4.366 3.297a.196.196 0 0 0 .154 0c2.245-.956 3.582-2.104 4.366-3.298C13.225 9.666 13.5 8.36 13.5 7V3.48a.251.251 0 0 0-.174-.237l-5.25-1.68ZM8.75 4.75v3a.75.75 0 0 1-1.5 0v-3a.75.75 0 0 1 1.5 0ZM9 10.5a1 1 0 1 1-2 0 1 1 0 0 1 2 0Z"></path>
</svg>
        </span>
      
        <span data-view-component="true" class="ActionListItem-label">
          Security
</span>      
</a>
  
</li>
        <li hidden="hidden" data-menu-item="i7insights-tab" data-targets="action-list.items" role="none" data-view-component="true" class="ActionListItem">
    
    
    <a tabindex="-1" id="item-3b595790-e02f-4db9-bc85-d8de61adeb13" href="/Dong-Den/AIO-2025_Pre/pulse" role="menuitem" data-view-component="true" class="ActionListContent ActionListContent--visual16">
        <span class="ActionListItem-visual ActionListItem-visual--leading">
          <svg aria-hidden="true" height="16" viewBox="0 0 16 16" version="1.1" width="16" data-view-component="true" class="octicon octicon-graph">
    <path d="M1.5 1.75V13.5h13.75a.75.75 0 0 1 0 1.5H.75a.75.75 0 0 1-.75-.75V1.75a.75.75 0 0 1 1.5 0Zm14.28 2.53-5.25 5.25a.75.75 0 0 1-1.06 0L7 7.06 4.28 9.78a.751.751 0 0 1-1.042-.018.751.751 0 0 1-.018-1.042l3.25-3.25a.75.75 0 0 1 1.06 0L10 7.94l4.72-4.72a.751.751 0 0 1 1.042.018.751.751 0 0 1 .018 1.042Z"></path>
</svg>
        </span>
      
        <span data-view-component="true" class="ActionListItem-label">
          Insights
</span>      
</a>
  
</li>
        <li hidden="hidden" data-menu-item="i8settings-tab" data-targets="action-list.items" role="none" data-view-component="true" class="ActionListItem">
    
    
    <a tabindex="-1" id="item-d7f16e5c-1497-4d80-84a4-9ae3b7e94372" href="/Dong-Den/AIO-2025_Pre/settings" role="menuitem" data-view-component="true" class="ActionListContent ActionListContent--visual16">
        <span class="ActionListItem-visual ActionListItem-visual--leading">
          <svg aria-hidden="true" height="16" viewBox="0 0 16 16" version="1.1" width="16" data-view-component="true" class="octicon octicon-gear">
    <path d="M8 0a8.2 8.2 0 0 1 .701.031C9.444.095 9.99.645 10.16 1.29l.288 1.107c.018.066.079.158.212.224.231.114.454.243.668.386.123.082.233.09.299.071l1.103-.303c.644-.176 1.392.021 1.82.63.27.385.506.792.704 1.218.315.675.111 1.422-.364 1.891l-.814.806c-.049.048-.098.147-.088.294.016.257.016.515 0 .772-.01.147.038.246.088.294l.814.806c.475.469.679 1.216.364 1.891a7.977 7.977 0 0 1-.704 1.217c-.428.61-1.176.807-1.82.63l-1.102-.302c-.067-.019-.177-.011-.3.071a5.909 5.909 0 0 1-.668.386c-.133.066-.194.158-.211.224l-.29 1.106c-.168.646-.715 1.196-1.458 1.26a8.006 8.006 0 0 1-1.402 0c-.743-.064-1.289-.614-1.458-1.26l-.289-1.106c-.018-.066-.079-.158-.212-.224a5.738 5.738 0 0 1-.668-.386c-.123-.082-.233-.09-.299-.071l-1.103.303c-.644.176-1.392-.021-1.82-.63a8.12 8.12 0 0 1-.704-1.218c-.315-.675-.111-1.422.363-1.891l.815-.806c.05-.048.098-.147.088-.294a6.214 6.214 0 0 1 0-.772c.01-.147-.038-.246-.088-.294l-.815-.806C.635 6.045.431 5.298.746 4.623a7.92 7.92 0 0 1 .704-1.217c.428-.61 1.176-.807 1.82-.63l1.102.302c.067.019.177.011.3-.071.214-.143.437-.272.668-.386.133-.066.194-.158.211-.224l.29-1.106C6.009.645 6.556.095 7.299.03 7.53.01 7.764 0 8 0Zm-.571 1.525c-.036.003-.108.036-.137.146l-.289 1.105c-.147.561-.549.967-.998 1.189-.173.086-.34.183-.5.29-.417.278-.97.423-1.529.27l-1.103-.303c-.109-.03-.175.016-.195.045-.22.312-.412.644-.573.99-.014.031-.021.11.059.19l.815.806c.411.406.562.957.53 1.456a4.709 4.709 0 0 0 0 .582c.032.499-.119 1.05-.53 1.456l-.815.806c-.081.08-.073.159-.059.19.162.346.353.677.573.989.02.03.085.076.195.046l1.102-.303c.56-.153 1.113-.008 1.53.27.161.107.328.204.501.29.447.222.85.629.997 1.189l.289 1.105c.029.109.101.143.137.146a6.6 6.6 0 0 0 1.142 0c.036-.003.108-.036.137-.146l.289-1.105c.147-.561.549-.967.998-1.189.173-.086.34-.183.5-.29.417-.278.97-.423 1.529-.27l1.103.303c.109.029.175-.016.195-.045.22-.313.411-.644.573-.99.014-.031.021-.11-.059-.19l-.815-.806c-.411-.406-.562-.957-.53-1.456a4.709 4.709 0 0 0 0-.582c-.032-.499.119-1.05.53-1.456l.815-.806c.081-.08.073-.159.059-.19a6.464 6.464 0 0 0-.573-.989c-.02-.03-.085-.076-.195-.046l-1.102.303c-.56.153-1.113.008-1.53-.27a4.44 4.44 0 0 0-.501-.29c-.447-.222-.85-.629-.997-1.189l-.289-1.105c-.029-.11-.101-.143-.137-.146a6.6 6.6 0 0 0-1.142 0ZM11 8a3 3 0 1 1-6 0 3 3 0 0 1 6 0ZM9.5 8a1.5 1.5 0 1 0-3.001.001A1.5 1.5 0 0 0 9.5 8Z"></path>
</svg>
        </span>
      
        <span data-view-component="true" class="ActionListItem-label">
          Settings
</span>      
</a>
  
</li>
</ul>    
</div></action-list>


</div>
      
</div></anchored-position>  </focus-group>
</action-menu></div>
</nav>
          
        </div>
</header>


      <div hidden="hidden" data-view-component="true" class="js-stale-session-flash stale-session-flash flash flash-warn flash-full">
  
        <svg aria-hidden="true" height="16" viewBox="0 0 16 16" version="1.1" width="16" data-view-component="true" class="octicon octicon-alert">
    <path d="M6.457 1.047c.659-1.234 2.427-1.234 3.086 0l6.082 11.378A1.75 1.75 0 0 1 14.082 15H1.918a1.75 1.75 0 0 1-1.543-2.575Zm1.763.707a.25.25 0 0 0-.44 0L1.698 13.132a.25.25 0 0 0 .22.368h12.164a.25.25 0 0 0 .22-.368Zm.53 3.996v2.5a.75.75 0 0 1-1.5 0v-2.5a.75.75 0 0 1 1.5 0ZM9 11a1 1 0 1 1-2 0 1 1 0 0 1 2 0Z"></path>
</svg>
        <span class="js-stale-session-flash-signed-in" hidden>You signed in with another tab or window. <a class="Link--inTextBlock" href="">Reload</a> to refresh your session.</span>
        <span class="js-stale-session-flash-signed-out" hidden>You signed out in another tab or window. <a class="Link--inTextBlock" href="">Reload</a> to refresh your session.</span>
        <span class="js-stale-session-flash-switched" hidden>You switched accounts on another tab or window. <a class="Link--inTextBlock" href="">Reload</a> to refresh your session.</span>

    <button id="icon-button-c27ad99d-4848-4d98-ac06-711d00fe1a95" aria-labelledby="tooltip-ddcbbd6a-abe0-402f-a849-1246584e8b63" type="button" data-view-component="true" class="Button Button--iconOnly Button--invisible Button--medium flash-close js-flash-close">  <svg aria-hidden="true" height="16" viewBox="0 0 16 16" version="1.1" width="16" data-view-component="true" class="octicon octicon-x Button-visual">
    <path d="M3.72 3.72a.75.75 0 0 1 1.06 0L8 6.94l3.22-3.22a.749.749 0 0 1 1.275.326.749.749 0 0 1-.215.734L9.06 8l3.22 3.22a.749.749 0 0 1-.326 1.275.749.749 0 0 1-.734-.215L8 9.06l-3.22 3.22a.751.751 0 0 1-1.042-.018.751.751 0 0 1-.018-1.042L6.94 8 3.72 4.78a.75.75 0 0 1 0-1.06Z"></path>
</svg>
</button><tool-tip id="tooltip-ddcbbd6a-abe0-402f-a849-1246584e8b63" for="icon-button-c27ad99d-4848-4d98-ac06-711d00fe1a95" popover="manual" data-direction="s" data-type="label" data-view-component="true" class="sr-only position-absolute">Dismiss alert</tool-tip>


  
</div>
          
    </div>

  <div id="start-of-content" class="show-on-focus"></div>








    <div id="js-flash-container" class="flash-container" data-turbo-replace>




  <template class="js-flash-template">
    
<div class="flash flash-full   {{ className }}">
  <div >
    <button autofocus class="flash-close js-flash-close" type="button" aria-label="Dismiss this message">
      <svg aria-hidden="true" height="16" viewBox="0 0 16 16" version="1.1" width="16" data-view-component="true" class="octicon octicon-x">
    <path d="M3.72 3.72a.75.75 0 0 1 1.06 0L8 6.94l3.22-3.22a.749.749 0 0 1 1.275.326.749.749 0 0 1-.215.734L9.06 8l3.22 3.22a.749.749 0 0 1-.326 1.275.749.749 0 0 1-.734-.215L8 9.06l-3.22 3.22a.751.751 0 0 1-1.042-.018.751.751 0 0 1-.018-1.042L6.94 8 3.72 4.78a.75.75 0 0 1 0-1.06Z"></path>
</svg>
    </button>
    <div aria-atomic="true" role="alert" class="js-flash-alert">
      
      <div>{{ message }}</div>

    </div>
  </div>
</div>
  </template>
</div>


    
  <notification-shelf-watcher data-base-url="https://github.com/notifications/beta/shelf" data-channel="eyJjIjoibm90aWZpY2F0aW9uLWNoYW5nZWQ6MTkzMzgxODYyIiwidCI6MTc0ODQ3NDA2MH0=--ba202301f87cdda7b7a9147f65003534cd7f302381f93df4667155824466ca9f" data-view-component="true" class="js-socket-channel"></notification-shelf-watcher>
  <div hidden data-initial data-target="notification-shelf-watcher.placeholder"></div>






  <div
    class="application-main "
    data-commit-hovercards-enabled
    data-discussion-hovercards-enabled
    data-issue-and-pr-hovercards-enabled
    data-project-hovercards-enabled
  >
        <div itemscope itemtype="http://schema.org/SoftwareSourceCode" class="">
    <main id="js-repo-pjax-container" >
      
      






    
  <div id="repository-container-header" data-turbo-replace hidden ></div>




<turbo-frame id="repo-content-turbo-frame" target="_top" data-turbo-action="advance" class="">
    <div id="repo-content-pjax-container" class="repository-content " >
      <a href="https://github.dev/" class="d-none js-github-dev-shortcut" data-hotkey=".,Mod+Alt+.">Open in github.dev</a>
  <a href="https://github.dev/" class="d-none js-github-dev-new-tab-shortcut" data-hotkey="Shift+.,Shift+&gt;,&gt;" target="_blank" rel="noopener noreferrer">Open in a new github.dev tab</a>
    <a class="d-none" data-hotkey=",,Mod+Alt+," target="_blank" href="/codespaces/new/Dong-Den/AIO-2025_Pre/tree/main?resume=1">Open in codespace</a>




    
      
    








<react-app
  app-name="react-code-view"
  initial-path="/Dong-Den/AIO-2025_Pre/blob/main/WEEK%2016_2025.5.20_KNN_Basic%2C%20Advanced%20Concepts%20and%20Its%20Applications/PRE_WEEK_16_DAY_79_Thu%E1%BA%ADt_To%C3%A1n_K_Nearest_Neighbors_(KNN)_update.ipynb"
    style="display: block; min-height: calc(100vh - 64px);"
  data-attempted-ssr="true"
  data-ssr="true"
  data-lazy="false"
  data-alternate="false"
  data-data-router-enabled="false"
>
  
  <script type="application/json" data-target="react-app.embeddedData">{"payload":{"allShortcutsEnabled":true,"fileTree":{"WEEK 16_2025.5.20_KNN_Basic, Advanced Concepts and Its Applications":{"items":[{"name":"PRE_WEEK_16_DAY_78_Các_Phương_Pháp_Tính_Khoảng_Cách_Giữa_Vector.ipynb","path":"WEEK 16_2025.5.20_KNN_Basic, Advanced Concepts and Its Applications/PRE_WEEK_16_DAY_78_Các_Phương_Pháp_Tính_Khoảng_Cách_Giữa_Vector.ipynb","contentType":"file"},{"name":"PRE_WEEK_16_DAY_79_Thuật_Toán_K_Nearest_Neighbors_(KNN)_update.ipynb","path":"WEEK 16_2025.5.20_KNN_Basic, Advanced Concepts and Its Applications/PRE_WEEK_16_DAY_79_Thuật_Toán_K_Nearest_Neighbors_(KNN)_update.ipynb","contentType":"file"},{"name":"PRE_WEEK_16_DAY_80_Thuật_Toán_K_Nearest_Neighbors_(KNN)_Nâng_cao.ipynb","path":"WEEK 16_2025.5.20_KNN_Basic, Advanced Concepts and Its Applications/PRE_WEEK_16_DAY_80_Thuật_Toán_K_Nearest_Neighbors_(KNN)_Nâng_cao.ipynb","contentType":"file"},{"name":"WEEK 16_2025.5.20_KNN_Basic, Advanced Concepts and Its Applications.TXT","path":"WEEK 16_2025.5.20_KNN_Basic, Advanced Concepts and Its Applications/WEEK 16_2025.5.20_KNN_Basic, Advanced Concepts and Its Applications.TXT","contentType":"file"},{"name":"pre_week_16_day_81_dự_án_y_tế_dự_đoán_bệnh_dựa_trên_triệu_chứng_sử_dụng_knn.py","path":"WEEK 16_2025.5.20_KNN_Basic, Advanced Concepts and Its Applications/pre_week_16_day_81_dự_án_y_tế_dự_đoán_bệnh_dựa_trên_triệu_chứng_sử_dụng_knn.py","contentType":"file"},{"name":"requirements.txt","path":"WEEK 16_2025.5.20_KNN_Basic, Advanced Concepts and Its Applications/requirements.txt","contentType":"file"}],"totalCount":6},"":{"items":[{"name":"MySQL Pre","path":"MySQL Pre","contentType":"directory"},{"name":"W11_BASIC STATISTIC","path":"W11_BASIC STATISTIC","contentType":"directory"},{"name":"WEEK 13_2025.4.28_BAsic Linear Algebra and its Applications to Image Data","path":"WEEK 13_2025.4.28_BAsic Linear Algebra and its Applications to Image Data","contentType":"directory"},{"name":"WEEK 14_2025.5.5_Algorithms_Sort and Search","path":"WEEK 14_2025.5.5_Algorithms_Sort and Search","contentType":"directory"},{"name":"WEEK 15_2025.5.12_Intelligent Health Records: FastAPI Meets LLM for Seamless Patient Retrieval","path":"WEEK 15_2025.5.12_Intelligent Health Records: FastAPI Meets LLM for Seamless Patient Retrieval","contentType":"directory"},{"name":"WEEK 16_2025.5.20_KNN_Basic, Advanced Concepts and Its Applications","path":"WEEK 16_2025.5.20_KNN_Basic, Advanced Concepts and Its Applications","contentType":"directory"},{"name":"Week 10 Advance SQL in Data Analysis","path":"Week 10 Advance SQL in Data Analysis","contentType":"directory"},{"name":"Week 12_Streamlit","path":"Week 12_Streamlit","contentType":"directory"},{"name":"Week 1_Basic Python","path":"Week 1_Basic Python","contentType":"directory"},{"name":"Week 2_Data Structure","path":"Week 2_Data Structure","contentType":"directory"},{"name":"Week 3_Linear Algebra","path":"Week 3_Linear Algebra","contentType":"directory"},{"name":"Week 4_Object Oriented Programming","path":"Week 4_Object Oriented Programming","contentType":"directory"},{"name":"Week 5_Probability","path":"Week 5_Probability","contentType":"directory"},{"name":"Week 6_Basic Calculus","path":"Week 6_Basic Calculus","contentType":"directory"},{"name":"Week 7_Structured Query Language_Introduction Database","path":"Week 7_Structured Query Language_Introduction Database","contentType":"directory"},{"name":"Week 8_Advance Data Visualization","path":"Week 8_Advance Data Visualization","contentType":"directory"},{"name":"Week 9_SQL in Tata Analysis","path":"Week 9_SQL in Tata Analysis","contentType":"directory"}],"totalCount":17}},"fileTreeProcessingTime":8.342977999999999,"foldersToFetch":[],"incompleteFileTree":false,"repo":{"id":976489619,"defaultBranch":"main","name":"AIO-2025_Pre","ownerLogin":"Dong-Den","currentUserCanPush":true,"isFork":false,"isEmpty":false,"createdAt":"2025-05-02T14:41:43.000+07:00","ownerAvatar":"https://avatars.githubusercontent.com/u/193381862?v=4","public":true,"private":false,"isOrgOwned":false},"codeLineWrapEnabled":false,"symbolsExpanded":true,"treeExpanded":true,"refInfo":{"name":"main","listCacheKey":"v0:1746171795.0","canEdit":true,"refType":"branch","currentOid":"8b1879ace22833d53587f1793a83cd0634bc9e28"},"path":"WEEK 16_2025.5.20_KNN_Basic, Advanced Concepts and Its Applications/PRE_WEEK_16_DAY_79_Thuật_Toán_K_Nearest_Neighbors_(KNN)_update.ipynb","currentUser":{"id":193381862,"login":"Dong-Den","userEmail":"dongthikimchi1987@gmail.com"},"blob":{"rawLines":["{","  \"nbformat\": 4,","  \"nbformat_minor\": 0,","  \"metadata\": {","    \"colab\": {","      \"provenance\": []","    },","    \"kernelspec\": {","      \"name\": \"python3\",","      \"display_name\": \"Python 3\"","    },","    \"language_info\": {","      \"name\": \"python\"","    }","  },","  \"cells\": [","    {","      \"cell_type\": \"markdown\",","      \"source\": [","        \"#### Bài 1: Tính khoảng cách\\n\",","        \"#### ![image.png](data:image/png;base64,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)\"","      ],","      \"metadata\": {","        \"id\": \"A4nmXkZFZspu\"","      }","    },","    {","      \"cell_type\": \"code\",","      \"execution_count\": 13,","      \"metadata\": {","        \"colab\": {","          \"base_uri\": \"https://localhost:8080/\"","        },","        \"id\": \"L9-RN_9xYM2s\",","        \"outputId\": \"14af069d-7820-4bb1-d088-e53ddab25281\"","      },","      \"outputs\": [","        {","          \"output_type\": \"stream\",","          \"name\": \"stdout\",","          \"text\": [","            \"Khoảng cách từ P đến điểm A là: 1.0000\\n\",","            \"Khoảng cách từ P đến điểm B là: 1.0000\\n\",","            \"Khoảng cách từ P đến điểm C là: 1.4142\\n\",","            \"Khoảng cách từ P đến điểm D là: 5.0000\\n\",","            \"\\n\",","            \" Sắp xếp theo thứ tự tăng dần\\n\",","            \"A: 1.0000\\n\",","            \"B: 1.0000\\n\",","            \"C: 1.4142\\n\",","            \"D: 5.0000\\n\"","          ]","        }","      ],","      \"source\": [","        \"points = {\\n\",","        \"    'A': (1,2,0),\\n\",","        \"    'B': (2,3,0),\\n\",","        \"    'C': (3,1,1),\\n\",","        \"    'D': (6,5,1)\\n\",","        \"}\\n\",","        \"\\n\",","        \"P= (2,2)\\n\",","        \"\\n\",","        \"import numpy as np\\n\",","        \"\\n\",","        \"distances={}\\n\",","        \"for point, coords in points.items():\\n\",","        \"    dist = np.sqrt((P[0] - coords[0])**2 + (P[1] - coords[1])**2)\\n\",","        \"    distances[point] = dist\\n\",","        \"    print(f\\\"Khoảng cách từ P đến điểm {point} là: {dist:.4f}\\\")\\n\",","        \"\\n\",","        \"#print(distances)\\n\",","        \"\\n\",","        \"sorted_distances = dict(sorted(distances.items(), key=lambda x:x[1]))\\n\",","        \"print(\\\"\\\\n Sắp xếp theo thứ tự tăng dần\\\")\\n\",","        \"\\n\",","        \"for point, dist in sorted_distances.items():\\n\",","        \"    print(f\\\"{point}: {dist:.4f}\\\")\\n\",","        \"\\n\"","      ]","    },","    {","      \"cell_type\": \"markdown\",","      \"source\": [","        \"#### Bài 2: Phân loại với KNN\\n\",","        \"#### Sử dụng dữ liệu từ Bài 1, hãy phân loại điểm P = (2, 2) với:\\n\",","        \"####  • K = 1\\n\",","        \"####  • K = 3\\n\",","        \"####  Gợi ý:\\n\",","        \"####  • Tìm K điểm gần nhất theo khoảng cách Euclid.\\n\",","        \"####  • Đếm nhãn của các điểm gần nhất.\\n\",","        \"####  • Chọn nhãn phổ biến nhất.\"","      ],","      \"metadata\": {","        \"id\": \"xMzf_WdGcWZ9\"","      }","    },","    {","      \"cell_type\": \"code\",","      \"source\": [","        \"def knn_classify(k):\\n\",","        \"    k_nearest = list(sorted_distances.items())[:k]\\n\",","        \"    print(f\\\"\\\\n Với K = {k}:\\\")\\n\",","        \"    print(\\\"Các điểm gần nhất:\\\", [point for point, _ in k_nearest])\\n\",","        \"\\n\",","        \"    labels = [points [point][2] for point, _ in k_nearest]\\n\",","        \"    label_counts = {0: labels.count(0), 1: labels.count(1)}\\n\",","        \"    print(\\\"Số lượng nhãn:\\\", label_counts)\\n\",","        \"\\n\",","        \"    predicted_label = max(label_counts, key = label_counts.get)\\n\",","        \"    print(f\\\"Nhãn dự đoán: {predicted_label}\\\")\\n\",","        \"\\n\",","        \"    #return predicted_label\\n\",","        \"\\n\",","        \"knn_classify(3)\\n\",","        \"\\n\",","        \"knn_classify(1)\"","      ],","      \"metadata\": {","        \"colab\": {","          \"base_uri\": \"https://localhost:8080/\"","        },","        \"id\": \"lY5YnSdVxGzV\",","        \"outputId\": \"35c00679-652c-498b-f915-58bc6ed37bd2\"","      },","      \"execution_count\": 16,","      \"outputs\": [","        {","          \"output_type\": \"stream\",","          \"name\": \"stdout\",","          \"text\": [","            \"\\n\",","            \" Với K = 3:\\n\",","            \"Các điểm gần nhất: ['A', 'B', 'C']\\n\",","            \"Số lượng nhãn: {0: 2, 1: 1}\\n\",","            \"Nhãn dự đoán: 0\\n\",","            \"\\n\",","            \" Với K = 1:\\n\",","            \"Các điểm gần nhất: ['A']\\n\",","            \"Số lượng nhãn: {0: 1, 1: 0}\\n\",","            \"Nhãn dự đoán: 0\\n\"","          ]","        }","      ]","    },","    {","      \"cell_type\": \"markdown\",","      \"source\": [","        \"#### Bài 3: KNN trong không gian 3 chiều.\\n\",","        \"#### Cho:\\n\",","        \"#### x = (2, 1, 4), y = (5, 3, 0)\\n\",","        \"#### Tính khoảng cách Euclid giữa x và y.\\n\",","        \"#### d(x, y) =?\"","      ],","      \"metadata\": {","        \"id\": \"LjG3ZAzGGWyp\"","      }","    },","    {","      \"cell_type\": \"code\",","      \"source\": [","        \"import numpy as np\\n\",","        \"x = (2,1,4)\\n\",","        \"y = (5,3,0)\\n\",","        \"\\n\",","        \"distance = np.sqrt((x[0] - y[0])**2 + (x[1] - y[1])**2 + (x[2] - y[2])**2)\\n\",","        \"print(f\\\"Khoảng cách Euclid giữa x và y: {distance:.4f}\\\")\\n\"","      ],","      \"metadata\": {","        \"colab\": {","          \"base_uri\": \"https://localhost:8080/\"","        },","        \"id\": \"KpDNUo5aGbon\",","        \"outputId\": \"6dee3aa2-294b-4567-8355-81a9d05e4fb1\"","      },","      \"execution_count\": 12,","      \"outputs\": [","        {","          \"output_type\": \"stream\",","          \"name\": \"stdout\",","          \"text\": [","            \"Khoảng cách Euclid giữa x và y: 5.3852\\n\"","          ]","        }","      ]","    },","    {","      \"cell_type\": \"markdown\",","      \"source\": [","        \"#### Bài 4: Ảnh hưởng của K đến kết quả\\n\",","        \"#### Giả sử bạn có tập dữ liệu gồm 9 điểm, trong đó:\\n\",","        \"#### • 5 điểm có nhãn A\\n\",","        \"#### • 4 điểm có nhãn B\\n\",","        \"#### Nếu chọn:\\n\",","        \"#### • K = 3\\n\",","        \"#### • K = 5\\n\",","        \"#### • K = 9\\n\",","        \"#### Trong trường hợp điểm cần phân loại có các hàng xóm gần nhất được chọn từ nhóm 9 điểm trên, hãy cho biết nhãn sẽ được gán theo từng giá trị K.\"","      ],","      \"metadata\": {","        \"id\": \"-P7GqZSif23B\"","      }","    },","    {","      \"cell_type\": \"code\",","      \"source\": [","        \"sample_points={\\n\",","        \"    'P1': (1,1,'A'),\\n\",","        \"    'P2': (2,1,'A'),\\n\",","        \"    'P3': (1,2,'A'),\\n\",","        \"    'P4': (3, 1, 'A'),\\n\",","        \"    'P5': (2, 3, 'A'),\\n\",","        \"    'P6': (4, 2, 'B'),\\n\",","        \"    'P7': (5, 3, 'B'),\\n\",","        \"    'P8': (4, 4, 'B'),\\n\",","        \"    'P9': (6, 2, 'B')\\n\",","        \"}\\n\",","        \"\\n\",","        \"test_point = (3,3)\\n\",","        \"\\n\",","        \"import numpy as np\\n\",","        \"test_distances = {}\\n\",","        \"for point, coords in sample_points.items():\\n\",","        \"    dist = np.sqrt((test_point[0] - coords[0])**2 + (test_point[1] - coords[1])**2)\\n\",","        \"    test_distances[point] = dist\\n\",","        \"\\n\",","        \"sorted_test_distances = dict(sorted(test_distances.items(), key=lambda x: x[1]))\\n\",","        \"\\n\",","        \"def classify_with_k(k):\\n\",","        \"    k_nearest = list(sorted_test_distances.items()) [:k]\\n\",","        \"    labels = [sample_points[point][2] for point, _ in k_nearest]\\n\",","        \"    label_counts = {'A': labels.count('A'), 'B': labels.count('B')}\\n\",","        \"    predicted = max(label_counts, key =label_counts.get)\\n\",","        \"    return predicted, label_counts\\n\",","        \"\\n\",","        \"# Tính khoảng cách\\n\",","        \"# Sắp xếp\\n\",","        \"# Phân loại theo k: Lẩy k điểm, tách nhãn, đếm nhãn theo từng loại, chọn nhãn phổ biến nhất\\n\",","        \"\\n\",","        \"#Test\\n\",","        \"k_values = [3,5,9]\\n\",","        \"for k in k_values:\\n\",","        \"    predicted, counts = classify_with_k(k)\\n\",","        \"    print(f\\\"\\\\nVới k = {k}\\\")\\n\",","        \"    print(f\\\"Số lượng nhãn: {counts}\\\")\\n\",","        \"    print(f\\\"Nhãn dự đoán là: {predicted}\\\")\\n\",","        \"\\n\"","      ],","      \"metadata\": {","        \"colab\": {","          \"base_uri\": \"https://localhost:8080/\"","        },","        \"id\": \"pfMARnTfgHnb\",","        \"outputId\": \"3c8d1f17-95e0-4738-823a-69c3e08ad7a9\"","      },","      \"execution_count\": 21,","      \"outputs\": [","        {","          \"output_type\": \"stream\",","          \"name\": \"stdout\",","          \"text\": [","            \"\\n\",","            \"Với k = 3\\n\",","            \"Số lượng nhãn: {'A': 1, 'B': 2}\\n\",","            \"Nhãn dự đoán là: B\\n\",","            \"\\n\",","            \"Với k = 5\\n\",","            \"Số lượng nhãn: {'A': 2, 'B': 3}\\n\",","            \"Nhãn dự đoán là: B\\n\",","            \"\\n\",","            \"Với k = 9\\n\",","            \"Số lượng nhãn: {'A': 5, 'B': 4}\\n\",","            \"Nhãn dự đoán là: A\\n\"","          ]","        }","      ]","    },","    {","      \"cell_type\": \"markdown\",","      \"source\": [","        \"#### **DÙNG CÀI ĐẶT PYTHON (PSEUDOCODE)**\"","      ],","      \"metadata\": {","        \"id\": \"S81xmVIRK1FT\"","      }","    },","    {","      \"cell_type\": \"code\",","      \"source\": [","        \"from sklearn.neighbors import KNeighborsClassifier\\n\",","        \"X_train = [[1,2], [2,3], [3,1], [6,5]]\\n\",","        \"y_train = [0,0,1,1]\\n\",","        \"\\n\",","        \"model = KNeighborsClassifier(n_neighbors = 3)\\n\",","        \"model.fit(X_train, y_train)\\n\",","        \"\\n\",","        \"print(model.predict([[2,2]]))\\n\"","      ],","      \"metadata\": {","        \"colab\": {","          \"base_uri\": \"https://localhost:8080/\"","        },","        \"id\": \"_rGEWJfpK84J\",","        \"outputId\": \"c92c39d4-17c8-4e4f-e443-76d36ef894fb\"","      },","      \"execution_count\": 24,","      \"outputs\": [","        {","          \"output_type\": \"stream\",","          \"name\": \"stdout\",","          \"text\": [","            \"[0]\\n\"","          ]","        }","      ]","    },","    {","      \"cell_type\": \"code\",","      \"source\": [","        \"from sklearn.neighbors import KNeighborsClassifier\\n\",","        \"X_train1 = [[1,1], [2,1], [1,2],[3,1],[2,3],[4,2],[5,3],[4,4],[6,2]]\\n\",","        \"y_train1 = ['A','A','A','A','A','B','B','B','B']\\n\",","        \"\\n\",","        \"k_values = [3,5,9]\\n\",","        \"for k in k_values:\\n\",","        \"    model1= KNeighborsClassifier(n_neighbors = k)\\n\",","        \"    model1.fit(X_train1, y_train1)\\n\",","        \"    y_pred= model1.predict([[3,3]])\\n\",","        \"    print(y_pred)\\n\",","        \"\\n\"","      ],","      \"metadata\": {","        \"colab\": {","          \"base_uri\": \"https://localhost:8080/\"","        },","        \"id\": \"IUj6N9LDfk6W\",","        \"outputId\": \"38a57071-a5e1-4524-a735-179960d6675a\"","      },","      \"execution_count\": 25,","      \"outputs\": [","        {","          \"output_type\": \"stream\",","          \"name\": \"stdout\",","          \"text\": [","            \"['B']\\n\",","            \"['B']\\n\",","            \"['A']\\n\"","          ]","        }","      ]","    }","  ]","}"],"stylingDirectives":null,"colorizedLines":null,"csv":null,"csvError":null,"dependabotInfo":{"showConfigurationBanner":false,"configFilePath":null,"networkDependabotPath":"/Dong-Den/AIO-2025_Pre/network/updates","dismissConfigurationNoticePath":"/settings/dismiss-notice/dependabot_configuration_notice","configurationNoticeDismissed":false},"displayName":"PRE_WEEK_16_DAY_79_Thuật_Toán_K_Nearest_Neighbors_(KNN)_update.ipynb","displayUrl":"https://notebooks.githubusercontent.com/view/ipynb?browser=chrome\u0026bypass_fastly=true\u0026color_mode=auto\u0026commit=8b1879ace22833d53587f1793a83cd0634bc9e28\u0026device=unknown_device\u0026docs_host=https%3A%2F%2Fdocs.github.com\u0026enc_url=68747470733a2f2f7261772e67697468756275736572636f6e74656e742e636f6d2f446f6e672d44656e2f41494f2d323032355f5072652f386231383739616365323238333364353335383766313739336138336364303633346263396532382f5745454b25323031365f323032352e352e32305f4b4e4e5f4261736963253243253230416476616e636564253230436f6e6365707473253230616e642532304974732532304170706c69636174696f6e732f5052455f5745454b5f31365f4441595f37395f546875e1baad745f546fc3a16e5f4b5f4e6561726573745f4e65696768626f72735f284b4e4e295f7570646174652e6970796e62\u0026logged_in=true\u0026nwo=Dong-Den%2FAIO-2025_Pre\u0026path=WEEK+16_2025.5.20_KNN_Basic%2C+Advanced+Concepts+and+Its+Applications%2FPRE_WEEK_16_DAY_79_Thu%E1%BA%ADt_To%C3%A1n_K_Nearest_Neighbors_%28KNN%29_update.ipynb\u0026platform=windows\u0026repository_id=976489619\u0026repository_type=Repository\u0026version=136","headerInfo":{"blobSize":"68.2 KB","deleteTooltip":"Delete this file","editTooltip":"Edit this file","ghDesktopPath":"https://desktop.github.com","isGitLfs":false,"onBranch":true,"shortPath":"09b4e2d","siteNavLoginPath":"/login?return_to=https%3A%2F%2Fgithub.com%2FDong-Den%2FAIO-2025_Pre%2Fblob%2Fmain%2FWEEK%252016_2025.5.20_KNN_Basic%252C%2520Advanced%2520Concepts%2520and%2520Its%2520Applications%2FPRE_WEEK_16_DAY_79_Thu%25E1%25BA%25ADt_To%25C3%25A1n_K_Nearest_Neighbors_%28KNN%29_update.ipynb","isCSV":false,"isRichtext":false,"toc":null,"lineInfo":{"truncatedLoc":"354","truncatedSloc":"354"},"mode":"file"},"image":false,"isCodeownersFile":null,"isPlain":false,"isValidLegacyIssueTemplate":false,"issueTemplate":null,"discussionTemplate":null,"language":"Jupyter Notebook","languageID":185,"large":false,"planSupportInfo":{"repoIsFork":null,"repoOwnedByCurrentUser":null,"requestFullPath":"/Dong-Den/AIO-2025_Pre/blob/main/WEEK%2016_2025.5.20_KNN_Basic%2C%20Advanced%20Concepts%20and%20Its%20Applications/PRE_WEEK_16_DAY_79_Thu%E1%BA%ADt_To%C3%A1n_K_Nearest_Neighbors_(KNN)_update.ipynb","showFreeOrgGatedFeatureMessage":null,"showPlanSupportBanner":null,"upgradeDataAttributes":null,"upgradePath":null},"publishBannersInfo":{"dismissActionNoticePath":"/settings/dismiss-notice/publish_action_from_dockerfile","releasePath":"/Dong-Den/AIO-2025_Pre/releases/new?marketplace=true","showPublishActionBanner":false},"rawBlobUrl":"https://github.com/Dong-Den/AIO-2025_Pre/raw/refs/heads/main/WEEK%2016_2025.5.20_KNN_Basic,%20Advanced%20Concepts%20and%20Its%20Applications/PRE_WEEK_16_DAY_79_Thu%E1%BA%ADt_To%C3%A1n_K_Nearest_Neighbors_(KNN)_update.ipynb","renderImageOrRaw":false,"richText":null,"renderedFileInfo":{"identityUUID":"3a0dea16-9fed-4487-9bc3-66cc22ca9805","renderFileType":"ipynb","size":69829},"shortPath":null,"symbolsEnabled":true,"tabSize":8,"topBannersInfo":{"overridingGlobalFundingFile":false,"globalPreferredFundingPath":null,"showInvalidCitationWarning":false,"citationHelpUrl":"https://docs.github.com/github/creating-cloning-and-archiving-repositories/creating-a-repository-on-github/about-citation-files","actionsOnboardingTip":null},"truncated":false,"viewable":true,"workflowRedirectUrl":null,"symbols":{"timed_out":false,"not_analyzed":true,"symbols":[]}},"copilotInfo":null,"copilotAccessAllowed":true,"modelsAccessAllowed":false,"modelsRepoIntegrationEnabled":false,"csrf_tokens":{"/Dong-Den/AIO-2025_Pre/branches":{"post":"bTl7L1neRErcbVDcEPxqJvUjaJ2bEaj5yX8QavFjSSamahbhxT_w5MFSaoI533n0VM-h0Oc9S6OWdlV40_bPvw"},"/repos/preferences":{"post":"eiBhyO18caRlkVdm1ZnBbGE8Qu6ZKku8Jjmh2f1RxTPfu8sHodCp79wW5jVI90hQvsfHHRgciFs-yiF46SB-XQ"}}},"title":"AIO-2025_Pre/WEEK 16_2025.5.20_KNN_Basic, Advanced Concepts and Its Applications/PRE_WEEK_16_DAY_79_Thuật_Toán_K_Nearest_Neighbors_(KNN)_update.ipynb at main · Dong-Den/AIO-2025_Pre","appPayload":{"helpUrl":"https://docs.github.com","findFileWorkerPath":"/assets-cdn/worker/find-file-worker-7d7eb7c71814.js","findInFileWorkerPath":"/assets-cdn/worker/find-in-file-worker-1ae9fa256942.js","githubDevUrl":"https://github.dev/","enabled_features":{"code_nav_ui_events":false,"react_blob_overlay":true,"accessible_code_button":true,"github_models_repo_integration":false}}}</script>
  <div data-target="react-app.reactRoot"><style data-styled="true" data-styled-version="5.3.11">.gISSDQ{width:100%;}/*!sc*/
@media screen and (min-width:544px){.gISSDQ{width:100%;}}/*!sc*/
@media screen and (min-width:768px){.gISSDQ{width:auto;}}/*!sc*/
.birIjn{max-height:100%;height:100%;display:-webkit-box;display:-webkit-flex;display:-ms-flexbox;display:flex;-webkit-flex-direction:column;-ms-flex-direction:column;flex-direction:column;}/*!sc*/
@media screen and (max-width:768px){.birIjn{display:none;}}/*!sc*/
@media screen and (min-width:768px){.birIjn{max-height:100vh;height:100vh;}}/*!sc*/
.jfIeyl{display:-webkit-box;display:-webkit-flex;display:-ms-flexbox;display:flex;width:100%;margin-bottom:16px;-webkit-align-items:center;-webkit-box-align:center;-ms-flex-align:center;align-items:center;}/*!sc*/
.kOkWgo{font-size:16px;margin-left:8px;}/*!sc*/
.gMOVLe[data-size="medium"]{display:-webkit-box;display:-webkit-flex;display:-ms-flexbox;display:flex;min-width:0;}/*!sc*/
.gMOVLe[data-size="medium"] svg{color:var(--fgColor-muted,var(--color-fg-muted,#656d76));}/*!sc*/
.gMOVLe[data-size="medium"] > span{width:inherit;}/*!sc*/
.gUkoLg{-webkit-box-pack:center;-webkit-justify-content:center;-ms-flex-pack:center;justify-content:center;}/*!sc*/
.bZBlpz{display:-webkit-box;display:-webkit-flex;display:-ms-flexbox;display:flex;width:100%;}/*!sc*/
.lhTYNA{margin-right:4px;color:var(--fgColor-muted,var(--color-fg-muted,#656d76));}/*!sc*/
.ffLUq{font-size:14px;min-width:0;overflow:hidden;text-overflow:ellipsis;white-space:nowrap;}/*!sc*/
.bmcJak{min-width:0;}/*!sc*/
.dPUXSa[data-size="medium"][data-no-visuals]{border-top-left-radius:0;border-bottom-left-radius:0;}/*!sc*/
@media screen and (max-width:768px){.jLLPHh{display:none;}}/*!sc*/
.bHLmSv{position:absolute;inset:0 -2px;cursor:col-resize;background-color:transparent;-webkit-transition-delay:0.1s;transition-delay:0.1s;}/*!sc*/
.bHLmSv:hover{background-color:var(--bgColor-neutral-muted,var(--color-neutral-muted,rgba(175,184,193,0.2)));}/*!sc*/
.leYMvG{margin-left:auto;margin-right:auto;-webkit-flex-direction:column;-ms-flex-direction:column;flex-direction:column;padding-bottom:40px;max-width:100%;margin-top:0;}/*!sc*/
.KMPzq{display:inherit;}/*!sc*/
.cEytCf{display:-webkit-box;display:-webkit-flex;display:-ms-flexbox;display:flex;-webkit-flex-direction:row;-ms-flex-direction:row;flex-direction:row;font-size:16px;min-width:0;-webkit-flex-shrink:1;-ms-flex-negative:1;flex-shrink:1;-webkit-flex-wrap:wrap;-ms-flex-wrap:wrap;flex-wrap:wrap;max-width:100%;-webkit-align-items:center;-webkit-box-align:center;-ms-flex-align:center;align-items:center;}/*!sc*/
.fzFXnm{max-width:100%;}/*!sc*/
.iMnkmv{max-width:100%;list-style:none;display:inline-block;}/*!sc*/
.ghzDag{display:inline-block;max-width:100%;}/*!sc*/
.kHuKdh{font-weight:600;}/*!sc*/
.hzJBof{padding-left:4px;padding-right:4px;font-weight:400;color:var(--fgColor-muted,var(--color-fg-muted,#656d76));font-size:16px;}/*!sc*/
.kgiVEz{font-weight:400;}/*!sc*/
.jGhzSQ{font-weight:600;display:inline-block;max-width:100%;font-size:16px;}/*!sc*/
.fjrFuv[data-size="medium"][data-no-visuals]{display:none;}/*!sc*/
.dJxjrT{margin-left:16px;margin-right:16px;}/*!sc*/
.ldRxiI{display:-webkit-box;display:-webkit-flex;display:-ms-flexbox;display:flex;-webkit-flex-direction:row;-ms-flex-direction:row;flex-direction:row;}/*!sc*/
.fVkfyA{width:100%;height:-webkit-fit-content;height:-moz-fit-content;height:fit-content;min-width:0;margin-right:0;}/*!sc*/
.gNAmSV{height:40px;padding-left:4px;padding-bottom:16px;}/*!sc*/
.jdLMhu{top:0px;z-index:4;background:var(--bgColor-default,var(--color-canvas-default));position:-webkit-sticky;position:sticky;}/*!sc*/
.hqwSEx{display:none;min-width:0;padding-top:8px;padding-bottom:8px;}/*!sc*/
.fHind{display:-webkit-box;display:-webkit-flex;display:-ms-flexbox;display:flex;-webkit-flex-direction:row;-ms-flex-direction:row;flex-direction:row;font-size:14px;min-width:0;-webkit-flex-shrink:1;-ms-flex-negative:1;flex-shrink:1;-webkit-flex-wrap:wrap;-ms-flex-wrap:wrap;flex-wrap:wrap;max-width:100%;-webkit-align-items:center;-webkit-box-align:center;-ms-flex-align:center;align-items:center;}/*!sc*/
.oDtgN{padding-left:4px;padding-right:4px;font-weight:400;color:var(--fgColor-muted,var(--color-fg-muted,#656d76));font-size:14px;}/*!sc*/
.dnZoUW{font-weight:600;display:inline-block;max-width:100%;font-size:14px;}/*!sc*/
.gFKFyc{border-radius:6px 6px 0px 0px;}/*!sc*/
.lefpaC linkButtonSx:hover:not([disabled]){-webkit-text-decoration:none;text-decoration:none;}/*!sc*/
.lefpaC linkButtonSx:focus:not([disabled]){-webkit-text-decoration:none;text-decoration:none;}/*!sc*/
.lefpaC linkButtonSx:active:not([disabled]){-webkit-text-decoration:none;text-decoration:none;}/*!sc*/
.ivobqY[data-size="small"][data-no-visuals]{border-top-left-radius:0;border-bottom-left-radius:0;}/*!sc*/
.iCOsHh[data-size="small"][data-no-visuals]:hover:not([disabled]){-webkit-text-decoration:none;text-decoration:none;}/*!sc*/
.iCOsHh[data-size="small"][data-no-visuals]:focus:not([disabled]){-webkit-text-decoration:none;text-decoration:none;}/*!sc*/
.iCOsHh[data-size="small"][data-no-visuals]:active:not([disabled]){-webkit-text-decoration:none;text-decoration:none;}/*!sc*/
.hGyMdv{border:1px solid;border-top:none;border-color:var(--borderColor-default,var(--color-border-default,#d0d7de));border-radius:0px 0px 6px 6px;min-width:273px;}/*!sc*/
.iWAocR{background-color:var(--bgColor-default,var(--color-canvas-default));border:0px;border-width:0;border-radius:0px 0px 6px 6px;padding:0;min-width:0;margin-top:46px;overflow:auto;}/*!sc*/
.cCoXib{position:fixed;top:0;right:0;height:100%;width:15px;-webkit-transition:-webkit-transform 0.3s;-webkit-transition:transform 0.3s;transition:transform 0.3s;z-index:1;}/*!sc*/
.cCoXib:hover{-webkit-transform:scaleX(1.5);-ms-transform:scaleX(1.5);transform:scaleX(1.5);}/*!sc*/
.fgsa-DI{display:-webkit-box;display:-webkit-flex;display:-ms-flexbox;display:flex;-webkit-flex-direction:column;-ms-flex-direction:column;flex-direction:column;-webkit-align-items:center;-webkit-box-align:center;-ms-flex-align:center;align-items:center;padding-top:16px;padding-bottom:16px;}/*!sc*/
data-styled.g1[id="Box-sc-g0xbh4-0"]{content:"gISSDQ,birIjn,jfIeyl,kOkWgo,gMOVLe,gUkoLg,bZBlpz,lhTYNA,ffLUq,bmcJak,dPUXSa,jLLPHh,bHLmSv,leYMvG,KMPzq,cEytCf,fzFXnm,iMnkmv,ghzDag,kHuKdh,hzJBof,kgiVEz,jGhzSQ,fjrFuv,dJxjrT,ldRxiI,fVkfyA,gNAmSV,jdLMhu,hqwSEx,fHind,oDtgN,dnZoUW,gFKFyc,lefpaC,ivobqY,iCOsHh,hGyMdv,iWAocR,cCoXib,fgsa-DI,"}/*!sc*/
.brGdpi{position:absolute;width:1px;height:1px;padding:0;margin:-1px;overflow:hidden;-webkit-clip:rect(0,0,0,0);clip:rect(0,0,0,0);white-space:nowrap;border-width:0;}/*!sc*/
data-styled.g4[id="_VisuallyHidden__VisuallyHidden-sc-11jhm7a-0"]{content:"brGdpi,"}/*!sc*/
.hWlpPn{position:relative;display:inline-block;}/*!sc*/
.hWlpPn::after{position:absolute;z-index:1000000;display:none;padding:0.5em 0.75em;font:normal normal 11px/1.5 -apple-system,BlinkMacSystemFont,"Segoe UI","Noto Sans",Helvetica,Arial,sans-serif,"Apple Color Emoji","Segoe UI Emoji";-webkit-font-smoothing:subpixel-antialiased;color:var(--tooltip-fgColor,var(--fgColor-onEmphasis,var(--color-fg-on-emphasis,#ffffff)));text-align:center;-webkit-text-decoration:none;text-decoration:none;text-shadow:none;text-transform:none;-webkit-letter-spacing:normal;-moz-letter-spacing:normal;-ms-letter-spacing:normal;letter-spacing:normal;word-wrap:break-word;white-space:pre;pointer-events:none;content:attr(aria-label);background:var(--tooltip-bgColor,var(--bgColor-emphasis,var(--color-neutral-emphasis-plus,#24292f)));border-radius:6px;opacity:0;}/*!sc*/
@-webkit-keyframes tooltip-appear{from{opacity:0;}to{opacity:1;}}/*!sc*/
@keyframes tooltip-appear{from{opacity:0;}to{opacity:1;}}/*!sc*/
.hWlpPn:hover::after,.hWlpPn:active::after,.hWlpPn:focus::after,.hWlpPn:focus-within::after{display:inline-block;-webkit-text-decoration:none;text-decoration:none;-webkit-animation-name:tooltip-appear;animation-name:tooltip-appear;-webkit-animation-duration:0.1s;animation-duration:0.1s;-webkit-animation-fill-mode:forwards;animation-fill-mode:forwards;-webkit-animation-timing-function:ease-in;animation-timing-function:ease-in;-webkit-animation-delay:0s;animation-delay:0s;}/*!sc*/
.hWlpPn.tooltipped-no-delay:hover::after,.hWlpPn.tooltipped-no-delay:active::after,.hWlpPn.tooltipped-no-delay:focus::after,.hWlpPn.tooltipped-no-delay:focus-within::after{-webkit-animation-delay:0s;animation-delay:0s;}/*!sc*/
.hWlpPn.tooltipped-multiline:hover::after,.hWlpPn.tooltipped-multiline:active::after,.hWlpPn.tooltipped-multiline:focus::after,.hWlpPn.tooltipped-multiline:focus-within::after{display:table-cell;}/*!sc*/
.hWlpPn.tooltipped-s::after,.hWlpPn.tooltipped-se::after,.hWlpPn.tooltipped-sw::after{top:100%;right:50%;margin-top:6px;}/*!sc*/
.hWlpPn.tooltipped-se::after{right:auto;left:50%;margin-left:-16px;}/*!sc*/
.hWlpPn.tooltipped-sw::after{margin-right:-16px;}/*!sc*/
.hWlpPn.tooltipped-n::after,.hWlpPn.tooltipped-ne::after,.hWlpPn.tooltipped-nw::after{right:50%;bottom:100%;margin-bottom:6px;}/*!sc*/
.hWlpPn.tooltipped-ne::after{right:auto;left:50%;margin-left:-16px;}/*!sc*/
.hWlpPn.tooltipped-nw::after{margin-right:-16px;}/*!sc*/
.hWlpPn.tooltipped-s::after,.hWlpPn.tooltipped-n::after{-webkit-transform:translateX(50%);-ms-transform:translateX(50%);transform:translateX(50%);}/*!sc*/
.hWlpPn.tooltipped-w::after{right:100%;bottom:50%;margin-right:6px;-webkit-transform:translateY(50%);-ms-transform:translateY(50%);transform:translateY(50%);}/*!sc*/
.hWlpPn.tooltipped-e::after{bottom:50%;left:100%;margin-left:6px;-webkit-transform:translateY(50%);-ms-transform:translateY(50%);transform:translateY(50%);}/*!sc*/
.hWlpPn.tooltipped-multiline::after{width:-webkit-max-content;width:-moz-max-content;width:max-content;max-width:250px;word-wrap:break-word;white-space:pre-line;border-collapse:separate;}/*!sc*/
.hWlpPn.tooltipped-multiline.tooltipped-s::after,.hWlpPn.tooltipped-multiline.tooltipped-n::after{right:auto;left:50%;-webkit-transform:translateX(-50%);-ms-transform:translateX(-50%);transform:translateX(-50%);}/*!sc*/
.hWlpPn.tooltipped-multiline.tooltipped-w::after,.hWlpPn.tooltipped-multiline.tooltipped-e::after{right:100%;}/*!sc*/
.hWlpPn.tooltipped-align-right-2::after{right:0;margin-right:0;}/*!sc*/
.hWlpPn.tooltipped-align-left-2::after{left:0;margin-left:0;}/*!sc*/
data-styled.g5[id="Tooltip__TooltipBase-sc-17tf59c-0"]{content:"hWlpPn,"}/*!sc*/
.bgsFir{display:inline-block;overflow:hidden;text-overflow:ellipsis;vertical-align:top;white-space:nowrap;max-width:100%;}/*!sc*/
data-styled.g6[id="Truncate__StyledTruncate-sc-23o1d2-0"]{content:"bgsFir,"}/*!sc*/
</style><meta data-hydrostats="publish"/> <!-- --> <!-- --> <button hidden="" data-testid="header-permalink-button" data-hotkey-scope="read-only-cursor-text-area"></button><button hidden=""></button><div><div style="--spacing:var(--spacing-none)" class="Box-sc-g0xbh4-0 prc-PageLayout-PageLayoutRoot-1zlEO"><div class="prc-PageLayout-PageLayoutWrapper-s2ao4" data-width="full"><div class="prc-PageLayout-PageLayoutContent-jzDMn"><div tabindex="0" class="Box-sc-g0xbh4-0 gISSDQ"><div class="Box-sc-g0xbh4-0 prc-PageLayout-PaneWrapper-nGO0U ReposFileTreePane-module__Pane--wS7IV ReposFileTreePane-module__HidePaneWithTreeOverlay--fHI8k" style="--offset-header:0px;--spacing-row:var(--spacing-none);--spacing-column:var(--spacing-none)" data-is-hidden="false" data-position="start" data-sticky="true"><div class="Box-sc-g0xbh4-0 prc-PageLayout-HorizontalDivider-CYLp5 prc-PageLayout-PaneHorizontalDivider-4exOb" data-variant="none" data-position="start" style="--spacing-divider:var(--spacing-none);--spacing:var(--spacing-none)"></div><div class="prc-PageLayout-Pane-Vl5LI" data-resizable="true" style="--spacing:var(--spacing-none);--pane-min-width:256px;--pane-max-width:calc(100vw - var(--pane-max-width-diff));--pane-width-size:var(--pane-width-large);--pane-width:320px"><div class="react-tree-pane-contents-3-panel"><div id="repos-file-tree" class="Box-sc-g0xbh4-0 birIjn"><div class="ReposFileTreePane-module__Box_1--Bz4Aw"><div class="Box-sc-g0xbh4-0 jfIeyl"><h2 class="use-tree-pane-module__Heading--DlnQ2 prc-Heading-Heading-6CmGO"><button type="button" aria-label="Expand file tree" data-testid="expand-file-tree-button-mobile" class="prc-Button-ButtonBase-c50BI ExpandFileTreeButton-module__Button_1--M2dXF" data-loading="false" data-size="medium" data-variant="invisible" aria-describedby=":Rl6mplab:-loading-announcement"><span data-component="buttonContent" data-align="center" class="prc-Button-ButtonContent-HKbr-"><span data-component="leadingVisual" class="prc-Button-Visual-2epfX prc-Button-VisualWrap-Db-eB"><svg aria-hidden="true" focusable="false" class="octicon octicon-arrow-left" viewBox="0 0 16 16" width="16" height="16" fill="currentColor" display="inline-block" overflow="visible" style="vertical-align:text-bottom"><path d="M7.78 12.53a.75.75 0 0 1-1.06 0L2.47 8.28a.75.75 0 0 1 0-1.06l4.25-4.25a.751.751 0 0 1 1.042.018.751.751 0 0 1 .018 1.042L4.81 7h7.44a.75.75 0 0 1 0 1.5H4.81l2.97 2.97a.75.75 0 0 1 0 1.06Z"></path></svg></span><span data-component="text" class="prc-Button-Label-pTQ3x">Files</span></span></button><span role="tooltip" aria-label="Collapse file tree" id="expand-button-file-tree-button" class="Tooltip__TooltipBase-sc-17tf59c-0 hWlpPn tooltipped-se"><button data-component="IconButton" type="button" data-testid="collapse-file-tree-button" aria-expanded="true" aria-controls="repos-file-tree" data-analytics-opt-out="true" class="prc-Button-ButtonBase-c50BI position-relative ExpandFileTreeButton-module__expandButton--gL4is ExpandFileTreeButton-module__filesButtonBreakpoint--WfX9t fgColor-muted prc-Button-IconButton-szpyj" data-loading="false" data-no-visuals="true" data-size="medium" data-variant="invisible" aria-describedby=":R356mplab:-loading-announcement" aria-labelledby="expand-button-file-tree-button"><svg aria-hidden="true" focusable="false" class="octicon octicon-sidebar-expand" viewBox="0 0 16 16" width="16" height="16" fill="currentColor" display="inline-block" overflow="visible" style="vertical-align:text-bottom"><path d="m4.177 7.823 2.396-2.396A.25.25 0 0 1 7 5.604v4.792a.25.25 0 0 1-.427.177L4.177 8.177a.25.25 0 0 1 0-.354Z"></path><path d="M0 1.75C0 .784.784 0 1.75 0h12.5C15.216 0 16 .784 16 1.75v12.5A1.75 1.75 0 0 1 14.25 16H1.75A1.75 1.75 0 0 1 0 14.25Zm1.75-.25a.25.25 0 0 0-.25.25v12.5c0 .138.112.25.25.25H9.5v-13Zm12.5 13a.25.25 0 0 0 .25-.25V1.75a.25.25 0 0 0-.25-.25H11v13Z"></path></svg></button></span><button hidden="" data-testid="" data-hotkey-scope="read-only-cursor-text-area"></button></h2><h2 class="Box-sc-g0xbh4-0 kOkWgo prc-Heading-Heading-6CmGO">Files</h2></div><div class="ReposFileTreePane-module__Box_2--uC_pl"><div class="ReposFileTreePane-module__Box_3--Tgoja"><button type="button" aria-haspopup="true" aria-expanded="false" tabindex="0" aria-label="main branch" data-testid="anchor-button" class="Box-sc-g0xbh4-0 gMOVLe prc-Button-ButtonBase-c50BI react-repos-tree-pane-ref-selector width-full ref-selector-class" data-loading="false" data-size="medium" data-variant="default" aria-describedby="branch-picker-repos-header-ref-selector-loading-announcement" id="branch-picker-repos-header-ref-selector"><span data-component="buttonContent" class="Box-sc-g0xbh4-0 gUkoLg prc-Button-ButtonContent-HKbr-"><span data-component="text" class="prc-Button-Label-pTQ3x"><div class="Box-sc-g0xbh4-0 bZBlpz"><div class="Box-sc-g0xbh4-0 lhTYNA"><svg aria-hidden="true" focusable="false" class="octicon octicon-git-branch" viewBox="0 0 16 16" width="16" height="16" fill="currentColor" display="inline-block" overflow="visible" style="vertical-align:text-bottom"><path d="M9.5 3.25a2.25 2.25 0 1 1 3 2.122V6A2.5 2.5 0 0 1 10 8.5H6a1 1 0 0 0-1 1v1.128a2.251 2.251 0 1 1-1.5 0V5.372a2.25 2.25 0 1 1 1.5 0v1.836A2.493 2.493 0 0 1 6 7h4a1 1 0 0 0 1-1v-.628A2.25 2.25 0 0 1 9.5 3.25Zm-6 0a.75.75 0 1 0 1.5 0 .75.75 0 0 0-1.5 0Zm8.25-.75a.75.75 0 1 0 0 1.5.75.75 0 0 0 0-1.5ZM4.25 12a.75.75 0 1 0 0 1.5.75.75 0 0 0 0-1.5Z"></path></svg></div><div class="Box-sc-g0xbh4-0 ffLUq ref-selector-button-text-container"><span class="Box-sc-g0xbh4-0 bmcJak prc-Text-Text-0ima0"> <!-- -->main</span></div></div></span><span data-component="trailingVisual" class="prc-Button-Visual-2epfX prc-Button-VisualWrap-Db-eB"><svg aria-hidden="true" focusable="false" class="octicon octicon-triangle-down" viewBox="0 0 16 16" width="16" height="16" fill="currentColor" display="inline-block" overflow="visible" style="vertical-align:text-bottom"><path d="m4.427 7.427 3.396 3.396a.25.25 0 0 0 .354 0l3.396-3.396A.25.25 0 0 0 11.396 7H4.604a.25.25 0 0 0-.177.427Z"></path></svg></span></span></button><button hidden="" data-hotkey-scope="read-only-cursor-text-area"></button></div><div class="ReposFileTreePane-module__Box_4--brBpx"><a data-component="IconButton" type="button" aria-label="Add file" class="prc-Button-ButtonBase-c50BI ReposFileTreePane-module__IconButton--tNSTv prc-Button-IconButton-szpyj" data-loading="false" data-no-visuals="true" data-size="medium" data-variant="default" aria-describedby=":R6q6mplab:-loading-announcement :Rq6mplab:" href="/Dong-Den/AIO-2025_Pre/new/main/WEEK%2016_2025.5.20_KNN_Basic%2C%20Advanced%20Concepts%20and%20Its%20Applications"><svg aria-hidden="true" focusable="false" class="octicon octicon-plus" viewBox="0 0 16 16" width="16" height="16" fill="currentColor" display="inline-block" overflow="visible" style="vertical-align:text-bottom"><path d="M7.75 2a.75.75 0 0 1 .75.75V7h4.25a.75.75 0 0 1 0 1.5H8.5v4.25a.75.75 0 0 1-1.5 0V8.5H2.75a.75.75 0 0 1 0-1.5H7V2.75A.75.75 0 0 1 7.75 2Z"></path></svg></a><span class="prc-TooltipV2-Tooltip-cYMVY" data-direction="s" aria-label="Add file" role="tooltip" aria-hidden="true" id=":Rq6mplab:">Add file</span><button data-component="IconButton" type="button" aria-label="Search this repository" class="Box-sc-g0xbh4-0 dPUXSa prc-Button-ButtonBase-c50BI SearchButton-module__IconButton--LGy8b prc-Button-IconButton-szpyj" data-loading="false" data-no-visuals="true" data-size="medium" data-variant="default" aria-describedby=":R3a6mplab:-loading-announcement"><svg aria-hidden="true" focusable="false" class="octicon octicon-search" viewBox="0 0 16 16" width="16" height="16" fill="currentColor" display="inline-block" overflow="visible" style="vertical-align:text-bottom"><path d="M10.68 11.74a6 6 0 0 1-7.922-8.982 6 6 0 0 1 8.982 7.922l3.04 3.04a.749.749 0 0 1-.326 1.275.749.749 0 0 1-.734-.215ZM11.5 7a4.499 4.499 0 1 0-8.997 0A4.499 4.499 0 0 0 11.5 7Z"></path></svg></button><button hidden="" data-testid="" data-hotkey-scope="read-only-cursor-text-area"></button></div></div></div><div class="Box-sc-g0xbh4-0 jLLPHh ReposFileTreePane-module__FileResultsList--t38MI FileResultsList-module__Box_1--ZnWjQ"><span class="FileResultsList-module__FilesSearchBox--J5FtW FilesSearchBox-module__TextInput--LKpMn TextInput-wrapper prc-components-TextInputWrapper-i1ofR prc-components-TextInputBaseWrapper-ueK9q" data-leading-visual="true" data-trailing-visual="true" aria-busy="false"><span class="TextInput-icon" id=":R5amplab:" aria-hidden="true"><svg aria-hidden="true" focusable="false" class="octicon octicon-search" viewBox="0 0 16 16" width="16" height="16" fill="currentColor" display="inline-block" overflow="visible" style="vertical-align:text-bottom"><path d="M10.68 11.74a6 6 0 0 1-7.922-8.982 6 6 0 0 1 8.982 7.922l3.04 3.04a.749.749 0 0 1-.326 1.275.749.749 0 0 1-.734-.215ZM11.5 7a4.499 4.499 0 1 0-8.997 0A4.499 4.499 0 0 0 11.5 7Z"></path></svg></span><input type="text" aria-label="Go to file" role="combobox" aria-controls="file-results-list" aria-expanded="false" aria-haspopup="dialog" autoCorrect="off" spellcheck="false" placeholder="Go to file" aria-describedby=":R5amplab: :R5amplabH1:" data-component="input" class="prc-components-Input-Ic-y8" value=""/><span class="TextInput-icon" id=":R5amplabH1:" aria-hidden="true"><div class="FilesSearchBox-module__Box--Ye6rL"><kbd>t</kbd></div></span></span></div><button hidden="" data-testid="" data-hotkey-scope="read-only-cursor-text-area"></button><button hidden=""></button><div class="Box-sc-g0xbh4-0 jLLPHh ReposFileTreePane-module__Box_5--tQNH_"><div class="react-tree-show-tree-items"><div class="ReposFileTreeView-module__Box--V2jWA" data-testid="repos-file-tree-container"><nav aria-label="File Tree Navigation"><span role="status" aria-live="polite" aria-atomic="true" class="_VisuallyHidden__VisuallyHidden-sc-11jhm7a-0 brGdpi"></span><ul role="tree" aria-label="Files" data-truncate-text="true" class="prc-TreeView-TreeViewRootUlStyles-eZtxW"><li class="PRIVATE_TreeView-item prc-TreeView-TreeViewItem-ShJr0" tabindex="0" id="MySQL Pre-item" role="treeitem" aria-labelledby=":R3pimplab:" aria-describedby=":R3pimplabH1:" aria-level="1" aria-expanded="false" aria-selected="false"><div class="PRIVATE_TreeView-item-container prc-TreeView-TreeViewItemContainer--2Rkn" style="--level:1;content-visibility:auto;contain-intrinsic-size:auto 2rem"><div style="grid-area:spacer;display:flex"><div style="width:100%;display:flex"></div></div><div class="PRIVATE_TreeView-item-toggle PRIVATE_TreeView-item-toggle--hover PRIVATE_TreeView-item-toggle--end prc-TreeView-TreeViewItemToggle-gWUdE prc-TreeView-TreeViewItemToggleHover-nEgP- prc-TreeView-TreeViewItemToggleEnd-t-AEB"><svg aria-hidden="true" focusable="false" class="octicon octicon-chevron-right" viewBox="0 0 12 12" width="12" height="12" fill="currentColor" display="inline-block" overflow="visible" style="vertical-align:text-bottom"><path d="M4.7 10c-.2 0-.4-.1-.5-.2-.3-.3-.3-.8 0-1.1L6.9 6 4.2 3.3c-.3-.3-.3-.8 0-1.1.3-.3.8-.3 1.1 0l3.3 3.2c.3.3.3.8 0 1.1L5.3 9.7c-.2.2-.4.3-.6.3Z"></path></svg></div><div id=":R3pimplab:" class="PRIVATE_TreeView-item-content prc-TreeView-TreeViewItemContent-f0r0b"><div class="PRIVATE_VisuallyHidden prc-TreeView-TreeViewVisuallyHidden-4-mPv" aria-hidden="true" id=":R3pimplabH1:"></div><div class="PRIVATE_TreeView-item-visual prc-TreeView-TreeViewItemVisual-dRlGq" aria-hidden="true"><div class="PRIVATE_TreeView-directory-icon prc-TreeView-TreeViewDirectoryIcon-PHbeP"><svg aria-hidden="true" focusable="false" class="octicon octicon-file-directory-fill" viewBox="0 0 16 16" width="16" height="16" fill="currentColor" display="inline-block" overflow="visible" style="vertical-align:text-bottom"><path d="M1.75 1A1.75 1.75 0 0 0 0 2.75v10.5C0 14.216.784 15 1.75 15h12.5A1.75 1.75 0 0 0 16 13.25v-8.5A1.75 1.75 0 0 0 14.25 3H7.5a.25.25 0 0 1-.2-.1l-.9-1.2C6.07 1.26 5.55 1 5 1H1.75Z"></path></svg></div></div><span class="PRIVATE_TreeView-item-content-text prc-TreeView-TreeViewItemContentText-smZM-"><span>MySQL Pre</span></span></div></div></li><li class="PRIVATE_TreeView-item prc-TreeView-TreeViewItem-ShJr0" tabindex="0" id="W11_BASIC STATISTIC-item" role="treeitem" aria-labelledby=":R5pimplab:" aria-describedby=":R5pimplabH1:" aria-level="1" aria-expanded="false" aria-selected="false"><div class="PRIVATE_TreeView-item-container prc-TreeView-TreeViewItemContainer--2Rkn" style="--level:1;content-visibility:auto;contain-intrinsic-size:auto 2rem"><div style="grid-area:spacer;display:flex"><div style="width:100%;display:flex"></div></div><div class="PRIVATE_TreeView-item-toggle PRIVATE_TreeView-item-toggle--hover PRIVATE_TreeView-item-toggle--end prc-TreeView-TreeViewItemToggle-gWUdE prc-TreeView-TreeViewItemToggleHover-nEgP- prc-TreeView-TreeViewItemToggleEnd-t-AEB"><svg aria-hidden="true" focusable="false" class="octicon octicon-chevron-right" viewBox="0 0 12 12" width="12" height="12" fill="currentColor" display="inline-block" overflow="visible" style="vertical-align:text-bottom"><path d="M4.7 10c-.2 0-.4-.1-.5-.2-.3-.3-.3-.8 0-1.1L6.9 6 4.2 3.3c-.3-.3-.3-.8 0-1.1.3-.3.8-.3 1.1 0l3.3 3.2c.3.3.3.8 0 1.1L5.3 9.7c-.2.2-.4.3-.6.3Z"></path></svg></div><div id=":R5pimplab:" class="PRIVATE_TreeView-item-content prc-TreeView-TreeViewItemContent-f0r0b"><div class="PRIVATE_VisuallyHidden prc-TreeView-TreeViewVisuallyHidden-4-mPv" aria-hidden="true" id=":R5pimplabH1:"></div><div class="PRIVATE_TreeView-item-visual prc-TreeView-TreeViewItemVisual-dRlGq" aria-hidden="true"><div class="PRIVATE_TreeView-directory-icon prc-TreeView-TreeViewDirectoryIcon-PHbeP"><svg aria-hidden="true" focusable="false" class="octicon octicon-file-directory-fill" viewBox="0 0 16 16" width="16" height="16" fill="currentColor" display="inline-block" overflow="visible" style="vertical-align:text-bottom"><path d="M1.75 1A1.75 1.75 0 0 0 0 2.75v10.5C0 14.216.784 15 1.75 15h12.5A1.75 1.75 0 0 0 16 13.25v-8.5A1.75 1.75 0 0 0 14.25 3H7.5a.25.25 0 0 1-.2-.1l-.9-1.2C6.07 1.26 5.55 1 5 1H1.75Z"></path></svg></div></div><span class="PRIVATE_TreeView-item-content-text prc-TreeView-TreeViewItemContentText-smZM-"><span>W11_BASIC STATISTIC</span></span></div></div></li><li class="PRIVATE_TreeView-item prc-TreeView-TreeViewItem-ShJr0" tabindex="0" id="WEEK 13_2025.4.28_BAsic Linear Algebra and its Applications to Image Data-item" role="treeitem" aria-labelledby=":R7pimplab:" aria-describedby=":R7pimplabH1:" aria-level="1" aria-expanded="false" aria-selected="false"><div class="PRIVATE_TreeView-item-container prc-TreeView-TreeViewItemContainer--2Rkn" style="--level:1;content-visibility:auto;contain-intrinsic-size:auto 2rem"><div style="grid-area:spacer;display:flex"><div style="width:100%;display:flex"></div></div><div class="PRIVATE_TreeView-item-toggle PRIVATE_TreeView-item-toggle--hover PRIVATE_TreeView-item-toggle--end prc-TreeView-TreeViewItemToggle-gWUdE prc-TreeView-TreeViewItemToggleHover-nEgP- prc-TreeView-TreeViewItemToggleEnd-t-AEB"><svg aria-hidden="true" focusable="false" class="octicon octicon-chevron-right" viewBox="0 0 12 12" width="12" height="12" fill="currentColor" display="inline-block" overflow="visible" style="vertical-align:text-bottom"><path d="M4.7 10c-.2 0-.4-.1-.5-.2-.3-.3-.3-.8 0-1.1L6.9 6 4.2 3.3c-.3-.3-.3-.8 0-1.1.3-.3.8-.3 1.1 0l3.3 3.2c.3.3.3.8 0 1.1L5.3 9.7c-.2.2-.4.3-.6.3Z"></path></svg></div><div id=":R7pimplab:" class="PRIVATE_TreeView-item-content prc-TreeView-TreeViewItemContent-f0r0b"><div class="PRIVATE_VisuallyHidden prc-TreeView-TreeViewVisuallyHidden-4-mPv" aria-hidden="true" id=":R7pimplabH1:"></div><div class="PRIVATE_TreeView-item-visual prc-TreeView-TreeViewItemVisual-dRlGq" aria-hidden="true"><div class="PRIVATE_TreeView-directory-icon prc-TreeView-TreeViewDirectoryIcon-PHbeP"><svg aria-hidden="true" focusable="false" class="octicon octicon-file-directory-fill" viewBox="0 0 16 16" width="16" height="16" fill="currentColor" display="inline-block" overflow="visible" style="vertical-align:text-bottom"><path d="M1.75 1A1.75 1.75 0 0 0 0 2.75v10.5C0 14.216.784 15 1.75 15h12.5A1.75 1.75 0 0 0 16 13.25v-8.5A1.75 1.75 0 0 0 14.25 3H7.5a.25.25 0 0 1-.2-.1l-.9-1.2C6.07 1.26 5.55 1 5 1H1.75Z"></path></svg></div></div><span class="PRIVATE_TreeView-item-content-text prc-TreeView-TreeViewItemContentText-smZM-"><span>WEEK 13_2025.4.28_BAsic Linear Algebra and its Applications to Image Data</span></span></div></div></li><li class="PRIVATE_TreeView-item prc-TreeView-TreeViewItem-ShJr0" tabindex="0" id="WEEK 14_2025.5.5_Algorithms_Sort and Search-item" role="treeitem" aria-labelledby=":R9pimplab:" aria-describedby=":R9pimplabH1:" aria-level="1" aria-expanded="false" aria-selected="false"><div class="PRIVATE_TreeView-item-container prc-TreeView-TreeViewItemContainer--2Rkn" style="--level:1;content-visibility:auto;contain-intrinsic-size:auto 2rem"><div style="grid-area:spacer;display:flex"><div style="width:100%;display:flex"></div></div><div class="PRIVATE_TreeView-item-toggle PRIVATE_TreeView-item-toggle--hover PRIVATE_TreeView-item-toggle--end prc-TreeView-TreeViewItemToggle-gWUdE prc-TreeView-TreeViewItemToggleHover-nEgP- prc-TreeView-TreeViewItemToggleEnd-t-AEB"><svg aria-hidden="true" focusable="false" class="octicon octicon-chevron-right" viewBox="0 0 12 12" width="12" height="12" fill="currentColor" display="inline-block" overflow="visible" style="vertical-align:text-bottom"><path d="M4.7 10c-.2 0-.4-.1-.5-.2-.3-.3-.3-.8 0-1.1L6.9 6 4.2 3.3c-.3-.3-.3-.8 0-1.1.3-.3.8-.3 1.1 0l3.3 3.2c.3.3.3.8 0 1.1L5.3 9.7c-.2.2-.4.3-.6.3Z"></path></svg></div><div id=":R9pimplab:" class="PRIVATE_TreeView-item-content prc-TreeView-TreeViewItemContent-f0r0b"><div class="PRIVATE_VisuallyHidden prc-TreeView-TreeViewVisuallyHidden-4-mPv" aria-hidden="true" id=":R9pimplabH1:"></div><div class="PRIVATE_TreeView-item-visual prc-TreeView-TreeViewItemVisual-dRlGq" aria-hidden="true"><div class="PRIVATE_TreeView-directory-icon prc-TreeView-TreeViewDirectoryIcon-PHbeP"><svg aria-hidden="true" focusable="false" class="octicon octicon-file-directory-fill" viewBox="0 0 16 16" width="16" height="16" fill="currentColor" display="inline-block" overflow="visible" style="vertical-align:text-bottom"><path d="M1.75 1A1.75 1.75 0 0 0 0 2.75v10.5C0 14.216.784 15 1.75 15h12.5A1.75 1.75 0 0 0 16 13.25v-8.5A1.75 1.75 0 0 0 14.25 3H7.5a.25.25 0 0 1-.2-.1l-.9-1.2C6.07 1.26 5.55 1 5 1H1.75Z"></path></svg></div></div><span class="PRIVATE_TreeView-item-content-text prc-TreeView-TreeViewItemContentText-smZM-"><span>WEEK 14_2025.5.5_Algorithms_Sort and Search</span></span></div></div></li><li class="PRIVATE_TreeView-item prc-TreeView-TreeViewItem-ShJr0" tabindex="0" id="WEEK 15_2025.5.12_Intelligent Health Records: FastAPI Meets LLM for Seamless Patient Retrieval-item" role="treeitem" aria-labelledby=":Rbpimplab:" aria-describedby=":RbpimplabH1:" aria-level="1" aria-expanded="false" aria-selected="false"><div class="PRIVATE_TreeView-item-container prc-TreeView-TreeViewItemContainer--2Rkn" style="--level:1;content-visibility:auto;contain-intrinsic-size:auto 2rem"><div style="grid-area:spacer;display:flex"><div style="width:100%;display:flex"></div></div><div class="PRIVATE_TreeView-item-toggle PRIVATE_TreeView-item-toggle--hover PRIVATE_TreeView-item-toggle--end prc-TreeView-TreeViewItemToggle-gWUdE prc-TreeView-TreeViewItemToggleHover-nEgP- prc-TreeView-TreeViewItemToggleEnd-t-AEB"><svg aria-hidden="true" focusable="false" class="octicon octicon-chevron-right" viewBox="0 0 12 12" width="12" height="12" fill="currentColor" display="inline-block" overflow="visible" style="vertical-align:text-bottom"><path d="M4.7 10c-.2 0-.4-.1-.5-.2-.3-.3-.3-.8 0-1.1L6.9 6 4.2 3.3c-.3-.3-.3-.8 0-1.1.3-.3.8-.3 1.1 0l3.3 3.2c.3.3.3.8 0 1.1L5.3 9.7c-.2.2-.4.3-.6.3Z"></path></svg></div><div id=":Rbpimplab:" class="PRIVATE_TreeView-item-content prc-TreeView-TreeViewItemContent-f0r0b"><div class="PRIVATE_VisuallyHidden prc-TreeView-TreeViewVisuallyHidden-4-mPv" aria-hidden="true" id=":RbpimplabH1:"></div><div class="PRIVATE_TreeView-item-visual prc-TreeView-TreeViewItemVisual-dRlGq" aria-hidden="true"><div class="PRIVATE_TreeView-directory-icon prc-TreeView-TreeViewDirectoryIcon-PHbeP"><svg aria-hidden="true" focusable="false" class="octicon octicon-file-directory-fill" viewBox="0 0 16 16" width="16" height="16" fill="currentColor" display="inline-block" overflow="visible" style="vertical-align:text-bottom"><path d="M1.75 1A1.75 1.75 0 0 0 0 2.75v10.5C0 14.216.784 15 1.75 15h12.5A1.75 1.75 0 0 0 16 13.25v-8.5A1.75 1.75 0 0 0 14.25 3H7.5a.25.25 0 0 1-.2-.1l-.9-1.2C6.07 1.26 5.55 1 5 1H1.75Z"></path></svg></div></div><span class="PRIVATE_TreeView-item-content-text prc-TreeView-TreeViewItemContentText-smZM-"><span>WEEK 15_2025.5.12_Intelligent Health Records: FastAPI Meets LLM for Seamless Patient Retrieval</span></span></div></div></li><li class="PRIVATE_TreeView-item prc-TreeView-TreeViewItem-ShJr0" tabindex="0" id="WEEK 16_2025.5.20_KNN_Basic, Advanced Concepts and Its Applications-item" role="treeitem" aria-labelledby=":Rdpimplab:" aria-describedby=":RdpimplabH1:" aria-level="1" aria-expanded="true" aria-selected="false"><div class="PRIVATE_TreeView-item-container prc-TreeView-TreeViewItemContainer--2Rkn" style="--level:1;content-visibility:auto;contain-intrinsic-size:auto 2rem"><div style="grid-area:spacer;display:flex"><div style="width:100%;display:flex"></div></div><div class="PRIVATE_TreeView-item-toggle PRIVATE_TreeView-item-toggle--hover PRIVATE_TreeView-item-toggle--end prc-TreeView-TreeViewItemToggle-gWUdE prc-TreeView-TreeViewItemToggleHover-nEgP- prc-TreeView-TreeViewItemToggleEnd-t-AEB"><svg aria-hidden="true" focusable="false" class="octicon octicon-chevron-down" viewBox="0 0 12 12" width="12" height="12" fill="currentColor" display="inline-block" overflow="visible" style="vertical-align:text-bottom"><path d="M6 8.825c-.2 0-.4-.1-.5-.2l-3.3-3.3c-.3-.3-.3-.8 0-1.1.3-.3.8-.3 1.1 0l2.7 2.7 2.7-2.7c.3-.3.8-.3 1.1 0 .3.3.3.8 0 1.1l-3.2 3.2c-.2.2-.4.3-.6.3Z"></path></svg></div><div id=":Rdpimplab:" class="PRIVATE_TreeView-item-content prc-TreeView-TreeViewItemContent-f0r0b"><div class="PRIVATE_VisuallyHidden prc-TreeView-TreeViewVisuallyHidden-4-mPv" aria-hidden="true" id=":RdpimplabH1:"></div><div class="PRIVATE_TreeView-item-visual prc-TreeView-TreeViewItemVisual-dRlGq" aria-hidden="true"><div class="PRIVATE_TreeView-directory-icon prc-TreeView-TreeViewDirectoryIcon-PHbeP"><svg aria-hidden="true" focusable="false" class="octicon octicon-file-directory-open-fill" viewBox="0 0 16 16" width="16" height="16" fill="currentColor" display="inline-block" overflow="visible" style="vertical-align:text-bottom"><path d="M.513 1.513A1.75 1.75 0 0 1 1.75 1h3.5c.55 0 1.07.26 1.4.7l.9 1.2a.25.25 0 0 0 .2.1H13a1 1 0 0 1 1 1v.5H2.75a.75.75 0 0 0 0 1.5h11.978a1 1 0 0 1 .994 1.117L15 13.25A1.75 1.75 0 0 1 13.25 15H1.75A1.75 1.75 0 0 1 0 13.25V2.75c0-.464.184-.91.513-1.237Z"></path></svg></div></div><span class="PRIVATE_TreeView-item-content-text prc-TreeView-TreeViewItemContentText-smZM-"><span>WEEK 16_2025.5.20_KNN_Basic, Advanced Concepts and Its Applications</span></span></div></div><ul role="group" style="list-style:none;padding:0;margin:0" aria-label=""><li class="PRIVATE_TreeView-item prc-TreeView-TreeViewItem-ShJr0" tabindex="0" id="WEEK 16_2025.5.20_KNN_Basic, Advanced Concepts and Its Applications/PRE_WEEK_16_DAY_78_Các_Phương_Pháp_Tính_Khoảng_Cách_Giữa_Vector.ipynb-item" role="treeitem" aria-labelledby=":Raqdpimplab:" aria-describedby=":RaqdpimplabH1:" aria-level="2" aria-selected="false"><div class="PRIVATE_TreeView-item-container prc-TreeView-TreeViewItemContainer--2Rkn" style="--level:2;content-visibility:auto;contain-intrinsic-size:auto 2rem"><div style="grid-area:spacer;display:flex"><div style="width:100%;display:flex"><div class="PRIVATE_TreeView-item-level-line prc-TreeView-TreeViewItemLevelLine-KPSSL"></div></div></div><div id=":Raqdpimplab:" class="PRIVATE_TreeView-item-content prc-TreeView-TreeViewItemContent-f0r0b"><div class="PRIVATE_VisuallyHidden prc-TreeView-TreeViewVisuallyHidden-4-mPv" aria-hidden="true" id=":RaqdpimplabH1:"></div><div class="PRIVATE_TreeView-item-visual prc-TreeView-TreeViewItemVisual-dRlGq" aria-hidden="true"><svg aria-hidden="true" focusable="false" class="octicon octicon-file" viewBox="0 0 16 16" width="16" height="16" fill="currentColor" display="inline-block" overflow="visible" style="vertical-align:text-bottom"><path d="M2 1.75C2 .784 2.784 0 3.75 0h6.586c.464 0 .909.184 1.237.513l2.914 2.914c.329.328.513.773.513 1.237v9.586A1.75 1.75 0 0 1 13.25 16h-9.5A1.75 1.75 0 0 1 2 14.25Zm1.75-.25a.25.25 0 0 0-.25.25v12.5c0 .138.112.25.25.25h9.5a.25.25 0 0 0 .25-.25V6h-2.75A1.75 1.75 0 0 1 9 4.25V1.5Zm6.75.062V4.25c0 .138.112.25.25.25h2.688l-.011-.013-2.914-2.914-.013-.011Z"></path></svg></div><span class="PRIVATE_TreeView-item-content-text prc-TreeView-TreeViewItemContentText-smZM-"><span>PRE_WEEK_16_DAY_78_Các_Phương_Pháp_Tính_Khoảng_Cách_Giữa_Vector.ipynb</span></span></div></div></li><li class="PRIVATE_TreeView-item prc-TreeView-TreeViewItem-ShJr0" tabindex="0" id="WEEK 16_2025.5.20_KNN_Basic, Advanced Concepts and Its Applications/PRE_WEEK_16_DAY_79_Thuật_Toán_K_Nearest_Neighbors_(KNN)_update.ipynb-item" role="treeitem" aria-labelledby=":Riqdpimplab:" aria-describedby=":RiqdpimplabH1:" aria-level="2" aria-current="true" aria-selected="false"><div class="PRIVATE_TreeView-item-container prc-TreeView-TreeViewItemContainer--2Rkn" style="--level:2"><div style="grid-area:spacer;display:flex"><div style="width:100%;display:flex"><div class="PRIVATE_TreeView-item-level-line prc-TreeView-TreeViewItemLevelLine-KPSSL"></div></div></div><div id=":Riqdpimplab:" class="PRIVATE_TreeView-item-content prc-TreeView-TreeViewItemContent-f0r0b"><div class="PRIVATE_VisuallyHidden prc-TreeView-TreeViewVisuallyHidden-4-mPv" aria-hidden="true" id=":RiqdpimplabH1:"></div><div class="PRIVATE_TreeView-item-visual prc-TreeView-TreeViewItemVisual-dRlGq" aria-hidden="true"><svg aria-hidden="true" focusable="false" class="octicon octicon-file" viewBox="0 0 16 16" width="16" height="16" fill="currentColor" display="inline-block" overflow="visible" style="vertical-align:text-bottom"><path d="M2 1.75C2 .784 2.784 0 3.75 0h6.586c.464 0 .909.184 1.237.513l2.914 2.914c.329.328.513.773.513 1.237v9.586A1.75 1.75 0 0 1 13.25 16h-9.5A1.75 1.75 0 0 1 2 14.25Zm1.75-.25a.25.25 0 0 0-.25.25v12.5c0 .138.112.25.25.25h9.5a.25.25 0 0 0 .25-.25V6h-2.75A1.75 1.75 0 0 1 9 4.25V1.5Zm6.75.062V4.25c0 .138.112.25.25.25h2.688l-.011-.013-2.914-2.914-.013-.011Z"></path></svg></div><span class="PRIVATE_TreeView-item-content-text prc-TreeView-TreeViewItemContentText-smZM-"><span>PRE_WEEK_16_DAY_79_Thuật_Toán_K_Nearest_Neighbors_(KNN)_update.ipynb</span></span></div></div></li><li class="PRIVATE_TreeView-item prc-TreeView-TreeViewItem-ShJr0" tabindex="0" id="WEEK 16_2025.5.20_KNN_Basic, Advanced Concepts and Its Applications/PRE_WEEK_16_DAY_80_Thuật_Toán_K_Nearest_Neighbors_(KNN)_Nâng_cao.ipynb-item" role="treeitem" aria-labelledby=":Rqqdpimplab:" aria-describedby=":RqqdpimplabH1:" aria-level="2" aria-selected="false"><div class="PRIVATE_TreeView-item-container prc-TreeView-TreeViewItemContainer--2Rkn" style="--level:2;content-visibility:auto;contain-intrinsic-size:auto 2rem"><div style="grid-area:spacer;display:flex"><div style="width:100%;display:flex"><div class="PRIVATE_TreeView-item-level-line prc-TreeView-TreeViewItemLevelLine-KPSSL"></div></div></div><div id=":Rqqdpimplab:" class="PRIVATE_TreeView-item-content prc-TreeView-TreeViewItemContent-f0r0b"><div class="PRIVATE_VisuallyHidden prc-TreeView-TreeViewVisuallyHidden-4-mPv" aria-hidden="true" id=":RqqdpimplabH1:"></div><div class="PRIVATE_TreeView-item-visual prc-TreeView-TreeViewItemVisual-dRlGq" aria-hidden="true"><svg aria-hidden="true" focusable="false" class="octicon octicon-file" viewBox="0 0 16 16" width="16" height="16" fill="currentColor" display="inline-block" overflow="visible" style="vertical-align:text-bottom"><path d="M2 1.75C2 .784 2.784 0 3.75 0h6.586c.464 0 .909.184 1.237.513l2.914 2.914c.329.328.513.773.513 1.237v9.586A1.75 1.75 0 0 1 13.25 16h-9.5A1.75 1.75 0 0 1 2 14.25Zm1.75-.25a.25.25 0 0 0-.25.25v12.5c0 .138.112.25.25.25h9.5a.25.25 0 0 0 .25-.25V6h-2.75A1.75 1.75 0 0 1 9 4.25V1.5Zm6.75.062V4.25c0 .138.112.25.25.25h2.688l-.011-.013-2.914-2.914-.013-.011Z"></path></svg></div><span class="PRIVATE_TreeView-item-content-text prc-TreeView-TreeViewItemContentText-smZM-"><span>PRE_WEEK_16_DAY_80_Thuật_Toán_K_Nearest_Neighbors_(KNN)_Nâng_cao.ipynb</span></span></div></div></li><li class="PRIVATE_TreeView-item prc-TreeView-TreeViewItem-ShJr0" tabindex="0" id="WEEK 16_2025.5.20_KNN_Basic, Advanced Concepts and Its Applications/WEEK 16_2025.5.20_KNN_Basic, Advanced Concepts and Its Applications.TXT-item" role="treeitem" aria-labelledby=":R12qdpimplab:" aria-describedby=":R12qdpimplabH1:" aria-level="2" aria-selected="false"><div class="PRIVATE_TreeView-item-container prc-TreeView-TreeViewItemContainer--2Rkn" style="--level:2;content-visibility:auto;contain-intrinsic-size:auto 2rem"><div style="grid-area:spacer;display:flex"><div style="width:100%;display:flex"><div class="PRIVATE_TreeView-item-level-line prc-TreeView-TreeViewItemLevelLine-KPSSL"></div></div></div><div id=":R12qdpimplab:" class="PRIVATE_TreeView-item-content prc-TreeView-TreeViewItemContent-f0r0b"><div class="PRIVATE_VisuallyHidden prc-TreeView-TreeViewVisuallyHidden-4-mPv" aria-hidden="true" id=":R12qdpimplabH1:"></div><div class="PRIVATE_TreeView-item-visual prc-TreeView-TreeViewItemVisual-dRlGq" aria-hidden="true"><svg aria-hidden="true" focusable="false" class="octicon octicon-file" viewBox="0 0 16 16" width="16" height="16" fill="currentColor" display="inline-block" overflow="visible" style="vertical-align:text-bottom"><path d="M2 1.75C2 .784 2.784 0 3.75 0h6.586c.464 0 .909.184 1.237.513l2.914 2.914c.329.328.513.773.513 1.237v9.586A1.75 1.75 0 0 1 13.25 16h-9.5A1.75 1.75 0 0 1 2 14.25Zm1.75-.25a.25.25 0 0 0-.25.25v12.5c0 .138.112.25.25.25h9.5a.25.25 0 0 0 .25-.25V6h-2.75A1.75 1.75 0 0 1 9 4.25V1.5Zm6.75.062V4.25c0 .138.112.25.25.25h2.688l-.011-.013-2.914-2.914-.013-.011Z"></path></svg></div><span class="PRIVATE_TreeView-item-content-text prc-TreeView-TreeViewItemContentText-smZM-"><span>WEEK 16_2025.5.20_KNN_Basic, Advanced Concepts and Its Applications.TXT</span></span></div></div></li><li class="PRIVATE_TreeView-item prc-TreeView-TreeViewItem-ShJr0" tabindex="0" id="WEEK 16_2025.5.20_KNN_Basic, Advanced Concepts and Its Applications/pre_week_16_day_81_dự_án_y_tế_dự_đoán_bệnh_dựa_trên_triệu_chứng_sử_dụng_knn.py-item" role="treeitem" aria-labelledby=":R1aqdpimplab:" aria-describedby=":R1aqdpimplabH1:" aria-level="2" aria-selected="false"><div class="PRIVATE_TreeView-item-container prc-TreeView-TreeViewItemContainer--2Rkn" style="--level:2;content-visibility:auto;contain-intrinsic-size:auto 2rem"><div style="grid-area:spacer;display:flex"><div style="width:100%;display:flex"><div class="PRIVATE_TreeView-item-level-line prc-TreeView-TreeViewItemLevelLine-KPSSL"></div></div></div><div id=":R1aqdpimplab:" class="PRIVATE_TreeView-item-content prc-TreeView-TreeViewItemContent-f0r0b"><div class="PRIVATE_VisuallyHidden prc-TreeView-TreeViewVisuallyHidden-4-mPv" aria-hidden="true" id=":R1aqdpimplabH1:"></div><div class="PRIVATE_TreeView-item-visual prc-TreeView-TreeViewItemVisual-dRlGq" aria-hidden="true"><svg aria-hidden="true" focusable="false" class="octicon octicon-file" viewBox="0 0 16 16" width="16" height="16" fill="currentColor" display="inline-block" overflow="visible" style="vertical-align:text-bottom"><path d="M2 1.75C2 .784 2.784 0 3.75 0h6.586c.464 0 .909.184 1.237.513l2.914 2.914c.329.328.513.773.513 1.237v9.586A1.75 1.75 0 0 1 13.25 16h-9.5A1.75 1.75 0 0 1 2 14.25Zm1.75-.25a.25.25 0 0 0-.25.25v12.5c0 .138.112.25.25.25h9.5a.25.25 0 0 0 .25-.25V6h-2.75A1.75 1.75 0 0 1 9 4.25V1.5Zm6.75.062V4.25c0 .138.112.25.25.25h2.688l-.011-.013-2.914-2.914-.013-.011Z"></path></svg></div><span class="PRIVATE_TreeView-item-content-text prc-TreeView-TreeViewItemContentText-smZM-"><span>pre_week_16_day_81_dự_án_y_tế_dự_đoán_bệnh_dựa_trên_triệu_chứng_sử_dụng_knn.py</span></span></div></div></li><li class="PRIVATE_TreeView-item prc-TreeView-TreeViewItem-ShJr0" tabindex="0" id="WEEK 16_2025.5.20_KNN_Basic, Advanced Concepts and Its Applications/requirements.txt-item" role="treeitem" aria-labelledby=":R1iqdpimplab:" aria-describedby=":R1iqdpimplabH1:" aria-level="2" aria-selected="false"><div class="PRIVATE_TreeView-item-container prc-TreeView-TreeViewItemContainer--2Rkn" style="--level:2;content-visibility:auto;contain-intrinsic-size:auto 2rem"><div style="grid-area:spacer;display:flex"><div style="width:100%;display:flex"><div class="PRIVATE_TreeView-item-level-line prc-TreeView-TreeViewItemLevelLine-KPSSL"></div></div></div><div id=":R1iqdpimplab:" class="PRIVATE_TreeView-item-content prc-TreeView-TreeViewItemContent-f0r0b"><div class="PRIVATE_VisuallyHidden prc-TreeView-TreeViewVisuallyHidden-4-mPv" aria-hidden="true" id=":R1iqdpimplabH1:"></div><div class="PRIVATE_TreeView-item-visual prc-TreeView-TreeViewItemVisual-dRlGq" aria-hidden="true"><svg aria-hidden="true" focusable="false" class="octicon octicon-file" viewBox="0 0 16 16" width="16" height="16" fill="currentColor" display="inline-block" overflow="visible" style="vertical-align:text-bottom"><path d="M2 1.75C2 .784 2.784 0 3.75 0h6.586c.464 0 .909.184 1.237.513l2.914 2.914c.329.328.513.773.513 1.237v9.586A1.75 1.75 0 0 1 13.25 16h-9.5A1.75 1.75 0 0 1 2 14.25Zm1.75-.25a.25.25 0 0 0-.25.25v12.5c0 .138.112.25.25.25h9.5a.25.25 0 0 0 .25-.25V6h-2.75A1.75 1.75 0 0 1 9 4.25V1.5Zm6.75.062V4.25c0 .138.112.25.25.25h2.688l-.011-.013-2.914-2.914-.013-.011Z"></path></svg></div><span class="PRIVATE_TreeView-item-content-text prc-TreeView-TreeViewItemContentText-smZM-"><span>requirements.txt</span></span></div></div></li></ul></li><li class="PRIVATE_TreeView-item prc-TreeView-TreeViewItem-ShJr0" tabindex="0" id="Week 10 Advance SQL in Data Analysis-item" role="treeitem" aria-labelledby=":Rfpimplab:" aria-describedby=":RfpimplabH1:" aria-level="1" aria-expanded="false" aria-selected="false"><div class="PRIVATE_TreeView-item-container prc-TreeView-TreeViewItemContainer--2Rkn" style="--level:1;content-visibility:auto;contain-intrinsic-size:auto 2rem"><div style="grid-area:spacer;display:flex"><div style="width:100%;display:flex"></div></div><div class="PRIVATE_TreeView-item-toggle PRIVATE_TreeView-item-toggle--hover PRIVATE_TreeView-item-toggle--end prc-TreeView-TreeViewItemToggle-gWUdE prc-TreeView-TreeViewItemToggleHover-nEgP- prc-TreeView-TreeViewItemToggleEnd-t-AEB"><svg aria-hidden="true" focusable="false" class="octicon octicon-chevron-right" viewBox="0 0 12 12" width="12" height="12" fill="currentColor" display="inline-block" overflow="visible" style="vertical-align:text-bottom"><path d="M4.7 10c-.2 0-.4-.1-.5-.2-.3-.3-.3-.8 0-1.1L6.9 6 4.2 3.3c-.3-.3-.3-.8 0-1.1.3-.3.8-.3 1.1 0l3.3 3.2c.3.3.3.8 0 1.1L5.3 9.7c-.2.2-.4.3-.6.3Z"></path></svg></div><div id=":Rfpimplab:" class="PRIVATE_TreeView-item-content prc-TreeView-TreeViewItemContent-f0r0b"><div class="PRIVATE_VisuallyHidden prc-TreeView-TreeViewVisuallyHidden-4-mPv" aria-hidden="true" id=":RfpimplabH1:"></div><div class="PRIVATE_TreeView-item-visual prc-TreeView-TreeViewItemVisual-dRlGq" aria-hidden="true"><div class="PRIVATE_TreeView-directory-icon prc-TreeView-TreeViewDirectoryIcon-PHbeP"><svg aria-hidden="true" focusable="false" class="octicon octicon-file-directory-fill" viewBox="0 0 16 16" width="16" height="16" fill="currentColor" display="inline-block" overflow="visible" style="vertical-align:text-bottom"><path d="M1.75 1A1.75 1.75 0 0 0 0 2.75v10.5C0 14.216.784 15 1.75 15h12.5A1.75 1.75 0 0 0 16 13.25v-8.5A1.75 1.75 0 0 0 14.25 3H7.5a.25.25 0 0 1-.2-.1l-.9-1.2C6.07 1.26 5.55 1 5 1H1.75Z"></path></svg></div></div><span class="PRIVATE_TreeView-item-content-text prc-TreeView-TreeViewItemContentText-smZM-"><span>Week 10 Advance SQL in Data Analysis</span></span></div></div></li><li class="PRIVATE_TreeView-item prc-TreeView-TreeViewItem-ShJr0" tabindex="0" id="Week 12_Streamlit-item" role="treeitem" aria-labelledby=":Rhpimplab:" aria-describedby=":RhpimplabH1:" aria-level="1" aria-expanded="false" aria-selected="false"><div class="PRIVATE_TreeView-item-container prc-TreeView-TreeViewItemContainer--2Rkn" style="--level:1;content-visibility:auto;contain-intrinsic-size:auto 2rem"><div style="grid-area:spacer;display:flex"><div style="width:100%;display:flex"></div></div><div class="PRIVATE_TreeView-item-toggle PRIVATE_TreeView-item-toggle--hover PRIVATE_TreeView-item-toggle--end prc-TreeView-TreeViewItemToggle-gWUdE prc-TreeView-TreeViewItemToggleHover-nEgP- prc-TreeView-TreeViewItemToggleEnd-t-AEB"><svg aria-hidden="true" focusable="false" class="octicon octicon-chevron-right" viewBox="0 0 12 12" width="12" height="12" fill="currentColor" display="inline-block" overflow="visible" style="vertical-align:text-bottom"><path d="M4.7 10c-.2 0-.4-.1-.5-.2-.3-.3-.3-.8 0-1.1L6.9 6 4.2 3.3c-.3-.3-.3-.8 0-1.1.3-.3.8-.3 1.1 0l3.3 3.2c.3.3.3.8 0 1.1L5.3 9.7c-.2.2-.4.3-.6.3Z"></path></svg></div><div id=":Rhpimplab:" class="PRIVATE_TreeView-item-content prc-TreeView-TreeViewItemContent-f0r0b"><div class="PRIVATE_VisuallyHidden prc-TreeView-TreeViewVisuallyHidden-4-mPv" aria-hidden="true" id=":RhpimplabH1:"></div><div class="PRIVATE_TreeView-item-visual prc-TreeView-TreeViewItemVisual-dRlGq" aria-hidden="true"><div class="PRIVATE_TreeView-directory-icon prc-TreeView-TreeViewDirectoryIcon-PHbeP"><svg aria-hidden="true" focusable="false" class="octicon octicon-file-directory-fill" viewBox="0 0 16 16" width="16" height="16" fill="currentColor" display="inline-block" overflow="visible" style="vertical-align:text-bottom"><path d="M1.75 1A1.75 1.75 0 0 0 0 2.75v10.5C0 14.216.784 15 1.75 15h12.5A1.75 1.75 0 0 0 16 13.25v-8.5A1.75 1.75 0 0 0 14.25 3H7.5a.25.25 0 0 1-.2-.1l-.9-1.2C6.07 1.26 5.55 1 5 1H1.75Z"></path></svg></div></div><span class="PRIVATE_TreeView-item-content-text prc-TreeView-TreeViewItemContentText-smZM-"><span>Week 12_Streamlit</span></span></div></div></li><li class="PRIVATE_TreeView-item prc-TreeView-TreeViewItem-ShJr0" tabindex="0" id="Week 1_Basic Python-item" role="treeitem" aria-labelledby=":Rjpimplab:" aria-describedby=":RjpimplabH1:" aria-level="1" aria-expanded="false" aria-selected="false"><div class="PRIVATE_TreeView-item-container prc-TreeView-TreeViewItemContainer--2Rkn" style="--level:1;content-visibility:auto;contain-intrinsic-size:auto 2rem"><div style="grid-area:spacer;display:flex"><div style="width:100%;display:flex"></div></div><div class="PRIVATE_TreeView-item-toggle PRIVATE_TreeView-item-toggle--hover PRIVATE_TreeView-item-toggle--end prc-TreeView-TreeViewItemToggle-gWUdE prc-TreeView-TreeViewItemToggleHover-nEgP- prc-TreeView-TreeViewItemToggleEnd-t-AEB"><svg aria-hidden="true" focusable="false" class="octicon octicon-chevron-right" viewBox="0 0 12 12" width="12" height="12" fill="currentColor" display="inline-block" overflow="visible" style="vertical-align:text-bottom"><path d="M4.7 10c-.2 0-.4-.1-.5-.2-.3-.3-.3-.8 0-1.1L6.9 6 4.2 3.3c-.3-.3-.3-.8 0-1.1.3-.3.8-.3 1.1 0l3.3 3.2c.3.3.3.8 0 1.1L5.3 9.7c-.2.2-.4.3-.6.3Z"></path></svg></div><div id=":Rjpimplab:" class="PRIVATE_TreeView-item-content prc-TreeView-TreeViewItemContent-f0r0b"><div class="PRIVATE_VisuallyHidden prc-TreeView-TreeViewVisuallyHidden-4-mPv" aria-hidden="true" id=":RjpimplabH1:"></div><div class="PRIVATE_TreeView-item-visual prc-TreeView-TreeViewItemVisual-dRlGq" aria-hidden="true"><div class="PRIVATE_TreeView-directory-icon prc-TreeView-TreeViewDirectoryIcon-PHbeP"><svg aria-hidden="true" focusable="false" class="octicon octicon-file-directory-fill" viewBox="0 0 16 16" width="16" height="16" fill="currentColor" display="inline-block" overflow="visible" style="vertical-align:text-bottom"><path d="M1.75 1A1.75 1.75 0 0 0 0 2.75v10.5C0 14.216.784 15 1.75 15h12.5A1.75 1.75 0 0 0 16 13.25v-8.5A1.75 1.75 0 0 0 14.25 3H7.5a.25.25 0 0 1-.2-.1l-.9-1.2C6.07 1.26 5.55 1 5 1H1.75Z"></path></svg></div></div><span class="PRIVATE_TreeView-item-content-text prc-TreeView-TreeViewItemContentText-smZM-"><span>Week 1_Basic Python</span></span></div></div></li><li class="PRIVATE_TreeView-item prc-TreeView-TreeViewItem-ShJr0" tabindex="0" id="Week 2_Data Structure-item" role="treeitem" aria-labelledby=":Rlpimplab:" aria-describedby=":RlpimplabH1:" aria-level="1" aria-expanded="false" aria-selected="false"><div class="PRIVATE_TreeView-item-container prc-TreeView-TreeViewItemContainer--2Rkn" style="--level:1;content-visibility:auto;contain-intrinsic-size:auto 2rem"><div style="grid-area:spacer;display:flex"><div style="width:100%;display:flex"></div></div><div class="PRIVATE_TreeView-item-toggle PRIVATE_TreeView-item-toggle--hover PRIVATE_TreeView-item-toggle--end prc-TreeView-TreeViewItemToggle-gWUdE prc-TreeView-TreeViewItemToggleHover-nEgP- prc-TreeView-TreeViewItemToggleEnd-t-AEB"><svg aria-hidden="true" focusable="false" class="octicon octicon-chevron-right" viewBox="0 0 12 12" width="12" height="12" fill="currentColor" display="inline-block" overflow="visible" style="vertical-align:text-bottom"><path d="M4.7 10c-.2 0-.4-.1-.5-.2-.3-.3-.3-.8 0-1.1L6.9 6 4.2 3.3c-.3-.3-.3-.8 0-1.1.3-.3.8-.3 1.1 0l3.3 3.2c.3.3.3.8 0 1.1L5.3 9.7c-.2.2-.4.3-.6.3Z"></path></svg></div><div id=":Rlpimplab:" class="PRIVATE_TreeView-item-content prc-TreeView-TreeViewItemContent-f0r0b"><div class="PRIVATE_VisuallyHidden prc-TreeView-TreeViewVisuallyHidden-4-mPv" aria-hidden="true" id=":RlpimplabH1:"></div><div class="PRIVATE_TreeView-item-visual prc-TreeView-TreeViewItemVisual-dRlGq" aria-hidden="true"><div class="PRIVATE_TreeView-directory-icon prc-TreeView-TreeViewDirectoryIcon-PHbeP"><svg aria-hidden="true" focusable="false" class="octicon octicon-file-directory-fill" viewBox="0 0 16 16" width="16" height="16" fill="currentColor" display="inline-block" overflow="visible" style="vertical-align:text-bottom"><path d="M1.75 1A1.75 1.75 0 0 0 0 2.75v10.5C0 14.216.784 15 1.75 15h12.5A1.75 1.75 0 0 0 16 13.25v-8.5A1.75 1.75 0 0 0 14.25 3H7.5a.25.25 0 0 1-.2-.1l-.9-1.2C6.07 1.26 5.55 1 5 1H1.75Z"></path></svg></div></div><span class="PRIVATE_TreeView-item-content-text prc-TreeView-TreeViewItemContentText-smZM-"><span>Week 2_Data Structure</span></span></div></div></li><li class="PRIVATE_TreeView-item prc-TreeView-TreeViewItem-ShJr0" tabindex="0" id="Week 3_Linear Algebra-item" role="treeitem" aria-labelledby=":Rnpimplab:" aria-describedby=":RnpimplabH1:" aria-level="1" aria-expanded="false" aria-selected="false"><div class="PRIVATE_TreeView-item-container prc-TreeView-TreeViewItemContainer--2Rkn" style="--level:1;content-visibility:auto;contain-intrinsic-size:auto 2rem"><div style="grid-area:spacer;display:flex"><div style="width:100%;display:flex"></div></div><div class="PRIVATE_TreeView-item-toggle PRIVATE_TreeView-item-toggle--hover PRIVATE_TreeView-item-toggle--end prc-TreeView-TreeViewItemToggle-gWUdE prc-TreeView-TreeViewItemToggleHover-nEgP- prc-TreeView-TreeViewItemToggleEnd-t-AEB"><svg aria-hidden="true" focusable="false" class="octicon octicon-chevron-right" viewBox="0 0 12 12" width="12" height="12" fill="currentColor" display="inline-block" overflow="visible" style="vertical-align:text-bottom"><path d="M4.7 10c-.2 0-.4-.1-.5-.2-.3-.3-.3-.8 0-1.1L6.9 6 4.2 3.3c-.3-.3-.3-.8 0-1.1.3-.3.8-.3 1.1 0l3.3 3.2c.3.3.3.8 0 1.1L5.3 9.7c-.2.2-.4.3-.6.3Z"></path></svg></div><div id=":Rnpimplab:" class="PRIVATE_TreeView-item-content prc-TreeView-TreeViewItemContent-f0r0b"><div class="PRIVATE_VisuallyHidden prc-TreeView-TreeViewVisuallyHidden-4-mPv" aria-hidden="true" id=":RnpimplabH1:"></div><div class="PRIVATE_TreeView-item-visual prc-TreeView-TreeViewItemVisual-dRlGq" aria-hidden="true"><div class="PRIVATE_TreeView-directory-icon prc-TreeView-TreeViewDirectoryIcon-PHbeP"><svg aria-hidden="true" focusable="false" class="octicon octicon-file-directory-fill" viewBox="0 0 16 16" width="16" height="16" fill="currentColor" display="inline-block" overflow="visible" style="vertical-align:text-bottom"><path d="M1.75 1A1.75 1.75 0 0 0 0 2.75v10.5C0 14.216.784 15 1.75 15h12.5A1.75 1.75 0 0 0 16 13.25v-8.5A1.75 1.75 0 0 0 14.25 3H7.5a.25.25 0 0 1-.2-.1l-.9-1.2C6.07 1.26 5.55 1 5 1H1.75Z"></path></svg></div></div><span class="PRIVATE_TreeView-item-content-text prc-TreeView-TreeViewItemContentText-smZM-"><span>Week 3_Linear Algebra</span></span></div></div></li><li class="PRIVATE_TreeView-item prc-TreeView-TreeViewItem-ShJr0" tabindex="0" id="Week 4_Object Oriented Programming-item" role="treeitem" aria-labelledby=":Rppimplab:" aria-describedby=":RppimplabH1:" aria-level="1" aria-expanded="false" aria-selected="false"><div class="PRIVATE_TreeView-item-container prc-TreeView-TreeViewItemContainer--2Rkn" style="--level:1;content-visibility:auto;contain-intrinsic-size:auto 2rem"><div style="grid-area:spacer;display:flex"><div style="width:100%;display:flex"></div></div><div class="PRIVATE_TreeView-item-toggle PRIVATE_TreeView-item-toggle--hover PRIVATE_TreeView-item-toggle--end prc-TreeView-TreeViewItemToggle-gWUdE prc-TreeView-TreeViewItemToggleHover-nEgP- prc-TreeView-TreeViewItemToggleEnd-t-AEB"><svg aria-hidden="true" focusable="false" class="octicon octicon-chevron-right" viewBox="0 0 12 12" width="12" height="12" fill="currentColor" display="inline-block" overflow="visible" style="vertical-align:text-bottom"><path d="M4.7 10c-.2 0-.4-.1-.5-.2-.3-.3-.3-.8 0-1.1L6.9 6 4.2 3.3c-.3-.3-.3-.8 0-1.1.3-.3.8-.3 1.1 0l3.3 3.2c.3.3.3.8 0 1.1L5.3 9.7c-.2.2-.4.3-.6.3Z"></path></svg></div><div id=":Rppimplab:" class="PRIVATE_TreeView-item-content prc-TreeView-TreeViewItemContent-f0r0b"><div class="PRIVATE_VisuallyHidden prc-TreeView-TreeViewVisuallyHidden-4-mPv" aria-hidden="true" id=":RppimplabH1:"></div><div class="PRIVATE_TreeView-item-visual prc-TreeView-TreeViewItemVisual-dRlGq" aria-hidden="true"><div class="PRIVATE_TreeView-directory-icon prc-TreeView-TreeViewDirectoryIcon-PHbeP"><svg aria-hidden="true" focusable="false" class="octicon octicon-file-directory-fill" viewBox="0 0 16 16" width="16" height="16" fill="currentColor" display="inline-block" overflow="visible" style="vertical-align:text-bottom"><path d="M1.75 1A1.75 1.75 0 0 0 0 2.75v10.5C0 14.216.784 15 1.75 15h12.5A1.75 1.75 0 0 0 16 13.25v-8.5A1.75 1.75 0 0 0 14.25 3H7.5a.25.25 0 0 1-.2-.1l-.9-1.2C6.07 1.26 5.55 1 5 1H1.75Z"></path></svg></div></div><span class="PRIVATE_TreeView-item-content-text prc-TreeView-TreeViewItemContentText-smZM-"><span>Week 4_Object Oriented Programming</span></span></div></div></li><li class="PRIVATE_TreeView-item prc-TreeView-TreeViewItem-ShJr0" tabindex="0" id="Week 5_Probability-item" role="treeitem" aria-labelledby=":Rrpimplab:" aria-describedby=":RrpimplabH1:" aria-level="1" aria-expanded="false" aria-selected="false"><div class="PRIVATE_TreeView-item-container prc-TreeView-TreeViewItemContainer--2Rkn" style="--level:1;content-visibility:auto;contain-intrinsic-size:auto 2rem"><div style="grid-area:spacer;display:flex"><div style="width:100%;display:flex"></div></div><div class="PRIVATE_TreeView-item-toggle PRIVATE_TreeView-item-toggle--hover PRIVATE_TreeView-item-toggle--end prc-TreeView-TreeViewItemToggle-gWUdE prc-TreeView-TreeViewItemToggleHover-nEgP- prc-TreeView-TreeViewItemToggleEnd-t-AEB"><svg aria-hidden="true" focusable="false" class="octicon octicon-chevron-right" viewBox="0 0 12 12" width="12" height="12" fill="currentColor" display="inline-block" overflow="visible" style="vertical-align:text-bottom"><path d="M4.7 10c-.2 0-.4-.1-.5-.2-.3-.3-.3-.8 0-1.1L6.9 6 4.2 3.3c-.3-.3-.3-.8 0-1.1.3-.3.8-.3 1.1 0l3.3 3.2c.3.3.3.8 0 1.1L5.3 9.7c-.2.2-.4.3-.6.3Z"></path></svg></div><div id=":Rrpimplab:" class="PRIVATE_TreeView-item-content prc-TreeView-TreeViewItemContent-f0r0b"><div class="PRIVATE_VisuallyHidden prc-TreeView-TreeViewVisuallyHidden-4-mPv" aria-hidden="true" id=":RrpimplabH1:"></div><div class="PRIVATE_TreeView-item-visual prc-TreeView-TreeViewItemVisual-dRlGq" aria-hidden="true"><div class="PRIVATE_TreeView-directory-icon prc-TreeView-TreeViewDirectoryIcon-PHbeP"><svg aria-hidden="true" focusable="false" class="octicon octicon-file-directory-fill" viewBox="0 0 16 16" width="16" height="16" fill="currentColor" display="inline-block" overflow="visible" style="vertical-align:text-bottom"><path d="M1.75 1A1.75 1.75 0 0 0 0 2.75v10.5C0 14.216.784 15 1.75 15h12.5A1.75 1.75 0 0 0 16 13.25v-8.5A1.75 1.75 0 0 0 14.25 3H7.5a.25.25 0 0 1-.2-.1l-.9-1.2C6.07 1.26 5.55 1 5 1H1.75Z"></path></svg></div></div><span class="PRIVATE_TreeView-item-content-text prc-TreeView-TreeViewItemContentText-smZM-"><span>Week 5_Probability</span></span></div></div></li><li class="PRIVATE_TreeView-item prc-TreeView-TreeViewItem-ShJr0" tabindex="0" id="Week 6_Basic Calculus-item" role="treeitem" aria-labelledby=":Rtpimplab:" aria-describedby=":RtpimplabH1:" aria-level="1" aria-expanded="false" aria-selected="false"><div class="PRIVATE_TreeView-item-container prc-TreeView-TreeViewItemContainer--2Rkn" style="--level:1;content-visibility:auto;contain-intrinsic-size:auto 2rem"><div style="grid-area:spacer;display:flex"><div style="width:100%;display:flex"></div></div><div class="PRIVATE_TreeView-item-toggle PRIVATE_TreeView-item-toggle--hover PRIVATE_TreeView-item-toggle--end prc-TreeView-TreeViewItemToggle-gWUdE prc-TreeView-TreeViewItemToggleHover-nEgP- prc-TreeView-TreeViewItemToggleEnd-t-AEB"><svg aria-hidden="true" focusable="false" class="octicon octicon-chevron-right" viewBox="0 0 12 12" width="12" height="12" fill="currentColor" display="inline-block" overflow="visible" style="vertical-align:text-bottom"><path d="M4.7 10c-.2 0-.4-.1-.5-.2-.3-.3-.3-.8 0-1.1L6.9 6 4.2 3.3c-.3-.3-.3-.8 0-1.1.3-.3.8-.3 1.1 0l3.3 3.2c.3.3.3.8 0 1.1L5.3 9.7c-.2.2-.4.3-.6.3Z"></path></svg></div><div id=":Rtpimplab:" class="PRIVATE_TreeView-item-content prc-TreeView-TreeViewItemContent-f0r0b"><div class="PRIVATE_VisuallyHidden prc-TreeView-TreeViewVisuallyHidden-4-mPv" aria-hidden="true" id=":RtpimplabH1:"></div><div class="PRIVATE_TreeView-item-visual prc-TreeView-TreeViewItemVisual-dRlGq" aria-hidden="true"><div class="PRIVATE_TreeView-directory-icon prc-TreeView-TreeViewDirectoryIcon-PHbeP"><svg aria-hidden="true" focusable="false" class="octicon octicon-file-directory-fill" viewBox="0 0 16 16" width="16" height="16" fill="currentColor" display="inline-block" overflow="visible" style="vertical-align:text-bottom"><path d="M1.75 1A1.75 1.75 0 0 0 0 2.75v10.5C0 14.216.784 15 1.75 15h12.5A1.75 1.75 0 0 0 16 13.25v-8.5A1.75 1.75 0 0 0 14.25 3H7.5a.25.25 0 0 1-.2-.1l-.9-1.2C6.07 1.26 5.55 1 5 1H1.75Z"></path></svg></div></div><span class="PRIVATE_TreeView-item-content-text prc-TreeView-TreeViewItemContentText-smZM-"><span>Week 6_Basic Calculus</span></span></div></div></li><li class="PRIVATE_TreeView-item prc-TreeView-TreeViewItem-ShJr0" tabindex="0" id="Week 7_Structured Query Language_Introduction Database-item" role="treeitem" aria-labelledby=":Rvpimplab:" aria-describedby=":RvpimplabH1:" aria-level="1" aria-expanded="false" aria-selected="false"><div class="PRIVATE_TreeView-item-container prc-TreeView-TreeViewItemContainer--2Rkn" style="--level:1;content-visibility:auto;contain-intrinsic-size:auto 2rem"><div style="grid-area:spacer;display:flex"><div style="width:100%;display:flex"></div></div><div class="PRIVATE_TreeView-item-toggle PRIVATE_TreeView-item-toggle--hover PRIVATE_TreeView-item-toggle--end prc-TreeView-TreeViewItemToggle-gWUdE prc-TreeView-TreeViewItemToggleHover-nEgP- prc-TreeView-TreeViewItemToggleEnd-t-AEB"><svg aria-hidden="true" focusable="false" class="octicon octicon-chevron-right" viewBox="0 0 12 12" width="12" height="12" fill="currentColor" display="inline-block" overflow="visible" style="vertical-align:text-bottom"><path d="M4.7 10c-.2 0-.4-.1-.5-.2-.3-.3-.3-.8 0-1.1L6.9 6 4.2 3.3c-.3-.3-.3-.8 0-1.1.3-.3.8-.3 1.1 0l3.3 3.2c.3.3.3.8 0 1.1L5.3 9.7c-.2.2-.4.3-.6.3Z"></path></svg></div><div id=":Rvpimplab:" class="PRIVATE_TreeView-item-content prc-TreeView-TreeViewItemContent-f0r0b"><div class="PRIVATE_VisuallyHidden prc-TreeView-TreeViewVisuallyHidden-4-mPv" aria-hidden="true" id=":RvpimplabH1:"></div><div class="PRIVATE_TreeView-item-visual prc-TreeView-TreeViewItemVisual-dRlGq" aria-hidden="true"><div class="PRIVATE_TreeView-directory-icon prc-TreeView-TreeViewDirectoryIcon-PHbeP"><svg aria-hidden="true" focusable="false" class="octicon octicon-file-directory-fill" viewBox="0 0 16 16" width="16" height="16" fill="currentColor" display="inline-block" overflow="visible" style="vertical-align:text-bottom"><path d="M1.75 1A1.75 1.75 0 0 0 0 2.75v10.5C0 14.216.784 15 1.75 15h12.5A1.75 1.75 0 0 0 16 13.25v-8.5A1.75 1.75 0 0 0 14.25 3H7.5a.25.25 0 0 1-.2-.1l-.9-1.2C6.07 1.26 5.55 1 5 1H1.75Z"></path></svg></div></div><span class="PRIVATE_TreeView-item-content-text prc-TreeView-TreeViewItemContentText-smZM-"><span>Week 7_Structured Query Language_Introduction Database</span></span></div></div></li><li class="PRIVATE_TreeView-item prc-TreeView-TreeViewItem-ShJr0" tabindex="0" id="Week 8_Advance Data Visualization-item" role="treeitem" aria-labelledby=":R11pimplab:" aria-describedby=":R11pimplabH1:" aria-level="1" aria-expanded="false" aria-selected="false"><div class="PRIVATE_TreeView-item-container prc-TreeView-TreeViewItemContainer--2Rkn" style="--level:1;content-visibility:auto;contain-intrinsic-size:auto 2rem"><div style="grid-area:spacer;display:flex"><div style="width:100%;display:flex"></div></div><div class="PRIVATE_TreeView-item-toggle PRIVATE_TreeView-item-toggle--hover PRIVATE_TreeView-item-toggle--end prc-TreeView-TreeViewItemToggle-gWUdE prc-TreeView-TreeViewItemToggleHover-nEgP- prc-TreeView-TreeViewItemToggleEnd-t-AEB"><svg aria-hidden="true" focusable="false" class="octicon octicon-chevron-right" viewBox="0 0 12 12" width="12" height="12" fill="currentColor" display="inline-block" overflow="visible" style="vertical-align:text-bottom"><path d="M4.7 10c-.2 0-.4-.1-.5-.2-.3-.3-.3-.8 0-1.1L6.9 6 4.2 3.3c-.3-.3-.3-.8 0-1.1.3-.3.8-.3 1.1 0l3.3 3.2c.3.3.3.8 0 1.1L5.3 9.7c-.2.2-.4.3-.6.3Z"></path></svg></div><div id=":R11pimplab:" class="PRIVATE_TreeView-item-content prc-TreeView-TreeViewItemContent-f0r0b"><div class="PRIVATE_VisuallyHidden prc-TreeView-TreeViewVisuallyHidden-4-mPv" aria-hidden="true" id=":R11pimplabH1:"></div><div class="PRIVATE_TreeView-item-visual prc-TreeView-TreeViewItemVisual-dRlGq" aria-hidden="true"><div class="PRIVATE_TreeView-directory-icon prc-TreeView-TreeViewDirectoryIcon-PHbeP"><svg aria-hidden="true" focusable="false" class="octicon octicon-file-directory-fill" viewBox="0 0 16 16" width="16" height="16" fill="currentColor" display="inline-block" overflow="visible" style="vertical-align:text-bottom"><path d="M1.75 1A1.75 1.75 0 0 0 0 2.75v10.5C0 14.216.784 15 1.75 15h12.5A1.75 1.75 0 0 0 16 13.25v-8.5A1.75 1.75 0 0 0 14.25 3H7.5a.25.25 0 0 1-.2-.1l-.9-1.2C6.07 1.26 5.55 1 5 1H1.75Z"></path></svg></div></div><span class="PRIVATE_TreeView-item-content-text prc-TreeView-TreeViewItemContentText-smZM-"><span>Week 8_Advance Data Visualization</span></span></div></div></li><li class="PRIVATE_TreeView-item prc-TreeView-TreeViewItem-ShJr0" tabindex="0" id="Week 9_SQL in Tata Analysis-item" role="treeitem" aria-labelledby=":R13pimplab:" aria-describedby=":R13pimplabH1:" aria-level="1" aria-expanded="false" aria-selected="false"><div class="PRIVATE_TreeView-item-container prc-TreeView-TreeViewItemContainer--2Rkn" style="--level:1;content-visibility:auto;contain-intrinsic-size:auto 2rem"><div style="grid-area:spacer;display:flex"><div style="width:100%;display:flex"></div></div><div class="PRIVATE_TreeView-item-toggle PRIVATE_TreeView-item-toggle--hover PRIVATE_TreeView-item-toggle--end prc-TreeView-TreeViewItemToggle-gWUdE prc-TreeView-TreeViewItemToggleHover-nEgP- prc-TreeView-TreeViewItemToggleEnd-t-AEB"><svg aria-hidden="true" focusable="false" class="octicon octicon-chevron-right" viewBox="0 0 12 12" width="12" height="12" fill="currentColor" display="inline-block" overflow="visible" style="vertical-align:text-bottom"><path d="M4.7 10c-.2 0-.4-.1-.5-.2-.3-.3-.3-.8 0-1.1L6.9 6 4.2 3.3c-.3-.3-.3-.8 0-1.1.3-.3.8-.3 1.1 0l3.3 3.2c.3.3.3.8 0 1.1L5.3 9.7c-.2.2-.4.3-.6.3Z"></path></svg></div><div id=":R13pimplab:" class="PRIVATE_TreeView-item-content prc-TreeView-TreeViewItemContent-f0r0b"><div class="PRIVATE_VisuallyHidden prc-TreeView-TreeViewVisuallyHidden-4-mPv" aria-hidden="true" id=":R13pimplabH1:"></div><div class="PRIVATE_TreeView-item-visual prc-TreeView-TreeViewItemVisual-dRlGq" aria-hidden="true"><div class="PRIVATE_TreeView-directory-icon prc-TreeView-TreeViewDirectoryIcon-PHbeP"><svg aria-hidden="true" focusable="false" class="octicon octicon-file-directory-fill" viewBox="0 0 16 16" width="16" height="16" fill="currentColor" display="inline-block" overflow="visible" style="vertical-align:text-bottom"><path d="M1.75 1A1.75 1.75 0 0 0 0 2.75v10.5C0 14.216.784 15 1.75 15h12.5A1.75 1.75 0 0 0 16 13.25v-8.5A1.75 1.75 0 0 0 14.25 3H7.5a.25.25 0 0 1-.2-.1l-.9-1.2C6.07 1.26 5.55 1 5 1H1.75Z"></path></svg></div></div><span class="PRIVATE_TreeView-item-content-text prc-TreeView-TreeViewItemContentText-smZM-"><span>Week 9_SQL in Tata Analysis</span></span></div></div></li></ul></nav></div></div></div></div></div></div><div class="Box-sc-g0xbh4-0 prc-PageLayout-VerticalDivider-4A4Qm prc-PageLayout-PaneVerticalDivider-1c9vy" data-variant="none" data-position="start" style="--spacing:var(--spacing-none)"><div role="slider" aria-label="Draggable pane splitter" aria-valuemin="0" aria-valuemax="0" aria-valuenow="0" aria-valuetext="Pane width 0 pixels" tabindex="0" class="Box-sc-g0xbh4-0 bHLmSv"></div></div></div></div><div class="Box-sc-g0xbh4-0 prc-PageLayout-ContentWrapper-b-QRo CodeView-module__SplitPageLayout_Content--qxR1C" data-is-hidden="false"><div class="prc-PageLayout-Content--F7-I" data-width="full" style="--spacing:var(--spacing-none)"><div data-selector="repos-split-pane-content" tabindex="0" class="Box-sc-g0xbh4-0 leYMvG"><div class="Box-sc-g0xbh4-0 KMPzq"><div class="container CodeViewHeader-module__Box--PofRM"><div class="px-3 pt-3 pb-0" id="StickyHeader"><div class="CodeViewHeader-module__Box_1--KpLzV"><div class="CodeViewHeader-module__Box_2--xzDOt"><div class="CodeViewHeader-module__Box_6--iStzT"><div class="Box-sc-g0xbh4-0 cEytCf"><nav data-testid="breadcrumbs" aria-labelledby="repos-header-breadcrumb--wide-heading" id="repos-header-breadcrumb--wide" class="Box-sc-g0xbh4-0 fzFXnm"><h2 class="sr-only ScreenReaderHeading-module__userSelectNone--vW4Cq prc-Heading-Heading-6CmGO" data-testid="screen-reader-heading" id="repos-header-breadcrumb--wide-heading">Breadcrumbs</h2><ol class="Box-sc-g0xbh4-0 iMnkmv"><li class="Box-sc-g0xbh4-0 ghzDag"><a class="Box-sc-g0xbh4-0 kHuKdh prc-Link-Link-85e08" sx="[object Object]" data-testid="breadcrumbs-repo-link" href="/Dong-Den/AIO-2025_Pre/tree/main">AIO-2025_Pre</a></li><li class="Box-sc-g0xbh4-0 ghzDag"><span class="Box-sc-g0xbh4-0 hzJBof prc-Text-Text-0ima0" aria-hidden="true">/</span><a class="Box-sc-g0xbh4-0 kgiVEz prc-Link-Link-85e08" sx="[object Object]" href="/Dong-Den/AIO-2025_Pre/tree/main/WEEK%2016_2025.5.20_KNN_Basic%2C%20Advanced%20Concepts%20and%20Its%20Applications">WEEK 16_2025.5.20_KNN_Basic, Advanced Concepts and Its Applications</a></li></ol></nav><div data-testid="breadcrumbs-filename" class="Box-sc-g0xbh4-0 ghzDag"><span class="Box-sc-g0xbh4-0 hzJBof prc-Text-Text-0ima0" aria-hidden="true">/</span><h1 class="Box-sc-g0xbh4-0 jGhzSQ prc-Heading-Heading-6CmGO" tabindex="-1" id="file-name-id-wide">PRE_WEEK_16_DAY_79_Thuật_Toán_K_Nearest_Neighbors_(KNN)_update.ipynb</h1></div><button data-component="IconButton" type="button" class="prc-Button-ButtonBase-c50BI ml-2 prc-Button-IconButton-szpyj" data-loading="false" data-no-visuals="true" data-size="small" data-variant="invisible" aria-describedby=":Rvb9lab:-loading-announcement" aria-labelledby=":R3b9lab:"><svg aria-hidden="true" focusable="false" class="octicon octicon-copy" viewBox="0 0 16 16" width="16" height="16" fill="currentColor" display="inline-block" overflow="visible" style="vertical-align:text-bottom"><path d="M0 6.75C0 5.784.784 5 1.75 5h1.5a.75.75 0 0 1 0 1.5h-1.5a.25.25 0 0 0-.25.25v7.5c0 .138.112.25.25.25h7.5a.25.25 0 0 0 .25-.25v-1.5a.75.75 0 0 1 1.5 0v1.5A1.75 1.75 0 0 1 9.25 16h-7.5A1.75 1.75 0 0 1 0 14.25Z"></path><path d="M5 1.75C5 .784 5.784 0 6.75 0h7.5C15.216 0 16 .784 16 1.75v7.5A1.75 1.75 0 0 1 14.25 11h-7.5A1.75 1.75 0 0 1 5 9.25Zm1.75-.25a.25.25 0 0 0-.25.25v7.5c0 .138.112.25.25.25h7.5a.25.25 0 0 0 .25-.25v-7.5a.25.25 0 0 0-.25-.25Z"></path></svg></button><span class="CopyToClipboardButton-module__tooltip--Dq1IB prc-TooltipV2-Tooltip-cYMVY" data-direction="nw" aria-label="Copy path" aria-hidden="true" id=":R3b9lab:">Copy path</span></div></div><div class="react-code-view-header-element--wide"><div class="CodeViewHeader-module__Box_7--FZfkg"><div class="d-flex gap-2"> <button type="button" class="Box-sc-g0xbh4-0 fjrFuv prc-Button-ButtonBase-c50BI NavigationMenu-module__Button--SJihq" data-loading="false" data-no-visuals="true" data-size="medium" data-variant="default" aria-describedby=":R1ahj9lab:-loading-announcement"><span data-component="buttonContent" class="Box-sc-g0xbh4-0 gUkoLg prc-Button-ButtonContent-HKbr-"><span data-component="text" class="prc-Button-Label-pTQ3x">Blame</span></span></button><button hidden="" data-testid="" data-hotkey-scope="read-only-cursor-text-area"></button><button data-component="IconButton" type="button" aria-label="More file actions" title="More file actions" data-testid="more-file-actions-button-nav-menu-wide" aria-haspopup="true" aria-expanded="false" tabindex="0" class="prc-Button-ButtonBase-c50BI js-blob-dropdown-click NavigationMenu-module__IconButton--NqJ_L prc-Button-IconButton-szpyj" data-loading="false" data-no-visuals="true" data-size="medium" data-variant="default" aria-describedby=":Rihj9lab:-loading-announcement" id=":Rihj9lab:"><svg aria-hidden="true" focusable="false" class="octicon octicon-kebab-horizontal" viewBox="0 0 16 16" width="16" height="16" fill="currentColor" display="inline-block" overflow="visible" style="vertical-align:text-bottom"><path d="M8 9a1.5 1.5 0 1 0 0-3 1.5 1.5 0 0 0 0 3ZM1.5 9a1.5 1.5 0 1 0 0-3 1.5 1.5 0 0 0 0 3Zm13 0a1.5 1.5 0 1 0 0-3 1.5 1.5 0 0 0 0 3Z"></path></svg></button> </div></div></div><div class="react-code-view-header-element--narrow"><div class="CodeViewHeader-module__Box_7--FZfkg"><div class="d-flex gap-2"> <button type="button" class="Box-sc-g0xbh4-0 fjrFuv prc-Button-ButtonBase-c50BI NavigationMenu-module__Button--SJihq" data-loading="false" data-no-visuals="true" data-size="medium" data-variant="default" aria-describedby=":R1ahr9lab:-loading-announcement"><span data-component="buttonContent" class="Box-sc-g0xbh4-0 gUkoLg prc-Button-ButtonContent-HKbr-"><span data-component="text" class="prc-Button-Label-pTQ3x">Blame</span></span></button><button hidden="" data-testid="" data-hotkey-scope="read-only-cursor-text-area"></button><button data-component="IconButton" type="button" aria-label="More file actions" title="More file actions" data-testid="more-file-actions-button-nav-menu-narrow" aria-haspopup="true" aria-expanded="false" tabindex="0" class="prc-Button-ButtonBase-c50BI js-blob-dropdown-click NavigationMenu-module__IconButton--NqJ_L prc-Button-IconButton-szpyj" data-loading="false" data-no-visuals="true" data-size="medium" data-variant="default" aria-describedby=":Rihr9lab:-loading-announcement" id=":Rihr9lab:"><svg aria-hidden="true" focusable="false" class="octicon octicon-kebab-horizontal" viewBox="0 0 16 16" width="16" height="16" fill="currentColor" display="inline-block" overflow="visible" style="vertical-align:text-bottom"><path d="M8 9a1.5 1.5 0 1 0 0-3 1.5 1.5 0 0 0 0 3ZM1.5 9a1.5 1.5 0 1 0 0-3 1.5 1.5 0 0 0 0 3Zm13 0a1.5 1.5 0 1 0 0-3 1.5 1.5 0 0 0 0 3Z"></path></svg></button> </div></div></div></div></div></div></div></div><div class="Box-sc-g0xbh4-0 dJxjrT react-code-view-bottom-padding"> <div class="BlobTopBanners-module__Box--g_bGk"></div> <!-- --> <!-- --> </div><div class="Box-sc-g0xbh4-0 dJxjrT"> <!-- --> <!-- --> <div class="d-flex flex-column border rounded-2 mb-3 pl-1"><div class="LatestCommit-module__Box--En0AE"><h2 class="sr-only ScreenReaderHeading-module__userSelectNone--vW4Cq prc-Heading-Heading-6CmGO" data-testid="screen-reader-heading">Latest commit</h2><div style="width:120px" class="Skeleton Skeleton--text" data-testid="loading"> </div><div class="d-flex flex-shrink-0 gap-2"><div data-testid="latest-commit-details" class="d-none d-sm-flex flex-items-center"></div><div class="d-flex gap-2"><h2 class="sr-only ScreenReaderHeading-module__userSelectNone--vW4Cq prc-Heading-Heading-6CmGO" data-testid="screen-reader-heading">History</h2><a href="/Dong-Den/AIO-2025_Pre/commits/main/WEEK%2016_2025.5.20_KNN_Basic%2C%20Advanced%20Concepts%20and%20Its%20Applications/PRE_WEEK_16_DAY_79_Thu%E1%BA%ADt_To%C3%A1n_K_Nearest_Neighbors_(KNN)_update.ipynb" class="prc-Button-ButtonBase-c50BI d-none d-lg-flex LinkButton-module__code-view-link-button--xvCGA flex-items-center fgColor-default" data-loading="false" data-size="small" data-variant="invisible" aria-describedby=":R1bdal9lab:-loading-announcement"><span data-component="buttonContent" data-align="center" class="prc-Button-ButtonContent-HKbr-"><span data-component="leadingVisual" class="prc-Button-Visual-2epfX prc-Button-VisualWrap-Db-eB"><svg aria-hidden="true" focusable="false" class="octicon octicon-history" viewBox="0 0 16 16" width="16" height="16" fill="currentColor" display="inline-block" overflow="visible" style="vertical-align:text-bottom"><path d="m.427 1.927 1.215 1.215a8.002 8.002 0 1 1-1.6 5.685.75.75 0 1 1 1.493-.154 6.5 6.5 0 1 0 1.18-4.458l1.358 1.358A.25.25 0 0 1 3.896 6H.25A.25.25 0 0 1 0 5.75V2.104a.25.25 0 0 1 .427-.177ZM7.75 4a.75.75 0 0 1 .75.75v2.992l2.028.812a.75.75 0 0 1-.557 1.392l-2.5-1A.751.751 0 0 1 7 8.25v-3.5A.75.75 0 0 1 7.75 4Z"></path></svg></span><span data-component="text" class="prc-Button-Label-pTQ3x"><span class="fgColor-default">History</span></span></span></a><div class="d-sm-none"></div><div class="d-flex d-lg-none"><span role="tooltip" aria-label="History" id="history-icon-button-tooltip" class="Tooltip__TooltipBase-sc-17tf59c-0 hWlpPn tooltipped-n"><a href="/Dong-Den/AIO-2025_Pre/commits/main/WEEK%2016_2025.5.20_KNN_Basic%2C%20Advanced%20Concepts%20and%20Its%20Applications/PRE_WEEK_16_DAY_79_Thu%E1%BA%ADt_To%C3%A1n_K_Nearest_Neighbors_(KNN)_update.ipynb" class="prc-Button-ButtonBase-c50BI LinkButton-module__code-view-link-button--xvCGA flex-items-center fgColor-default" data-loading="false" data-size="small" data-variant="invisible" aria-describedby=":R6bdal9lab:-loading-announcement history-icon-button-tooltip"><span data-component="buttonContent" data-align="center" class="prc-Button-ButtonContent-HKbr-"><span data-component="leadingVisual" class="prc-Button-Visual-2epfX prc-Button-VisualWrap-Db-eB"><svg aria-hidden="true" focusable="false" class="octicon octicon-history" viewBox="0 0 16 16" width="16" height="16" fill="currentColor" display="inline-block" overflow="visible" style="vertical-align:text-bottom"><path d="m.427 1.927 1.215 1.215a8.002 8.002 0 1 1-1.6 5.685.75.75 0 1 1 1.493-.154 6.5 6.5 0 1 0 1.18-4.458l1.358 1.358A.25.25 0 0 1 3.896 6H.25A.25.25 0 0 1 0 5.75V2.104a.25.25 0 0 1 .427-.177ZM7.75 4a.75.75 0 0 1 .75.75v2.992l2.028.812a.75.75 0 0 1-.557 1.392l-2.5-1A.751.751 0 0 1 7 8.25v-3.5A.75.75 0 0 1 7.75 4Z"></path></svg></span></span></a></span></div></div></div></div></div><div class="Box-sc-g0xbh4-0 ldRxiI"><div class="Box-sc-g0xbh4-0 fVkfyA container"><div class="Box-sc-g0xbh4-0 gNAmSV react-code-size-details-banner"><div class="react-code-size-details-banner CodeSizeDetails-module__Box--QdxnQ"><div class="text-mono CodeSizeDetails-module__Box_1--_uFDs"><div title="68.2 KB" data-testid="blob-size" class="Truncate__StyledTruncate-sc-23o1d2-0 bgsFir CodeSizeDetails-module__Truncate_1--er0Uk"><span>354 lines (354 loc) · 68.2 KB</span></div></div></div></div><div class="Box-sc-g0xbh4-0 jdLMhu react-blob-view-header-sticky" id="repos-sticky-header"><div class="BlobViewHeader-module__Box--pvsIA"><div class="react-blob-sticky-header"><div class="Box-sc-g0xbh4-0 hqwSEx"><div class="FileNameStickyHeader-module__Box_5--xBJ2J"><div class="Box-sc-g0xbh4-0 fHind"><nav data-testid="breadcrumbs" aria-labelledby="sticky-breadcrumb-heading" id="sticky-breadcrumb" class="Box-sc-g0xbh4-0 fzFXnm"><h2 class="sr-only ScreenReaderHeading-module__userSelectNone--vW4Cq prc-Heading-Heading-6CmGO" data-testid="screen-reader-heading" id="sticky-breadcrumb-heading">Breadcrumbs</h2><ol class="Box-sc-g0xbh4-0 iMnkmv"><li class="Box-sc-g0xbh4-0 ghzDag"><a class="Box-sc-g0xbh4-0 kHuKdh prc-Link-Link-85e08" sx="[object Object]" data-testid="breadcrumbs-repo-link" href="/Dong-Den/AIO-2025_Pre/tree/main">AIO-2025_Pre</a></li><li class="Box-sc-g0xbh4-0 ghzDag"><span class="Box-sc-g0xbh4-0 oDtgN prc-Text-Text-0ima0" aria-hidden="true">/</span><a class="Box-sc-g0xbh4-0 kgiVEz prc-Link-Link-85e08" sx="[object Object]" href="/Dong-Den/AIO-2025_Pre/tree/main/WEEK%2016_2025.5.20_KNN_Basic%2C%20Advanced%20Concepts%20and%20Its%20Applications">WEEK 16_2025.5.20_KNN_Basic, Advanced Concepts and Its Applications</a></li></ol></nav><div data-testid="breadcrumbs-filename" class="Box-sc-g0xbh4-0 ghzDag"><span class="Box-sc-g0xbh4-0 oDtgN prc-Text-Text-0ima0" aria-hidden="true">/</span><h1 class="Box-sc-g0xbh4-0 dnZoUW prc-Heading-Heading-6CmGO" tabindex="-1" id="sticky-file-name-id">PRE_WEEK_16_DAY_79_Thuật_Toán_K_Nearest_Neighbors_(KNN)_update.ipynb</h1></div></div><button type="button" class="prc-Button-ButtonBase-c50BI FileNameStickyHeader-module__Button--SaiiH FileNameStickyHeader-module__GoToTopButton--9lB4x" data-loading="false" data-size="small" data-variant="invisible" aria-describedby=":R4mfal9lab:-loading-announcement"><span data-component="buttonContent" data-align="center" class="prc-Button-ButtonContent-HKbr-"><span data-component="leadingVisual" class="prc-Button-Visual-2epfX prc-Button-VisualWrap-Db-eB"><svg aria-hidden="true" focusable="false" class="octicon octicon-arrow-up" viewBox="0 0 16 16" width="16" height="16" fill="currentColor" display="inline-block" overflow="visible" style="vertical-align:text-bottom"><path d="M3.47 7.78a.75.75 0 0 1 0-1.06l4.25-4.25a.75.75 0 0 1 1.06 0l4.25 4.25a.751.751 0 0 1-.018 1.042.751.751 0 0 1-1.042.018L9 4.81v7.44a.75.75 0 0 1-1.5 0V4.81L4.53 7.78a.75.75 0 0 1-1.06 0Z"></path></svg></span><span data-component="text" class="prc-Button-Label-pTQ3x">Top</span></span></button></div></div></div><div class="Box-sc-g0xbh4-0 gFKFyc BlobViewHeader-module__Box_1--PPihg"><h2 class="sr-only ScreenReaderHeading-module__userSelectNone--vW4Cq prc-Heading-Heading-6CmGO" data-testid="screen-reader-heading">File metadata and controls</h2><div class="BlobViewHeader-module__Box_2--G_jCG"><ul aria-label="File view" class="prc-SegmentedControl-SegmentedControl-e7570 BlobTabButtons-module__SegmentedControl--JMGov" data-size="small"><li class="prc-SegmentedControl-Item-7Aq6h" data-selected=""><button aria-current="true" class="prc-SegmentedControl-Button-ojWXD" type="button" style="--separator-color:transparent"><span class="prc-SegmentedControl-Content-gnQ4n segmentedControl-content"><div class="prc-SegmentedControl-Text-c5gSh segmentedControl-text" data-text="Preview">Preview</div></span></button></li><li class="prc-SegmentedControl-Item-7Aq6h"><button aria-current="false" class="prc-SegmentedControl-Button-ojWXD" type="button" style="--separator-color:var(--borderColor-default, var(--color-border-default, #d0d7de))"><span class="prc-SegmentedControl-Content-gnQ4n segmentedControl-content"><div class="prc-SegmentedControl-Text-c5gSh segmentedControl-text" data-text="Code">Code</div></span></button></li><li class="prc-SegmentedControl-Item-7Aq6h"><button aria-current="false" class="prc-SegmentedControl-Button-ojWXD" type="button" style="--separator-color:var(--borderColor-default, var(--color-border-default, #d0d7de))"><span class="prc-SegmentedControl-Content-gnQ4n segmentedControl-content"><div class="prc-SegmentedControl-Text-c5gSh segmentedControl-text" data-text="Blame">Blame</div></span></button></li></ul><button hidden="" data-testid="" data-hotkey-scope="read-only-cursor-text-area"></button><button hidden="" data-testid="" data-hotkey-scope="read-only-cursor-text-area"></button><button hidden="" data-testid="" data-hotkey-scope="read-only-cursor-text-area"></button><div class="react-code-size-details-in-header CodeSizeDetails-module__Box--QdxnQ"><div class="text-mono CodeSizeDetails-module__Box_1--_uFDs"><div title="68.2 KB" data-testid="blob-size" class="Truncate__StyledTruncate-sc-23o1d2-0 bgsFir CodeSizeDetails-module__Truncate_1--er0Uk"><span>354 lines (354 loc) · 68.2 KB</span></div></div></div></div><div class="BlobViewHeader-module__Box_3--Kvpex"><div class="Box-sc-g0xbh4-0 pr-0 prc-ButtonGroup-ButtonGroup-vcMeG"><div><button data-component="IconButton" type="button" data-testid="copilot-ask-menu" class="prc-Button-ButtonBase-c50BI AskCopilotButton-module__square--o8kDO prc-Button-IconButton-szpyj" data-loading="false" data-no-visuals="true" data-size="small" data-variant="default" aria-describedby="blob-view-header-copilot-icon-loading-announcement" aria-labelledby=":R2v6fal9lab:" id="blob-view-header-copilot-icon"><svg aria-hidden="true" focusable="false" class="octicon octicon-copilot" viewBox="0 0 16 16" width="16" height="16" fill="currentColor" display="inline-block" overflow="visible" style="vertical-align:text-bottom"><path d="M7.998 15.035c-4.562 0-7.873-2.914-7.998-3.749V9.338c.085-.628.677-1.686 1.588-2.065.013-.07.024-.143.036-.218.029-.183.06-.384.126-.612-.201-.508-.254-1.084-.254-1.656 0-.87.128-1.769.693-2.484.579-.733 1.494-1.124 2.724-1.261 1.206-.134 2.262.034 2.944.765.05.053.096.108.139.165.044-.057.094-.112.143-.165.682-.731 1.738-.899 2.944-.765 1.23.137 2.145.528 2.724 1.261.566.715.693 1.614.693 2.484 0 .572-.053 1.148-.254 1.656.066.228.098.429.126.612.012.076.024.148.037.218.924.385 1.522 1.471 1.591 2.095v1.872c0 .766-3.351 3.795-8.002 3.795Zm0-1.485c2.28 0 4.584-1.11 5.002-1.433V7.862l-.023-.116c-.49.21-1.075.291-1.727.291-1.146 0-2.059-.327-2.71-.991A3.222 3.222 0 0 1 8 6.303a3.24 3.24 0 0 1-.544.743c-.65.664-1.563.991-2.71.991-.652 0-1.236-.081-1.727-.291l-.023.116v4.255c.419.323 2.722 1.433 5.002 1.433ZM6.762 2.83c-.193-.206-.637-.413-1.682-.297-1.019.113-1.479.404-1.713.7-.247.312-.369.789-.369 1.554 0 .793.129 1.171.308 1.371.162.181.519.379 1.442.379.853 0 1.339-.235 1.638-.54.315-.322.527-.827.617-1.553.117-.935-.037-1.395-.241-1.614Zm4.155-.297c-1.044-.116-1.488.091-1.681.297-.204.219-.359.679-.242 1.614.091.726.303 1.231.618 1.553.299.305.784.54 1.638.54.922 0 1.28-.198 1.442-.379.179-.2.308-.578.308-1.371 0-.765-.123-1.242-.37-1.554-.233-.296-.693-.587-1.713-.7Z"></path><path d="M6.25 9.037a.75.75 0 0 1 .75.75v1.501a.75.75 0 0 1-1.5 0V9.787a.75.75 0 0 1 .75-.75Zm4.25.75v1.501a.75.75 0 0 1-1.5 0V9.787a.75.75 0 0 1 1.5 0Z"></path></svg></button><span class="prc-TooltipV2-Tooltip-cYMVY" data-direction="s" aria-hidden="true" id=":R2v6fal9lab:">Ask Copilot about this file</span></div><div></div></div><div class="react-blob-header-edit-and-raw-actions BlobViewHeader-module__Box_4--vFP89"><div class="Box-sc-g0xbh4-0 prc-ButtonGroup-ButtonGroup-vcMeG"><div><a href="https://github.com/Dong-Den/AIO-2025_Pre/raw/refs/heads/main/WEEK%2016_2025.5.20_KNN_Basic,%20Advanced%20Concepts%20and%20Its%20Applications/PRE_WEEK_16_DAY_79_Thu%E1%BA%ADt_To%C3%A1n_K_Nearest_Neighbors_(KNN)_update.ipynb" data-testid="raw-button" class="Box-sc-g0xbh4-0 lefpaC prc-Button-ButtonBase-c50BI BlobViewHeader-module__LinkButton--DMph4" data-loading="false" data-no-visuals="true" data-size="small" data-variant="default" aria-describedby=":R1b76fal9lab:-loading-announcement"><span data-component="buttonContent" class="Box-sc-g0xbh4-0 gUkoLg prc-Button-ButtonContent-HKbr-"><span data-component="text" class="prc-Button-Label-pTQ3x">Raw</span></span></a></div><div><button data-component="IconButton" type="button" aria-label="Copy raw content" data-testid="copy-raw-button" class="prc-Button-ButtonBase-c50BI prc-Button-IconButton-szpyj" data-loading="false" data-no-visuals="true" data-size="small" data-variant="default" aria-describedby=":R6b76fal9lab:-loading-announcement"><svg aria-hidden="true" focusable="false" class="octicon octicon-copy" viewBox="0 0 16 16" width="16" height="16" fill="currentColor" display="inline-block" overflow="visible" style="vertical-align:text-bottom"><path d="M0 6.75C0 5.784.784 5 1.75 5h1.5a.75.75 0 0 1 0 1.5h-1.5a.25.25 0 0 0-.25.25v7.5c0 .138.112.25.25.25h7.5a.25.25 0 0 0 .25-.25v-1.5a.75.75 0 0 1 1.5 0v1.5A1.75 1.75 0 0 1 9.25 16h-7.5A1.75 1.75 0 0 1 0 14.25Z"></path><path d="M5 1.75C5 .784 5.784 0 6.75 0h7.5C15.216 0 16 .784 16 1.75v7.5A1.75 1.75 0 0 1 14.25 11h-7.5A1.75 1.75 0 0 1 5 9.25Zm1.75-.25a.25.25 0 0 0-.25.25v7.5c0 .138.112.25.25.25h7.5a.25.25 0 0 0 .25-.25v-7.5a.25.25 0 0 0-.25-.25Z"></path></svg></button></div><div><span role="tooltip" aria-label="Download raw file" id=":R3b76fal9lab:" class="Tooltip__TooltipBase-sc-17tf59c-0 hWlpPn tooltipped-n"><button data-component="IconButton" type="button" aria-label="Download raw content" data-testid="download-raw-button" class="Box-sc-g0xbh4-0 ivobqY prc-Button-ButtonBase-c50BI prc-Button-IconButton-szpyj" data-loading="false" data-no-visuals="true" data-size="small" data-variant="default" aria-describedby=":R7b76fal9lab:-loading-announcement"><svg aria-hidden="true" focusable="false" class="octicon octicon-download" viewBox="0 0 16 16" width="16" height="16" fill="currentColor" display="inline-block" overflow="visible" style="vertical-align:text-bottom"><path d="M2.75 14A1.75 1.75 0 0 1 1 12.25v-2.5a.75.75 0 0 1 1.5 0v2.5c0 .138.112.25.25.25h10.5a.25.25 0 0 0 .25-.25v-2.5a.75.75 0 0 1 1.5 0v2.5A1.75 1.75 0 0 1 13.25 14Z"></path><path d="M7.25 7.689V2a.75.75 0 0 1 1.5 0v5.689l1.97-1.969a.749.749 0 1 1 1.06 1.06l-3.25 3.25a.749.749 0 0 1-1.06 0L4.22 6.78a.749.749 0 1 1 1.06-1.06l1.97 1.969Z"></path></svg></button></span></div></div><button hidden="" data-testid="raw-button-shortcut" data-hotkey-scope="read-only-cursor-text-area"></button><button hidden="" data-testid="copy-raw-button-shortcut" data-hotkey-scope="read-only-cursor-text-area"></button><button hidden="" data-testid="download-raw-button-shortcut" data-hotkey-scope="read-only-cursor-text-area"></button><a class="js-github-dev-shortcut d-none prc-Link-Link-85e08" href="https://github.dev/"></a><button hidden="" data-testid="" data-hotkey-scope="read-only-cursor-text-area"></button><a class="js-github-dev-new-tab-shortcut d-none prc-Link-Link-85e08" href="https://github.dev/" target="_blank"></a><button hidden="" data-testid="" data-hotkey-scope="read-only-cursor-text-area"></button><div class="Box-sc-g0xbh4-0 prc-ButtonGroup-ButtonGroup-vcMeG"><div><span role="tooltip" aria-label="Edit this file" id=":R1l76fal9lab:" class="Tooltip__TooltipBase-sc-17tf59c-0 hWlpPn tooltipped-nw"><a sx="[object Object]" data-component="IconButton" type="button" aria-label="Edit file" data-testid="edit-button" class="Box-sc-g0xbh4-0 iCOsHh prc-Button-ButtonBase-c50BI BlobViewHeader-module__IconButton_1--MzNlL prc-Button-IconButton-szpyj" data-loading="false" data-no-visuals="true" data-size="small" data-variant="default" aria-describedby=":R5l76fal9lab:-loading-announcement" href="/Dong-Den/AIO-2025_Pre/edit/main/WEEK%2016_2025.5.20_KNN_Basic%2C%20Advanced%20Concepts%20and%20Its%20Applications/PRE_WEEK_16_DAY_79_Thu%E1%BA%ADt_To%C3%A1n_K_Nearest_Neighbors_(KNN)_update.ipynb"><svg aria-hidden="true" focusable="false" class="octicon octicon-pencil" viewBox="0 0 16 16" width="16" height="16" fill="currentColor" display="inline-block" overflow="visible" style="vertical-align:text-bottom"><path d="M11.013 1.427a1.75 1.75 0 0 1 2.474 0l1.086 1.086a1.75 1.75 0 0 1 0 2.474l-8.61 8.61c-.21.21-.47.364-.756.445l-3.251.93a.75.75 0 0 1-.927-.928l.929-3.25c.081-.286.235-.547.445-.758l8.61-8.61Zm.176 4.823L9.75 4.81l-6.286 6.287a.253.253 0 0 0-.064.108l-.558 1.953 1.953-.558a.253.253 0 0 0 .108-.064Zm1.238-3.763a.25.25 0 0 0-.354 0L10.811 3.75l1.439 1.44 1.263-1.263a.25.25 0 0 0 0-.354Z"></path></svg></a></span></div><div><button data-component="IconButton" type="button" aria-label="More edit options" data-testid="more-edit-button" aria-haspopup="true" aria-expanded="false" tabindex="0" class="prc-Button-ButtonBase-c50BI prc-Button-IconButton-szpyj" data-loading="false" data-no-visuals="true" data-size="small" data-variant="default" aria-describedby=":R2l76fal9lab:-loading-announcement" id=":R2l76fal9lab:"><svg aria-hidden="true" focusable="false" class="octicon octicon-triangle-down" viewBox="0 0 16 16" width="16" height="16" fill="currentColor" display="inline-block" overflow="visible" style="vertical-align:text-bottom"><path d="m4.427 7.427 3.396 3.396a.25.25 0 0 0 .354 0l3.396-3.396A.25.25 0 0 0 11.396 7H4.604a.25.25 0 0 0-.177.427Z"></path></svg></button></div></div><button hidden="" data-testid="" data-hotkey="e,Shift+E" data-hotkey-scope="read-only-cursor-text-area"></button></div><div class="react-blob-header-edit-and-raw-actions-combined"><button data-component="IconButton" type="button" aria-label="Edit and raw actions" title="More file actions" data-testid="more-file-actions-button" aria-haspopup="true" aria-expanded="false" tabindex="0" class="prc-Button-ButtonBase-c50BI js-blob-dropdown-click BlobViewHeader-module__IconButton--uO1fA prc-Button-IconButton-szpyj" data-loading="false" data-no-visuals="true" data-size="small" data-variant="invisible" aria-describedby=":R5v6fal9lab:-loading-announcement" id=":R5v6fal9lab:"><svg aria-hidden="true" focusable="false" class="octicon octicon-kebab-horizontal" viewBox="0 0 16 16" width="16" height="16" fill="currentColor" display="inline-block" overflow="visible" style="vertical-align:text-bottom"><path d="M8 9a1.5 1.5 0 1 0 0-3 1.5 1.5 0 0 0 0 3ZM1.5 9a1.5 1.5 0 1 0 0-3 1.5 1.5 0 0 0 0 3Zm13 0a1.5 1.5 0 1 0 0-3 1.5 1.5 0 0 0 0 3Z"></path></svg></button></div></div></div></div><div></div></div><div class="Box-sc-g0xbh4-0 hGyMdv"><section aria-labelledby="file-name-id-wide file-name-id-mobile" class="Box-sc-g0xbh4-0 iWAocR"><!--$!--><template></template><div class="Box-sc-g0xbh4-0 fgsa-DI"><span class="prc-Spinner-Box-qNUI9"><svg height="32px" width="32px" viewBox="0 0 16 16" fill="none" aria-hidden="true" aria-label="Loading" class="prc-Spinner-SpinnerAnimation-e7Gf-"><circle cx="8" cy="8" r="7" stroke="currentColor" stroke-opacity="0.25" stroke-width="2" vector-effect="non-scaling-stroke"></circle><path d="M15 8a7.002 7.002 0 00-7-7" stroke="currentColor" stroke-width="2" stroke-linecap="round" vector-effect="non-scaling-stroke"></path></svg></span></div><!--/$--></section></div></div></div> <!-- --> <!-- --> </div></div></div></div></div></div></div><div id="find-result-marks-container" class="Box-sc-g0xbh4-0 cCoXib"></div><button hidden="" data-testid="" data-hotkey-scope="read-only-cursor-text-area"></button><button hidden=""></button></div> <!-- --> <!-- --> <script type="application/json" id="__PRIMER_DATA_:R0:__">{"resolvedServerColorMode":"day"}</script></div>
</react-app>
</turbo-frame>



  </div>

</turbo-frame>

    </main>
  </div>

  </div>

          <footer class="footer pt-8 pb-6 f6 color-fg-muted p-responsive" role="contentinfo" >
  <h2 class='sr-only'>Footer</h2>

  


  <div class="d-flex flex-justify-center flex-items-center flex-column-reverse flex-lg-row flex-wrap flex-lg-nowrap">
    <div class="d-flex flex-items-center flex-shrink-0 mx-2">
      <a aria-label="GitHub Homepage" class="footer-octicon mr-2" href="https://github.com">
        <svg aria-hidden="true" height="24" viewBox="0 0 24 24" version="1.1" width="24" data-view-component="true" class="octicon octicon-mark-github">
    <path d="M12 1C5.9225 1 1 5.9225 1 12C1 16.8675 4.14875 20.9787 8.52125 22.4362C9.07125 22.5325 9.2775 22.2025 9.2775 21.9137C9.2775 21.6525 9.26375 20.7862 9.26375 19.865C6.5 20.3737 5.785 19.1912 5.565 18.5725C5.44125 18.2562 4.905 17.28 4.4375 17.0187C4.0525 16.8125 3.5025 16.3037 4.42375 16.29C5.29 16.2762 5.90875 17.0875 6.115 17.4175C7.105 19.0812 8.68625 18.6137 9.31875 18.325C9.415 17.61 9.70375 17.1287 10.02 16.8537C7.5725 16.5787 5.015 15.63 5.015 11.4225C5.015 10.2262 5.44125 9.23625 6.1425 8.46625C6.0325 8.19125 5.6475 7.06375 6.2525 5.55125C6.2525 5.55125 7.17375 5.2625 9.2775 6.67875C10.1575 6.43125 11.0925 6.3075 12.0275 6.3075C12.9625 6.3075 13.8975 6.43125 14.7775 6.67875C16.8813 5.24875 17.8025 5.55125 17.8025 5.55125C18.4075 7.06375 18.0225 8.19125 17.9125 8.46625C18.6138 9.23625 19.04 10.2125 19.04 11.4225C19.04 15.6437 16.4688 16.5787 14.0213 16.8537C14.42 17.1975 14.7638 17.8575 14.7638 18.8887C14.7638 20.36 14.75 21.5425 14.75 21.9137C14.75 22.2025 14.9563 22.5462 15.5063 22.4362C19.8513 20.9787 23 16.8537 23 12C23 5.9225 18.0775 1 12 1Z"></path>
</svg>
</a>
      <span>
        &copy; 2025 GitHub,&nbsp;Inc.
      </span>
    </div>

    <nav aria-label="Footer">
      <h3 class="sr-only" id="sr-footer-heading">Footer navigation</h3>

      <ul class="list-style-none d-flex flex-justify-center flex-wrap mb-2 mb-lg-0" aria-labelledby="sr-footer-heading">

          <li class="mx-2">
            <a data-analytics-event="{&quot;category&quot;:&quot;Footer&quot;,&quot;action&quot;:&quot;go to Terms&quot;,&quot;label&quot;:&quot;text:terms&quot;}" href="https://docs.github.com/site-policy/github-terms/github-terms-of-service" data-view-component="true" class="Link--secondary Link">Terms</a>
          </li>

          <li class="mx-2">
            <a data-analytics-event="{&quot;category&quot;:&quot;Footer&quot;,&quot;action&quot;:&quot;go to privacy&quot;,&quot;label&quot;:&quot;text:privacy&quot;}" href="https://docs.github.com/site-policy/privacy-policies/github-privacy-statement" data-view-component="true" class="Link--secondary Link">Privacy</a>
          </li>

          <li class="mx-2">
            <a data-analytics-event="{&quot;category&quot;:&quot;Footer&quot;,&quot;action&quot;:&quot;go to security&quot;,&quot;label&quot;:&quot;text:security&quot;}" href="https://github.com/security" data-view-component="true" class="Link--secondary Link">Security</a>
          </li>

          <li class="mx-2">
            <a data-analytics-event="{&quot;category&quot;:&quot;Footer&quot;,&quot;action&quot;:&quot;go to status&quot;,&quot;label&quot;:&quot;text:status&quot;}" href="https://www.githubstatus.com/" data-view-component="true" class="Link--secondary Link">Status</a>
          </li>

          <li class="mx-2">
            <a data-analytics-event="{&quot;category&quot;:&quot;Footer&quot;,&quot;action&quot;:&quot;go to docs&quot;,&quot;label&quot;:&quot;text:docs&quot;}" href="https://docs.github.com/" data-view-component="true" class="Link--secondary Link">Docs</a>
          </li>

          <li class="mx-2">
            <a data-analytics-event="{&quot;category&quot;:&quot;Footer&quot;,&quot;action&quot;:&quot;go to contact&quot;,&quot;label&quot;:&quot;text:contact&quot;}" href="https://support.github.com?tags=dotcom-footer" data-view-component="true" class="Link--secondary Link">Contact</a>
          </li>

          <li class="mx-2" >
  <cookie-consent-link>
    <button
      type="button"
      class="Link--secondary underline-on-hover border-0 p-0 color-bg-transparent"
      data-action="click:cookie-consent-link#showConsentManagement"
      data-analytics-event="{&quot;location&quot;:&quot;footer&quot;,&quot;action&quot;:&quot;cookies&quot;,&quot;context&quot;:&quot;subfooter&quot;,&quot;tag&quot;:&quot;link&quot;,&quot;label&quot;:&quot;cookies_link_subfooter_footer&quot;}"
    >
      Manage cookies
    </button>
  </cookie-consent-link>
</li>

<li class="mx-2">
  <cookie-consent-link>
    <button
      type="button"
      class="Link--secondary underline-on-hover border-0 p-0 color-bg-transparent"
      data-action="click:cookie-consent-link#showConsentManagement"
      data-analytics-event="{&quot;location&quot;:&quot;footer&quot;,&quot;action&quot;:&quot;dont_share_info&quot;,&quot;context&quot;:&quot;subfooter&quot;,&quot;tag&quot;:&quot;link&quot;,&quot;label&quot;:&quot;dont_share_info_link_subfooter_footer&quot;}"
    >
      Do not share my personal information
    </button>
  </cookie-consent-link>
</li>

      </ul>
    </nav>
  </div>
</footer>



    <ghcc-consent id="ghcc" class="position-fixed bottom-0 left-0" style="z-index: 999999" data-initial-cookie-consent-allowed="" data-cookie-consent-required="false"></ghcc-consent>



  <div id="ajax-error-message" class="ajax-error-message flash flash-error" hidden>
    <svg aria-hidden="true" height="16" viewBox="0 0 16 16" version="1.1" width="16" data-view-component="true" class="octicon octicon-alert">
    <path d="M6.457 1.047c.659-1.234 2.427-1.234 3.086 0l6.082 11.378A1.75 1.75 0 0 1 14.082 15H1.918a1.75 1.75 0 0 1-1.543-2.575Zm1.763.707a.25.25 0 0 0-.44 0L1.698 13.132a.25.25 0 0 0 .22.368h12.164a.25.25 0 0 0 .22-.368Zm.53 3.996v2.5a.75.75 0 0 1-1.5 0v-2.5a.75.75 0 0 1 1.5 0ZM9 11a1 1 0 1 1-2 0 1 1 0 0 1 2 0Z"></path>
</svg>
    <button type="button" class="flash-close js-ajax-error-dismiss" aria-label="Dismiss error">
      <svg aria-hidden="true" height="16" viewBox="0 0 16 16" version="1.1" width="16" data-view-component="true" class="octicon octicon-x">
    <path d="M3.72 3.72a.75.75 0 0 1 1.06 0L8 6.94l3.22-3.22a.749.749 0 0 1 1.275.326.749.749 0 0 1-.215.734L9.06 8l3.22 3.22a.749.749 0 0 1-.326 1.275.749.749 0 0 1-.734-.215L8 9.06l-3.22 3.22a.751.751 0 0 1-1.042-.018.751.751 0 0 1-.018-1.042L6.94 8 3.72 4.78a.75.75 0 0 1 0-1.06Z"></path>
</svg>
    </button>
    You can’t perform that action at this time.
  </div>

    <template id="site-details-dialog">
  <details class="details-reset details-overlay details-overlay-dark lh-default color-fg-default hx_rsm" open>
    <summary role="button" aria-label="Close dialog"></summary>
    <details-dialog class="Box Box--overlay d-flex flex-column anim-fade-in fast hx_rsm-dialog hx_rsm-modal">
      <button class="Box-btn-octicon m-0 btn-octicon position-absolute right-0 top-0" type="button" aria-label="Close dialog" data-close-dialog>
        <svg aria-hidden="true" height="16" viewBox="0 0 16 16" version="1.1" width="16" data-view-component="true" class="octicon octicon-x">
    <path d="M3.72 3.72a.75.75 0 0 1 1.06 0L8 6.94l3.22-3.22a.749.749 0 0 1 1.275.326.749.749 0 0 1-.215.734L9.06 8l3.22 3.22a.749.749 0 0 1-.326 1.275.749.749 0 0 1-.734-.215L8 9.06l-3.22 3.22a.751.751 0 0 1-1.042-.018.751.751 0 0 1-.018-1.042L6.94 8 3.72 4.78a.75.75 0 0 1 0-1.06Z"></path>
</svg>
      </button>
      <div class="octocat-spinner my-6 js-details-dialog-spinner"></div>
    </details-dialog>
  </details>
</template>

    <div class="Popover js-hovercard-content position-absolute" style="display: none; outline: none;">
  <div class="Popover-message Popover-message--bottom-left Popover-message--large Box color-shadow-large" style="width:360px;">
  </div>
</div>

    <template id="snippet-clipboard-copy-button">
  <div class="zeroclipboard-container position-absolute right-0 top-0">
    <clipboard-copy aria-label="Copy" class="ClipboardButton btn js-clipboard-copy m-2 p-0" data-copy-feedback="Copied!" data-tooltip-direction="w">
      <svg aria-hidden="true" height="16" viewBox="0 0 16 16" version="1.1" width="16" data-view-component="true" class="octicon octicon-copy js-clipboard-copy-icon m-2">
    <path d="M0 6.75C0 5.784.784 5 1.75 5h1.5a.75.75 0 0 1 0 1.5h-1.5a.25.25 0 0 0-.25.25v7.5c0 .138.112.25.25.25h7.5a.25.25 0 0 0 .25-.25v-1.5a.75.75 0 0 1 1.5 0v1.5A1.75 1.75 0 0 1 9.25 16h-7.5A1.75 1.75 0 0 1 0 14.25Z"></path><path d="M5 1.75C5 .784 5.784 0 6.75 0h7.5C15.216 0 16 .784 16 1.75v7.5A1.75 1.75 0 0 1 14.25 11h-7.5A1.75 1.75 0 0 1 5 9.25Zm1.75-.25a.25.25 0 0 0-.25.25v7.5c0 .138.112.25.25.25h7.5a.25.25 0 0 0 .25-.25v-7.5a.25.25 0 0 0-.25-.25Z"></path>
</svg>
      <svg aria-hidden="true" height="16" viewBox="0 0 16 16" version="1.1" width="16" data-view-component="true" class="octicon octicon-check js-clipboard-check-icon color-fg-success d-none m-2">
    <path d="M13.78 4.22a.75.75 0 0 1 0 1.06l-7.25 7.25a.75.75 0 0 1-1.06 0L2.22 9.28a.751.751 0 0 1 .018-1.042.751.751 0 0 1 1.042-.018L6 10.94l6.72-6.72a.75.75 0 0 1 1.06 0Z"></path>
</svg>
    </clipboard-copy>
  </div>
</template>
<template id="snippet-clipboard-copy-button-unpositioned">
  <div class="zeroclipboard-container">
    <clipboard-copy aria-label="Copy" class="ClipboardButton btn btn-invisible js-clipboard-copy m-2 p-0 d-flex flex-justify-center flex-items-center" data-copy-feedback="Copied!" data-tooltip-direction="w">
      <svg aria-hidden="true" height="16" viewBox="0 0 16 16" version="1.1" width="16" data-view-component="true" class="octicon octicon-copy js-clipboard-copy-icon">
    <path d="M0 6.75C0 5.784.784 5 1.75 5h1.5a.75.75 0 0 1 0 1.5h-1.5a.25.25 0 0 0-.25.25v7.5c0 .138.112.25.25.25h7.5a.25.25 0 0 0 .25-.25v-1.5a.75.75 0 0 1 1.5 0v1.5A1.75 1.75 0 0 1 9.25 16h-7.5A1.75 1.75 0 0 1 0 14.25Z"></path><path d="M5 1.75C5 .784 5.784 0 6.75 0h7.5C15.216 0 16 .784 16 1.75v7.5A1.75 1.75 0 0 1 14.25 11h-7.5A1.75 1.75 0 0 1 5 9.25Zm1.75-.25a.25.25 0 0 0-.25.25v7.5c0 .138.112.25.25.25h7.5a.25.25 0 0 0 .25-.25v-7.5a.25.25 0 0 0-.25-.25Z"></path>
</svg>
      <svg aria-hidden="true" height="16" viewBox="0 0 16 16" version="1.1" width="16" data-view-component="true" class="octicon octicon-check js-clipboard-check-icon color-fg-success d-none">
    <path d="M13.78 4.22a.75.75 0 0 1 0 1.06l-7.25 7.25a.75.75 0 0 1-1.06 0L2.22 9.28a.751.751 0 0 1 .018-1.042.751.751 0 0 1 1.042-.018L6 10.94l6.72-6.72a.75.75 0 0 1 1.06 0Z"></path>
</svg>
    </clipboard-copy>
  </div>
</template>


    <style>
      .user-mention[href$="/Dong-Den"] {
        color: var(--color-user-mention-fg);
        background-color: var(--bgColor-attention-muted, var(--color-attention-subtle));
        border-radius: 2px;
        margin-left: -2px;
        margin-right: -2px;
      }
      .user-mention[href$="/Dong-Den"]:before,
      .user-mention[href$="/Dong-Den"]:after {
        content: '';
        display: inline-block;
        width: 2px;
      }
    </style>


    </div>

    <div id="js-global-screen-reader-notice" class="sr-only mt-n1" aria-live="polite" aria-atomic="true" ></div>
    <div id="js-global-screen-reader-notice-assertive" class="sr-only mt-n1" aria-live="assertive" aria-atomic="true"></div>
  </body>
</html>

