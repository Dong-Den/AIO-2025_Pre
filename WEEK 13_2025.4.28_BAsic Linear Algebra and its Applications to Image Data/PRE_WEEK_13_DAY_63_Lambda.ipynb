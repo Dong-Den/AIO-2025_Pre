{
  "nbformat": 4,
  "nbformat_minor": 0,
  "metadata": {
    "colab": {
      "provenance": []
    },
    "kernelspec": {
      "name": "python3",
      "display_name": "Python 3"
    },
    "language_info": {
      "name": "python"
    }
  },
  "cells": [
    {
      "cell_type": "code",
      "execution_count": null,
      "metadata": {
        "id": "rUDoTaltkYCb"
      },
      "outputs": [],
      "source": []
    },
    {
      "cell_type": "code",
      "source": [
        "# Bài 1\n",
        "# Tạo một hàm lambda tính bình phương một số.\n",
        "# Input: 4 Output: 16\n",
        "\n",
        "square = lambda x: x ** 2\n",
        "print(square(4))"
      ],
      "metadata": {
        "colab": {
          "base_uri": "https://localhost:8080/"
        },
        "id": "ZqNvZxr15ZQB",
        "outputId": "736c7fea-d888-45d2-9e7c-bfd819925f3c"
      },
      "execution_count": null,
      "outputs": [
        {
          "output_type": "stream",
          "name": "stdout",
          "text": [
            "16\n"
          ]
        }
      ]
    },
    {
      "cell_type": "code",
      "source": [
        "# Bài 2\n",
        "# Tạo hàm lambda kiểm tra xem một số có lớn hơn 10 không.\n",
        "# Input: 15 Output: True\n",
        "\n",
        "be_greater_than_10 = lambda x: x > 10\n",
        "print(be_greater_than_10(15))"
      ],
      "metadata": {
        "colab": {
          "base_uri": "https://localhost:8080/"
        },
        "id": "95q-eu4v5sYI",
        "outputId": "334ff590-5704-4cc4-e008-9e2877c60f4a"
      },
      "execution_count": null,
      "outputs": [
        {
          "output_type": "stream",
          "name": "stdout",
          "text": [
            "True\n"
          ]
        }
      ]
    },
    {
      "cell_type": "code",
      "source": [
        "# Bài 3\n",
        "# Dùng map và lambda để nhân đôi từng phần tử trong list [1, 3, 5, 7].\n",
        "# Output: [2, 6, 10, 14]\n",
        "\n",
        "numbers= [1,3,5,7]\n",
        "double_numbers = list(map(lambda x: x * 2, numbers))\n",
        "print(double_numbers)"
      ],
      "metadata": {
        "colab": {
          "base_uri": "https://localhost:8080/"
        },
        "id": "0Tb-VKOdK-ww",
        "outputId": "f5daa44c-b6f1-4554-ed25-07bac7d1653b"
      },
      "execution_count": null,
      "outputs": [
        {
          "output_type": "stream",
          "name": "stdout",
          "text": [
            "[2, 6, 10, 14]\n"
          ]
        }
      ]
    },
    {
      "cell_type": "code",
      "source": [
        "# Bài 4\n",
        "# Dùng filter và lambda để lọc các số chẵn từ list [1, 2, 3, 4, 5, 6].\n",
        "# Output: [2, 4, 6]\n",
        "numbers = [1, 2, 3, 4, 5, 6]\n",
        "even_numbers = list(filter(lambda x: x % 2 == 0, numbers))\n",
        "print(even_numbers)"
      ],
      "metadata": {
        "colab": {
          "base_uri": "https://localhost:8080/"
        },
        "id": "6ESNzb5_Lc9H",
        "outputId": "2688a116-27b2-4a76-aac4-b4f973709c9a"
      },
      "execution_count": null,
      "outputs": [
        {
          "output_type": "stream",
          "name": "stdout",
          "text": [
            "[2, 4, 6]\n"
          ]
        }
      ]
    },
    {
      "cell_type": "code",
      "source": [
        "# Bài 5\n",
        "# Sắp xếp danh sách các tuple theo phần tử thứ hai dùng lambda\n",
        "# students = [( ’John ’, 80) , (’Jane ’, 95) , (’Dave ’, 90)]\n",
        "# Kết quả mong muốn:\n",
        "# students = [( ’John ’, 80) , (’Jane ’, 95) , (’Dave ’, 90)]\n",
        "\n",
        "students = [('John', 80), ('Jane', 95), ('Dave', 90)]\n",
        "sorted_students = sorted(students, key=lambda x: x[1])\n",
        "print(sorted_students)"
      ],
      "metadata": {
        "colab": {
          "base_uri": "https://localhost:8080/"
        },
        "id": "QxwzWxTeL2Hc",
        "outputId": "ec986d45-05e2-4233-8087-6ba7058ace25"
      },
      "execution_count": null,
      "outputs": [
        {
          "output_type": "stream",
          "name": "stdout",
          "text": [
            "[('John', 80), ('Dave', 90), ('Jane', 95)]\n"
          ]
        }
      ]
    },
    {
      "cell_type": "code",
      "source": [
        "# Bài 6\n",
        "# Viết hàm calculator nhận vào một phép toán (’+’, ’-’, ’*’, ’/’) và trả về một hàm\n",
        "# lambda thực hiện phép toán đó.\n",
        "# Ví dụ: add = calculator (’+’)\n",
        "# print (add (3, 4)) # Output : 7\n",
        "\n",
        "def calculator(operator):\n",
        "    if operator == '+':\n",
        "        return lambda x, y: x + y\n",
        "    elif operator == '-':\n",
        "        return lambda x, y: x - y\n",
        "    elif operator == '*':\n",
        "        return lambda x, y: x * y\n",
        "    elif operator == '/':\n",
        "        return lambda x, y: x / y\n",
        "    else:\n",
        "        return None\n",
        "\n",
        "add = calculator('+')\n",
        "print(add(3, 4))\n",
        "\n",
        "subtraction = calculator('-')\n",
        "print(subtraction(3, 4))\n",
        "\n",
        "multiplication = calculator('*')\n",
        "print(multiplication(3, 4))\n",
        "\n",
        "division = calculator('/')\n",
        "print(division(3, 4))"
      ],
      "metadata": {
        "colab": {
          "base_uri": "https://localhost:8080/"
        },
        "id": "P1SnEepKNclb",
        "outputId": "c63c77ec-3a4f-4d45-c6e6-9906989535be"
      },
      "execution_count": null,
      "outputs": [
        {
          "output_type": "stream",
          "name": "stdout",
          "text": [
            "7\n",
            "-1\n",
            "12\n",
            "0.75\n"
          ]
        }
      ]
    }
  ]
}